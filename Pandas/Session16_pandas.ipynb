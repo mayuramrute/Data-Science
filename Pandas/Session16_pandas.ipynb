{
 "cells": [
  {
   "cell_type": "markdown",
   "id": "886db35e-9d1a-4740-810e-009e6cc9d990",
   "metadata": {},
   "source": [
    "# Series in Pandas"
   ]
  },
  {
   "cell_type": "code",
   "execution_count": 1,
   "id": "d9b617f9-2940-4cb5-a140-2ea8dda5fc08",
   "metadata": {},
   "outputs": [],
   "source": [
    "import numpy as np\n",
    "import pandas as pd"
   ]
  },
  {
   "cell_type": "raw",
   "id": "48056326-db9b-411a-96e6-b092b566fe51",
   "metadata": {},
   "source": [
    "pandas is a fast, powerfull, flexible and easy to use open source data analysis and mainupulation  tool which is bulid onthe top of python programming language"
   ]
  },
  {
   "cell_type": "raw",
   "id": "7589849f-84a9-4dd4-9a14-51acb5a353fc",
   "metadata": {},
   "source": [
    "Series in the pandas is just like a column in the table which holds any type of data in 1-D array(attribute, variable)"
   ]
  },
  {
   "cell_type": "markdown",
   "id": "82d00b07-b6e9-41f3-b763-1c3190b9bc2d",
   "metadata": {},
   "source": [
    "## creating the series "
   ]
  },
  {
   "cell_type": "code",
   "execution_count": 2,
   "id": "44557cfa-84c2-4cc9-8cd5-8210f5324cb7",
   "metadata": {},
   "outputs": [],
   "source": [
    "# using list"
   ]
  },
  {
   "cell_type": "code",
   "execution_count": 3,
   "id": "162e054c-e668-42e4-b569-30453adf6817",
   "metadata": {},
   "outputs": [
    {
     "data": {
      "text/plain": [
       "0    1\n",
       "1    2\n",
       "2    3\n",
       "3    4\n",
       "4    5\n",
       "dtype: int64"
      ]
     },
     "execution_count": 3,
     "metadata": {},
     "output_type": "execute_result"
    }
   ],
   "source": [
    "num = [1,2,3,4,5]\n",
    "pd.Series(num)"
   ]
  },
  {
   "cell_type": "code",
   "execution_count": 4,
   "id": "f8b221a7-b45a-4d66-a001-e2b23b52ab64",
   "metadata": {},
   "outputs": [
    {
     "data": {
      "text/plain": [
       "0      Java\n",
       "1    Python\n",
       "2         C\n",
       "3       C++\n",
       "4       PHP\n",
       "dtype: object"
      ]
     },
     "execution_count": 4,
     "metadata": {},
     "output_type": "execute_result"
    }
   ],
   "source": [
    "language = ['Java','Python', 'C','C++', 'PHP']\n",
    "pd.Series(language)"
   ]
  },
  {
   "cell_type": "raw",
   "id": "975eaf6b-1963-428e-9cc5-aa3404df60b1",
   "metadata": {},
   "source": [
    "by default idexing is given to the series in Pandas as start from 0 to number of items-1 \n",
    "we can assign the user defined index to the series "
   ]
  },
  {
   "cell_type": "code",
   "execution_count": 5,
   "id": "e91310a6-ea7c-4de7-90c6-4778cb5610fe",
   "metadata": {},
   "outputs": [
    {
     "data": {
      "text/plain": [
       "1      Java\n",
       "2    Python\n",
       "3         C\n",
       "4       C++\n",
       "5       PHP\n",
       "dtype: object"
      ]
     },
     "execution_count": 5,
     "metadata": {},
     "output_type": "execute_result"
    }
   ],
   "source": [
    "# custom index\n",
    "pd.Series(language, index = num)   # here we set the index parameter as another array"
   ]
  },
  {
   "cell_type": "code",
   "execution_count": 6,
   "id": "b4db95f0-22f1-40fc-8d48-a124baf3c749",
   "metadata": {},
   "outputs": [],
   "source": [
    "marks = [67, 57, 89, 100]\n",
    "subject = ['Math', 'English', 'Science', 'Hindi']"
   ]
  },
  {
   "cell_type": "code",
   "execution_count": 7,
   "id": "824bf946-52f8-4b42-a923-e8f7338d847d",
   "metadata": {},
   "outputs": [
    {
     "data": {
      "text/plain": [
       "Math        67\n",
       "English     57\n",
       "Science     89\n",
       "Hindi      100\n",
       "Name: It is Pandas Serie Demo, dtype: int64"
      ]
     },
     "execution_count": 7,
     "metadata": {},
     "output_type": "execute_result"
    }
   ],
   "source": [
    "pd.Series(marks, index = subject, name='It is Pandas Serie Demo')"
   ]
  },
  {
   "cell_type": "markdown",
   "id": "5a1ac1ee-7388-43ee-8791-e967b4ff5dfd",
   "metadata": {},
   "source": [
    "### Series from dictionary"
   ]
  },
  {
   "cell_type": "code",
   "execution_count": 8,
   "id": "986ead38-89e4-44b1-b6d0-85e0d265386d",
   "metadata": {},
   "outputs": [],
   "source": [
    "marks = {'maths': 100,\n",
    "        'English': 80,\n",
    "        'Hindi': 81,\n",
    "        'SS':85,\n",
    "        'Science':99}"
   ]
  },
  {
   "cell_type": "code",
   "execution_count": 9,
   "id": "38d8381a-30ff-4a4b-81b5-5d582c356dff",
   "metadata": {},
   "outputs": [
    {
     "data": {
      "text/plain": [
       "{'maths': 100, 'English': 80, 'Hindi': 81, 'SS': 85, 'Science': 99}"
      ]
     },
     "execution_count": 9,
     "metadata": {},
     "output_type": "execute_result"
    }
   ],
   "source": [
    "marks"
   ]
  },
  {
   "cell_type": "code",
   "execution_count": 10,
   "id": "687b1196-1a33-4f03-9d82-d3f8c132ea15",
   "metadata": {},
   "outputs": [],
   "source": [
    "marks_series=pd.Series(marks, name='It is a Series demo')               # will Set the keys as a index and values as values "
   ]
  },
  {
   "cell_type": "code",
   "execution_count": 11,
   "id": "9a56f7fe-fa72-411a-a946-140d296139e4",
   "metadata": {},
   "outputs": [
    {
     "data": {
      "text/plain": [
       "maths      100\n",
       "English     80\n",
       "Hindi       81\n",
       "SS          85\n",
       "Science     99\n",
       "Name: It is a Series demo, dtype: int64"
      ]
     },
     "execution_count": 11,
     "metadata": {},
     "output_type": "execute_result"
    }
   ],
   "source": [
    "marks_series"
   ]
  },
  {
   "cell_type": "code",
   "execution_count": 12,
   "id": "a1487f52-c8d1-4f07-9a67-22be1a9b97e1",
   "metadata": {},
   "outputs": [
    {
     "data": {
      "text/plain": [
       "0     13\n",
       "1     24\n",
       "2     57\n",
       "3     89\n",
       "4    100\n",
       "Name: Cricket Score, dtype: int64"
      ]
     },
     "execution_count": 12,
     "metadata": {},
     "output_type": "execute_result"
    }
   ],
   "source": [
    "runs = [13, 24, 57, 89, 100]\n",
    "run_series = pd.Series(runs, name = 'Cricket Score')\n",
    "run_series"
   ]
  },
  {
   "cell_type": "markdown",
   "id": "45b39533-b18e-4a5e-9f3e-aa8811de8ff4",
   "metadata": {},
   "source": [
    "## Series Attributes "
   ]
  },
  {
   "cell_type": "code",
   "execution_count": 13,
   "id": "41f2cd08-bff5-429e-b0ca-57cdcc6d5051",
   "metadata": {},
   "outputs": [
    {
     "data": {
      "text/plain": [
       "5"
      ]
     },
     "execution_count": 13,
     "metadata": {},
     "output_type": "execute_result"
    }
   ],
   "source": [
    "# size\n",
    "\n",
    "run_series.size     # gives the number of items present in the list will count the null values also"
   ]
  },
  {
   "cell_type": "code",
   "execution_count": 14,
   "id": "7ab57b6f-fab6-4e96-811b-c15a47fc5ce9",
   "metadata": {},
   "outputs": [
    {
     "data": {
      "text/plain": [
       "5"
      ]
     },
     "execution_count": 14,
     "metadata": {},
     "output_type": "execute_result"
    }
   ],
   "source": [
    "marks_series.size"
   ]
  },
  {
   "cell_type": "code",
   "execution_count": 15,
   "id": "a535bae5-8e7a-430a-94e4-b48e8d7a4411",
   "metadata": {},
   "outputs": [
    {
     "data": {
      "text/plain": [
       "dtype('int64')"
      ]
     },
     "execution_count": 15,
     "metadata": {},
     "output_type": "execute_result"
    }
   ],
   "source": [
    "# dtype\n",
    "\n",
    "run_series.dtype    # gives the size of each object occupied in the memory"
   ]
  },
  {
   "cell_type": "code",
   "execution_count": 16,
   "id": "e15a088d-1c75-4bc0-b65c-2a5e6480e608",
   "metadata": {},
   "outputs": [
    {
     "data": {
      "text/plain": [
       "dtype('int64')"
      ]
     },
     "execution_count": 16,
     "metadata": {},
     "output_type": "execute_result"
    }
   ],
   "source": [
    "marks_series.dtype"
   ]
  },
  {
   "cell_type": "code",
   "execution_count": 17,
   "id": "bec4b530-4999-4973-a0e5-293407b670ef",
   "metadata": {},
   "outputs": [
    {
     "data": {
      "text/plain": [
       "0      Java\n",
       "1    Python\n",
       "2         C\n",
       "3       C++\n",
       "4       PHP\n",
       "dtype: object"
      ]
     },
     "execution_count": 17,
     "metadata": {},
     "output_type": "execute_result"
    }
   ],
   "source": [
    "language_series = pd.Series(language)\n",
    "language_series"
   ]
  },
  {
   "cell_type": "code",
   "execution_count": 18,
   "id": "d1fff797-d145-4a1d-87d3-876c4611b4ea",
   "metadata": {},
   "outputs": [
    {
     "data": {
      "text/plain": [
       "dtype('O')"
      ]
     },
     "execution_count": 18,
     "metadata": {},
     "output_type": "execute_result"
    }
   ],
   "source": [
    "language_series.dtype      # 99% the dtype of stiring is object only in pandas"
   ]
  },
  {
   "cell_type": "code",
   "execution_count": 19,
   "id": "1c689c14-0d54-49c2-b364-bc053ca57805",
   "metadata": {},
   "outputs": [
    {
     "data": {
      "text/plain": [
       "'Cricket Score'"
      ]
     },
     "execution_count": 19,
     "metadata": {},
     "output_type": "execute_result"
    }
   ],
   "source": [
    "# name of the series\n",
    "\n",
    "run_series.name          # gives the names parameter value "
   ]
  },
  {
   "cell_type": "code",
   "execution_count": 20,
   "id": "f6bd85d6-ec25-427c-9458-891c4e01dec1",
   "metadata": {},
   "outputs": [
    {
     "data": {
      "text/plain": [
       "'It is a Series demo'"
      ]
     },
     "execution_count": 20,
     "metadata": {},
     "output_type": "execute_result"
    }
   ],
   "source": [
    "marks_series.name        # Name of the series   "
   ]
  },
  {
   "cell_type": "code",
   "execution_count": 21,
   "id": "c144a174-7a43-4eb2-8f67-4748cb5c1d64",
   "metadata": {},
   "outputs": [
    {
     "data": {
      "text/plain": [
       "False"
      ]
     },
     "execution_count": 21,
     "metadata": {},
     "output_type": "execute_result"
    }
   ],
   "source": [
    "# is_unique   cheks if all items are unique or not gives bool value\n",
    "pd.Series([1,1,22,3,3,33]).is_unique"
   ]
  },
  {
   "cell_type": "code",
   "execution_count": 22,
   "id": "4eed2c51-be2e-4b06-b4fd-4d6e60c75747",
   "metadata": {},
   "outputs": [
    {
     "data": {
      "text/plain": [
       "True"
      ]
     },
     "execution_count": 22,
     "metadata": {},
     "output_type": "execute_result"
    }
   ],
   "source": [
    "marks_series.is_unique"
   ]
  },
  {
   "cell_type": "code",
   "execution_count": 23,
   "id": "4489d43b-0397-4ea6-a568-33e4950463f4",
   "metadata": {},
   "outputs": [
    {
     "data": {
      "text/plain": [
       "RangeIndex(start=0, stop=5, step=1)"
      ]
     },
     "execution_count": 23,
     "metadata": {},
     "output_type": "execute_result"
    }
   ],
   "source": [
    "# index   give the list of index in series \n",
    "run_series.index          # gives the RangeIndex Object "
   ]
  },
  {
   "cell_type": "code",
   "execution_count": 24,
   "id": "6a3a9883-17eb-4d9e-922c-2e7d2329f110",
   "metadata": {},
   "outputs": [
    {
     "data": {
      "text/plain": [
       "Index(['maths', 'English', 'Hindi', 'SS', 'Science'], dtype='object')"
      ]
     },
     "execution_count": 24,
     "metadata": {},
     "output_type": "execute_result"
    }
   ],
   "source": [
    "marks_series.index        # gives the Index object having list of all index of series "
   ]
  },
  {
   "cell_type": "code",
   "execution_count": 25,
   "id": "9635e120-de1a-4b9b-85cf-450c4b816cc7",
   "metadata": {},
   "outputs": [
    {
     "data": {
      "text/plain": [
       "array([100,  80,  81,  85,  99])"
      ]
     },
     "execution_count": 25,
     "metadata": {},
     "output_type": "execute_result"
    }
   ],
   "source": [
    "# values\n",
    "\n",
    "marks_series.values"
   ]
  },
  {
   "cell_type": "markdown",
   "id": "fcb95984-f290-4cfd-b0d4-a6d932ef2658",
   "metadata": {},
   "source": [
    "## Series using read_csv"
   ]
  },
  {
   "cell_type": "code",
   "execution_count": 26,
   "id": "b4576e13-1f26-48af-ad89-e5f9eee60e69",
   "metadata": {},
   "outputs": [
    {
     "data": {
      "text/html": [
       "<div>\n",
       "<style scoped>\n",
       "    .dataframe tbody tr th:only-of-type {\n",
       "        vertical-align: middle;\n",
       "    }\n",
       "\n",
       "    .dataframe tbody tr th {\n",
       "        vertical-align: top;\n",
       "    }\n",
       "\n",
       "    .dataframe thead th {\n",
       "        text-align: right;\n",
       "    }\n",
       "</style>\n",
       "<table border=\"1\" class=\"dataframe\">\n",
       "  <thead>\n",
       "    <tr style=\"text-align: right;\">\n",
       "      <th></th>\n",
       "      <th>Subscribers gained</th>\n",
       "    </tr>\n",
       "  </thead>\n",
       "  <tbody>\n",
       "    <tr>\n",
       "      <th>0</th>\n",
       "      <td>48</td>\n",
       "    </tr>\n",
       "    <tr>\n",
       "      <th>1</th>\n",
       "      <td>57</td>\n",
       "    </tr>\n",
       "    <tr>\n",
       "      <th>2</th>\n",
       "      <td>40</td>\n",
       "    </tr>\n",
       "    <tr>\n",
       "      <th>3</th>\n",
       "      <td>43</td>\n",
       "    </tr>\n",
       "    <tr>\n",
       "      <th>4</th>\n",
       "      <td>44</td>\n",
       "    </tr>\n",
       "    <tr>\n",
       "      <th>...</th>\n",
       "      <td>...</td>\n",
       "    </tr>\n",
       "    <tr>\n",
       "      <th>360</th>\n",
       "      <td>231</td>\n",
       "    </tr>\n",
       "    <tr>\n",
       "      <th>361</th>\n",
       "      <td>226</td>\n",
       "    </tr>\n",
       "    <tr>\n",
       "      <th>362</th>\n",
       "      <td>155</td>\n",
       "    </tr>\n",
       "    <tr>\n",
       "      <th>363</th>\n",
       "      <td>144</td>\n",
       "    </tr>\n",
       "    <tr>\n",
       "      <th>364</th>\n",
       "      <td>172</td>\n",
       "    </tr>\n",
       "  </tbody>\n",
       "</table>\n",
       "<p>365 rows × 1 columns</p>\n",
       "</div>"
      ],
      "text/plain": [
       "     Subscribers gained\n",
       "0                    48\n",
       "1                    57\n",
       "2                    40\n",
       "3                    43\n",
       "4                    44\n",
       "..                  ...\n",
       "360                 231\n",
       "361                 226\n",
       "362                 155\n",
       "363                 144\n",
       "364                 172\n",
       "\n",
       "[365 rows x 1 columns]"
      ]
     },
     "execution_count": 26,
     "metadata": {},
     "output_type": "execute_result"
    }
   ],
   "source": [
    "subs = pd.read_csv('Session_16_dataset/subs.csv')\n",
    "subs"
   ]
  },
  {
   "cell_type": "code",
   "execution_count": 27,
   "id": "42798510-7ad6-4f2c-a3a4-315d2ee37776",
   "metadata": {},
   "outputs": [
    {
     "data": {
      "text/plain": [
       "pandas.core.frame.DataFrame"
      ]
     },
     "execution_count": 27,
     "metadata": {},
     "output_type": "execute_result"
    }
   ],
   "source": [
    "type(subs)                # when we import datset it takes as a DataFrame in pandas   "
   ]
  },
  {
   "cell_type": "code",
   "execution_count": 28,
   "id": "a1650312-a85a-4e71-9eb8-7a4ba868334f",
   "metadata": {},
   "outputs": [],
   "source": [
    "df = pd.read_csv('Session_16_dataset/subs.csv')"
   ]
  },
  {
   "cell_type": "code",
   "execution_count": 29,
   "id": "ca7a9574-deb7-495f-9f97-b0b76fb54aa1",
   "metadata": {},
   "outputs": [
    {
     "data": {
      "text/plain": [
       "0       48\n",
       "1       57\n",
       "2       40\n",
       "3       43\n",
       "4       44\n",
       "      ... \n",
       "360    231\n",
       "361    226\n",
       "362    155\n",
       "363    144\n",
       "364    172\n",
       "Name: Subscribers gained, Length: 365, dtype: int64"
      ]
     },
     "execution_count": 29,
     "metadata": {},
     "output_type": "execute_result"
    }
   ],
   "source": [
    "subs = df.squeeze()            # the squeeze function is used to convert the DF to the series\n",
    "subs"
   ]
  },
  {
   "cell_type": "code",
   "execution_count": 30,
   "id": "ccabd514-8527-4d4a-8c91-7e334b8fcbc0",
   "metadata": {},
   "outputs": [
    {
     "data": {
      "text/plain": [
       "pandas.core.series.Series"
      ]
     },
     "execution_count": 30,
     "metadata": {},
     "output_type": "execute_result"
    }
   ],
   "source": [
    "type(subs)"
   ]
  },
  {
   "cell_type": "code",
   "execution_count": 31,
   "id": "29f27550-781c-45fa-9dc5-fd62273bfef8",
   "metadata": {},
   "outputs": [
    {
     "data": {
      "text/html": [
       "<div>\n",
       "<style scoped>\n",
       "    .dataframe tbody tr th:only-of-type {\n",
       "        vertical-align: middle;\n",
       "    }\n",
       "\n",
       "    .dataframe tbody tr th {\n",
       "        vertical-align: top;\n",
       "    }\n",
       "\n",
       "    .dataframe thead th {\n",
       "        text-align: right;\n",
       "    }\n",
       "</style>\n",
       "<table border=\"1\" class=\"dataframe\">\n",
       "  <thead>\n",
       "    <tr style=\"text-align: right;\">\n",
       "      <th></th>\n",
       "      <th>match_no</th>\n",
       "      <th>runs</th>\n",
       "    </tr>\n",
       "  </thead>\n",
       "  <tbody>\n",
       "    <tr>\n",
       "      <th>0</th>\n",
       "      <td>1</td>\n",
       "      <td>1</td>\n",
       "    </tr>\n",
       "    <tr>\n",
       "      <th>1</th>\n",
       "      <td>2</td>\n",
       "      <td>23</td>\n",
       "    </tr>\n",
       "    <tr>\n",
       "      <th>2</th>\n",
       "      <td>3</td>\n",
       "      <td>13</td>\n",
       "    </tr>\n",
       "    <tr>\n",
       "      <th>3</th>\n",
       "      <td>4</td>\n",
       "      <td>12</td>\n",
       "    </tr>\n",
       "    <tr>\n",
       "      <th>4</th>\n",
       "      <td>5</td>\n",
       "      <td>1</td>\n",
       "    </tr>\n",
       "    <tr>\n",
       "      <th>...</th>\n",
       "      <td>...</td>\n",
       "      <td>...</td>\n",
       "    </tr>\n",
       "    <tr>\n",
       "      <th>210</th>\n",
       "      <td>211</td>\n",
       "      <td>0</td>\n",
       "    </tr>\n",
       "    <tr>\n",
       "      <th>211</th>\n",
       "      <td>212</td>\n",
       "      <td>20</td>\n",
       "    </tr>\n",
       "    <tr>\n",
       "      <th>212</th>\n",
       "      <td>213</td>\n",
       "      <td>73</td>\n",
       "    </tr>\n",
       "    <tr>\n",
       "      <th>213</th>\n",
       "      <td>214</td>\n",
       "      <td>25</td>\n",
       "    </tr>\n",
       "    <tr>\n",
       "      <th>214</th>\n",
       "      <td>215</td>\n",
       "      <td>7</td>\n",
       "    </tr>\n",
       "  </tbody>\n",
       "</table>\n",
       "<p>215 rows × 2 columns</p>\n",
       "</div>"
      ],
      "text/plain": [
       "     match_no  runs\n",
       "0           1     1\n",
       "1           2    23\n",
       "2           3    13\n",
       "3           4    12\n",
       "4           5     1\n",
       "..        ...   ...\n",
       "210       211     0\n",
       "211       212    20\n",
       "212       213    73\n",
       "213       214    25\n",
       "214       215     7\n",
       "\n",
       "[215 rows x 2 columns]"
      ]
     },
     "execution_count": 31,
     "metadata": {},
     "output_type": "execute_result"
    }
   ],
   "source": [
    "# with two columns\n",
    "\n",
    "vk=pd.read_csv('Session_16_dataset/kohli_ipl.csv')\n",
    "vk"
   ]
  },
  {
   "cell_type": "code",
   "execution_count": 32,
   "id": "a1f202f0-6885-4c48-8455-10201cf3a855",
   "metadata": {},
   "outputs": [
    {
     "data": {
      "text/plain": [
       "pandas.core.frame.DataFrame"
      ]
     },
     "execution_count": 32,
     "metadata": {},
     "output_type": "execute_result"
    }
   ],
   "source": [
    "type(vk)"
   ]
  },
  {
   "cell_type": "code",
   "execution_count": 33,
   "id": "b84f6a58-6c6a-4098-97aa-446cbb107dff",
   "metadata": {},
   "outputs": [
    {
     "data": {
      "text/html": [
       "<div>\n",
       "<style scoped>\n",
       "    .dataframe tbody tr th:only-of-type {\n",
       "        vertical-align: middle;\n",
       "    }\n",
       "\n",
       "    .dataframe tbody tr th {\n",
       "        vertical-align: top;\n",
       "    }\n",
       "\n",
       "    .dataframe thead th {\n",
       "        text-align: right;\n",
       "    }\n",
       "</style>\n",
       "<table border=\"1\" class=\"dataframe\">\n",
       "  <thead>\n",
       "    <tr style=\"text-align: right;\">\n",
       "      <th></th>\n",
       "      <th>match_no</th>\n",
       "      <th>runs</th>\n",
       "    </tr>\n",
       "  </thead>\n",
       "  <tbody>\n",
       "    <tr>\n",
       "      <th>0</th>\n",
       "      <td>1</td>\n",
       "      <td>1</td>\n",
       "    </tr>\n",
       "    <tr>\n",
       "      <th>1</th>\n",
       "      <td>2</td>\n",
       "      <td>23</td>\n",
       "    </tr>\n",
       "    <tr>\n",
       "      <th>2</th>\n",
       "      <td>3</td>\n",
       "      <td>13</td>\n",
       "    </tr>\n",
       "    <tr>\n",
       "      <th>3</th>\n",
       "      <td>4</td>\n",
       "      <td>12</td>\n",
       "    </tr>\n",
       "    <tr>\n",
       "      <th>4</th>\n",
       "      <td>5</td>\n",
       "      <td>1</td>\n",
       "    </tr>\n",
       "    <tr>\n",
       "      <th>...</th>\n",
       "      <td>...</td>\n",
       "      <td>...</td>\n",
       "    </tr>\n",
       "    <tr>\n",
       "      <th>210</th>\n",
       "      <td>211</td>\n",
       "      <td>0</td>\n",
       "    </tr>\n",
       "    <tr>\n",
       "      <th>211</th>\n",
       "      <td>212</td>\n",
       "      <td>20</td>\n",
       "    </tr>\n",
       "    <tr>\n",
       "      <th>212</th>\n",
       "      <td>213</td>\n",
       "      <td>73</td>\n",
       "    </tr>\n",
       "    <tr>\n",
       "      <th>213</th>\n",
       "      <td>214</td>\n",
       "      <td>25</td>\n",
       "    </tr>\n",
       "    <tr>\n",
       "      <th>214</th>\n",
       "      <td>215</td>\n",
       "      <td>7</td>\n",
       "    </tr>\n",
       "  </tbody>\n",
       "</table>\n",
       "<p>215 rows × 2 columns</p>\n",
       "</div>"
      ],
      "text/plain": [
       "     match_no  runs\n",
       "0           1     1\n",
       "1           2    23\n",
       "2           3    13\n",
       "3           4    12\n",
       "4           5     1\n",
       "..        ...   ...\n",
       "210       211     0\n",
       "211       212    20\n",
       "212       213    73\n",
       "213       214    25\n",
       "214       215     7\n",
       "\n",
       "[215 rows x 2 columns]"
      ]
     },
     "execution_count": 33,
     "metadata": {},
     "output_type": "execute_result"
    }
   ],
   "source": [
    "vk.squeeze()       # the squeez is not directy work with two cols as series have only one value column"
   ]
  },
  {
   "cell_type": "code",
   "execution_count": 34,
   "id": "199300d0-08b5-4dfd-941b-f8961f38719e",
   "metadata": {},
   "outputs": [
    {
     "data": {
      "text/plain": [
       "pandas.core.frame.DataFrame"
      ]
     },
     "execution_count": 34,
     "metadata": {},
     "output_type": "execute_result"
    }
   ],
   "source": [
    "type(vk)"
   ]
  },
  {
   "cell_type": "code",
   "execution_count": 35,
   "id": "1fe2d867-1526-403f-80e7-7fa5526ddc8f",
   "metadata": {},
   "outputs": [
    {
     "data": {
      "text/html": [
       "<div>\n",
       "<style scoped>\n",
       "    .dataframe tbody tr th:only-of-type {\n",
       "        vertical-align: middle;\n",
       "    }\n",
       "\n",
       "    .dataframe tbody tr th {\n",
       "        vertical-align: top;\n",
       "    }\n",
       "\n",
       "    .dataframe thead th {\n",
       "        text-align: right;\n",
       "    }\n",
       "</style>\n",
       "<table border=\"1\" class=\"dataframe\">\n",
       "  <thead>\n",
       "    <tr style=\"text-align: right;\">\n",
       "      <th></th>\n",
       "      <th>runs</th>\n",
       "    </tr>\n",
       "    <tr>\n",
       "      <th>match_no</th>\n",
       "      <th></th>\n",
       "    </tr>\n",
       "  </thead>\n",
       "  <tbody>\n",
       "    <tr>\n",
       "      <th>1</th>\n",
       "      <td>1</td>\n",
       "    </tr>\n",
       "    <tr>\n",
       "      <th>2</th>\n",
       "      <td>23</td>\n",
       "    </tr>\n",
       "    <tr>\n",
       "      <th>3</th>\n",
       "      <td>13</td>\n",
       "    </tr>\n",
       "    <tr>\n",
       "      <th>4</th>\n",
       "      <td>12</td>\n",
       "    </tr>\n",
       "    <tr>\n",
       "      <th>5</th>\n",
       "      <td>1</td>\n",
       "    </tr>\n",
       "    <tr>\n",
       "      <th>...</th>\n",
       "      <td>...</td>\n",
       "    </tr>\n",
       "    <tr>\n",
       "      <th>211</th>\n",
       "      <td>0</td>\n",
       "    </tr>\n",
       "    <tr>\n",
       "      <th>212</th>\n",
       "      <td>20</td>\n",
       "    </tr>\n",
       "    <tr>\n",
       "      <th>213</th>\n",
       "      <td>73</td>\n",
       "    </tr>\n",
       "    <tr>\n",
       "      <th>214</th>\n",
       "      <td>25</td>\n",
       "    </tr>\n",
       "    <tr>\n",
       "      <th>215</th>\n",
       "      <td>7</td>\n",
       "    </tr>\n",
       "  </tbody>\n",
       "</table>\n",
       "<p>215 rows × 1 columns</p>\n",
       "</div>"
      ],
      "text/plain": [
       "          runs\n",
       "match_no      \n",
       "1            1\n",
       "2           23\n",
       "3           13\n",
       "4           12\n",
       "5            1\n",
       "...        ...\n",
       "211          0\n",
       "212         20\n",
       "213         73\n",
       "214         25\n",
       "215          7\n",
       "\n",
       "[215 rows x 1 columns]"
      ]
     },
     "execution_count": 35,
     "metadata": {},
     "output_type": "execute_result"
    }
   ],
   "source": [
    "vk = pd.read_csv(\"Session_16_dataset/kohli_ipl.csv\", index_col='match_no')\n",
    "vk"
   ]
  },
  {
   "cell_type": "code",
   "execution_count": 36,
   "id": "89922749-7a17-4601-b812-729bb19fc16a",
   "metadata": {},
   "outputs": [
    {
     "data": {
      "text/plain": [
       "match_no\n",
       "1       1\n",
       "2      23\n",
       "3      13\n",
       "4      12\n",
       "5       1\n",
       "       ..\n",
       "211     0\n",
       "212    20\n",
       "213    73\n",
       "214    25\n",
       "215     7\n",
       "Name: runs, Length: 215, dtype: int64"
      ]
     },
     "execution_count": 36,
     "metadata": {},
     "output_type": "execute_result"
    }
   ],
   "source": [
    "vk = vk.squeeze()       \n",
    "vk                   # to do so we convert any of two column as index and other as a value"
   ]
  },
  {
   "cell_type": "code",
   "execution_count": 37,
   "id": "1ab2ccc9-c620-4617-a665-da6bc1c92eea",
   "metadata": {},
   "outputs": [
    {
     "data": {
      "text/plain": [
       "movie\n",
       "Uri: The Surgical Strike                   Vicky Kaushal\n",
       "Battalion 609                                Vicky Ahuja\n",
       "The Accidental Prime Minister (film)         Anupam Kher\n",
       "Why Cheat India                            Emraan Hashmi\n",
       "Evening Shadows                         Mona Ambegaonkar\n",
       "                                              ...       \n",
       "Hum Tumhare Hain Sanam                    Shah Rukh Khan\n",
       "Aankhen (2002 film)                     Amitabh Bachchan\n",
       "Saathiya (film)                             Vivek Oberoi\n",
       "Company (film)                                Ajay Devgn\n",
       "Awara Paagal Deewana                        Akshay Kumar\n",
       "Name: lead, Length: 1500, dtype: object"
      ]
     },
     "execution_count": 37,
     "metadata": {},
     "output_type": "execute_result"
    }
   ],
   "source": [
    "# using movies dataset\n",
    "\n",
    "movie = pd.read_csv('Session_16_dataset/bollywood.csv', index_col='movie')\n",
    "movies=movie.squeeze()\n",
    "movies"
   ]
  },
  {
   "cell_type": "markdown",
   "id": "26189e1f-0ef4-4d50-ad6c-2926bfc98408",
   "metadata": {},
   "source": [
    "## Series methods"
   ]
  },
  {
   "cell_type": "code",
   "execution_count": 38,
   "id": "cc763718-301c-471f-9784-bfd2e1dcab5c",
   "metadata": {},
   "outputs": [
    {
     "data": {
      "text/plain": [
       "match_no\n",
       "1     1\n",
       "2    23\n",
       "3    13\n",
       "4    12\n",
       "5     1\n",
       "Name: runs, dtype: int64"
      ]
     },
     "execution_count": 38,
     "metadata": {},
     "output_type": "execute_result"
    }
   ],
   "source": [
    "# head()  this method gives the first five records from the series. we can specify any number of records to retrive in method as parameter \n",
    "\n",
    "vk.head()"
   ]
  },
  {
   "cell_type": "code",
   "execution_count": 39,
   "id": "6800e2cd-f863-4f2b-9423-0d7427fb0f64",
   "metadata": {},
   "outputs": [
    {
     "data": {
      "text/plain": [
       "movie\n",
       "Uri: The Surgical Strike    Vicky Kaushal\n",
       "Battalion 609                 Vicky Ahuja\n",
       "Name: lead, dtype: object"
      ]
     },
     "execution_count": 39,
     "metadata": {},
     "output_type": "execute_result"
    }
   ],
   "source": [
    "movies.head(2)     # specify the number of records to be displayed "
   ]
  },
  {
   "cell_type": "code",
   "execution_count": 40,
   "id": "ea562751-8c61-4b17-b34c-9323c22ccd67",
   "metadata": {},
   "outputs": [
    {
     "data": {
      "text/plain": [
       "0    48\n",
       "1    57\n",
       "2    40\n",
       "3    43\n",
       "4    44\n",
       "Name: Subscribers gained, dtype: int64"
      ]
     },
     "execution_count": 40,
     "metadata": {},
     "output_type": "execute_result"
    }
   ],
   "source": [
    "subs.head()"
   ]
  },
  {
   "cell_type": "code",
   "execution_count": 41,
   "id": "8fd99444-9f8d-401b-9e0e-9678ae1132f6",
   "metadata": {},
   "outputs": [
    {
     "data": {
      "text/plain": [
       "movie\n",
       "Company (film)            Ajay Devgn\n",
       "Awara Paagal Deewana    Akshay Kumar\n",
       "Name: lead, dtype: object"
      ]
     },
     "execution_count": 41,
     "metadata": {},
     "output_type": "execute_result"
    }
   ],
   "source": [
    "# tail()     gives the bottom five record by default and we can specify the number of record as parameter have to display\n",
    "\n",
    "movies.tail(2)"
   ]
  },
  {
   "cell_type": "markdown",
   "id": "350a70bb-000a-415f-bf04-42c5c4e7ca00",
   "metadata": {},
   "source": [
    "### sample()\n",
    "\n",
    "this method randomly select any one record from data set to display and we can also specify the number of random sample to be picked as parameter"
   ]
  },
  {
   "cell_type": "code",
   "execution_count": 42,
   "id": "ba37aa5b-7c8f-4a7c-b0d6-81bc9699ccae",
   "metadata": {},
   "outputs": [
    {
     "data": {
      "text/plain": [
       "movie\n",
       "Uri: The Surgical Strike                   Vicky Kaushal\n",
       "Battalion 609                                Vicky Ahuja\n",
       "The Accidental Prime Minister (film)         Anupam Kher\n",
       "Why Cheat India                            Emraan Hashmi\n",
       "Evening Shadows                         Mona Ambegaonkar\n",
       "                                              ...       \n",
       "Hum Tumhare Hain Sanam                    Shah Rukh Khan\n",
       "Aankhen (2002 film)                     Amitabh Bachchan\n",
       "Saathiya (film)                             Vivek Oberoi\n",
       "Company (film)                                Ajay Devgn\n",
       "Awara Paagal Deewana                        Akshay Kumar\n",
       "Name: lead, Length: 1500, dtype: object"
      ]
     },
     "execution_count": 42,
     "metadata": {},
     "output_type": "execute_result"
    }
   ],
   "source": [
    "movies"
   ]
  },
  {
   "cell_type": "code",
   "execution_count": 43,
   "id": "4aeec5cf-915c-4c36-b41d-de6c18716932",
   "metadata": {},
   "outputs": [
    {
     "data": {
      "text/plain": [
       "movie\n",
       "Sssshhh...    Tanishaa Mukerji\n",
       "Name: lead, dtype: object"
      ]
     },
     "execution_count": 43,
     "metadata": {},
     "output_type": "execute_result"
    }
   ],
   "source": [
    "movies.sample()"
   ]
  },
  {
   "cell_type": "code",
   "execution_count": 44,
   "id": "196824ee-4f02-44c8-b414-5919638398c1",
   "metadata": {},
   "outputs": [
    {
     "data": {
      "text/plain": [
       "movie\n",
       "Sankat City                 Kay Kay Menon\n",
       "Hatya (2004 film)            Akshay Kumar\n",
       "Andaaz                       Akshay Kumar\n",
       "Ishq Hai Tumse                 Dino Morea\n",
       "Tanu Weds Manu: Returns    Kangana Ranaut\n",
       "Name: lead, dtype: object"
      ]
     },
     "execution_count": 44,
     "metadata": {},
     "output_type": "execute_result"
    }
   ],
   "source": [
    "movies.sample(5)"
   ]
  },
  {
   "cell_type": "markdown",
   "id": "84ec2b02-ae2e-492f-b25e-2bc50359ec3e",
   "metadata": {},
   "source": [
    "## value_count()\n",
    "this function gives the number of(frequency) of each value present in the data set"
   ]
  },
  {
   "cell_type": "code",
   "execution_count": 45,
   "id": "f8f92198-0745-4e3a-a16b-93bb5787a521",
   "metadata": {},
   "outputs": [
    {
     "data": {
      "text/plain": [
       "lead\n",
       "Akshay Kumar            48\n",
       "Amitabh Bachchan        45\n",
       "Ajay Devgn              38\n",
       "Salman Khan             31\n",
       "Sanjay Dutt             26\n",
       "                        ..\n",
       "Tanishaa Mukerji         1\n",
       "Tanuja                   1\n",
       "Ankit                    1\n",
       "Rakhee Gulzar            1\n",
       "Geetika Vidya Ohlyan     1\n",
       "Name: count, Length: 566, dtype: int64"
      ]
     },
     "execution_count": 45,
     "metadata": {},
     "output_type": "execute_result"
    }
   ],
   "source": [
    "movies.value_counts()"
   ]
  },
  {
   "cell_type": "markdown",
   "id": "a4ed645c-2d02-4f87-be22-921655f60c91",
   "metadata": {},
   "source": [
    "## sort_values()\n",
    "this function sort the values of series in ascending order"
   ]
  },
  {
   "cell_type": "code",
   "execution_count": 46,
   "id": "6ba9b06a-9163-4807-83e9-0a5d0ebc6ed1",
   "metadata": {},
   "outputs": [
    {
     "data": {
      "text/plain": [
       "match_no\n",
       "8        0\n",
       "87       0\n",
       "93       0\n",
       "91       0\n",
       "206      0\n",
       "      ... \n",
       "164    100\n",
       "120    100\n",
       "123    108\n",
       "126    109\n",
       "128    113\n",
       "Name: runs, Length: 215, dtype: int64"
      ]
     },
     "execution_count": 46,
     "metadata": {},
     "output_type": "execute_result"
    }
   ],
   "source": [
    "vk.sort_values()"
   ]
  },
  {
   "cell_type": "code",
   "execution_count": 47,
   "id": "f5cb729e-6833-403f-a11f-44accad70bdb",
   "metadata": {},
   "outputs": [
    {
     "data": {
      "text/plain": [
       "match_no\n",
       "128    113\n",
       "126    109\n",
       "123    108\n",
       "120    100\n",
       "164    100\n",
       "      ... \n",
       "93       0\n",
       "130      0\n",
       "206      0\n",
       "207      0\n",
       "211      0\n",
       "Name: runs, Length: 215, dtype: int64"
      ]
     },
     "execution_count": 47,
     "metadata": {},
     "output_type": "execute_result"
    }
   ],
   "source": [
    "vk.sort_values(ascending=False)"
   ]
  },
  {
   "cell_type": "code",
   "execution_count": 48,
   "id": "eb007bd2-3693-45dd-b509-4eeed8b6ad73",
   "metadata": {},
   "outputs": [
    {
     "name": "stdout",
     "output_type": "stream",
     "text": [
      "113\n"
     ]
    }
   ],
   "source": [
    "# getting the highest score   # if we are using (inplace = True) will make and save changes in the memmory\n",
    "\n",
    "print(vk.sort_values(ascending=False).head(1).values[0])          # this type of method calls called as method chaining"
   ]
  },
  {
   "cell_type": "markdown",
   "id": "549b762b-cbeb-4ec0-a8f0-fefaeba309a8",
   "metadata": {},
   "source": [
    "## sort_index()\n",
    "works same as a above function on the index column"
   ]
  },
  {
   "cell_type": "code",
   "execution_count": 49,
   "id": "480f6272-e856-42f4-99f0-760350c4e264",
   "metadata": {},
   "outputs": [
    {
     "data": {
      "text/plain": [
       "match_no\n",
       "1       1\n",
       "2      23\n",
       "3      13\n",
       "4      12\n",
       "5       1\n",
       "       ..\n",
       "211     0\n",
       "212    20\n",
       "213    73\n",
       "214    25\n",
       "215     7\n",
       "Name: runs, Length: 215, dtype: int64"
      ]
     },
     "execution_count": 49,
     "metadata": {},
     "output_type": "execute_result"
    }
   ],
   "source": [
    "vk"
   ]
  },
  {
   "cell_type": "code",
   "execution_count": 50,
   "id": "43746530-d2d7-485f-9ca4-48d609cb0ee1",
   "metadata": {},
   "outputs": [
    {
     "data": {
      "text/plain": [
       "match_no\n",
       "1       1\n",
       "2      23\n",
       "3      13\n",
       "4      12\n",
       "5       1\n",
       "       ..\n",
       "211     0\n",
       "212    20\n",
       "213    73\n",
       "214    25\n",
       "215     7\n",
       "Name: runs, Length: 215, dtype: int64"
      ]
     },
     "execution_count": 50,
     "metadata": {},
     "output_type": "execute_result"
    }
   ],
   "source": [
    "vk.sort_index()"
   ]
  },
  {
   "cell_type": "code",
   "execution_count": 51,
   "id": "b02f7024-0f44-4ec0-8986-17f94f9fc127",
   "metadata": {},
   "outputs": [
    {
     "data": {
      "text/plain": [
       "movie\n",
       "Zor Lagaa Ke...Haiya!            Meghan Jadhav\n",
       "Zokkomon                       Darsheel Safary\n",
       "Zindagi Tere Naam           Mithun Chakraborty\n",
       "Zindagi Na Milegi Dobara        Hrithik Roshan\n",
       "Zindagi 50-50                      Veena Malik\n",
       "                                   ...        \n",
       "2 States (2014 film)              Arjun Kapoor\n",
       "1971 (2007 film)                Manoj Bajpayee\n",
       "1920: The Evil Returns             Vicky Ahuja\n",
       "1920: London                     Sharman Joshi\n",
       "1920 (film)                   Rajniesh Duggall\n",
       "Name: lead, Length: 1500, dtype: object"
      ]
     },
     "execution_count": 51,
     "metadata": {},
     "output_type": "execute_result"
    }
   ],
   "source": [
    "movies.sort_index(ascending=False)"
   ]
  },
  {
   "cell_type": "markdown",
   "id": "533b740b-40f8-454e-8be7-5c0d828a3160",
   "metadata": {},
   "source": [
    "# Mathematical Function\n",
    "## count()\n",
    "this function counts the total number of values in the series. it will not consider the nan values"
   ]
  },
  {
   "cell_type": "code",
   "execution_count": 52,
   "id": "78bf58d0-8ca0-4bab-9399-61cf10886ab4",
   "metadata": {},
   "outputs": [
    {
     "data": {
      "text/plain": [
       "np.int64(215)"
      ]
     },
     "execution_count": 52,
     "metadata": {},
     "output_type": "execute_result"
    }
   ],
   "source": [
    "vk.count()"
   ]
  },
  {
   "cell_type": "code",
   "execution_count": 53,
   "id": "b8c58845-4896-4c88-85c6-4bd6d6ebfd01",
   "metadata": {},
   "outputs": [
    {
     "data": {
      "text/plain": [
       "215"
      ]
     },
     "execution_count": 53,
     "metadata": {},
     "output_type": "execute_result"
    }
   ],
   "source": [
    "vk.size   # the size attribute counts the nan values also"
   ]
  },
  {
   "cell_type": "code",
   "execution_count": 54,
   "id": "1de34d20-0d47-43fd-b8e2-109761edfb32",
   "metadata": {},
   "outputs": [
    {
     "name": "stdout",
     "output_type": "stream",
     "text": [
      "6634\n"
     ]
    }
   ],
   "source": [
    "print(vk.sum())"
   ]
  },
  {
   "cell_type": "markdown",
   "id": "8802d26f-12d1-4540-84d7-211064e6681d",
   "metadata": {},
   "source": [
    "### mean mode median std and var"
   ]
  },
  {
   "cell_type": "code",
   "execution_count": 55,
   "id": "8fbdb3e8-5ed1-49b3-a2bd-815e2e3331ca",
   "metadata": {},
   "outputs": [
    {
     "name": "stdout",
     "output_type": "stream",
     "text": [
      "30.855813953488372\n"
     ]
    }
   ],
   "source": [
    "print(vk.mean())"
   ]
  },
  {
   "cell_type": "code",
   "execution_count": 56,
   "id": "6fae6336-9894-43c6-abcd-355f5b7b808b",
   "metadata": {},
   "outputs": [
    {
     "name": "stdout",
     "output_type": "stream",
     "text": [
      "24.0\n"
     ]
    }
   ],
   "source": [
    "print(vk.median())"
   ]
  },
  {
   "cell_type": "code",
   "execution_count": 57,
   "id": "cd517996-ed90-4c8a-b456-394a98ae1b3e",
   "metadata": {},
   "outputs": [
    {
     "name": "stdout",
     "output_type": "stream",
     "text": [
      "26.22980132830278\n"
     ]
    }
   ],
   "source": [
    "print(vk.std())"
   ]
  },
  {
   "cell_type": "code",
   "execution_count": 58,
   "id": "a05b996d-6eda-473d-b557-c5b98ad76f19",
   "metadata": {},
   "outputs": [
    {
     "name": "stdout",
     "output_type": "stream",
     "text": [
      "688.0024777222343\n"
     ]
    }
   ],
   "source": [
    "print(vk.var())"
   ]
  },
  {
   "cell_type": "code",
   "execution_count": 59,
   "id": "b93a8140-0f2c-42f6-b389-eb621ce00ffd",
   "metadata": {},
   "outputs": [
    {
     "name": "stdout",
     "output_type": "stream",
     "text": [
      "33\n"
     ]
    }
   ],
   "source": [
    "## min/max\n",
    "print(subs.min())"
   ]
  },
  {
   "cell_type": "code",
   "execution_count": 60,
   "id": "e48790ac-5607-4e1f-8162-ed83b69278c7",
   "metadata": {},
   "outputs": [
    {
     "name": "stdout",
     "output_type": "stream",
     "text": [
      "396\n"
     ]
    }
   ],
   "source": [
    "print(subs.max())"
   ]
  },
  {
   "cell_type": "code",
   "execution_count": 61,
   "id": "919bb99d-af55-4cbe-8d0e-eadfa4e28efa",
   "metadata": {},
   "outputs": [
    {
     "name": "stdout",
     "output_type": "stream",
     "text": [
      "113\n"
     ]
    }
   ],
   "source": [
    "print(vk.max())"
   ]
  },
  {
   "cell_type": "markdown",
   "id": "6ee27dac-b269-4abd-8aaf-d47c0018a881",
   "metadata": {},
   "source": [
    "## describe()\n",
    "this function gives the statistical mathematical insights of the data"
   ]
  },
  {
   "cell_type": "code",
   "execution_count": 62,
   "id": "c380f26a-e0f3-486f-9a50-879679347526",
   "metadata": {},
   "outputs": [
    {
     "data": {
      "text/plain": [
       "count    215.000000\n",
       "mean      30.855814\n",
       "std       26.229801\n",
       "min        0.000000\n",
       "25%        9.000000\n",
       "50%       24.000000\n",
       "75%       48.000000\n",
       "max      113.000000\n",
       "Name: runs, dtype: float64"
      ]
     },
     "execution_count": 62,
     "metadata": {},
     "output_type": "execute_result"
    }
   ],
   "source": [
    "vk.describe()"
   ]
  },
  {
   "cell_type": "markdown",
   "id": "04aef5cd-4628-40d3-a055-d453acc238bc",
   "metadata": {},
   "source": [
    "# Series Indexing"
   ]
  },
  {
   "cell_type": "code",
   "execution_count": 63,
   "id": "ccbec2cf-548b-4d2b-b5df-82a1aab1c468",
   "metadata": {},
   "outputs": [],
   "source": [
    "x = pd.Series([12,13,14,35,46,57,58,79,9])"
   ]
  },
  {
   "cell_type": "code",
   "execution_count": 64,
   "id": "c22153fc-cbf5-477d-ae73-aabdf6c542fe",
   "metadata": {},
   "outputs": [
    {
     "name": "stdout",
     "output_type": "stream",
     "text": [
      "13\n"
     ]
    }
   ],
   "source": [
    "print(x[1])"
   ]
  },
  {
   "cell_type": "code",
   "execution_count": 73,
   "id": "fe19f8d5-51bb-401a-abc9-76baad69170d",
   "metadata": {},
   "outputs": [
    {
     "ename": "KeyError",
     "evalue": "-5",
     "output_type": "error",
     "traceback": [
      "\u001b[1;31m---------------------------------------------------------------------------\u001b[0m",
      "\u001b[1;31mValueError\u001b[0m                                Traceback (most recent call last)",
      "File \u001b[1;32m~\\AppData\\Local\\Programs\\Python\\Python312\\Lib\\site-packages\\pandas\\core\\indexes\\range.py:413\u001b[0m, in \u001b[0;36mRangeIndex.get_loc\u001b[1;34m(self, key)\u001b[0m\n\u001b[0;32m    412\u001b[0m \u001b[38;5;28;01mtry\u001b[39;00m:\n\u001b[1;32m--> 413\u001b[0m     \u001b[38;5;28;01mreturn\u001b[39;00m \u001b[38;5;28;43mself\u001b[39;49m\u001b[38;5;241;43m.\u001b[39;49m\u001b[43m_range\u001b[49m\u001b[38;5;241;43m.\u001b[39;49m\u001b[43mindex\u001b[49m\u001b[43m(\u001b[49m\u001b[43mnew_key\u001b[49m\u001b[43m)\u001b[49m\n\u001b[0;32m    414\u001b[0m \u001b[38;5;28;01mexcept\u001b[39;00m \u001b[38;5;167;01mValueError\u001b[39;00m \u001b[38;5;28;01mas\u001b[39;00m err:\n",
      "\u001b[1;31mValueError\u001b[0m: -5 is not in range",
      "\nThe above exception was the direct cause of the following exception:\n",
      "\u001b[1;31mKeyError\u001b[0m                                  Traceback (most recent call last)",
      "Cell \u001b[1;32mIn[73], line 1\u001b[0m\n\u001b[1;32m----> 1\u001b[0m \u001b[38;5;28mprint\u001b[39m(\u001b[43mx\u001b[49m\u001b[43m[\u001b[49m\u001b[38;5;241;43m-\u001b[39;49m\u001b[38;5;241;43m5\u001b[39;49m\u001b[43m]\u001b[49m)        \u001b[38;5;66;03m# negative indexing \u001b[39;00m\n",
      "File \u001b[1;32m~\\AppData\\Local\\Programs\\Python\\Python312\\Lib\\site-packages\\pandas\\core\\series.py:1121\u001b[0m, in \u001b[0;36mSeries.__getitem__\u001b[1;34m(self, key)\u001b[0m\n\u001b[0;32m   1118\u001b[0m     \u001b[38;5;28;01mreturn\u001b[39;00m \u001b[38;5;28mself\u001b[39m\u001b[38;5;241m.\u001b[39m_values[key]\n\u001b[0;32m   1120\u001b[0m \u001b[38;5;28;01melif\u001b[39;00m key_is_scalar:\n\u001b[1;32m-> 1121\u001b[0m     \u001b[38;5;28;01mreturn\u001b[39;00m \u001b[38;5;28;43mself\u001b[39;49m\u001b[38;5;241;43m.\u001b[39;49m\u001b[43m_get_value\u001b[49m\u001b[43m(\u001b[49m\u001b[43mkey\u001b[49m\u001b[43m)\u001b[49m\n\u001b[0;32m   1123\u001b[0m \u001b[38;5;66;03m# Convert generator to list before going through hashable part\u001b[39;00m\n\u001b[0;32m   1124\u001b[0m \u001b[38;5;66;03m# (We will iterate through the generator there to check for slices)\u001b[39;00m\n\u001b[0;32m   1125\u001b[0m \u001b[38;5;28;01mif\u001b[39;00m is_iterator(key):\n",
      "File \u001b[1;32m~\\AppData\\Local\\Programs\\Python\\Python312\\Lib\\site-packages\\pandas\\core\\series.py:1237\u001b[0m, in \u001b[0;36mSeries._get_value\u001b[1;34m(self, label, takeable)\u001b[0m\n\u001b[0;32m   1234\u001b[0m     \u001b[38;5;28;01mreturn\u001b[39;00m \u001b[38;5;28mself\u001b[39m\u001b[38;5;241m.\u001b[39m_values[label]\n\u001b[0;32m   1236\u001b[0m \u001b[38;5;66;03m# Similar to Index.get_value, but we do not fall back to positional\u001b[39;00m\n\u001b[1;32m-> 1237\u001b[0m loc \u001b[38;5;241m=\u001b[39m \u001b[38;5;28;43mself\u001b[39;49m\u001b[38;5;241;43m.\u001b[39;49m\u001b[43mindex\u001b[49m\u001b[38;5;241;43m.\u001b[39;49m\u001b[43mget_loc\u001b[49m\u001b[43m(\u001b[49m\u001b[43mlabel\u001b[49m\u001b[43m)\u001b[49m\n\u001b[0;32m   1239\u001b[0m \u001b[38;5;28;01mif\u001b[39;00m is_integer(loc):\n\u001b[0;32m   1240\u001b[0m     \u001b[38;5;28;01mreturn\u001b[39;00m \u001b[38;5;28mself\u001b[39m\u001b[38;5;241m.\u001b[39m_values[loc]\n",
      "File \u001b[1;32m~\\AppData\\Local\\Programs\\Python\\Python312\\Lib\\site-packages\\pandas\\core\\indexes\\range.py:415\u001b[0m, in \u001b[0;36mRangeIndex.get_loc\u001b[1;34m(self, key)\u001b[0m\n\u001b[0;32m    413\u001b[0m         \u001b[38;5;28;01mreturn\u001b[39;00m \u001b[38;5;28mself\u001b[39m\u001b[38;5;241m.\u001b[39m_range\u001b[38;5;241m.\u001b[39mindex(new_key)\n\u001b[0;32m    414\u001b[0m     \u001b[38;5;28;01mexcept\u001b[39;00m \u001b[38;5;167;01mValueError\u001b[39;00m \u001b[38;5;28;01mas\u001b[39;00m err:\n\u001b[1;32m--> 415\u001b[0m         \u001b[38;5;28;01mraise\u001b[39;00m \u001b[38;5;167;01mKeyError\u001b[39;00m(key) \u001b[38;5;28;01mfrom\u001b[39;00m \u001b[38;5;21;01merr\u001b[39;00m\n\u001b[0;32m    416\u001b[0m \u001b[38;5;28;01mif\u001b[39;00m \u001b[38;5;28misinstance\u001b[39m(key, Hashable):\n\u001b[0;32m    417\u001b[0m     \u001b[38;5;28;01mraise\u001b[39;00m \u001b[38;5;167;01mKeyError\u001b[39;00m(key)\n",
      "\u001b[1;31mKeyError\u001b[0m: -5"
     ]
    }
   ],
   "source": [
    "print(x[-5])        # negative indexing "
   ]
  },
  {
   "cell_type": "code",
   "execution_count": null,
   "id": "b166369e-39b0-4310-ba69-f92ea63991c1",
   "metadata": {},
   "outputs": [],
   "source": [
    "# in movies dataseries the index col is movie name "
   ]
  },
  {
   "cell_type": "code",
   "execution_count": 66,
   "id": "7461014e-e034-44ac-834a-c0042e1b96ec",
   "metadata": {},
   "outputs": [
    {
     "data": {
      "text/plain": [
       "movie\n",
       "Uri: The Surgical Strike                   Vicky Kaushal\n",
       "Battalion 609                                Vicky Ahuja\n",
       "The Accidental Prime Minister (film)         Anupam Kher\n",
       "Why Cheat India                            Emraan Hashmi\n",
       "Evening Shadows                         Mona Ambegaonkar\n",
       "                                              ...       \n",
       "Hum Tumhare Hain Sanam                    Shah Rukh Khan\n",
       "Aankhen (2002 film)                     Amitabh Bachchan\n",
       "Saathiya (film)                             Vivek Oberoi\n",
       "Company (film)                                Ajay Devgn\n",
       "Awara Paagal Deewana                        Akshay Kumar\n",
       "Name: lead, Length: 1500, dtype: object"
      ]
     },
     "execution_count": 66,
     "metadata": {},
     "output_type": "execute_result"
    }
   ],
   "source": [
    "movies"
   ]
  },
  {
   "cell_type": "code",
   "execution_count": 67,
   "id": "e564436d-15e1-4638-af0d-ea8837c620cf",
   "metadata": {},
   "outputs": [
    {
     "name": "stderr",
     "output_type": "stream",
     "text": [
      "C:\\Users\\Mayur\\AppData\\Local\\Temp\\ipykernel_11040\\1023273493.py:1: FutureWarning: Series.__getitem__ treating keys as positions is deprecated. In a future version, integer keys will always be treated as labels (consistent with DataFrame behavior). To access a value by position, use `ser.iloc[pos]`\n",
      "  movies[1]\n"
     ]
    },
    {
     "data": {
      "text/plain": [
       "'Vicky Ahuja'"
      ]
     },
     "execution_count": 67,
     "metadata": {},
     "output_type": "execute_result"
    }
   ],
   "source": [
    "movies[1]"
   ]
  },
  {
   "cell_type": "code",
   "execution_count": 68,
   "id": "62c4656a-4820-4493-bcb0-8e9890aa57d3",
   "metadata": {},
   "outputs": [
    {
     "name": "stderr",
     "output_type": "stream",
     "text": [
      "C:\\Users\\Mayur\\AppData\\Local\\Temp\\ipykernel_11040\\1865403733.py:1: FutureWarning: Series.__getitem__ treating keys as positions is deprecated. In a future version, integer keys will always be treated as labels (consistent with DataFrame behavior). To access a value by position, use `ser.iloc[pos]`\n",
      "  movies[-1]                 # negative indexing works when index column is string\n"
     ]
    },
    {
     "data": {
      "text/plain": [
       "'Akshay Kumar'"
      ]
     },
     "execution_count": 68,
     "metadata": {},
     "output_type": "execute_result"
    }
   ],
   "source": [
    "movies[-1]                 # negative indexing works when index column is string "
   ]
  },
  {
   "cell_type": "code",
   "execution_count": 71,
   "id": "0db54c86-aa50-457d-9729-0f3d656f0708",
   "metadata": {},
   "outputs": [
    {
     "ename": "KeyError",
     "evalue": "-5",
     "output_type": "error",
     "traceback": [
      "\u001b[1;31m---------------------------------------------------------------------------\u001b[0m",
      "\u001b[1;31mKeyError\u001b[0m                                  Traceback (most recent call last)",
      "File \u001b[1;32m~\\AppData\\Local\\Programs\\Python\\Python312\\Lib\\site-packages\\pandas\\core\\indexes\\base.py:3805\u001b[0m, in \u001b[0;36mIndex.get_loc\u001b[1;34m(self, key)\u001b[0m\n\u001b[0;32m   3804\u001b[0m \u001b[38;5;28;01mtry\u001b[39;00m:\n\u001b[1;32m-> 3805\u001b[0m     \u001b[38;5;28;01mreturn\u001b[39;00m \u001b[38;5;28;43mself\u001b[39;49m\u001b[38;5;241;43m.\u001b[39;49m\u001b[43m_engine\u001b[49m\u001b[38;5;241;43m.\u001b[39;49m\u001b[43mget_loc\u001b[49m\u001b[43m(\u001b[49m\u001b[43mcasted_key\u001b[49m\u001b[43m)\u001b[49m\n\u001b[0;32m   3806\u001b[0m \u001b[38;5;28;01mexcept\u001b[39;00m \u001b[38;5;167;01mKeyError\u001b[39;00m \u001b[38;5;28;01mas\u001b[39;00m err:\n",
      "File \u001b[1;32mindex.pyx:167\u001b[0m, in \u001b[0;36mpandas._libs.index.IndexEngine.get_loc\u001b[1;34m()\u001b[0m\n",
      "File \u001b[1;32mindex.pyx:196\u001b[0m, in \u001b[0;36mpandas._libs.index.IndexEngine.get_loc\u001b[1;34m()\u001b[0m\n",
      "File \u001b[1;32mpandas\\\\_libs\\\\hashtable_class_helper.pxi:2606\u001b[0m, in \u001b[0;36mpandas._libs.hashtable.Int64HashTable.get_item\u001b[1;34m()\u001b[0m\n",
      "File \u001b[1;32mpandas\\\\_libs\\\\hashtable_class_helper.pxi:2630\u001b[0m, in \u001b[0;36mpandas._libs.hashtable.Int64HashTable.get_item\u001b[1;34m()\u001b[0m\n",
      "\u001b[1;31mKeyError\u001b[0m: -5",
      "\nThe above exception was the direct cause of the following exception:\n",
      "\u001b[1;31mKeyError\u001b[0m                                  Traceback (most recent call last)",
      "Cell \u001b[1;32mIn[71], line 1\u001b[0m\n\u001b[1;32m----> 1\u001b[0m \u001b[43mvk\u001b[49m\u001b[43m[\u001b[49m\u001b[38;5;241;43m-\u001b[39;49m\u001b[38;5;241;43m5\u001b[39;49m\u001b[43m]\u001b[49m                     \u001b[38;5;66;03m# not work as indexing is in number\u001b[39;00m\n",
      "File \u001b[1;32m~\\AppData\\Local\\Programs\\Python\\Python312\\Lib\\site-packages\\pandas\\core\\series.py:1121\u001b[0m, in \u001b[0;36mSeries.__getitem__\u001b[1;34m(self, key)\u001b[0m\n\u001b[0;32m   1118\u001b[0m     \u001b[38;5;28;01mreturn\u001b[39;00m \u001b[38;5;28mself\u001b[39m\u001b[38;5;241m.\u001b[39m_values[key]\n\u001b[0;32m   1120\u001b[0m \u001b[38;5;28;01melif\u001b[39;00m key_is_scalar:\n\u001b[1;32m-> 1121\u001b[0m     \u001b[38;5;28;01mreturn\u001b[39;00m \u001b[38;5;28;43mself\u001b[39;49m\u001b[38;5;241;43m.\u001b[39;49m\u001b[43m_get_value\u001b[49m\u001b[43m(\u001b[49m\u001b[43mkey\u001b[49m\u001b[43m)\u001b[49m\n\u001b[0;32m   1123\u001b[0m \u001b[38;5;66;03m# Convert generator to list before going through hashable part\u001b[39;00m\n\u001b[0;32m   1124\u001b[0m \u001b[38;5;66;03m# (We will iterate through the generator there to check for slices)\u001b[39;00m\n\u001b[0;32m   1125\u001b[0m \u001b[38;5;28;01mif\u001b[39;00m is_iterator(key):\n",
      "File \u001b[1;32m~\\AppData\\Local\\Programs\\Python\\Python312\\Lib\\site-packages\\pandas\\core\\series.py:1237\u001b[0m, in \u001b[0;36mSeries._get_value\u001b[1;34m(self, label, takeable)\u001b[0m\n\u001b[0;32m   1234\u001b[0m     \u001b[38;5;28;01mreturn\u001b[39;00m \u001b[38;5;28mself\u001b[39m\u001b[38;5;241m.\u001b[39m_values[label]\n\u001b[0;32m   1236\u001b[0m \u001b[38;5;66;03m# Similar to Index.get_value, but we do not fall back to positional\u001b[39;00m\n\u001b[1;32m-> 1237\u001b[0m loc \u001b[38;5;241m=\u001b[39m \u001b[38;5;28;43mself\u001b[39;49m\u001b[38;5;241;43m.\u001b[39;49m\u001b[43mindex\u001b[49m\u001b[38;5;241;43m.\u001b[39;49m\u001b[43mget_loc\u001b[49m\u001b[43m(\u001b[49m\u001b[43mlabel\u001b[49m\u001b[43m)\u001b[49m\n\u001b[0;32m   1239\u001b[0m \u001b[38;5;28;01mif\u001b[39;00m is_integer(loc):\n\u001b[0;32m   1240\u001b[0m     \u001b[38;5;28;01mreturn\u001b[39;00m \u001b[38;5;28mself\u001b[39m\u001b[38;5;241m.\u001b[39m_values[loc]\n",
      "File \u001b[1;32m~\\AppData\\Local\\Programs\\Python\\Python312\\Lib\\site-packages\\pandas\\core\\indexes\\base.py:3812\u001b[0m, in \u001b[0;36mIndex.get_loc\u001b[1;34m(self, key)\u001b[0m\n\u001b[0;32m   3807\u001b[0m     \u001b[38;5;28;01mif\u001b[39;00m \u001b[38;5;28misinstance\u001b[39m(casted_key, \u001b[38;5;28mslice\u001b[39m) \u001b[38;5;129;01mor\u001b[39;00m (\n\u001b[0;32m   3808\u001b[0m         \u001b[38;5;28misinstance\u001b[39m(casted_key, abc\u001b[38;5;241m.\u001b[39mIterable)\n\u001b[0;32m   3809\u001b[0m         \u001b[38;5;129;01mand\u001b[39;00m \u001b[38;5;28many\u001b[39m(\u001b[38;5;28misinstance\u001b[39m(x, \u001b[38;5;28mslice\u001b[39m) \u001b[38;5;28;01mfor\u001b[39;00m x \u001b[38;5;129;01min\u001b[39;00m casted_key)\n\u001b[0;32m   3810\u001b[0m     ):\n\u001b[0;32m   3811\u001b[0m         \u001b[38;5;28;01mraise\u001b[39;00m InvalidIndexError(key)\n\u001b[1;32m-> 3812\u001b[0m     \u001b[38;5;28;01mraise\u001b[39;00m \u001b[38;5;167;01mKeyError\u001b[39;00m(key) \u001b[38;5;28;01mfrom\u001b[39;00m \u001b[38;5;21;01merr\u001b[39;00m\n\u001b[0;32m   3813\u001b[0m \u001b[38;5;28;01mexcept\u001b[39;00m \u001b[38;5;167;01mTypeError\u001b[39;00m:\n\u001b[0;32m   3814\u001b[0m     \u001b[38;5;66;03m# If we have a listlike key, _check_indexing_error will raise\u001b[39;00m\n\u001b[0;32m   3815\u001b[0m     \u001b[38;5;66;03m#  InvalidIndexError. Otherwise we fall through and re-raise\u001b[39;00m\n\u001b[0;32m   3816\u001b[0m     \u001b[38;5;66;03m#  the TypeError.\u001b[39;00m\n\u001b[0;32m   3817\u001b[0m     \u001b[38;5;28mself\u001b[39m\u001b[38;5;241m.\u001b[39m_check_indexing_error(key)\n",
      "\u001b[1;31mKeyError\u001b[0m: -5"
     ]
    }
   ],
   "source": [
    "vk[-5]                     # not work as indexing is in number"
   ]
  },
  {
   "cell_type": "markdown",
   "id": "598e0404-e85f-468b-a99e-908daa77b9f3",
   "metadata": {},
   "source": [
    "# Slicing"
   ]
  },
  {
   "cell_type": "code",
   "execution_count": 74,
   "id": "b89f6d45-05bc-4cd4-8242-bf7448456b31",
   "metadata": {},
   "outputs": [
    {
     "data": {
      "text/plain": [
       "match_no\n",
       "6      9\n",
       "7     34\n",
       "8      0\n",
       "9     21\n",
       "10     3\n",
       "Name: runs, dtype: int64"
      ]
     },
     "execution_count": 74,
     "metadata": {},
     "output_type": "execute_result"
    }
   ],
   "source": [
    "vk[5:10]      # gives the rows from 5 to 10 exclude last one"
   ]
  },
  {
   "cell_type": "code",
   "execution_count": 75,
   "id": "5bc88b89-4a35-48cb-bf9f-284ceb73fae9",
   "metadata": {},
   "outputs": [
    {
     "data": {
      "text/plain": [
       "match_no\n",
       "211     0\n",
       "212    20\n",
       "213    73\n",
       "214    25\n",
       "215     7\n",
       "Name: runs, dtype: int64"
      ]
     },
     "execution_count": 75,
     "metadata": {},
     "output_type": "execute_result"
    }
   ],
   "source": [
    "vk[-5:]       # negative sclicing is allowed "
   ]
  },
  {
   "cell_type": "code",
   "execution_count": 78,
   "id": "b6672ee4-91a0-4b4d-81ca-b7290029cd28",
   "metadata": {},
   "outputs": [
    {
     "data": {
      "text/plain": [
       "movie\n",
       "Uri: The Surgical Strike                   Vicky Kaushal\n",
       "The Accidental Prime Minister (film)         Anupam Kher\n",
       "Evening Shadows                         Mona Ambegaonkar\n",
       "Fraud Saiyaan                               Arshad Warsi\n",
       "Manikarnika: The Queen of Jhansi          Kangana Ranaut\n",
       "                                              ...       \n",
       "Raaz (2002 film)                              Dino Morea\n",
       "Waisa Bhi Hota Hai Part II                  Arshad Warsi\n",
       "Kaante                                  Amitabh Bachchan\n",
       "Aankhen (2002 film)                     Amitabh Bachchan\n",
       "Company (film)                                Ajay Devgn\n",
       "Name: lead, Length: 750, dtype: object"
      ]
     },
     "execution_count": 78,
     "metadata": {},
     "output_type": "execute_result"
    }
   ],
   "source": [
    "movies[::2]                   # giving step size as 2 (alternet)"
   ]
  },
  {
   "cell_type": "code",
   "execution_count": 79,
   "id": "61720afc-1f3d-4550-93a2-4363ecbfd64b",
   "metadata": {},
   "outputs": [],
   "source": [
    "# fancy indexing "
   ]
  },
  {
   "cell_type": "code",
   "execution_count": 85,
   "id": "205f7f1b-38eb-46ae-95ba-56f217a42e2b",
   "metadata": {},
   "outputs": [
    {
     "data": {
      "text/plain": [
       "match_no\n",
       "1     1\n",
       "2    23\n",
       "6     9\n",
       "7    34\n",
       "9    21\n",
       "Name: runs, dtype: int64"
      ]
     },
     "execution_count": 85,
     "metadata": {},
     "output_type": "execute_result"
    }
   ],
   "source": [
    "vk[[1,2,6,7,9]]"
   ]
  },
  {
   "cell_type": "code",
   "execution_count": 83,
   "id": "46672672-dac2-4ef1-9751-aa9e599c7348",
   "metadata": {},
   "outputs": [
    {
     "data": {
      "text/plain": [
       "match_no\n",
       "1     1\n",
       "2    23\n",
       "3    13\n",
       "4    12\n",
       "5     1\n",
       "Name: runs, dtype: int64"
      ]
     },
     "execution_count": 83,
     "metadata": {},
     "output_type": "execute_result"
    }
   ],
   "source": [
    "vk.head()"
   ]
  },
  {
   "cell_type": "code",
   "execution_count": 87,
   "id": "0109f72c-f7f7-4751-87e9-7e7cb498b61f",
   "metadata": {},
   "outputs": [
    {
     "data": {
      "text/plain": [
       "'Arshad Warsi'"
      ]
     },
     "execution_count": 87,
     "metadata": {},
     "output_type": "execute_result"
    }
   ],
   "source": [
    "# indexing with labels \n",
    "\n",
    "movies['Fraud Saiyaan']"
   ]
  },
  {
   "cell_type": "code",
   "execution_count": 88,
   "id": "94151cf5-0422-402f-8a9b-0149d44865a8",
   "metadata": {},
   "outputs": [
    {
     "data": {
      "text/plain": [
       "maths      100\n",
       "English     80\n",
       "Hindi       81\n",
       "SS          85\n",
       "Science     99\n",
       "Name: It is a Series demo, dtype: int64"
      ]
     },
     "execution_count": 88,
     "metadata": {},
     "output_type": "execute_result"
    }
   ],
   "source": [
    "# Editing Series\n",
    "\n",
    "marks_series"
   ]
  },
  {
   "cell_type": "code",
   "execution_count": 89,
   "id": "7db4b4c1-5644-4f35-a695-d15d46af6a7c",
   "metadata": {},
   "outputs": [
    {
     "name": "stderr",
     "output_type": "stream",
     "text": [
      "C:\\Users\\Mayur\\AppData\\Local\\Temp\\ipykernel_11040\\2836259557.py:1: FutureWarning: Series.__setitem__ treating keys as positions is deprecated. In a future version, integer keys will always be treated as labels (consistent with DataFrame behavior). To set a value by position, use `ser.iloc[pos] = value`\n",
      "  marks_series[1]=101\n"
     ]
    }
   ],
   "source": [
    "marks_series[1]=101"
   ]
  },
  {
   "cell_type": "code",
   "execution_count": 90,
   "id": "0714d2ba-1bb3-4064-9863-544069ec9d89",
   "metadata": {},
   "outputs": [
    {
     "data": {
      "text/plain": [
       "maths      100\n",
       "English    101\n",
       "Hindi       81\n",
       "SS          85\n",
       "Science     99\n",
       "Name: It is a Series demo, dtype: int64"
      ]
     },
     "execution_count": 90,
     "metadata": {},
     "output_type": "execute_result"
    }
   ],
   "source": [
    "marks_series"
   ]
  },
  {
   "cell_type": "code",
   "execution_count": 91,
   "id": "96107c43-400d-4385-9688-005d24ec826d",
   "metadata": {},
   "outputs": [],
   "source": [
    "marks_series['env']=89     # if the index is not found will create the index and assign the same value to it "
   ]
  },
  {
   "cell_type": "code",
   "execution_count": 92,
   "id": "a4deedbe-e86d-4845-b28a-9cfebb7a2395",
   "metadata": {},
   "outputs": [
    {
     "data": {
      "text/plain": [
       "maths      100\n",
       "English    101\n",
       "Hindi       81\n",
       "SS          85\n",
       "Science     99\n",
       "env         89\n",
       "Name: It is a Series demo, dtype: int64"
      ]
     },
     "execution_count": 92,
     "metadata": {},
     "output_type": "execute_result"
    }
   ],
   "source": [
    "marks_series"
   ]
  },
  {
   "cell_type": "code",
   "execution_count": 93,
   "id": "0be743c4-cc2f-4258-ba16-209ea857b1ae",
   "metadata": {},
   "outputs": [],
   "source": [
    "marks_series[2:5]=[80,80,80]      # multiple values at same time by slicing "
   ]
  },
  {
   "cell_type": "code",
   "execution_count": 94,
   "id": "c629eb95-ad1a-4394-bf8f-8ae7887ed283",
   "metadata": {},
   "outputs": [
    {
     "data": {
      "text/plain": [
       "maths      100\n",
       "English    101\n",
       "Hindi       80\n",
       "SS          80\n",
       "Science     80\n",
       "env         89\n",
       "Name: It is a Series demo, dtype: int64"
      ]
     },
     "execution_count": 94,
     "metadata": {},
     "output_type": "execute_result"
    }
   ],
   "source": [
    "marks_series"
   ]
  },
  {
   "cell_type": "code",
   "execution_count": 95,
   "id": "87ee65c9-a984-4a4c-990f-7bbd5bfdac0b",
   "metadata": {},
   "outputs": [],
   "source": [
    "# using fancy indexing"
   ]
  },
  {
   "cell_type": "code",
   "execution_count": 96,
   "id": "0bd3cb12-1471-4666-a92f-7b7f3ed91930",
   "metadata": {},
   "outputs": [],
   "source": [
    "vk[[1,2,5,7,10]]= [100,100,100,100,100]"
   ]
  },
  {
   "cell_type": "code",
   "execution_count": 97,
   "id": "c0dd84af-a248-4e6e-a05d-cc01df753709",
   "metadata": {},
   "outputs": [
    {
     "data": {
      "text/plain": [
       "match_no\n",
       "1     100\n",
       "2     100\n",
       "3      13\n",
       "4      12\n",
       "5     100\n",
       "6       9\n",
       "7     100\n",
       "8       0\n",
       "9      21\n",
       "10    100\n",
       "Name: runs, dtype: int64"
      ]
     },
     "execution_count": 97,
     "metadata": {},
     "output_type": "execute_result"
    }
   ],
   "source": [
    "vk.head(10)"
   ]
  },
  {
   "cell_type": "code",
   "execution_count": 98,
   "id": "5b9a9106-eadd-41e4-a3c4-dd1b351ec35e",
   "metadata": {},
   "outputs": [],
   "source": [
    "# using index label "
   ]
  },
  {
   "cell_type": "code",
   "execution_count": 99,
   "id": "7078fd98-386c-448e-bf9a-c822205a66e2",
   "metadata": {},
   "outputs": [
    {
     "data": {
      "text/plain": [
       "movie\n",
       "Uri: The Surgical Strike                   Vicky Kaushal\n",
       "Battalion 609                                Vicky Ahuja\n",
       "The Accidental Prime Minister (film)         Anupam Kher\n",
       "Why Cheat India                            Emraan Hashmi\n",
       "Evening Shadows                         Mona Ambegaonkar\n",
       "                                              ...       \n",
       "Hum Tumhare Hain Sanam                    Shah Rukh Khan\n",
       "Aankhen (2002 film)                     Amitabh Bachchan\n",
       "Saathiya (film)                             Vivek Oberoi\n",
       "Company (film)                                Ajay Devgn\n",
       "Awara Paagal Deewana                        Akshay Kumar\n",
       "Name: lead, Length: 1500, dtype: object"
      ]
     },
     "execution_count": 99,
     "metadata": {},
     "output_type": "execute_result"
    }
   ],
   "source": [
    "movies"
   ]
  },
  {
   "cell_type": "code",
   "execution_count": 102,
   "id": "6f46cbd5-5fd0-4d5f-bab3-d4e8f1352125",
   "metadata": {},
   "outputs": [],
   "source": [
    "movies['Hum Tumhare Hain Sanam']='Mayur Amrute'"
   ]
  },
  {
   "cell_type": "code",
   "execution_count": 103,
   "id": "57a05881-fafe-4b1f-90e5-b8afbaee46e3",
   "metadata": {},
   "outputs": [
    {
     "data": {
      "text/plain": [
       "movie\n",
       "Uri: The Surgical Strike                   Vicky Kaushal\n",
       "Battalion 609                                Vicky Ahuja\n",
       "The Accidental Prime Minister (film)         Anupam Kher\n",
       "Why Cheat India                            Emraan Hashmi\n",
       "Evening Shadows                         Mona Ambegaonkar\n",
       "                                              ...       \n",
       "Aankhen (2002 film)                     Amitabh Bachchan\n",
       "Saathiya (film)                             Vivek Oberoi\n",
       "Company (film)                                Ajay Devgn\n",
       "Awara Paagal Deewana                        Akshay Kumar\n",
       "Hum Tumhare Hain Sanam                      Mayur Amrute\n",
       "Name: lead, Length: 1501, dtype: object"
      ]
     },
     "execution_count": 103,
     "metadata": {},
     "output_type": "execute_result"
    }
   ],
   "source": [
    "movies"
   ]
  },
  {
   "cell_type": "code",
   "execution_count": 104,
   "id": "aec284a3-c34d-45d7-b8b1-274049f5d77e",
   "metadata": {},
   "outputs": [],
   "source": [
    "# Series with python Functionality"
   ]
  },
  {
   "cell_type": "raw",
   "id": "46a40843-1542-4f16-b7db-d6964997b187",
   "metadata": {},
   "source": [
    "len min max dir sorted type"
   ]
  },
  {
   "cell_type": "code",
   "execution_count": 109,
   "id": "88bc06df-7950-4f13-b9e9-f6a7f20e2da2",
   "metadata": {
    "scrolled": true
   },
   "outputs": [
    {
     "name": "stdout",
     "output_type": "stream",
     "text": [
      "365\n",
      "33\n",
      "396\n",
      "[33, 33, 35, 37, 39, 40, 40, 40, 40, 42, 42, 43, 44, 44, 44, 45, 46, 46, 48, 49, 49, 49, 49, 50, 50, 50, 51, 54, 56, 56, 56, 56, 57, 61, 62, 64, 65, 65, 66, 66, 66, 66, 67, 68, 70, 70, 70, 71, 71, 72, 72, 72, 72, 72, 73, 74, 74, 75, 76, 76, 76, 76, 77, 77, 78, 78, 78, 79, 79, 80, 80, 80, 81, 81, 82, 82, 83, 83, 83, 84, 84, 84, 85, 86, 86, 86, 87, 87, 87, 87, 88, 88, 88, 88, 88, 89, 89, 89, 90, 90, 90, 90, 91, 92, 92, 92, 93, 93, 93, 93, 95, 95, 96, 96, 96, 96, 97, 97, 98, 98, 99, 99, 100, 100, 100, 101, 101, 101, 102, 102, 103, 103, 104, 104, 104, 105, 105, 105, 105, 105, 105, 105, 105, 105, 108, 108, 108, 108, 108, 108, 109, 109, 110, 110, 110, 111, 111, 112, 113, 113, 113, 114, 114, 114, 114, 115, 115, 115, 115, 117, 117, 117, 118, 118, 119, 119, 119, 119, 120, 122, 123, 123, 123, 123, 123, 124, 125, 126, 127, 128, 128, 129, 130, 131, 131, 132, 132, 134, 134, 134, 135, 135, 136, 136, 136, 137, 138, 138, 138, 139, 140, 144, 145, 146, 146, 146, 146, 147, 149, 150, 150, 150, 150, 151, 152, 152, 152, 153, 153, 153, 154, 154, 154, 155, 155, 156, 156, 156, 156, 157, 157, 157, 157, 158, 158, 159, 159, 160, 160, 160, 160, 162, 164, 166, 167, 167, 168, 170, 170, 170, 170, 171, 172, 172, 173, 173, 173, 174, 174, 175, 175, 176, 176, 177, 178, 179, 179, 180, 180, 180, 182, 183, 183, 183, 184, 184, 184, 185, 185, 185, 185, 186, 186, 186, 188, 189, 190, 190, 192, 192, 192, 196, 196, 196, 197, 197, 202, 202, 202, 203, 204, 206, 207, 209, 210, 210, 211, 212, 213, 214, 216, 219, 220, 221, 221, 222, 222, 224, 225, 225, 226, 227, 228, 229, 230, 231, 233, 236, 236, 237, 241, 243, 244, 245, 247, 249, 254, 254, 258, 259, 259, 261, 261, 265, 267, 268, 269, 276, 276, 290, 295, 301, 306, 312, 396]\n",
      "['T', '_AXIS_LEN', '_AXIS_ORDERS', '_AXIS_TO_AXIS_NUMBER', '_HANDLED_TYPES', '__abs__', '__add__', '__and__', '__annotations__', '__array__', '__array_priority__', '__array_ufunc__', '__bool__', '__class__', '__column_consortium_standard__', '__contains__', '__copy__', '__deepcopy__', '__delattr__', '__delitem__', '__dict__', '__dir__', '__divmod__', '__doc__', '__eq__', '__finalize__', '__float__', '__floordiv__', '__format__', '__ge__', '__getattr__', '__getattribute__', '__getitem__', '__getstate__', '__gt__', '__hash__', '__iadd__', '__iand__', '__ifloordiv__', '__imod__', '__imul__', '__init__', '__init_subclass__', '__int__', '__invert__', '__ior__', '__ipow__', '__isub__', '__iter__', '__itruediv__', '__ixor__', '__le__', '__len__', '__lt__', '__matmul__', '__mod__', '__module__', '__mul__', '__ne__', '__neg__', '__new__', '__nonzero__', '__or__', '__pandas_priority__', '__pos__', '__pow__', '__radd__', '__rand__', '__rdivmod__', '__reduce__', '__reduce_ex__', '__repr__', '__rfloordiv__', '__rmatmul__', '__rmod__', '__rmul__', '__ror__', '__round__', '__rpow__', '__rsub__', '__rtruediv__', '__rxor__', '__setattr__', '__setitem__', '__setstate__', '__sizeof__', '__str__', '__sub__', '__subclasshook__', '__truediv__', '__weakref__', '__xor__', '_accessors', '_accum_func', '_agg_examples_doc', '_agg_see_also_doc', '_align_for_op', '_align_frame', '_align_series', '_append', '_arith_method', '_as_manager', '_attrs', '_binop', '_cacher', '_can_hold_na', '_check_inplace_and_allows_duplicate_labels', '_check_is_chained_assignment_possible', '_check_label_or_level_ambiguity', '_check_setitem_copy', '_clear_item_cache', '_clip_with_one_bound', '_clip_with_scalar', '_cmp_method', '_consolidate', '_consolidate_inplace', '_construct_axes_dict', '_construct_result', '_constructor', '_constructor_expanddim', '_constructor_expanddim_from_mgr', '_constructor_from_mgr', '_data', '_deprecate_downcast', '_dir_additions', '_dir_deletions', '_drop_axis', '_drop_labels_or_levels', '_duplicated', '_find_valid_index', '_flags', '_flex_method', '_from_mgr', '_get_axis', '_get_axis_name', '_get_axis_number', '_get_axis_resolvers', '_get_block_manager_axis', '_get_bool_data', '_get_cacher', '_get_cleaned_column_resolvers', '_get_index_resolvers', '_get_label_or_level_values', '_get_numeric_data', '_get_rows_with_mask', '_get_value', '_get_values_tuple', '_get_with', '_getitem_slice', '_gotitem', '_hidden_attrs', '_indexed_same', '_info_axis', '_info_axis_name', '_info_axis_number', '_init_dict', '_init_mgr', '_inplace_method', '_internal_names', '_internal_names_set', '_is_cached', '_is_copy', '_is_label_or_level_reference', '_is_label_reference', '_is_level_reference', '_is_mixed_type', '_is_view', '_is_view_after_cow_rules', '_item_cache', '_ixs', '_logical_func', '_logical_method', '_map_values', '_maybe_update_cacher', '_memory_usage', '_metadata', '_mgr', '_min_count_stat_function', '_name', '_needs_reindex_multi', '_pad_or_backfill', '_protect_consolidate', '_reduce', '_references', '_reindex_axes', '_reindex_indexer', '_reindex_multi', '_reindex_with_indexers', '_rename', '_replace_single', '_repr_data_resource_', '_repr_latex_', '_reset_cache', '_reset_cacher', '_set_as_cached', '_set_axis', '_set_axis_name', '_set_axis_nocheck', '_set_is_copy', '_set_labels', '_set_name', '_set_value', '_set_values', '_set_with', '_set_with_engine', '_shift_with_freq', '_slice', '_stat_function', '_stat_function_ddof', '_take_with_is_copy', '_to_latex_via_styler', '_typ', '_update_inplace', '_validate_dtype', '_values', '_where', 'abs', 'add', 'add_prefix', 'add_suffix', 'agg', 'aggregate', 'align', 'all', 'any', 'apply', 'argmax', 'argmin', 'argsort', 'array', 'asfreq', 'asof', 'astype', 'at', 'at_time', 'attrs', 'autocorr', 'axes', 'backfill', 'between', 'between_time', 'bfill', 'bool', 'case_when', 'clip', 'combine', 'combine_first', 'compare', 'convert_dtypes', 'copy', 'corr', 'count', 'cov', 'cummax', 'cummin', 'cumprod', 'cumsum', 'describe', 'diff', 'div', 'divide', 'divmod', 'dot', 'drop', 'drop_duplicates', 'droplevel', 'dropna', 'dtype', 'dtypes', 'duplicated', 'empty', 'eq', 'equals', 'ewm', 'expanding', 'explode', 'factorize', 'ffill', 'fillna', 'filter', 'first', 'first_valid_index', 'flags', 'floordiv', 'ge', 'get', 'groupby', 'gt', 'hasnans', 'head', 'hist', 'iat', 'idxmax', 'idxmin', 'iloc', 'index', 'infer_objects', 'info', 'interpolate', 'is_monotonic_decreasing', 'is_monotonic_increasing', 'is_unique', 'isin', 'isna', 'isnull', 'item', 'items', 'keys', 'kurt', 'kurtosis', 'last', 'last_valid_index', 'le', 'list', 'loc', 'lt', 'map', 'mask', 'max', 'mean', 'median', 'memory_usage', 'min', 'mod', 'mode', 'mul', 'multiply', 'name', 'nbytes', 'ndim', 'ne', 'nlargest', 'notna', 'notnull', 'nsmallest', 'nunique', 'pad', 'pct_change', 'pipe', 'plot', 'pop', 'pow', 'prod', 'product', 'quantile', 'radd', 'rank', 'ravel', 'rdiv', 'rdivmod', 'reindex', 'reindex_like', 'rename', 'rename_axis', 'reorder_levels', 'repeat', 'replace', 'resample', 'reset_index', 'rfloordiv', 'rmod', 'rmul', 'rolling', 'round', 'rpow', 'rsub', 'rtruediv', 'sample', 'searchsorted', 'sem', 'set_axis', 'set_flags', 'shape', 'shift', 'size', 'skew', 'sort_index', 'sort_values', 'squeeze', 'std', 'struct', 'sub', 'subtract', 'sum', 'swapaxes', 'swaplevel', 'tail', 'take', 'to_clipboard', 'to_csv', 'to_dict', 'to_excel', 'to_frame', 'to_hdf', 'to_json', 'to_latex', 'to_list', 'to_markdown', 'to_numpy', 'to_period', 'to_pickle', 'to_sql', 'to_string', 'to_timestamp', 'to_xarray', 'transform', 'transpose', 'truediv', 'truncate', 'tz_convert', 'tz_localize', 'unique', 'unstack', 'update', 'value_counts', 'values', 'var', 'view', 'where', 'xs']\n"
     ]
    }
   ],
   "source": [
    "print(len(subs))\n",
    "print(min(subs))\n",
    "print(max(subs))\n",
    "print(sorted(subs))\n",
    "print(dir(subs))"
   ]
  },
  {
   "cell_type": "markdown",
   "id": "aaa42f78-09e4-4807-982c-c15b2a849137",
   "metadata": {},
   "source": [
    "## type conversion"
   ]
  },
  {
   "cell_type": "code",
   "execution_count": 110,
   "id": "e6e97d3e-c582-4dbc-931b-5be16b33a706",
   "metadata": {},
   "outputs": [
    {
     "data": {
      "text/plain": [
       "[100, 101, 80, 80, 80, 89]"
      ]
     },
     "execution_count": 110,
     "metadata": {},
     "output_type": "execute_result"
    }
   ],
   "source": [
    "list(marks_series)"
   ]
  },
  {
   "cell_type": "code",
   "execution_count": 113,
   "id": "7cdc18aa-cb22-43e9-9c68-d42d5377293d",
   "metadata": {},
   "outputs": [
    {
     "data": {
      "text/plain": [
       "{'maths': np.int64(100),\n",
       " 'English': np.int64(101),\n",
       " 'Hindi': np.int64(80),\n",
       " 'SS': np.int64(80),\n",
       " 'Science': np.int64(80),\n",
       " 'env': np.int64(89)}"
      ]
     },
     "execution_count": 113,
     "metadata": {},
     "output_type": "execute_result"
    }
   ],
   "source": [
    "dict(marks_series)"
   ]
  },
  {
   "cell_type": "markdown",
   "id": "44b51bc8-5d3e-444b-a1d4-d33e8305bb7c",
   "metadata": {},
   "source": [
    "## membership operator \n",
    "in / not in"
   ]
  },
  {
   "cell_type": "code",
   "execution_count": 115,
   "id": "1ccd2ea1-83a4-4a05-95db-172d7f909fad",
   "metadata": {},
   "outputs": [
    {
     "data": {
      "text/plain": [
       "movie\n",
       "Uri: The Surgical Strike                   Vicky Kaushal\n",
       "Battalion 609                                Vicky Ahuja\n",
       "The Accidental Prime Minister (film)         Anupam Kher\n",
       "Why Cheat India                            Emraan Hashmi\n",
       "Evening Shadows                         Mona Ambegaonkar\n",
       "                                              ...       \n",
       "Aankhen (2002 film)                     Amitabh Bachchan\n",
       "Saathiya (film)                             Vivek Oberoi\n",
       "Company (film)                                Ajay Devgn\n",
       "Awara Paagal Deewana                        Akshay Kumar\n",
       "Hum Tumhare Hain Sanam                      Mayur Amrute\n",
       "Name: lead, Length: 1501, dtype: object"
      ]
     },
     "execution_count": 115,
     "metadata": {},
     "output_type": "execute_result"
    }
   ],
   "source": [
    "movies"
   ]
  },
  {
   "cell_type": "code",
   "execution_count": 116,
   "id": "15f0dabb-2889-4e86-b04d-f2c3bb750fb1",
   "metadata": {},
   "outputs": [
    {
     "data": {
      "text/plain": [
       "True"
      ]
     },
     "execution_count": 116,
     "metadata": {},
     "output_type": "execute_result"
    }
   ],
   "source": [
    "'Battalion 609' in movies"
   ]
  },
  {
   "cell_type": "code",
   "execution_count": 117,
   "id": "1d33d96b-d35e-4997-92fa-8ecd3677487c",
   "metadata": {},
   "outputs": [
    {
     "data": {
      "text/plain": [
       "False"
      ]
     },
     "execution_count": 117,
     "metadata": {},
     "output_type": "execute_result"
    }
   ],
   "source": [
    "'Battalion 609' not in movies"
   ]
  },
  {
   "cell_type": "code",
   "execution_count": 118,
   "id": "ac46a4e5-51c2-4fdf-abdf-d05dbd96668f",
   "metadata": {},
   "outputs": [],
   "source": [
    "# looping on series "
   ]
  },
  {
   "cell_type": "markdown",
   "id": "7675fbbd-3415-4cf8-bad5-f5829eb5d326",
   "metadata": {},
   "source": [
    "## Arithmetic operator(Brodcsting)"
   ]
  },
  {
   "cell_type": "code",
   "execution_count": 122,
   "id": "e1018aca-b126-4594-b230-404418debcc3",
   "metadata": {},
   "outputs": [
    {
     "data": {
      "text/plain": [
       "maths      200\n",
       "English    201\n",
       "Hindi      180\n",
       "SS         180\n",
       "Science    180\n",
       "env        189\n",
       "Name: It is a Series demo, dtype: int64"
      ]
     },
     "execution_count": 122,
     "metadata": {},
     "output_type": "execute_result"
    }
   ],
   "source": [
    "marks_series + 100     # add 100 in each value of the series"
   ]
  },
  {
   "cell_type": "code",
   "execution_count": 123,
   "id": "13d4364f-f33c-484e-8df0-efbf37ba23d9",
   "metadata": {},
   "outputs": [
    {
     "data": {
      "text/plain": [
       "maths      50\n",
       "English    51\n",
       "Hindi      30\n",
       "SS         30\n",
       "Science    30\n",
       "env        39\n",
       "Name: It is a Series demo, dtype: int64"
      ]
     },
     "execution_count": 123,
     "metadata": {},
     "output_type": "execute_result"
    }
   ],
   "source": [
    "marks_series -50"
   ]
  },
  {
   "cell_type": "markdown",
   "id": "cf5b79c8-92f7-4dda-8dfc-0144db143c68",
   "metadata": {},
   "source": [
    "## Relational Operators"
   ]
  },
  {
   "cell_type": "code",
   "execution_count": null,
   "id": "c29940bd-a191-46cd-83c4-36d1056d550d",
   "metadata": {},
   "outputs": [],
   "source": [
    "# < > <= >= != =="
   ]
  },
  {
   "cell_type": "code",
   "execution_count": 129,
   "id": "1be9ca7b-c88b-4138-b29e-603ad75785b8",
   "metadata": {},
   "outputs": [
    {
     "data": {
      "text/plain": [
       "match_no\n",
       "15     50\n",
       "182    50\n",
       "Name: runs, dtype: int64"
      ]
     },
     "execution_count": 129,
     "metadata": {},
     "output_type": "execute_result"
    }
   ],
   "source": [
    "vk[vk == 50]"
   ]
  },
  {
   "cell_type": "code",
   "execution_count": 135,
   "id": "56dda607-acf2-4b7a-a86a-ebf32bdec91a",
   "metadata": {},
   "outputs": [
    {
     "data": {
      "text/plain": [
       "match_no\n",
       "123    108\n",
       "126    109\n",
       "128    113\n",
       "Name: runs, dtype: int64"
      ]
     },
     "execution_count": 135,
     "metadata": {},
     "output_type": "execute_result"
    }
   ],
   "source": [
    "# number of centuries\n",
    "vk[vk>100]"
   ]
  },
  {
   "cell_type": "code",
   "execution_count": 134,
   "id": "0e227821-00cc-413b-86fc-0c938b34f008",
   "metadata": {},
   "outputs": [
    {
     "data": {
      "text/plain": [
       "3"
      ]
     },
     "execution_count": 134,
     "metadata": {},
     "output_type": "execute_result"
    }
   ],
   "source": [
    "vk[vk>100].size"
   ]
  },
  {
   "cell_type": "code",
   "execution_count": 138,
   "id": "1923c292-38cc-423a-b9da-dd6901560784",
   "metadata": {},
   "outputs": [
    {
     "data": {
      "text/plain": [
       "9"
      ]
     },
     "execution_count": 138,
     "metadata": {},
     "output_type": "execute_result"
    }
   ],
   "source": [
    "# duck\n",
    "vk[vk==0].size"
   ]
  },
  {
   "cell_type": "code",
   "execution_count": 143,
   "id": "106ba0ef-8df2-46b0-bdaf-dc186e5d580d",
   "metadata": {},
   "outputs": [
    {
     "data": {
      "text/plain": [
       "59"
      ]
     },
     "execution_count": 143,
     "metadata": {},
     "output_type": "execute_result"
    }
   ],
   "source": [
    "# count number of days having more than 200 subsscriber\n",
    "subs[subs>200].size"
   ]
  },
  {
   "cell_type": "code",
   "execution_count": 144,
   "id": "1a901771-1140-4ce5-810c-3521200bc3ab",
   "metadata": {},
   "outputs": [],
   "source": [
    "# find the actor how has done more than 20 movies"
   ]
  },
  {
   "cell_type": "code",
   "execution_count": 150,
   "id": "fb16c1b5-e192-465c-b591-23a0c4b81749",
   "metadata": {},
   "outputs": [
    {
     "data": {
      "text/plain": [
       "lead\n",
       "Akshay Kumar        48\n",
       "Amitabh Bachchan    45\n",
       "Ajay Devgn          38\n",
       "Salman Khan         31\n",
       "Sanjay Dutt         26\n",
       "Shah Rukh Khan      21\n",
       "Emraan Hashmi       21\n",
       "Name: count, dtype: int64"
      ]
     },
     "execution_count": 150,
     "metadata": {},
     "output_type": "execute_result"
    }
   ],
   "source": [
    "num_movies=movies.value_counts()\n",
    "num_movies[num_movies>20]"
   ]
  },
  {
   "cell_type": "markdown",
   "id": "b185bd40-4519-4eb1-9391-deeae3a1d99a",
   "metadata": {},
   "source": [
    "## plotting graphs on series"
   ]
  },
  {
   "cell_type": "code",
   "execution_count": 151,
   "id": "07f2b266-5dca-409b-a7ce-900efcf884c1",
   "metadata": {},
   "outputs": [
    {
     "data": {
      "text/plain": [
       "<Axes: >"
      ]
     },
     "execution_count": 151,
     "metadata": {},
     "output_type": "execute_result"
    },
    {
     "data": {
      "image/png": "[encoded data removed]",
      "text/plain": [
       "<Figure size 640x480 with 1 Axes>"
      ]
     },
     "metadata": {},
     "output_type": "display_data"
    }
   ],
   "source": [
    "subs.plot()"
   ]
  },
  {
   "cell_type": "code",
   "execution_count": 156,
   "id": "5bcfe847-eea3-4c98-984c-184552646b09",
   "metadata": {},
   "outputs": [
    {
     "data": {
      "text/plain": [
       "<Axes: ylabel='count'>"
      ]
     },
     "execution_count": 156,
     "metadata": {},
     "output_type": "execute_result"
    },
    {
     "data": {
      "image/png": "[encoded data removed]",
      "text/plain": [
       "<Figure size 640x480 with 1 Axes>"
      ]
     },
     "metadata": {},
     "output_type": "display_data"
    }
   ],
   "source": [
    "movies.value_counts().head(10).plot(kind='pie')"
   ]
  },
  {
   "cell_type": "markdown",
   "id": "1bc9141d-f419-450a-b861-68b0c9263cc5",
   "metadata": {},
   "source": [
    "## Some Important Series Methods"
   ]
  },
  {
   "cell_type": "code",
   "execution_count": 157,
   "id": "d6b244c4-587d-46cf-96a5-63acfd176169",
   "metadata": {},
   "outputs": [],
   "source": [
    "import sys"
   ]
  },
  {
   "cell_type": "code",
   "execution_count": 158,
   "id": "36389f3c-5e4b-43d2-918e-cc9c5c2d8e77",
   "metadata": {},
   "outputs": [
    {
     "data": {
      "text/plain": [
       "11768"
      ]
     },
     "execution_count": 158,
     "metadata": {},
     "output_type": "execute_result"
    }
   ],
   "source": [
    "sys.getsizeof(vk)"
   ]
  },
  {
   "cell_type": "code",
   "execution_count": null,
   "id": "384144ee-067c-41cd-8173-f1301324d7e0",
   "metadata": {},
   "outputs": [],
   "source": [
    "# astype() function is used to reduse the dtype size "
   ]
  },
  {
   "cell_type": "code",
   "execution_count": 161,
   "id": "2efb5ef2-e79e-40cf-a6ca-436e6b2db929",
   "metadata": {},
   "outputs": [
    {
     "data": {
      "text/plain": [
       "10478"
      ]
     },
     "execution_count": 161,
     "metadata": {},
     "output_type": "execute_result"
    }
   ],
   "source": [
    "sys.getsizeof(vk.astype('int16'))"
   ]
  },
  {
   "cell_type": "markdown",
   "id": "5ecb75d1-086b-478b-bdde-b2b4d598e2c2",
   "metadata": {},
   "source": [
    "### between()\n",
    "use to check values lies in between range"
   ]
  },
  {
   "cell_type": "code",
   "execution_count": 162,
   "id": "3f0ab4b8-5310-4277-8d0d-c2e53392b031",
   "metadata": {},
   "outputs": [
    {
     "data": {
      "text/plain": [
       "match_no\n",
       "1      False\n",
       "2      False\n",
       "3      False\n",
       "4      False\n",
       "5      False\n",
       "       ...  \n",
       "211    False\n",
       "212    False\n",
       "213     True\n",
       "214    False\n",
       "215    False\n",
       "Name: runs, Length: 215, dtype: bool"
      ]
     },
     "execution_count": 162,
     "metadata": {},
     "output_type": "execute_result"
    }
   ],
   "source": [
    "vk.between(51,99)"
   ]
  },
  {
   "cell_type": "code",
   "execution_count": 164,
   "id": "ccabf926-7225-4ac4-abb9-612a233ce52f",
   "metadata": {},
   "outputs": [
    {
     "data": {
      "text/plain": [
       "43"
      ]
     },
     "execution_count": 164,
     "metadata": {},
     "output_type": "execute_result"
    }
   ],
   "source": [
    "vk[vk.between(51,99)].size"
   ]
  },
  {
   "cell_type": "code",
   "execution_count": null,
   "id": "36fc3fb3-f5f8-48b3-b6b2-dc3688ef93a6",
   "metadata": {},
   "outputs": [],
   "source": [
    "# clip\n",
    "# this function is use to clip the upper and lower values in between range"
   ]
  },
  {
   "cell_type": "code",
   "execution_count": 165,
   "id": "e5c68a36-d3ea-4735-919d-be082fc7ac81",
   "metadata": {},
   "outputs": [
    {
     "data": {
      "text/plain": [
       "0      100\n",
       "1      100\n",
       "2      100\n",
       "3      100\n",
       "4      100\n",
       "      ... \n",
       "360    200\n",
       "361    200\n",
       "362    155\n",
       "363    144\n",
       "364    172\n",
       "Name: Subscribers gained, Length: 365, dtype: int64"
      ]
     },
     "execution_count": 165,
     "metadata": {},
     "output_type": "execute_result"
    }
   ],
   "source": [
    "subs.clip(100,200)         # below 100 values get 100 and above 200 values get to 200 . in between remail as it is "
   ]
  },
  {
   "cell_type": "markdown",
   "id": "18831560-15c2-4e50-8caf-e46cc37910a9",
   "metadata": {},
   "source": [
    "## drop_duplicates90"
   ]
  },
  {
   "cell_type": "code",
   "execution_count": 168,
   "id": "0e452312-2c44-4575-b4a4-31a70f8faca2",
   "metadata": {
    "scrolled": true
   },
   "outputs": [
    {
     "data": {
      "text/plain": [
       "0    1\n",
       "1    1\n",
       "2    2\n",
       "3    2\n",
       "4    3\n",
       "5    3\n",
       "6    4\n",
       "7    4\n",
       "dtype: int64"
      ]
     },
     "execution_count": 168,
     "metadata": {},
     "output_type": "execute_result"
    }
   ],
   "source": [
    "temp = pd.Series([1,1,2,2,3,3,4,4])\n",
    "temp"
   ]
  },
  {
   "cell_type": "code",
   "execution_count": 169,
   "id": "7b6069e3-88a8-4b81-9d4d-41cbb9f621e9",
   "metadata": {},
   "outputs": [
    {
     "data": {
      "text/plain": [
       "0    1\n",
       "2    2\n",
       "4    3\n",
       "6    4\n",
       "dtype: int64"
      ]
     },
     "execution_count": 169,
     "metadata": {},
     "output_type": "execute_result"
    }
   ],
   "source": [
    "temp.drop_duplicates()    # will not consider the repeated values"
   ]
  },
  {
   "cell_type": "code",
   "execution_count": 170,
   "id": "f019fb51-a89e-407b-a789-de97e2d44cb9",
   "metadata": {},
   "outputs": [
    {
     "data": {
      "text/plain": [
       "1    1\n",
       "3    2\n",
       "5    3\n",
       "7    4\n",
       "dtype: int64"
      ]
     },
     "execution_count": 170,
     "metadata": {},
     "output_type": "execute_result"
    }
   ],
   "source": [
    "temp.drop_duplicates(keep='last')   # this keeps the last occurance of the item"
   ]
  },
  {
   "cell_type": "code",
   "execution_count": 174,
   "id": "a7b8a89a-3b58-47be-a7e2-08c1e97e9e65",
   "metadata": {},
   "outputs": [
    {
     "data": {
      "text/plain": [
       "0    False\n",
       "1     True\n",
       "2    False\n",
       "3     True\n",
       "4    False\n",
       "5     True\n",
       "6    False\n",
       "7     True\n",
       "dtype: bool"
      ]
     },
     "execution_count": 174,
     "metadata": {},
     "output_type": "execute_result"
    }
   ],
   "source": [
    "temp.duplicated()     # gives the boolean matrix if value is duplicate then give True"
   ]
  },
  {
   "cell_type": "code",
   "execution_count": 176,
   "id": "839a95b1-379f-4644-aa25-b53d40c01b62",
   "metadata": {},
   "outputs": [
    {
     "name": "stdout",
     "output_type": "stream",
     "text": [
      "4\n"
     ]
    }
   ],
   "source": [
    "print(temp.duplicated().sum())    # will give the count of all duplicated values "
   ]
  },
  {
   "cell_type": "code",
   "execution_count": 177,
   "id": "9907b0f8-ea80-4fa5-974c-8b3ff32490a7",
   "metadata": {},
   "outputs": [
    {
     "data": {
      "text/plain": [
       "0     1.0\n",
       "1     2.0\n",
       "2     3.0\n",
       "3     NaN\n",
       "4     5.0\n",
       "5     6.0\n",
       "6     NaN\n",
       "7     8.0\n",
       "8     NaN\n",
       "9    10.0\n",
       "dtype: float64"
      ]
     },
     "execution_count": 177,
     "metadata": {},
     "output_type": "execute_result"
    }
   ],
   "source": [
    "temp = pd.Series([1,2,3,np.nan,5,6,np.nan,8,np.nan,10])\n",
    "temp"
   ]
  },
  {
   "cell_type": "code",
   "execution_count": 180,
   "id": "5dbcb6ba-7734-4d67-aade-347a5c22c40d",
   "metadata": {},
   "outputs": [
    {
     "name": "stdout",
     "output_type": "stream",
     "text": [
      "7\n"
     ]
    }
   ],
   "source": [
    "print(temp.count())    # not count the NAN values"
   ]
  },
  {
   "cell_type": "code",
   "execution_count": 182,
   "id": "689def1e-2c5b-45f8-be6a-dfc51820a3e1",
   "metadata": {},
   "outputs": [
    {
     "name": "stdout",
     "output_type": "stream",
     "text": [
      "10\n"
     ]
    }
   ],
   "source": [
    "print(temp.size)      # count NAN values also number of records"
   ]
  },
  {
   "cell_type": "markdown",
   "id": "b35a8b12-0dd3-4b2b-a583-c047478b19a7",
   "metadata": {},
   "source": [
    "## isnull()\n",
    "this function gives the bool value "
   ]
  },
  {
   "cell_type": "code",
   "execution_count": 184,
   "id": "9eeb4973-d176-4149-ae5b-85359ac48e48",
   "metadata": {},
   "outputs": [
    {
     "data": {
      "text/plain": [
       "0    False\n",
       "1    False\n",
       "2    False\n",
       "3     True\n",
       "4    False\n",
       "5    False\n",
       "6     True\n",
       "7    False\n",
       "8     True\n",
       "9    False\n",
       "dtype: bool"
      ]
     },
     "execution_count": 184,
     "metadata": {},
     "output_type": "execute_result"
    }
   ],
   "source": [
    "temp.isnull()             # True if value is null"
   ]
  },
  {
   "cell_type": "code",
   "execution_count": 187,
   "id": "d78c5ff5-0441-4014-b6f2-0c0e4798a55e",
   "metadata": {},
   "outputs": [
    {
     "name": "stdout",
     "output_type": "stream",
     "text": [
      "3\n"
     ]
    }
   ],
   "source": [
    "print(temp.isnull().sum())     # cont the number of nan values"
   ]
  },
  {
   "cell_type": "markdown",
   "id": "17d30041-353f-46f8-8f40-41846b241b05",
   "metadata": {},
   "source": [
    "### dropna()"
   ]
  },
  {
   "cell_type": "code",
   "execution_count": 188,
   "id": "f44af311-c058-43b4-b826-c3858a7edba7",
   "metadata": {},
   "outputs": [
    {
     "data": {
      "text/plain": [
       "0     1.0\n",
       "1     2.0\n",
       "2     3.0\n",
       "4     5.0\n",
       "5     6.0\n",
       "7     8.0\n",
       "9    10.0\n",
       "dtype: float64"
      ]
     },
     "execution_count": 188,
     "metadata": {},
     "output_type": "execute_result"
    }
   ],
   "source": [
    "temp.dropna()  # remove the NAN values"
   ]
  },
  {
   "cell_type": "markdown",
   "id": "b0bb9b7e-f88b-435e-9853-a401db36bee9",
   "metadata": {},
   "source": [
    "## fillna()\n",
    "this methos is use to fill the specific value at the na position"
   ]
  },
  {
   "cell_type": "code",
   "execution_count": 190,
   "id": "a14997f5-e75e-48e1-981a-b987070b9913",
   "metadata": {},
   "outputs": [
    {
     "data": {
      "text/plain": [
       "0     1.0\n",
       "1     2.0\n",
       "2     3.0\n",
       "3     5.0\n",
       "4     5.0\n",
       "5     6.0\n",
       "6     5.0\n",
       "7     8.0\n",
       "8     5.0\n",
       "9    10.0\n",
       "dtype: float64"
      ]
     },
     "execution_count": 190,
     "metadata": {},
     "output_type": "execute_result"
    }
   ],
   "source": [
    "temp.fillna(temp.mean())"
   ]
  },
  {
   "cell_type": "markdown",
   "id": "616c78af-ce34-417b-ad5b-1eee52c4b011",
   "metadata": {},
   "source": [
    "## isin()\n",
    "use to check if value(multiple values at a time) present in dataset"
   ]
  },
  {
   "cell_type": "code",
   "execution_count": 195,
   "id": "789e7ef2-2724-49db-8eff-eb965f9056fe",
   "metadata": {},
   "outputs": [
    {
     "data": {
      "text/plain": [
       "match_no\n",
       "82    99\n",
       "86    49\n",
       "Name: runs, dtype: int64"
      ]
     },
     "execution_count": 195,
     "metadata": {},
     "output_type": "execute_result"
    }
   ],
   "source": [
    "vk[(vk==49) | (vk==99)]"
   ]
  },
  {
   "cell_type": "code",
   "execution_count": 196,
   "id": "ed30d960-e1f8-4c14-b52b-f79baf4e3c74",
   "metadata": {},
   "outputs": [
    {
     "data": {
      "text/plain": [
       "match_no\n",
       "1      False\n",
       "2      False\n",
       "3      False\n",
       "4      False\n",
       "5      False\n",
       "       ...  \n",
       "211    False\n",
       "212    False\n",
       "213    False\n",
       "214    False\n",
       "215    False\n",
       "Name: runs, Length: 215, dtype: bool"
      ]
     },
     "execution_count": 196,
     "metadata": {},
     "output_type": "execute_result"
    }
   ],
   "source": [
    "vk.isin([49,99])"
   ]
  },
  {
   "cell_type": "code",
   "execution_count": 197,
   "id": "0376a393-d298-4c7d-bc1e-3c03880213ca",
   "metadata": {},
   "outputs": [
    {
     "data": {
      "text/plain": [
       "match_no\n",
       "82    99\n",
       "86    49\n",
       "Name: runs, dtype: int64"
      ]
     },
     "execution_count": 197,
     "metadata": {},
     "output_type": "execute_result"
    }
   ],
   "source": [
    "vk[vk.isin([49,99])]"
   ]
  },
  {
   "cell_type": "markdown",
   "id": "e3400263-23db-4758-a7ce-83bbac2fd630",
   "metadata": {},
   "source": [
    "## apply()\n",
    "apply() function allows us to apply the userdefine fuction on the data \n",
    "if we want first letter is in upper case"
   ]
  },
  {
   "cell_type": "code",
   "execution_count": 198,
   "id": "ba0adc52-3f7c-449a-915e-1786bde381e6",
   "metadata": {},
   "outputs": [
    {
     "data": {
      "text/plain": [
       "movie\n",
       "Uri: The Surgical Strike                   Vicky Kaushal\n",
       "Battalion 609                                Vicky Ahuja\n",
       "The Accidental Prime Minister (film)         Anupam Kher\n",
       "Why Cheat India                            Emraan Hashmi\n",
       "Evening Shadows                         Mona Ambegaonkar\n",
       "                                              ...       \n",
       "Aankhen (2002 film)                     Amitabh Bachchan\n",
       "Saathiya (film)                             Vivek Oberoi\n",
       "Company (film)                                Ajay Devgn\n",
       "Awara Paagal Deewana                        Akshay Kumar\n",
       "Hum Tumhare Hain Sanam                      Mayur Amrute\n",
       "Name: lead, Length: 1501, dtype: object"
      ]
     },
     "execution_count": 198,
     "metadata": {},
     "output_type": "execute_result"
    }
   ],
   "source": [
    "movies"
   ]
  },
  {
   "cell_type": "code",
   "execution_count": 202,
   "id": "c17bb7fa-a2e0-4d6a-8cd6-7d037c4a20bd",
   "metadata": {},
   "outputs": [
    {
     "data": {
      "text/plain": [
       "movie\n",
       "Uri: The Surgical Strike                  VICKY\n",
       "Battalion 609                             VICKY\n",
       "The Accidental Prime Minister (film)     ANUPAM\n",
       "Why Cheat India                          EMRAAN\n",
       "Evening Shadows                            MONA\n",
       "                                         ...   \n",
       "Aankhen (2002 film)                     AMITABH\n",
       "Saathiya (film)                           VIVEK\n",
       "Company (film)                             AJAY\n",
       "Awara Paagal Deewana                     AKSHAY\n",
       "Hum Tumhare Hain Sanam                    MAYUR\n",
       "Name: lead, Length: 1501, dtype: object"
      ]
     },
     "execution_count": 202,
     "metadata": {},
     "output_type": "execute_result"
    }
   ],
   "source": [
    "movies.apply(lambda x:x.split()[0].upper())     # function chaining"
   ]
  },
  {
   "cell_type": "code",
   "execution_count": 203,
   "id": "06f39ca4-53e2-4275-9362-099904dcea6c",
   "metadata": {},
   "outputs": [
    {
     "data": {
      "text/plain": [
       "0       48\n",
       "1       57\n",
       "2       40\n",
       "3       43\n",
       "4       44\n",
       "      ... \n",
       "360    231\n",
       "361    226\n",
       "362    155\n",
       "363    144\n",
       "364    172\n",
       "Name: Subscribers gained, Length: 365, dtype: int64"
      ]
     },
     "execution_count": 203,
     "metadata": {},
     "output_type": "execute_result"
    }
   ],
   "source": [
    "subs"
   ]
  },
  {
   "cell_type": "code",
   "execution_count": 205,
   "id": "20de207f-6ab3-4b80-bee1-6363d66e441a",
   "metadata": {},
   "outputs": [
    {
     "data": {
      "text/plain": [
       "0       bad day\n",
       "1       bad day\n",
       "2       bad day\n",
       "3       bad day\n",
       "4       bad day\n",
       "         ...   \n",
       "360    good day\n",
       "361    good day\n",
       "362    good day\n",
       "363    good day\n",
       "364    good day\n",
       "Name: Subscribers gained, Length: 365, dtype: object"
      ]
     },
     "execution_count": 205,
     "metadata": {},
     "output_type": "execute_result"
    }
   ],
   "source": [
    "subs.apply(lambda x: 'good day' if x>subs.mean() else 'bad day')"
   ]
  },
  {
   "cell_type": "markdown",
   "id": "a235c106-c3c0-4d81-b792-4e3da85a1798",
   "metadata": {},
   "source": [
    "## copy()\n",
    "head tail sample gives the view of data. if we make changes even using referance variable using this function will reflect in original data frame \n",
    "so it is necessry to copy before performing operation on  view of data"
   ]
  },
  {
   "cell_type": "code",
   "execution_count": 206,
   "id": "e948acb4-bb58-4981-bf5f-35428ba527df",
   "metadata": {},
   "outputs": [
    {
     "data": {
      "text/plain": [
       "match_no\n",
       "1      100\n",
       "2      100\n",
       "3       13\n",
       "4       12\n",
       "5      100\n",
       "      ... \n",
       "211      0\n",
       "212     20\n",
       "213     73\n",
       "214     25\n",
       "215      7\n",
       "Name: runs, Length: 215, dtype: int64"
      ]
     },
     "execution_count": 206,
     "metadata": {},
     "output_type": "execute_result"
    }
   ],
   "source": [
    "vk"
   ]
  },
  {
   "cell_type": "code",
   "execution_count": 211,
   "id": "2b2eb09a-f928-4c79-9b54-32553bc98752",
   "metadata": {},
   "outputs": [
    {
     "data": {
      "text/plain": [
       "match_no\n",
       "1    100\n",
       "2    100\n",
       "3     13\n",
       "4     12\n",
       "5    100\n",
       "Name: runs, dtype: int64"
      ]
     },
     "execution_count": 211,
     "metadata": {},
     "output_type": "execute_result"
    }
   ],
   "source": [
    "new = vk.head()\n",
    "new"
   ]
  },
  {
   "cell_type": "code",
   "execution_count": 214,
   "id": "32095e0f-e842-4815-aa2b-921f59ed91e7",
   "metadata": {},
   "outputs": [],
   "source": [
    "new[1]=0      # makes actual change in the original data frame"
   ]
  },
  {
   "cell_type": "code",
   "execution_count": 215,
   "id": "6ef29f62-827b-454b-bdc0-e3972d20e663",
   "metadata": {},
   "outputs": [
    {
     "data": {
      "text/plain": [
       "match_no\n",
       "1      0\n",
       "2    100\n",
       "3     13\n",
       "4     12\n",
       "5    100\n",
       "Name: runs, dtype: int64"
      ]
     },
     "execution_count": 215,
     "metadata": {},
     "output_type": "execute_result"
    }
   ],
   "source": [
    "new    "
   ]
  },
  {
   "cell_type": "code",
   "execution_count": 216,
   "id": "392688f8-2ac3-4ab2-ab27-69f52ed3c1c4",
   "metadata": {},
   "outputs": [
    {
     "data": {
      "text/plain": [
       "match_no\n",
       "1        0\n",
       "2      100\n",
       "3       13\n",
       "4       12\n",
       "5      100\n",
       "      ... \n",
       "211      0\n",
       "212     20\n",
       "213     73\n",
       "214     25\n",
       "215      7\n",
       "Name: runs, Length: 215, dtype: int64"
      ]
     },
     "execution_count": 216,
     "metadata": {},
     "output_type": "execute_result"
    }
   ],
   "source": [
    "vk"
   ]
  },
  {
   "cell_type": "code",
   "execution_count": 219,
   "id": "bfc4d2a7-eaf2-42aa-9aa6-f4fb0f7bdfa6",
   "metadata": {},
   "outputs": [
    {
     "data": {
      "text/plain": [
       "match_no\n",
       "211     0\n",
       "212    20\n",
       "213    73\n",
       "214    25\n",
       "215     7\n",
       "Name: runs, dtype: int64"
      ]
     },
     "execution_count": 219,
     "metadata": {},
     "output_type": "execute_result"
    }
   ],
   "source": [
    "new = vk.tail().copy()\n",
    "new"
   ]
  },
  {
   "cell_type": "code",
   "execution_count": 220,
   "id": "4d2b7f1a-28c6-4338-a0eb-1ae9eb28bd84",
   "metadata": {},
   "outputs": [
    {
     "data": {
      "text/plain": [
       "match_no\n",
       "211     0\n",
       "212    20\n",
       "213    73\n",
       "214    25\n",
       "215     7\n",
       "Name: runs, dtype: int64"
      ]
     },
     "execution_count": 220,
     "metadata": {},
     "output_type": "execute_result"
    }
   ],
   "source": [
    "new"
   ]
  },
  {
   "cell_type": "code",
   "execution_count": 223,
   "id": "0d09476f-e3ca-4625-bacc-7dab6ac82f15",
   "metadata": {},
   "outputs": [],
   "source": [
    "new[215] = 99"
   ]
  },
  {
   "cell_type": "code",
   "execution_count": 224,
   "id": "6578f9e2-7b0a-45eb-96ab-51e7be0007a6",
   "metadata": {},
   "outputs": [
    {
     "data": {
      "text/plain": [
       "match_no\n",
       "211     0\n",
       "212    20\n",
       "213    73\n",
       "214    25\n",
       "215    99\n",
       "Name: runs, dtype: int64"
      ]
     },
     "execution_count": 224,
     "metadata": {},
     "output_type": "execute_result"
    }
   ],
   "source": [
    "new"
   ]
  },
  {
   "cell_type": "code",
   "execution_count": 225,
   "id": "17b1f6df-6f8e-40d6-80d6-015da0eefe82",
   "metadata": {},
   "outputs": [
    {
     "data": {
      "text/plain": [
       "match_no\n",
       "211     0\n",
       "212    20\n",
       "213    73\n",
       "214    25\n",
       "215     7\n",
       "Name: runs, dtype: int64"
      ]
     },
     "execution_count": 225,
     "metadata": {},
     "output_type": "execute_result"
    }
   ],
   "source": [
    "vk.tail()   # not makes changes in the origial dataframe / series "
   ]
  },
  {
   "cell_type": "code",
   "execution_count": null,
   "id": "eea9c7d5-c43f-481e-bf9b-3f80c4f6cc2a",
   "metadata": {},
   "outputs": [],
   "source": []
  }
 ],
 "metadata": {
  "kernelspec": {
   "display_name": "Python 3 (ipykernel)",
   "language": "python",
   "name": "python3"
  },
  "language_info": {
   "codemirror_mode": {
    "name": "ipython",
    "version": 3
   },
   "file_extension": ".py",
   "mimetype": "text/x-python",
   "name": "python",
   "nbconvert_exporter": "python",
   "pygments_lexer": "ipython3",
   "version": "3.12.5"
  }
 },
 "nbformat": 4,
 "nbformat_minor": 5
}
