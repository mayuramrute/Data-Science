{
 "cells": [
  {
   "cell_type": "code",
   "execution_count": 4,
   "id": "b1991b36-a5ef-4032-bd51-596ab06bfcee",
   "metadata": {},
   "outputs": [
    {
     "name": "stdout",
     "output_type": "stream",
     "text": [
      "\n",
      "*\n",
      "**\n",
      "***\n",
      "****\n",
      "*****\n"
     ]
    }
   ],
   "source": [
    "for i in range(6):\n",
    "    for j in range(i):\n",
    "        print(\"*\", end='')\n",
    "        \n",
    "    print()"
   ]
  },
  {
   "cell_type": "code",
   "execution_count": 3,
   "id": "5373819b-56f1-4de1-863b-00d924fe498b",
   "metadata": {},
   "outputs": [
    {
     "name": "stdin",
     "output_type": "stream",
     "text": [
      "enter the number:  5\n"
     ]
    },
    {
     "name": "stdout",
     "output_type": "stream",
     "text": [
      "1\n",
      "121\n",
      "12321\n",
      "1234321\n",
      "123454321\n"
     ]
    }
   ],
   "source": [
    "row = int(input(\"enter the number: \"))\n",
    "for i in range(1, row+1):\n",
    "    for j in range(1, i+1):\n",
    "        print(j, end='')\n",
    "    for k in range(i-1, 0,-1):\n",
    "        print(k, end=\"\")\n",
    "        \n",
    "    print()"
   ]
  },
  {
   "cell_type": "code",
   "execution_count": 6,
   "id": "ca29b41e-80a6-4a23-9dbe-7b6455be9b11",
   "metadata": {},
   "outputs": [
    {
     "name": "stdin",
     "output_type": "stream",
     "text": [
      "enter the low number:  1\n",
      "enter higher number:  100\n"
     ]
    },
    {
     "name": "stdout",
     "output_type": "stream",
     "text": [
      "1\n",
      "2\n",
      "3\n",
      "5\n",
      "7\n",
      "11\n",
      "13\n",
      "17\n",
      "19\n",
      "23\n",
      "29\n",
      "31\n",
      "37\n",
      "41\n",
      "43\n",
      "47\n",
      "53\n",
      "59\n",
      "61\n",
      "67\n",
      "71\n",
      "73\n",
      "79\n",
      "83\n",
      "89\n",
      "97\n"
     ]
    }
   ],
   "source": [
    "# prime number in the given range\n",
    "\n",
    "low = int(input(\"enter the low number: \"))\n",
    "high = int(input(\"enter higher number: \"))\n",
    "\n",
    "for i in range(low, high+1):\n",
    "    for j in range(2, i):\n",
    "        if i%j==0:\n",
    "            break\n",
    "    else:\n",
    "        print(i)"
   ]
  },
  {
   "cell_type": "code",
   "execution_count": 10,
   "id": "0a2d4e8f-5111-4222-a700-90220b592d9a",
   "metadata": {},
   "outputs": [
    {
     "ename": "TypeError",
     "evalue": "'str' object does not support item assignment",
     "output_type": "error",
     "traceback": [
      "\u001b[1;31m---------------------------------------------------------------------------\u001b[0m",
      "\u001b[1;31mTypeError\u001b[0m                                 Traceback (most recent call last)",
      "Cell \u001b[1;32mIn[10], line 2\u001b[0m\n\u001b[0;32m      1\u001b[0m s\u001b[38;5;241m=\u001b[39m \u001b[38;5;124m'\u001b[39m\u001b[38;5;124mmayur\u001b[39m\u001b[38;5;124m'\u001b[39m\n\u001b[1;32m----> 2\u001b[0m \u001b[43ms\u001b[49m\u001b[43m[\u001b[49m\u001b[38;5;241;43m0\u001b[39;49m\u001b[43m]\u001b[49m\u001b[38;5;241m=\u001b[39m\u001b[38;5;124m\"\u001b[39m\u001b[38;5;124mM\u001b[39m\u001b[38;5;124m\"\u001b[39m\n",
      "\u001b[1;31mTypeError\u001b[0m: 'str' object does not support item assignment"
     ]
    }
   ],
   "source": [
    "s= 'mayur'\n",
    "s[0]=\"M\""
   ]
  },
  {
   "cell_type": "code",
   "execution_count": 12,
   "id": "13905bd7-ab74-45b0-a5b5-3067b3f74bb1",
   "metadata": {},
   "outputs": [
    {
     "data": {
      "text/plain": [
       "'Mayur Amrute'"
      ]
     },
     "execution_count": 12,
     "metadata": {},
     "output_type": "execute_result"
    }
   ],
   "source": [
    "\"Mayur \" + \"Amrute\""
   ]
  },
  {
   "cell_type": "code",
   "execution_count": 14,
   "id": "a2a680ad-7c13-45cf-b64e-5bf511dd8bfd",
   "metadata": {},
   "outputs": [
    {
     "data": {
      "text/plain": [
       "'Mayur Mayur Mayur Mayur Mayur '"
      ]
     },
     "execution_count": 14,
     "metadata": {},
     "output_type": "execute_result"
    }
   ],
   "source": [
    "\"Mayur \" * 5"
   ]
  },
  {
   "cell_type": "code",
   "execution_count": 16,
   "id": "65c3b0fa-696b-4b0a-862b-e174a8a51db6",
   "metadata": {},
   "outputs": [
    {
     "data": {
      "text/plain": [
       "'********************************************************************************'"
      ]
     },
     "execution_count": 16,
     "metadata": {},
     "output_type": "execute_result"
    }
   ],
   "source": [
    "\"*\"*80"
   ]
  },
  {
   "cell_type": "code",
   "execution_count": 23,
   "id": "fe91e912-c2cd-44ed-b4d4-febf78f01e53",
   "metadata": {},
   "outputs": [
    {
     "data": {
      "text/plain": [
       "True"
      ]
     },
     "execution_count": 23,
     "metadata": {},
     "output_type": "execute_result"
    }
   ],
   "source": [
    "\"mayur\">\"Mayur\""
   ]
  },
  {
   "cell_type": "code",
   "execution_count": 30,
   "id": "0a03dea6-575e-4d6c-a865-143ef7dc1c11",
   "metadata": {},
   "outputs": [
    {
     "name": "stdout",
     "output_type": "stream",
     "text": [
      "\n",
      "world\n"
     ]
    }
   ],
   "source": [
    "#here space is consider as a false value and other than the sapce is the +value\n",
    "print(\"\" and \"world\")# False will not evaluate the next variable\n",
    "print(\"Hello\" and \"world\")# will evalute next and print the same "
   ]
  },
  {
   "cell_type": "code",
   "execution_count": 2,
   "id": "587f35e9-7971-4571-ad3f-ed44cc519849",
   "metadata": {},
   "outputs": [
    {
     "data": {
      "text/plain": [
       "'Mayur'"
      ]
     },
     "execution_count": 2,
     "metadata": {},
     "output_type": "execute_result"
    }
   ],
   "source": [
    "'mayur' and 'Mayur'"
   ]
  },
  {
   "cell_type": "code",
   "execution_count": 33,
   "id": "b8047cb5-0110-4134-a088-90301b87a16a",
   "metadata": {},
   "outputs": [
    {
     "data": {
      "text/plain": [
       "12"
      ]
     },
     "execution_count": 33,
     "metadata": {},
     "output_type": "execute_result"
    }
   ],
   "source": [
    "len(\"Mayur Amrute\")"
   ]
  },
  {
   "cell_type": "code",
   "execution_count": 35,
   "id": "c21ecd47-d4c4-4fe0-81ca-59018ed5fc62",
   "metadata": {},
   "outputs": [
    {
     "data": {
      "text/plain": [
       "'M'"
      ]
     },
     "execution_count": 35,
     "metadata": {},
     "output_type": "execute_result"
    }
   ],
   "source": [
    "min(\"Mayur\")# ASCII value"
   ]
  },
  {
   "cell_type": "code",
   "execution_count": 37,
   "id": "c64e9194-7434-4b40-b40d-ce0e269d7b8e",
   "metadata": {},
   "outputs": [
    {
     "data": {
      "text/plain": [
       "'y'"
      ]
     },
     "execution_count": 37,
     "metadata": {},
     "output_type": "execute_result"
    }
   ],
   "source": [
    "max(\"Mayur\")"
   ]
  },
  {
   "cell_type": "code",
   "execution_count": 39,
   "id": "2f104e79-40b3-443c-90b9-1901d4256408",
   "metadata": {},
   "outputs": [
    {
     "data": {
      "text/plain": [
       "[' ', 'A', 'M', 'a', 'e', 'm', 'r', 'r', 't', 'u', 'u', 'y']"
      ]
     },
     "execution_count": 39,
     "metadata": {},
     "output_type": "execute_result"
    }
   ],
   "source": [
    "# sorted function is convert the string into the list and sort them in alphabetical order\n",
    "sorted(\"Mayur Amrute\")"
   ]
  },
  {
   "cell_type": "code",
   "execution_count": 4,
   "id": "f834b614-59c0-4ad7-a489-74cbb1cd42e7",
   "metadata": {},
   "outputs": [
    {
     "name": "stdout",
     "output_type": "stream",
     "text": [
      "My name is mayur and surname is amrute\n"
     ]
    }
   ],
   "source": [
    "#Capitalize() is used to capitalize the first letter of the string\n",
    "str1=\"my name is Mayur and surname is AMRUTE\" \n",
    "\n",
    "print(str1.capitalize())"
   ]
  },
  {
   "cell_type": "code",
   "execution_count": 44,
   "id": "274a6911-02af-4209-8926-d946f8f4707a",
   "metadata": {},
   "outputs": [
    {
     "name": "stdout",
     "output_type": "stream",
     "text": [
      "My Name Is Mayur And Surname Is Amrute\n"
     ]
    }
   ],
   "source": [
    "# title() capitalize each first letterof the word in the string \n",
    "print(str1.title())"
   ]
  },
  {
   "cell_type": "code",
   "execution_count": 46,
   "id": "a86032e2-c331-4742-9af1-c3204ecedf5f",
   "metadata": {},
   "outputs": [
    {
     "name": "stdout",
     "output_type": "stream",
     "text": [
      "MY NAME IS MAYUR AND SURNAME IS AMRUTE\n"
     ]
    }
   ],
   "source": [
    "print(str1.upper())"
   ]
  },
  {
   "cell_type": "code",
   "execution_count": 47,
   "id": "67a625ae-7695-4f7c-bee3-5fa2c10113e7",
   "metadata": {},
   "outputs": [
    {
     "name": "stdout",
     "output_type": "stream",
     "text": [
      "my name is mayur and surname is amrute\n"
     ]
    }
   ],
   "source": [
    "print(str1.lower())"
   ]
  },
  {
   "cell_type": "code",
   "execution_count": 48,
   "id": "5ba7e8d9-2eb7-48d0-b5af-386a70af7e2f",
   "metadata": {},
   "outputs": [
    {
     "name": "stdout",
     "output_type": "stream",
     "text": [
      "MY NAME IS mAYUR AND SURNAME IS amrute\n"
     ]
    }
   ],
   "source": [
    "print(str1.swapcase())"
   ]
  },
  {
   "cell_type": "code",
   "execution_count": 50,
   "id": "61209816-ce90-4159-92c8-1eec1f82aec8",
   "metadata": {},
   "outputs": [
    {
     "data": {
      "text/plain": [
       "2"
      ]
     },
     "execution_count": 50,
     "metadata": {},
     "output_type": "execute_result"
    }
   ],
   "source": [
    "str1.count(\"M\")"
   ]
  },
  {
   "cell_type": "code",
   "execution_count": 7,
   "id": "871e3e52-4ac9-45d7-b003-dcbfbe3e7c82",
   "metadata": {},
   "outputs": [
    {
     "name": "stdout",
     "output_type": "stream",
     "text": [
      "-1\n",
      "14\n"
     ]
    }
   ],
   "source": [
    "#find function is used to written the index of the element\n",
    "# this function will not through error when index is not found, and written -1\n",
    "print(str1.find('x'))\n",
    "print(str1.find('ur'))"
   ]
  },
  {
   "cell_type": "code",
   "execution_count": 53,
   "id": "759336f8-98c4-42eb-ae86-12732dbf7987",
   "metadata": {},
   "outputs": [
    {
     "data": {
      "text/plain": [
       "0"
      ]
     },
     "execution_count": 53,
     "metadata": {},
     "output_type": "execute_result"
    }
   ],
   "source": [
    "\"Mayur\".find('M')"
   ]
  },
  {
   "cell_type": "code",
   "execution_count": 58,
   "id": "02c4741f-1c3f-4177-8764-57d136b88f4d",
   "metadata": {},
   "outputs": [
    {
     "data": {
      "text/plain": [
       "3"
      ]
     },
     "execution_count": 58,
     "metadata": {},
     "output_type": "execute_result"
    }
   ],
   "source": [
    "str1.index(\"name\")"
   ]
  },
  {
   "cell_type": "code",
   "execution_count": 61,
   "id": "84f99686-1b78-4114-bc17-1db66414934d",
   "metadata": {},
   "outputs": [
    {
     "data": {
      "text/plain": [
       "['my', 'name', 'is', 'Mayur', 'and', 'surname', 'is', 'AMRUTE']"
      ]
     },
     "execution_count": 61,
     "metadata": {},
     "output_type": "execute_result"
    }
   ],
   "source": [
    "# this method is used to seperate the words of string and convet it into the list.\n",
    "str1.split()"
   ]
  },
  {
   "cell_type": "code",
   "execution_count": 64,
   "id": "21bd4b77-db8b-4442-913e-c0d20abec550",
   "metadata": {},
   "outputs": [
    {
     "data": {
      "text/plain": [
       "'my name is Lalit and surname is AMRUTE'"
      ]
     },
     "execution_count": 64,
     "metadata": {},
     "output_type": "execute_result"
    }
   ],
   "source": [
    "str1.replace(\"Mayur\", \"Lalit\")"
   ]
  },
  {
   "cell_type": "code",
   "execution_count": 67,
   "id": "5c76efcc-7382-4f71-af67-02039be3ed08",
   "metadata": {},
   "outputs": [
    {
     "name": "stdout",
     "output_type": "stream",
     "text": [
      "             Mayur        \n",
      "Mayur\n"
     ]
    }
   ],
   "source": [
    "# strip() is used to remove the extra spaces from front and back of the string \n",
    "\n",
    "print(\"             Mayur        \")\n",
    "print(\"             Mayur        \".strip())"
   ]
  },
  {
   "cell_type": "code",
   "execution_count": 7,
   "id": "b0d5d831-88f2-4cfc-9beb-0c41ec3ffd06",
   "metadata": {},
   "outputs": [
    {
     "name": "stdin",
     "output_type": "stream",
     "text": [
      "Enter the string:  mayur\n"
     ]
    },
    {
     "name": "stdout",
     "output_type": "stream",
     "text": [
      "Length is:   5\n"
     ]
    }
   ],
   "source": [
    "# find the length of string \n",
    "\n",
    "s = input(\"Enter the string: \")\n",
    "counter = 0\n",
    "for i in s:\n",
    "    counter +=1\n",
    "print(\"Length is:  \", counter)"
   ]
  },
  {
   "cell_type": "code",
   "execution_count": null,
   "id": "cace8cbb-35b4-44aa-8d44-d4d4e6219f4b",
   "metadata": {},
   "outputs": [],
   "source": []
  },
  {
   "cell_type": "markdown",
   "id": "9b96722e-6975-4e20-b76e-14e0e603bcc2",
   "metadata": {},
   "source": [
    "### prgram to extract the username from the mail ID"
   ]
  },
  {
   "cell_type": "code",
   "execution_count": 9,
   "id": "0264ce1d-8faf-4898-8ac9-b477c74741bc",
   "metadata": {},
   "outputs": [
    {
     "name": "stdin",
     "output_type": "stream",
     "text": [
      "Enetr the mail ID:  mayuramrute@123\n"
     ]
    },
    {
     "name": "stdout",
     "output_type": "stream",
     "text": [
      "mayuramrute\n"
     ]
    }
   ],
   "source": [
    "mail = input(\"Enetr the mail ID: \")\n",
    "\n",
    "pos = mail.index(\"@\")\n",
    "\n",
    "print(mail[0:pos])"
   ]
  },
  {
   "cell_type": "markdown",
   "id": "166e69ed-46e3-48f3-be73-3e9ca0c73303",
   "metadata": {},
   "source": [
    "### Find the count of characters/ subtring present in the string  "
   ]
  },
  {
   "cell_type": "code",
   "execution_count": 11,
   "id": "ab49fd09-fa49-4171-b4ea-99a66219bb62",
   "metadata": {},
   "outputs": [
    {
     "name": "stdin",
     "output_type": "stream",
     "text": [
      "enter the string:  My anme is mayur amrute\n",
      "What you want to search in given string:  m\n"
     ]
    },
    {
     "name": "stdout",
     "output_type": "stream",
     "text": [
      "3\n"
     ]
    }
   ],
   "source": [
    "s = input(\"enter the string: \")\n",
    "\n",
    "toFind = input(\"What you want to search in given string: \")\n",
    "\n",
    "print(s.count(toFind))\n"
   ]
  },
  {
   "cell_type": "markdown",
   "id": "469ea0f8-2175-49eb-9870-37dbd5ce3e1e",
   "metadata": {},
   "source": [
    "### Program to remove perticular character from the string "
   ]
  },
  {
   "cell_type": "code",
   "execution_count": 19,
   "id": "822b3935-df4d-4bbc-b8be-58614d361a13",
   "metadata": {},
   "outputs": [
    {
     "name": "stdin",
     "output_type": "stream",
     "text": [
      "enter the string:  MayurJ\n",
      "What you want to remove:  J\n"
     ]
    },
    {
     "name": "stdout",
     "output_type": "stream",
     "text": [
      "Mayur\n"
     ]
    }
   ],
   "source": [
    "s = input(\"enter the string: \")\n",
    "toRemove = input(\"What you want to remove: \")\n",
    "\n",
    "result =\"\"\n",
    "\n",
    "for i in s:\n",
    "    if i != toRemove:\n",
    "        result += i\n",
    "print(result) \n"
   ]
  },
  {
   "cell_type": "markdown",
   "id": "5808b247-fd66-4e84-8a73-a5069a20af4f",
   "metadata": {},
   "source": [
    "### program to check the given string is pallindrom or not"
   ]
  },
  {
   "cell_type": "code",
   "execution_count": 24,
   "id": "23627f7f-acd1-4302-86b3-e6ea1ff35ebe",
   "metadata": {},
   "outputs": [
    {
     "name": "stdin",
     "output_type": "stream",
     "text": [
      "Enter String to check wether it is palindrom or not:  mmmaaama\n"
     ]
    },
    {
     "name": "stdout",
     "output_type": "stream",
     "text": [
      "Not Pallindrom\n"
     ]
    }
   ],
   "source": [
    "s1 =input(\"Enter String to check wether it is palindrom or not: \")\n",
    "flag = True\n",
    "\n",
    "for i in range(0, len(s1)//2):\n",
    "    if s1[i] != s1[len(s1) -i - 1]:\n",
    "        flag = False\n",
    "        print(\"Not Pallindrom\")\n",
    "        break\n",
    "if flag: \n",
    "    print(\"\"\"Pallindrom\"\"\") \n"
   ]
  },
  {
   "cell_type": "markdown",
   "id": "c583bf43-a829-4f21-a2e3-a6f6e3040dfd",
   "metadata": {},
   "source": [
    "### count the number of words in the given string"
   ]
  },
  {
   "cell_type": "code",
   "execution_count": 31,
   "id": "92a4fae6-4154-4d58-a8e2-eca01b063836",
   "metadata": {},
   "outputs": [
    {
     "name": "stdout",
     "output_type": "stream",
     "text": [
      "['My', 'name', 'is', 'Mayur', 'amrute']\n"
     ]
    }
   ],
   "source": [
    "string = \"My name is Mayur amrute\"\n",
    "# count = 1\n",
    "# for i in string:\n",
    "#     if i == \" \":\n",
    "#         count += 1\n",
    "# print(count)\n",
    "\n",
    "temp = ''\n",
    "L =[]\n",
    "for i in string:\n",
    "    if i != ' ':\n",
    "        temp = temp+i\n",
    "    else:\n",
    "        L.append(temp)\n",
    "        temp = ''\n",
    "\n",
    "L.append(temp)\n",
    "print(L)\n"
   ]
  },
  {
   "cell_type": "markdown",
   "id": "fe53a424-8b75-4059-b40f-03132ac63ddc",
   "metadata": {},
   "source": [
    "## Covert the string into Tital case without using function tital() "
   ]
  },
  {
   "cell_type": "code",
   "execution_count": 37,
   "id": "00294dc1-c88d-4d6d-913a-8e6754976ce5",
   "metadata": {},
   "outputs": [
    {
     "name": "stdout",
     "output_type": "stream",
     "text": [
      "The World Is So Beutiful\n"
     ]
    }
   ],
   "source": [
    "string2 = \" the world is so beutiful\"\n",
    "L1 = []\n",
    "for i in string2.split():\n",
    "    L1.append(i[0].upper() + i[1:].lower())\n",
    "\n",
    "print(\" \".join(L1))\n"
   ]
  },
  {
   "cell_type": "markdown",
   "id": "2d27f654-bdea-4712-9afe-b50fdf1eea11",
   "metadata": {},
   "source": [
    "### program to convert the number to the string"
   ]
  },
  {
   "cell_type": "code",
   "execution_count": null,
   "id": "6f027c99-1950-46b9-9af7-ce17afa9b993",
   "metadata": {},
   "outputs": [],
   "source": [
    "number = int(input(\"Enter the number: \"))\n",
    "\n",
    "digit = \"0123456789\"\n"
   ]
  },
  {
   "cell_type": "markdown",
   "id": "4381a56e-983d-4700-8c2f-a41b36ec277b",
   "metadata": {},
   "source": [
    "### program to print the pattern "
   ]
  },
  {
   "cell_type": "code",
   "execution_count": 21,
   "id": "bfaacced-e660-44c1-8732-bd6011dbb5d5",
   "metadata": {},
   "outputs": [
    {
     "name": "stdout",
     "output_type": "stream",
     "text": [
      "5  4  3  2  1  \n",
      "4  3  2  1  \n",
      "3  2  1  \n",
      "2  1  \n",
      "1  \n"
     ]
    }
   ],
   "source": [
    "for i in range(1, 6):\n",
    "    for j in range(6-i, 0, -1):\n",
    "        print(j,\" \"  , end=\"\")\n",
    "    print()"
   ]
  },
  {
   "cell_type": "code",
   "execution_count": 25,
   "id": "41f45229-7547-4513-98ac-188400b3921f",
   "metadata": {},
   "outputs": [
    {
     "name": "stdout",
     "output_type": "stream",
     "text": [
      "* \n",
      "* * \n",
      "* * * \n",
      "* * * * \n",
      "* * * * * \n",
      "* * * *  \n",
      "* * *  \n",
      "* *  \n",
      "*  \n",
      " \n"
     ]
    }
   ],
   "source": [
    "for i in range(1, 6):\n",
    "    for j in range(1, i+1):\n",
    "        print(\"* \"  , end=\"\")\n",
    "    print()\n",
    "\n",
    "for i in range(1, 6):\n",
    "    for j in range(6-i, 1, -1):\n",
    "        print(\"*\", end=' ')\n",
    "    print(\" \")"
   ]
  },
  {
   "cell_type": "code",
   "execution_count": 2,
   "id": "321082d4-7fba-4ad0-bc06-97102f97ec4d",
   "metadata": {},
   "outputs": [
    {
     "name": "stdin",
     "output_type": "stream",
     "text": [
      "Enter the number of rows:  5\n"
     ]
    },
    {
     "name": "stdout",
     "output_type": "stream",
     "text": [
      "\n",
      "* \n",
      "* * \n",
      "* * * \n",
      "* * * * \n",
      "* * * * * \n",
      "* * * * \n",
      "* * * \n",
      "* * \n",
      "* \n"
     ]
    }
   ],
   "source": [
    "n = int(input(\"Enter the number of rows: \"))\n",
    "for row in range(2*n):\n",
    "    if row<n:\n",
    "        T_col = row\n",
    "    else:\n",
    "        T_col = 2*n - row\n",
    "    for col  in range(T_col):\n",
    "        print(\"* \", end=\"\")\n",
    "    print()"
   ]
  },
  {
   "cell_type": "code",
   "execution_count": 29,
   "id": "a06c3bc5-82e4-4556-9da9-b1c082ef9775",
   "metadata": {},
   "outputs": [
    {
     "name": "stdout",
     "output_type": "stream",
     "text": [
      "* \n",
      "* * \n",
      "* * * \n",
      "* * * * \n",
      "* * * * * \n",
      "* * * * * \n",
      "* * * * \n",
      "* * * \n",
      "* * \n",
      "* \n"
     ]
    }
   ],
   "source": [
    "def pattern5(n):\n",
    "    for row in range(2 * n):\n",
    "        # Determine the number of columns in the current row\n",
    "        total_cols_in_row = row + 1 if row < n else 2 * n - row\n",
    "        \n",
    "        # Print the asterisks for the current row\n",
    "        for col in range(total_cols_in_row):\n",
    "            print('*', end=' ')\n",
    "        \n",
    "        # Move to the next line\n",
    "        print()\n",
    "\n",
    "# Example usage\n",
    "n = 5  # You can change this value to adjust the pattern size\n",
    "pattern5(n)\n"
   ]
  },
  {
   "cell_type": "code",
   "execution_count": 6,
   "id": "f1bb076c-78b3-4957-8dda-aa5454840488",
   "metadata": {},
   "outputs": [
    {
     "name": "stdout",
     "output_type": "stream",
     "text": [
      "* \n",
      "* * \n",
      "* * * \n",
      "* * * * \n",
      "* * * * * \n"
     ]
    }
   ],
   "source": [
    "for i in range(1,6):\n",
    "    print(\"* \"*i)"
   ]
  },
  {
   "cell_type": "code",
   "execution_count": 9,
   "id": "1e8b7028-00c9-43d9-a412-6fb2f55d0bcf",
   "metadata": {},
   "outputs": [
    {
     "name": "stdin",
     "output_type": "stream",
     "text": [
      "Enter the number of rows:  5\n"
     ]
    },
    {
     "name": "stdout",
     "output_type": "stream",
     "text": [
      "     \n",
      "    * \n",
      "   * * \n",
      "  * * * \n",
      " * * * * \n",
      "* * * * * \n",
      " * * * * \n",
      "  * * * \n",
      "   * * \n",
      "    * \n"
     ]
    }
   ],
   "source": [
    "n = int(input(\"Enter the number of rows: \"))\n",
    "for row in range(2*n):\n",
    "    if row<n:\n",
    "        T_col = row\n",
    "    else:\n",
    "        T_col = 2*n - row\n",
    "    numSpaces = n-T_col\n",
    "    for s in range(numSpaces):\n",
    "        print(\" \", end=\"\")\n",
    "    for col  in range(T_col):\n",
    "        print(\"* \", end=\"\")\n",
    "    print()"
   ]
  },
  {
   "cell_type": "code",
   "execution_count": 8,
   "id": "76e81a2f-d795-4634-8193-8d9fda68de9a",
   "metadata": {},
   "outputs": [
    {
     "name": "stdin",
     "output_type": "stream",
     "text": [
      "Enter the nth term to find the sum:  5\n",
      "Enter the value of x:  2\n"
     ]
    },
    {
     "name": "stdout",
     "output_type": "stream",
     "text": [
      "sumuation of nth teram is:  18.066666666666666\n"
     ]
    }
   ],
   "source": [
    "nth = int(input(\"Enter the nth term to find the sum: \"))\n",
    "x = int(input(\"Enter the value of x: \"))\n",
    "sumuation = 1\n",
    "for i in range(1, n+1):\n",
    "    sumuation += (x**i)/i\n",
    "\n",
    "print(\"sumuation of nth teram is: \",sumuation)"
   ]
  },
  {
   "cell_type": "code",
   "execution_count": 22,
   "id": "02dbd31e-87d7-4955-bd47-d9e6e0f7988d",
   "metadata": {},
   "outputs": [
    {
     "name": "stdin",
     "output_type": "stream",
     "text": [
      "Enter the value of x:  2\n"
     ]
    },
    {
     "name": "stdout",
     "output_type": "stream",
     "text": [
      "sumetion of nth teram is:  0.9921875\n"
     ]
    }
   ],
   "source": [
    "#nth = int(input(\"Enter the nth term to find the sum: \"))\n",
    "x = int(input(\"Enter the value of x: \"))\n",
    "sumesion = 0\n",
    "for i in range(1, 8):\n",
    "    sumesion += ((x-1)/x)**i\n",
    "\n",
    "print(\"sumetion of nth teram is: \",sumesion)"
   ]
  },
  {
   "cell_type": "markdown",
   "id": "794d5de6-346f-4726-8474-a32de1f91526",
   "metadata": {},
   "source": [
    "##### Problem 7 - Find the sum of the series upto n terms.\n",
    "Write a program to calculate the sum of series up to n term. For example, if n =5 the series will become 2 + 22 + 222 + 2222 + 22222 = 24690. Take the user input and then calculate. And the output style should match which is given in the example."
   ]
  },
  {
   "cell_type": "code",
   "execution_count": 24,
   "id": "e19d9fa1-f82a-44b3-89a4-ceface5e3feb",
   "metadata": {},
   "outputs": [
    {
     "name": "stdout",
     "output_type": "stream",
     "text": [
      "24690\n"
     ]
    }
   ],
   "source": [
    "addition = 0\n",
    "current_term = 0 \n",
    "for i in range(5):\n",
    "    current_term = current_term * 10 + 2 #2+22+222+2222+22222+222222\n",
    "    addition += current_term\n",
    "\n",
    "print(addition)"
   ]
  },
  {
   "cell_type": "code",
   "execution_count": 1,
   "id": "679334c8-e246-47dd-af3e-fe1d273b3965",
   "metadata": {},
   "outputs": [
    {
     "name": "stdout",
     "output_type": "stream",
     "text": [
      "1   1\n",
      "1   2\n",
      "1   3\n",
      "1   4\n",
      "2   1\n",
      "2   2\n",
      "2   3\n",
      "2   4\n",
      "3   1\n",
      "3   2\n",
      "3   3\n",
      "3   4\n",
      "4   1\n",
      "4   2\n",
      "4   3\n",
      "4   4\n"
     ]
    }
   ],
   "source": [
    "for i in range(1,5):  \n",
    "    for j in range(1, 5):\n",
    "        print(i,\" \", j)"
   ]
  },
  {
   "cell_type": "code",
   "execution_count": null,
   "id": "f1fee263-3850-4c10-ad4a-a59575a3e86c",
   "metadata": {},
   "outputs": [],
   "source": []
  },
  {
   "cell_type": "markdown",
   "id": "37aa9519-f468-4afb-b4ba-2d754f6a2378",
   "metadata": {},
   "source": [
    "### permutation and combination problem [1,2,3,4]"
   ]
  },
  {
   "cell_type": "code",
   "execution_count": 10,
   "id": "f8155a24-cb35-4e59-8386-8138c0f85494",
   "metadata": {},
   "outputs": [
    {
     "name": "stdout",
     "output_type": "stream",
     "text": [
      "<class 'itertools.permutations'>\n",
      "1 2 3 4\n",
      "1 2 4 3\n",
      "1 3 2 4\n",
      "1 3 4 2\n",
      "1 4 2 3\n",
      "1 4 3 2\n",
      "2 1 3 4\n",
      "2 1 4 3\n",
      "2 3 1 4\n",
      "2 3 4 1\n",
      "2 4 1 3\n",
      "2 4 3 1\n",
      "3 1 2 4\n",
      "3 1 4 2\n",
      "3 2 1 4\n",
      "3 2 4 1\n",
      "3 4 1 2\n",
      "3 4 2 1\n",
      "4 1 2 3\n",
      "4 1 3 2\n",
      "4 2 1 3\n",
      "4 2 3 1\n",
      "4 3 1 2\n",
      "4 3 2 1\n"
     ]
    }
   ],
   "source": [
    "import itertools\n",
    "\n",
    "numbers = [1,2,3,4]\n",
    "\n",
    "permutation  = itertools.permutations(numbers)\n",
    " \n",
    "for perm in permutation:\n",
    "    print(\" \".join(map(str, perm)))"
   ]
  },
  {
   "cell_type": "code",
   "execution_count": 13,
   "id": "36d083ac-826d-49cb-ad1f-d82bf0adeec7",
   "metadata": {},
   "outputs": [
    {
     "name": "stdin",
     "output_type": "stream",
     "text": [
      "Enter num1:  10\n",
      "Enter num2:  20\n"
     ]
    },
    {
     "name": "stdout",
     "output_type": "stream",
     "text": [
      "LCM is 10 and HCF is 20 of numbers 10 and 20\n"
     ]
    }
   ],
   "source": [
    "# LCM and HCF\n",
    "num1 = int(input('Enter num1: '))\n",
    "num2 = int(input('Enter num2: '))\n",
    "\n",
    "a,b = num1,num2\n",
    "\n",
    "while b != 0:\n",
    "    a,b = b, a%b\n",
    "lcm = a\n",
    "\n",
    "HCF = (num1*num2)//lcm\n",
    "\n",
    "print(f'LCM is {lcm} and HCF is {HCF} of numbers {num1} and {num2}')"
   ]
  },
  {
   "cell_type": "code",
   "execution_count": 16,
   "id": "f210c387-fc2b-47a2-978c-eb87330e1f6d",
   "metadata": {},
   "outputs": [
    {
     "name": "stdin",
     "output_type": "stream",
     "text": [
      "Enter the string for shortForm:  mayur amrute madhukar\n"
     ]
    },
    {
     "name": "stdout",
     "output_type": "stream",
     "text": [
      "MAM\n"
     ]
    }
   ],
   "source": [
    "# short form of string\n",
    "\n",
    "string = input(\"Enter the string for shortForm: \")\n",
    "l = string.split()\n",
    "short = ''\n",
    "for word in l:\n",
    "    short += word[0].upper()\n",
    "\n",
    "print(short)"
   ]
  },
  {
   "cell_type": "code",
   "execution_count": 19,
   "id": "76ac7fe4-d3e4-4b7d-beec-2bdcf1158ee8",
   "metadata": {},
   "outputs": [
    {
     "name": "stdin",
     "output_type": "stream",
     "text": [
      "Enter string:  MayurAmrute\n",
      "Enter middle insert string:   Madhukar \n"
     ]
    },
    {
     "name": "stdout",
     "output_type": "stream",
     "text": [
      "Mayur Madhukar Amrute\n"
     ]
    }
   ],
   "source": [
    "# substring in the middle of the string\n",
    "\n",
    "string = input(\"Enter string: \")\n",
    "string1 = input('Enter middle insert string: ')\n",
    "mid = len(string)//2\n",
    "\n",
    "result = string[:mid] + string1 + string[mid:]\n",
    "print(result)"
   ]
  },
  {
   "cell_type": "code",
   "execution_count": 20,
   "id": "b3ff02bd-8d94-4af9-aa7a-3d3a50b7a1f2",
   "metadata": {},
   "outputs": [
    {
     "name": "stdin",
     "output_type": "stream",
     "text": [
      "Enter string:  Mayur Amrute\n"
     ]
    },
    {
     "name": "stdout",
     "output_type": "stream",
     "text": [
      "Mayur Amte\n"
     ]
    }
   ],
   "source": [
    "# remove Duplicates \n",
    "\n",
    "string = input(\"Enter string: \")\n",
    "result = ''\n",
    "for i in string:\n",
    "    if i not in result:\n",
    "        result += i\n",
    "\n",
    "print(result)"
   ]
  },
  {
   "cell_type": "code",
   "execution_count": null,
   "id": "5ec827b5-73fa-4ae1-8e16-32e638a6df96",
   "metadata": {},
   "outputs": [],
   "source": []
  }
 ],
 "metadata": {
  "kernelspec": {
   "display_name": "Python 3 (ipykernel)",
   "language": "python",
   "name": "python3"
  },
  "language_info": {
   "codemirror_mode": {
    "name": "ipython",
    "version": 3
   },
   "file_extension": ".py",
   "mimetype": "text/x-python",
   "name": "python",
   "nbconvert_exporter": "python",
   "pygments_lexer": "ipython3",
   "version": "3.12.5"
  }
 },
 "nbformat": 4,
 "nbformat_minor": 5
}
