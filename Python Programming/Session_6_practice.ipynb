{
 "cells": [
  {
   "cell_type": "code",
   "execution_count": null,
   "id": "5bb46ee4-1032-40b1-8dd7-4db103e58431",
   "metadata": {},
   "outputs": [],
   "source": [
    "*args takes any number of positional arguments\n",
    "**kwargs takes any number of keyword argument"
   ]
  },
  {
   "cell_type": "code",
   "execution_count": 1,
   "id": "131928f9-c936-4dcd-b6bf-738cea0eb5c8",
   "metadata": {},
   "outputs": [
    {
     "data": {
      "text/plain": [
       "10"
      ]
     },
     "execution_count": 1,
     "metadata": {},
     "output_type": "execute_result"
    }
   ],
   "source": [
    "def addition(*args):\n",
    "    add=0\n",
    "    for i in args:\n",
    "        add += i\n",
    "    return add\n",
    "\n",
    "addition(1,2,3,4)"
   ]
  },
  {
   "cell_type": "code",
   "execution_count": 8,
   "id": "b9831049-2a84-4735-9830-1db3abe4a9a3",
   "metadata": {},
   "outputs": [],
   "source": [
    "def capitals(**kwargs):\n",
    "    for key, value in kwargs.items():\n",
    "        print(key, '-->', value)"
   ]
  },
  {
   "cell_type": "code",
   "execution_count": 9,
   "id": "cdffb019-2a88-4ed8-8a1b-996ebdb96fe0",
   "metadata": {},
   "outputs": [
    {
     "name": "stdout",
     "output_type": "stream",
     "text": [
      "India --> Delhi\n",
      "Srilanka --> Colombo\n",
      "Nepal --> Kathmandu\n"
     ]
    }
   ],
   "source": [
    "capitals(India='Delhi',Srilanka = 'Colombo',Nepal = 'Kathmandu')"
   ]
  },
  {
   "cell_type": "code",
   "execution_count": 10,
   "id": "f34a1b6a-228d-45ab-b6cd-47d114b27b2d",
   "metadata": {},
   "outputs": [
    {
     "data": {
      "text/plain": [
       "[1, 2, 3, 4]"
      ]
     },
     "execution_count": 10,
     "metadata": {},
     "output_type": "execute_result"
    }
   ],
   "source": [
    "l=[1,2,3,4]\n",
    "l"
   ]
  },
  {
   "cell_type": "code",
   "execution_count": 11,
   "id": "4f18affd-64b9-40d0-ae2e-7822fe71a4e6",
   "metadata": {},
   "outputs": [],
   "source": [
    "l.append(5)"
   ]
  },
  {
   "cell_type": "code",
   "execution_count": 12,
   "id": "57271893-50c2-464e-a572-b4f7bd056a93",
   "metadata": {},
   "outputs": [
    {
     "data": {
      "text/plain": [
       "[1, 2, 3, 4, 5]"
      ]
     },
     "execution_count": 12,
     "metadata": {},
     "output_type": "execute_result"
    }
   ],
   "source": [
    "l"
   ]
  },
  {
   "cell_type": "code",
   "execution_count": 13,
   "id": "75755582-b554-4269-b1f7-6330a0836909",
   "metadata": {},
   "outputs": [
    {
     "name": "stdout",
     "output_type": "stream",
     "text": [
      "None\n"
     ]
    }
   ],
   "source": [
    "print(l.append(6))   # the append function do not return any value "
   ]
  },
  {
   "cell_type": "code",
   "execution_count": 14,
   "id": "774efa6a-1465-49a2-9226-b3ba56137e82",
   "metadata": {},
   "outputs": [],
   "source": [
    "def square(a):\n",
    "    return a**2"
   ]
  },
  {
   "cell_type": "code",
   "execution_count": 15,
   "id": "927d54b1-831d-48fb-9845-1802370f1919",
   "metadata": {},
   "outputs": [
    {
     "data": {
      "text/plain": [
       "function"
      ]
     },
     "execution_count": 15,
     "metadata": {},
     "output_type": "execute_result"
    }
   ],
   "source": [
    "type(square)"
   ]
  },
  {
   "cell_type": "code",
   "execution_count": 16,
   "id": "6ab1aad9-c190-4c80-b114-6ed673398fba",
   "metadata": {},
   "outputs": [
    {
     "name": "stdout",
     "output_type": "stream",
     "text": [
      "<class 'function'>\n"
     ]
    }
   ],
   "source": [
    "print(type(square))"
   ]
  },
  {
   "cell_type": "code",
   "execution_count": 17,
   "id": "f0046546-0e26-48f4-9928-4012ce8f6c07",
   "metadata": {},
   "outputs": [],
   "source": [
    "sqr = square  # we can assign the function with different name "
   ]
  },
  {
   "cell_type": "code",
   "execution_count": 18,
   "id": "360cea11-b0ed-4f78-8a49-23d1db1af9d4",
   "metadata": {},
   "outputs": [
    {
     "data": {
      "text/plain": [
       "25"
      ]
     },
     "execution_count": 18,
     "metadata": {},
     "output_type": "execute_result"
    }
   ],
   "source": [
    "sqr(5)"
   ]
  },
  {
   "cell_type": "code",
   "execution_count": 22,
   "id": "f7864c2e-ba4b-4213-af11-fc60323ca732",
   "metadata": {},
   "outputs": [
    {
     "ename": "NameError",
     "evalue": "name 'square' is not defined",
     "output_type": "error",
     "traceback": [
      "\u001b[1;31m---------------------------------------------------------------------------\u001b[0m",
      "\u001b[1;31mNameError\u001b[0m                                 Traceback (most recent call last)",
      "Cell \u001b[1;32mIn[22], line 1\u001b[0m\n\u001b[1;32m----> 1\u001b[0m \u001b[38;5;28;01mdel\u001b[39;00m \u001b[43msquare\u001b[49m\n",
      "\u001b[1;31mNameError\u001b[0m: name 'square' is not defined"
     ]
    }
   ],
   "source": [
    "del square"
   ]
  },
  {
   "cell_type": "code",
   "execution_count": 23,
   "id": "f7ee05b9-54ae-4074-bf98-a0cdc5a29043",
   "metadata": {},
   "outputs": [
    {
     "data": {
      "text/plain": [
       "100"
      ]
     },
     "execution_count": 23,
     "metadata": {},
     "output_type": "execute_result"
    }
   ],
   "source": [
    "sqr(10)"
   ]
  },
  {
   "cell_type": "code",
   "execution_count": 24,
   "id": "02f26da8-3cd1-4ca7-b6c2-4ce487fcad10",
   "metadata": {},
   "outputs": [],
   "source": [
    "l = [1,2,3,4,sqr]"
   ]
  },
  {
   "cell_type": "code",
   "execution_count": 25,
   "id": "fe27b5f4-d2e3-4c1d-abe2-ba3a4249f305",
   "metadata": {},
   "outputs": [
    {
     "data": {
      "text/plain": [
       "<function __main__.square(a)>"
      ]
     },
     "execution_count": 25,
     "metadata": {},
     "output_type": "execute_result"
    }
   ],
   "source": [
    "l[4]"
   ]
  },
  {
   "cell_type": "code",
   "execution_count": 27,
   "id": "11da45c2-2339-4525-a48e-0ab039635a27",
   "metadata": {},
   "outputs": [
    {
     "data": {
      "text/plain": [
       "81"
      ]
     },
     "execution_count": 27,
     "metadata": {},
     "output_type": "execute_result"
    }
   ],
   "source": [
    "l[4](9) # like other dtype we acan asses the function"
   ]
  },
  {
   "cell_type": "code",
   "execution_count": 28,
   "id": "97d69f00-dedc-4f02-98d6-37a397e115d1",
   "metadata": {},
   "outputs": [],
   "source": [
    "# lambda function\n",
    "small, anonymous one exresion, haiving any number of argument function\n"
   ]
  },
  {
   "cell_type": "code",
   "execution_count": 30,
   "id": "02bf0d2b-252a-4c44-8679-0cb3b81860bb",
   "metadata": {},
   "outputs": [],
   "source": [
    "z = lambda a,b:a+b  # addition of two items"
   ]
  },
  {
   "cell_type": "code",
   "execution_count": 31,
   "id": "703d7421-a156-4afd-bc01-27d86c700690",
   "metadata": {},
   "outputs": [
    {
     "data": {
      "text/plain": [
       "<function __main__.<lambda>(a, b)>"
      ]
     },
     "execution_count": 31,
     "metadata": {},
     "output_type": "execute_result"
    }
   ],
   "source": [
    "z"
   ]
  },
  {
   "cell_type": "code",
   "execution_count": 32,
   "id": "d9b7260f-ce72-4df8-ae04-c505ce782866",
   "metadata": {},
   "outputs": [
    {
     "data": {
      "text/plain": [
       "2"
      ]
     },
     "execution_count": 32,
     "metadata": {},
     "output_type": "execute_result"
    }
   ],
   "source": [
    "z(1,1)"
   ]
  },
  {
   "cell_type": "code",
   "execution_count": 34,
   "id": "47dc5b59-6fc8-496c-b933-869d8d84aa5e",
   "metadata": {},
   "outputs": [],
   "source": [
    "l=[1,2,3,4]\n",
    "\n",
    "a = lambda x:x in l  # cjheck of element"
   ]
  },
  {
   "cell_type": "code",
   "execution_count": 36,
   "id": "f61badd3-7f63-415b-8cc0-d424add594e6",
   "metadata": {},
   "outputs": [
    {
     "data": {
      "text/plain": [
       "True"
      ]
     },
     "execution_count": 36,
     "metadata": {},
     "output_type": "execute_result"
    }
   ],
   "source": [
    "a(1)"
   ]
  },
  {
   "cell_type": "code",
   "execution_count": 37,
   "id": "51c45da9-6333-4495-a0d1-0d5f9f4f3cfc",
   "metadata": {},
   "outputs": [],
   "source": [
    "even_odd = lambda x: \"EVEN\" if x%2==0 else \"ODD\""
   ]
  },
  {
   "cell_type": "code",
   "execution_count": 38,
   "id": "2cf91b0d-990e-4835-836c-31b6c3fc24d8",
   "metadata": {},
   "outputs": [
    {
     "data": {
      "text/plain": [
       "'EVEN'"
      ]
     },
     "execution_count": 38,
     "metadata": {},
     "output_type": "execute_result"
    }
   ],
   "source": [
    "even_odd(24)"
   ]
  },
  {
   "cell_type": "code",
   "execution_count": 39,
   "id": "1c8ce065-2a33-4601-8875-a1dd658fbf1f",
   "metadata": {},
   "outputs": [
    {
     "data": {
      "text/plain": [
       "'ODD'"
      ]
     },
     "execution_count": 39,
     "metadata": {},
     "output_type": "execute_result"
    }
   ],
   "source": [
    "even_odd(11)"
   ]
  },
  {
   "cell_type": "code",
   "execution_count": 42,
   "id": "7625a5fc-6ddb-433b-be75-e9afde591608",
   "metadata": {},
   "outputs": [
    {
     "data": {
      "text/plain": [
       "25"
      ]
     },
     "execution_count": 42,
     "metadata": {},
     "output_type": "execute_result"
    }
   ],
   "source": [
    "(lambda a:a**2)(5)"
   ]
  },
  {
   "cell_type": "code",
   "execution_count": 43,
   "id": "b00cc68e-b6bf-4844-a706-6c12e01aed67",
   "metadata": {},
   "outputs": [
    {
     "ename": "TypeError",
     "evalue": "unsupported operand type(s) for ** or pow(): 'list' and 'int'",
     "output_type": "error",
     "traceback": [
      "\u001b[1;31m---------------------------------------------------------------------------\u001b[0m",
      "\u001b[1;31mTypeError\u001b[0m                                 Traceback (most recent call last)",
      "Cell \u001b[1;32mIn[43], line 3\u001b[0m\n\u001b[0;32m      1\u001b[0m \u001b[38;5;66;03m# square of list using lambda\u001b[39;00m\n\u001b[0;32m      2\u001b[0m l\u001b[38;5;241m=\u001b[39m[\u001b[38;5;241m2\u001b[39m,\u001b[38;5;241m3\u001b[39m,\u001b[38;5;241m4\u001b[39m,\u001b[38;5;241m5\u001b[39m]\n\u001b[1;32m----> 3\u001b[0m \u001b[43m(\u001b[49m\u001b[38;5;28;43;01mlambda\u001b[39;49;00m\u001b[43m \u001b[49m\u001b[43ma\u001b[49m\u001b[43m:\u001b[49m\u001b[43ma\u001b[49m\u001b[38;5;241;43m*\u001b[39;49m\u001b[38;5;241;43m*\u001b[39;49m\u001b[38;5;241;43m2\u001b[39;49m\u001b[43m)\u001b[49m\u001b[43m(\u001b[49m\u001b[43ml\u001b[49m\u001b[43m)\u001b[49m\n",
      "Cell \u001b[1;32mIn[43], line 3\u001b[0m, in \u001b[0;36m<lambda>\u001b[1;34m(a)\u001b[0m\n\u001b[0;32m      1\u001b[0m \u001b[38;5;66;03m# square of list using lambda\u001b[39;00m\n\u001b[0;32m      2\u001b[0m l\u001b[38;5;241m=\u001b[39m[\u001b[38;5;241m2\u001b[39m,\u001b[38;5;241m3\u001b[39m,\u001b[38;5;241m4\u001b[39m,\u001b[38;5;241m5\u001b[39m]\n\u001b[1;32m----> 3\u001b[0m (\u001b[38;5;28;01mlambda\u001b[39;00m a:\u001b[43ma\u001b[49m\u001b[38;5;241;43m*\u001b[39;49m\u001b[38;5;241;43m*\u001b[39;49m\u001b[38;5;241;43m2\u001b[39;49m)(l)\n",
      "\u001b[1;31mTypeError\u001b[0m: unsupported operand type(s) for ** or pow(): 'list' and 'int'"
     ]
    }
   ],
   "source": [
    "# square of list using lambda\n",
    "l=[2,3,4,5]\n",
    "(lambda a:a**2)(l)"
   ]
  },
  {
   "cell_type": "code",
   "execution_count": 49,
   "id": "a3cedf05-54ea-4d1a-b214-d0509dfa49be",
   "metadata": {},
   "outputs": [
    {
     "name": "stdout",
     "output_type": "stream",
     "text": [
      "[4, 9, 16, 25]\n"
     ]
    }
   ],
   "source": [
    "print((lambda l:[i**2 for i in l])(l))"
   ]
  },
  {
   "cell_type": "code",
   "execution_count": 52,
   "id": "0d748c4e-a6e5-4a92-9e76-b206e90df075",
   "metadata": {},
   "outputs": [],
   "source": [
    "## Higher order functions\n",
    "# the function whi takes anothe rfunction as an parameter or return a another function ara called as higher function"
   ]
  },
  {
   "cell_type": "code",
   "execution_count": 54,
   "id": "2c005137-ad62-4f77-b2f2-3b69dff5ef69",
   "metadata": {},
   "outputs": [
    {
     "data": {
      "text/plain": [
       "[False, True, False, True, False, True]"
      ]
     },
     "execution_count": 54,
     "metadata": {},
     "output_type": "execute_result"
    }
   ],
   "source": [
    "list(map(lambda a:a%2==0, [1,2,3,4,5,6]))  # conditional check"
   ]
  },
  {
   "cell_type": "code",
   "execution_count": 55,
   "id": "395572ff-50d4-4f7e-b157-4627006be97f",
   "metadata": {},
   "outputs": [],
   "source": [
    "# if we perform conditional operation with map it will give the output as true and false and if we perform an operation will give \n",
    "# the actual output of the operation"
   ]
  },
  {
   "cell_type": "code",
   "execution_count": 56,
   "id": "cea9a27a-cdf9-4fc2-b170-37239fdbb544",
   "metadata": {},
   "outputs": [
    {
     "data": {
      "text/plain": [
       "[1, 4, 9, 16, 25]"
      ]
     },
     "execution_count": 56,
     "metadata": {},
     "output_type": "execute_result"
    }
   ],
   "source": [
    "list(map(lambda a:a**2,[1,2,3,4,5]))  # operation"
   ]
  },
  {
   "cell_type": "code",
   "execution_count": 58,
   "id": "815e825b-cd0d-4623-bdf2-8bc3326b9ec0",
   "metadata": {},
   "outputs": [
    {
     "data": {
      "text/plain": [
       "[2, 4, 6]"
      ]
     },
     "execution_count": 58,
     "metadata": {},
     "output_type": "execute_result"
    }
   ],
   "source": [
    "list(filter(lambda a:a%2==0,[1,2,3,4,5,6]))  # on appling condition it gives the actual values where condition is satisfied"
   ]
  },
  {
   "cell_type": "code",
   "execution_count": 59,
   "id": "4350892c-408a-40e3-87fe-65499ccf3430",
   "metadata": {},
   "outputs": [
    {
     "data": {
      "text/plain": [
       "[1, 2, 3, 4, 5]"
      ]
     },
     "execution_count": 59,
     "metadata": {},
     "output_type": "execute_result"
    }
   ],
   "source": [
    "list(filter(lambda a:a**2,[1,2,3,4,5]))  # here the filter fuction will do nothig and give the iterable as it is  "
   ]
  },
  {
   "cell_type": "code",
   "execution_count": 60,
   "id": "3b89dc0d-7d3f-4e4f-8434-990745c6e150",
   "metadata": {},
   "outputs": [
    {
     "data": {
      "text/plain": [
       "[True, True, False, False, False, True, False]"
      ]
     },
     "execution_count": 60,
     "metadata": {},
     "output_type": "execute_result"
    }
   ],
   "source": [
    "l1 = ['Sunday','Monday','Tuesday','Wednesday','thrusday','friday','Saturday']\n",
    "\n",
    "list(map(lambda x:len(x)==6,l1))"
   ]
  },
  {
   "cell_type": "code",
   "execution_count": 62,
   "id": "da2b339f-79b8-480c-9438-34ca6c69930e",
   "metadata": {},
   "outputs": [
    {
     "data": {
      "text/plain": [
       "['Sunday', 'Monday', 'friday']"
      ]
     },
     "execution_count": 62,
     "metadata": {},
     "output_type": "execute_result"
    }
   ],
   "source": [
    "list(filter(lambda x:len(x)==6,l1))"
   ]
  },
  {
   "cell_type": "code",
   "execution_count": 64,
   "id": "90c25861-a6f0-4770-bbda-c06eced0e3eb",
   "metadata": {},
   "outputs": [
    {
     "data": {
      "text/plain": [
       "['sunday', 'monday', 'tuesday', 'wednesday', 'thrusday', 'friday', 'saturday']"
      ]
     },
     "execution_count": 64,
     "metadata": {},
     "output_type": "execute_result"
    }
   ],
   "source": [
    "list(map(lambda x:x.lower(), l1))"
   ]
  },
  {
   "cell_type": "code",
   "execution_count": 70,
   "id": "548463a8-899c-41c3-ac97-c47f28b784c5",
   "metadata": {},
   "outputs": [
    {
     "data": {
      "text/plain": [
       "{1, 2, 3, 4, 5}"
      ]
     },
     "execution_count": 70,
     "metadata": {},
     "output_type": "execute_result"
    }
   ],
   "source": [
    "# function to find unique element\n",
    "lst = [1,2,3,3,3,3,4,5]\n",
    "def all_unique(lst):\n",
    "    result = set()\n",
    "    for i in lst:\n",
    "        result.add(i)\n",
    "    return result \n",
    "\n",
    "all_unique(lst)"
   ]
  },
  {
   "cell_type": "code",
   "execution_count": 71,
   "id": "8f38e1a9-e104-4504-93fe-c24afdaa6697",
   "metadata": {},
   "outputs": [
    {
     "data": {
      "text/plain": [
       "'black-green-red-white-yellow'"
      ]
     },
     "execution_count": 71,
     "metadata": {},
     "output_type": "execute_result"
    }
   ],
   "source": [
    "# sort the string alphabetically\n",
    "string = 'green-red-yellow-black-white'\n",
    "\n",
    "def sort_string(string):\n",
    "    words = string.split('-')\n",
    "    result = '-'.join(sorted(words))\n",
    "    return result\n",
    "\n",
    "sort_string(string)"
   ]
  },
  {
   "cell_type": "code",
   "execution_count": 77,
   "id": "5c1b323f-7bed-4c82-ad02-1aa345d20318",
   "metadata": {},
   "outputs": [],
   "source": [
    "# count the upper and lower caser letter in string \n",
    "\n",
    "string ='CampusX is an Online Mentorship Program fOr EnginEering studeNtS.'\n",
    "\n",
    "def coun_UL(string):\n",
    "    ucount=0\n",
    "    lcount = 0\n",
    "    for i in string:\n",
    "        if i.islower():\n",
    "            lcount += 1\n",
    "        if i.isupper():\n",
    "            ucount += 1\n",
    "\n",
    "    print(f'Lower count {lcount} \\nUpperCount {ucount}')"
   ]
  },
  {
   "cell_type": "code",
   "execution_count": 78,
   "id": "05781566-2b62-42df-a9dd-b60d9f482929",
   "metadata": {},
   "outputs": [
    {
     "name": "stdout",
     "output_type": "stream",
     "text": [
      "Lower count 46 \n",
      "UpperCount 10\n"
     ]
    }
   ],
   "source": [
    "coun_UL(string)"
   ]
  },
  {
   "cell_type": "code",
   "execution_count": 79,
   "id": "1005ab2a-f7e4-433b-b0c4-32267cf1737f",
   "metadata": {},
   "outputs": [],
   "source": [
    "# print even number from the list"
   ]
  },
  {
   "cell_type": "code",
   "execution_count": 80,
   "id": "9f1f3221-9878-4c17-8f15-1ac047626e75",
   "metadata": {},
   "outputs": [
    {
     "data": {
      "text/plain": [
       "[2, 4, 6, 8]"
      ]
     },
     "execution_count": 80,
     "metadata": {},
     "output_type": "execute_result"
    }
   ],
   "source": [
    "lst = [1, 2, 3, 4, 5, 6, 7, 8, 9] \n",
    "\n",
    "def even_number(lst):\n",
    "    even = []\n",
    "    for i in lst:\n",
    "        if i%2==0:\n",
    "            even.append(i)\n",
    "    return even\n",
    "\n",
    "even_number(lst)"
   ]
  },
  {
   "cell_type": "code",
   "execution_count": 84,
   "id": "0ea41883-0042-492c-be26-c8910b7a4c10",
   "metadata": {},
   "outputs": [
    {
     "name": "stdin",
     "output_type": "stream",
     "text": [
      "Enter number 496\n"
     ]
    },
    {
     "name": "stdout",
     "output_type": "stream",
     "text": [
      "Perfect Number\n"
     ]
    }
   ],
   "source": [
    "def perfect_number(num):\n",
    "    add = 0\n",
    "    if num<1:\n",
    "        return 'pagal'\n",
    "    for i in range(1,num//2+1):\n",
    "        if num % i==0:\n",
    "            add+=i\n",
    "    if num==add:\n",
    "        print('Perfect Number')\n",
    "    else:\n",
    "        print('Not Perfect')\n",
    "num = int(input(\"Enter number\"))\n",
    "perfect_number(num)"
   ]
  },
  {
   "cell_type": "code",
   "execution_count": null,
   "id": "866f974c-c11c-4e90-a95e-324864ac575a",
   "metadata": {},
   "outputs": [],
   "source": [
    "# prgram to concaticate the dictionary"
   ]
  },
  {
   "cell_type": "code",
   "execution_count": 2,
   "id": "63f28e2d-bfd0-4698-8f22-561cfe27ad72",
   "metadata": {},
   "outputs": [
    {
     "data": {
      "text/plain": [
       "{1: 10, 2: 20, 3: 30, 4: 40, 5: 50, 6: 60}"
      ]
     },
     "execution_count": 2,
     "metadata": {},
     "output_type": "execute_result"
    }
   ],
   "source": [
    "dic1 = {1: 10, 2: 20}\n",
    "dic2 = {3: 30, 4: 40}\n",
    "dic3 = {5: 50, 6: 60}\n",
    "\n",
    "def concatenate_dct(*dct):\n",
    "    result = {}\n",
    "    for i in dct:\n",
    "        result.update(i)\n",
    "\n",
    "    return result\n",
    "\n",
    "concatenate_dct(dic1,dic2,dic3)"
   ]
  },
  {
   "cell_type": "code",
   "execution_count": 4,
   "id": "a38c06e6-f808-45cc-acef-893d5054ec29",
   "metadata": {},
   "outputs": [
    {
     "data": {
      "text/plain": [
       "{'Mayur': 10, 'Lalit': 20}"
      ]
     },
     "execution_count": 4,
     "metadata": {},
     "output_type": "execute_result"
    }
   ],
   "source": [
    "def update_dct(**kwargs):\n",
    "    return kwargs\n",
    "\n",
    "update_dct(Mayur=10,Lalit=20)"
   ]
  },
  {
   "cell_type": "code",
   "execution_count": 9,
   "id": "16d78b1b-0af7-4934-a756-fdbbd936140c",
   "metadata": {},
   "outputs": [
    {
     "name": "stdout",
     "output_type": "stream",
     "text": [
      "you --> 4\n"
     ]
    }
   ],
   "source": [
    "string = 'hello how are you i am fine thank you you you how how are hello'\n",
    "def max_count_word(string):\n",
    "    max_count = 0\n",
    "    max_word = None\n",
    "    for i in string.split():\n",
    "        count = string.count(i)\n",
    "        if count> max_count:\n",
    "            max_count = count\n",
    "            max_word = i\n",
    "    print(f'{max_word} --> {max_count}')\n",
    "\n",
    "max_count_word(string)"
   ]
  },
  {
   "cell_type": "code",
   "execution_count": 5,
   "id": "1dd868a0-ce32-4438-8155-96b4b80c6072",
   "metadata": {},
   "outputs": [
    {
     "data": {
      "text/plain": [
       "(1, 1)"
      ]
     },
     "execution_count": 5,
     "metadata": {},
     "output_type": "execute_result"
    }
   ],
   "source": [
    "# shortest disance point\n",
    "lst_cordinate = [(1,1),(2,2),(3,3),(4,4)]\n",
    "query_point = (0,0)\n",
    "\n",
    "def shortes_dist(lst_cordinate, query_point):\n",
    "    shortest_d = float('inf')\n",
    "    close_pt = None\n",
    "\n",
    "    for point in lst_cordinate:\n",
    "        distance = ((point[0]-query_point[0])**2 + (point[1]-query_point[1])**2)**0.5\n",
    "        if distance < shortest_d:\n",
    "            shortest_d = distance\n",
    "            close_pt = point\n",
    "    return close_pt\n",
    "\n",
    "shortes_dist(lst_cordinate,query_point)"
   ]
  },
  {
   "cell_type": "code",
   "execution_count": 7,
   "id": "1247ae19-1b87-48d8-99f1-66fabec275a5",
   "metadata": {},
   "outputs": [
    {
     "data": {
      "text/plain": [
       "[1, 2, 9, 64, 625, 7776]"
      ]
     },
     "execution_count": 7,
     "metadata": {},
     "output_type": "execute_result"
    }
   ],
   "source": [
    "# it is just like poere term with its index position \n",
    "list1 = [1,2,3,4,5,6]\n",
    "result = list(map(lambda x:x[1]**x[0], enumerate(list1)))\n",
    "result"
   ]
  },
  {
   "cell_type": "code",
   "execution_count": null,
   "id": "e54327f6-b70a-4963-8d19-ee33b3634c8d",
   "metadata": {},
   "outputs": [],
   "source": []
  }
 ],
 "metadata": {
  "kernelspec": {
   "display_name": "Python 3 (ipykernel)",
   "language": "python",
   "name": "python3"
  },
  "language_info": {
   "codemirror_mode": {
    "name": "ipython",
    "version": 3
   },
   "file_extension": ".py",
   "mimetype": "text/x-python",
   "name": "python",
   "nbconvert_exporter": "python",
   "pygments_lexer": "ipython3",
   "version": "3.12.5"
  }
 },
 "nbformat": 4,
 "nbformat_minor": 5
}
