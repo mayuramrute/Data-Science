{
 "cells": [
  {
   "cell_type": "markdown",
   "id": "d18ad1b2-8d4b-45ab-8797-91c81ab17743",
   "metadata": {},
   "source": [
    "# Practice\n",
    "## Mork 1"
   ]
  },
  {
   "cell_type": "code",
   "execution_count": 1,
   "id": "6a916f53-ef93-4d62-a60d-462eed5178a8",
   "metadata": {},
   "outputs": [
    {
     "data": {
      "text/plain": [
       "[5, 7, 1, 4, 4, 2, 4, 99, 44]"
      ]
     },
     "execution_count": 1,
     "metadata": {},
     "output_type": "execute_result"
    }
   ],
   "source": [
    "l = [5,7,1,4,4,2,4,99,44]\n",
    "l"
   ]
  },
  {
   "cell_type": "code",
   "execution_count": 2,
   "id": "72a39bf8-475c-4e7a-b908-23c2d08f5672",
   "metadata": {},
   "outputs": [],
   "source": [
    "l.reverse()"
   ]
  },
  {
   "cell_type": "code",
   "execution_count": 3,
   "id": "b2709cf2-3097-47ad-9120-0c0c05dceabe",
   "metadata": {},
   "outputs": [
    {
     "data": {
      "text/plain": [
       "[44, 99, 4, 2, 4, 4, 1, 7, 5]"
      ]
     },
     "execution_count": 3,
     "metadata": {},
     "output_type": "execute_result"
    }
   ],
   "source": [
    "l"
   ]
  },
  {
   "cell_type": "code",
   "execution_count": 5,
   "id": "9863a1eb-f22e-4538-85bc-b1378da4e52a",
   "metadata": {},
   "outputs": [
    {
     "data": {
      "text/plain": [
       "[99, 44, 7, 5, 4, 4, 4, 2, 1]"
      ]
     },
     "execution_count": 5,
     "metadata": {},
     "output_type": "execute_result"
    }
   ],
   "source": [
    "sorted(l, reverse = True)"
   ]
  },
  {
   "cell_type": "code",
   "execution_count": 15,
   "id": "64fbfcb2-c77b-4538-b668-fe8393a56739",
   "metadata": {},
   "outputs": [
    {
     "data": {
      "text/plain": [
       "3"
      ]
     },
     "execution_count": 15,
     "metadata": {},
     "output_type": "execute_result"
    }
   ],
   "source": [
    "l.count(4) # give the numbe of elements present in the list "
   ]
  },
  {
   "cell_type": "code",
   "execution_count": 16,
   "id": "4637348f-34b8-4dd5-852c-33118ea91809",
   "metadata": {},
   "outputs": [
    {
     "data": {
      "text/plain": [
       "([1, 2, 3, 4], [1, 2, 3, 4])"
      ]
     },
     "execution_count": 16,
     "metadata": {},
     "output_type": "execute_result"
    }
   ],
   "source": [
    "lst1 = [1,2,3,4]\n",
    "lst2 = lst1\n",
    "lst1,lst2"
   ]
  },
  {
   "cell_type": "code",
   "execution_count": 18,
   "id": "f984fedd-e9e4-4b3b-b617-98bf6fb8c585",
   "metadata": {},
   "outputs": [
    {
     "data": {
      "text/plain": [
       "[1, 200, 3, 4]"
      ]
     },
     "execution_count": 18,
     "metadata": {},
     "output_type": "execute_result"
    }
   ],
   "source": [
    "lst1[1]=200\n",
    "lst1"
   ]
  },
  {
   "cell_type": "code",
   "execution_count": 19,
   "id": "304a0c4f-e17f-466f-b7a2-1b2ef94ade35",
   "metadata": {},
   "outputs": [
    {
     "data": {
      "text/plain": [
       "[1, 200, 3, 4]"
      ]
     },
     "execution_count": 19,
     "metadata": {},
     "output_type": "execute_result"
    }
   ],
   "source": [
    "lst2"
   ]
  },
  {
   "cell_type": "code",
   "execution_count": 20,
   "id": "d18cefd2-749e-4e76-b00b-78bae666e54f",
   "metadata": {},
   "outputs": [],
   "source": [
    "# copy function\n",
    "lst2 = lst1.copy()"
   ]
  },
  {
   "cell_type": "code",
   "execution_count": 22,
   "id": "362ec231-c204-4736-af45-563ce78eef53",
   "metadata": {},
   "outputs": [
    {
     "name": "stdout",
     "output_type": "stream",
     "text": [
      "[1, 200, 3, 4]\n",
      "[1, 200, 3, 4]\n"
     ]
    }
   ],
   "source": [
    "print(lst1)\n",
    "print(lst2)"
   ]
  },
  {
   "cell_type": "code",
   "execution_count": 25,
   "id": "4b59a7b7-33a4-406b-957e-a1d1675868ad",
   "metadata": {},
   "outputs": [
    {
     "data": {
      "text/plain": [
       "[1, 200, 300, 4]"
      ]
     },
     "execution_count": 25,
     "metadata": {},
     "output_type": "execute_result"
    }
   ],
   "source": [
    "lst1[2]=300\n",
    "lst1"
   ]
  },
  {
   "cell_type": "code",
   "execution_count": 26,
   "id": "450486cf-7ad6-46a1-b87b-5db833b92f54",
   "metadata": {},
   "outputs": [
    {
     "data": {
      "text/plain": [
       "[1, 200, 3, 4]"
      ]
     },
     "execution_count": 26,
     "metadata": {},
     "output_type": "execute_result"
    }
   ],
   "source": [
    "lst2  # this not change "
   ]
  },
  {
   "cell_type": "code",
   "execution_count": 6,
   "id": "5152c6f1-2541-443e-8346-0a46313d1a9d",
   "metadata": {},
   "outputs": [],
   "source": [
    "lst3 = [1,2,3,[9,8,7]]\n",
    "lst4 = lst3.copy()"
   ]
  },
  {
   "cell_type": "code",
   "execution_count": 7,
   "id": "6196a8e1-cf37-4018-b15e-3056aff47362",
   "metadata": {},
   "outputs": [
    {
     "name": "stdout",
     "output_type": "stream",
     "text": [
      "[1, 2, 3, [9, 8, 7]]\n",
      "[1, 2, 3, [9, 8, 7]]\n"
     ]
    }
   ],
   "source": [
    "print(lst3)\n",
    "print(lst4)"
   ]
  },
  {
   "cell_type": "code",
   "execution_count": 8,
   "id": "7242054a-cdb6-41c8-aa7b-40b6d5b30733",
   "metadata": {},
   "outputs": [
    {
     "name": "stdout",
     "output_type": "stream",
     "text": [
      "[1, 2, 300, [9, 8, 7]]\n",
      "[1, 2, 3, [9, 8, 7]]\n"
     ]
    }
   ],
   "source": [
    "lst3[2]=300\n",
    "print(lst3)\n",
    "print(lst4)"
   ]
  },
  {
   "cell_type": "code",
   "execution_count": 9,
   "id": "1fdc0ec2-1713-49e5-950f-f048881b1828",
   "metadata": {},
   "outputs": [
    {
     "data": {
      "text/plain": [
       "[1, 2, 3, [9, 8, 7]]"
      ]
     },
     "execution_count": 9,
     "metadata": {},
     "output_type": "execute_result"
    }
   ],
   "source": [
    "lst4"
   ]
  },
  {
   "cell_type": "code",
   "execution_count": 10,
   "id": "620e440e-b416-4d3a-8211-d6985239e499",
   "metadata": {},
   "outputs": [
    {
     "data": {
      "text/plain": [
       "[1, 2, 300, [900, 8, 7]]"
      ]
     },
     "execution_count": 10,
     "metadata": {},
     "output_type": "execute_result"
    }
   ],
   "source": [
    "lst3[3][0]=900\n",
    "lst3"
   ]
  },
  {
   "cell_type": "code",
   "execution_count": 11,
   "id": "a3f7f090-c719-4bd8-8645-8447be1ff888",
   "metadata": {},
   "outputs": [
    {
     "data": {
      "text/plain": [
       "[1, 2, 3, [900, 8, 7]]"
      ]
     },
     "execution_count": 11,
     "metadata": {},
     "output_type": "execute_result"
    }
   ],
   "source": [
    "lst4  # so here the copy function is not work properly with the nested list"
   ]
  },
  {
   "cell_type": "code",
   "execution_count": 16,
   "id": "55adf098-726b-4094-b7a2-0c7c916ef1be",
   "metadata": {},
   "outputs": [],
   "source": [
    "import copy\n",
    "lst4=copy.deepcopy(lst3)"
   ]
  },
  {
   "cell_type": "code",
   "execution_count": 17,
   "id": "5810a924-f81b-4c13-8bba-0a3bfc74b3fa",
   "metadata": {},
   "outputs": [
    {
     "name": "stdout",
     "output_type": "stream",
     "text": [
      "[1, 2, 300, [900, 8, 7]]\n",
      "[1, 2, 300, [900, 8, 7]]\n"
     ]
    }
   ],
   "source": [
    "print(lst3)\n",
    "print(lst4)"
   ]
  },
  {
   "cell_type": "code",
   "execution_count": 18,
   "id": "ea87ec83-fbb6-4bfb-b404-9fcfb05d4e49",
   "metadata": {},
   "outputs": [],
   "source": [
    "lst3[3][1]=800"
   ]
  },
  {
   "cell_type": "code",
   "execution_count": 19,
   "id": "61f7dce8-b239-464e-8f28-8bac3c9f7662",
   "metadata": {},
   "outputs": [
    {
     "name": "stdout",
     "output_type": "stream",
     "text": [
      "[1, 2, 300, [900, 800, 7]]\n",
      "[1, 2, 300, [900, 8, 7]]\n"
     ]
    }
   ],
   "source": [
    "print(lst3)   # so here the problem of copy function with nested list is resolved\n",
    "print(lst4)"
   ]
  },
  {
   "cell_type": "code",
   "execution_count": 54,
   "id": "3dbf6773-cb49-4015-8b65-92666b4fe76a",
   "metadata": {},
   "outputs": [
    {
     "name": "stdout",
     "output_type": "stream",
     "text": [
      "[0, 1, 2, 3]\n"
     ]
    }
   ],
   "source": [
    "# append()\n",
    "\n",
    "l= []\n",
    "\n",
    "for i in range(4):\n",
    "    l.append(i)\n",
    "\n",
    "print(l)"
   ]
  },
  {
   "cell_type": "code",
   "execution_count": 55,
   "id": "b4d5a290-3489-4ec4-8cfa-3a66a25c58ef",
   "metadata": {},
   "outputs": [
    {
     "data": {
      "text/plain": [
       "[0, 1, 2, 3, (11, 22, 33, 44)]"
      ]
     },
     "execution_count": 55,
     "metadata": {},
     "output_type": "execute_result"
    }
   ],
   "source": [
    "l.append((11,22,33,44))  # take as whole single object\n",
    "l"
   ]
  },
  {
   "cell_type": "code",
   "execution_count": 59,
   "id": "bc6920dc-5291-4241-bc36-4d85f044fccc",
   "metadata": {},
   "outputs": [
    {
     "data": {
      "text/plain": [
       "[0, 1, 2, 3, (11, 22, 33, 44), 1, 200, 300, 4, 1, 200, 300, 4]"
      ]
     },
     "execution_count": 59,
     "metadata": {},
     "output_type": "execute_result"
    }
   ],
   "source": [
    "l.extend(lst1)  # the extend function take iterator such as list, tuple... and add ech element of iterator as single \n",
    "l"
   ]
  },
  {
   "cell_type": "code",
   "execution_count": 60,
   "id": "afa7d9e4-0548-49de-941a-bf2708d90e96",
   "metadata": {},
   "outputs": [],
   "source": [
    "l = [1,2,3,4,5]\n",
    "square_l = [i**2 for i in l]"
   ]
  },
  {
   "cell_type": "code",
   "execution_count": 61,
   "id": "86f7d110-01f0-4454-8295-690ddea37566",
   "metadata": {},
   "outputs": [
    {
     "data": {
      "text/plain": [
       "[1, 4, 9, 16, 25]"
      ]
     },
     "execution_count": 61,
     "metadata": {},
     "output_type": "execute_result"
    }
   ],
   "source": [
    "square_l"
   ]
  },
  {
   "cell_type": "code",
   "execution_count": 63,
   "id": "21c56cab-9632-4d15-a2c2-6550a8e1520f",
   "metadata": {},
   "outputs": [
    {
     "data": {
      "text/plain": [
       "[1, 4, 9, 16, 25, 36, 49, 64, 81, 100]"
      ]
     },
     "execution_count": 63,
     "metadata": {},
     "output_type": "execute_result"
    }
   ],
   "source": [
    "[i**2 for i in range(1,11)]"
   ]
  },
  {
   "cell_type": "code",
   "execution_count": 69,
   "id": "aa0c93a6-297a-4095-840b-46cc266eb1dc",
   "metadata": {},
   "outputs": [
    {
     "name": "stdout",
     "output_type": "stream",
     "text": [
      "[21, 22, 23, 24, [1, 2, 3]]\n",
      "[21, 22, 23, 24, [1, 2, 3]]\n"
     ]
    }
   ],
   "source": [
    "lstt = [21,22,23,24,[1,2,3]]\n",
    "lsttt = lstt.copy()\n",
    "print(lstt)\n",
    "print(lsttt)"
   ]
  },
  {
   "cell_type": "code",
   "execution_count": 73,
   "id": "d456e586-87f5-46dc-a5a1-13e48572e2c5",
   "metadata": {},
   "outputs": [
    {
     "name": "stdout",
     "output_type": "stream",
     "text": [
      "[200, 22, 23, 24, [1, 2, 3]]\n"
     ]
    },
    {
     "data": {
      "text/plain": [
       "[21, 22, 23, 24, [1, 2, 3]]"
      ]
     },
     "execution_count": 73,
     "metadata": {},
     "output_type": "execute_result"
    }
   ],
   "source": [
    "lstt[0]=200\n",
    "print(lstt)\n",
    "lsttt"
   ]
  },
  {
   "cell_type": "code",
   "execution_count": 75,
   "id": "6a5be1d6-e723-44be-b0e4-adf94e2d3827",
   "metadata": {},
   "outputs": [
    {
     "name": "stdout",
     "output_type": "stream",
     "text": [
      "1285844207296\n",
      "1285846029184\n"
     ]
    }
   ],
   "source": [
    "print(id(lstt)) # different location\n",
    "print(id(lsttt))"
   ]
  },
  {
   "cell_type": "code",
   "execution_count": 77,
   "id": "7e2b4c1b-a397-4684-98eb-15186d55b74d",
   "metadata": {},
   "outputs": [
    {
     "name": "stdout",
     "output_type": "stream",
     "text": [
      "[200, 22, 23, 24, [100, 2, 3]]\n",
      "[21, 22, 23, 24, [100, 2, 3]]\n"
     ]
    }
   ],
   "source": [
    "lstt[4][0]=100 # both nested lists were change\n",
    "print(lstt)\n",
    "print(lsttt)  # referse the same memory loaction nested list"
   ]
  },
  {
   "cell_type": "code",
   "execution_count": 79,
   "id": "c760342c-d995-452e-a2b0-b0475a76ddf3",
   "metadata": {},
   "outputs": [
    {
     "name": "stdout",
     "output_type": "stream",
     "text": [
      "1285837110976\n",
      "1285837110976\n"
     ]
    }
   ],
   "source": [
    "print(id(lstt[4]))\n",
    "print(id(lsttt[4])) # same location"
   ]
  },
  {
   "cell_type": "code",
   "execution_count": 81,
   "id": "d897c649-0663-4405-899e-38dfa731451a",
   "metadata": {},
   "outputs": [
    {
     "name": "stdout",
     "output_type": "stream",
     "text": [
      "apple anana "
     ]
    }
   ],
   "source": [
    "# find the common and sarts with 'a' element from the list\n",
    "basket = ['apple', \"Gava\", 'cherry', \"anana\"]\n",
    "my_Fruits = ['apple', 'kiwi','Grephs','anana']\n",
    "\n",
    "for i in my_Fruits:\n",
    "    if i in basket:\n",
    "        if i.startswith('a'):\n",
    "            print(i, end=' ')"
   ]
  },
  {
   "cell_type": "code",
   "execution_count": 82,
   "id": "2e60d4ab-fcb3-4a6f-a7b9-693c2f506318",
   "metadata": {},
   "outputs": [
    {
     "data": {
      "text/plain": [
       "['apple', 'anana']"
      ]
     },
     "execution_count": 82,
     "metadata": {},
     "output_type": "execute_result"
    }
   ],
   "source": [
    "# using list comprehension\n",
    "[fruit for fruit in my_Fruits if fruit in basket if fruit.startswith('a')]"
   ]
  },
  {
   "cell_type": "code",
   "execution_count": 84,
   "id": "c8b59d2b-aef6-491c-945c-438b97cc59de",
   "metadata": {},
   "outputs": [
    {
     "data": {
      "text/plain": [
       "[[1, 2, 3], [2, 4, 6], [3, 6, 9]]"
      ]
     },
     "execution_count": 84,
     "metadata": {},
     "output_type": "execute_result"
    }
   ],
   "source": [
    "# 2d matrix using list comprehension\n",
    "[[i*j for i in range(1,4)] for j in range(1,4)]"
   ]
  },
  {
   "cell_type": "code",
   "execution_count": 86,
   "id": "9a4af840-c504-4939-a882-6185802e1c67",
   "metadata": {},
   "outputs": [
    {
     "data": {
      "text/plain": [
       "[(1, 5), (2, 6), (3, 7), (4, 8)]"
      ]
     },
     "execution_count": 86,
     "metadata": {},
     "output_type": "execute_result"
    }
   ],
   "source": [
    "# zip() used to join th each element of two or more list indexwise\n",
    "l1 = [1,2,3,4]\n",
    "l2 = [5,6,7,8]\n",
    "list(zip(l1,l2))"
   ]
  },
  {
   "cell_type": "code",
   "execution_count": 1,
   "id": "9f03fa4d-7be4-475a-b59c-7f8fe039d37e",
   "metadata": {},
   "outputs": [
    {
     "name": "stdout",
     "output_type": "stream",
     "text": [
      "[1, 3, 6, 10, 15, 21]\n"
     ]
    }
   ],
   "source": [
    "#cumulative sum\n",
    "\n",
    "l = [1,2,3,4,5,6]\n",
    "total = 0\n",
    "cumsum=[]\n",
    "\n",
    "for i in l:\n",
    "    total += i\n",
    "    cumsum.append(total)\n",
    "print(cumsum)"
   ]
  },
  {
   "cell_type": "code",
   "execution_count": 5,
   "id": "7b42e96a-b0b9-483c-8fc7-f9265eae6e86",
   "metadata": {},
   "outputs": [
    {
     "name": "stdout",
     "output_type": "stream",
     "text": [
      "[22, 20, 16, 10, 23]\n"
     ]
    }
   ],
   "source": [
    "# py prog to add all gerater than curr including curr\n",
    "list1 = [2,4,6,10,1]\n",
    "\n",
    "temp = []\n",
    "for i in list1:\n",
    "    final = i\n",
    "    for j in list1:\n",
    "        if j > i:\n",
    "            final += j\n",
    "    temp.append(final)\n",
    "print(temp)"
   ]
  },
  {
   "cell_type": "code",
   "execution_count": 24,
   "id": "c4313bd2-414c-42fb-99c3-b505d170bdd6",
   "metadata": {},
   "outputs": [
    {
     "name": "stdout",
     "output_type": "stream",
     "text": [
      "[2, 12, 1440, 0, 0, 0]\n"
     ]
    }
   ],
   "source": [
    "# ['1ac21', '23fg', '456', '098d','1','kls']  sort based on the product value of int in strings\n",
    "lst = ['1ac21', '23fg', '456', '098d','1','kls']\n",
    "prod=1\n",
    "prodlist=[]\n",
    "for mix in lst:\n",
    "    for i in mix:\n",
    "        if i in \"0123456789\":\n",
    "            prod *= int(i)\n",
    "    prodlist.append(prod)\n",
    "\n",
    "print(prodlist)"
   ]
  },
  {
   "cell_type": "code",
   "execution_count": 12,
   "id": "f73b1d80-7a90-4a47-a642-c7729ea78214",
   "metadata": {},
   "outputs": [
    {
     "name": "stdout",
     "output_type": "stream",
     "text": [
      "CampusX is a channel for data-science aspirants. "
     ]
    }
   ],
   "source": [
    "# O/P CampusX is a channel for data-science aspirants.\n",
    "lst = ['CampusX is a channel', 'for data-science', 'aspirants.']\n",
    "string  = ''\n",
    "for word in lst:\n",
    "    for sub in range(len(word)):\n",
    "        print(' '.join(word[sub]), end = '')\n",
    "    print(end=\" \")\n"
   ]
  },
  {
   "cell_type": "code",
   "execution_count": 16,
   "id": "865e8899-68bc-4a23-9db9-9e4067df0894",
   "metadata": {},
   "outputs": [
    {
     "name": "stdout",
     "output_type": "stream",
     "text": [
      "C a m p u s X   i s   a   c h a n n e l f o r   d a t a - s c i e n c e a s p i r a n t s . "
     ]
    }
   ],
   "source": [
    "for i in lst:\n",
    "    print(' '.join(i), end = ' ')\n",
    "    "
   ]
  },
  {
   "cell_type": "code",
   "execution_count": 22,
   "id": "3164e2a0-6288-4aee-a032-24734e799e84",
   "metadata": {},
   "outputs": [
    {
     "name": "stdout",
     "output_type": "stream",
     "text": [
      "campux is best channel "
     ]
    }
   ],
   "source": [
    "# convet into string \n",
    "lst = [['c', 'a', 'm', 'p', 'u', 'x'], ['i', 's'], ['b', 'e', 's', 't'], ['c', 'h', 'a', 'n', 'n', 'e', 'l']]\n",
    "\n",
    "for i in lst:\n",
    "    print(\"\".join(i), end=\" \")                    # join function is used to jion all the element i the list as a string "
   ]
  },
  {
   "cell_type": "code",
   "execution_count": 26,
   "id": "98291e24-5d0b-40fa-bdae-bd8d387bdeba",
   "metadata": {},
   "outputs": [
    {
     "name": "stdout",
     "output_type": "stream",
     "text": [
      "campux is best channel\n"
     ]
    }
   ],
   "source": [
    "final  = ' '.join([''.join(words) for words in lst])\n",
    "print(final)"
   ]
  },
  {
   "cell_type": "code",
   "execution_count": 29,
   "id": "58c8e011-5262-46b7-89d4-e556de12b29e",
   "metadata": {},
   "outputs": [
    {
     "name": "stdout",
     "output_type": "stream",
     "text": [
      "[1, 2, 3, 4, 5, 7, 8]\n"
     ]
    }
   ],
   "source": [
    "# union of two list\n",
    "\n",
    "L1=[1,2,3,4,5,1]\n",
    "L2=[2,3,5,7,8]\n",
    "L1.extend(L2)\n",
    "for i in L1:\n",
    "    if i not in l3:\n",
    "        l3.append(i)\n",
    "print(l3)"
   ]
  },
  {
   "cell_type": "code",
   "execution_count": 30,
   "id": "1bc24360-6d59-4fa8-a918-cc5b25d82187",
   "metadata": {},
   "outputs": [
    {
     "name": "stdout",
     "output_type": "stream",
     "text": [
      "[3, 6, 9]\n"
     ]
    }
   ],
   "source": [
    "# max of each row\n",
    "mat = [[1,2,3],[4,5,6],[7,8,9]]\n",
    "maximun = []\n",
    "for i in mat:\n",
    "    maximun.append(max(i))\n",
    "\n",
    "print(maximun)"
   ]
  },
  {
   "cell_type": "code",
   "execution_count": 66,
   "id": "8f0370f8-cf0b-46a2-a34e-5bbc8fe573a9",
   "metadata": {},
   "outputs": [
    {
     "name": "stdout",
     "output_type": "stream",
     "text": [
      "[[1, 4, 7], [2, 5, 8], [3, 6, 9]]\n",
      "[1, 4, 7] [2, 5, 8] [3, 6, 9]\n"
     ]
    }
   ],
   "source": [
    "# transpose the matrix\n",
    "matrix = [\n",
    "    [1, 2, 3],\n",
    "    [4, 5, 6],\n",
    "    [7, 8, 9]]\n",
    "\n",
    "abc =[[row[i] for row in matrix] for i in range(len(matrix))]\n",
    "print(abc)\n",
    "print(*abc)     # used to unfols the matrix"
   ]
  },
  {
   "cell_type": "code",
   "execution_count": 61,
   "id": "586f5ef4-9720-420d-a291-696ea0c4f92e",
   "metadata": {},
   "outputs": [
    {
     "name": "stdout",
     "output_type": "stream",
     "text": [
      "[1, 4, 7]\n",
      "[2, 5, 8]\n",
      "[3, 6, 9]\n"
     ]
    }
   ],
   "source": [
    "for i in range(len(matrix[0])):\n",
    "    temp = []\n",
    "    for row in matrix:\n",
    "       temp.append(row[i])\n",
    "    \n",
    "    print(temp)"
   ]
  },
  {
   "cell_type": "markdown",
   "id": "04ce16b9-d837-461a-8cc4-7e54ff36a6e7",
   "metadata": {},
   "source": [
    "## Tuple"
   ]
  },
  {
   "cell_type": "code",
   "execution_count": 8,
   "id": "36977ee6-c31b-4662-8b6e-23e691907138",
   "metadata": {},
   "outputs": [
    {
     "data": {
      "text/plain": [
       "tuple"
      ]
     },
     "execution_count": 8,
     "metadata": {},
     "output_type": "execute_result"
    }
   ],
   "source": [
    "# creating tuple\n",
    "tup = (1,2,3,4,5)\n",
    "tup1 = (1,2,True, [1,2,3],1.2, 2+4j,{1:2,3:4} ) # heterogenous elements \n",
    "t = (\"Ma\",) # tuple having single element\n",
    "type(t)\n",
    "\n",
    "tt = ()   # empty tuple"
   ]
  },
  {
   "cell_type": "code",
   "execution_count": 11,
   "id": "d3e77acb-5ed8-4e5b-81ac-736a28d03694",
   "metadata": {},
   "outputs": [
    {
     "data": {
      "text/plain": [
       "2"
      ]
     },
     "execution_count": 11,
     "metadata": {},
     "output_type": "execute_result"
    }
   ],
   "source": [
    "# accessing elements indexing and slicing \n",
    "\n",
    "tup1[1]\n",
    "tup1[-1][1]"
   ]
  },
  {
   "cell_type": "code",
   "execution_count": 12,
   "id": "86c286bc-d4f5-43a1-a4ab-a7e9d0da0d45",
   "metadata": {},
   "outputs": [
    {
     "data": {
      "text/plain": [
       "True"
      ]
     },
     "execution_count": 12,
     "metadata": {},
     "output_type": "execute_result"
    }
   ],
   "source": [
    "tup1[2]"
   ]
  },
  {
   "cell_type": "markdown",
   "id": "1f152763-3f1c-4bb3-b217-4144b7d6eb9f",
   "metadata": {},
   "source": [
    "### since tuple is a immutable data type we cannot perform the mofdification operation on the tuple i.e add and delete elements"
   ]
  },
  {
   "cell_type": "code",
   "execution_count": 13,
   "id": "af9c40f9-b268-4965-83cf-bf529dcd55f4",
   "metadata": {},
   "outputs": [
    {
     "data": {
      "text/plain": [
       "(5, 4, 3, 2, 1)"
      ]
     },
     "execution_count": 13,
     "metadata": {},
     "output_type": "execute_result"
    }
   ],
   "source": [
    "t = (1,2,3,4,5)\n",
    "t[-1::-1]"
   ]
  },
  {
   "cell_type": "code",
   "execution_count": 16,
   "id": "38fd0aa4-dd61-47ae-8736-69e065be427f",
   "metadata": {},
   "outputs": [
    {
     "name": "stdout",
     "output_type": "stream",
     "text": [
      "(1, 2, 3, 4, 5, 6, 7, 8, 9)\n",
      "(6, 7, 8, 9, 6, 7, 8, 9)\n"
     ]
    }
   ],
   "source": [
    "# we can perform + and *  operation on the tuple \n",
    "tt = (6,7,8,9)\n",
    "print(t + tt)      # conctinate the two tuples\n",
    "print(tt*2)        # will multipy the tuple size elements "
   ]
  },
  {
   "cell_type": "code",
   "execution_count": 21,
   "id": "77d75572-2fcd-45c8-a7a9-7a5f360cd21d",
   "metadata": {},
   "outputs": [
    {
     "name": "stdout",
     "output_type": "stream",
     "text": [
      "1\n",
      "5\n",
      "15\n",
      "5\n",
      "[5, 4, 3, 2, 1]\n"
     ]
    }
   ],
   "source": [
    "# tuple function\n",
    "print(min(t))\n",
    "print(max(t))\n",
    "print(sum(t))\n",
    "print(len(t))\n",
    "print(sorted(t, reverse=True))"
   ]
  },
  {
   "cell_type": "code",
   "execution_count": 23,
   "id": "dca360e6-7cc2-4ceb-8541-af07af8dc014",
   "metadata": {},
   "outputs": [
    {
     "data": {
      "text/plain": [
       "1"
      ]
     },
     "execution_count": 23,
     "metadata": {},
     "output_type": "execute_result"
    }
   ],
   "source": [
    "t.count(5)  # will give the count of elements present in the tuple"
   ]
  },
  {
   "cell_type": "code",
   "execution_count": 30,
   "id": "0c728372-f851-4111-adeb-5bbefe16e8df",
   "metadata": {},
   "outputs": [
    {
     "name": "stdout",
     "output_type": "stream",
     "text": [
      "4\n"
     ]
    }
   ],
   "source": [
    "print(t.index(5))  # gives the index of the element \n",
    "                    # find function is present in the string  "
   ]
  },
  {
   "cell_type": "code",
   "execution_count": 34,
   "id": "dc213aa6-8b14-4a3a-96cd-27f19bdebf7e",
   "metadata": {},
   "outputs": [
    {
     "data": {
      "text/plain": [
       "[1, 2, 3, 4, 5, 6, 7, 8, 9]"
      ]
     },
     "execution_count": 34,
     "metadata": {},
     "output_type": "execute_result"
    }
   ],
   "source": [
    "L = list(range(1,10))\n",
    "L"
   ]
  },
  {
   "cell_type": "code",
   "execution_count": 42,
   "id": "c2a893d9-5e28-4e20-83c7-6ff930a62f59",
   "metadata": {},
   "outputs": [
    {
     "name": "stdin",
     "output_type": "stream",
     "text": [
      "Enter number:  13\n"
     ]
    },
    {
     "name": "stdout",
     "output_type": "stream",
     "text": [
      "Prime\n"
     ]
    }
   ],
   "source": [
    "num = int(input(\"Enter number: \"))\n",
    "if num>1:\n",
    "  for i in range(2, num//2 + 1):\n",
    "     if num % i==0:\n",
    "        print(\"Not Prime\")\n",
    "        break\n",
    "  else:\n",
    "        print(\"Prime\")\n",
    "else:\n",
    "    print(\"Not Prime\")\n"
   ]
  },
  {
   "cell_type": "code",
   "execution_count": 25,
   "id": "6b7e1788-7b85-44ca-abe2-4e0dc4add60d",
   "metadata": {},
   "outputs": [
    {
     "name": "stdout",
     "output_type": "stream",
     "text": [
      "(1, 2, 3, 4, 4)\n"
     ]
    }
   ],
   "source": [
    "## adding into tuple using arithmtic operation \n",
    "\n",
    "t = (1,2,3,4)    # like append function in \n",
    "print(t+(4,)) "
   ]
  },
  {
   "cell_type": "code",
   "execution_count": 45,
   "id": "b6884ba6-a028-49cd-a4bb-ff738723c49f",
   "metadata": {},
   "outputs": [
    {
     "name": "stdout",
     "output_type": "stream",
     "text": [
      "1 2 3\n"
     ]
    }
   ],
   "source": [
    "# tuple special syntax\n",
    "a,b,c = (1,2,3)        # tuple unpacking \n",
    "print(a,b,c)           # nmber of variable must be same to unpack the "
   ]
  },
  {
   "cell_type": "code",
   "execution_count": 48,
   "id": "7838680f-213f-4bf2-9162-312f7d15e840",
   "metadata": {},
   "outputs": [
    {
     "data": {
      "text/plain": [
       "1"
      ]
     },
     "execution_count": 48,
     "metadata": {},
     "output_type": "execute_result"
    }
   ],
   "source": [
    "a,b,*other = (1,2,3,4,5,6)\n",
    "a"
   ]
  },
  {
   "cell_type": "code",
   "execution_count": 49,
   "id": "1590d60a-6abf-4f68-bd59-f85bbcc1b817",
   "metadata": {},
   "outputs": [
    {
     "data": {
      "text/plain": [
       "2"
      ]
     },
     "execution_count": 49,
     "metadata": {},
     "output_type": "execute_result"
    }
   ],
   "source": [
    "b"
   ]
  },
  {
   "cell_type": "code",
   "execution_count": 53,
   "id": "8c20b714-d162-4393-a8b2-b59a8dff217c",
   "metadata": {},
   "outputs": [
    {
     "data": {
      "text/plain": [
       "[3, 4, 5, 6]"
      ]
     },
     "execution_count": 53,
     "metadata": {},
     "output_type": "execute_result"
    }
   ],
   "source": [
    "other  # will include all other remaining elements while unpacking the tuple (*)"
   ]
  },
  {
   "cell_type": "code",
   "execution_count": 68,
   "id": "efe55138-50f3-4389-b667-77d81af1fcb6",
   "metadata": {},
   "outputs": [
    {
     "name": "stdout",
     "output_type": "stream",
     "text": [
      "[('a', 1), ('b', 2), ('c', 3), ('d', 4)]\n"
     ]
    }
   ],
   "source": [
    "# zip() # zip function is used to pair the index wise elements of two or more than two lists or tuples\n",
    "t = ['a','b','c','d']\n",
    "l = (1,2,3,4)\n",
    "x = zip(t,l)\n",
    "print(list(x))\n",
    "#print(tuple(x))"
   ]
  },
  {
   "cell_type": "markdown",
   "id": "886202fe-4942-4cca-9b8b-00378e8bda3b",
   "metadata": {},
   "source": [
    "# SET"
   ]
  },
  {
   "cell_type": "code",
   "execution_count": 1,
   "id": "c4541162-99a5-456c-b8e6-be62b23213b5",
   "metadata": {},
   "outputs": [],
   "source": [
    "# set() used to create the set\n",
    "s = set()"
   ]
  },
  {
   "cell_type": "code",
   "execution_count": 3,
   "id": "ec89c0cf-981d-47ac-8d0d-70c0af9cb3dd",
   "metadata": {},
   "outputs": [
    {
     "data": {
      "text/plain": [
       "set"
      ]
     },
     "execution_count": 3,
     "metadata": {},
     "output_type": "execute_result"
    }
   ],
   "source": [
    "type(s)"
   ]
  },
  {
   "cell_type": "code",
   "execution_count": 17,
   "id": "6b0ff838-7c88-46f6-a964-531dac78ea92",
   "metadata": {},
   "outputs": [
    {
     "data": {
      "text/plain": [
       "{1, 2, 3, 4, 5}"
      ]
     },
     "execution_count": 17,
     "metadata": {},
     "output_type": "execute_result"
    }
   ],
   "source": [
    "s = {1,2,3,4,4,5,5}  # set contans unique value\n",
    "s"
   ]
  },
  {
   "cell_type": "code",
   "execution_count": 5,
   "id": "585b694b-b0e2-448b-8e54-baf10108cbf2",
   "metadata": {},
   "outputs": [],
   "source": [
    "# we cannot access the set elements as set is unordered data type"
   ]
  },
  {
   "cell_type": "code",
   "execution_count": 11,
   "id": "549b0c8b-f109-4433-89c3-dafd9050183b",
   "metadata": {},
   "outputs": [
    {
     "data": {
      "text/plain": [
       "{(6, 7, 8), 1, 2, 3, 4, 5, 6}"
      ]
     },
     "execution_count": 11,
     "metadata": {},
     "output_type": "execute_result"
    }
   ],
   "source": [
    "# we can add and update the set via add() and update() method"
   ]
  },
  {
   "cell_type": "code",
   "execution_count": 42,
   "id": "0bb6837d-e648-4bc0-b7a9-b1928b3384d5",
   "metadata": {},
   "outputs": [
    {
     "data": {
      "text/plain": [
       "{3, 4, 5, 6, 7, 8}"
      ]
     },
     "execution_count": 42,
     "metadata": {},
     "output_type": "execute_result"
    }
   ],
   "source": [
    "s.update((6,7,8))      # As like extend() function it takes iterable value and not a single value\n",
    "s"
   ]
  },
  {
   "cell_type": "code",
   "execution_count": 22,
   "id": "af74e8d9-43e0-497c-968b-39fa5644be71",
   "metadata": {},
   "outputs": [
    {
     "name": "stdout",
     "output_type": "stream",
     "text": [
      "1\n",
      "8\n",
      "8\n",
      "36\n",
      "[1, 2, 3, 4, 5, 6, 7, 8]\n"
     ]
    }
   ],
   "source": [
    "# set function\n",
    "\n",
    "print(min(s))\n",
    "print(max(s))\n",
    "print(len(s))\n",
    "print(sum(s))\n",
    "print(sorted(s))  # sorted gives the sorted elements of the "
   ]
  },
  {
   "cell_type": "code",
   "execution_count": 43,
   "id": "275eb6f8-2c76-4c4b-aa1d-3d45a2aa36d0",
   "metadata": {},
   "outputs": [
    {
     "data": {
      "text/plain": [
       "set()"
      ]
     },
     "execution_count": 43,
     "metadata": {},
     "output_type": "execute_result"
    }
   ],
   "source": [
    "# Deleting items\n",
    "s.remove(8)       # remove item wise. have to specify specific items throw error if value not found\n",
    "s.discard(7)      # delete elemet by specifying its value will not throw error if value is not found \n",
    "s.pop()          # remove first element del 1 and 2\n",
    "s.clear()        # clear all elements from the list\n",
    "s                # gives empty set after clearing all items"
   ]
  },
  {
   "cell_type": "raw",
   "id": "997c8e90-3382-4753-8f67-339def1a25b0",
   "metadata": {},
   "source": [
    "# union, intersection, difference symetric, difference\n",
    " | gives the union of set\n",
    " & intersection\n",
    " ^ symetric difference\n",
    " - difference between "
   ]
  },
  {
   "cell_type": "code",
   "execution_count": 62,
   "id": "b72ae2ab-bd46-4c91-bc4e-ae4c2acdba60",
   "metadata": {},
   "outputs": [
    {
     "name": "stdout",
     "output_type": "stream",
     "text": [
      "{1, 2, 3, 4, 5, 6, 7, 8}\n",
      "{5, 6}\n",
      "{1, 2, 3, 4, 7, 8}\n",
      "{1, 2, 3, 4}\n"
     ]
    }
   ],
   "source": [
    "s1 = {1,2,3,4,5,6}\n",
    "s2 = {5,6,7,8}\n",
    "print(s1 | s2)   # union\n",
    "print(s1 & s2)   # common\n",
    "print(s1 ^ s2)   # uncommon elements\n",
    "print(s1 - s2)   # s1 elements not having s2 "
   ]
  },
  {
   "cell_type": "code",
   "execution_count": null,
   "id": "3743b7dd-6699-4356-9028-e3bfc99da27b",
   "metadata": {},
   "outputs": [],
   "source": [
    "# function\n",
    "print(s1.intersection(s2))   # will update the first set with new value by clearing old values \n",
    "print(s2.intersection_update(s1))\n",
    "\n",
    "print()"
   ]
  },
  {
   "cell_type": "code",
   "execution_count": 63,
   "id": "b2cd3f8f-650b-404c-a2ba-aeff8efe4e8b",
   "metadata": {},
   "outputs": [
    {
     "data": {
      "text/plain": [
       "{1, 2, 3, 4}"
      ]
     },
     "execution_count": 63,
     "metadata": {},
     "output_type": "execute_result"
    }
   ],
   "source": [
    "s1.difference(s2)"
   ]
  },
  {
   "cell_type": "code",
   "execution_count": 64,
   "id": "de822856-bc95-46ed-9567-eb519791fd46",
   "metadata": {},
   "outputs": [
    {
     "data": {
      "text/plain": [
       "{1, 2, 3, 4, 5, 6}"
      ]
     },
     "execution_count": 64,
     "metadata": {},
     "output_type": "execute_result"
    }
   ],
   "source": [
    "s1"
   ]
  },
  {
   "cell_type": "code",
   "execution_count": 65,
   "id": "ce76717d-f73c-46c4-b21c-44080b9438aa",
   "metadata": {},
   "outputs": [],
   "source": [
    "s1.difference_update(s2) # make permanent change in original values by updating the set"
   ]
  },
  {
   "cell_type": "code",
   "execution_count": 66,
   "id": "dc7781f6-0046-49ea-a98d-3bd0633c6c59",
   "metadata": {},
   "outputs": [
    {
     "data": {
      "text/plain": [
       "{1, 2, 3, 4}"
      ]
     },
     "execution_count": 66,
     "metadata": {},
     "output_type": "execute_result"
    }
   ],
   "source": [
    "s1"
   ]
  },
  {
   "cell_type": "code",
   "execution_count": 68,
   "id": "dbd71187-f053-4f4f-b711-dd887fa2c533",
   "metadata": {},
   "outputs": [
    {
     "data": {
      "text/plain": [
       "{1, 2, 3, 4, 5, 6}"
      ]
     },
     "execution_count": 68,
     "metadata": {},
     "output_type": "execute_result"
    }
   ],
   "source": [
    "s1.update([5,6])\n",
    "s1"
   ]
  },
  {
   "cell_type": "code",
   "execution_count": 69,
   "id": "cb50edb2-9460-4151-b304-5a2af302bab2",
   "metadata": {},
   "outputs": [
    {
     "data": {
      "text/plain": [
       "{1, 2, 3, 4, 7, 8}"
      ]
     },
     "execution_count": 69,
     "metadata": {},
     "output_type": "execute_result"
    }
   ],
   "source": [
    "s1.symmetric_difference(s2) # all uncommon"
   ]
  },
  {
   "cell_type": "code",
   "execution_count": 70,
   "id": "463953eb-4798-4a5b-b300-d32f7793eb90",
   "metadata": {},
   "outputs": [],
   "source": [
    "s1.symmetric_difference_update(s2)"
   ]
  },
  {
   "cell_type": "code",
   "execution_count": 71,
   "id": "547aa274-0414-41e0-aa9a-84b6f9a9ddb3",
   "metadata": {},
   "outputs": [
    {
     "data": {
      "text/plain": [
       "{1, 2, 3, 4, 7, 8}"
      ]
     },
     "execution_count": 71,
     "metadata": {},
     "output_type": "execute_result"
    }
   ],
   "source": [
    "s1"
   ]
  },
  {
   "cell_type": "code",
   "execution_count": 72,
   "id": "0037959d-f5ff-4e56-97ae-aa0775c233ab",
   "metadata": {},
   "outputs": [
    {
     "data": {
      "text/plain": [
       "True"
      ]
     },
     "execution_count": 72,
     "metadata": {},
     "output_type": "execute_result"
    }
   ],
   "source": [
    "# membership operator\n",
    "1 in s1"
   ]
  },
  {
   "cell_type": "code",
   "execution_count": 73,
   "id": "1d9794db-1570-4b84-bb38-7a508de40ba6",
   "metadata": {},
   "outputs": [
    {
     "data": {
      "text/plain": [
       "False"
      ]
     },
     "execution_count": 73,
     "metadata": {},
     "output_type": "execute_result"
    }
   ],
   "source": [
    "10 in s2"
   ]
  },
  {
   "cell_type": "code",
   "execution_count": 74,
   "id": "2e4eaba1-2ab2-434c-9d3a-3981eea280c0",
   "metadata": {},
   "outputs": [
    {
     "name": "stdout",
     "output_type": "stream",
     "text": [
      "1\n",
      "2\n",
      "3\n",
      "4\n",
      "7\n",
      "8\n"
     ]
    }
   ],
   "source": [
    "for i in s1:\n",
    "    print(i)"
   ]
  },
  {
   "cell_type": "code",
   "execution_count": null,
   "id": "3310d240-6d5e-4ddf-9cb1-aa395f1bf29f",
   "metadata": {},
   "outputs": [],
   "source": [
    "# issubset()     check if set is subset of another give T/F\n",
    "#issuperset()    check for superset\n",
    "#isdisjoint()    check of disjoint sets "
   ]
  },
  {
   "cell_type": "code",
   "execution_count": 83,
   "id": "e64dad14-76cf-4928-a2d0-6e04b4221b15",
   "metadata": {},
   "outputs": [
    {
     "name": "stdout",
     "output_type": "stream",
     "text": [
      "frozenset({1, 2, 3, 4, 5})\n"
     ]
    },
    {
     "data": {
      "text/plain": [
       "frozenset({4, 5, 6})"
      ]
     },
     "execution_count": 83,
     "metadata": {},
     "output_type": "execute_result"
    }
   ],
   "source": [
    "# frozenset it is a immutable version of set once it is created it cnnot be modified \n",
    "f1=frozenset([1,2,3,4,5])\n",
    "f2=frozenset({4,5,6})\n",
    "print(f1)\n",
    "f2"
   ]
  },
  {
   "cell_type": "code",
   "execution_count": 84,
   "id": "93d5fee6-2a92-4968-82f8-71329b57f8c5",
   "metadata": {},
   "outputs": [
    {
     "data": {
      "text/plain": [
       "frozenset({1, 2, 3, 4, 5, 6})"
      ]
     },
     "execution_count": 84,
     "metadata": {},
     "output_type": "execute_result"
    }
   ],
   "source": [
    "f1 | f2"
   ]
  },
  {
   "cell_type": "code",
   "execution_count": 85,
   "id": "e04004da-7feb-4e4d-b0a0-f961b8d32c2a",
   "metadata": {},
   "outputs": [
    {
     "data": {
      "text/plain": [
       "frozenset({1, 2, 3})"
      ]
     },
     "execution_count": 85,
     "metadata": {},
     "output_type": "execute_result"
    }
   ],
   "source": [
    "f1 - f2"
   ]
  },
  {
   "cell_type": "code",
   "execution_count": 86,
   "id": "990a23ff-5383-4873-818f-6b6e20dc7fea",
   "metadata": {},
   "outputs": [
    {
     "data": {
      "text/plain": [
       "frozenset({1, 2, 3, 6})"
      ]
     },
     "execution_count": 86,
     "metadata": {},
     "output_type": "execute_result"
    }
   ],
   "source": [
    "f1^f2"
   ]
  },
  {
   "cell_type": "code",
   "execution_count": 87,
   "id": "1c211fb8-7121-4d07-8399-6c932ebc0b86",
   "metadata": {},
   "outputs": [
    {
     "data": {
      "text/plain": [
       "frozenset({4, 5})"
      ]
     },
     "execution_count": 87,
     "metadata": {},
     "output_type": "execute_result"
    }
   ],
   "source": [
    "f1& f2"
   ]
  },
  {
   "cell_type": "code",
   "execution_count": 88,
   "id": "9e07e3fd-6e22-4ab4-8efb-bf369b226fb1",
   "metadata": {},
   "outputs": [
    {
     "ename": "TypeError",
     "evalue": "unhashable type: 'set'",
     "output_type": "error",
     "traceback": [
      "\u001b[1;31m---------------------------------------------------------------------------\u001b[0m",
      "\u001b[1;31mTypeError\u001b[0m                                 Traceback (most recent call last)",
      "Cell \u001b[1;32mIn[88], line 1\u001b[0m\n\u001b[1;32m----> 1\u001b[0m f3 \u001b[38;5;241m=\u001b[39m \u001b[38;5;28;43mfrozenset\u001b[39;49m\u001b[43m(\u001b[49m\u001b[43m(\u001b[49m\u001b[38;5;241;43m1\u001b[39;49m\u001b[43m,\u001b[49m\u001b[38;5;241;43m2\u001b[39;49m\u001b[43m,\u001b[49m\u001b[38;5;241;43m3\u001b[39;49m\u001b[43m,\u001b[49m\u001b[43m{\u001b[49m\u001b[38;5;241;43m5\u001b[39;49m\u001b[43m,\u001b[49m\u001b[38;5;241;43m6\u001b[39;49m\u001b[43m}\u001b[49m\u001b[43m)\u001b[49m\u001b[43m)\u001b[49m\n",
      "\u001b[1;31mTypeError\u001b[0m: unhashable type: 'set'"
     ]
    }
   ],
   "source": [
    "f3 = frozenset((1,2,3,{5,6}))"
   ]
  },
  {
   "cell_type": "code",
   "execution_count": 90,
   "id": "549055cd-bf29-41e6-a127-5934e2f3fc98",
   "metadata": {},
   "outputs": [
    {
     "data": {
      "text/plain": [
       "frozenset({1, 2, 3, frozenset({5, 6})})"
      ]
     },
     "execution_count": 90,
     "metadata": {},
     "output_type": "execute_result"
    }
   ],
   "source": [
    "f4 = frozenset((1,2,3,frozenset({5,6})))\n",
    "f4"
   ]
  },
  {
   "cell_type": "markdown",
   "id": "fa3b3366-85df-43b0-bf8b-7f8e99802cd4",
   "metadata": {},
   "source": [
    "# Dictionary"
   ]
  },
  {
   "cell_type": "code",
   "execution_count": 3,
   "id": "2e3c7939-59af-4993-b31f-02a218e3bbc1",
   "metadata": {},
   "outputs": [
    {
     "data": {
      "text/plain": [
       "dict"
      ]
     },
     "execution_count": 3,
     "metadata": {},
     "output_type": "execute_result"
    }
   ],
   "source": [
    "# create\n",
    "\n",
    "d= {}\n",
    "type(d)"
   ]
  },
  {
   "cell_type": "code",
   "execution_count": 5,
   "id": "d26f61d9-13bd-4a8d-8421-de94e983bbb2",
   "metadata": {},
   "outputs": [
    {
     "data": {
      "text/plain": [
       "{'name': 'Mayur', 'age': 27, 'Gender': 'Male'}"
      ]
     },
     "execution_count": 5,
     "metadata": {},
     "output_type": "execute_result"
    }
   ],
   "source": [
    "d1 = {'name':'Mayur','age':27,'Gender':'Male'}\n",
    "d1"
   ]
  },
  {
   "cell_type": "code",
   "execution_count": 7,
   "id": "c41be491-ce60-4be5-988a-7e0def1efcfc",
   "metadata": {},
   "outputs": [
    {
     "data": {
      "text/plain": [
       "{'add': 'Tumsar',\n",
       " 'clg': 'PJLCE',\n",
       " 'subject': {'math': 100, 'english': 80, 'Science': 95}}"
      ]
     },
     "execution_count": 7,
     "metadata": {},
     "output_type": "execute_result"
    }
   ],
   "source": [
    "nd = {'add': 'Tumsar',\n",
    "      'clg':'PJLCE',\n",
    "      'subject':{'math':100,\n",
    "                'english':80,\n",
    "                'Science': 95}}\n",
    "nd"
   ]
  },
  {
   "cell_type": "code",
   "execution_count": 8,
   "id": "4e65158e-eaa7-496c-a457-6da0df0b3eac",
   "metadata": {},
   "outputs": [
    {
     "data": {
      "text/plain": [
       "{'math': 100, 'english': 80, 'Science': 95}"
      ]
     },
     "execution_count": 8,
     "metadata": {},
     "output_type": "execute_result"
    }
   ],
   "source": [
    "nd['subject']"
   ]
  },
  {
   "cell_type": "code",
   "execution_count": 9,
   "id": "d7c448b2-8dce-423b-b548-d237dfe5297a",
   "metadata": {},
   "outputs": [],
   "source": [
    "# Adding key-values in dictionary\n",
    "\n",
    "d1['ID']=1234"
   ]
  },
  {
   "cell_type": "code",
   "execution_count": 10,
   "id": "808a7c13-3056-42b7-949b-17b288a56ce0",
   "metadata": {},
   "outputs": [
    {
     "data": {
      "text/plain": [
       "{'name': 'Mayur', 'age': 27, 'Gender': 'Male', 'ID': 1234}"
      ]
     },
     "execution_count": 10,
     "metadata": {},
     "output_type": "execute_result"
    }
   ],
   "source": [
    "d1"
   ]
  },
  {
   "cell_type": "code",
   "execution_count": 11,
   "id": "4f53b0d4-7f6b-4210-a299-e63a908e5f1b",
   "metadata": {},
   "outputs": [],
   "source": [
    "d1['school']='Sharda'"
   ]
  },
  {
   "cell_type": "code",
   "execution_count": 12,
   "id": "14a3c791-1a5e-4642-829b-588fb78567a3",
   "metadata": {},
   "outputs": [
    {
     "data": {
      "text/plain": [
       "{'name': 'Mayur', 'age': 27, 'Gender': 'Male', 'ID': 1234, 'school': 'Sharda'}"
      ]
     },
     "execution_count": 12,
     "metadata": {},
     "output_type": "execute_result"
    }
   ],
   "source": [
    "d1"
   ]
  },
  {
   "cell_type": "code",
   "execution_count": 13,
   "id": "ef6acaf4-5e10-40c4-92e8-af44f8f67eaf",
   "metadata": {},
   "outputs": [
    {
     "data": {
      "text/plain": [
       "dict_items([('name', 'Mayur'), ('age', 27), ('Gender', 'Male'), ('ID', 1234), ('school', 'Sharda')])"
      ]
     },
     "execution_count": 13,
     "metadata": {},
     "output_type": "execute_result"
    }
   ],
   "source": [
    "d1.items() # gives all the key value pair in pair in the form of tule"
   ]
  },
  {
   "cell_type": "code",
   "execution_count": 14,
   "id": "ef6a639f-cd5d-41de-b996-e6598b9f8f80",
   "metadata": {},
   "outputs": [
    {
     "data": {
      "text/plain": [
       "dict_keys(['name', 'age', 'Gender', 'ID', 'school'])"
      ]
     },
     "execution_count": 14,
     "metadata": {},
     "output_type": "execute_result"
    }
   ],
   "source": [
    "d1.keys()  # gives all key "
   ]
  },
  {
   "cell_type": "code",
   "execution_count": 16,
   "id": "0a9cae7e-f145-494d-ba34-d26d8151dcc2",
   "metadata": {},
   "outputs": [
    {
     "data": {
      "text/plain": [
       "dict_values(['Mayur', 27, 'Male', 1234, 'Sharda'])"
      ]
     },
     "execution_count": 16,
     "metadata": {},
     "output_type": "execute_result"
    }
   ],
   "source": [
    "d1.values() # gives values"
   ]
  },
  {
   "cell_type": "code",
   "execution_count": 22,
   "id": "1e01a3ea-5099-4a9a-b15d-2c29fcf0e5d7",
   "metadata": {},
   "outputs": [],
   "source": [
    "d1['name']='Mayur'"
   ]
  },
  {
   "cell_type": "code",
   "execution_count": 26,
   "id": "644323ed-47ea-448c-ac7d-06bb1398a2e8",
   "metadata": {},
   "outputs": [
    {
     "data": {
      "text/plain": [
       "{'age': 27, 'Gender': 'Male', 'ID': 1234, 'school': 'Sharda'}"
      ]
     },
     "execution_count": 26,
     "metadata": {},
     "output_type": "execute_result"
    }
   ],
   "source": [
    "# Deleting iteam from the dict\n",
    "del d1['name']\n",
    "d1"
   ]
  },
  {
   "cell_type": "code",
   "execution_count": 29,
   "id": "da8a3b40-6cc1-4d8a-8c21-1ccf2855b397",
   "metadata": {},
   "outputs": [
    {
     "data": {
      "text/plain": [
       "'Male'"
      ]
     },
     "execution_count": 29,
     "metadata": {},
     "output_type": "execute_result"
    }
   ],
   "source": [
    "d1.pop('Gender')   # it requires "
   ]
  },
  {
   "cell_type": "code",
   "execution_count": 30,
   "id": "076ee4be-b82f-4275-9e41-3ce6adfd995b",
   "metadata": {},
   "outputs": [
    {
     "data": {
      "text/plain": [
       "{'age': 27, 'ID': 1234, 'school': 'Sharda'}"
      ]
     },
     "execution_count": 30,
     "metadata": {},
     "output_type": "execute_result"
    }
   ],
   "source": [
    "d1"
   ]
  },
  {
   "cell_type": "code",
   "execution_count": 31,
   "id": "b1e526b7-0be2-4256-b2dc-49a047764602",
   "metadata": {},
   "outputs": [
    {
     "data": {
      "text/plain": [
       "('school', 'Sharda')"
      ]
     },
     "execution_count": 31,
     "metadata": {},
     "output_type": "execute_result"
    }
   ],
   "source": [
    "d1.popitem()  # this function delete the last item from the dict"
   ]
  },
  {
   "cell_type": "code",
   "execution_count": 33,
   "id": "4b1daf0b-7982-4a3d-b0ac-a50aac771e38",
   "metadata": {},
   "outputs": [
    {
     "data": {
      "text/plain": [
       "{'age': 27, 'ID': 1234}"
      ]
     },
     "execution_count": 33,
     "metadata": {},
     "output_type": "execute_result"
    }
   ],
   "source": [
    "d1"
   ]
  },
  {
   "cell_type": "code",
   "execution_count": 34,
   "id": "143cf8b4-af76-49f1-87f2-972f04f38e97",
   "metadata": {},
   "outputs": [],
   "source": [
    "d1.clear()   # this function delete all the iteams from the list"
   ]
  },
  {
   "cell_type": "code",
   "execution_count": 35,
   "id": "5cabe578-1f07-4a3f-b60b-8bad21567b8c",
   "metadata": {},
   "outputs": [
    {
     "data": {
      "text/plain": [
       "{}"
      ]
     },
     "execution_count": 35,
     "metadata": {},
     "output_type": "execute_result"
    }
   ],
   "source": [
    "d1"
   ]
  },
  {
   "cell_type": "code",
   "execution_count": 36,
   "id": "0695d957-99b0-4783-a1ff-598df64221c1",
   "metadata": {},
   "outputs": [],
   "source": [
    "# setdefault() this fucnction is used get the value from the dict by giving the key and if key is not present it will \n",
    "# not through error and create the key and assign None value to it \n",
    "\n",
    "d1 = {'age': 27, 'Gender': 'Male', 'ID': 1234, 'school': 'Sharda'}"
   ]
  },
  {
   "cell_type": "code",
   "execution_count": 37,
   "id": "58600127-9477-4057-a83d-384701c738e4",
   "metadata": {},
   "outputs": [
    {
     "data": {
      "text/plain": [
       "27"
      ]
     },
     "execution_count": 37,
     "metadata": {},
     "output_type": "execute_result"
    }
   ],
   "source": [
    "d1.setdefault('age')   # gives value of the kay"
   ]
  },
  {
   "cell_type": "code",
   "execution_count": 38,
   "id": "38fa9162-730d-4e1c-8749-2c40c4df3b63",
   "metadata": {},
   "outputs": [],
   "source": [
    "d1.setdefault('state')  # key is not present so create key as state and assign None value to it "
   ]
  },
  {
   "cell_type": "code",
   "execution_count": 39,
   "id": "9041f0af-4f7e-481b-ad52-e442dffac71a",
   "metadata": {},
   "outputs": [
    {
     "data": {
      "text/plain": [
       "{'age': 27, 'Gender': 'Male', 'ID': 1234, 'school': 'Sharda', 'state': None}"
      ]
     },
     "execution_count": 39,
     "metadata": {},
     "output_type": "execute_result"
    }
   ],
   "source": [
    "d1"
   ]
  },
  {
   "cell_type": "code",
   "execution_count": 40,
   "id": "367550c0-75cf-480c-a1d3-d6d77ef33bab",
   "metadata": {},
   "outputs": [
    {
     "data": {
      "text/plain": [
       "'TCS'"
      ]
     },
     "execution_count": 40,
     "metadata": {},
     "output_type": "execute_result"
    }
   ],
   "source": [
    "d1.setdefault('company', 'TCS')  # by this you can add key value pair in the dictionary"
   ]
  },
  {
   "cell_type": "code",
   "execution_count": 41,
   "id": "e33b6a6d-f8ae-4501-8299-c15e01f10924",
   "metadata": {},
   "outputs": [
    {
     "data": {
      "text/plain": [
       "{'age': 27,\n",
       " 'Gender': 'Male',\n",
       " 'ID': 1234,\n",
       " 'school': 'Sharda',\n",
       " 'state': None,\n",
       " 'company': 'TCS'}"
      ]
     },
     "execution_count": 41,
     "metadata": {},
     "output_type": "execute_result"
    }
   ],
   "source": [
    "d1"
   ]
  },
  {
   "cell_type": "code",
   "execution_count": 42,
   "id": "ec0868cc-b9b0-4729-b540-5338d4fe1110",
   "metadata": {},
   "outputs": [],
   "source": [
    "# Nested dictionary"
   ]
  },
  {
   "cell_type": "code",
   "execution_count": 47,
   "id": "09bd3f83-374d-4733-a0bf-cba51b1e9db2",
   "metadata": {},
   "outputs": [
    {
     "data": {
      "text/plain": [
       "{'clg1': {'Name': 'Mayur', 'age': 27},\n",
       " 'clg2': {'Name': 'Pankaj', 'age': 28},\n",
       " 'clg3': {'Name': 'Ayush', 'age': 24}}"
      ]
     },
     "execution_count": 47,
     "metadata": {},
     "output_type": "execute_result"
    }
   ],
   "source": [
    "ndct = {'clg1':{'Name':'Mayur', 'age':27},\n",
    "       'clg2':{'Name':'Pankaj', 'age':28},\n",
    "       'clg3':{'Name':'Ayush', 'age':24}}\n",
    "ndct"
   ]
  },
  {
   "cell_type": "code",
   "execution_count": 50,
   "id": "d7c72eba-e6ae-41fe-8260-c0211356eef2",
   "metadata": {},
   "outputs": [
    {
     "data": {
      "text/plain": [
       "'Pankaj'"
      ]
     },
     "execution_count": 50,
     "metadata": {},
     "output_type": "execute_result"
    }
   ],
   "source": [
    "ndct['clg2']['Name']"
   ]
  },
  {
   "cell_type": "code",
   "execution_count": 57,
   "id": "5771f8d5-58a2-4fe7-8454-4ae0c1fb1c0d",
   "metadata": {},
   "outputs": [
    {
     "data": {
      "text/html": [
       "<div>\n",
       "<style scoped>\n",
       "    .dataframe tbody tr th:only-of-type {\n",
       "        vertical-align: middle;\n",
       "    }\n",
       "\n",
       "    .dataframe tbody tr th {\n",
       "        vertical-align: top;\n",
       "    }\n",
       "\n",
       "    .dataframe thead th {\n",
       "        text-align: right;\n",
       "    }\n",
       "</style>\n",
       "<table border=\"1\" class=\"dataframe\">\n",
       "  <thead>\n",
       "    <tr style=\"text-align: right;\">\n",
       "      <th></th>\n",
       "      <th>clg1</th>\n",
       "      <th>clg2</th>\n",
       "      <th>clg3</th>\n",
       "    </tr>\n",
       "  </thead>\n",
       "  <tbody>\n",
       "    <tr>\n",
       "      <th>Name</th>\n",
       "      <td>Mayur</td>\n",
       "      <td>Pankaj</td>\n",
       "      <td>Ayush</td>\n",
       "    </tr>\n",
       "    <tr>\n",
       "      <th>age</th>\n",
       "      <td>27</td>\n",
       "      <td>28</td>\n",
       "      <td>24</td>\n",
       "    </tr>\n",
       "  </tbody>\n",
       "</table>\n",
       "</div>"
      ],
      "text/plain": [
       "       clg1    clg2   clg3\n",
       "Name  Mayur  Pankaj  Ayush\n",
       "age      27      28     24"
      ]
     },
     "execution_count": 57,
     "metadata": {},
     "output_type": "execute_result"
    }
   ],
   "source": [
    "import pandas as pd\n",
    "df = pd.DataFrame(ndct)\n",
    "df"
   ]
  },
  {
   "cell_type": "code",
   "execution_count": 58,
   "id": "c2121b8d-100a-4d5d-9665-c057e05fb0f3",
   "metadata": {},
   "outputs": [
    {
     "data": {
      "text/html": [
       "<div>\n",
       "<style scoped>\n",
       "    .dataframe tbody tr th:only-of-type {\n",
       "        vertical-align: middle;\n",
       "    }\n",
       "\n",
       "    .dataframe tbody tr th {\n",
       "        vertical-align: top;\n",
       "    }\n",
       "\n",
       "    .dataframe thead th {\n",
       "        text-align: right;\n",
       "    }\n",
       "</style>\n",
       "<table border=\"1\" class=\"dataframe\">\n",
       "  <thead>\n",
       "    <tr style=\"text-align: right;\">\n",
       "      <th></th>\n",
       "      <th>Name</th>\n",
       "      <th>age</th>\n",
       "    </tr>\n",
       "  </thead>\n",
       "  <tbody>\n",
       "    <tr>\n",
       "      <th>clg1</th>\n",
       "      <td>Mayur</td>\n",
       "      <td>27</td>\n",
       "    </tr>\n",
       "    <tr>\n",
       "      <th>clg2</th>\n",
       "      <td>Pankaj</td>\n",
       "      <td>28</td>\n",
       "    </tr>\n",
       "    <tr>\n",
       "      <th>clg3</th>\n",
       "      <td>Ayush</td>\n",
       "      <td>24</td>\n",
       "    </tr>\n",
       "  </tbody>\n",
       "</table>\n",
       "</div>"
      ],
      "text/plain": [
       "        Name age\n",
       "clg1   Mayur  27\n",
       "clg2  Pankaj  28\n",
       "clg3   Ayush  24"
      ]
     },
     "execution_count": 58,
     "metadata": {},
     "output_type": "execute_result"
    }
   ],
   "source": [
    "df.T"
   ]
  },
  {
   "cell_type": "code",
   "execution_count": 59,
   "id": "1d557e64-1bdf-4a2b-beae-894882aeb6f5",
   "metadata": {},
   "outputs": [],
   "source": [
    "# dictionary from two List"
   ]
  },
  {
   "cell_type": "code",
   "execution_count": 68,
   "id": "70c917ab-4b2f-498a-bc38-ede8afca0944",
   "metadata": {},
   "outputs": [
    {
     "name": "stdout",
     "output_type": "stream",
     "text": [
      "{'Marathi': 90, 'Hindi': 91, 'English': 93, 'Maths': 95, 'Science': 99}\n"
     ]
    }
   ],
   "source": [
    "marks = [90,91,93,95,99]\n",
    "subject = ['Marathi', 'Hindi', 'English','Maths','Science']\n",
    "dct = {}\n",
    "for key, value in zip(marks, subject):   # using zip()\n",
    "    dct[value] = key\n",
    "\n",
    "print(dct)"
   ]
  },
  {
   "cell_type": "code",
   "execution_count": 70,
   "id": "7e1f53b0-9848-4412-8f4e-b16d1579b8f8",
   "metadata": {},
   "outputs": [
    {
     "data": {
      "text/plain": [
       "{'Marathi': 90, 'Hindi': 91, 'English': 93, 'Maths': 95, 'Science': 99}"
      ]
     },
     "execution_count": 70,
     "metadata": {},
     "output_type": "execute_result"
    }
   ],
   "source": [
    "dct = {}\n",
    "for i , key in enumerate(subject):     # will take 1 marathi 2 hindi \n",
    "    for j in range(len(marks)):        # from 1 to len(marks)\n",
    "        if i == j:                     # check 1 == 1 i.e enum 1 and index of marks\n",
    "            dct[key]=marks[j]          # will from dictionary key as sub and marks as values \n",
    "dct"
   ]
  },
  {
   "cell_type": "code",
   "execution_count": 72,
   "id": "3b92801c-5c3c-4cfd-829b-766562ee7da6",
   "metadata": {},
   "outputs": [
    {
     "name": "stdout",
     "output_type": "stream",
     "text": [
      "{'Marathi': 90, 'Hindi': 91, 'English': 93, 'Maths': 95, 'Science': 99}\n"
     ]
    }
   ],
   "source": [
    "# using update() function \n",
    "dct = {}\n",
    "for i, key in enumerate(subject):\n",
    "    dct.update({key:marks[i]})\n",
    "\n",
    "print(dct)"
   ]
  },
  {
   "cell_type": "code",
   "execution_count": 75,
   "id": "2e76c69e-15ab-4a34-a825-0b21f92f71c9",
   "metadata": {},
   "outputs": [
    {
     "name": "stdout",
     "output_type": "stream",
     "text": [
      "{'Marathi': 90, 'Hindi': 91, 'English': 93, 'Maths': 95, 'Science': 99}\n"
     ]
    }
   ],
   "source": [
    "# using zip()\n",
    "\n",
    "dct11 = dict(zip(subject, marks))\n",
    "print(dct11)"
   ]
  },
  {
   "cell_type": "code",
   "execution_count": 82,
   "id": "b5008de5-7d2f-4259-871b-2dfd225e76e7",
   "metadata": {},
   "outputs": [
    {
     "name": "stdout",
     "output_type": "stream",
     "text": [
      "30\n"
     ]
    },
    {
     "data": {
      "text/plain": [
       "{'the': 2,\n",
       " 'quantities': 1,\n",
       " 'characters': 1,\n",
       " 'or': 7,\n",
       " 'symbols': 1,\n",
       " 'on': 3,\n",
       " 'which': 2,\n",
       " 'operations': 1,\n",
       " 'are': 1,\n",
       " 'performed': 1,\n",
       " 'by': 1,\n",
       " 'a': 19,\n",
       " 'computer': 1,\n",
       " 'may': 1,\n",
       " 'be': 1,\n",
       " 'stored': 1,\n",
       " 'and': 2,\n",
       " 'transmitted': 1,\n",
       " 'in': 2,\n",
       " 'form': 2,\n",
       " 'of': 1,\n",
       " 'electrical': 1,\n",
       " 'signals': 1,\n",
       " 'recorded': 1,\n",
       " 'magnetic': 1,\n",
       " 'optical': 1,\n",
       " 'mechanical9': 1,\n",
       " 'mechanical': 2,\n",
       " 'recording': 1,\n",
       " 'media': 1}"
      ]
     },
     "execution_count": 82,
     "metadata": {},
     "output_type": "execute_result"
    }
   ],
   "source": [
    "# count the each word in the string\n",
    "string = '''the quantities, characters, or symbols on which operations are performed by a computer, which may be stored and transmitted in the form \n",
    "of electrical signals and recorded on magnetic, optical, or mechanical9 mechanical recording media.'''\n",
    "count = {}\n",
    "for i in string.split():\n",
    "    if i.isalpha():\n",
    "        count[i]=string.count(f'{i}')\n",
    "    elif i.isalnum():\n",
    "        count[i]=string.count(f'{i}')\n",
    "    else:\n",
    "        i = i[:-1]\n",
    "        count[str(i)]=string.count(f'{i}')\n",
    "print(len(count))\n",
    "count"
   ]
  },
  {
   "cell_type": "code",
   "execution_count": 89,
   "id": "adf65e65-799c-49f8-8519-3dba6de48b3e",
   "metadata": {},
   "outputs": [
    {
     "data": {
      "text/plain": [
       "Counter({'the': 2,\n",
       "         'or': 2,\n",
       "         'on': 2,\n",
       "         'which': 2,\n",
       "         'and': 2,\n",
       "         'quantities,': 1,\n",
       "         'characters,': 1,\n",
       "         'symbols': 1,\n",
       "         'operations': 1,\n",
       "         'are': 1,\n",
       "         'performed': 1,\n",
       "         'by': 1,\n",
       "         'a': 1,\n",
       "         'computer,': 1,\n",
       "         'may': 1,\n",
       "         'be': 1,\n",
       "         'stored': 1,\n",
       "         'transmitted': 1,\n",
       "         'in': 1,\n",
       "         'form': 1,\n",
       "         'of': 1,\n",
       "         'electrical': 1,\n",
       "         'signals': 1,\n",
       "         'recorded': 1,\n",
       "         'magnetic,': 1,\n",
       "         'optical,': 1,\n",
       "         'mechanical9': 1,\n",
       "         'mechanical': 1,\n",
       "         'recording': 1,\n",
       "         'media.': 1})"
      ]
     },
     "execution_count": 89,
     "metadata": {},
     "output_type": "execute_result"
    }
   ],
   "source": [
    "from collections import Counter      # Counter C capital\n",
    "Counter(string.split())"
   ]
  },
  {
   "cell_type": "code",
   "execution_count": 92,
   "id": "c0640d91-6922-413c-8485-55e57e562dc6",
   "metadata": {},
   "outputs": [],
   "source": [
    "# sorting  dictionary\n",
    "Sub = {'Marathi': 90, 'Hindi': 91, 'English': 93, 'Maths': 95, 'Science': 99}"
   ]
  },
  {
   "cell_type": "code",
   "execution_count": 96,
   "id": "3a9d668c-2ac7-4715-a43a-9d30e44e4f7a",
   "metadata": {},
   "outputs": [
    {
     "data": {
      "text/plain": [
       "['English', 'Hindi', 'Marathi', 'Maths', 'Science']"
      ]
     },
     "execution_count": 96,
     "metadata": {},
     "output_type": "execute_result"
    }
   ],
   "source": [
    "# sort based on key\n",
    "sort = sorted(Sub)\n",
    "sort"
   ]
  },
  {
   "cell_type": "code",
   "execution_count": 101,
   "id": "684cbb57-5637-4771-8550-6f2e9b98ee50",
   "metadata": {},
   "outputs": [
    {
     "name": "stdout",
     "output_type": "stream",
     "text": [
      "{'English': 93, 'Hindi': 91, 'Marathi': 90, 'Maths': 95, 'Science': 99}\n"
     ]
    }
   ],
   "source": [
    "# first sort the kay into list and take each element as key in soreted list and append the respected value from the Sub dict\n",
    "dct = {}\n",
    "for key in sort:\n",
    "    dct[key] = Sub[key]  # dct[key] form the key and Sub[key] access value from the sub dict on the basis of key and add to dct\n",
    "print(dct)"
   ]
  },
  {
   "cell_type": "code",
   "execution_count": 102,
   "id": "bc997967-9490-470c-ab49-c662ffe98fc8",
   "metadata": {},
   "outputs": [
    {
     "data": {
      "text/plain": [
       "[('English', 93),\n",
       " ('Hindi', 91),\n",
       " ('Marathi', 90),\n",
       " ('Maths', 95),\n",
       " ('Science', 99)]"
      ]
     },
     "execution_count": 102,
     "metadata": {},
     "output_type": "execute_result"
    }
   ],
   "source": [
    "# using item function\n",
    "sorted(Sub.items())  # gives list of sorted elements based on key "
   ]
  },
  {
   "cell_type": "code",
   "execution_count": 104,
   "id": "2791edc6-768c-4796-bc12-f9a0d2ac9527",
   "metadata": {},
   "outputs": [
    {
     "data": {
      "text/plain": [
       "{'English': 93, 'Hindi': 91, 'Marathi': 90, 'Maths': 95, 'Science': 99}"
      ]
     },
     "execution_count": 104,
     "metadata": {},
     "output_type": "execute_result"
    }
   ],
   "source": [
    "dict(sorted(Sub.items())) # convert list into dictionary"
   ]
  },
  {
   "cell_type": "code",
   "execution_count": 120,
   "id": "d3f5679b-aaed-4d78-81aa-b5a65f73256d",
   "metadata": {},
   "outputs": [
    {
     "name": "stdout",
     "output_type": "stream",
     "text": [
      "{83: 'Marathi', 97: 'Hindi', 98: 'English', 95: 'Maths', 99: 'Science'}\n",
      "{83: 'Marathi', 95: 'Maths', 97: 'Hindi', 98: 'English', 99: 'Science'}\n"
     ]
    }
   ],
   "source": [
    "# sort on the basis of value  to do this first need to chage key to value and value to key\n",
    "Sub = {'Marathi': 83, 'Hindi': 97, 'English': 98, 'Maths': 95, 'Science': 99}\n",
    "temp_dct={}\n",
    "\n",
    "for key,value in Sub.items():\n",
    "    temp_dct[value]=key\n",
    "\n",
    "print(temp_dct)\n",
    "sorted_dct = dict(sorted(temp_dct.items()))\n",
    "print(sorted_dct)"
   ]
  },
  {
   "cell_type": "code",
   "execution_count": 106,
   "id": "c93b01e1-2498-42a3-9635-9a659536a304",
   "metadata": {},
   "outputs": [
    {
     "data": {
      "text/plain": [
       "dict_items([('English', 93), ('Hindi', 91), ('Marathi', 90), ('Maths', 95), ('Science', 99)])"
      ]
     },
     "execution_count": 106,
     "metadata": {},
     "output_type": "execute_result"
    }
   ],
   "source": [
    "dct.items()"
   ]
  },
  {
   "cell_type": "code",
   "execution_count": null,
   "id": "5a60138e-5c8f-4c81-ba05-601330aef113",
   "metadata": {},
   "outputs": [],
   "source": [
    "# fromkeys() form the list of elements into the  "
   ]
  },
  {
   "cell_type": "markdown",
   "id": "4f21c9af-8b4e-4406-9582-84f70dbdf1e5",
   "metadata": {},
   "source": [
    "## Set dict tuple"
   ]
  },
  {
   "cell_type": "code",
   "execution_count": 13,
   "id": "5cbfa778-2ba4-490f-a4e9-544b9fe0cbc4",
   "metadata": {},
   "outputs": [
    {
     "name": "stdout",
     "output_type": "stream",
     "text": [
      "[(5, 6, 7, 8), (5, 6, 7, 8), (5, 6, 7, 8)]\n"
     ]
    }
   ],
   "source": [
    "# join tuple if similar initial elements\n",
    "test_list = [(5, 6), (5, 7), (5, 8), (6, 10), (7, 13)]\n",
    "\n",
    "def join_tuple(test_list):\n",
    "    temp_list = []\n",
    "    result = []\n",
    "    \n",
    "    for current in test_list:\n",
    "        if not temp_list:\n",
    "            temp_list.extend(current)\n",
    "        elif current[0]==temp_list[0]:\n",
    "            temp_list.append(current[1])\n",
    "        else:\n",
    "            result.append(tuple(temp_list))\n",
    "            \n",
    "    if temp_list:\n",
    "        result.append(tuple(temp_list))\n",
    "        \n",
    "    return result\n",
    "    \n",
    "output = join_tuple(test_list)\n",
    "print(output)"
   ]
  },
  {
   "cell_type": "code",
   "execution_count": 15,
   "id": "46fe8fc4-9f8a-40cd-aa1d-3a54dc5f11e5",
   "metadata": {},
   "outputs": [
    {
     "name": "stdout",
     "output_type": "stream",
     "text": [
      "(1, 5, 7, 8, 10)--->(5, 40, 91, 136, 80)\n"
     ]
    }
   ],
   "source": [
    "# multiply adjucent elements\n",
    "# 1, 5, 7, 8, 10)----> (5, 40, 91, 136, 80)\n",
    "\n",
    "tpl = (1, 5, 7, 8, 10)\n",
    "result = []\n",
    "result.append(tpl[0]*tpl[1])\n",
    "\n",
    "for i in range(1, len(tpl)-1):\n",
    "    result.append(tpl[i-1]*tpl[i]+tpl[i]*tpl[i+1])\n",
    "\n",
    "result.append(tpl[-1]*tpl[-2])\n",
    "\n",
    "print(f'{tpl}--->{tuple(result)}')"
   ]
  },
  {
   "cell_type": "code",
   "execution_count": 18,
   "id": "c13b0841-5b43-4372-9e38-3f0620640e22",
   "metadata": {},
   "outputs": [
    {
     "name": "stdin",
     "output_type": "stream",
     "text": [
      "Enter String to check if bianry or not:  10101010101\n"
     ]
    },
    {
     "name": "stdout",
     "output_type": "stream",
     "text": [
      "BINARY\n"
     ]
    }
   ],
   "source": [
    "# Write a program to Check if a given string is binary string of or not.\n",
    "user_inpur = input(\"Enter String to check if bianry or not: \")\n",
    "test = set()\n",
    "\n",
    "for i in user_inpur:\n",
    "    test.add(i)\n",
    "\n",
    "if len(test)==2:      # binary meance having two char only \n",
    "    print(\"BINARY\")\n",
    "else:\n",
    "    print(\"NOT BINARY\")"
   ]
  },
  {
   "cell_type": "code",
   "execution_count": 22,
   "id": "a44bd7f5-30e2-422f-bcb4-b1d2e043fe80",
   "metadata": {},
   "outputs": [
    {
     "name": "stdout",
     "output_type": "stream",
     "text": [
      "{9, 10, 4, 5}\n"
     ]
    }
   ],
   "source": [
    "# Find the intersection of list\n",
    "lst1 = [15, 9, 10, 56, 23, 78, 5, 4, 9]\n",
    "lst2 = [9, 4, 5, 36, 47, 26, 10, 45, 87]\n",
    "\n",
    "result = [x for x in lst1 if x in lst2]\n",
    "print(set(result))"
   ]
  },
  {
   "cell_type": "code",
   "execution_count": 4,
   "id": "cae22e4d-51b1-41b3-8fa3-ac1617777112",
   "metadata": {},
   "outputs": [
    {
     "name": "stdout",
     "output_type": "stream",
     "text": [
      "Unique number of vowels: 6\n"
     ]
    }
   ],
   "source": [
    "# unique number of vowels in strinf using set\n",
    "\n",
    "string = \"hands-on data science mentorship progrAm with live classes at affordable fee only on CampusX\"\n",
    "\n",
    "vowels = {'a','e','i','o','u','A','E','I','O','U'}\n",
    "unique = set()\n",
    "for i in string:\n",
    "    if i in vowels:\n",
    "        unique.add(i)\n",
    "\n",
    "print('Unique number of vowels:',len(unique))"
   ]
  },
  {
   "cell_type": "code",
   "execution_count": 5,
   "id": "c16110a9-6ef0-468a-ac44-27cfa1141bfb",
   "metadata": {},
   "outputs": [
    {
     "name": "stdout",
     "output_type": "stream",
     "text": [
      "{1, 2, 3, 4, 5, 6, 7, 9}\n"
     ]
    }
   ],
   "source": [
    "# Union of list\n",
    "lst = [[1, 2, 2, 4, 3, 6],\n",
    " [5, 1, 3, 4],\n",
    " [9, 5, 7, 1],\n",
    " [2, 4, 1, 3]]\n",
    "uni = set()\n",
    "for row in lst:\n",
    "    for i in row:\n",
    "        uni.add(i)\n",
    "\n",
    "print(uni)"
   ]
  },
  {
   "cell_type": "code",
   "execution_count": 10,
   "id": "098c0acc-4d4b-4af8-958d-83a4bcf05777",
   "metadata": {},
   "outputs": [
    {
     "name": "stdout",
     "output_type": "stream",
     "text": [
      "Key having maximun value: CampusX\n"
     ]
    }
   ],
   "source": [
    "# Key with maximum unique value\n",
    "\n",
    " \n",
    "maxlen = 0\n",
    "maxKey = None\n",
    "for key, value in test_dict.items():\n",
    "    length = len(set(value))\n",
    "    if length > maxlen:\n",
    "        maxlen = length\n",
    "        maxKey = key\n",
    "\n",
    "print(f'Key having maximun value: {maxKey}')"
   ]
  },
  {
   "cell_type": "code",
   "execution_count": 14,
   "id": "f3f74510-31f5-496f-abfc-3a757c0c2869",
   "metadata": {},
   "outputs": [
    {
     "name": "stdout",
     "output_type": "stream",
     "text": [
      "CampusX is the best channel for Data-Science students.\n"
     ]
    }
   ],
   "source": [
    "# replace the words of the string from the lookup dictionary \n",
    "test_str = 'CampusX best for DS students.'\n",
    "repl_dict = {\"best\": \"is the best channel\", \"DS\": \"Data-Science\"}\n",
    "\n",
    "for key, value in repl_dict.items():\n",
    "    test_str = test_str.replace(key, value)\n",
    "\n",
    "print(test_str)"
   ]
  },
  {
   "cell_type": "code",
   "execution_count": 20,
   "id": "9ec9e795-9bc9-49e5-bfca-cec4ffd2c683",
   "metadata": {},
   "outputs": [
    {
     "name": "stdout",
     "output_type": "stream",
     "text": [
      "[{'name': 'DataScience', 'id': 3}, {'name': 'is', 'id': 8}]\n"
     ]
    }
   ],
   "source": [
    "# convert the kist to key value pair \n",
    "#O/P [{'name': 'DataScience', 'id': 3}, {'name': 'is', 'id': 8}]\n",
    "test_list = [\"DataScience\", 3, \"is\", 8]\n",
    "key_list = [\"name\", \"id\"]\n",
    "output = []\n",
    "for i in range(0, len(test_list),len(key_list)):\n",
    "    dict_items=dict(zip(key_list, test_list[i:i+len(key_list)]))\n",
    "    output.append(dict_items)\n",
    "print(output)"
   ]
  },
  {
   "cell_type": "code",
   "execution_count": null,
   "id": "6f47a6f5-fcca-4167-ad98-547338971dcd",
   "metadata": {},
   "outputs": [],
   "source": []
  }
 ],
 "metadata": {
  "kernelspec": {
   "display_name": "Python 3 (ipykernel)",
   "language": "python",
   "name": "python3"
  },
  "language_info": {
   "codemirror_mode": {
    "name": "ipython",
    "version": 3
   },
   "file_extension": ".py",
   "mimetype": "text/x-python",
   "name": "python",
   "nbconvert_exporter": "python",
   "pygments_lexer": "ipython3",
   "version": "3.12.5"
  }
 },
 "nbformat": 4,
 "nbformat_minor": 5
}
