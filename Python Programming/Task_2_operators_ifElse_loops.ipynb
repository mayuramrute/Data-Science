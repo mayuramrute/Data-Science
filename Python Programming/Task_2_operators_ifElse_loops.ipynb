{
 "cells": [
  {
   "cell_type": "markdown",
   "id": "e8b2d8cf-f861-4f7c-a110-c20c8cea8d80",
   "metadata": {},
   "source": [
    "#### Write a program that will give you in hand monthly salary after deduction on CTC - HRA(10%), DA(5%), PF(3%) and taxes deduction as below:\n",
    "Salary(Lakhs) : Tax(%)\n",
    "\n",
    "Below 5 : 0%\n",
    "5-10 : 10%\n",
    "10-20 : 20%\n",
    "aboove 20 : 30%"
   ]
  },
  {
   "cell_type": "code",
   "execution_count": 9,
   "id": "205f6d26-15f8-4131-9149-d13e04dba71f",
   "metadata": {},
   "outputs": [
    {
     "name": "stdin",
     "output_type": "stream",
     "text": [
      "Enter you CTC in lakhs:  20\n"
     ]
    },
    {
     "name": "stdout",
     "output_type": "stream",
     "text": [
      "your Monthly salary is 109.33 K\n"
     ]
    }
   ],
   "source": [
    "def take_home_sal(ctc):\n",
    "    hra = 0.10*ctc\n",
    "    DA = 0.05*ctc\n",
    "    PF = 0.03*ctc\n",
    "\n",
    "    taxable_sal = ctc-hra-DA-PF\n",
    "    \n",
    "    if taxable_sal < 5:\n",
    "        tax_rate = 0\n",
    "    elif 5 <= taxable_sal < 10: # sal greater than or equal 5 less than 10 so range is in between 5 to 10\n",
    "        tax_rate = 0.10\n",
    "    elif 10 <= taxable_sal < 20:\n",
    "        tax_rate = 0.20\n",
    "    else:\n",
    "        tax_rate = 0.30\n",
    "\n",
    "    tax = taxable_sal* tax_rate\n",
    "    final_sal = taxable_sal-tax\n",
    "    monthly_take_home_sal = (final_sal/12)*100\n",
    "    return monthly_take_home_sal\n",
    "\n",
    "ctc = float(input(\"Enter you CTC in lakhs: \"))\n",
    "per_month_Sal = take_home_sal(ctc)\n",
    "\n",
    "print(f\"your Monthly salary is {per_month_Sal:.2f} K\")"
   ]
  },
  {
   "cell_type": "markdown",
   "id": "6170f5ed-4b00-4a98-b990-996231c8a01f",
   "metadata": {},
   "source": [
    "#### Write a program that take a user input of three angles and will find out whether it can form a triangle or not."
   ]
  },
  {
   "cell_type": "code",
   "execution_count": 13,
   "id": "e4faa164-dec1-4729-b253-a38837c29224",
   "metadata": {},
   "outputs": [
    {
     "name": "stdout",
     "output_type": "stream",
     "text": [
      "Enter the three angles to check if it froms triangle:\n"
     ]
    },
    {
     "name": "stdin",
     "output_type": "stream",
     "text": [
      "a1:  60\n",
      "a2:  80\n",
      "a3:  40\n"
     ]
    },
    {
     "name": "stdout",
     "output_type": "stream",
     "text": [
      "The angles are of triangle\n"
     ]
    }
   ],
   "source": [
    "def isTriangle(a1,a2,a3):\n",
    "    if (a1+a2+a3)==180:\n",
    "        print(\"The angles are of triangle\")\n",
    "    else:\n",
    "        print('Not the Triangle')\n",
    "\n",
    "print('Enter the three angles to check if it froms triangle:')\n",
    "a1 = int(input('a1: '))\n",
    "a2 = int(input('a2: '))\n",
    "a3 = int(input('a3: '))\n",
    "\n",
    "isTriangle(a1,a2,a3)"
   ]
  },
  {
   "cell_type": "markdown",
   "id": "399f4f7b-c909-4e94-8528-004c18124f06",
   "metadata": {},
   "source": [
    "#### Write a program that will take user input of cost price and selling price and determines whether its a loss or a profit."
   ]
  },
  {
   "cell_type": "code",
   "execution_count": 16,
   "id": "d8058549-7a6f-4a39-a1fe-35acf565f398",
   "metadata": {},
   "outputs": [
    {
     "name": "stdin",
     "output_type": "stream",
     "text": [
      "Enter the cost Price:  10\n",
      "Enter the selling price:  20\n"
     ]
    },
    {
     "data": {
      "text/plain": [
       "'PROFIT'"
      ]
     },
     "execution_count": 16,
     "metadata": {},
     "output_type": "execute_result"
    }
   ],
   "source": [
    "def profit_loss(cst_p,sel_p):\n",
    "    if sel_p == cst_p:\n",
    "        return \"No PROFIT NO LOSS\"\n",
    "    if (sel_p-cst_p) > 0:\n",
    "        return \"PROFIT\"\n",
    "    else:\n",
    "        return \"LOSS\"\n",
    "\n",
    "cst_p = float(input(\"Enter the cost Price: \"))\n",
    "sel_p = float(input(\"Enter the selling price: \"))\n",
    "profit_loss(cst_p, sel_p)"
   ]
  },
  {
   "cell_type": "markdown",
   "id": "e68deb8a-c96f-44db-a24d-d13a634b1416",
   "metadata": {},
   "source": [
    "#### Write a menu-driven program -\n",
    "cm to ft\n",
    "km to miles\n",
    "USD to INR\n",
    "exit"
   ]
  },
  {
   "cell_type": "code",
   "execution_count": 22,
   "id": "73870897-a545-43b0-ad3f-fb73daf636e6",
   "metadata": {},
   "outputs": [
    {
     "name": "stdout",
     "output_type": "stream",
     "text": [
      "Select unit conversion from below option:\n",
      "1. cm to feet\n",
      "2. km to miles\n",
      "3. USD to INR\n"
     ]
    },
    {
     "name": "stdin",
     "output_type": "stream",
     "text": [
      "Enter the number of operation to perform(select 1 or 2 or 3) 2\n",
      "Enter number(km) to convert into miles:  2\n"
     ]
    },
    {
     "data": {
      "text/plain": [
       "1.242742"
      ]
     },
     "execution_count": 22,
     "metadata": {},
     "output_type": "execute_result"
    }
   ],
   "source": [
    "print(\"Select unit conversion from below option:\")\n",
    "print('1. cm to feet')\n",
    "print('2. km to miles')\n",
    "print('3. USD to INR')\n",
    "option = int(input(\"Enter the number of operation to perform(select 1 or 2 or 3)\"))\n",
    "\n",
    "def menu(option):\n",
    "    if option == 1:\n",
    "        num = float(input(\"Enter number(cm) to convert into feet: \"))\n",
    "        result = num * 0.0328084\n",
    "        return result\n",
    "    elif option==2:\n",
    "        num = float(input(\"Enter number(km) to convert into miles: \"))\n",
    "        result = num * 0.621371\n",
    "        return result\n",
    "    elif option == 3:\n",
    "        num = float(input(\"Enter the USD to convet into INR: \"))\n",
    "        result = num * 84.24\n",
    "        return result\n",
    "    else:\n",
    "        print('sale chutiye acchese selec kr na')\n",
    "\n",
    "menu(option)"
   ]
  },
  {
   "cell_type": "markdown",
   "id": "e5b04013-1dd7-44f2-99e3-306da6e09d62",
   "metadata": {},
   "source": [
    "#### Display Fibonacci series up to 10 terms"
   ]
  },
  {
   "cell_type": "code",
   "execution_count": 24,
   "id": "aa2879b4-bd56-4e6d-82e7-68158ab0ff96",
   "metadata": {},
   "outputs": [
    {
     "name": "stdin",
     "output_type": "stream",
     "text": [
      "enter the range of fibonacci series:  10\n"
     ]
    },
    {
     "name": "stdout",
     "output_type": "stream",
     "text": [
      "[0, 1, 1, 2, 3, 5, 8, 13, 21, 34]\n"
     ]
    }
   ],
   "source": [
    "rng = int(input(\"enter the range of fibonacci series: \"))\n",
    "lst = [0,1]\n",
    "a=lst[0]\n",
    "b=lst[1]\n",
    "for i in range(rng-2):\n",
    "    c=a+b\n",
    "    lst.append(c)\n",
    "    a = b\n",
    "    b = c\n",
    "\n",
    "print(lst)"
   ]
  },
  {
   "cell_type": "code",
   "execution_count": 26,
   "id": "0aba8518-9673-454b-ad8d-0b984a19907e",
   "metadata": {},
   "outputs": [
    {
     "name": "stdout",
     "output_type": "stream",
     "text": [
      "[0, 1, 1, 2, 3, 5, 8, 13, 21, 34, 55]\n"
     ]
    }
   ],
   "source": [
    "count = 0\n",
    "lst2 = [0,1]\n",
    "a=lst2[0]\n",
    "b=lst2[1]\n",
    "while count <= rng-2:\n",
    "    c = a+b\n",
    "    lst2.append(c)\n",
    "    a = b\n",
    "    b = c\n",
    "    count += 1\n",
    "\n",
    "print(lst2)"
   ]
  },
  {
   "cell_type": "markdown",
   "id": "a945c13f-fc45-405c-ae7e-54b8e972f272",
   "metadata": {},
   "source": [
    "#### factorial of number "
   ]
  },
  {
   "cell_type": "code",
   "execution_count": 31,
   "id": "72c7862c-8c0d-4927-9b32-3f432f3015bc",
   "metadata": {},
   "outputs": [
    {
     "name": "stdin",
     "output_type": "stream",
     "text": [
      "Enter number to check fact:  5\n"
     ]
    },
    {
     "data": {
      "text/plain": [
       "120"
      ]
     },
     "execution_count": 31,
     "metadata": {},
     "output_type": "execute_result"
    }
   ],
   "source": [
    "num = int(input(\"Enter number to check fact: \"))\n",
    "def factorial(num):\n",
    "    if (num==1 or num==0):\n",
    "        return 1\n",
    "    fact = 1\n",
    "    for i in range(1, num+1):\n",
    "        fact = fact*i\n",
    "    return fact\n",
    "\n",
    "factorial(num)\n",
    "    "
   ]
  },
  {
   "cell_type": "code",
   "execution_count": 34,
   "id": "0c7cf037-f246-418c-86ce-91aca369146b",
   "metadata": {},
   "outputs": [
    {
     "name": "stdin",
     "output_type": "stream",
     "text": [
      "Enter number to check fact:  5\n"
     ]
    },
    {
     "data": {
      "text/plain": [
       "120"
      ]
     },
     "execution_count": 34,
     "metadata": {},
     "output_type": "execute_result"
    }
   ],
   "source": [
    "# Using recurssion\n",
    "num = int(input(\"Enter number to check fact: \"))\n",
    "def facto(num):\n",
    "    return 1 if (num==1 or num==0) else num*facto(num-1)\n",
    "\n",
    "facto(num)"
   ]
  },
  {
   "cell_type": "markdown",
   "id": "ac461970-0e96-4831-a61a-6afc7b742dcd",
   "metadata": {},
   "source": [
    "#### Reverse a given integer number."
   ]
  },
  {
   "cell_type": "code",
   "execution_count": 39,
   "id": "e17e7a4e-e673-4a88-bf87-b8afc9f935f7",
   "metadata": {},
   "outputs": [
    {
     "name": "stdin",
     "output_type": "stream",
     "text": [
      "Enter number to reverse:  987\n"
     ]
    },
    {
     "data": {
      "text/plain": [
       "789"
      ]
     },
     "execution_count": 39,
     "metadata": {},
     "output_type": "execute_result"
    }
   ],
   "source": [
    "number = int(input(\"Enter number to reverse: \"))\n",
    "def reverse_number(number):\n",
    "    revers_num = 0\n",
    "    while number>0:\n",
    "        rem = number%10\n",
    "        revers_num = revers_num*10 + rem\n",
    "        number = number // 10\n",
    "    return revers_num\n",
    "\n",
    "reverse_number(number)\n",
    "    "
   ]
  },
  {
   "cell_type": "code",
   "execution_count": 41,
   "id": "4d11aaf6-d272-4a3a-a8aa-5ec35b5c09e9",
   "metadata": {},
   "outputs": [
    {
     "name": "stdin",
     "output_type": "stream",
     "text": [
      "Enter number to reverse:  123\n"
     ]
    },
    {
     "data": {
      "text/plain": [
       "321"
      ]
     },
     "execution_count": 41,
     "metadata": {},
     "output_type": "execute_result"
    }
   ],
   "source": [
    "# using recurssion\n",
    "number = int(input(\"Enter number to reverse: \"))\n",
    "rev_number = 0\n",
    "\n",
    "def recursive_reverse(number):\n",
    "    global rev_number                   # we cnnot directly make change in global variable locally i.e inside the function \n",
    "    if(number>0):                       # to prform the operation recusivly we define rev_number as global \n",
    "        rem = number%10\n",
    "        rev_number = rev_number*10 + rem\n",
    "        recursive_reverse(number//10)\n",
    "    return rev_number\n",
    "\n",
    "recursive_reverse(number)"
   ]
  },
  {
   "cell_type": "markdown",
   "id": "ee056373-df2c-4207-828c-4cab64453ac6",
   "metadata": {},
   "source": [
    "#### Take a user input as integer N. Find out the sum from 1 to N. If any number if divisible by 5, then skip that number. And if the sum is greater than 300, don't need to calculate the sum further more. Print the final result. And don't use for loop to solve this problem."
   ]
  },
  {
   "cell_type": "code",
   "execution_count": 7,
   "id": "56d400e3-d125-4cca-9ce1-4df4f1bcbd4f",
   "metadata": {},
   "outputs": [
    {
     "name": "stdin",
     "output_type": "stream",
     "text": [
      "Enter a number:  30\n"
     ]
    },
    {
     "name": "stdout",
     "output_type": "stream",
     "text": [
      "276\n"
     ]
    }
   ],
   "source": [
    "def sum_recursive(n, current=1, total=0):\n",
    "    # Base case: If current number exceeds N or sum exceeds 300, stop\n",
    "    if current > n or total > 300:\n",
    "        return total\n",
    "\n",
    "    # If the current number is divisible by 5, skip it\n",
    "    if current % 5 == 0:\n",
    "        return sum_recursive(n, current + 1, total)\n",
    "\n",
    "    # Otherwise, add the current number to the total if it doesn't exceed 300\n",
    "    if total + current > 300:\n",
    "        return total  # Stop summing if the next number would exceed 300\n",
    "\n",
    "    return sum_recursive(n, current + 1, total + current)\n",
    "\n",
    "# Input from the user\n",
    "N = int(input(\"Enter a number: \"))\n",
    "\n",
    "# Get the result using the recursive function\n",
    "result = sum_recursive(N)\n",
    "\n",
    "# Print the final result\n",
    "print(result)\n"
   ]
  },
  {
   "cell_type": "code",
   "execution_count": 4,
   "id": "275a3ea7-a018-4fb5-afad-0339a2747ea5",
   "metadata": {},
   "outputs": [
    {
     "name": "stdin",
     "output_type": "stream",
     "text": [
      "enter number:  30\n"
     ]
    },
    {
     "name": "stdout",
     "output_type": "stream",
     "text": [
      "276\n"
     ]
    }
   ],
   "source": [
    "def sum_recursive(num, current=1, total = 0):\n",
    "    if current > num or total > 300:                   # check current should less than number and total lessthan 300\n",
    "        return total\n",
    "\n",
    "    if current%5==0:\n",
    "        return sum_recursive(num, current + 1, total)  # if current is divisible by 5 dont add in total keep call funtion by current + 1\n",
    "\n",
    "    if total + current>300:                            # if sum of current and total is > than 300 dont add current in total and return total only\n",
    "        return total\n",
    "\n",
    "    return sum_recursive(num, current+1, total+current)# call function to add all number from start all remaining elements \n",
    "\n",
    "    \n",
    "\n",
    "\n",
    "num = int(input(\"enter number: \"))\n",
    "    \n",
    "result = sum_recursive(num)   \n",
    "print(result)"
   ]
  },
  {
   "cell_type": "markdown",
   "id": "90f3fcd9-7f6f-443f-b490-878eddc97459",
   "metadata": {},
   "source": [
    "####  Write a program which will find all such numbers which are divisible by 7 but are not a multiple of 5, between 2000 and 3200 (both included). The numbers obtained should be printed in a comma-separated sequence on a single line."
   ]
  },
  {
   "cell_type": "code",
   "execution_count": 12,
   "id": "0b8d4e04-e34e-471c-9c9c-7237ef72faf5",
   "metadata": {},
   "outputs": [
    {
     "name": "stdout",
     "output_type": "stream",
     "text": [
      "2002,2009,2016,2023,2037,2044,2051,2058,2072,2079,2086,2093,2107,2114,2121,2128,2142,2149,2156,2163,2177,2184,2191,2198,2212,2219,2226,2233,2247,2254,2261,2268,2282,2289,2296,2303,2317,2324,2331,2338,2352,2359,2366,2373,2387,2394,2401,2408,2422,2429,2436,2443,2457,2464,2471,2478,2492,2499,2506,2513,2527,2534,2541,2548,2562,2569,2576,2583,2597,2604,2611,2618,2632,2639,2646,2653,2667,2674,2681,2688,2702,2709,2716,2723,2737,2744,2751,2758,2772,2779,2786,2793,2807,2814,2821,2828,2842,2849,2856,2863,2877,2884,2891,2898,2912,2919,2926,2933,2947,2954,2961,2968,2982,2989,2996,3003,3017,3024,3031,3038,3052,3059,3066,3073,3087,3094,3101,3108,3122,3129,3136,3143,3157,3164,3171,3178,3192,3199\n"
     ]
    }
   ],
   "source": [
    "# for i in range(2000, 3201):\n",
    "#     if (i % 7 == 0) and (i % 5 != 0):\n",
    "#         print(i, end=\", \")\n",
    "\n",
    "result = []\n",
    "\n",
    "for i in range(2000,3201):\n",
    "    if i%7==0 and i %5 !=0:\n",
    "        result.append(str(i))\n",
    "print(','.join(result))       # join() is used to join the sting elements using specified join "
   ]
  },
  {
   "cell_type": "markdown",
   "id": "7977fb6a-ad5a-425c-868d-f081f870e561",
   "metadata": {},
   "source": [
    "#### Write a program, which will find all such numbers between 1000 and 3000 (both included) such that each digit of the number is an even number. The numbers obtained should be printed in a space-separated sequence on a single line."
   ]
  },
  {
   "cell_type": "code",
   "execution_count": 24,
   "id": "7c985429-ec44-4192-b6d6-da2f9b47913a",
   "metadata": {},
   "outputs": [
    {
     "name": "stdout",
     "output_type": "stream",
     "text": [
      "2000 2002 2004 2006 2008 2020 2022 2024 2026 2028 2040 2042 2044 2046 2048 2060 2062 2064 2066 2068 2080 2082 2084 2086 2088 2200 2202 2204 2206 2208 2220 2222 2224 2226 2228 2240 2242 2244 2246 2248 2260 2262 2264 2266 2268 2280 2282 2284 2286 2288 2400 2402 2404 2406 2408 2420 2422 2424 2426 2428 2440 2442 2444 2446 2448 2460 2462 2464 2466 2468 2480 2482 2484 2486 2488 2600 2602 2604 2606 2608 2620 2622 2624 2626 2628 2640 2642 2644 2646 2648 2660 2662 2664 2666 2668 2680 2682 2684 2686 2688 2800 2802 2804 2806 2808 2820 2822 2824 2826 2828 2840 2842 2844 2846 2848 2860 2862 2864 2866 2868 2880 2882 2884 2886 2888\n"
     ]
    }
   ],
   "source": [
    "result = []\n",
    "\n",
    "for num in range(1000,3001):\n",
    "    app = ''                                   # initialize empty string for each number \n",
    "    count = 0                                  # initialize counter to check number should have 4 digit \n",
    "    for single_digit in str(num):              # check each digit in number \n",
    "        if int(single_digit)%2==0:       # check if dogot is even\n",
    "            app += single_digit                                     # if even add to empty string \n",
    "            count += 1                                              # incerase counter \n",
    "        if count==4:                                                # check for four digit each number \n",
    "            result.append(app)                                      # append the number into list\n",
    "print(' '.join(result))                                             # will give space seperated values from list "
   ]
  },
  {
   "cell_type": "code",
   "execution_count": 25,
   "id": "dfaa7a72-d287-4f63-aedc-d35c9b20fc80",
   "metadata": {},
   "outputs": [
    {
     "name": "stdout",
     "output_type": "stream",
     "text": [
      "2000 2002 2004 2006 2008 2020 2022 2024 2026 2028 2040 2042 2044 2046 2048 2060 2062 2064 2066 2068 2080 2082 2084 2086 2088 2200 2202 2204 2206 2208 2220 2222 2224 2226 2228 2240 2242 2244 2246 2248 2260 2262 2264 2266 2268 2280 2282 2284 2286 2288 2400 2402 2404 2406 2408 2420 2422 2424 2426 2428 2440 2442 2444 2446 2448 2460 2462 2464 2466 2468 2480 2482 2484 2486 2488 2600 2602 2604 2606 2608 2620 2622 2624 2626 2628 2640 2642 2644 2646 2648 2660 2662 2664 2666 2668 2680 2682 2684 2686 2688 2800 2802 2804 2806 2808 2820 2822 2824 2826 2828 2840 2842 2844 2846 2848 2860 2862 2864 2866 2868 2880 2882 2884 2886 2888\n"
     ]
    }
   ],
   "source": [
    "result = []\n",
    "\n",
    "for num in range(1000,3001):\n",
    "    num_str = str(num)\n",
    "\n",
    "    if all(digit in '02468' for digit in num_str):    # this will check for all digits in num_str. if all are belongs to given set '02468' will \n",
    "        result.append(num_str)                        # append  \n",
    "\n",
    "print(' '.join(result))\n",
    "    "
   ]
  },
  {
   "cell_type": "markdown",
   "id": "08996c15-5829-41b5-aad5-ba69f3df083b",
   "metadata": {},
   "source": [
    "#### A robot moves in a plane starting from the original point (0,0). The robot can move toward UP, DOWN, LEFT and RIGHT with a given steps.\n",
    "The trace of robot movement is shown as the following:\n",
    "\n",
    "UP 5\n",
    "DOWN 3\n",
    "LEFT 3\n",
    "RIGHT 2\n",
    "!\n",
    "The numbers after the direction are steps.\n",
    "\n",
    "! means robot stop there.\n",
    "\n",
    "Please write a program to compute the distance from current position after a sequence of movement and original point.\n",
    "\n",
    "If the distance is a float, then just print the nearest integer.\n",
    "\n",
    "Example:\n",
    "\n",
    "Input:\n",
    "\n",
    "UP 5\n",
    "DOWN 3\n",
    "LEFT 3\n",
    "RIGHT 2\n",
    "!\n",
    "Output:\n",
    "\n",
    "2"
   ]
  },
  {
   "cell_type": "code",
   "execution_count": 33,
   "id": "9fc20c4e-eddf-486a-ba36-a9c66aa0b094",
   "metadata": {},
   "outputs": [
    {
     "name": "stdin",
     "output_type": "stream",
     "text": [
      " UP 5\n",
      " DOWN 3\n",
      " LEFT 3\n",
      " DOWN 2\n",
      " !\n"
     ]
    },
    {
     "name": "stdout",
     "output_type": "stream",
     "text": [
      "0.0\n"
     ]
    }
   ],
   "source": [
    "import math\n",
    "\n",
    "x,y =0,0   #initialize the starting point\n",
    "\n",
    "while True:  # continue the loop untill it encounters '!'\n",
    "    \n",
    "    command = input().strip()    # input the commands\n",
    "    if command=='!':\n",
    "        break                   # stope taking commands if ! encounters\n",
    "    \n",
    "    direction, steps = command.split()    # split the command and step\n",
    "    steps = int(steps)       \n",
    "\n",
    "    if direction=='UP':\n",
    "        y += steps\n",
    "    elif direction=='DOWN':\n",
    "        y -= steps\n",
    "    elif direction==\"LEFT\":\n",
    "        x -= steps\n",
    "    elif direction=='RIGHT':\n",
    "        x += steps\n",
    "\n",
    "distance = math.sqrt(x**2+y**2)\n",
    "\n",
    "print(round(distance))\n",
    "    "
   ]
  },
  {
   "cell_type": "code",
   "execution_count": 35,
   "id": "98e77862-1a26-44ef-a7f6-ed7fc4b77949",
   "metadata": {},
   "outputs": [
    {
     "name": "stdin",
     "output_type": "stream",
     "text": [
      " UP 5\n",
      " DOWN 3\n",
      " LEFT 3\n",
      " RIGHT 2\n",
      " !\n"
     ]
    },
    {
     "name": "stdout",
     "output_type": "stream",
     "text": [
      "2\n"
     ]
    }
   ],
   "source": [
    "import math\n",
    "\n",
    "# Initialize the starting position (0, 0)\n",
    "x, y = 0, 0\n",
    "\n",
    "# Read movements until we encounter \"!\"\n",
    "while True:\n",
    "    # Input command\n",
    "    command = input().strip()\n",
    "    \n",
    "    # Stop processing when we encounter \"!\"\n",
    "    if command == \"!\":\n",
    "        break\n",
    "    \n",
    "    # Split the command into direction and steps\n",
    "    direction, steps = command.split()\n",
    "    steps = int(steps)\n",
    "    \n",
    "    # Update the position based on the direction\n",
    "    if direction == \"UP\":\n",
    "        y += steps\n",
    "    elif direction == \"DOWN\":\n",
    "        y -= steps\n",
    "    elif direction == \"LEFT\":\n",
    "        x -= steps\n",
    "    elif direction == \"RIGHT\":\n",
    "        x += steps\n",
    "\n",
    "# Calculate the Euclidean distance from the origin (0, 0)\n",
    "distance = math.sqrt(x**2 + y**2)\n",
    "\n",
    "# Print the rounded distance\n",
    "print(round(distance))\n",
    "\n"
   ]
  },
  {
   "cell_type": "markdown",
   "id": "cf426661-c947-465b-9ca8-fa463826d65d",
   "metadata": {},
   "source": [
    "#### Prime number"
   ]
  },
  {
   "cell_type": "code",
   "execution_count": 44,
   "id": "81adf1bd-6ff9-4ed0-9226-b0e8afca9305",
   "metadata": {},
   "outputs": [
    {
     "name": "stdin",
     "output_type": "stream",
     "text": [
      "Enter number to check if number is prime:  12\n"
     ]
    },
    {
     "name": "stdout",
     "output_type": "stream",
     "text": [
      "not prime number\n"
     ]
    }
   ],
   "source": [
    "num = int(input(\"Enter number to check if number is prime: \"))\n",
    "for i in range(2, (num//2)+1):\n",
    "    if num % i==0:\n",
    "        print(\"not prime number\")\n",
    "        break\n",
    "else:\n",
    "    print(\"prime number\")\n",
    "    "
   ]
  },
  {
   "cell_type": "markdown",
   "id": "8a7d9cb9-d7df-4095-9d9a-e3728e3fec69",
   "metadata": {},
   "source": [
    "#### Armstrong number  For example 0, 1, 153, 370, 371 and 407 are the Armstrong"
   ]
  },
  {
   "cell_type": "code",
   "execution_count": 51,
   "id": "6fdd3935-04c1-4178-bed0-7d1ff16c2c27",
   "metadata": {},
   "outputs": [
    {
     "name": "stdin",
     "output_type": "stream",
     "text": [
      "Enter number to check if number is prime:  23\n"
     ]
    },
    {
     "name": "stdout",
     "output_type": "stream",
     "text": [
      "23 not a armstrong number\n"
     ]
    }
   ],
   "source": [
    "num =int(input(\"Enter number to check if number is prime: \"))\n",
    "total = 0\n",
    "number = num\n",
    "while number > 0:\n",
    "    rem = number%10\n",
    "    total = total+rem**3\n",
    "    number=number//10\n",
    "if num==total:\n",
    "    print(f'{num} is a Armstrong number ')\n",
    "else:\n",
    "    print(f'{num} not a armstrong number')"
   ]
  },
  {
   "cell_type": "code",
   "execution_count": null,
   "id": "5802eb7a-211c-4524-bad1-20089bc97eb6",
   "metadata": {},
   "outputs": [],
   "source": []
  }
 ],
 "metadata": {
  "kernelspec": {
   "display_name": "Python 3 (ipykernel)",
   "language": "python",
   "name": "python3"
  },
  "language_info": {
   "codemirror_mode": {
    "name": "ipython",
    "version": 3
   },
   "file_extension": ".py",
   "mimetype": "text/x-python",
   "name": "python",
   "nbconvert_exporter": "python",
   "pygments_lexer": "ipython3",
   "version": "3.12.5"
  }
 },
 "nbformat": 4,
 "nbformat_minor": 5
}
