{
 "cells": [
  {
   "cell_type": "raw",
   "id": "d3955a43-8cfc-4ad6-a2d9-c74f75026f70",
   "metadata": {},
   "source": [
    "Write OOP classes to handle the following scenarios:\n",
    "A user can create and view 2D coordinates\n",
    "A user can find out the distance between 2 coordinates\n",
    "A user can find find the distance of a coordinate from origin\n",
    "A user can check if a point lies on a given line\n",
    "A user can find the distance between a given 2D point and a given line"
   ]
  },
  {
   "cell_type": "code",
   "execution_count": 56,
   "id": "3545a21c-18bc-445e-8111-c1f655821479",
   "metadata": {},
   "outputs": [],
   "source": [
    "class Point:\n",
    "    def __init__(self,x,y):                       # constructor of class call as soon as the object is created\n",
    "    #   print(id(self))\n",
    "        self.x_cord = x\n",
    "        self.y_cord = y\n",
    "        \n",
    "    def __str__(self):                            # magic/dender method defines how the print method display the format of object of the class\n",
    "        return f'<{self.x_cord},{self.y_cord}>'   # return '<{},{}>'.format(self.x_cord,self.y_cord)\n",
    "         \n",
    "    def euclidian_distance(self,other):\n",
    "        return ((self.x_cord-other.x_cord)**2 + (self.y_cord-other.y_cord)**2)**0.5\n",
    "\n",
    "    def distance_from_origin(self):              # origin (0,0) so x-x1 and y-y1 zero no consider will give the below result \n",
    "        return (self.x_cord**2 +self.y_cord**2)**0.5"
   ]
  },
  {
   "cell_type": "code",
   "execution_count": 40,
   "id": "03888c98-09a8-4601-a1c4-ba8fe028d1b7",
   "metadata": {},
   "outputs": [],
   "source": [
    "pt = Point(0,1)       \n",
    "pt1 = Point(1,2)"
   ]
  },
  {
   "cell_type": "code",
   "execution_count": 41,
   "id": "c1119cdf-76b6-414c-949c-bea3276c344d",
   "metadata": {},
   "outputs": [
    {
     "data": {
      "text/plain": [
       "1.4142135623730951"
      ]
     },
     "execution_count": 41,
     "metadata": {},
     "output_type": "execute_result"
    }
   ],
   "source": [
    "pt.euclidian_distance(pt1)"
   ]
  },
  {
   "cell_type": "code",
   "execution_count": 43,
   "id": "65c4e24c-e3d7-4b82-ae52-e4c5f3d5d647",
   "metadata": {},
   "outputs": [
    {
     "data": {
      "text/plain": [
       "1.0"
      ]
     },
     "execution_count": 43,
     "metadata": {},
     "output_type": "execute_result"
    }
   ],
   "source": [
    "pt.distance_from_origin()"
   ]
  },
  {
   "cell_type": "code",
   "execution_count": 78,
   "id": "b3971598-fa38-4bb8-b852-e878761237dd",
   "metadata": {},
   "outputs": [],
   "source": [
    "class Line:\n",
    "    def __init__(self,A,B,C):\n",
    "        self.A = A\n",
    "        self.B = B\n",
    "        self.C = C\n",
    "    def __str__(self):\n",
    "        return f\"{self.A}x + {self.B}y + {self.C} = 0\"\n",
    "\n",
    "    def Is_point_lies_onLine(line, point):             # here i gave line as parameter in place of self, you can give anyranndom name as per\n",
    "        if line.A*point.x_cord + line.B*point.y_cord + line.C==0:\n",
    "            return 'YES'\n",
    "        else:\n",
    "            return 'NO'\n",
    "            \n",
    "    def shortest_ditance_Line_point(line, point):\n",
    "        return abs(line.A*point.x_cord + line.B*point.y_cord + line.C)/(line.A**2 + line.B**2)**0.5 "
   ]
  },
  {
   "cell_type": "code",
   "execution_count": 79,
   "id": "834c7b30-4e05-4eed-af62-47138ea34cce",
   "metadata": {},
   "outputs": [],
   "source": [
    "pt = Point(1,1)"
   ]
  },
  {
   "cell_type": "code",
   "execution_count": 80,
   "id": "b243db00-9c90-4c54-b737-5a448922fdf5",
   "metadata": {},
   "outputs": [],
   "source": [
    "line = Line(1,1,-2)"
   ]
  },
  {
   "cell_type": "code",
   "execution_count": 81,
   "id": "1d044421-78a8-4b47-9cff-19f7a6ac605f",
   "metadata": {},
   "outputs": [
    {
     "data": {
      "text/plain": [
       "'YES'"
      ]
     },
     "execution_count": 81,
     "metadata": {},
     "output_type": "execute_result"
    }
   ],
   "source": [
    "line.Is_point_lies_onLine(pt)"
   ]
  },
  {
   "cell_type": "code",
   "execution_count": 82,
   "id": "57f4f245-fa32-4d3e-891d-44d86fc50b75",
   "metadata": {},
   "outputs": [
    {
     "data": {
      "text/plain": [
       "0.0"
      ]
     },
     "execution_count": 82,
     "metadata": {},
     "output_type": "execute_result"
    }
   ],
   "source": [
    "line.shortest_ditance_Line_point(pt)"
   ]
  },
  {
   "cell_type": "markdown",
   "id": "3d78f9b5-d121-4f1c-8014-d4c0a80f9974",
   "metadata": {},
   "source": [
    "# how object access attributes"
   ]
  },
  {
   "cell_type": "code",
   "execution_count": 84,
   "id": "8a485197-cae4-4600-b236-4c69cffc2077",
   "metadata": {},
   "outputs": [],
   "source": [
    "class Person:\n",
    "    def __init__(self, name, country):\n",
    "        self.name = name\n",
    "        self.country = country\n",
    "\n",
    "    def greet(self):\n",
    "        if self.country == \"India\":\n",
    "            print(\"Hello \", self.name)\n",
    "        else:\n",
    "            print(\"Hola \", self.name)"
   ]
  },
  {
   "cell_type": "code",
   "execution_count": 86,
   "id": "c767526e-4572-4dfe-8b8b-beb4efc2e711",
   "metadata": {},
   "outputs": [],
   "source": [
    "p1 = Person('Mayur', 'India')"
   ]
  },
  {
   "cell_type": "code",
   "execution_count": 87,
   "id": "372b03ce-9ac1-4140-b441-79e8484628be",
   "metadata": {},
   "outputs": [
    {
     "name": "stdout",
     "output_type": "stream",
     "text": [
      "Hello  Mayur\n"
     ]
    }
   ],
   "source": [
    "p1.greet()"
   ]
  },
  {
   "cell_type": "code",
   "execution_count": 88,
   "id": "33a97a7e-e9ab-487b-a2f8-7daca86f13dc",
   "metadata": {},
   "outputs": [],
   "source": [
    "p2 = Person(\"Elic\",\"Japan\")"
   ]
  },
  {
   "cell_type": "code",
   "execution_count": 89,
   "id": "62197a12-b80d-4a71-aa06-12252a94430d",
   "metadata": {},
   "outputs": [
    {
     "name": "stdout",
     "output_type": "stream",
     "text": [
      "Hola  Elic\n"
     ]
    }
   ],
   "source": [
    "p2.greet()"
   ]
  },
  {
   "cell_type": "code",
   "execution_count": 90,
   "id": "f5f57ee8-3351-429a-87fd-bc4da8ae4f46",
   "metadata": {},
   "outputs": [
    {
     "ename": "AttributeError",
     "evalue": "'Person' object has no attribute 'age'",
     "output_type": "error",
     "traceback": [
      "\u001b[1;31m---------------------------------------------------------------------------\u001b[0m",
      "\u001b[1;31mAttributeError\u001b[0m                            Traceback (most recent call last)",
      "Cell \u001b[1;32mIn[90], line 1\u001b[0m\n\u001b[1;32m----> 1\u001b[0m \u001b[43mp1\u001b[49m\u001b[38;5;241;43m.\u001b[39;49m\u001b[43mage\u001b[49m\n",
      "\u001b[1;31mAttributeError\u001b[0m: 'Person' object has no attribute 'age'"
     ]
    }
   ],
   "source": [
    "p1.age   # throws error as no instance variable is there "
   ]
  },
  {
   "cell_type": "code",
   "execution_count": 93,
   "id": "ff16aa23-31d6-4cdd-9449-8306d972d65b",
   "metadata": {},
   "outputs": [],
   "source": [
    "p1.age = 27     # we can create an instance object"
   ]
  },
  {
   "cell_type": "code",
   "execution_count": 94,
   "id": "b42e3a60-aedd-44d3-b560-30ed96121ee1",
   "metadata": {},
   "outputs": [
    {
     "data": {
      "text/plain": [
       "27"
      ]
     },
     "execution_count": 94,
     "metadata": {},
     "output_type": "execute_result"
    }
   ],
   "source": [
    "p1.age"
   ]
  },
  {
   "cell_type": "markdown",
   "id": "ae7fbdea-8724-4313-9182-b655fba98a2b",
   "metadata": {},
   "source": [
    "## Refernce variable"
   ]
  },
  {
   "cell_type": "raw",
   "id": "eedc2590-681e-40df-8e22-e382a9aef1c6",
   "metadata": {},
   "source": [
    "# refernce variable holds the object\n",
    "# we can create object withot refernce variable\n",
    "# Object can have multiple refernce varialble \n",
    "# assigning a new refernce variable to an existing object does not create new object in the memory"
   ]
  },
  {
   "cell_type": "code",
   "execution_count": 96,
   "id": "a31784a8-2be3-4fe0-b744-2a7b143d0481",
   "metadata": {},
   "outputs": [],
   "source": [
    "class Person:\n",
    "    def __init__(self):\n",
    "        self.name = 'Hulk'\n",
    "        self.gender = 'Male'\n",
    "p=Person()"
   ]
  },
  {
   "cell_type": "code",
   "execution_count": 97,
   "id": "ab0ebaad-cb99-407e-99de-6a2adf8353db",
   "metadata": {},
   "outputs": [],
   "source": [
    "q=p            # assigning new refernce varialbe to the existing object"
   ]
  },
  {
   "cell_type": "code",
   "execution_count": 100,
   "id": "c3b9b3ab-60ae-4031-9056-dd1e987562dc",
   "metadata": {},
   "outputs": [
    {
     "name": "stdout",
     "output_type": "stream",
     "text": [
      "1255630107280\n",
      "1255630107280\n"
     ]
    }
   ],
   "source": [
    "print(id(p))   # both object pointing to the same memory location \n",
    "print(id(q))"
   ]
  },
  {
   "cell_type": "code",
   "execution_count": 101,
   "id": "c594d121-ff19-4369-8c74-6bbccef135c4",
   "metadata": {},
   "outputs": [],
   "source": [
    "q.name = \"IronMan\""
   ]
  },
  {
   "cell_type": "code",
   "execution_count": 103,
   "id": "ae241066-a6e8-458e-b281-a49d9ab13a33",
   "metadata": {},
   "outputs": [
    {
     "data": {
      "text/plain": [
       "'IronMan'"
      ]
     },
     "execution_count": 103,
     "metadata": {},
     "output_type": "execute_result"
    }
   ],
   "source": [
    "p.name        # make changes using refernce will make change in original object"
   ]
  },
  {
   "cell_type": "markdown",
   "id": "79684364-bbb0-4901-977a-6e5bd91e174a",
   "metadata": {},
   "source": [
    "### Pass by refernce"
   ]
  },
  {
   "cell_type": "markdown",
   "id": "27baed19-c1e5-4978-a857-658803b5994f",
   "metadata": {},
   "source": [
    "class Person:\n",
    "    def __init__(self):\n",
    "        self.name = 'Hulk'\n",
    "        self.gender = 'Male'\n",
    "\n",
    "def setName(person):\n",
    "    print(f\"Hi my name is {person.name} and i am {person.gender}\")\n",
    "    person.name = 'IronMan'\n",
    "    person.gender = 'Male'\n",
    "    return p1\n",
    "    \n",
    "p = Person()\n",
    "x = setName(p)"
   ]
  },
  {
   "cell_type": "code",
   "execution_count": 114,
   "id": "e2193a90-9544-4297-bf43-9584569ef8ff",
   "metadata": {},
   "outputs": [
    {
     "data": {
      "text/plain": [
       "'Mayur'"
      ]
     },
     "execution_count": 114,
     "metadata": {},
     "output_type": "execute_result"
    }
   ],
   "source": [
    "x.name"
   ]
  },
  {
   "cell_type": "code",
   "execution_count": 115,
   "id": "7b1c9831-d360-488b-b87d-bfef6d96543c",
   "metadata": {},
   "outputs": [
    {
     "ename": "AttributeError",
     "evalue": "'Person' object has no attribute 'gender'",
     "output_type": "error",
     "traceback": [
      "\u001b[1;31m---------------------------------------------------------------------------\u001b[0m",
      "\u001b[1;31mAttributeError\u001b[0m                            Traceback (most recent call last)",
      "Cell \u001b[1;32mIn[115], line 1\u001b[0m\n\u001b[1;32m----> 1\u001b[0m \u001b[43mx\u001b[49m\u001b[38;5;241;43m.\u001b[39;49m\u001b[43mgender\u001b[49m\n",
      "\u001b[1;31mAttributeError\u001b[0m: 'Person' object has no attribute 'gender'"
     ]
    }
   ],
   "source": [
    "x.gender"
   ]
  },
  {
   "cell_type": "markdown",
   "id": "37a62a97-0ae5-4648-a009-7a6a6d6e9ee0",
   "metadata": {},
   "source": [
    "# Encapsulation"
   ]
  },
  {
   "cell_type": "code",
   "execution_count": null,
   "id": "39be950e-6608-42b4-b5bd-736b293be51e",
   "metadata": {},
   "outputs": [],
   "source": [
    "# wrapping up of data into single unit is called as encapsulation\n",
    "# nothing in python is private \n",
    "# __ (double underscore) use to make attribute private \n",
    "# when we make any attribute as private it will stroe into memory as _className__attibuteName(maglin method)\n",
    "# if we want to access private we can access with the _className__attibuteName\n",
    "# Explain with the below example"
   ]
  },
  {
   "cell_type": "code",
   "execution_count": 20,
   "id": "17688720-da3e-4f8c-9897-f1fe6e1d84c2",
   "metadata": {},
   "outputs": [],
   "source": [
    "class Atm:\n",
    "    def __init__(self):\n",
    "        self.__pin = ''\n",
    "        self.__balance = 0\n",
    "        #self.menu()\n",
    "\n",
    "    def get_Balance(self):\n",
    "        return self.__balance\n",
    "\n",
    "    def set_Balance(self, newValue):\n",
    "        if type(newValue)==int:\n",
    "            self.__balance=newValue\n",
    "        else:\n",
    "            print(\"Mar Khayega...\")\n",
    "    \n",
    "    def menu(self):\n",
    "        user_input = input('''Enter your choice:\n",
    "        1. press 1 for Create pin\n",
    "        2. press 2 for Change Pin\n",
    "        3. press 3 for Balance check\n",
    "        4. press 4 for withdrawl\n",
    "        5. press 5 to Remove your card''')\n",
    "\n",
    "        if user_input == '1':\n",
    "          self.create_Pin()\n",
    "        elif user_input == '2':\n",
    "          self.change_pin()\n",
    "        elif user_input == '3':\n",
    "          self.check_balance()\n",
    "        elif user_input == '4':\n",
    "          self.withdraw()\n",
    "        else:\n",
    "          exit()\n",
    "\n",
    "    def create_Pin(self):\n",
    "        user_pin = input('Enter Your Pin: ')\n",
    "        self.__pin = user_pin\n",
    "\n",
    "        user_balance = int(input('Enter Your Balance: '))\n",
    "        self.__balance = user_balance\n",
    "        print(\"Pin Cretared Successfully...\")\n",
    "\n",
    "        self.menu()\n",
    "    def change_pin(self):\n",
    "        user_pin = input(\"Enter your Old pin: \")\n",
    "        if self.__pin == user_pin:\n",
    "            user_pin = input(\"Enter your New Pin: \")\n",
    "            self.__pin = user_pin\n",
    "            print(\"Pin changed successfully...\")\n",
    "        else:\n",
    "            print(\"Galat pin dala hai...\")\n",
    "\n",
    "\n",
    "    def check_balance(self):\n",
    "        user_pin = input(\"Enter your Pin: \")\n",
    "        if user_pin==self.__pin:\n",
    "            print(\"Your balance is rs. {}\".format(self.__balance))\n",
    "        else:\n",
    "            print('Bhikari...')\n",
    "        self.__menu()\n",
    "\n",
    "    def withdraw(self):\n",
    "        user_pin = input(\"Enter Pin: \")\n",
    "        if user_pin == self.__pin:\n",
    "            user_balance = int(input(\"Enter Amount: \"))\n",
    "            if user_balance > self.__balance:\n",
    "                print(\"Bhai Pagal hai kya...\")\n",
    "            else:\n",
    "                self.__balance = self.__balance - user_balance\n",
    "                print('Niche se cash le lo...')\n",
    "        else:\n",
    "            print(\"Chor.... chor... chor....\")\n",
    "        self.menu()"
   ]
  },
  {
   "cell_type": "code",
   "execution_count": 12,
   "id": "1a3bca41-6b2d-467d-8bd1-23ec35eccc12",
   "metadata": {},
   "outputs": [],
   "source": [
    "obj = Atm()"
   ]
  },
  {
   "cell_type": "code",
   "execution_count": 13,
   "id": "c2fdff73-8b7c-4e86-a308-21be62dc63a3",
   "metadata": {},
   "outputs": [
    {
     "data": {
      "text/plain": [
       "0"
      ]
     },
     "execution_count": 13,
     "metadata": {},
     "output_type": "execute_result"
    }
   ],
   "source": [
    "obj.get_Balance()"
   ]
  },
  {
   "cell_type": "code",
   "execution_count": 21,
   "id": "b719c38d-abb6-4bdd-857b-16bb24f67247",
   "metadata": {},
   "outputs": [],
   "source": [
    "obj.set_Balance(1000)"
   ]
  },
  {
   "cell_type": "code",
   "execution_count": 23,
   "id": "996779d0-508e-4591-82a5-2b6e651d88a4",
   "metadata": {},
   "outputs": [
    {
     "data": {
      "text/plain": [
       "1000"
      ]
     },
     "execution_count": 23,
     "metadata": {},
     "output_type": "execute_result"
    }
   ],
   "source": [
    "obj.get_Balance()"
   ]
  },
  {
   "cell_type": "code",
   "execution_count": 28,
   "id": "389b7955-1f7c-49e9-bad9-4f6a4a09b80b",
   "metadata": {},
   "outputs": [],
   "source": [
    "# coolection of objects\n",
    "\n",
    "class person():\n",
    "    def __init(self,name,gender):\n",
    "        self.name = name\n",
    "        self.gender = gender\n",
    "\n"
   ]
  },
  {
   "cell_type": "code",
   "execution_count": 30,
   "id": "eb9c1cc5-3e2d-4146-a120-431af71c7138",
   "metadata": {},
   "outputs": [
    {
     "ename": "TypeError",
     "evalue": "person() takes no arguments",
     "output_type": "error",
     "traceback": [
      "\u001b[1;31m---------------------------------------------------------------------------\u001b[0m",
      "\u001b[1;31mTypeError\u001b[0m                                 Traceback (most recent call last)",
      "Cell \u001b[1;32mIn[30], line 1\u001b[0m\n\u001b[1;32m----> 1\u001b[0m p1\u001b[38;5;241m=\u001b[39m\u001b[43mperson\u001b[49m\u001b[43m(\u001b[49m\u001b[38;5;124;43m'\u001b[39;49m\u001b[38;5;124;43mMayur\u001b[39;49m\u001b[38;5;124;43m'\u001b[39;49m\u001b[43m,\u001b[49m\u001b[38;5;124;43m'\u001b[39;49m\u001b[38;5;124;43mmale\u001b[39;49m\u001b[38;5;124;43m'\u001b[39;49m\u001b[43m)\u001b[49m\n\u001b[0;32m      2\u001b[0m p2\u001b[38;5;241m=\u001b[39mperson(\u001b[38;5;124m'\u001b[39m\u001b[38;5;124mLalit\u001b[39m\u001b[38;5;124m'\u001b[39m,\u001b[38;5;124m'\u001b[39m\u001b[38;5;124mMale\u001b[39m\u001b[38;5;124m'\u001b[39m)\n\u001b[0;32m      3\u001b[0m p3\u001b[38;5;241m=\u001b[39mperson(\u001b[38;5;124m'\u001b[39m\u001b[38;5;124mNirmal\u001b[39m\u001b[38;5;124m'\u001b[39m,\u001b[38;5;124m'\u001b[39m\u001b[38;5;124mFemale\u001b[39m\u001b[38;5;124m'\u001b[39m)\n",
      "\u001b[1;31mTypeError\u001b[0m: person() takes no arguments"
     ]
    }
   ],
   "source": [
    "p1=person('Mayur','male')\n",
    "p2=person('Lalit','Male')\n",
    "p3=person('Nirmal','Female')"
   ]
  },
  {
   "cell_type": "code",
   "execution_count": null,
   "id": "a0143176-ddf5-471e-ac2d-fd23eca8f92f",
   "metadata": {},
   "outputs": [],
   "source": []
  }
 ],
 "metadata": {
  "kernelspec": {
   "display_name": "Python 3 (ipykernel)",
   "language": "python",
   "name": "python3"
  },
  "language_info": {
   "codemirror_mode": {
    "name": "ipython",
    "version": 3
   },
   "file_extension": ".py",
   "mimetype": "text/x-python",
   "name": "python",
   "nbconvert_exporter": "python",
   "pygments_lexer": "ipython3",
   "version": "3.12.5"
  }
 },
 "nbformat": 4,
 "nbformat_minor": 5
}
