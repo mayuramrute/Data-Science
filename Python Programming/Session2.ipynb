{
 "cells": [
  {
   "cell_type": "code",
   "execution_count": 4,
   "id": "9c3da6c4-3db9-431d-9892-fdf60265efee",
   "metadata": {},
   "outputs": [
    {
     "name": "stdout",
     "output_type": "stream",
     "text": [
      "Good\n"
     ]
    }
   ],
   "source": [
    "#MemberShip Operator in and not in \n",
    "string = \"Mayur\"\n",
    "if 'M' in string:\n",
    "    print(\"Good\")"
   ]
  },
  {
   "cell_type": "code",
   "execution_count": 8,
   "id": "58913047-cb72-4dba-84eb-63ca185a9595",
   "metadata": {},
   "outputs": [
    {
     "name": "stdout",
     "output_type": "stream",
     "text": [
      "True\n"
     ]
    }
   ],
   "source": [
    "print(1 in [1,2,3,4,5,6,7])"
   ]
  },
  {
   "cell_type": "code",
   "execution_count": 14,
   "id": "e10e2bca-cc7c-4c58-a90b-10c6577d7eea",
   "metadata": {},
   "outputs": [
    {
     "name": "stdin",
     "output_type": "stream",
     "text": [
      "Enter the number:  123\n"
     ]
    },
    {
     "name": "stdout",
     "output_type": "stream",
     "text": [
      "6\n"
     ]
    }
   ],
   "source": [
    "# program to print sum of three digit numbers in a digit \n",
    "# here i dint used loops\n",
    "\n",
    "num = int(input(\"Enter the number: \"))\n",
    "\n",
    "a = num % 10\n",
    "\n",
    "num = num//10\n",
    "\n",
    "b = num %10\n",
    "num = num //10\n",
    "\n",
    "c = num%10\n",
    "\n",
    "print(a+b+c)"
   ]
  },
  {
   "cell_type": "code",
   "execution_count": 19,
   "id": "a2305d67-2e89-4c4b-bd85-e0451796d8ea",
   "metadata": {},
   "outputs": [
    {
     "name": "stdin",
     "output_type": "stream",
     "text": [
      "Enter you email_Id:  sxnkjaskj\n",
      "Enter password 12345\n"
     ]
    },
    {
     "name": "stdout",
     "output_type": "stream",
     "text": [
      "invalid Credentials\n"
     ]
    }
   ],
   "source": [
    "# login program using if , elif statement\n",
    "email = input(\"Enter you email_Id: \")\n",
    "password = input(\"Enter password\")\n",
    "\n",
    "if email==\"mayuramrute@gmail.com\" and password ==\"1234\":\n",
    "    print(\"WELCOME\")\n",
    "elif email == \"mayuramrute@gmail.com\" and password != \"1234\":\n",
    "    print(\"password is Incorrect pls try again\")\n",
    "    password = input(\"Enter your password again\")\n",
    "    if password == \"1234\":\n",
    "        print(\"Aa...hi gaye tum\")\n",
    "    else:\n",
    "        print(\"Phir se passwrod bhul gaye ho chomu\")    \n",
    "else:\n",
    "    print(\"invalid Credentials\")"
   ]
  },
  {
   "cell_type": "code",
   "execution_count": 3,
   "id": "963de2ad-01e6-4f86-8901-ddc3bc7ce049",
   "metadata": {},
   "outputs": [],
   "source": [
    "## Modules in pyhton\n",
    "# math\n",
    "#keyword0\n",
    "#random\n",
    "#datetime"
   ]
  },
  {
   "cell_type": "code",
   "execution_count": 4,
   "id": "85701410-19d0-4f1b-b3f3-ac5844a78c02",
   "metadata": {},
   "outputs": [
    {
     "name": "stdout",
     "output_type": "stream",
     "text": [
      "14.0\n",
      "Mayur\n"
     ]
    }
   ],
   "source": [
    "import math\n",
    "print(math.sqrt(196))\n",
    "print(\"Mayur\")"
   ]
  },
  {
   "cell_type": "code",
   "execution_count": 15,
   "id": "ff532dff-d1ec-49a2-91a9-8c8a8268859b",
   "metadata": {},
   "outputs": [
    {
     "name": "stdout",
     "output_type": "stream",
     "text": [
      "['False', 'None', 'True', 'and', 'as', 'assert', 'async', 'await', 'break', 'class', 'continue', 'def', 'del', 'elif', 'else', 'except', 'finally', 'for', 'from', 'global', 'if', 'import', 'in', 'is', 'lambda', 'nonlocal', 'not', 'or', 'pass', 'raise', 'return', 'try', 'while', 'with', 'yield']\n",
      "35\n"
     ]
    }
   ],
   "source": [
    "import keyword \n",
    "a = keyword.kwlist\n",
    "print(a)\n",
    "print(len(a))"
   ]
  },
  {
   "cell_type": "code",
   "execution_count": 16,
   "id": "cf3db6b9-1d28-431c-94a0-0166e208ec90",
   "metadata": {},
   "outputs": [
    {
     "name": "stdout",
     "output_type": "stream",
     "text": [
      "2024-09-21 23:40:00.229466\n"
     ]
    }
   ],
   "source": [
    "import datetime\n",
    "\n",
    "print(datetime.datetime.now())"
   ]
  },
  {
   "cell_type": "code",
   "execution_count": 21,
   "id": "51268eef-491b-4bba-a5e5-414ffdd368d2",
   "metadata": {},
   "outputs": [
    {
     "name": "stdout",
     "output_type": "stream",
     "text": [
      "\n",
      "Please wait a moment while I gather a list of all available modules...\n",
      "\n",
      "IPython             binascii            mailcap             stringprep\n",
      "__future__          bisect              markupsafe          struct\n",
      "__hello__           bleach              marshal             subprocess\n",
      "__phello__          bs4                 math                sunau\n",
      "_abc                builtins            matplotlib_inline   symtable\n",
      "_aix_support        bz2                 mimetypes           sys\n",
      "_argon2_cffi_bindings cProfile            mistune             sysconfig\n",
      "_ast                calendar            mmap                tabnanny\n",
      "_asyncio            certifi             mmapfile            tarfile\n",
      "_bisect             cffi                mmsystem            telnetlib\n",
      "_blake2             cgi                 modulefinder        tempfile\n",
      "_bz2                cgitb               more_itertools      terminado\n",
      "_cffi_backend       charset_normalizer  msilib              test\n",
      "_codecs             chunk               msvcrt              textwrap\n",
      "_codecs_cn          cmath               multiprocessing     this\n",
      "_codecs_hk          cmd                 nbclient            threading\n",
      "_codecs_iso2022     code                nbconvert           time\n",
      "_codecs_jp          codecs              nbformat            timeit\n",
      "_codecs_kr          codeop              nest_asyncio        timer\n",
      "_codecs_tw          collections         netbios             tinycss2\n",
      "_collections        colorama            netrc               tkinter\n",
      "_collections_abc    colorsys            nntplib             token\n",
      "_compat_pickle      comm                notebook            tokenize\n",
      "_compression        commctrl            notebook_shim       tomli\n",
      "_contextvars        compileall          nt                  tomllib\n",
      "_csv                concurrent          ntpath              tornado\n",
      "_ctypes             configparser        ntsecuritycon       trace\n",
      "_ctypes_test        contextlib          nturl2path          traceback\n",
      "_datetime           contextvars         numbers             tracemalloc\n",
      "_decimal            copy                numpy               traitlets\n",
      "_distutils_hack     copyreg             odbc                tty\n",
      "_elementtree        crypt               opcode              turtle\n",
      "_functools          csv                 operator            turtledemo\n",
      "_hashlib            ctypes              optparse            typeguard\n",
      "_heapq              curses              os                  types\n",
      "_imp                dataclasses         overrides           typing\n",
      "_io                 datetime            packaging           typing_extensions\n",
      "_json               dateutil            pandas              tzdata\n",
      "_locale             dbi                 pandocfilters       unicodedata\n",
      "_lsprof             dbm                 parso               unittest\n",
      "_lzma               dde                 pathlib             uri_template\n",
      "_markupbase         debugpy             pdb                 urllib\n",
      "_md5                decimal             perfmon             urllib3\n",
      "_msi                decorator           pickle              uu\n",
      "_multibytecodec     defusedxml          pickletools         uuid\n",
      "_multiprocessing    difflib             pip                 venv\n",
      "_opcode             dis                 pipes               warnings\n",
      "_operator           doctest             pkg_resources       wave\n",
      "_osx_support        email               pkgutil             wcwidth\n",
      "_overlapped         encodings           platform            weakref\n",
      "_pickle             ensurepip           platformdirs        webbrowser\n",
      "_py_abc             enum                plistlib            webcolors\n",
      "_pydatetime         errno               poplib              webencodings\n",
      "_pydecimal          executing           posixpath           websocket\n",
      "_pyio               fastjsonschema      pprint              wheel\n",
      "_pylong             faulthandler        profile             widgetsnbextension\n",
      "_queue              filecmp             prometheus_client   win2kras\n",
      "_random             fileinput           prompt_toolkit      win32api\n",
      "_sha1               fnmatch             pstats              win32clipboard\n",
      "_sha2               fqdn                psutil              win32com\n",
      "_sha3               fractions           pty                 win32con\n",
      "_signal             ftplib              pure_eval           win32console\n",
      "_sitebuiltins       functools           py_compile          win32cred\n",
      "_socket             gc                  pyclbr              win32crypt\n",
      "_sqlite3            genericpath         pycparser           win32cryptcon\n",
      "_sre                getopt              pydoc               win32event\n",
      "_ssl                getpass             pydoc_data          win32evtlog\n",
      "_stat               gettext             pyexpat             win32evtlogutil\n",
      "_statistics         glob                pygments            win32file\n",
      "_string             graphlib            pythoncom           win32gui\n",
      "_strptime           gzip                pythonjsonlogger    win32gui_struct\n",
      "_struct             h11                 pytz                win32help\n",
      "_symtable           hashlib             pywin               win32inet\n",
      "_testbuffer         heapq               pywin32_bootstrap   win32inetcon\n",
      "_testcapi           hmac                pywin32_testutil    win32job\n",
      "_testclinic         html                pywintypes          win32lz\n",
      "_testconsole        http                queue               win32net\n",
      "_testimportmultiple httpcore            quopri              win32netcon\n",
      "_testinternalcapi   httpx               random              win32pdh\n",
      "_testmultiphase     idlelib             rasutil             win32pdhquery\n",
      "_testsinglephase    idna                re                  win32pdhutil\n",
      "_thread             imaplib             referencing         win32pipe\n",
      "_threading_local    imghdr              regcheck            win32print\n",
      "_tkinter            importlib           regutil             win32process\n",
      "_tokenize           importlib_metadata  reprlib             win32profile\n",
      "_tracemalloc        importlib_resources requests            win32ras\n",
      "_typing             inflect             rfc3339_validator   win32rcparser\n",
      "_uuid               inspect             rfc3986_validator   win32security\n",
      "_warnings           io                  rlcompleter         win32service\n",
      "_weakref            ipaddress           rpds                win32serviceutil\n",
      "_weakrefset         ipykernel           runpy               win32timezone\n",
      "_win32sysloader     ipykernel_launcher  sched               win32trace\n",
      "_winapi             ipywidgets          secrets             win32traceutil\n",
      "_winxptheme         isapi               select              win32transaction\n",
      "_wmi                isoduration         selectors           win32ts\n",
      "_xxinterpchannels   itertools           send2trash          win32ui\n",
      "_xxsubinterpreters  jedi                servicemanager      win32uiole\n",
      "_yaml               jinja2              setuptools          win32verstamp\n",
      "_zoneinfo           json                shelve              win32wnet\n",
      "abc                 json5               shlex               winerror\n",
      "adodbapi            jsonpointer         shutil              winioctlcon\n",
      "afxres              jsonschema          signal              winnt\n",
      "aifc                jsonschema_specifications site                winperf\n",
      "antigravity         jupyter             six                 winpty\n",
      "anyio               jupyter_client      smtplib             winreg\n",
      "argon2              jupyter_console     sndhdr              winsound\n",
      "argparse            jupyter_core        sniffio             winxpgui\n",
      "array               jupyter_events      socket              winxptheme\n",
      "arrow               jupyter_lsp         socketserver        wsgiref\n",
      "ast                 jupyter_server      soupsieve           xdrlib\n",
      "asttokens           jupyter_server_terminals sqlite3             xml\n",
      "async_lru           jupyterlab          sre_compile         xmlrpc\n",
      "asyncio             jupyterlab_pygments sre_constants       xxsubtype\n",
      "atexit              jupyterlab_server   sre_parse           yaml\n",
      "attr                jupyterlab_widgets  ssl                 zipapp\n",
      "attrs               keyword             sspi                zipfile\n",
      "audioop             lib2to3             sspicon             zipimport\n",
      "autocommand         linecache           stack_data          zipp\n",
      "babel               locale              start_pythonwin     zlib\n",
      "backports           logging             stat                zmq\n",
      "base64              lzma                statistics          zoneinfo\n",
      "bdb                 mailbox             string              \n",
      "\n",
      "Enter any module name to get more help.  Or, type \"modules spam\" to search\n",
      "for modules whose name or summary contain the string \"spam\".\n",
      "\n"
     ]
    }
   ],
   "source": [
    "help('modules')"
   ]
  },
  {
   "cell_type": "code",
   "execution_count": 1,
   "id": "d1963321-0c42-4701-821f-fa7a54cf8a6d",
   "metadata": {},
   "outputs": [
    {
     "name": "stdin",
     "output_type": "stream",
     "text": [
      "enter your salary:  2\n"
     ]
    },
    {
     "name": "stdout",
     "output_type": "stream",
     "text": [
      "2.2407\n"
     ]
    }
   ],
   "source": [
    "basicSal = int(input(\"enter your salary: \"))\n",
    "\n",
    "HRASal = basicSal + (1/10 * basicSal)\n",
    " \n",
    "DA_Sal = HRASal + (5/100 * HRASal)\n",
    "\n",
    "FinalSal = DA_Sal - 3/100*DA_Sal\n",
    "\n",
    "if FinalSal<500000:\n",
    "  print(FinalSal)\n",
    "elif FinalSal<1100000:\n",
    "  print(FinalSal = FinalSal - FinalSal*0.1)\n",
    "elif FinalSal<2100000:\n",
    "  print(FinalSal = FinalSal - FinalSal*0.2)\n",
    "else:\n",
    "  print(FinalSal = FinalSal - FinalSal*0.3)"
   ]
  },
  {
   "cell_type": "markdown",
   "id": "b4ac199d-9627-41a8-8bf7-692245692d70",
   "metadata": {},
   "source": [
    "#### Problem 2: Write a program that take a user input of three angles and will find out whether it can form a triangle or not."
   ]
  },
  {
   "cell_type": "code",
   "execution_count": 28,
   "id": "ae143dd1-f53e-4243-a31d-822f07498a25",
   "metadata": {},
   "outputs": [
    {
     "name": "stdin",
     "output_type": "stream",
     "text": [
      "Enter the first angle:  120\n",
      "Enter the second angle:  60\n",
      "Enter the third angle:  60\n"
     ]
    },
    {
     "name": "stdout",
     "output_type": "stream",
     "text": [
      "the above are not the anles of the same triangle\n"
     ]
    }
   ],
   "source": [
    "angle1 = int(input(\"Enter the first angle: \"))\n",
    "angle2 = int(input(\"Enter the second angle: \"))\n",
    "angle3 = int(input(\"Enter the third angle: \"))\n",
    "if angle1+angle2+angle3==180:\n",
    "    print(\"its a triangle\")\n",
    "else:\n",
    "    print(\"the above are not the anles of the same triangle\")"
   ]
  },
  {
   "cell_type": "code",
   "execution_count": 1,
   "id": "ec35966c-d74f-4aa2-8ff9-a8de3602e99b",
   "metadata": {},
   "outputs": [
    {
     "name": "stdout",
     "output_type": "stream",
     "text": [
      "0\n",
      "1\n",
      "1\n",
      "2\n",
      "3\n",
      "5\n",
      "8\n",
      "13\n",
      "21\n",
      "34\n",
      "55\n",
      "89\n"
     ]
    }
   ],
   "source": [
    "#Display Fibonacci series up to 10 terms.\n",
    "\n",
    "firstNum = 0\n",
    "secondNum = 1\n",
    "print(firstNum)\n",
    "print(secondNum)\n",
    "\n",
    "for i in range(1, 11):\n",
    "    \n",
    "    thirdNum = firstNum + secondNum\n",
    "    print(thirdNum)\n",
    "    firstNum = secondNum\n",
    "    secondNum = thirdNum\n"
   ]
  },
  {
   "cell_type": "code",
   "execution_count": 5,
   "id": "549a4f9c-8437-4cbc-82bc-1d9e2a74fb5d",
   "metadata": {},
   "outputs": [
    {
     "name": "stdin",
     "output_type": "stream",
     "text": [
      "Enter the number to calculate the factorial:  6\n"
     ]
    },
    {
     "name": "stdout",
     "output_type": "stream",
     "text": [
      "720\n"
     ]
    }
   ],
   "source": [
    "# factorial of number\n",
    "num = int(input('Enter the number to calculate the factorial: '))\n",
    "fact = 1\n",
    "for i in range(1, num+1):\n",
    "    fact = fact*i\n",
    "print(fact)"
   ]
  },
  {
   "cell_type": "code",
   "execution_count": 7,
   "id": "6e014748-017a-4768-abcd-3fea7b7301fc",
   "metadata": {},
   "outputs": [
    {
     "name": "stdin",
     "output_type": "stream",
     "text": [
      "Enter the number to reverse: 12345678\n"
     ]
    },
    {
     "name": "stdout",
     "output_type": "stream",
     "text": [
      "87654321\n"
     ]
    }
   ],
   "source": [
    "# reverce the given number\n",
    "\n",
    "num = input(\"Enter the number to reverse:\")\n",
    "print(num[::-1])"
   ]
  },
  {
   "cell_type": "code",
   "execution_count": 3,
   "id": "6118eba6-39b8-42d3-8a4e-7052e607522d",
   "metadata": {},
   "outputs": [
    {
     "name": "stdin",
     "output_type": "stream",
     "text": [
      "Enter the number to reverse: 1234\n"
     ]
    },
    {
     "name": "stdout",
     "output_type": "stream",
     "text": [
      "4321\n"
     ]
    }
   ],
   "source": [
    "num = int(input(\"Enter the number to reverse:\"))\n",
    "reverse = 0\n",
    "#remender=0\n",
    "while num>0:\n",
    "    remender  = num % 10\n",
    "    reverse = reverse * 10 + remender\n",
    "    num = num//10\n",
    "\n",
    "print(reverse)\n",
    "    \n",
    "    "
   ]
  },
  {
   "cell_type": "code",
   "execution_count": 4,
   "id": "4a66bf5a-4728-491f-94b6-9614b59db14d",
   "metadata": {},
   "outputs": [
    {
     "name": "stdin",
     "output_type": "stream",
     "text": [
      "Enter the number:  1234\n"
     ]
    },
    {
     "name": "stdout",
     "output_type": "stream",
     "text": [
      "617.5\n"
     ]
    }
   ],
   "source": [
    "number = int(input(\"Enter the number: \"))\n",
    "\n",
    "total = int(number+1)/2\n",
    "print(total)\n",
    "\n"
   ]
  },
  {
   "cell_type": "code",
   "execution_count": null,
   "id": "ead8c3cf-4a11-4162-8c12-71db82b2d21b",
   "metadata": {},
   "outputs": [],
   "source": []
  }
 ],
 "metadata": {
  "kernelspec": {
   "display_name": "Python 3 (ipykernel)",
   "language": "python",
   "name": "python3"
  },
  "language_info": {
   "codemirror_mode": {
    "name": "ipython",
    "version": 3
   },
   "file_extension": ".py",
   "mimetype": "text/x-python",
   "name": "python",
   "nbconvert_exporter": "python",
   "pygments_lexer": "ipython3",
   "version": "3.12.5"
  }
 },
 "nbformat": 4,
 "nbformat_minor": 5
}
