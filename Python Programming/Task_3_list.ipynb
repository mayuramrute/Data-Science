{
 "cells": [
  {
   "cell_type": "markdown",
   "id": "39577d8b-bbae-4cd9-a113-90a55c6b0139",
   "metadata": {},
   "source": [
    "### Program to convert Decimal number to Binary Number"
   ]
  },
  {
   "cell_type": "code",
   "execution_count": 4,
   "id": "6e24e908-e03e-49e0-a203-7a29697ebbe4",
   "metadata": {},
   "outputs": [
    {
     "name": "stdin",
     "output_type": "stream",
     "text": [
      "Enter any Decimal number to convert into its Binary form:  8\n"
     ]
    },
    {
     "name": "stdout",
     "output_type": "stream",
     "text": [
      "1000\n"
     ]
    }
   ],
   "source": [
    "decimal_num = int(input(\"Enter any Decimal number to convert into its Binary form: \"))\n",
    "\n",
    "binary = []\n",
    "while decimal_num > 0:\n",
    "    remainder = decimal_num % 2\n",
    "    binary.append(str(remainder))\n",
    "    decimal_num //= 2\n",
    "    \n",
    "# the output will come in reverce binary form so reverse fuction is use to get correct binary form\n",
    "\n",
    "binary.reverse()\n",
    "\n",
    "print(\"\".join(binary))\n",
    "    "
   ]
  },
  {
   "cell_type": "markdown",
   "id": "b6e66452-cf5c-4191-a4ce-1f948c587acb",
   "metadata": {},
   "source": [
    "### Write a program that will take 2 numbers as input and prints the  Least Common Multiple (LCM) and Highest Common Factor (HCF) of those 2 numbers"
   ]
  },
  {
   "cell_type": "code",
   "execution_count": 29,
   "id": "0ccd8c75-efc9-44e9-8010-19a09613b91b",
   "metadata": {},
   "outputs": [
    {
     "name": "stdin",
     "output_type": "stream",
     "text": [
      "Enter the first Number:  10\n",
      "Enter the second Number:  15\n"
     ]
    },
    {
     "name": "stdout",
     "output_type": "stream",
     "text": [
      "HCF of two number is:  5\n",
      "LCM of the two number is:  30\n"
     ]
    }
   ],
   "source": [
    "first = int(input(\"Enter the first Number: \"))\n",
    "second = int(input(\"Enter the second Number: \"))\n",
    "\n",
    "a,b=first,second\n",
    "\n",
    "while b != 0:\n",
    "    a, b= b, a%b\n",
    "HCF = a\n",
    "print(\"HCF of two number is: \",HCF )\n",
    "\n",
    "lcm = first*second // HCF\n",
    "\n",
    "print(\"LCM of the two number is: \", lcm)"
   ]
  },
  {
   "cell_type": "code",
   "execution_count": 8,
   "id": "a0d9775e-b01e-47e4-8e95-f6772f2ecc57",
   "metadata": {},
   "outputs": [
    {
     "name": "stdin",
     "output_type": "stream",
     "text": [
      "Enter the first number:  10\n",
      "Enter the second number:  15\n"
     ]
    },
    {
     "name": "stdout",
     "output_type": "stream",
     "text": [
      "The HCF (GCD) of 10 and 15 is: 5\n",
      "The LCM of 10 and 15 is: 30\n"
     ]
    }
   ],
   "source": [
    "def gcd(a, b):\n",
    "    while b:\n",
    "        a, b = b, a % b\n",
    "    return a\n",
    "\n",
    "def lcm(a, b):\n",
    "    return abs(a * b) // gcd(a, b)\n",
    "\n",
    "# Get user input\n",
    "try:\n",
    "    num1 = int(input(\"Enter the first number: \"))\n",
    "    num2 = int(input(\"Enter the second number: \"))\n",
    "\n",
    "    if num1 <= 0 or num2 <= 0:\n",
    "        print(\"Please enter positive integers.\")\n",
    "    else:\n",
    "        hcf = gcd(num1, num2)\n",
    "        lcm_result = lcm(num1, num2)\n",
    "        \n",
    "        print(f\"The HCF (GCD) of {num1} and {num2} is: {hcf}\")\n",
    "        print(f\"The LCM of {num1} and {num2} is: {lcm_result}\")\n",
    "\n",
    "except ValueError:\n",
    "    print(\"Please enter valid integers.\")\n"
   ]
  },
  {
   "cell_type": "code",
   "execution_count": 9,
   "id": "cebdb2d2-13c6-436f-9e5d-c584ad1d08b8",
   "metadata": {},
   "outputs": [
    {
     "name": "stdout",
     "output_type": "stream",
     "text": [
      "5\n"
     ]
    }
   ],
   "source": [
    "a =10\n",
    "b = 15\n",
    "while b:\n",
    "    a, b = b, a % b\n",
    "    x = a\n",
    "\n",
    "print(x)"
   ]
  },
  {
   "cell_type": "markdown",
   "id": "c7911ad9-d886-4f3f-8c29-f19bdd6d5b18",
   "metadata": {},
   "source": [
    "### program to print the shot form of word using Initials"
   ]
  },
  {
   "cell_type": "code",
   "execution_count": 38,
   "id": "613b7f61-67d7-4fa1-811f-bcd290fa61d9",
   "metadata": {},
   "outputs": [
    {
     "name": "stdin",
     "output_type": "stream",
     "text": [
      "Enter thr string which you want to convert into short form:  Mayur Madhukar Amrute\n"
     ]
    },
    {
     "name": "stdout",
     "output_type": "stream",
     "text": [
      "MMA\n"
     ]
    }
   ],
   "source": [
    "string = input(\"Enter thr string which you want to convert into short form: \")\n",
    "\n",
    "words = string.split() \n",
    "\n",
    "short_form = ''\n",
    "\n",
    "for word in words:\n",
    "    short_form +=''.join(word[0].upper())\n",
    "print(short_form) "
   ]
  },
  {
   "cell_type": "code",
   "execution_count": 40,
   "id": "c622145c-e183-4224-85b9-28c075891fa0",
   "metadata": {},
   "outputs": [
    {
     "data": {
      "text/plain": [
       "str"
      ]
     },
     "execution_count": 40,
     "metadata": {},
     "output_type": "execute_result"
    }
   ],
   "source": [
    "wordss = ['Mayur', \"Pankaj\", \"Ayush\", \"Pravin\"]\n",
    "\n",
    "type(\" \".join(wordss))"
   ]
  },
  {
   "cell_type": "markdown",
   "id": "8a27e67a-2bf4-447d-ae46-c8e706aa1c74",
   "metadata": {},
   "source": [
    "### program to add the substring in the middble of string"
   ]
  },
  {
   "cell_type": "code",
   "execution_count": 51,
   "id": "4fdb5f28-6d32-4085-968a-87b57a5a5f2e",
   "metadata": {},
   "outputs": [
    {
     "name": "stdin",
     "output_type": "stream",
     "text": [
      "Enter the first string:  Mayur\n",
      "Enter the second string:  Amrute\n"
     ]
    },
    {
     "name": "stdout",
     "output_type": "stream",
     "text": [
      "MaAmruteyur\n"
     ]
    }
   ],
   "source": [
    "str1 = input(\"Enter the first string: \")\n",
    "str2 = input(\"Enter the second string: \")\n",
    "\n",
    "middle = len(str1) // 2\n",
    "result = str1[:middle] + str2 + str1[middle:]\n",
    "\n",
    "print(result)"
   ]
  },
  {
   "cell_type": "markdown",
   "id": "bff200ec-a89a-4304-8ae5-446ce15e0c90",
   "metadata": {},
   "source": [
    "### Program to remove duplicate char from the given string"
   ]
  },
  {
   "cell_type": "code",
   "execution_count": 5,
   "id": "ba8e5b49-5031-4c0a-b36f-f1195d872368",
   "metadata": {},
   "outputs": [
    {
     "name": "stdin",
     "output_type": "stream",
     "text": [
      "Enter the String:  MayurAmrute\n"
     ]
    },
    {
     "name": "stdout",
     "output_type": "stream",
     "text": [
      "MayurAmte\n"
     ]
    }
   ],
   "source": [
    "inString = input(\"Enter the String: \")\n",
    "result = \"\"\n",
    "for i in inString:\n",
    "    if i not in result:\n",
    "        result += i\n",
    "\n",
    "print(result)"
   ]
  },
  {
   "cell_type": "markdown",
   "id": "e790145c-8fff-4b7d-b3b1-be639ed13d75",
   "metadata": {},
   "source": [
    "##  Practice"
   ]
  },
  {
   "cell_type": "code",
   "execution_count": 2,
   "id": "a320132e-d800-45d0-bcfc-4dfab08a57bc",
   "metadata": {},
   "outputs": [
    {
     "name": "stdin",
     "output_type": "stream",
     "text": [
      "Enter mailId:  pankajW@123\n"
     ]
    },
    {
     "name": "stdout",
     "output_type": "stream",
     "text": [
      "pankajW\n"
     ]
    }
   ],
   "source": [
    "# find username\n",
    "\n",
    "mailID = input(\"Enter mailId: \")\n",
    "\n",
    "pos = mailID.index('@')\n",
    "\n",
    "username = mailID[0:pos]\n",
    "print(username)"
   ]
  },
  {
   "cell_type": "code",
   "execution_count": 6,
   "id": "f644fbfc-9ee2-4f3f-805c-bed7525dad79",
   "metadata": {},
   "outputs": [
    {
     "name": "stdin",
     "output_type": "stream",
     "text": [
      "Check pallindrom:  mayur\n"
     ]
    },
    {
     "name": "stdout",
     "output_type": "stream",
     "text": [
      "NOT PALLINDROM\n"
     ]
    }
   ],
   "source": [
    "# pallindrom\n",
    "pallStr = input(\"Check pallindrom: \")\n",
    "\n",
    "for i in range(0,len(pallStr)//2):\n",
    "    if pallStr[i] != pallStr[len(pallStr)-1-i]:\n",
    "        print('NOT PALLINDROM')\n",
    "        break\n",
    "else: \n",
    "    print('Pallindrom')"
   ]
  },
  {
   "cell_type": "code",
   "execution_count": 10,
   "id": "28b69c87-7f9c-4d8f-b681-277c35cff4db",
   "metadata": {},
   "outputs": [
    {
     "name": "stdin",
     "output_type": "stream",
     "text": [
      "Enter the string:  Mayur\n"
     ]
    },
    {
     "data": {
      "text/plain": [
       "1"
      ]
     },
     "execution_count": 10,
     "metadata": {},
     "output_type": "execute_result"
    }
   ],
   "source": [
    "# count the nmber of words in string\n",
    "\n",
    "string = input(\"Enter the string: \")\n",
    "\n",
    "def count_words(string):\n",
    "    if string != \"\":\n",
    "        count = 1\n",
    "        for i in string:\n",
    "            if i ==' ':\n",
    "                count +=1\n",
    "        return count\n",
    "    else:\n",
    "        print(\"Empty String\")\n",
    "\n",
    "count_words(string)"
   ]
  },
  {
   "cell_type": "code",
   "execution_count": 19,
   "id": "127213cc-0c07-470d-ac13-60a3047fb628",
   "metadata": {},
   "outputs": [
    {
     "name": "stdin",
     "output_type": "stream",
     "text": [
      "Enter string:  my name is mayur armrute\n"
     ]
    },
    {
     "name": "stdout",
     "output_type": "stream",
     "text": [
      "My Name Is Mayur Armrute\n"
     ]
    }
   ],
   "source": [
    "# convert string into title case without title()\n",
    "\n",
    "string = input(\"Enter string: \")\n",
    "l = []\n",
    "for i in string.split():\n",
    "    l.append(i[0].upper()+i[1:].lower())\n",
    "\n",
    "print(' '.join(l))\n"
   ]
  },
  {
   "cell_type": "raw",
   "id": "fde4e027-c7b9-4332-b7e7-3363f515b839",
   "metadata": {},
   "source": [
    "5  4  3  2  1  \n",
    "4  3  2  1  \n",
    "3  2  1  \n",
    "2  1  \n",
    "1 "
   ]
  },
  {
   "cell_type": "code",
   "execution_count": 22,
   "id": "08c30f23-2084-4f78-94b3-3874185dc962",
   "metadata": {},
   "outputs": [
    {
     "name": "stdout",
     "output_type": "stream",
     "text": [
      "5 4 3 2 1 \n",
      "4 3 2 1 \n",
      "3 2 1 \n",
      "2 1 \n",
      "1 \n"
     ]
    }
   ],
   "source": [
    "for i in range(5,0,-1):\n",
    "    for j in range(i,0,-1):\n",
    "        print(j, end=' ')\n",
    "    print()"
   ]
  },
  {
   "cell_type": "raw",
   "id": "55384db4-7a8b-43d8-bb26-d00c529e3479",
   "metadata": {},
   "source": [
    "* \n",
    "* * \n",
    "* * * \n",
    "* * * * \n",
    "* * * * * \n",
    "* * * * \n",
    "* * * \n",
    "* * \n",
    "* "
   ]
  },
  {
   "cell_type": "code",
   "execution_count": 12,
   "id": "16430902-a435-460a-a9a2-eb8965a39bf6",
   "metadata": {},
   "outputs": [
    {
     "name": "stdin",
     "output_type": "stream",
     "text": [
      "Enter the number of rows:  5\n"
     ]
    },
    {
     "name": "stdout",
     "output_type": "stream",
     "text": [
      "\n",
      "* \n",
      "* * \n",
      "* * * \n",
      "* * * * \n",
      "* * * * * \n",
      "* * * * \n",
      "* * * \n",
      "* * \n",
      "* \n"
     ]
    }
   ],
   "source": [
    "rows = int(input(\"Enter the number of rows: \"))\n",
    "for row in range(2*rows):\n",
    "    if row<n:\n",
    "        T_cols = row\n",
    "    else:\n",
    "        T_cols = 2*rows - row\n",
    "    for col in range(T_cols):\n",
    "        print(\"* \", end='')\n",
    "    print()\n",
    " "
   ]
  },
  {
   "cell_type": "raw",
   "id": "a92e3945-e8c8-4c77-bade-dd5fa1600a79",
   "metadata": {},
   "source": [
    "    * \n",
    "   * * \n",
    "  * * * \n",
    " * * * * \n",
    "* * * * * \n",
    " * * * * \n",
    "  * * * \n",
    "   * * \n",
    "    *"
   ]
  },
  {
   "cell_type": "code",
   "execution_count": 20,
   "id": "8956193c-6627-48ca-b145-25b0e6d2fd36",
   "metadata": {},
   "outputs": [
    {
     "name": "stdin",
     "output_type": "stream",
     "text": [
      "Enter the number of rows:  6\n"
     ]
    },
    {
     "name": "stdout",
     "output_type": "stream",
     "text": [
      "      \n",
      "     * \n",
      "    * * \n",
      "   * * * \n",
      "  * * * * \n",
      " * * * * * \n",
      "* * * * * * \n",
      " * * * * * \n",
      "  * * * * \n",
      "   * * * \n",
      "    * * \n",
      "     * \n"
     ]
    }
   ],
   "source": [
    "rows = int(input(\"Enter the number of rows: \"))\n",
    "\n",
    "for row in range(2*rows):\n",
    "    if row < rows:\n",
    "        T_cols = row\n",
    "    else:\n",
    "        T_cols = 2*rows - row\n",
    "    numSpace = rows - T_cols\n",
    "    for S in range(numSpace):\n",
    "        print(\" \", end=\"\")\n",
    "    for i in range(T_cols):\n",
    "        print(\"* \", end='')\n",
    "\n",
    "    print()"
   ]
  },
  {
   "cell_type": "code",
   "execution_count": 23,
   "id": "68137a44-9b19-405e-b54b-2a56fe50c64f",
   "metadata": {},
   "outputs": [
    {
     "name": "stdin",
     "output_type": "stream",
     "text": [
      "Enter the nth term:  5\n"
     ]
    },
    {
     "name": "stdout",
     "output_type": "stream",
     "text": [
      "24690\n"
     ]
    }
   ],
   "source": [
    "# 2+22+222+2222+22222 find summetion of nth term\n",
    "\n",
    "nth_term = int(input(\"Enter the nth term: \"))\n",
    "addition = 0\n",
    "curr = 0\n",
    "for i in range(nth_term):\n",
    "    curr = curr * 10 +2\n",
    "    addition += curr\n",
    "\n",
    "print(addition)\n",
    "\n",
    "# addition += addition * 10 +2"
   ]
  },
  {
   "cell_type": "code",
   "execution_count": 28,
   "id": "dd0dab17-b12c-4aa8-8fb9-ee74ca2d94f7",
   "metadata": {},
   "outputs": [
    {
     "name": "stdout",
     "output_type": "stream",
     "text": [
      "1 2 3 4\n",
      "1 2 4 3\n",
      "1 3 2 4\n",
      "1 3 4 2\n",
      "1 4 2 3\n",
      "1 4 3 2\n",
      "2 1 3 4\n",
      "2 1 4 3\n",
      "2 3 1 4\n",
      "2 3 4 1\n",
      "2 4 1 3\n",
      "2 4 3 1\n",
      "3 1 2 4\n",
      "3 1 4 2\n",
      "3 2 1 4\n",
      "3 2 4 1\n",
      "3 4 1 2\n",
      "3 4 2 1\n",
      "4 1 2 3\n",
      "4 1 3 2\n",
      "4 2 1 3\n",
      "4 2 3 1\n",
      "4 3 1 2\n",
      "4 3 2 1\n"
     ]
    }
   ],
   "source": [
    "# permutation and combination[1,2,3,4]\n",
    "import itertools\n",
    "\n",
    "numbers = [1,2,3,4]\n",
    "\n",
    "permutations = itertools.permutations(numbers)\n",
    "\n",
    "for perm in permutations:\n",
    "    print(' '.join(map(str, perm)))\n",
    "\n"
   ]
  },
  {
   "cell_type": "code",
   "execution_count": 33,
   "id": "936b31a1-924c-4309-8e87-a70257e97048",
   "metadata": {},
   "outputs": [
    {
     "name": "stdout",
     "output_type": "stream",
     "text": [
      "<class 'dict'>\n"
     ]
    }
   ],
   "source": [
    "dict1 = {1:2,3:4,5:6}\n",
    "print(type(dict1))"
   ]
  },
  {
   "cell_type": "code",
   "execution_count": null,
   "id": "60109b6f-b75e-4674-89ca-9e6d0f4f9a94",
   "metadata": {},
   "outputs": [],
   "source": []
  }
 ],
 "metadata": {
  "kernelspec": {
   "display_name": "Python 3 (ipykernel)",
   "language": "python",
   "name": "python3"
  },
  "language_info": {
   "codemirror_mode": {
    "name": "ipython",
    "version": 3
   },
   "file_extension": ".py",
   "mimetype": "text/x-python",
   "name": "python",
   "nbconvert_exporter": "python",
   "pygments_lexer": "ipython3",
   "version": "3.12.5"
  }
 },
 "nbformat": 4,
 "nbformat_minor": 5
}
