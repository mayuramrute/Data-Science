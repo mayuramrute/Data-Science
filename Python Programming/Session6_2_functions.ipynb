{
 "cells": [
  {
   "cell_type": "code",
   "execution_count": 1,
   "id": "033e8735-c3dc-4d1c-8ce8-692d9fdc9559",
   "metadata": {},
   "outputs": [],
   "source": [
    "def multip(a,b):\n",
    "    return a*b"
   ]
  },
  {
   "cell_type": "code",
   "execution_count": 2,
   "id": "5b8b6699-c3be-4257-a399-3553da317b6b",
   "metadata": {},
   "outputs": [
    {
     "data": {
      "text/plain": [
       "20"
      ]
     },
     "execution_count": 2,
     "metadata": {},
     "output_type": "execute_result"
    }
   ],
   "source": [
    "multip(4,5)"
   ]
  },
  {
   "cell_type": "code",
   "execution_count": 7,
   "id": "47190962-50da-4cb3-8bae-ad06e4f65712",
   "metadata": {},
   "outputs": [],
   "source": [
    "def add(a,b,c=1): #c=1 is a default argument\n",
    "    return a+b+c"
   ]
  },
  {
   "cell_type": "code",
   "execution_count": 9,
   "id": "a00300e1-0831-4669-a48c-61166c062f55",
   "metadata": {},
   "outputs": [
    {
     "data": {
      "text/plain": [
       "9"
      ]
     },
     "execution_count": 9,
     "metadata": {},
     "output_type": "execute_result"
    }
   ],
   "source": [
    "add(1,2,6)"
   ]
  },
  {
   "cell_type": "markdown",
   "id": "e5af4110-3cc9-4827-a628-707b913268c5",
   "metadata": {},
   "source": [
    "## keyword argument\n",
    "### we can directly assign the value to the calling parameter Keywords irrespective of their position"
   ]
  },
  {
   "cell_type": "code",
   "execution_count": 10,
   "id": "e7bedc27-1ada-43e4-87e4-8fe53050e786",
   "metadata": {},
   "outputs": [],
   "source": [
    "def power(a,b):\n",
    "    return a**b"
   ]
  },
  {
   "cell_type": "code",
   "execution_count": 11,
   "id": "8cb782e2-2cb2-4c74-bc2f-f1ed8927de6d",
   "metadata": {},
   "outputs": [
    {
     "data": {
      "text/plain": [
       "8"
      ]
     },
     "execution_count": 11,
     "metadata": {},
     "output_type": "execute_result"
    }
   ],
   "source": [
    "power(b=3, a=2)  # 2 is assign to the first parameter only as per the variable name"
   ]
  },
  {
   "cell_type": "markdown",
   "id": "5057f76e-5c84-4cd8-857c-e64954a731da",
   "metadata": {},
   "source": [
    "## *args & **kwargs"
   ]
  },
  {
   "cell_type": "markdown",
   "id": "333b8b1d-b4b7-440a-889f-df66f2b99d97",
   "metadata": {},
   "source": [
    "### *args is use when we dont know the number of argument user pass during calling function"
   ]
  },
  {
   "cell_type": "code",
   "execution_count": 12,
   "id": "73382cea-2a5c-4026-8c00-d6d89d9e0e36",
   "metadata": {},
   "outputs": [],
   "source": [
    "def mul(*args):  # we can pass any number of arguments in *args \n",
    "    result = 1\n",
    "    for i in args:\n",
    "        result *= i\n",
    "    return result"
   ]
  },
  {
   "cell_type": "code",
   "execution_count": 13,
   "id": "6ee7d7c1-f1b8-4a00-862a-6577d1dca26f",
   "metadata": {},
   "outputs": [
    {
     "data": {
      "text/plain": [
       "20"
      ]
     },
     "execution_count": 13,
     "metadata": {},
     "output_type": "execute_result"
    }
   ],
   "source": [
    "mul(4,5)"
   ]
  },
  {
   "cell_type": "code",
   "execution_count": 14,
   "id": "b67b455c-2f25-429f-b962-fe847921c63a",
   "metadata": {},
   "outputs": [
    {
     "data": {
      "text/plain": [
       "24"
      ]
     },
     "execution_count": 14,
     "metadata": {},
     "output_type": "execute_result"
    }
   ],
   "source": [
    "mul(1,2,3,4)"
   ]
  },
  {
   "cell_type": "markdown",
   "id": "b594720d-f0ab-482b-b2bc-23c28f8e88d4",
   "metadata": {},
   "source": [
    "## **kwargs\n",
    "### allows to pass any number of keywoord arguments. keyword arguments meance we can pass key value pair in the argument list"
   ]
  },
  {
   "cell_type": "code",
   "execution_count": 2,
   "id": "470e2bc1-9e20-42f9-a7f1-9ba9d4a5a1dc",
   "metadata": {},
   "outputs": [],
   "source": [
    "def display(**kwargs):\n",
    "    for key, value in kwargs.items():\n",
    "        print(key, '-->', value)"
   ]
  },
  {
   "cell_type": "code",
   "execution_count": 5,
   "id": "ac7f946b-4c3a-4c2a-b3f4-37df770a66f7",
   "metadata": {},
   "outputs": [
    {
     "name": "stdout",
     "output_type": "stream",
     "text": [
      "India --> Delhi\n",
      "Nepal --> Kathmandu\n",
      "shrilanka --> columbo\n"
     ]
    }
   ],
   "source": [
    "display(India=\"Delhi\", Nepal=\"Kathmandu\",shrilanka='columbo')"
   ]
  },
  {
   "cell_type": "markdown",
   "id": "9a47e7d3-3a60-4ef4-bd78-273c1940e959",
   "metadata": {},
   "source": [
    "# Lambda Function\n",
    "#### it is small anonymous one expression function"
   ]
  },
  {
   "cell_type": "code",
   "execution_count": 2,
   "id": "32f6ced4-fedd-46ba-9297-cf87e2a020ce",
   "metadata": {},
   "outputs": [],
   "source": [
    "z = lambda a,b:a+b"
   ]
  },
  {
   "cell_type": "code",
   "execution_count": 3,
   "id": "e49b3a46-9367-4743-bcd9-f51daab17ef9",
   "metadata": {},
   "outputs": [
    {
     "data": {
      "text/plain": [
       "3"
      ]
     },
     "execution_count": 3,
     "metadata": {},
     "output_type": "execute_result"
    }
   ],
   "source": [
    "z(1,2)"
   ]
  },
  {
   "cell_type": "code",
   "execution_count": 4,
   "id": "87e9ce87-273b-4ae6-867a-06e13836e3ff",
   "metadata": {},
   "outputs": [],
   "source": [
    "l = [1,2,3,4,5]"
   ]
  },
  {
   "cell_type": "code",
   "execution_count": 5,
   "id": "5771028a-8d50-4f7e-8bbe-ae4973f81ecf",
   "metadata": {},
   "outputs": [],
   "source": [
    "a = lambda x: x in l"
   ]
  },
  {
   "cell_type": "code",
   "execution_count": 6,
   "id": "2304f315-7e77-47a7-a8f6-6548cf45f41d",
   "metadata": {},
   "outputs": [
    {
     "data": {
      "text/plain": [
       "True"
      ]
     },
     "execution_count": 6,
     "metadata": {},
     "output_type": "execute_result"
    }
   ],
   "source": [
    "a(2)"
   ]
  },
  {
   "cell_type": "code",
   "execution_count": 7,
   "id": "aa243852-2348-4e0b-a853-511c4bec57fa",
   "metadata": {},
   "outputs": [],
   "source": [
    " eo = lambda a: 'even' if a%2==0 else 'odd'"
   ]
  },
  {
   "cell_type": "code",
   "execution_count": 8,
   "id": "df3707be-7484-4ce9-bf64-a70b76f4f381",
   "metadata": {},
   "outputs": [
    {
     "data": {
      "text/plain": [
       "'even'"
      ]
     },
     "execution_count": 8,
     "metadata": {},
     "output_type": "execute_result"
    }
   ],
   "source": [
    "eo(2)"
   ]
  },
  {
   "cell_type": "code",
   "execution_count": 9,
   "id": "ee150115-5c96-464f-a2d2-b23fa67ddb78",
   "metadata": {},
   "outputs": [
    {
     "data": {
      "text/plain": [
       "'odd'"
      ]
     },
     "execution_count": 9,
     "metadata": {},
     "output_type": "execute_result"
    }
   ],
   "source": [
    "eo(2445)"
   ]
  },
  {
   "cell_type": "code",
   "execution_count": 11,
   "id": "e1a5abfb-3506-4757-b9e3-c4cf6147fdf3",
   "metadata": {},
   "outputs": [
    {
     "ename": "SyntaxError",
     "evalue": "invalid syntax (4259887767.py, line 1)",
     "output_type": "error",
     "traceback": [
      "\u001b[1;36m  Cell \u001b[1;32mIn[11], line 1\u001b[1;36m\u001b[0m\n\u001b[1;33m    lambda a: if a%2==0 'even' else 'odd'\u001b[0m\n\u001b[1;37m              ^\u001b[0m\n\u001b[1;31mSyntaxError\u001b[0m\u001b[1;31m:\u001b[0m invalid syntax\n"
     ]
    }
   ],
   "source": [
    "lambda a: if a%2==0 'even' else 'odd' # wrong approch"
   ]
  },
  {
   "cell_type": "code",
   "execution_count": 15,
   "id": "33f4695a-b677-4d34-a69b-ad1f0ac5e3b6",
   "metadata": {},
   "outputs": [
    {
     "data": {
      "text/plain": [
       "225"
      ]
     },
     "execution_count": 15,
     "metadata": {},
     "output_type": "execute_result"
    }
   ],
   "source": [
    "(lambda a: a**2)(15)"
   ]
  },
  {
   "cell_type": "code",
   "execution_count": 21,
   "id": "8d529541-0474-40b4-b5d0-47d2d8b04284",
   "metadata": {},
   "outputs": [
    {
     "data": {
      "text/plain": [
       "'11.33'"
      ]
     },
     "execution_count": 21,
     "metadata": {},
     "output_type": "execute_result"
    }
   ],
   "source": [
    "import statistics\n",
    "\n",
    "mea = lambda a,b,c=10 : str(round(statistics.mean((a,b,c)),2)) # c=10 is the default argument \n",
    "\n",
    "mea(1,23)"
   ]
  },
  {
   "cell_type": "code",
   "execution_count": 26,
   "id": "0bc4cbf6-ad1a-4ce6-8682-1c63447cb80b",
   "metadata": {},
   "outputs": [
    {
     "name": "stdout",
     "output_type": "stream",
     "text": [
      "[1, 4, 9, 16, 25, 36, 49]\n"
     ]
    },
    {
     "data": {
      "text/plain": [
       "[1, 4, 9, 16, 25, 36, 49]"
      ]
     },
     "execution_count": 26,
     "metadata": {},
     "output_type": "execute_result"
    }
   ],
   "source": [
    "a = [1,2,3,4,5,6,7]\n",
    "\n",
    "print((lambda a:[i**2 for i in a])(a))\n",
    "s = lambda a:[i**2 for i in a]\n",
    "s(a)"
   ]
  },
  {
   "cell_type": "code",
   "execution_count": 27,
   "id": "2b92a927-894c-4ac1-b1e1-f22233290115",
   "metadata": {},
   "outputs": [],
   "source": [
    "##################################\n",
    "s = lambda a:[i**2 for i in a if i%2==0]"
   ]
  },
  {
   "cell_type": "code",
   "execution_count": 28,
   "id": "80846130-5383-47e4-81fc-4a469a189d18",
   "metadata": {},
   "outputs": [
    {
     "data": {
      "text/plain": [
       "[36, 64]"
      ]
     },
     "execution_count": 28,
     "metadata": {},
     "output_type": "execute_result"
    }
   ],
   "source": [
    "s([6,7,8,9])"
   ]
  },
  {
   "cell_type": "code",
   "execution_count": 30,
   "id": "9f4ed2a2-b49d-46cc-9f76-6c77b953d81d",
   "metadata": {},
   "outputs": [],
   "source": [
    "#################################\n",
    "grt = lambda a,b:print(f'{a} is greater') if a>b else print(f'{b} greater')"
   ]
  },
  {
   "cell_type": "code",
   "execution_count": 32,
   "id": "eeb6fb4c-0b20-47a1-a21c-765dcb714c37",
   "metadata": {},
   "outputs": [
    {
     "name": "stdout",
     "output_type": "stream",
     "text": [
      "77 is greater\n"
     ]
    }
   ],
   "source": [
    "grt(77,8)"
   ]
  },
  {
   "cell_type": "code",
   "execution_count": 35,
   "id": "39211134-342a-4fd4-a1ce-3651d10dea13",
   "metadata": {},
   "outputs": [
    {
     "data": {
      "text/plain": [
       "[250, 375, 500]"
      ]
     },
     "execution_count": 35,
     "metadata": {},
     "output_type": "execute_result"
    }
   ],
   "source": [
    "#################################### function call within lambda function \n",
    "def mul(a,b):\n",
    "    return a*b\n",
    "    \n",
    "g = lambda a,b,c:[(mul(a,b)-(a+b))*i for i in c]\n",
    "\n",
    "g(10,15,[2,3,4])"
   ]
  },
  {
   "cell_type": "code",
   "execution_count": 36,
   "id": "1b0cfc50-0368-4743-8b31-1746e7662b82",
   "metadata": {},
   "outputs": [
    {
     "data": {
      "text/plain": [
       "[4, 16]"
      ]
     },
     "execution_count": 36,
     "metadata": {},
     "output_type": "execute_result"
    }
   ],
   "source": [
    "################################### using kwargs with lambda\n",
    "\n",
    "dictL =lambda **kwargs:[i**2 for i in kwargs.values()]\n",
    "\n",
    "dictL(a=2,b=4)"
   ]
  },
  {
   "cell_type": "markdown",
   "id": "63d2417e-31e4-42dd-a406-c635a7c64d9e",
   "metadata": {},
   "source": [
    "# Higher ordere function\n",
    "##### the function which accespts another function as an argument call as higher order function "
   ]
  },
  {
   "cell_type": "code",
   "execution_count": 45,
   "id": "7eda1525-db7f-4218-b626-05c254fe8937",
   "metadata": {},
   "outputs": [
    {
     "data": {
      "text/plain": [
       "[1, 8, 27, 64]"
      ]
     },
     "execution_count": 45,
     "metadata": {},
     "output_type": "execute_result"
    }
   ],
   "source": [
    "L = [1,2,3,4]\n",
    "\n",
    "def squ(x):\n",
    "    return x**2\n",
    "\n",
    "def cube(x):\n",
    "    return x**3\n",
    "\n",
    "\n",
    "def transform(f,L):\n",
    "    output=[]\n",
    "    for i in L:\n",
    "        output.append(cube(i))\n",
    "\n",
    "    return output\n",
    "\n",
    "transform(cube,L)"
   ]
  },
  {
   "cell_type": "markdown",
   "id": "e90235bf-c453-4246-ba88-7c26967327e8",
   "metadata": {},
   "source": [
    "### map() filter()"
   ]
  },
  {
   "cell_type": "code",
   "execution_count": 47,
   "id": "d08102e6-921e-451a-b3e6-94d3c5338ad2",
   "metadata": {},
   "outputs": [
    {
     "data": {
      "text/plain": [
       "[False, True, False, True, False, True]"
      ]
     },
     "execution_count": 47,
     "metadata": {},
     "output_type": "execute_result"
    }
   ],
   "source": [
    "# check the condition\n",
    "list(map(lambda a:a%2==0, [1,2,3,4,5,6]))  # map function check if the value is even or odd and give output in the form of T or F"
   ]
  },
  {
   "cell_type": "code",
   "execution_count": 48,
   "id": "af7f4260-959c-4839-be70-41820362af04",
   "metadata": {},
   "outputs": [
    {
     "data": {
      "text/plain": [
       "[2, 4, 6]"
      ]
     },
     "execution_count": 48,
     "metadata": {},
     "output_type": "execute_result"
    }
   ],
   "source": [
    "# perform operation and give actual output\n",
    "list(filter(lambda a:a%2==0, [1,2,3,4,5,6]))"
   ]
  },
  {
   "cell_type": "code",
   "execution_count": 49,
   "id": "c07e7b71-468c-412e-ac75-2dab27a33d22",
   "metadata": {},
   "outputs": [
    {
     "data": {
      "text/plain": [
       "(1, 4, 9, 16, 25, 36)"
      ]
     },
     "execution_count": 49,
     "metadata": {},
     "output_type": "execute_result"
    }
   ],
   "source": [
    "tuple(map(lambda x : x**2, [1,2,3,4,5,6]))"
   ]
  },
  {
   "cell_type": "code",
   "execution_count": 52,
   "id": "330b9970-f1d4-4ee0-bf97-ded6f69cbd5c",
   "metadata": {},
   "outputs": [
    {
     "data": {
      "text/plain": [
       "[True, True, False, False, False, True, False]"
      ]
     },
     "execution_count": 52,
     "metadata": {},
     "output_type": "execute_result"
    }
   ],
   "source": [
    "l1 = ['Sunday','Monday','Tuesday','Wednesday','thrusday','friday','Saturday']\n",
    "\n",
    "list(map(lambda x:len(x)==6,l1)) # give boolean values are return"
   ]
  },
  {
   "cell_type": "code",
   "execution_count": 53,
   "id": "50ab2992-12fa-4e4d-98fe-0c26fddd033d",
   "metadata": {},
   "outputs": [
    {
     "data": {
      "text/plain": [
       "['Sunday', 'Monday', 'friday']"
      ]
     },
     "execution_count": 53,
     "metadata": {},
     "output_type": "execute_result"
    }
   ],
   "source": [
    "list(filter(lambda x:len(x)==6,l1))  # gives actual values  "
   ]
  },
  {
   "cell_type": "code",
   "execution_count": 56,
   "id": "b5e0280d-60ca-49d6-9f74-1b27cfc7ec93",
   "metadata": {},
   "outputs": [
    {
     "data": {
      "text/plain": [
       "['Sunday', 'Monday', 'Tuesday', 'Wednesday', 'thrusday', 'friday', 'Saturday']"
      ]
     },
     "execution_count": 56,
     "metadata": {},
     "output_type": "execute_result"
    }
   ],
   "source": [
    "list(filter(lambda x:x.lower(),l1))"
   ]
  },
  {
   "cell_type": "code",
   "execution_count": 57,
   "id": "0d427084-b011-4688-92e8-7928b972cc88",
   "metadata": {},
   "outputs": [
    {
     "data": {
      "text/plain": [
       "['sunday', 'monday', 'tuesday', 'wednesday', 'thrusday', 'friday', 'saturday']"
      ]
     },
     "execution_count": 57,
     "metadata": {},
     "output_type": "execute_result"
    }
   ],
   "source": [
    "list(map(lambda x:x.lower(),l1))"
   ]
  },
  {
   "cell_type": "raw",
   "id": "68eaebd4-13a6-413b-bca7-0a3fc5c6ce2e",
   "metadata": {},
   "source": [
    "map & filter both can work on condition but only map works on operation, filter does not!\n",
    "\n",
    "if it is a condition then map will return True & False while filter will return the actual values that satisfies the condition as True\n",
    "if it is a operation then map will return the outcome whereas filter will not do anything, basically it will return the iterable as it is."
   ]
  },
  {
   "cell_type": "code",
   "execution_count": null,
   "id": "8e391971-7285-4850-9d3f-b223f0cf096f",
   "metadata": {},
   "outputs": [],
   "source": []
  }
 ],
 "metadata": {
  "kernelspec": {
   "display_name": "Python 3 (ipykernel)",
   "language": "python",
   "name": "python3"
  },
  "language_info": {
   "codemirror_mode": {
    "name": "ipython",
    "version": 3
   },
   "file_extension": ".py",
   "mimetype": "text/x-python",
   "name": "python",
   "nbconvert_exporter": "python",
   "pygments_lexer": "ipython3",
   "version": "3.12.5"
  }
 },
 "nbformat": 4,
 "nbformat_minor": 5
}
