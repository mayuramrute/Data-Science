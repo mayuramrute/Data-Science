{
 "cells": [
  {
   "cell_type": "code",
   "execution_count": 24,
   "id": "564f7956-a978-4bc6-8498-633cdaab86d3",
   "metadata": {},
   "outputs": [],
   "source": [
    "l=[3,5,7,2,4,8]"
   ]
  },
  {
   "cell_type": "code",
   "execution_count": 2,
   "id": "74d41db2-ca7f-40d2-a768-29ffd795925d",
   "metadata": {},
   "outputs": [
    {
     "data": {
      "text/plain": [
       "[3, 5, 7, 2, 4, 8]"
      ]
     },
     "execution_count": 2,
     "metadata": {},
     "output_type": "execute_result"
    }
   ],
   "source": [
    "l"
   ]
  },
  {
   "cell_type": "code",
   "execution_count": 4,
   "id": "06da5ade-67b9-4ed4-9f3f-130c5bfe246b",
   "metadata": {},
   "outputs": [
    {
     "data": {
      "text/plain": [
       "[8, 7, 5, 4, 3, 2]"
      ]
     },
     "execution_count": 4,
     "metadata": {},
     "output_type": "execute_result"
    }
   ],
   "source": [
    "sorted(l, reverse =True)  # sort the list"
   ]
  },
  {
   "cell_type": "code",
   "execution_count": 5,
   "id": "a2a67cd2-8659-4fd4-8675-d1510535e36e",
   "metadata": {},
   "outputs": [],
   "source": [
    "l.sort()  # inplace sort in moemory"
   ]
  },
  {
   "cell_type": "code",
   "execution_count": 6,
   "id": "c5d721ef-7426-43d2-a00e-b5e367101a05",
   "metadata": {},
   "outputs": [
    {
     "data": {
      "text/plain": [
       "[2, 3, 4, 5, 7, 8]"
      ]
     },
     "execution_count": 6,
     "metadata": {},
     "output_type": "execute_result"
    }
   ],
   "source": [
    "l"
   ]
  },
  {
   "cell_type": "code",
   "execution_count": 8,
   "id": "679866f7-d38c-47b2-83f7-40f1cc1186e6",
   "metadata": {},
   "outputs": [
    {
     "data": {
      "text/plain": [
       "3"
      ]
     },
     "execution_count": 8,
     "metadata": {},
     "output_type": "execute_result"
    }
   ],
   "source": [
    "l.index(5)  # give the index numeber of item"
   ]
  },
  {
   "cell_type": "code",
   "execution_count": 10,
   "id": "932339d8-d9ee-41af-8a52-167270bc9f9e",
   "metadata": {},
   "outputs": [
    {
     "data": {
      "text/plain": [
       "1"
      ]
     },
     "execution_count": 10,
     "metadata": {},
     "output_type": "execute_result"
    }
   ],
   "source": [
    "l.count(7) # this gives the count of item in the list"
   ]
  },
  {
   "cell_type": "code",
   "execution_count": 16,
   "id": "74af3723-268f-4498-8834-ef7ac9871ac9",
   "metadata": {},
   "outputs": [],
   "source": [
    "l1 = l.copy()"
   ]
  },
  {
   "cell_type": "code",
   "execution_count": 17,
   "id": "b436f687-98b1-409c-85a9-d852ef688c4a",
   "metadata": {},
   "outputs": [
    {
     "data": {
      "text/plain": [
       "[3, 5, 7, 2, 4, 8]"
      ]
     },
     "execution_count": 17,
     "metadata": {},
     "output_type": "execute_result"
    }
   ],
   "source": [
    "l1"
   ]
  },
  {
   "cell_type": "code",
   "execution_count": 18,
   "id": "cf212ff3-5217-4648-ad73-198f1eadf8b3",
   "metadata": {},
   "outputs": [],
   "source": [
    "l1[1]=1000"
   ]
  },
  {
   "cell_type": "code",
   "execution_count": 19,
   "id": "fc47ad23-a9a9-4472-837e-1a02cfe93b68",
   "metadata": {},
   "outputs": [
    {
     "data": {
      "text/plain": [
       "[3, 1000, 7, 2, 4, 8]"
      ]
     },
     "execution_count": 19,
     "metadata": {},
     "output_type": "execute_result"
    }
   ],
   "source": [
    "l1"
   ]
  },
  {
   "cell_type": "code",
   "execution_count": 20,
   "id": "3eb97cbf-8d6e-47ab-bb2d-e83fcbb88e42",
   "metadata": {},
   "outputs": [
    {
     "data": {
      "text/plain": [
       "[3, 5, 7, 2, 4, 8]"
      ]
     },
     "execution_count": 20,
     "metadata": {},
     "output_type": "execute_result"
    }
   ],
   "source": [
    "l"
   ]
  },
  {
   "cell_type": "code",
   "execution_count": 22,
   "id": "eff92630-c4fe-409f-93b7-4ab0411cf41f",
   "metadata": {},
   "outputs": [],
   "source": [
    "l.reverse()  # inplace function"
   ]
  },
  {
   "cell_type": "code",
   "execution_count": 23,
   "id": "a185a9b8-de9d-4518-bf92-33e63a8b35a8",
   "metadata": {},
   "outputs": [
    {
     "data": {
      "text/plain": [
       "[8, 4, 2, 7, 5, 3]"
      ]
     },
     "execution_count": 23,
     "metadata": {},
     "output_type": "execute_result"
    }
   ],
   "source": [
    "l"
   ]
  },
  {
   "cell_type": "code",
   "execution_count": 25,
   "id": "8e2eba88-8bd6-471c-b3f4-3fab9600eb55",
   "metadata": {},
   "outputs": [],
   "source": [
    "# append()\n",
    "l.append(1900)"
   ]
  },
  {
   "cell_type": "code",
   "execution_count": 27,
   "id": "b0f06efe-2ba7-492b-921b-0f34fe9a0629",
   "metadata": {},
   "outputs": [
    {
     "data": {
      "text/plain": [
       "[3, 5, 7, 2, 4, 8, 1900]"
      ]
     },
     "execution_count": 27,
     "metadata": {},
     "output_type": "execute_result"
    }
   ],
   "source": [
    "l  # add at the end of the list"
   ]
  },
  {
   "cell_type": "code",
   "execution_count": 28,
   "id": "d0a10330-2c0f-4174-a691-d87c8fda8886",
   "metadata": {},
   "outputs": [],
   "source": [
    "# list comprehension\n",
    "l = [i for i in range(1,11)]"
   ]
  },
  {
   "cell_type": "code",
   "execution_count": 29,
   "id": "f69226d0-41cc-4727-aec0-6f767b83e77f",
   "metadata": {},
   "outputs": [
    {
     "data": {
      "text/plain": [
       "[1, 2, 3, 4, 5, 6, 7, 8, 9, 10]"
      ]
     },
     "execution_count": 29,
     "metadata": {},
     "output_type": "execute_result"
    }
   ],
   "source": [
    "l"
   ]
  },
  {
   "cell_type": "code",
   "execution_count": 30,
   "id": "2e84b243-ecce-4ed1-90d0-4dc67e7db4dc",
   "metadata": {},
   "outputs": [
    {
     "data": {
      "text/plain": [
       "[1, 2, 3, 4, 5, 6, 7, 8, 9, 10, 11, 12, 13, 14, 15, 16, 17, 18]"
      ]
     },
     "execution_count": 30,
     "metadata": {},
     "output_type": "execute_result"
    }
   ],
   "source": [
    "[i for i in range(1,19)]"
   ]
  },
  {
   "cell_type": "code",
   "execution_count": 32,
   "id": "f306589e-d44a-4165-8ddc-3df263adb61a",
   "metadata": {},
   "outputs": [],
   "source": [
    "# vector multiplication\n",
    "l = [i for i in range(1,11)]"
   ]
  },
  {
   "cell_type": "code",
   "execution_count": 33,
   "id": "c8d6f86a-e656-4c3e-9bc6-92185828485d",
   "metadata": {
    "collapsed": true,
    "jupyter": {
     "outputs_hidden": true
    }
   },
   "outputs": [
    {
     "data": {
      "text/plain": [
       "[1,\n",
       " 2,\n",
       " 3,\n",
       " 4,\n",
       " 5,\n",
       " 6,\n",
       " 7,\n",
       " 8,\n",
       " 9,\n",
       " 10,\n",
       " 1,\n",
       " 2,\n",
       " 3,\n",
       " 4,\n",
       " 5,\n",
       " 6,\n",
       " 7,\n",
       " 8,\n",
       " 9,\n",
       " 10,\n",
       " 1,\n",
       " 2,\n",
       " 3,\n",
       " 4,\n",
       " 5,\n",
       " 6,\n",
       " 7,\n",
       " 8,\n",
       " 9,\n",
       " 10]"
      ]
     },
     "execution_count": 33,
     "metadata": {},
     "output_type": "execute_result"
    }
   ],
   "source": [
    "l*3  # this give the 3 time of the array"
   ]
  },
  {
   "cell_type": "code",
   "execution_count": 35,
   "id": "6cc7c0cc-f403-4e06-8af4-84f14849a426",
   "metadata": {},
   "outputs": [
    {
     "data": {
      "text/plain": [
       "[3, 6, 9, 12, 15, 18, 21, 24, 27, 30]"
      ]
     },
     "execution_count": 35,
     "metadata": {},
     "output_type": "execute_result"
    }
   ],
   "source": [
    "[i*3 for i in range(1,11)]   # multipling the item is teharray by 3 "
   ]
  },
  {
   "cell_type": "code",
   "execution_count": 36,
   "id": "9634b19f-63c3-4712-bdd4-b2dff3d2f671",
   "metadata": {},
   "outputs": [
    {
     "data": {
      "text/plain": [
       "[1, 4, 9, 16, 25]"
      ]
     },
     "execution_count": 36,
     "metadata": {},
     "output_type": "execute_result"
    }
   ],
   "source": [
    "[i**2 for i in range(1,6)]   # square of array using list comprehension"
   ]
  },
  {
   "cell_type": "code",
   "execution_count": 40,
   "id": "689e36d6-39a2-4198-90d2-c278dcba8024",
   "metadata": {},
   "outputs": [
    {
     "data": {
      "text/plain": [
       "[5, 10, 15, 20, 25, 30, 35, 40, 45, 50]"
      ]
     },
     "execution_count": 40,
     "metadata": {},
     "output_type": "execute_result"
    }
   ],
   "source": [
    "[i for i in range(1,51) if i%5==0]"
   ]
  },
  {
   "cell_type": "code",
   "execution_count": 41,
   "id": "962e0ccd-1352-42a3-b829-96ce01a2ace4",
   "metadata": {},
   "outputs": [
    {
     "name": "stdout",
     "output_type": "stream",
     "text": [
      "['apple', 'anana']\n"
     ]
    }
   ],
   "source": [
    "basket = ['apple', \"Gava\", 'cherry', \"anana\"]\n",
    "my_Fruits = ['apple', 'kiwi','Grephs','anana']\n",
    "result = []\n",
    "for i in basket:\n",
    "    if i in my_Fruits:\n",
    "        result.append(i)\n",
    "\n",
    "print(result)"
   ]
  },
  {
   "cell_type": "code",
   "execution_count": 42,
   "id": "de085f08-cf54-4763-90b5-d09de3443d00",
   "metadata": {},
   "outputs": [
    {
     "data": {
      "text/plain": [
       "['apple', 'anana']"
      ]
     },
     "execution_count": 42,
     "metadata": {},
     "output_type": "execute_result"
    }
   ],
   "source": [
    "[i for i in basket if i in my_Fruits]"
   ]
  },
  {
   "cell_type": "code",
   "execution_count": 43,
   "id": "193c4fca-226e-4a45-85de-0f874c78a3cf",
   "metadata": {},
   "outputs": [
    {
     "data": {
      "text/plain": [
       "['apple', 'anana']"
      ]
     },
     "execution_count": 43,
     "metadata": {},
     "output_type": "execute_result"
    }
   ],
   "source": [
    "[i for i in basket if i in my_Fruits if i.startswith('a')]"
   ]
  },
  {
   "cell_type": "code",
   "execution_count": 44,
   "id": "f94c0d18-49ce-441e-8ae0-0c8e706bf1e4",
   "metadata": {},
   "outputs": [
    {
     "data": {
      "text/plain": [
       "[[1, 2, 3], [2, 4, 6], [3, 6, 9]]"
      ]
     },
     "execution_count": 44,
     "metadata": {},
     "output_type": "execute_result"
    }
   ],
   "source": [
    "# 2D matrix\n",
    "# using list comprehension\n",
    "[[i*j for j in range(1,4)] for i in range(1,4)]"
   ]
  },
  {
   "cell_type": "code",
   "execution_count": 46,
   "id": "84f3aae0-ede7-4f76-830a-9aa135b15337",
   "metadata": {},
   "outputs": [
    {
     "data": {
      "text/plain": [
       "[5, 10, 15, 20, 6, 12, 18, 24, 7, 14, 21, 28, 8, 16, 24, 32]"
      ]
     },
     "execution_count": 46,
     "metadata": {},
     "output_type": "execute_result"
    }
   ],
   "source": [
    "# cartesion product\n",
    "l1=[1,2,3,4]\n",
    "l2=[5,6,7,8]\n",
    "[i*j for j in l2 for i in l1]  # here each item of l2 is get multiplied by l1"
   ]
  },
  {
   "cell_type": "code",
   "execution_count": 48,
   "id": "788c1256-2dcb-4437-bd72-04b1ae229a3a",
   "metadata": {},
   "outputs": [
    {
     "data": {
      "text/plain": [
       "[(1, 5), (2, 6), (3, 7), (4, 8)]"
      ]
     },
     "execution_count": 48,
     "metadata": {},
     "output_type": "execute_result"
    }
   ],
   "source": [
    "# zip()\n",
    "list(zip(l1,l2))"
   ]
  },
  {
   "cell_type": "code",
   "execution_count": 50,
   "id": "aa59b085-ecf8-4da2-ad28-5b506438cfd7",
   "metadata": {},
   "outputs": [
    {
     "data": {
      "text/plain": [
       "[(1, 5), (2, 6), (3, 7), (4, 8)]"
      ]
     },
     "execution_count": 50,
     "metadata": {},
     "output_type": "execute_result"
    }
   ],
   "source": [
    "# without using zip()\n",
    "\n",
    "result=[]\n",
    "for i in range(min(len(l1),len(l2))):\n",
    "    result.append((l1[i],l2[i]))\n",
    "\n",
    "result"
   ]
  },
  {
   "cell_type": "code",
   "execution_count": 62,
   "id": "0eea072e-b326-4588-aa4a-fc6a8d07d9c9",
   "metadata": {},
   "outputs": [
    {
     "name": "stdout",
     "output_type": "stream",
     "text": [
      "[(-1, 'a'), (-2, 'b'), (-3, 'c'), (-4, 'd'), (-5, 'e'), (-6, None), (-7, None), (-8, None)]\n"
     ]
    }
   ],
   "source": [
    "# for the list having the unequal length\n",
    "L2 = [-1,-2,-3,-4,-5,-6,-7,-8]\n",
    "L3 = ['a','b','c','d','e']\n",
    "result=[]\n",
    "max_len = max(len(L2),len(L3))   \n",
    "for i in range(max_len):\n",
    "    if i<len(L2) and i<len(L3):\n",
    "        result.append((L2[i],L3[i]))\n",
    "    elif i<len(L2):\n",
    "        result.append((L2[i],None))\n",
    "    elif i<len(L3):\n",
    "        result.append((None,L3[i]))\n",
    "        \n",
    "print(result) "
   ]
  },
  {
   "cell_type": "code",
   "execution_count": 63,
   "id": "e80e38c9-c78c-4944-a567-6ad9781c47a5",
   "metadata": {},
   "outputs": [
    {
     "data": {
      "text/plain": [
       "[('M', 'y'), ('na', 'me'), ('i', 's'), ('Kh', 'an')]"
      ]
     },
     "execution_count": 63,
     "metadata": {},
     "output_type": "execute_result"
    }
   ],
   "source": [
    "list1 = [\"M\", \"na\", \"i\", \"Kh\"]\n",
    "list2 = [\"y\", \"me\", \"s\", \"an\"]\n",
    "\n",
    "list(zip(list1,list2))"
   ]
  },
  {
   "cell_type": "code",
   "execution_count": 64,
   "id": "436bd7e1-2fc8-4f7e-af66-a353fbe3b74e",
   "metadata": {},
   "outputs": [],
   "source": [
    "list1 = [10, 20, [300, 400, [5000, 6000], 500], 30, 40]  # 7000 after 6000"
   ]
  },
  {
   "cell_type": "code",
   "execution_count": 67,
   "id": "671b4e8a-acd6-4dbc-9adf-e1ab155cce47",
   "metadata": {},
   "outputs": [],
   "source": [
    "list1[2][2].append(7000)"
   ]
  },
  {
   "cell_type": "code",
   "execution_count": 68,
   "id": "49545e7f-380f-43f4-82d5-33037b187910",
   "metadata": {},
   "outputs": [
    {
     "data": {
      "text/plain": [
       "[10, 20, [300, 400, [5000, 6000, 7000], 500], 30, 40]"
      ]
     },
     "execution_count": 68,
     "metadata": {},
     "output_type": "execute_result"
    }
   ],
   "source": [
    "list1"
   ]
  },
  {
   "cell_type": "code",
   "execution_count": 70,
   "id": "6c2ef932-df8a-42f5-934a-74b53fa5b82a",
   "metadata": {},
   "outputs": [
    {
     "name": "stdout",
     "output_type": "stream",
     "text": [
      "Jelly Belly - 10\n",
      "Kit Kat - 20\n",
      "Double Bubble - 34\n",
      "Milky Way - 74\n",
      "Three Musketeers - 32\n"
     ]
    }
   ],
   "source": [
    "candy_list = ['Jelly Belly','Kit Kat','Double Bubble','Milky Way','Three Musketeers']\n",
    "no_of_items = [10,20,34,74,32]\n",
    "\n",
    "for candy, count in zip(candy_list,no_of_items):\n",
    "    print(f'{candy} - {count}')"
   ]
  },
  {
   "cell_type": "code",
   "execution_count": 2,
   "id": "452f8e5a-535e-4524-bdd4-9699c3e628a2",
   "metadata": {},
   "outputs": [
    {
     "name": "stdout",
     "output_type": "stream",
     "text": [
      "[22, 20, 16, 10, 23]\n"
     ]
    }
   ],
   "source": [
    "list1 = [2,4,6,10,1]\n",
    "add=0\n",
    "result = []\n",
    "for i in range(len(list1)):\n",
    "    for j in range(len(list1)):\n",
    "        if list1[i]<list1[j]:\n",
    "            add += list1[j]\n",
    "    add += list1[i]\n",
    "    result.append(add)\n",
    "    add=0\n",
    "\n",
    "print(result)"
   ]
  },
  {
   "cell_type": "code",
   "execution_count": 3,
   "id": "76df4c29-da6a-44be-94f6-3c2e214f93a0",
   "metadata": {},
   "outputs": [
    {
     "data": {
      "text/plain": [
       "[34, 67, 89]"
      ]
     },
     "execution_count": 3,
     "metadata": {},
     "output_type": "execute_result"
    }
   ],
   "source": [
    "num1 = [23,45,67,78,89,34]\n",
    "num2 = [34,89,55,56,39,67]\n",
    "sorted([common for common in num1 if common in num2])"
   ]
  },
  {
   "cell_type": "code",
   "execution_count": 1,
   "id": "262c3a6d-6d00-4b6e-87a0-16e22953e96d",
   "metadata": {},
   "outputs": [
    {
     "name": "stdout",
     "output_type": "stream",
     "text": [
      "['456', '23fg', '1ac21', '1', 'kls', '098d']\n"
     ]
    }
   ],
   "source": [
    "input_list = ['1ac21', '23fg', '456', '098d', '1', 'kls']\n",
    "\n",
    "def product_of_number(s):\n",
    "    product=1\n",
    "    has_digit=False;\n",
    "    for char in s:\n",
    "        if char.isdigit():\n",
    "            product *= int(char)\n",
    "            has_digit = True\n",
    "    return product if has_digit else 1\n",
    "\n",
    "sorted_list = sorted(input_list, key=product_of_number, reverse =True)\n",
    "print(sorted_list)\n",
    "    \n"
   ]
  },
  {
   "cell_type": "code",
   "execution_count": 3,
   "id": "81bab905-5ebb-4656-b359-135b30d66ffd",
   "metadata": {},
   "outputs": [
    {
     "name": "stdout",
     "output_type": "stream",
     "text": [
      "CampusX is a channel for data-science aspirants.\n"
     ]
    }
   ],
   "source": [
    "lst = ['CampusX is a channel', 'for data-science', 'aspirants.']\n",
    "print(' '.join(lst))"
   ]
  },
  {
   "cell_type": "code",
   "execution_count": 6,
   "id": "0f524e7b-9938-4948-997a-c211d8a05086",
   "metadata": {},
   "outputs": [
    {
     "name": "stdout",
     "output_type": "stream",
     "text": [
      "campux is best channel\n"
     ]
    }
   ],
   "source": [
    "lst=[['c', 'a', 'm', 'p', 'u', 'x'], ['i', 's'], ['b', 'e', 's', 't'], ['c', 'h', 'a', 'n', 'n', 'e', 'l']]\n",
    "# using list comprehension\n",
    "print(' '.join([''.join(i) for i in lst]))"
   ]
  },
  {
   "cell_type": "code",
   "execution_count": 8,
   "id": "016cedfc-60db-4783-a20e-9d131b4170c1",
   "metadata": {},
   "outputs": [
    {
     "data": {
      "text/plain": [
       "{1, 2, 3, 4, 5, 7, 8}"
      ]
     },
     "execution_count": 8,
     "metadata": {},
     "output_type": "execute_result"
    }
   ],
   "source": [
    "# union \n",
    "L1=[1,2,3,4,5,1]\n",
    "L2=[2,3,5,7,8]\n",
    "\n",
    "result= set(L1)|set(L2)     # pipe oerator \n",
    "result"
   ]
  },
  {
   "cell_type": "code",
   "execution_count": 10,
   "id": "49e972a0-824c-43ab-89d0-5150fa5d97a4",
   "metadata": {},
   "outputs": [
    {
     "name": "stdout",
     "output_type": "stream",
     "text": [
      "3 6 9 "
     ]
    }
   ],
   "source": [
    "# max from ech sublist\n",
    "L1 =[[1,2,3],[4,5,6],[7,8,9]] \n",
    "\n",
    "for i in L1:\n",
    "    print(max(i), end=' ')"
   ]
  },
  {
   "cell_type": "code",
   "execution_count": 11,
   "id": "b4d53831-0f5b-43eb-973c-0b6eca37f196",
   "metadata": {},
   "outputs": [
    {
     "data": {
      "text/plain": [
       "[3, 6, 9]"
      ]
     },
     "execution_count": 11,
     "metadata": {},
     "output_type": "execute_result"
    }
   ],
   "source": [
    "[max(i) for i in L1]"
   ]
  },
  {
   "cell_type": "code",
   "execution_count": 12,
   "id": "eae7c9da-a600-4bdf-a656-6fbd1cae8bad",
   "metadata": {},
   "outputs": [
    {
     "data": {
      "text/plain": [
       "[0, 1, 2]"
      ]
     },
     "execution_count": 12,
     "metadata": {},
     "output_type": "execute_result"
    }
   ],
   "source": [
    "# Write a list comprehension that can transpose a given matrix matrix = [ [1,2,3], [4,5,6], [7,8,9] ]\n",
    "matrix = [\n",
    "    [1, 2, 3],\n",
    "    [4, 5, 6],\n",
    "    [7, 8, 9]\n",
    "]\n",
    "\n",
    "[i for i in range(len(matrix[0]))]"
   ]
  },
  {
   "cell_type": "code",
   "execution_count": 14,
   "id": "9758d2bc-140a-433b-808d-bb106e2c4f06",
   "metadata": {},
   "outputs": [
    {
     "data": {
      "text/plain": [
       "[[1, 4, 7], [2, 5, 8], [3, 6, 9]]"
      ]
     },
     "execution_count": 14,
     "metadata": {},
     "output_type": "execute_result"
    }
   ],
   "source": [
    "[[row[i] for row in matrix] for i in range(len(matrix[0]))]"
   ]
  },
  {
   "cell_type": "code",
   "execution_count": 16,
   "id": "82e68780-0550-4442-ae4b-a3d9cd4b89c6",
   "metadata": {},
   "outputs": [
    {
     "name": "stdout",
     "output_type": "stream",
     "text": [
      "[1, 2, 3] [4, 5, 6] [7, 8, 9]\n"
     ]
    }
   ],
   "source": [
    "print(*matrix)"
   ]
  },
  {
   "cell_type": "code",
   "execution_count": 18,
   "id": "8766af00-eb39-446b-850a-a5d4f847d7d0",
   "metadata": {},
   "outputs": [
    {
     "data": {
      "text/plain": [
       "[(1, 4, 7), (2, 5, 8), (3, 6, 9)]"
      ]
     },
     "execution_count": 18,
     "metadata": {},
     "output_type": "execute_result"
    }
   ],
   "source": [
    "list(zip(*matrix))"
   ]
  },
  {
   "cell_type": "code",
   "execution_count": 20,
   "id": "70aee837-8764-4978-b530-244a6d37f1f3",
   "metadata": {},
   "outputs": [
    {
     "data": {
      "text/plain": [
       "[[1, 4, 7], [2, 5, 8], [3, 6, 9]]"
      ]
     },
     "execution_count": 20,
     "metadata": {},
     "output_type": "execute_result"
    }
   ],
   "source": [
    "[list(row) for row in zip(*matrix)]"
   ]
  },
  {
   "cell_type": "code",
   "execution_count": null,
   "id": "6742b694-42fc-4ca9-9575-d32b91e77c0d",
   "metadata": {},
   "outputs": [],
   "source": []
  }
 ],
 "metadata": {
  "kernelspec": {
   "display_name": "Python 3 (ipykernel)",
   "language": "python",
   "name": "python3"
  },
  "language_info": {
   "codemirror_mode": {
    "name": "ipython",
    "version": 3
   },
   "file_extension": ".py",
   "mimetype": "text/x-python",
   "name": "python",
   "nbconvert_exporter": "python",
   "pygments_lexer": "ipython3",
   "version": "3.12.5"
  }
 },
 "nbformat": 4,
 "nbformat_minor": 5
}
