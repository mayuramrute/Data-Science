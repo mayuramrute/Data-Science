{
 "cells": [
  {
   "cell_type": "markdown",
   "id": "4f635b21-aafc-490c-8287-3a90ae99c967",
   "metadata": {},
   "source": [
    "Function to find the number is even or odd"
   ]
  },
  {
   "cell_type": "code",
   "execution_count": 38,
   "id": "933eb2ff-0949-4d61-8c74-516e405d4bdb",
   "metadata": {},
   "outputs": [],
   "source": [
    "def isEven(num):\n",
    "    '''\n",
    "    this function used to check the number is even or odd\n",
    "    '''\n",
    "    if i%2==0:\n",
    "       return \"EVEN\"\n",
    "    else:\n",
    "        'ODD'"
   ]
  },
  {
   "cell_type": "code",
   "execution_count": 39,
   "id": "19ed000d-e967-4691-8c97-0bca837681ce",
   "metadata": {},
   "outputs": [
    {
     "name": "stdout",
     "output_type": "stream",
     "text": [
      "None\n",
      "EVEN\n",
      "None\n",
      "EVEN\n",
      "None\n",
      "EVEN\n",
      "None\n",
      "EVEN\n",
      "None\n",
      "EVEN\n"
     ]
    }
   ],
   "source": [
    "for i in range(1,11):\n",
    "    x = isEven(i)\n",
    "    print(x)"
   ]
  },
  {
   "cell_type": "code",
   "execution_count": 45,
   "id": "17ae9c23-168a-4ae7-89fd-495d6ce60fac",
   "metadata": {},
   "outputs": [],
   "source": [
    "num = [1,2,3,4,5,6,7,8,9,10]\n",
    "def isEven(num):\n",
    "    for i in num:\n",
    "        if i%2==0:\n",
    "             print(\"EVEN\")\n",
    "        else:\n",
    "            print('ODD')"
   ]
  },
  {
   "cell_type": "code",
   "execution_count": 46,
   "id": "465c606f-1d6f-460b-bac4-0889ff9c35dd",
   "metadata": {},
   "outputs": [
    {
     "name": "stdout",
     "output_type": "stream",
     "text": [
      "ODD\n",
      "EVEN\n",
      "ODD\n",
      "EVEN\n",
      "ODD\n",
      "EVEN\n",
      "ODD\n",
      "EVEN\n",
      "ODD\n",
      "EVEN\n"
     ]
    }
   ],
   "source": [
    "isEven(num)"
   ]
  },
  {
   "cell_type": "markdown",
   "id": "10d82439-cdd3-48ac-b5ee-5a2c87653ff0",
   "metadata": {},
   "source": [
    "## Types of Arguments\n",
    "### default\n",
    "### positional\n",
    "### keyword Argument"
   ]
  },
  {
   "cell_type": "code",
   "execution_count": 47,
   "id": "2f49e50a-a04f-4df0-b029-5a36e291319a",
   "metadata": {},
   "outputs": [],
   "source": [
    "# Default\n",
    "# default parametes are used when we dont want to through an error if user provide less number of arguments \n",
    "# so we define the default argument if the user not giving the arument to the parameter"
   ]
  },
  {
   "cell_type": "code",
   "execution_count": 48,
   "id": "984d8a2c-8903-43e2-a9d3-8d76ee526a74",
   "metadata": {},
   "outputs": [],
   "source": [
    "def multi(a,b):\n",
    "    return a*b"
   ]
  },
  {
   "cell_type": "code",
   "execution_count": 49,
   "id": "88d4d98d-fb21-48b8-b120-ff3cc9fa0626",
   "metadata": {},
   "outputs": [
    {
     "data": {
      "text/plain": [
       "8"
      ]
     },
     "execution_count": 49,
     "metadata": {},
     "output_type": "execute_result"
    }
   ],
   "source": [
    "multi(2,4)"
   ]
  },
  {
   "cell_type": "code",
   "execution_count": 50,
   "id": "a36b9ea1-5e12-42c2-a21a-b934f307f779",
   "metadata": {},
   "outputs": [
    {
     "ename": "TypeError",
     "evalue": "multi() missing 1 required positional argument: 'b'",
     "output_type": "error",
     "traceback": [
      "\u001b[1;31m---------------------------------------------------------------------------\u001b[0m",
      "\u001b[1;31mTypeError\u001b[0m                                 Traceback (most recent call last)",
      "Cell \u001b[1;32mIn[50], line 1\u001b[0m\n\u001b[1;32m----> 1\u001b[0m \u001b[43mmulti\u001b[49m\u001b[43m(\u001b[49m\u001b[38;5;241;43m1\u001b[39;49m\u001b[43m)\u001b[49m\n",
      "\u001b[1;31mTypeError\u001b[0m: multi() missing 1 required positional argument: 'b'"
     ]
    }
   ],
   "source": [
    "multi(1)"
   ]
  },
  {
   "cell_type": "code",
   "execution_count": 51,
   "id": "035b8efe-fc13-4f57-a977-78ae32036574",
   "metadata": {},
   "outputs": [],
   "source": [
    "def multi(a=1,b=1):\n",
    "    return a*b"
   ]
  },
  {
   "cell_type": "code",
   "execution_count": 52,
   "id": "593e5d0a-c48c-4de0-8ec5-53e7f00e7c93",
   "metadata": {},
   "outputs": [
    {
     "data": {
      "text/plain": [
       "1"
      ]
     },
     "execution_count": 52,
     "metadata": {},
     "output_type": "execute_result"
    }
   ],
   "source": [
    "multi() # defult argument"
   ]
  },
  {
   "cell_type": "code",
   "execution_count": 53,
   "id": "6047bf93-aa4c-48d9-9b46-eb491f08e679",
   "metadata": {},
   "outputs": [],
   "source": [
    "# in positonal type of argument user should have to give same sequence af argument as the parameters are passed to the function\n",
    "# the squence of the parameter should be same in the positional argument"
   ]
  },
  {
   "cell_type": "code",
   "execution_count": 60,
   "id": "f9dcd9e4-ecec-45c4-bdf0-e2a9da97100e",
   "metadata": {},
   "outputs": [],
   "source": [
    "def power(a,b):\n",
    "    return a**b"
   ]
  },
  {
   "cell_type": "code",
   "execution_count": 56,
   "id": "23ca44bf-0f66-4ab6-90e7-fccfe443c8be",
   "metadata": {},
   "outputs": [],
   "source": [
    "# if you want the power of any number you should pass the number always in the first parameter "
   ]
  },
  {
   "cell_type": "code",
   "execution_count": 61,
   "id": "6c0504bc-ed36-4332-9ff9-9fe635ee1023",
   "metadata": {},
   "outputs": [
    {
     "data": {
      "text/plain": [
       "8"
      ]
     },
     "execution_count": 61,
     "metadata": {},
     "output_type": "execute_result"
    }
   ],
   "source": [
    "power(2,3)"
   ]
  },
  {
   "cell_type": "code",
   "execution_count": 62,
   "id": "f8e3ae06-7652-4df5-8744-04e2c5b12d37",
   "metadata": {},
   "outputs": [],
   "source": [
    "# in keyword argument irrespective of the position of the parameters you can directly pass the value to the paramenter using the\n",
    "# keyword"
   ]
  },
  {
   "cell_type": "code",
   "execution_count": 63,
   "id": "6ee9e277-cdcb-4924-add3-e8d26c98d8aa",
   "metadata": {},
   "outputs": [
    {
     "data": {
      "text/plain": [
       "4"
      ]
     },
     "execution_count": 63,
     "metadata": {},
     "output_type": "execute_result"
    }
   ],
   "source": [
    "power(b=2,a=2)"
   ]
  },
  {
   "cell_type": "code",
   "execution_count": 64,
   "id": "410b46f8-6816-47fc-9c9f-12ab5c21d396",
   "metadata": {},
   "outputs": [
    {
     "data": {
      "text/plain": [
       "8"
      ]
     },
     "execution_count": 64,
     "metadata": {},
     "output_type": "execute_result"
    }
   ],
   "source": [
    "power(b=3, a=2)"
   ]
  },
  {
   "cell_type": "markdown",
   "id": "c822d590-e6f2-4d71-9896-7446a77aaaca",
   "metadata": {},
   "source": [
    "## *args and **kwargs\n",
    "### the above parameters * and ** used when we have to use any number of arguments "
   ]
  },
  {
   "cell_type": "code",
   "execution_count": 68,
   "id": "071bc07f-d9dd-413d-9037-0642b2e487ee",
   "metadata": {},
   "outputs": [],
   "source": [
    "def additon(*args):\n",
    "    add=0\n",
    "    for i in args:\n",
    "        add += i\n",
    "    return add"
   ]
  },
  {
   "cell_type": "code",
   "execution_count": 69,
   "id": "9e57c94f-1884-4e75-825c-9d2342245b6a",
   "metadata": {},
   "outputs": [
    {
     "data": {
      "text/plain": [
       "3"
      ]
     },
     "execution_count": 69,
     "metadata": {},
     "output_type": "execute_result"
    }
   ],
   "source": [
    "additon(1,2)"
   ]
  },
  {
   "cell_type": "code",
   "execution_count": 70,
   "id": "1c41cc1f-4b4e-4660-bd27-1fe9f0ba701a",
   "metadata": {},
   "outputs": [
    {
     "data": {
      "text/plain": [
       "45"
      ]
     },
     "execution_count": 70,
     "metadata": {},
     "output_type": "execute_result"
    }
   ],
   "source": [
    "additon(1,2,3,4,5,6,7,8,9)"
   ]
  },
  {
   "cell_type": "code",
   "execution_count": 93,
   "id": "99758c9d-f327-4813-83e1-efb532844847",
   "metadata": {},
   "outputs": [],
   "source": [
    "# the **kwargs takes any number of the key value pair of argument list\n",
    "def display(**kwargs):\n",
    "     for key, value in kwargs.items():\n",
    "         print(key,'-->', value)\n"
   ]
  },
  {
   "cell_type": "code",
   "execution_count": 2,
   "id": "5ab9a472-1f1f-4527-91a6-779027045075",
   "metadata": {},
   "outputs": [],
   "source": [
    "display(India='Delhi', shrilanka='columbo', nepal='Kanthmandu')"
   ]
  },
  {
   "cell_type": "code",
   "execution_count": 96,
   "id": "23da4023-6ce2-4eaa-8936-c9be0bcaceeb",
   "metadata": {},
   "outputs": [],
   "source": [
    "def display(**kwargs):\n",
    "     for key, value in kwargs.items():\n",
    "         print(key,'-->', value)"
   ]
  },
  {
   "cell_type": "code",
   "execution_count": 97,
   "id": "60099401-8e66-4639-86fe-6e823878436f",
   "metadata": {},
   "outputs": [],
   "source": [
    "z =display"
   ]
  },
  {
   "cell_type": "code",
   "execution_count": 100,
   "id": "42e1da23-d6ef-4ac2-8eec-93af1b63726c",
   "metadata": {},
   "outputs": [
    {
     "name": "stdout",
     "output_type": "stream",
     "text": [
      "None\n"
     ]
    },
    {
     "data": {
      "text/plain": [
       "[1, 2, 3, 4]"
      ]
     },
     "execution_count": 100,
     "metadata": {},
     "output_type": "execute_result"
    }
   ],
   "source": [
    "L=[1,2,3]\n",
    "print(L.append(4)) ## this append function do not return any value so by default in it will return None \n",
    "L"
   ]
  },
  {
   "cell_type": "code",
   "execution_count": 102,
   "id": "37e85a70-bd78-416d-859d-2b4e9ffe7fd5",
   "metadata": {},
   "outputs": [
    {
     "name": "stdout",
     "output_type": "stream",
     "text": [
      "5\n",
      "6\n",
      "5\n"
     ]
    }
   ],
   "source": [
    "def g(y):\n",
    "    print(x)\n",
    "    print(x+1)\n",
    "x = 5\n",
    "g(x)\n",
    "print(x)"
   ]
  },
  {
   "cell_type": "code",
   "execution_count": 103,
   "id": "3b77a325-9c81-4b89-b05c-cc356cb5daa3",
   "metadata": {},
   "outputs": [
    {
     "name": "stdout",
     "output_type": "stream",
     "text": [
      "2\n",
      "5\n"
     ]
    }
   ],
   "source": [
    "#\n",
    "def f(y):\n",
    "    x = 1\n",
    "    x += 1\n",
    "    print(x)\n",
    "x = 5\n",
    "f(x)\n",
    "print(x)"
   ]
  },
  {
   "cell_type": "code",
   "execution_count": 104,
   "id": "5a157b13-ad16-41b3-a3cb-471f62291a2e",
   "metadata": {},
   "outputs": [
    {
     "ename": "UnboundLocalError",
     "evalue": "cannot access local variable 'x' where it is not associated with a value",
     "output_type": "error",
     "traceback": [
      "\u001b[1;31m---------------------------------------------------------------------------\u001b[0m",
      "\u001b[1;31mUnboundLocalError\u001b[0m                         Traceback (most recent call last)",
      "Cell \u001b[1;32mIn[104], line 4\u001b[0m\n\u001b[0;32m      2\u001b[0m     x \u001b[38;5;241m+\u001b[39m\u001b[38;5;241m=\u001b[39m \u001b[38;5;241m1\u001b[39m\n\u001b[0;32m      3\u001b[0m x \u001b[38;5;241m=\u001b[39m \u001b[38;5;241m5\u001b[39m\n\u001b[1;32m----> 4\u001b[0m \u001b[43mh\u001b[49m\u001b[43m(\u001b[49m\u001b[43mx\u001b[49m\u001b[43m)\u001b[49m\n\u001b[0;32m      5\u001b[0m \u001b[38;5;28mprint\u001b[39m(x)\n",
      "Cell \u001b[1;32mIn[104], line 2\u001b[0m, in \u001b[0;36mh\u001b[1;34m(y)\u001b[0m\n\u001b[0;32m      1\u001b[0m \u001b[38;5;28;01mdef\u001b[39;00m \u001b[38;5;21mh\u001b[39m(y):\n\u001b[1;32m----> 2\u001b[0m     \u001b[43mx\u001b[49m \u001b[38;5;241m+\u001b[39m\u001b[38;5;241m=\u001b[39m \u001b[38;5;241m1\u001b[39m\n",
      "\u001b[1;31mUnboundLocalError\u001b[0m: cannot access local variable 'x' where it is not associated with a value"
     ]
    }
   ],
   "source": [
    "def h(y):\n",
    "    x += 1\n",
    "x = 5\n",
    "h(x)\n",
    "print(x)"
   ]
  },
  {
   "cell_type": "code",
   "execution_count": 105,
   "id": "e6f6bc67-64b7-455c-9f46-6bc19fd3b724",
   "metadata": {},
   "outputs": [
    {
     "name": "stdout",
     "output_type": "stream",
     "text": [
      "in f(x): x = 4\n",
      "in main program scope: z = 4\n",
      "in main program scope: x = 3\n"
     ]
    }
   ],
   "source": [
    "def f(x):\n",
    "   x = x + 1\n",
    "   print('in f(x): x =', x)\n",
    "   return x\n",
    "\n",
    "x = 3\n",
    "z = f(x)\n",
    "print('in main program scope: z =', z)\n",
    "print('in main program scope: x =', x)"
   ]
  },
  {
   "cell_type": "code",
   "execution_count": null,
   "id": "ac75be23-cfdf-4f2f-a0a8-4f002a7d8015",
   "metadata": {},
   "outputs": [],
   "source": [
    "def f():\n",
    "  def g():\n",
    "    print('inside function g')\n",
    "    f()\n",
    "  g()\n",
    "  print('inside function f')\n",
    "# this function will run infinitly as f() call g() and visa versa"
   ]
  },
  {
   "cell_type": "code",
   "execution_count": 106,
   "id": "ccb388dd-195c-43c3-b5a1-623e66e6ce05",
   "metadata": {},
   "outputs": [
    {
     "name": "stdout",
     "output_type": "stream",
     "text": [
      "in g(x): x =  4\n",
      "in h(x): x =  5\n",
      "in main program scope: x =  3\n"
     ]
    }
   ],
   "source": [
    "def g(x):\n",
    "    def h(x):\n",
    "        x = x+1\n",
    "        print(\"in h(x): x = \", x)\n",
    "    x = x + 1\n",
    "    print('in g(x): x = ', x)\n",
    "    h(x)\n",
    "    return x\n",
    "\n",
    "x = 3\n",
    "z = g(x)\n",
    "print('in main program scope: x = ', x)"
   ]
  },
  {
   "cell_type": "markdown",
   "id": "4909d016-b365-4c79-8649-8bebdf612235",
   "metadata": {},
   "source": [
    "# Functions are the first cas  citizens \n",
    "## Similary like any other data type fuction have the same behaviour in python "
   ]
  },
  {
   "cell_type": "code",
   "execution_count": 116,
   "id": "5b655440-f04b-4673-8c84-63e7f87f9a30",
   "metadata": {},
   "outputs": [],
   "source": [
    "def square(a):\n",
    "    return a**2\n",
    "    "
   ]
  },
  {
   "cell_type": "code",
   "execution_count": 109,
   "id": "dd6dbc41-a75e-4761-91fc-1d74ad51ffde",
   "metadata": {},
   "outputs": [
    {
     "name": "stdout",
     "output_type": "stream",
     "text": [
      "<class 'function'>\n"
     ]
    }
   ],
   "source": [
    "print(type(square))"
   ]
  },
  {
   "cell_type": "code",
   "execution_count": 110,
   "id": "817e333d-bac4-4de3-9f8d-de504c14bfcc",
   "metadata": {},
   "outputs": [
    {
     "data": {
      "text/plain": [
       "2388240854016"
      ]
     },
     "execution_count": 110,
     "metadata": {},
     "output_type": "execute_result"
    }
   ],
   "source": [
    "id(square)"
   ]
  },
  {
   "cell_type": "code",
   "execution_count": 111,
   "id": "3ce74596-84a5-4b82-b6e7-4463d4a77362",
   "metadata": {},
   "outputs": [],
   "source": [
    "p = square # we can remaine the function by assign to other variable"
   ]
  },
  {
   "cell_type": "code",
   "execution_count": 112,
   "id": "44d33651-f7b2-4d7e-8f3b-048bab4e8945",
   "metadata": {},
   "outputs": [
    {
     "data": {
      "text/plain": [
       "4"
      ]
     },
     "execution_count": 112,
     "metadata": {},
     "output_type": "execute_result"
    }
   ],
   "source": [
    "p(2)"
   ]
  },
  {
   "cell_type": "code",
   "execution_count": 117,
   "id": "33d68c10-fe6d-428d-a21f-82b31184bb57",
   "metadata": {},
   "outputs": [],
   "source": [
    "del square # del is used to delete the function from the memory"
   ]
  },
  {
   "cell_type": "code",
   "execution_count": 118,
   "id": "c8269eff-dc3b-4bf1-92a6-7eb3f87b4875",
   "metadata": {},
   "outputs": [
    {
     "ename": "NameError",
     "evalue": "name 'square' is not defined",
     "output_type": "error",
     "traceback": [
      "\u001b[1;31m---------------------------------------------------------------------------\u001b[0m",
      "\u001b[1;31mNameError\u001b[0m                                 Traceback (most recent call last)",
      "Cell \u001b[1;32mIn[118], line 1\u001b[0m\n\u001b[1;32m----> 1\u001b[0m \u001b[43msquare\u001b[49m(\u001b[38;5;241m4\u001b[39m)\n",
      "\u001b[1;31mNameError\u001b[0m: name 'square' is not defined"
     ]
    }
   ],
   "source": [
    "square(4)"
   ]
  },
  {
   "cell_type": "code",
   "execution_count": 119,
   "id": "fd9cbd52-bae3-45b5-94b9-a54576823023",
   "metadata": {},
   "outputs": [],
   "source": [
    "def square(a):\n",
    "    return a**2"
   ]
  },
  {
   "cell_type": "code",
   "execution_count": 120,
   "id": "624b094f-f719-4cbe-acf8-a624b9028e27",
   "metadata": {},
   "outputs": [],
   "source": [
    "# Storing\n",
    "\n",
    "L =[1,2,3,4, square]"
   ]
  },
  {
   "cell_type": "code",
   "execution_count": 121,
   "id": "2273b2b0-8a1e-46f4-8c2b-11cda5664d1b",
   "metadata": {},
   "outputs": [
    {
     "data": {
      "text/plain": [
       "[1, 2, 3, 4, <function __main__.square(a)>]"
      ]
     },
     "execution_count": 121,
     "metadata": {},
     "output_type": "execute_result"
    }
   ],
   "source": [
    "L"
   ]
  },
  {
   "cell_type": "code",
   "execution_count": 122,
   "id": "b87e2fc4-ab4e-4003-8fc3-abc8b0625047",
   "metadata": {},
   "outputs": [
    {
     "data": {
      "text/plain": [
       "<function __main__.square(a)>"
      ]
     },
     "execution_count": 122,
     "metadata": {},
     "output_type": "execute_result"
    }
   ],
   "source": [
    "L[4]"
   ]
  },
  {
   "cell_type": "code",
   "execution_count": 123,
   "id": "2350e88f-8209-4f1a-a745-8ffa3c9e7816",
   "metadata": {},
   "outputs": [
    {
     "data": {
      "text/plain": [
       "25"
      ]
     },
     "execution_count": 123,
     "metadata": {},
     "output_type": "execute_result"
    }
   ],
   "source": [
    "L[4](5)"
   ]
  },
  {
   "cell_type": "code",
   "execution_count": 124,
   "id": "0280de14-9bc2-4e2e-a851-09d01fc4d55a",
   "metadata": {},
   "outputs": [
    {
     "name": "stdout",
     "output_type": "stream",
     "text": [
      "7\n"
     ]
    }
   ],
   "source": [
    "def f():\n",
    "    def x(a, b):\n",
    "        return a+b\n",
    "    return x\n",
    "    \n",
    "val = f()(3,4) # this will become after returning the value x(3,4) and this will return 7\n",
    "print(val)"
   ]
  },
  {
   "cell_type": "code",
   "execution_count": 125,
   "id": "9d8b115d-2a10-4430-872b-f976991b0b89",
   "metadata": {},
   "outputs": [
    {
     "name": "stdout",
     "output_type": "stream",
     "text": [
      "inside func_c\n",
      "inside func_a\n",
      "None\n"
     ]
    }
   ],
   "source": [
    "def func_a():\n",
    "    print('inside func_a')\n",
    "\n",
    "def func_b(z):\n",
    "    print('inside func_c')\n",
    "    return z()\n",
    "\n",
    "print(func_b(func_a))"
   ]
  },
  {
   "cell_type": "code",
   "execution_count": null,
   "id": "cd2b1c4f-01ad-4f32-9281-6a9c0f80087f",
   "metadata": {},
   "outputs": [],
   "source": []
  }
 ],
 "metadata": {
  "kernelspec": {
   "display_name": "Python 3 (ipykernel)",
   "language": "python",
   "name": "python3"
  },
  "language_info": {
   "codemirror_mode": {
    "name": "ipython",
    "version": 3
   },
   "file_extension": ".py",
   "mimetype": "text/x-python",
   "name": "python",
   "nbconvert_exporter": "python",
   "pygments_lexer": "ipython3",
   "version": "3.12.5"
  }
 },
 "nbformat": 4,
 "nbformat_minor": 5
}
