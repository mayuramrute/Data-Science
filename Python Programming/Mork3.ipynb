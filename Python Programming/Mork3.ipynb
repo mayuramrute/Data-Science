{
 "cells": [
  {
   "cell_type": "markdown",
   "id": "78e22715-0d5a-42e7-8c89-4b4b81a2fcae",
   "metadata": {},
   "source": [
    "# List"
   ]
  },
  {
   "cell_type": "code",
   "execution_count": 2,
   "id": "7f617fc3-8af1-4db2-9e23-8ffcc307ef37",
   "metadata": {},
   "outputs": [],
   "source": [
    "lst =[7,2,5,8,4,1]"
   ]
  },
  {
   "cell_type": "code",
   "execution_count": 4,
   "id": "ea4dc785-c8d9-4b4a-b959-06c0b52ec0b6",
   "metadata": {},
   "outputs": [
    {
     "data": {
      "text/plain": [
       "[1, 2, 4, 5, 7, 8]"
      ]
     },
     "execution_count": 4,
     "metadata": {},
     "output_type": "execute_result"
    }
   ],
   "source": [
    "sorted(lst)   # this is the funtion who don create the acal changes into the list just give the view"
   ]
  },
  {
   "cell_type": "code",
   "execution_count": 5,
   "id": "f884d201-206c-490b-b5ed-f3dd0b7382df",
   "metadata": {},
   "outputs": [
    {
     "data": {
      "text/plain": [
       "[8, 7, 5, 4, 2, 1]"
      ]
     },
     "execution_count": 5,
     "metadata": {},
     "output_type": "execute_result"
    }
   ],
   "source": [
    "sorted(lst, reverse=True)  # descinding order "
   ]
  },
  {
   "cell_type": "code",
   "execution_count": 6,
   "id": "10c46118-501f-41cb-8d64-a7a87e2313fb",
   "metadata": {},
   "outputs": [
    {
     "data": {
      "text/plain": [
       "[7, 2, 5, 8, 4, 1]"
      ]
     },
     "execution_count": 6,
     "metadata": {},
     "output_type": "execute_result"
    }
   ],
   "source": [
    "lst"
   ]
  },
  {
   "cell_type": "code",
   "execution_count": 7,
   "id": "49fb4c29-1b43-4c46-a235-70d9b15ddb93",
   "metadata": {},
   "outputs": [],
   "source": [
    "lst.sort()   # this function ,makes the permanent changes into the list "
   ]
  },
  {
   "cell_type": "code",
   "execution_count": 8,
   "id": "8c9e09c2-c648-470e-ab08-f00eaad92cbb",
   "metadata": {},
   "outputs": [
    {
     "data": {
      "text/plain": [
       "[1, 2, 4, 5, 7, 8]"
      ]
     },
     "execution_count": 8,
     "metadata": {},
     "output_type": "execute_result"
    }
   ],
   "source": [
    "lst"
   ]
  },
  {
   "cell_type": "code",
   "execution_count": 12,
   "id": "c7ce3677-0c7f-49f5-bddc-1294c7350e9a",
   "metadata": {},
   "outputs": [
    {
     "data": {
      "text/plain": [
       "[8, 7, 5, 4, 2, 1]"
      ]
     },
     "execution_count": 12,
     "metadata": {},
     "output_type": "execute_result"
    }
   ],
   "source": [
    "lst.reverse() # this function sort the array in reerse order and it make changes permanently into the memory\n",
    "lst"
   ]
  },
  {
   "cell_type": "code",
   "execution_count": 14,
   "id": "4c00e794-2635-46a1-adac-d38d2bded9be",
   "metadata": {},
   "outputs": [
    {
     "data": {
      "text/plain": [
       "2"
      ]
     },
     "execution_count": 14,
     "metadata": {},
     "output_type": "execute_result"
    }
   ],
   "source": [
    "# index()\n",
    "# this function gives the index of item present if present in the list\n",
    "\n",
    "lst\n",
    "lst.index(5)"
   ]
  },
  {
   "cell_type": "code",
   "execution_count": 15,
   "id": "cddca257-8cdc-4f66-8a3f-a9eee66bda04",
   "metadata": {},
   "outputs": [],
   "source": [
    "l1 =[1,2,3,3,2,4,4,5,6,6,1]"
   ]
  },
  {
   "cell_type": "code",
   "execution_count": 16,
   "id": "62213683-ed02-4006-a3f6-740d7346704c",
   "metadata": {},
   "outputs": [],
   "source": [
    "# count()\n",
    "# this function gives he count of the item present in the lst"
   ]
  },
  {
   "cell_type": "code",
   "execution_count": 22,
   "id": "2f9f0f7d-45b6-459e-a48d-99732ebf89a0",
   "metadata": {},
   "outputs": [
    {
     "data": {
      "text/plain": [
       "2"
      ]
     },
     "execution_count": 22,
     "metadata": {},
     "output_type": "execute_result"
    }
   ],
   "source": [
    "l1.count(4)"
   ]
  },
  {
   "cell_type": "code",
   "execution_count": 26,
   "id": "26817c2f-2781-4618-9b01-3c0b10f031b2",
   "metadata": {},
   "outputs": [],
   "source": [
    "# copy()\n",
    "original = [1,2,3,4,5]\n",
    "l2=original.copy()"
   ]
  },
  {
   "cell_type": "code",
   "execution_count": 27,
   "id": "e81907d3-954a-4908-88b9-c21f37b60559",
   "metadata": {},
   "outputs": [
    {
     "data": {
      "text/plain": [
       "[1, 2, 3, 4, 5]"
      ]
     },
     "execution_count": 27,
     "metadata": {},
     "output_type": "execute_result"
    }
   ],
   "source": [
    "l2"
   ]
  },
  {
   "cell_type": "code",
   "execution_count": 29,
   "id": "9a2493ac-73cd-4d78-91b9-a25f6a047b97",
   "metadata": {},
   "outputs": [
    {
     "name": "stdout",
     "output_type": "stream",
     "text": [
      "2642546202944\n",
      "2642545877632\n"
     ]
    }
   ],
   "source": [
    "print(id(original))\n",
    "print(id(l2))"
   ]
  },
  {
   "cell_type": "code",
   "execution_count": 30,
   "id": "4b7e0e15-8882-4f7b-b17d-473eb6af3a65",
   "metadata": {},
   "outputs": [],
   "source": [
    "original1 = [1,2,3,4,5,[1,2,3]]\n",
    "l3 = original1.copy()"
   ]
  },
  {
   "cell_type": "code",
   "execution_count": 31,
   "id": "528fc2d8-efa7-437a-ab74-0f40f2f1c88b",
   "metadata": {},
   "outputs": [
    {
     "data": {
      "text/plain": [
       "[1, 2, 3, 4, 5, [1, 2, 3]]"
      ]
     },
     "execution_count": 31,
     "metadata": {},
     "output_type": "execute_result"
    }
   ],
   "source": [
    "l3"
   ]
  },
  {
   "cell_type": "code",
   "execution_count": 35,
   "id": "56ca4dc3-89ec-4cf6-b183-66e8b00c58f2",
   "metadata": {},
   "outputs": [],
   "source": [
    "l3[5][2]=300"
   ]
  },
  {
   "cell_type": "code",
   "execution_count": 36,
   "id": "11f1d10b-c698-4614-88fc-998701059e24",
   "metadata": {},
   "outputs": [
    {
     "data": {
      "text/plain": [
       "[1, 2, 3, 4, 5, [1, 2, 300]]"
      ]
     },
     "execution_count": 36,
     "metadata": {},
     "output_type": "execute_result"
    }
   ],
   "source": [
    "l3"
   ]
  },
  {
   "cell_type": "code",
   "execution_count": 38,
   "id": "447f0964-24a7-4970-a47b-f0e3c965db03",
   "metadata": {},
   "outputs": [
    {
     "data": {
      "text/plain": [
       "[1, 2, 3, 4, 5, [1, 2, 300]]"
      ]
     },
     "execution_count": 38,
     "metadata": {},
     "output_type": "execute_result"
    }
   ],
   "source": [
    "original1  # here the original also get update as copy function do not work well with the nested list"
   ]
  },
  {
   "cell_type": "code",
   "execution_count": 41,
   "id": "6d2e2b67-f010-473a-b004-249144c40cb5",
   "metadata": {},
   "outputs": [
    {
     "name": "stdout",
     "output_type": "stream",
     "text": [
      "2642546545600\n",
      "2642546545600\n"
     ]
    }
   ],
   "source": [
    "print(id(original1[5]))   # both are pointing to the same memory location\n",
    "print(id(l3[5]))"
   ]
  },
  {
   "cell_type": "code",
   "execution_count": 42,
   "id": "84f986f1-d1e0-4dea-bcea-aff01823d85f",
   "metadata": {},
   "outputs": [
    {
     "data": {
      "text/plain": [
       "[8, 7, 5, 4, 2, 1]"
      ]
     },
     "execution_count": 42,
     "metadata": {},
     "output_type": "execute_result"
    }
   ],
   "source": [
    "# append()\n",
    "# this fuction is used to add single element at the end of the list\n",
    "\n",
    "lst"
   ]
  },
  {
   "cell_type": "code",
   "execution_count": 43,
   "id": "da29f89c-6f13-4d66-a2f7-35075a2af593",
   "metadata": {},
   "outputs": [],
   "source": [
    "lst.append(200)"
   ]
  },
  {
   "cell_type": "code",
   "execution_count": 44,
   "id": "f76a73fe-dc61-4604-a985-a175bda34aa1",
   "metadata": {},
   "outputs": [
    {
     "data": {
      "text/plain": [
       "[8, 7, 5, 4, 2, 1, 200]"
      ]
     },
     "execution_count": 44,
     "metadata": {},
     "output_type": "execute_result"
    }
   ],
   "source": [
    "lst"
   ]
  },
  {
   "cell_type": "code",
   "execution_count": 45,
   "id": "f5df31e6-d8a6-459e-a882-5b6d84753c3a",
   "metadata": {},
   "outputs": [],
   "source": [
    "lst.append([100,200,300,400])"
   ]
  },
  {
   "cell_type": "code",
   "execution_count": 46,
   "id": "68d09772-3bb7-4415-8f7d-bdde25a03d57",
   "metadata": {},
   "outputs": [
    {
     "data": {
      "text/plain": [
       "[8, 7, 5, 4, 2, 1, 200, [100, 200, 300, 400]]"
      ]
     },
     "execution_count": 46,
     "metadata": {},
     "output_type": "execute_result"
    }
   ],
   "source": [
    "lst"
   ]
  },
  {
   "cell_type": "code",
   "execution_count": 47,
   "id": "dd64a827-33c2-4d9a-bdb4-1e8f07732b38",
   "metadata": {},
   "outputs": [],
   "source": [
    "#extend()\n",
    "## this function is used to add the any number of items at a time, it takes iterable to add the elements"
   ]
  },
  {
   "cell_type": "code",
   "execution_count": 49,
   "id": "42e3d637-ed19-4b2a-818d-c0477a43dea5",
   "metadata": {},
   "outputs": [
    {
     "data": {
      "text/plain": [
       "[1, 2, 3, 4, 5]"
      ]
     },
     "execution_count": 49,
     "metadata": {},
     "output_type": "execute_result"
    }
   ],
   "source": [
    "l2"
   ]
  },
  {
   "cell_type": "code",
   "execution_count": 51,
   "id": "c1ea3f50-e937-4f6b-bbe4-4cd421106886",
   "metadata": {},
   "outputs": [],
   "source": [
    "l2.extend([1])"
   ]
  },
  {
   "cell_type": "code",
   "execution_count": 52,
   "id": "69768566-b8cb-4d25-8143-390607b037b5",
   "metadata": {},
   "outputs": [
    {
     "data": {
      "text/plain": [
       "[1, 2, 3, 4, 5, 1]"
      ]
     },
     "execution_count": 52,
     "metadata": {},
     "output_type": "execute_result"
    }
   ],
   "source": [
    "l2"
   ]
  },
  {
   "cell_type": "code",
   "execution_count": 54,
   "id": "7f7e0820-c8e0-45cf-8c1b-f9b019b17419",
   "metadata": {},
   "outputs": [],
   "source": [
    "l2.extend([11,22,33,44,[99,88]])"
   ]
  },
  {
   "cell_type": "code",
   "execution_count": 55,
   "id": "a095a305-422d-473b-ac2d-173e2d62fb9f",
   "metadata": {},
   "outputs": [
    {
     "data": {
      "text/plain": [
       "[1, 2, 3, 4, 5, 1, 11, 22, 33, 44, [99, 88]]"
      ]
     },
     "execution_count": 55,
     "metadata": {},
     "output_type": "execute_result"
    }
   ],
   "source": [
    "l2"
   ]
  },
  {
   "cell_type": "code",
   "execution_count": 57,
   "id": "ea6b040e-f22b-4c96-a72b-7eaf6853c2b0",
   "metadata": {},
   "outputs": [
    {
     "name": "stdout",
     "output_type": "stream",
     "text": [
      "[0, 1, 2, 3, 4, 5, 6, 7, 8, 9, 10]\n"
     ]
    }
   ],
   "source": [
    "# range()\n",
    "\n",
    "r=[]\n",
    "for i in range(11):\n",
    "    r.append(i)\n",
    "\n",
    "print(r)"
   ]
  },
  {
   "cell_type": "code",
   "execution_count": 59,
   "id": "8b9574fe-4a3e-4d10-9464-cf68805f64c0",
   "metadata": {},
   "outputs": [
    {
     "data": {
      "text/plain": [
       "[0, 1, 2, 3, 4, 5, 6, 7, 8, 9, 10]"
      ]
     },
     "execution_count": 59,
     "metadata": {},
     "output_type": "execute_result"
    }
   ],
   "source": [
    "[i for i in range(11)]"
   ]
  },
  {
   "cell_type": "code",
   "execution_count": 61,
   "id": "e72ebced-3451-45d3-acd9-816fd9bc8963",
   "metadata": {},
   "outputs": [
    {
     "data": {
      "text/plain": [
       "[1, 2, 3, 4, 1, 2, 3, 4, 1, 2, 3, 4]"
      ]
     },
     "execution_count": 61,
     "metadata": {},
     "output_type": "execute_result"
    }
   ],
   "source": [
    "# vector multiplication\n",
    "l=[1,2,3,4]\n",
    "m=3\n",
    "l*m # this replicate the list 3 time"
   ]
  },
  {
   "cell_type": "code",
   "execution_count": 63,
   "id": "bea0fb9a-c80b-40bb-910b-4ab0ef5bc67b",
   "metadata": {},
   "outputs": [
    {
     "data": {
      "text/plain": [
       "[3, 6, 9, 12]"
      ]
     },
     "execution_count": 63,
     "metadata": {},
     "output_type": "execute_result"
    }
   ],
   "source": [
    "[i*m for i in l]   # this is the vector multiplication using for loop"
   ]
  },
  {
   "cell_type": "code",
   "execution_count": 64,
   "id": "b14ea68a-ca3a-4908-a50c-106ed9a5892e",
   "metadata": {},
   "outputs": [
    {
     "data": {
      "text/plain": [
       "[0, 1, 4, 9, 16, 25, 36, 49, 64, 81]"
      ]
     },
     "execution_count": 64,
     "metadata": {},
     "output_type": "execute_result"
    }
   ],
   "source": [
    "#squre of list\n",
    "\n",
    "[i**2 for i in range(10)]"
   ]
  },
  {
   "cell_type": "code",
   "execution_count": 65,
   "id": "d3fb2fd4-5c30-4e6c-b52d-4131e7038a75",
   "metadata": {},
   "outputs": [
    {
     "data": {
      "text/plain": [
       "[0, 5, 10, 15, 20, 25, 30, 35, 40, 45, 50]"
      ]
     },
     "execution_count": 65,
     "metadata": {},
     "output_type": "execute_result"
    }
   ],
   "source": [
    "# all numbers dicivisible by 5 in range\n",
    "[i for i in range(51) if i%5==0]   #list comprehension"
   ]
  },
  {
   "cell_type": "code",
   "execution_count": 1,
   "id": "e48b0938-52b6-495c-83fe-265bcab9eef3",
   "metadata": {},
   "outputs": [],
   "source": [
    "# List comprehension"
   ]
  },
  {
   "cell_type": "code",
   "execution_count": 3,
   "id": "774a0c4d-83e4-4f25-8887-de5328fa3661",
   "metadata": {},
   "outputs": [
    {
     "data": {
      "text/plain": [
       "['apple', 'anana']"
      ]
     },
     "execution_count": 3,
     "metadata": {},
     "output_type": "execute_result"
    }
   ],
   "source": [
    "basket = ['apple', \"Gava\", 'cherry', \"anana\"]\n",
    "my_Fruits = ['apple', 'kiwi','Grephs','anana']\n",
    "\n",
    "[i for i in basket if i in my_Fruits]  # this wil give you the common elements from both the list"
   ]
  },
  {
   "cell_type": "code",
   "execution_count": 4,
   "id": "98240487-abcb-42b7-9389-9d81b5d97138",
   "metadata": {},
   "outputs": [],
   "source": [
    "# 2-D matrix using list comprehension"
   ]
  },
  {
   "cell_type": "code",
   "execution_count": 9,
   "id": "23411a23-508b-410f-9854-2ee58146c4ea",
   "metadata": {},
   "outputs": [
    {
     "data": {
      "text/plain": [
       "[[1, 2, 3], [2, 4, 6], [3, 6, 9]]"
      ]
     },
     "execution_count": 9,
     "metadata": {},
     "output_type": "execute_result"
    }
   ],
   "source": [
    "b=[]\n",
    "for i in range(1,4):\n",
    "    a=[]\n",
    "    for j in range(1,4):\n",
    "        a.append(i*j)\n",
    "    b.append(a)\n",
    "\n",
    "b"
   ]
  },
  {
   "cell_type": "code",
   "execution_count": 11,
   "id": "5fb108c2-b4d5-43ad-9df8-cc34835483b3",
   "metadata": {},
   "outputs": [
    {
     "data": {
      "text/plain": [
       "[[1, 2, 3], [2, 4, 6], [3, 6, 9]]"
      ]
     },
     "execution_count": 11,
     "metadata": {},
     "output_type": "execute_result"
    }
   ],
   "source": [
    "[[i*j for j in range(1,4)] for i in range(1,4)]   # list comprehension"
   ]
  },
  {
   "cell_type": "code",
   "execution_count": 13,
   "id": "5afc54e3-557d-4e52-a55c-27493d084680",
   "metadata": {},
   "outputs": [
    {
     "data": {
      "text/plain": [
       "[5, 6, 7, 8, 10, 12, 14, 16, 15, 18, 21, 24, 20, 24, 28, 32]"
      ]
     },
     "execution_count": 13,
     "metadata": {},
     "output_type": "execute_result"
    }
   ],
   "source": [
    "# cartesion product\n",
    "l1=[1,2,3,4]\n",
    "l2=[5,6,7,8]\n",
    "l3 =[]\n",
    "# l1*l2 this cannot be done\n",
    "\n",
    "for i in l1:\n",
    "    for j in l2:\n",
    "        l3.append(i*j)\n",
    "l3"
   ]
  },
  {
   "cell_type": "code",
   "execution_count": 15,
   "id": "2c5f838b-13a3-4509-b989-780139ff1aea",
   "metadata": {},
   "outputs": [
    {
     "data": {
      "text/plain": [
       "[5, 10, 15, 20, 6, 12, 18, 24, 7, 14, 21, 28, 8, 16, 24, 32]"
      ]
     },
     "execution_count": 15,
     "metadata": {},
     "output_type": "execute_result"
    }
   ],
   "source": [
    "[i*j for i in l2 for j in l1]  # list comprehension"
   ]
  },
  {
   "cell_type": "markdown",
   "id": "92ea21e0-36a2-4d61-8037-c1faed5e5556",
   "metadata": {},
   "source": [
    "### zip()"
   ]
  },
  {
   "cell_type": "code",
   "execution_count": 16,
   "id": "df6fe3c3-9bb7-4564-9a14-1b719384f73b",
   "metadata": {},
   "outputs": [
    {
     "data": {
      "text/plain": [
       "([1, 2, 3, 4], [5, 6, 7, 8])"
      ]
     },
     "execution_count": 16,
     "metadata": {},
     "output_type": "execute_result"
    }
   ],
   "source": [
    "# zip() this function is used to join the items of teh two list index wise\n",
    "\n",
    "l1,l2"
   ]
  },
  {
   "cell_type": "code",
   "execution_count": 19,
   "id": "c80fddd1-9ebf-44a7-b463-a55ddb010b64",
   "metadata": {},
   "outputs": [
    {
     "data": {
      "text/plain": [
       "[(1, 5), (2, 6), (3, 7), (4, 8)]"
      ]
     },
     "execution_count": 19,
     "metadata": {},
     "output_type": "execute_result"
    }
   ],
   "source": [
    "list(zip(l1,l2))   # we have to take the op of zip() list or tuple"
   ]
  },
  {
   "cell_type": "code",
   "execution_count": 22,
   "id": "3ea09108-1cca-44af-b4b9-47f866162587",
   "metadata": {},
   "outputs": [],
   "source": [
    "l4=['a','b','c','d']"
   ]
  },
  {
   "cell_type": "code",
   "execution_count": 25,
   "id": "91fe34b5-cce4-4bb0-b397-37a8cd21d52f",
   "metadata": {},
   "outputs": [
    {
     "data": {
      "text/plain": [
       "[(1, 5, 'a'), (2, 6, 'b'), (3, 7, 'c'), (4, 8, 'd')]"
      ]
     },
     "execution_count": 25,
     "metadata": {},
     "output_type": "execute_result"
    }
   ],
   "source": [
    "list(zip(l1,l2,l4))"
   ]
  },
  {
   "cell_type": "code",
   "execution_count": 31,
   "id": "187b664d-856a-425f-8028-c666f36697e1",
   "metadata": {},
   "outputs": [
    {
     "name": "stdout",
     "output_type": "stream",
     "text": [
      "[(-1, 'a'), (-2, 'b'), (-3, 'c'), (-4, 'd'), (-5, 'e'), (-6, None), (-7, None), (-8, None)]\n"
     ]
    }
   ],
   "source": [
    "L2 = [-1,-2,-3,-4,-5,-6,-7,-8]\n",
    "L3 = ['a','b','c','d','e']\n",
    "result =[]\n",
    "maxlen = max(len(L2), len(L3))\n",
    "\n",
    "for i in range(maxlen):\n",
    "    if i<len(L2) and i<len(L3):\n",
    "        result.append((L2[i],L3[i]))\n",
    "    elif i<len(L2):\n",
    "        result.append((L2[i],None))\n",
    "    elif i<len(L3):\n",
    "        result.append(None,L3[i])\n",
    "\n",
    "print(result)"
   ]
  },
  {
   "cell_type": "code",
   "execution_count": 33,
   "id": "e42fc93d-965c-4acc-9e33-44b754b1ea6e",
   "metadata": {},
   "outputs": [
    {
     "data": {
      "text/plain": [
       "[('M', 'y'), ('na', 'me'), ('i', 's'), ('Kh', 'an')]"
      ]
     },
     "execution_count": 33,
     "metadata": {},
     "output_type": "execute_result"
    }
   ],
   "source": [
    "list1 = [\"M\", \"na\", \"i\", \"Kh\"]\n",
    "list2 = [\"y\", \"me\", \"s\", \"an\"]\n",
    "\n",
    "list(zip(list1,list2))  # using zip function"
   ]
  },
  {
   "cell_type": "code",
   "execution_count": 36,
   "id": "5fe1a1c0-f1d0-4404-9f67-26e8cfd347e0",
   "metadata": {},
   "outputs": [],
   "source": [
    "# add 700 after 600\n",
    "list1 = [10, 20, [300, 400, [5000, 6000], 500], 30, 40]\n",
    "\n",
    "list1[2][2].append(700)"
   ]
  },
  {
   "cell_type": "code",
   "execution_count": 37,
   "id": "9793e0e8-5e91-4d83-ac89-20bfae7daff0",
   "metadata": {},
   "outputs": [
    {
     "data": {
      "text/plain": [
       "[10, 20, [300, 400, [5000, 6000, 700], 500], 30, 40]"
      ]
     },
     "execution_count": 37,
     "metadata": {},
     "output_type": "execute_result"
    }
   ],
   "source": [
    "list1"
   ]
  },
  {
   "cell_type": "code",
   "execution_count": 44,
   "id": "f0efa876-9356-4de8-a4ee-01e9cf53ad23",
   "metadata": {},
   "outputs": [
    {
     "name": "stdout",
     "output_type": "stream",
     "text": [
      "Jelly Belly - 10\n",
      "Kit Kat - 20\n",
      "Double Bubble - 34\n",
      "Milky Way - 74\n",
      "Three Musketeers - 32\n"
     ]
    }
   ],
   "source": [
    "candy_list = ['Jelly Belly','Kit Kat','Double Bubble','Milky Way','Three Musketeers']\n",
    "no_of_items = [10,20,34,74,32]\n",
    "\n",
    "# for i in candy_list:\n",
    "#     for j in no_of_items:\n",
    "#         print(i,' - ',j)\n",
    "\n",
    "for candy, count in zip(candy_list, no_of_items):   # this is what the two line code\n",
    "    print(f'{candy} - {count}')"
   ]
  },
  {
   "cell_type": "code",
   "execution_count": 42,
   "id": "c322a90b-764e-4e07-81e7-f770be275314",
   "metadata": {},
   "outputs": [
    {
     "data": {
      "text/plain": [
       "[('Jelly Belly', '-', 10),\n",
       " ('Kit Kat', '-', 20),\n",
       " ('Double Bubble', '-', 34),\n",
       " ('Milky Way', '-', 74),\n",
       " ('Three Musketeers', '-', 32)]"
      ]
     },
     "execution_count": 42,
     "metadata": {},
     "output_type": "execute_result"
    }
   ],
   "source": [
    "total_candy_count=[]\n",
    "\n",
    "for i in range(len(candy_list)):\n",
    "    total_candy_count.append((candy_list[i],'-',no_of_items[i]))\n",
    "\n",
    "total_candy_count"
   ]
  },
  {
   "cell_type": "code",
   "execution_count": 45,
   "id": "86f125fc-3258-4986-b61e-b8bb0788228d",
   "metadata": {},
   "outputs": [
    {
     "name": "stdout",
     "output_type": "stream",
     "text": [
      "21\n"
     ]
    }
   ],
   "source": [
    "# running sum of list\n",
    "list1=[1,2,3,4,5,6]\n",
    "r_sum = 0\n",
    "\n",
    "for i in list1:\n",
    "    r_sum += i\n",
    "print(r_sum)\n",
    "# [1, 3, 6, 10, 15, 21] this should be OP"
   ]
  },
  {
   "cell_type": "code",
   "execution_count": 46,
   "id": "51ca6146-b689-4573-8703-f370c2a548bc",
   "metadata": {},
   "outputs": [
    {
     "data": {
      "text/plain": [
       "[1, 3, 6, 10, 15, 21]"
      ]
     },
     "execution_count": 46,
     "metadata": {},
     "output_type": "execute_result"
    }
   ],
   "source": [
    "# the correct one is (cummulative sum)\n",
    "cum_sum=0\n",
    "result=[]\n",
    "for i in list1:\n",
    "    cum_sum += i\n",
    "    result.append(cum_sum)  # this will add the running sum to the list \n",
    "result\n"
   ]
  },
  {
   "cell_type": "code",
   "execution_count": 50,
   "id": "e91622bf-515d-4f7d-b02f-5761369655a8",
   "metadata": {},
   "outputs": [
    {
     "data": {
      "text/plain": [
       "[22, 20, 16, 10, 23]"
      ]
     },
     "execution_count": 50,
     "metadata": {},
     "output_type": "execute_result"
    }
   ],
   "source": [
    "#  [2,4,6,10,1] resultant list will be [22,20,16,10,23]\n",
    "lst =[2,4,6,10,1]\n",
    "r_sum=0\n",
    "result=[]\n",
    "\n",
    "for i in range(len(lst)):\n",
    "    for j in range(len(lst)):\n",
    "        if lst[i]<=lst[j]:\n",
    "            r_sum += lst[j]\n",
    "    result.append(r_sum)\n",
    "    r_sum=0\n",
    "result"
   ]
  },
  {
   "cell_type": "code",
   "execution_count": 55,
   "id": "3d4a4c35-a2cb-48f3-91f5-fa5fc702b39e",
   "metadata": {},
   "outputs": [
    {
     "data": {
      "text/plain": [
       "[34, 67, 89]"
      ]
     },
     "execution_count": 55,
     "metadata": {},
     "output_type": "execute_result"
    }
   ],
   "source": [
    "# Find list of common unique items from two list. and show in increasing order\n",
    "num1 = [23,45,67,78,89,34]\n",
    "num2 = [34,89,55,56,39,67]\n",
    "\n",
    "sorted([i for i in num1 if i in num2])  # one lie ans"
   ]
  },
  {
   "cell_type": "raw",
   "id": "c0889dc9-9644-44c3-bc10-a05d6f8477f2",
   "metadata": {},
   "source": [
    "Q. Sort a list of alphanumeric strings based on product value of numeric character in it. If in any string there is no numeric character take it's\n",
    "product value as 1.\n",
    "['1ac21', '23fg', '456', '098d','1','kls']----->['456', '23fg', '1ac21', '1', 'kls', '098d']"
   ]
  },
  {
   "cell_type": "code",
   "execution_count": 1,
   "id": "24d08e0a-b924-4664-95f1-6e3d047df2f7",
   "metadata": {},
   "outputs": [
    {
     "name": "stdout",
     "output_type": "stream",
     "text": [
      "['456', '23fg', '1ac21', 'kls', '1', '098d']\n"
     ]
    }
   ],
   "source": [
    "lst = ['1ac21', '23fg', '456', '098d','1','kls']\n",
    "lst1=[]\n",
    "final = []\n",
    "for word in lst:\n",
    "    product = 1\n",
    "    for char in word:\n",
    "        if char.isnumeric():\n",
    "            product *= int(char)\n",
    "    lst1.append(product)\n",
    "#sorted(list(zip(lst1,lst)), reverse=True)\n",
    "\n",
    "for i, j in sorted(zip(lst1,lst), reverse=True):\n",
    "    final.append(j)\n",
    "\n",
    "print(final)"
   ]
  },
  {
   "cell_type": "code",
   "execution_count": 77,
   "id": "328ed61c-bc2b-4d4a-866e-adf9963651b3",
   "metadata": {},
   "outputs": [
    {
     "name": "stdout",
     "output_type": "stream",
     "text": [
      "['456', '23fg', '1ac21', '1', 'kls', '098d']\n"
     ]
    }
   ],
   "source": [
    "def product_of_digits(s):\n",
    "    product = 1\n",
    "    has_digit = False\n",
    "    for char in s:\n",
    "        if char.isdigit():\n",
    "            product *= int(char)\n",
    "            has_digit = True\n",
    "    return product if has_digit else 1\n",
    "\n",
    "# Input list\n",
    "input_list = ['1ac21', '23fg', '456', '098d', '1', 'kls']\n",
    "\n",
    "# in sorted ksy is given which decide how to sort the items . Every time one item is passed in fun and will return the product and sort on th e basis of \n",
    "# prod value\n",
    "sorted_list = sorted(input_list, key=product_of_digits, reverse=True)  \n",
    "\n",
    "# Print the output\n",
    "print(sorted_list)"
   ]
  },
  {
   "cell_type": "code",
   "execution_count": 83,
   "id": "8d563a5d-186b-4b3a-82e5-45aabfe8d55a",
   "metadata": {},
   "outputs": [
    {
     "name": "stdout",
     "output_type": "stream",
     "text": [
      "['456', '23fg', '1ac21', '1', 'kls', '098d']\n"
     ]
    }
   ],
   "source": [
    "def product_sort(s):\n",
    "    product = 1\n",
    "    has_digit=False\n",
    "    for i in s:\n",
    "        if i.isdigit():\n",
    "            product *= int(i)\n",
    "            has_digit=True\n",
    "    return product if has_digit else 1\n",
    "\n",
    "lst = ['1ac21', '23fg', '456', '098d', '1', 'kls']\n",
    "sorte_list=sorted(lst, key=product_sort, reverse=True)\n",
    "\n",
    "print(sorted_list)"
   ]
  },
  {
   "cell_type": "code",
   "execution_count": 85,
   "id": "ad23ee40-87ac-4d08-a7cf-4808f47c562d",
   "metadata": {},
   "outputs": [
    {
     "name": "stdout",
     "output_type": "stream",
     "text": [
      "CampusX is a channel for data-science aspirants.\n"
     ]
    }
   ],
   "source": [
    "lst = ['CampusX is a channel', 'for data-science', 'aspirants.']\n",
    "print(' '. join(lst))"
   ]
  },
  {
   "cell_type": "code",
   "execution_count": null,
   "id": "34f48a12-74f6-4ef6-b03e-dd8a65f077bd",
   "metadata": {},
   "outputs": [],
   "source": [
    "# ['CampusX', 'is', 'a', 'channel', 'for', 'data-science', 'aspirants.']"
   ]
  },
  {
   "cell_type": "code",
   "execution_count": 90,
   "id": "aa8fe344-7c86-43fa-900d-55c722978f91",
   "metadata": {},
   "outputs": [
    {
     "data": {
      "text/plain": [
       "['CampusX', 'is', 'a', 'channel', 'for', 'data-science', 'aspirants.']"
      ]
     },
     "execution_count": 90,
     "metadata": {},
     "output_type": "execute_result"
    }
   ],
   "source": [
    "result =[]\n",
    "for i in lst:\n",
    "    result.extend((i.split()))\n",
    "\n",
    "result"
   ]
  },
  {
   "cell_type": "code",
   "execution_count": 91,
   "id": "4f5478a1-15a7-497e-a526-cad6d2c43129",
   "metadata": {},
   "outputs": [
    {
     "name": "stdout",
     "output_type": "stream",
     "text": [
      "['c', 'a', 'm', 'p', 'u', 'x']\n",
      "['i', 's']\n",
      "['b', 'e', 's', 't']\n",
      "['c', 'h', 'a', 'n', 'n', 'e', 'l']\n"
     ]
    }
   ],
   "source": [
    "# Convert Character Matrix to single String using string comprehension\n",
    "# o/p campux is best channel\n",
    "lst = [['c', 'a', 'm', 'p', 'u', 'x'], ['i', 's'], ['b', 'e', 's', 't'], ['c', 'h', 'a', 'n', 'n', 'e', 'l']]\n",
    "for i in lst:\n",
    "    print(i)"
   ]
  },
  {
   "cell_type": "code",
   "execution_count": 100,
   "id": "cd2cdfd2-8da1-433f-a163-62813f605b68",
   "metadata": {},
   "outputs": [
    {
     "data": {
      "text/plain": [
       "['campux', 'is', 'best', 'channel']"
      ]
     },
     "execution_count": 100,
     "metadata": {},
     "output_type": "execute_result"
    }
   ],
   "source": [
    "[''.join(i) for i in lst] # this gives us the list "
   ]
  },
  {
   "cell_type": "code",
   "execution_count": 102,
   "id": "caa3f46f-028c-4e96-96cb-d2e4fcaf540f",
   "metadata": {},
   "outputs": [
    {
     "name": "stdout",
     "output_type": "stream",
     "text": [
      "campux is best channel\n"
     ]
    }
   ],
   "source": [
    "print(' '.join([''.join(i) for i in lst]))  # the one line code"
   ]
  },
  {
   "cell_type": "code",
   "execution_count": 113,
   "id": "e6955d3e-a051-4e5a-90ab-ca671c727327",
   "metadata": {},
   "outputs": [
    {
     "name": "stdout",
     "output_type": "stream",
     "text": [
      "[2, 3, 5, 7, 8, 1, 4]\n"
     ]
    }
   ],
   "source": [
    "# union of two list\n",
    "L1=[1,2,3,4,5,1]\n",
    "L2=[2,3,5,7,8]\n",
    "\n",
    "# L1.extend(L2) # this will gives the duplicated list having duplicate items \n",
    "\n",
    "for i in L1:\n",
    "    if i not in L2:\n",
    "        L2.append(i)\n",
    "\n",
    "print(L2)"
   ]
  },
  {
   "cell_type": "code",
   "execution_count": 115,
   "id": "bc7fc70c-2b84-4030-b239-414e11ebe1c1",
   "metadata": {},
   "outputs": [
    {
     "data": {
      "text/plain": [
       "[1, 2, 3, 4, 5, 7, 8]"
      ]
     },
     "execution_count": 115,
     "metadata": {},
     "output_type": "execute_result"
    }
   ],
   "source": [
    "list(set(L1)|set(L2))  # union operator"
   ]
  },
  {
   "cell_type": "code",
   "execution_count": null,
   "id": "e080fdee-77da-48ff-a909-36467edcfe01",
   "metadata": {},
   "outputs": [],
   "source": [
    "# Write a list comprehension that can transpose a given matrix matrix = [ [1,2,3], [4,5,6], [7,8,9] ]"
   ]
  },
  {
   "cell_type": "code",
   "execution_count": 131,
   "id": "4669f175-d85f-436f-96a2-2993fbeb1b4c",
   "metadata": {},
   "outputs": [
    {
     "data": {
      "text/plain": [
       "[[1, 4, 7], [2, 5, 8], [3, 6, 9]]"
      ]
     },
     "execution_count": 131,
     "metadata": {},
     "output_type": "execute_result"
    }
   ],
   "source": [
    "matrix = [ [1,2,3], \n",
    "          [4,5,6], \n",
    "          [7,8,9] ]\n",
    "lst1 =[]\n",
    "result = []\n",
    "for i in range(len(matrix[0])):\n",
    "    for row in matrix:\n",
    "        lst1.append(row[i])\n",
    "    result.append(lst1)\n",
    "    lst1=[]\n",
    "\n",
    "result"
   ]
  },
  {
   "cell_type": "code",
   "execution_count": 133,
   "id": "f9ce015f-5490-49bb-8b17-5e414e800d6b",
   "metadata": {},
   "outputs": [
    {
     "data": {
      "text/plain": [
       "[[1, 4, 7], [2, 5, 8], [3, 6, 9]]"
      ]
     },
     "execution_count": 133,
     "metadata": {},
     "output_type": "execute_result"
    }
   ],
   "source": [
    "[[row[i]for row in matrix] for i in range(len(matrix[0]))]"
   ]
  },
  {
   "cell_type": "code",
   "execution_count": 136,
   "id": "e332e7ca-b31a-4685-80f4-bc99f1788ae8",
   "metadata": {},
   "outputs": [
    {
     "data": {
      "text/plain": [
       "[(1, 4, 7), (2, 5, 8), (3, 6, 9)]"
      ]
     },
     "execution_count": 136,
     "metadata": {},
     "output_type": "execute_result"
    }
   ],
   "source": [
    "list(list(zip(*matrix)))"
   ]
  },
  {
   "cell_type": "code",
   "execution_count": 139,
   "id": "2d0f0895-cc50-48f0-8e99-18eb93ed711d",
   "metadata": {},
   "outputs": [
    {
     "name": "stdout",
     "output_type": "stream",
     "text": [
      "[1, 2, 3] [4, 5, 6] [7, 8, 9]\n"
     ]
    }
   ],
   "source": [
    "print(*matrix)   # unfold teh matrix"
   ]
  },
  {
   "cell_type": "code",
   "execution_count": 141,
   "id": "44f967d4-d976-4a89-a615-8e44071a0bfd",
   "metadata": {},
   "outputs": [
    {
     "data": {
      "text/plain": [
       "[(1, 4, 7), (2, 5, 8), (3, 6, 9)]"
      ]
     },
     "execution_count": 141,
     "metadata": {},
     "output_type": "execute_result"
    }
   ],
   "source": [
    "[i for i in zip(*matrix)]"
   ]
  },
  {
   "cell_type": "markdown",
   "id": "3058d877-6b21-4562-9ae7-0d7214ea3dd8",
   "metadata": {},
   "source": [
    "# TUPLE\n",
    "### similar like the list abut immutable in nature \n",
    "### we cannot modify the containts of tuple once decleared"
   ]
  },
  {
   "cell_type": "code",
   "execution_count": 181,
   "id": "b98715d3-43e8-4a40-ae63-4c5f1dc0cee7",
   "metadata": {},
   "outputs": [],
   "source": [
    "# creating tuple\n",
    "t=()"
   ]
  },
  {
   "cell_type": "code",
   "execution_count": 144,
   "id": "0bd310f3-4c26-4fdd-9007-d0fcb5a510c3",
   "metadata": {},
   "outputs": [
    {
     "data": {
      "text/plain": [
       "tuple"
      ]
     },
     "execution_count": 144,
     "metadata": {},
     "output_type": "execute_result"
    }
   ],
   "source": [
    "type(t)"
   ]
  },
  {
   "cell_type": "code",
   "execution_count": 145,
   "id": "b0e07049-7a7e-4d4f-8945-75528d79b149",
   "metadata": {},
   "outputs": [],
   "source": [
    "t=('Iron')"
   ]
  },
  {
   "cell_type": "code",
   "execution_count": 146,
   "id": "3724a985-8ef3-4b9c-a9ea-2b32465db4e0",
   "metadata": {},
   "outputs": [
    {
     "data": {
      "text/plain": [
       "str"
      ]
     },
     "execution_count": 146,
     "metadata": {},
     "output_type": "execute_result"
    }
   ],
   "source": [
    "type(t)"
   ]
  },
  {
   "cell_type": "code",
   "execution_count": 149,
   "id": "c959a704-1d13-4149-b342-07b942cde5f3",
   "metadata": {},
   "outputs": [],
   "source": [
    "t=('Iron',)  # commaseperated values for a tuple"
   ]
  },
  {
   "cell_type": "code",
   "execution_count": 150,
   "id": "e18b4264-2eec-481f-aacb-b073a2fe9537",
   "metadata": {},
   "outputs": [
    {
     "data": {
      "text/plain": [
       "tuple"
      ]
     },
     "execution_count": 150,
     "metadata": {},
     "output_type": "execute_result"
    }
   ],
   "source": [
    "type(t)"
   ]
  },
  {
   "cell_type": "code",
   "execution_count": 153,
   "id": "0c2178d6-d065-4668-826f-0bb048f92cbb",
   "metadata": {},
   "outputs": [
    {
     "data": {
      "text/plain": [
       "(1, 2.3, 'Mayur', True, [1, 2, 3], (11, 22))"
      ]
     },
     "execution_count": 153,
     "metadata": {},
     "output_type": "execute_result"
    }
   ],
   "source": [
    "(1,2.3,'Mayur',True,[1,2,3],(11,22))  # we can store any type of data itno the tuple"
   ]
  },
  {
   "cell_type": "code",
   "execution_count": 154,
   "id": "fc26a192-1edf-428d-86e9-c2fffe243822",
   "metadata": {},
   "outputs": [
    {
     "data": {
      "text/plain": [
       "['M', 'a', 'y', 'u', 'r']"
      ]
     },
     "execution_count": 154,
     "metadata": {},
     "output_type": "execute_result"
    }
   ],
   "source": [
    "string = 'Mayur'\n",
    "list(string)"
   ]
  },
  {
   "cell_type": "code",
   "execution_count": 155,
   "id": "447e286e-c0f2-45fd-ac83-e4ae0bd3ca17",
   "metadata": {},
   "outputs": [
    {
     "data": {
      "text/plain": [
       "('M', 'a', 'y', 'u', 'r')"
      ]
     },
     "execution_count": 155,
     "metadata": {},
     "output_type": "execute_result"
    }
   ],
   "source": [
    "tuple(string)"
   ]
  },
  {
   "cell_type": "code",
   "execution_count": 156,
   "id": "606a7541-0ab0-4c1c-9b30-c83563329135",
   "metadata": {},
   "outputs": [
    {
     "data": {
      "text/plain": [
       "['M', 'a', 'y', 'u', 'r', ' ', 'A', 'm', 'r', 'u', 't', 'e']"
      ]
     },
     "execution_count": 156,
     "metadata": {},
     "output_type": "execute_result"
    }
   ],
   "source": [
    "str1 = 'Mayur Amrute'\n",
    "list(str1)"
   ]
  },
  {
   "cell_type": "code",
   "execution_count": 157,
   "id": "5d74cc4d-d641-4acc-8ba0-0d23c6dd4e52",
   "metadata": {},
   "outputs": [],
   "source": [
    "# indexing and slicing"
   ]
  },
  {
   "cell_type": "code",
   "execution_count": 173,
   "id": "8b32d6f9-a5e3-4729-a2fd-7d48b988f59e",
   "metadata": {},
   "outputs": [],
   "source": [
    "tpl = (1,2,3,4,5,33,44,55)"
   ]
  },
  {
   "cell_type": "code",
   "execution_count": 159,
   "id": "8e5509f6-f028-4473-a8fe-b6f7fc273935",
   "metadata": {},
   "outputs": [
    {
     "data": {
      "text/plain": [
       "2"
      ]
     },
     "execution_count": 159,
     "metadata": {},
     "output_type": "execute_result"
    }
   ],
   "source": [
    "tpl[1]"
   ]
  },
  {
   "cell_type": "code",
   "execution_count": 160,
   "id": "b36c4e22-780e-4199-877a-9a4cd9e1ab58",
   "metadata": {},
   "outputs": [
    {
     "data": {
      "text/plain": [
       "(3, 4, 5, 33, 44, 55)"
      ]
     },
     "execution_count": 160,
     "metadata": {},
     "output_type": "execute_result"
    }
   ],
   "source": [
    "tpl[2:]"
   ]
  },
  {
   "cell_type": "code",
   "execution_count": 161,
   "id": "4748bef2-2fce-4100-baf0-a66542dcc9e5",
   "metadata": {},
   "outputs": [
    {
     "data": {
      "text/plain": [
       "(3, 4, 5)"
      ]
     },
     "execution_count": 161,
     "metadata": {},
     "output_type": "execute_result"
    }
   ],
   "source": [
    "tpl[2:5]"
   ]
  },
  {
   "cell_type": "code",
   "execution_count": 163,
   "id": "d015b7cb-bcb9-4b53-a1b9-e6b94b694127",
   "metadata": {},
   "outputs": [
    {
     "data": {
      "text/plain": [
       "(55, 44, 33, 5, 4, 3, 2, 1)"
      ]
     },
     "execution_count": 163,
     "metadata": {},
     "output_type": "execute_result"
    }
   ],
   "source": [
    "tpl[::-1] # reverce"
   ]
  },
  {
   "cell_type": "code",
   "execution_count": 174,
   "id": "13fd1751-bc35-44cc-9cf3-0529a109ddd8",
   "metadata": {},
   "outputs": [],
   "source": [
    "del(tpl)\n",
    "# del tpl   # both are correct"
   ]
  },
  {
   "cell_type": "code",
   "execution_count": 175,
   "id": "95856d22-546c-424a-88f5-ff41931993c0",
   "metadata": {},
   "outputs": [],
   "source": [
    "# add multplication"
   ]
  },
  {
   "cell_type": "code",
   "execution_count": 179,
   "id": "dbd9b184-9425-4da6-8f11-8004e5bebba8",
   "metadata": {},
   "outputs": [
    {
     "data": {
      "text/plain": [
       "(1, 2, 3, 4, 1, 2, 3, 4, 1, 2, 3, 4)"
      ]
     },
     "execution_count": 179,
     "metadata": {},
     "output_type": "execute_result"
    }
   ],
   "source": [
    "tpl=(1,2,3,4)\n",
    "tpl1=(5,6,7,8)\n",
    "\n",
    "tpl+tpl1  # cancatibate the tuple  + operator\n",
    "# tpl*tpl1  we cannot multiply tuple wuthanother tuple\n",
    "tpl*3   # scaler multiplication is allowed"
   ]
  },
  {
   "cell_type": "code",
   "execution_count": null,
   "id": "4004c8bd-1252-4a1e-b997-db335b8142f1",
   "metadata": {},
   "outputs": [],
   "source": [
    "# min max len sorted  "
   ]
  },
  {
   "cell_type": "code",
   "execution_count": 180,
   "id": "115fb7d8-b3e0-451d-864f-86624faf1006",
   "metadata": {},
   "outputs": [],
   "source": [
    "t1 = (1,2,3,6,11,22,33)"
   ]
  },
  {
   "cell_type": "code",
   "execution_count": 182,
   "id": "4e78ab4a-c447-480a-ba7a-c3829454746e",
   "metadata": {},
   "outputs": [
    {
     "data": {
      "text/plain": [
       "1"
      ]
     },
     "execution_count": 182,
     "metadata": {},
     "output_type": "execute_result"
    }
   ],
   "source": [
    "min(t1)"
   ]
  },
  {
   "cell_type": "code",
   "execution_count": 183,
   "id": "c86fc441-9141-4153-a7e9-e51d615196cd",
   "metadata": {},
   "outputs": [
    {
     "data": {
      "text/plain": [
       "33"
      ]
     },
     "execution_count": 183,
     "metadata": {},
     "output_type": "execute_result"
    }
   ],
   "source": [
    "max(t1)"
   ]
  },
  {
   "cell_type": "code",
   "execution_count": 188,
   "id": "82d77204-37db-4d13-a583-0463c683d73e",
   "metadata": {},
   "outputs": [
    {
     "data": {
      "text/plain": [
       "[33, 22, 11, 6, 3, 2, 1]"
      ]
     },
     "execution_count": 188,
     "metadata": {},
     "output_type": "execute_result"
    }
   ],
   "source": [
    "sorted(t1, reverse=True)  #  the sort function will not work over here as it make chages into the the memory abd tuple are immutable in nature"
   ]
  },
  {
   "cell_type": "code",
   "execution_count": 189,
   "id": "bdac0c9b-fce6-44f8-9c67-08a9a11942b2",
   "metadata": {},
   "outputs": [],
   "source": [
    "# t1.sort() will not work"
   ]
  },
  {
   "cell_type": "code",
   "execution_count": 191,
   "id": "2a3734f9-bd30-42f6-aeb7-a864415c9a54",
   "metadata": {},
   "outputs": [
    {
     "data": {
      "text/plain": [
       "78"
      ]
     },
     "execution_count": 191,
     "metadata": {},
     "output_type": "execute_result"
    }
   ],
   "source": [
    "sum(t1)  # add all the elements of tuple"
   ]
  },
  {
   "cell_type": "code",
   "execution_count": 192,
   "id": "1fa48a79-708f-411c-911d-4687dd546cd6",
   "metadata": {},
   "outputs": [],
   "source": [
    "# count() index()"
   ]
  },
  {
   "cell_type": "code",
   "execution_count": 194,
   "id": "2b2d64a5-f913-48d4-b9e1-890372cf89b1",
   "metadata": {},
   "outputs": [
    {
     "data": {
      "text/plain": [
       "1"
      ]
     },
     "execution_count": 194,
     "metadata": {},
     "output_type": "execute_result"
    }
   ],
   "source": [
    "t1.count(1)  # this function gives the count of occurance of elements in tuple"
   ]
  },
  {
   "cell_type": "code",
   "execution_count": 198,
   "id": "04ed299a-450c-4bbc-9161-ff34ba836ca1",
   "metadata": {},
   "outputs": [
    {
     "data": {
      "text/plain": [
       "4"
      ]
     },
     "execution_count": 198,
     "metadata": {},
     "output_type": "execute_result"
    }
   ],
   "source": [
    "t1.index(11)  # index() gives the index of specified element  "
   ]
  },
  {
   "cell_type": "code",
   "execution_count": 196,
   "id": "d7c7b3a7-e5f7-43f3-83ed-68880634a7a5",
   "metadata": {},
   "outputs": [
    {
     "data": {
      "text/plain": [
       "(1, 2, 3, 6, 11, 22, 33)"
      ]
     },
     "execution_count": 196,
     "metadata": {},
     "output_type": "execute_result"
    }
   ],
   "source": [
    "t1"
   ]
  },
  {
   "cell_type": "code",
   "execution_count": null,
   "id": "907256d2-08d1-4704-94d0-0737031b4818",
   "metadata": {},
   "outputs": [],
   "source": [
    "# comparing the time required for List and Tuple"
   ]
  },
  {
   "cell_type": "code",
   "execution_count": 201,
   "id": "80757a34-61f2-4693-9852-25b14f1f92db",
   "metadata": {},
   "outputs": [
    {
     "name": "stdout",
     "output_type": "stream",
     "text": [
      "Time for List:  0.04543018341064453\n",
      "Time required for Tuple:  0.027543067932128906\n"
     ]
    }
   ],
   "source": [
    "L=list(range(100000))\n",
    "T=tuple(range(100000))\n",
    "\n",
    "import time\n",
    "\n",
    "start = time.time()\n",
    "\n",
    "for i in L:\n",
    "    i*5\n",
    "\n",
    "print('Time for List: ', time.time()-start)\n",
    "\n",
    "\n",
    "start = time.time()\n",
    "for i in T:\n",
    "    i*5\n",
    "print('Time required for Tuple: ', time.time()-start)\n"
   ]
  },
  {
   "cell_type": "code",
   "execution_count": 1,
   "id": "623b021d-342b-4d1d-89f9-fc274fd14e69",
   "metadata": {},
   "outputs": [
    {
     "name": "stdout",
     "output_type": "stream",
     "text": [
      "Size of List:  800056\n",
      "Size of Tuple:  800040\n"
     ]
    }
   ],
   "source": [
    "import sys\n",
    "L=list(range(100000))\n",
    "T=tuple(range(100000))\n",
    "\n",
    "print('Size of List: ', sys.getsizeof(L))\n",
    "print('Size of Tuple: ', sys.getsizeof(T))"
   ]
  },
  {
   "cell_type": "code",
   "execution_count": 2,
   "id": "c657554c-fa56-45c5-9d94-3fd98255a659",
   "metadata": {},
   "outputs": [
    {
     "data": {
      "text/plain": [
       "(1, 2, 3, 4)"
      ]
     },
     "execution_count": 2,
     "metadata": {},
     "output_type": "execute_result"
    }
   ],
   "source": [
    "(1,2)+(3,4)"
   ]
  },
  {
   "cell_type": "code",
   "execution_count": 3,
   "id": "78eb53ff-a74f-42ef-9891-3ed76e03cf4a",
   "metadata": {},
   "outputs": [
    {
     "data": {
      "text/plain": [
       "[1, 2, 3, 4]"
      ]
     },
     "execution_count": 3,
     "metadata": {},
     "output_type": "execute_result"
    }
   ],
   "source": [
    "[1,2]+[3,4]"
   ]
  },
  {
   "cell_type": "code",
   "execution_count": 4,
   "id": "c98ce065-70ca-4340-939a-205381ce21cb",
   "metadata": {},
   "outputs": [],
   "source": [
    "# Tuple unpacking"
   ]
  },
  {
   "cell_type": "code",
   "execution_count": 7,
   "id": "08d97c8d-cb39-4b6b-b652-caa7e016909d",
   "metadata": {},
   "outputs": [],
   "source": [
    "a,b,c = (11,22,33)  # values are assign as per the sequence of variables"
   ]
  },
  {
   "cell_type": "code",
   "execution_count": 8,
   "id": "44a9d4a8-faba-4693-ba41-d07065663778",
   "metadata": {},
   "outputs": [
    {
     "data": {
      "text/plain": [
       "11"
      ]
     },
     "execution_count": 8,
     "metadata": {},
     "output_type": "execute_result"
    }
   ],
   "source": [
    "a"
   ]
  },
  {
   "cell_type": "code",
   "execution_count": 9,
   "id": "d48413d0-4c2f-4bb7-9cd7-26c638f55e4c",
   "metadata": {},
   "outputs": [
    {
     "data": {
      "text/plain": [
       "22"
      ]
     },
     "execution_count": 9,
     "metadata": {},
     "output_type": "execute_result"
    }
   ],
   "source": [
    "b"
   ]
  },
  {
   "cell_type": "code",
   "execution_count": 11,
   "id": "21c3273e-e373-4c71-823b-9e50f0d590bf",
   "metadata": {},
   "outputs": [
    {
     "ename": "ValueError",
     "evalue": "too many values to unpack (expected 2)",
     "output_type": "error",
     "traceback": [
      "\u001b[1;31m---------------------------------------------------------------------------\u001b[0m",
      "\u001b[1;31mValueError\u001b[0m                                Traceback (most recent call last)",
      "Cell \u001b[1;32mIn[11], line 1\u001b[0m\n\u001b[1;32m----> 1\u001b[0m a,b\u001b[38;5;241m=\u001b[39m(\u001b[38;5;241m66\u001b[39m,\u001b[38;5;241m77\u001b[39m,\u001b[38;5;241m33\u001b[39m)\n",
      "\u001b[1;31mValueError\u001b[0m: too many values to unpack (expected 2)"
     ]
    }
   ],
   "source": [
    "a,b=(66,77,33)"
   ]
  },
  {
   "cell_type": "code",
   "execution_count": 12,
   "id": "74f98892-b6de-498a-a0c6-e0480c7e605f",
   "metadata": {},
   "outputs": [],
   "source": [
    "a,*b=(11,22,33,44)"
   ]
  },
  {
   "cell_type": "code",
   "execution_count": 15,
   "id": "c928a254-7ced-4590-b13a-32eca2672ce9",
   "metadata": {},
   "outputs": [
    {
     "data": {
      "text/plain": [
       "11"
      ]
     },
     "execution_count": 15,
     "metadata": {},
     "output_type": "execute_result"
    }
   ],
   "source": [
    "a # one value is assign to a nad remaining to the b"
   ]
  },
  {
   "cell_type": "code",
   "execution_count": 14,
   "id": "2f59b669-4c95-4476-af58-21b509a2f7f7",
   "metadata": {},
   "outputs": [
    {
     "data": {
      "text/plain": [
       "[22, 33, 44]"
      ]
     },
     "execution_count": 14,
     "metadata": {},
     "output_type": "execute_result"
    }
   ],
   "source": [
    "b   #all remaining assign to b as list"
   ]
  },
  {
   "cell_type": "code",
   "execution_count": 16,
   "id": "4d459744-1118-48dd-8c3c-426479e39d2e",
   "metadata": {},
   "outputs": [
    {
     "data": {
      "text/plain": [
       "((1, 'a'), (2, 'b'), (3, 'c'))"
      ]
     },
     "execution_count": 16,
     "metadata": {},
     "output_type": "execute_result"
    }
   ],
   "source": [
    "t1=(1,2,3)\n",
    "t2=('a','b','c')\n",
    "\n",
    "tuple(zip(t1,t2))"
   ]
  },
  {
   "cell_type": "markdown",
   "id": "63767d2a-2b2d-44af-b172-9c0ab47d5136",
   "metadata": {},
   "source": [
    "# SET\n",
    "### collection of unique item\n",
    "### mutable\n",
    "### unordered\n",
    "### not allowed mutable items inside "
   ]
  },
  {
   "cell_type": "code",
   "execution_count": 17,
   "id": "83999360-93bb-4eaf-8f3c-446eeb2a49d5",
   "metadata": {},
   "outputs": [],
   "source": [
    "s={}"
   ]
  },
  {
   "cell_type": "code",
   "execution_count": 18,
   "id": "6bf76b43-c510-49b1-925d-2b172a786ea7",
   "metadata": {},
   "outputs": [
    {
     "data": {
      "text/plain": [
       "dict"
      ]
     },
     "execution_count": 18,
     "metadata": {},
     "output_type": "execute_result"
    }
   ],
   "source": [
    "type(s)"
   ]
  },
  {
   "cell_type": "code",
   "execution_count": 19,
   "id": "82bd74c3-a452-497e-b6ed-65b0f19f4ee2",
   "metadata": {},
   "outputs": [],
   "source": [
    "s=set() # constuctor is used "
   ]
  },
  {
   "cell_type": "code",
   "execution_count": 20,
   "id": "a86aa03f-236e-4d2e-a109-f64266866f40",
   "metadata": {},
   "outputs": [
    {
     "data": {
      "text/plain": [
       "set"
      ]
     },
     "execution_count": 20,
     "metadata": {},
     "output_type": "execute_result"
    }
   ],
   "source": [
    "type(s)"
   ]
  },
  {
   "cell_type": "code",
   "execution_count": 21,
   "id": "ad2308d7-0349-4424-bdd1-49f32513d23e",
   "metadata": {},
   "outputs": [],
   "source": [
    "s={1,2,3,4,5,66,6,6}"
   ]
  },
  {
   "cell_type": "code",
   "execution_count": 22,
   "id": "581294ba-2589-4452-8f34-d77ab2ca9e96",
   "metadata": {},
   "outputs": [
    {
     "data": {
      "text/plain": [
       "{1, 2, 3, 4, 5, 6, 66}"
      ]
     },
     "execution_count": 22,
     "metadata": {},
     "output_type": "execute_result"
    }
   ],
   "source": [
    "s # will remove the  "
   ]
  },
  {
   "cell_type": "code",
   "execution_count": 27,
   "id": "536a097f-9f42-4fef-b719-6c6f1507c197",
   "metadata": {},
   "outputs": [
    {
     "data": {
      "text/plain": [
       "True"
      ]
     },
     "execution_count": 27,
     "metadata": {},
     "output_type": "execute_result"
    }
   ],
   "source": [
    "s1={1,2,3}\n",
    "s2={2,3,1}\n",
    "\n",
    "s1==s2  # since set are unorderd "
   ]
  },
  {
   "cell_type": "code",
   "execution_count": 28,
   "id": "3a1bd4d7-305b-4837-9fb5-e2fc8b57785c",
   "metadata": {},
   "outputs": [
    {
     "data": {
      "text/plain": [
       "{1, 2, 3}"
      ]
     },
     "execution_count": 28,
     "metadata": {},
     "output_type": "execute_result"
    }
   ],
   "source": [
    "s1"
   ]
  },
  {
   "cell_type": "code",
   "execution_count": 29,
   "id": "75e26192-6bdf-4e0d-871e-8af6bdd0e7d3",
   "metadata": {},
   "outputs": [
    {
     "data": {
      "text/plain": [
       "{1, 2, 3}"
      ]
     },
     "execution_count": 29,
     "metadata": {},
     "output_type": "execute_result"
    }
   ],
   "source": [
    "s2"
   ]
  },
  {
   "cell_type": "code",
   "execution_count": 30,
   "id": "8a0da883-11d1-4c4c-879a-0f51feeb10ea",
   "metadata": {},
   "outputs": [
    {
     "name": "stdout",
     "output_type": "stream",
     "text": [
      "1683999997088\n",
      "1683999994176\n"
     ]
    }
   ],
   "source": [
    "print(id(s1))\n",
    "print(id(s2))"
   ]
  },
  {
   "cell_type": "code",
   "execution_count": 31,
   "id": "4f237d03-8907-4e0a-843c-46b2ae7fd6b0",
   "metadata": {},
   "outputs": [],
   "source": [
    "# since set is unorderd data type we cannot access the items from the set \n",
    "# but can add the items into the set"
   ]
  },
  {
   "cell_type": "code",
   "execution_count": 42,
   "id": "f6dc7088-83ff-4b42-bd0c-8d4924f15b27",
   "metadata": {},
   "outputs": [],
   "source": [
    "#add() update()\n",
    "s={1,2,3,4}\n",
    "s.add(5)"
   ]
  },
  {
   "cell_type": "code",
   "execution_count": 43,
   "id": "8c37111a-09ad-4940-bfdb-d51d74d04c65",
   "metadata": {},
   "outputs": [
    {
     "data": {
      "text/plain": [
       "{1, 2, 3, 4, 5}"
      ]
     },
     "execution_count": 43,
     "metadata": {},
     "output_type": "execute_result"
    }
   ],
   "source": [
    "s"
   ]
  },
  {
   "cell_type": "code",
   "execution_count": 44,
   "id": "4812b578-c6f3-4c17-902f-b897310e26c5",
   "metadata": {},
   "outputs": [],
   "source": [
    "# s.add((1,2))  # add only sinle vale which is immutable"
   ]
  },
  {
   "cell_type": "code",
   "execution_count": 45,
   "id": "94f0dfe7-3713-48cf-a058-f36856fb7e0f",
   "metadata": {},
   "outputs": [
    {
     "data": {
      "text/plain": [
       "{1, 2, 3, 4, 5}"
      ]
     },
     "execution_count": 45,
     "metadata": {},
     "output_type": "execute_result"
    }
   ],
   "source": [
    "s"
   ]
  },
  {
   "cell_type": "code",
   "execution_count": 46,
   "id": "b59bc038-544f-405f-8b42-05ad1e805575",
   "metadata": {},
   "outputs": [],
   "source": [
    "s.update([11,22,33])  # # add multiple values at a time   and takes iterable only "
   ]
  },
  {
   "cell_type": "code",
   "execution_count": 47,
   "id": "6bca8fa0-e253-4d8a-9ddd-d8705364bcb0",
   "metadata": {},
   "outputs": [
    {
     "data": {
      "text/plain": [
       "{1, 2, 3, 4, 5, 11, 22, 33}"
      ]
     },
     "execution_count": 47,
     "metadata": {},
     "output_type": "execute_result"
    }
   ],
   "source": [
    "s"
   ]
  },
  {
   "cell_type": "code",
   "execution_count": 48,
   "id": "9f6a809d-2dc6-4e77-bec4-06af6fcb636c",
   "metadata": {},
   "outputs": [
    {
     "ename": "TypeError",
     "evalue": "'int' object is not iterable",
     "output_type": "error",
     "traceback": [
      "\u001b[1;31m---------------------------------------------------------------------------\u001b[0m",
      "\u001b[1;31mTypeError\u001b[0m                                 Traceback (most recent call last)",
      "Cell \u001b[1;32mIn[48], line 1\u001b[0m\n\u001b[1;32m----> 1\u001b[0m \u001b[43ms\u001b[49m\u001b[38;5;241;43m.\u001b[39;49m\u001b[43mupdate\u001b[49m\u001b[43m(\u001b[49m\u001b[38;5;241;43m2\u001b[39;49m\u001b[43m)\u001b[49m\n",
      "\u001b[1;31mTypeError\u001b[0m: 'int' object is not iterable"
     ]
    }
   ],
   "source": [
    "s.update(2)"
   ]
  },
  {
   "cell_type": "raw",
   "id": "a32dea2e-0237-4e39-92e8-8e9caf818e6b",
   "metadata": {},
   "source": [
    "min() max() sum() sorted() len()"
   ]
  },
  {
   "cell_type": "code",
   "execution_count": 49,
   "id": "0adb8cb3-7c94-4362-a960-2f718e6e0562",
   "metadata": {},
   "outputs": [
    {
     "data": {
      "text/plain": [
       "1"
      ]
     },
     "execution_count": 49,
     "metadata": {},
     "output_type": "execute_result"
    }
   ],
   "source": [
    "min(s)"
   ]
  },
  {
   "cell_type": "code",
   "execution_count": 50,
   "id": "c72fd118-ccf2-4f75-a0c3-d679353861d1",
   "metadata": {},
   "outputs": [
    {
     "data": {
      "text/plain": [
       "33"
      ]
     },
     "execution_count": 50,
     "metadata": {},
     "output_type": "execute_result"
    }
   ],
   "source": [
    "max(s)"
   ]
  },
  {
   "cell_type": "code",
   "execution_count": 51,
   "id": "b6e85ffd-cba0-443c-96eb-f09a22c0829b",
   "metadata": {},
   "outputs": [
    {
     "data": {
      "text/plain": [
       "8"
      ]
     },
     "execution_count": 51,
     "metadata": {},
     "output_type": "execute_result"
    }
   ],
   "source": [
    "len(s)"
   ]
  },
  {
   "cell_type": "code",
   "execution_count": 53,
   "id": "26d497b0-df6b-47ba-84f9-036322426037",
   "metadata": {},
   "outputs": [
    {
     "data": {
      "text/plain": [
       "[1, 2, 3, 4, 5, 11, 22, 33]"
      ]
     },
     "execution_count": 53,
     "metadata": {},
     "output_type": "execute_result"
    }
   ],
   "source": [
    "sorted(s)  # gives output in the form of listd"
   ]
  },
  {
   "cell_type": "code",
   "execution_count": 54,
   "id": "a7012eb5-787d-4912-bf47-bad14f677882",
   "metadata": {},
   "outputs": [],
   "source": [
    "### Deleting items from the set"
   ]
  },
  {
   "cell_type": "code",
   "execution_count": null,
   "id": "3b7afef4-ae69-4862-a2d3-eacab171916a",
   "metadata": {},
   "outputs": [],
   "source": [
    "remove() discard() pop() clear()"
   ]
  },
  {
   "cell_type": "code",
   "execution_count": 55,
   "id": "42294557-3d2a-47af-95ac-882caf490ea2",
   "metadata": {},
   "outputs": [
    {
     "data": {
      "text/plain": [
       "{1, 2, 3, 4, 5, 11, 22, 33}"
      ]
     },
     "execution_count": 55,
     "metadata": {},
     "output_type": "execute_result"
    }
   ],
   "source": [
    "s"
   ]
  },
  {
   "cell_type": "code",
   "execution_count": 56,
   "id": "28022d79-edaf-4a2c-a82b-b26d184a1ed5",
   "metadata": {},
   "outputs": [],
   "source": [
    "s.remove(1) # we cannot use indexing over here as set is unordered datatype"
   ]
  },
  {
   "cell_type": "code",
   "execution_count": 57,
   "id": "9979eca6-debf-4126-9e8b-ea957e552655",
   "metadata": {},
   "outputs": [
    {
     "data": {
      "text/plain": [
       "{2, 3, 4, 5, 11, 22, 33}"
      ]
     },
     "execution_count": 57,
     "metadata": {},
     "output_type": "execute_result"
    }
   ],
   "source": [
    "s"
   ]
  },
  {
   "cell_type": "code",
   "execution_count": 59,
   "id": "2d451b24-c6a8-4c93-83a7-813179b1b7b5",
   "metadata": {},
   "outputs": [
    {
     "ename": "KeyError",
     "evalue": "55",
     "output_type": "error",
     "traceback": [
      "\u001b[1;31m---------------------------------------------------------------------------\u001b[0m",
      "\u001b[1;31mKeyError\u001b[0m                                  Traceback (most recent call last)",
      "Cell \u001b[1;32mIn[59], line 1\u001b[0m\n\u001b[1;32m----> 1\u001b[0m \u001b[43ms\u001b[49m\u001b[38;5;241;43m.\u001b[39;49m\u001b[43mremove\u001b[49m\u001b[43m(\u001b[49m\u001b[38;5;241;43m55\u001b[39;49m\u001b[43m)\u001b[49m  \u001b[38;5;66;03m# through error if element is not found\u001b[39;00m\n",
      "\u001b[1;31mKeyError\u001b[0m: 55"
     ]
    }
   ],
   "source": [
    "s.remove(55)  # throw error if element is not found"
   ]
  },
  {
   "cell_type": "code",
   "execution_count": 60,
   "id": "209bb1e5-bd03-44dc-a11e-6a9fdfd404b9",
   "metadata": {},
   "outputs": [],
   "source": [
    "s.discard(2)"
   ]
  },
  {
   "cell_type": "code",
   "execution_count": 61,
   "id": "7a5b8468-089f-4c6f-8b4d-33c81572420a",
   "metadata": {},
   "outputs": [
    {
     "data": {
      "text/plain": [
       "{3, 4, 5, 11, 22, 33}"
      ]
     },
     "execution_count": 61,
     "metadata": {},
     "output_type": "execute_result"
    }
   ],
   "source": [
    "s"
   ]
  },
  {
   "cell_type": "code",
   "execution_count": 62,
   "id": "921ccab7-ffb5-49e8-979d-19e799fdcaca",
   "metadata": {},
   "outputs": [],
   "source": [
    "s.discard(1000)   # will not throw error if element not fond"
   ]
  },
  {
   "cell_type": "code",
   "execution_count": 63,
   "id": "910a4d8d-64ad-4d1b-8e91-80d495177742",
   "metadata": {},
   "outputs": [
    {
     "data": {
      "text/plain": [
       "{3, 4, 5, 11, 22, 33}"
      ]
     },
     "execution_count": 63,
     "metadata": {},
     "output_type": "execute_result"
    }
   ],
   "source": [
    "s"
   ]
  },
  {
   "cell_type": "code",
   "execution_count": 64,
   "id": "fe728e83-e5a1-41f2-841a-7ca38b99e69e",
   "metadata": {},
   "outputs": [
    {
     "data": {
      "text/plain": [
       "3"
      ]
     },
     "execution_count": 64,
     "metadata": {},
     "output_type": "execute_result"
    }
   ],
   "source": [
    "s.pop()  # remove the starting element"
   ]
  },
  {
   "cell_type": "code",
   "execution_count": 66,
   "id": "29a9dac0-4199-48c6-9a96-bd774d5081d2",
   "metadata": {},
   "outputs": [
    {
     "ename": "TypeError",
     "evalue": "set.pop() takes no arguments (1 given)",
     "output_type": "error",
     "traceback": [
      "\u001b[1;31m---------------------------------------------------------------------------\u001b[0m",
      "\u001b[1;31mTypeError\u001b[0m                                 Traceback (most recent call last)",
      "Cell \u001b[1;32mIn[66], line 1\u001b[0m\n\u001b[1;32m----> 1\u001b[0m \u001b[43ms\u001b[49m\u001b[38;5;241;43m.\u001b[39;49m\u001b[43mpop\u001b[49m\u001b[43m(\u001b[49m\u001b[38;5;241;43m1\u001b[39;49m\u001b[43m)\u001b[49m\n",
      "\u001b[1;31mTypeError\u001b[0m: set.pop() takes no arguments (1 given)"
     ]
    }
   ],
   "source": [
    "s.pop(1)"
   ]
  },
  {
   "cell_type": "code",
   "execution_count": 67,
   "id": "f230b94f-5f68-430c-9201-4ae099802dfc",
   "metadata": {},
   "outputs": [
    {
     "data": {
      "text/plain": [
       "{4, 5, 11, 22, 33}"
      ]
     },
     "execution_count": 67,
     "metadata": {},
     "output_type": "execute_result"
    }
   ],
   "source": [
    "s"
   ]
  },
  {
   "cell_type": "code",
   "execution_count": 69,
   "id": "35660335-4852-46f4-babb-99a035ab6585",
   "metadata": {},
   "outputs": [],
   "source": [
    "s.clear()"
   ]
  },
  {
   "cell_type": "code",
   "execution_count": 70,
   "id": "c47e00e5-95f0-47cc-93af-8f3d6d9b3f56",
   "metadata": {},
   "outputs": [
    {
     "data": {
      "text/plain": [
       "set()"
      ]
     },
     "execution_count": 70,
     "metadata": {},
     "output_type": "execute_result"
    }
   ],
   "source": [
    "s"
   ]
  },
  {
   "cell_type": "code",
   "execution_count": 1,
   "id": "be52aac9-e3d5-42f6-8975-cebe429b1c4f",
   "metadata": {},
   "outputs": [],
   "source": [
    "## set functions union() and update()"
   ]
  },
  {
   "cell_type": "code",
   "execution_count": 3,
   "id": "cd42137d-5c42-442a-a6ad-4255688f515d",
   "metadata": {},
   "outputs": [
    {
     "data": {
      "text/plain": [
       "{1, 2, 3, 4, 5, 6, 7}"
      ]
     },
     "execution_count": 3,
     "metadata": {},
     "output_type": "execute_result"
    }
   ],
   "source": [
    "s={1,2,3,4}\n",
    "s1={4,5,6,7,2,3}\n",
    "\n",
    "s|s1  # union operator\n",
    "s1.union(s)"
   ]
  },
  {
   "cell_type": "code",
   "execution_count": 4,
   "id": "654f85b8-50d6-46b1-b31d-285ddaf5b1d3",
   "metadata": {},
   "outputs": [
    {
     "data": {
      "text/plain": [
       "{2, 3, 4, 5, 6, 7}"
      ]
     },
     "execution_count": 4,
     "metadata": {},
     "output_type": "execute_result"
    }
   ],
   "source": [
    "s1"
   ]
  },
  {
   "cell_type": "code",
   "execution_count": 5,
   "id": "3e344131-fd47-43af-9e4a-3e928359e54b",
   "metadata": {},
   "outputs": [],
   "source": [
    "s.update(s1)   # its an permanent operation"
   ]
  },
  {
   "cell_type": "code",
   "execution_count": 6,
   "id": "04552b13-8d3b-4900-81bf-e65a410505c2",
   "metadata": {},
   "outputs": [
    {
     "data": {
      "text/plain": [
       "{1, 2, 3, 4, 5, 6, 7}"
      ]
     },
     "execution_count": 6,
     "metadata": {},
     "output_type": "execute_result"
    }
   ],
   "source": [
    "s"
   ]
  },
  {
   "cell_type": "code",
   "execution_count": 7,
   "id": "21ba59d6-22ce-4e48-8172-a8b0238a5f08",
   "metadata": {},
   "outputs": [
    {
     "data": {
      "text/plain": [
       "{1, 2, 3, 4, 5, 6, 7}"
      ]
     },
     "execution_count": 7,
     "metadata": {},
     "output_type": "execute_result"
    }
   ],
   "source": [
    "s"
   ]
  },
  {
   "cell_type": "code",
   "execution_count": 8,
   "id": "e22627f0-f68e-4b26-bf59-25f4f7d7db8d",
   "metadata": {},
   "outputs": [],
   "source": [
    "s={1,2,3,4}"
   ]
  },
  {
   "cell_type": "code",
   "execution_count": 9,
   "id": "51424232-b0bf-4374-b02f-f7972b682f85",
   "metadata": {},
   "outputs": [
    {
     "data": {
      "text/plain": [
       "{1, 2, 3, 4}"
      ]
     },
     "execution_count": 9,
     "metadata": {},
     "output_type": "execute_result"
    }
   ],
   "source": [
    "s"
   ]
  },
  {
   "cell_type": "code",
   "execution_count": 10,
   "id": "dfb7713c-30b7-4c76-b83c-99e23080ab9f",
   "metadata": {},
   "outputs": [
    {
     "data": {
      "text/plain": [
       "{2, 3, 4}"
      ]
     },
     "execution_count": 10,
     "metadata": {},
     "output_type": "execute_result"
    }
   ],
   "source": [
    "#intersection(common element (&))\n",
    "\n",
    "s1&s  # operator"
   ]
  },
  {
   "cell_type": "code",
   "execution_count": 12,
   "id": "3d68ffe6-6877-413e-abdc-8a982870cbd7",
   "metadata": {},
   "outputs": [
    {
     "data": {
      "text/plain": [
       "{2, 3, 4}"
      ]
     },
     "execution_count": 12,
     "metadata": {},
     "output_type": "execute_result"
    }
   ],
   "source": [
    "s1.intersection(s) # function"
   ]
  },
  {
   "cell_type": "code",
   "execution_count": 13,
   "id": "e3c4678e-5a71-45a1-ae05-31992b9b6b93",
   "metadata": {},
   "outputs": [],
   "source": [
    "s1.intersection_update(s)   # will update the set s1 with the intersection values"
   ]
  },
  {
   "cell_type": "code",
   "execution_count": 14,
   "id": "ef8d64c3-307c-4209-85db-8ccdf2a11d7e",
   "metadata": {},
   "outputs": [
    {
     "data": {
      "text/plain": [
       "{2, 3, 4}"
      ]
     },
     "execution_count": 14,
     "metadata": {},
     "output_type": "execute_result"
    }
   ],
   "source": [
    "s1"
   ]
  },
  {
   "cell_type": "code",
   "execution_count": 15,
   "id": "99a61d61-e8ce-4649-88cc-a7f9074d12bf",
   "metadata": {},
   "outputs": [
    {
     "data": {
      "text/plain": [
       "{1}"
      ]
     },
     "execution_count": 15,
     "metadata": {},
     "output_type": "execute_result"
    }
   ],
   "source": [
    "# set difference\n",
    "\n",
    "s-s1  # all elements which are not presnt in s1  "
   ]
  },
  {
   "cell_type": "code",
   "execution_count": 16,
   "id": "a5d1e4dc-0a52-4efe-9da6-afb92bc695ed",
   "metadata": {},
   "outputs": [
    {
     "data": {
      "text/plain": [
       "set()"
      ]
     },
     "execution_count": 16,
     "metadata": {},
     "output_type": "execute_result"
    }
   ],
   "source": [
    "s1-s  "
   ]
  },
  {
   "cell_type": "code",
   "execution_count": 17,
   "id": "b0c8a63c-77b5-47c3-895c-1b990a8f3db3",
   "metadata": {},
   "outputs": [
    {
     "data": {
      "text/plain": [
       "{1, 2, 3, 4}"
      ]
     },
     "execution_count": 17,
     "metadata": {},
     "output_type": "execute_result"
    }
   ],
   "source": [
    "s"
   ]
  },
  {
   "cell_type": "code",
   "execution_count": 18,
   "id": "0315c5bc-b98d-49fc-a5a5-5e644f784037",
   "metadata": {},
   "outputs": [
    {
     "data": {
      "text/plain": [
       "{2, 3, 4}"
      ]
     },
     "execution_count": 18,
     "metadata": {},
     "output_type": "execute_result"
    }
   ],
   "source": [
    "s1"
   ]
  },
  {
   "cell_type": "code",
   "execution_count": 20,
   "id": "f926d454-c612-4f54-bcdc-2ee911a21bea",
   "metadata": {},
   "outputs": [
    {
     "data": {
      "text/plain": [
       "{1}"
      ]
     },
     "execution_count": 20,
     "metadata": {},
     "output_type": "execute_result"
    }
   ],
   "source": [
    "# symetric difference (all uncommon elemnts from bot the set)\n",
    "s^s1"
   ]
  },
  {
   "cell_type": "code",
   "execution_count": 21,
   "id": "c70163b9-e37b-4c13-895e-734dff671477",
   "metadata": {},
   "outputs": [
    {
     "data": {
      "text/plain": [
       "{1}"
      ]
     },
     "execution_count": 21,
     "metadata": {},
     "output_type": "execute_result"
    }
   ],
   "source": [
    "s1^s"
   ]
  },
  {
   "cell_type": "code",
   "execution_count": null,
   "id": "1ce50158-e78f-46d7-8627-74e127cb882f",
   "metadata": {},
   "outputs": [],
   "source": [
    "# membership operator\n",
    "# in / not in "
   ]
  },
  {
   "cell_type": "code",
   "execution_count": 22,
   "id": "1481ddcb-24f6-428c-9697-9306edee9d2f",
   "metadata": {},
   "outputs": [
    {
     "data": {
      "text/plain": [
       "True"
      ]
     },
     "execution_count": 22,
     "metadata": {},
     "output_type": "execute_result"
    }
   ],
   "source": [
    "1 in s"
   ]
  },
  {
   "cell_type": "code",
   "execution_count": null,
   "id": "cddc7dd1-45e4-400c-9ed5-d6131f3d83b0",
   "metadata": {},
   "outputs": [],
   "source": [
    "for i in s1"
   ]
  },
  {
   "cell_type": "code",
   "execution_count": 1,
   "id": "151a553c-47fc-4554-8f4c-411bb09656d1",
   "metadata": {},
   "outputs": [],
   "source": [
    "# difference and difference_update()"
   ]
  },
  {
   "cell_type": "code",
   "execution_count": 2,
   "id": "4ed1d788-9603-486c-a2ca-fe9eb14ea6a1",
   "metadata": {},
   "outputs": [
    {
     "data": {
      "text/plain": [
       "{1, 2}"
      ]
     },
     "execution_count": 2,
     "metadata": {},
     "output_type": "execute_result"
    }
   ],
   "source": [
    "s1 ={1,2,3,4}\n",
    "s2 = {3,4,5,6}\n",
    "\n",
    "s1.difference(s2)"
   ]
  },
  {
   "cell_type": "code",
   "execution_count": 3,
   "id": "2dbb6588-0a23-4e30-b38c-50f8863adc95",
   "metadata": {},
   "outputs": [
    {
     "data": {
      "text/plain": [
       "{5, 6}"
      ]
     },
     "execution_count": 3,
     "metadata": {},
     "output_type": "execute_result"
    }
   ],
   "source": [
    "s2.difference(s1)"
   ]
  },
  {
   "cell_type": "code",
   "execution_count": 4,
   "id": "ee6000ca-a63b-4b2e-ac97-b86d8638feda",
   "metadata": {},
   "outputs": [],
   "source": [
    "# difference_update will update the diffence into the first set"
   ]
  },
  {
   "cell_type": "code",
   "execution_count": 7,
   "id": "9ed2b962-0005-4a96-bb54-5732360bffd5",
   "metadata": {},
   "outputs": [],
   "source": [
    "# symeric difference  \n",
    "# all uncommon elements from both sets"
   ]
  },
  {
   "cell_type": "code",
   "execution_count": 8,
   "id": "90f85cd1-6a8d-42ca-b482-30e6611edc3a",
   "metadata": {},
   "outputs": [
    {
     "data": {
      "text/plain": [
       "{1, 2, 5, 6}"
      ]
     },
     "execution_count": 8,
     "metadata": {},
     "output_type": "execute_result"
    }
   ],
   "source": [
    "s1^s2"
   ]
  },
  {
   "cell_type": "code",
   "execution_count": null,
   "id": "07db75b9-7d3e-42b1-90c0-1a53086df61e",
   "metadata": {},
   "outputs": [],
   "source": [
    "# frozenset\n",
    "# immutable version of set \n",
    "# this allows a"
   ]
  },
  {
   "cell_type": "code",
   "execution_count": 9,
   "id": "daace02f-49ae-4217-91d1-0375564c1b58",
   "metadata": {},
   "outputs": [],
   "source": [
    "fs1=frozenset({1,2,3})"
   ]
  },
  {
   "cell_type": "code",
   "execution_count": 10,
   "id": "099ef4c7-06dd-4cd0-9f80-6c95f3d9c355",
   "metadata": {},
   "outputs": [
    {
     "data": {
      "text/plain": [
       "frozenset({1, 2, 3})"
      ]
     },
     "execution_count": 10,
     "metadata": {},
     "output_type": "execute_result"
    }
   ],
   "source": [
    "fs1"
   ]
  },
  {
   "cell_type": "code",
   "execution_count": 1,
   "id": "126849e6-bc0e-4432-9ffe-a78c4a4490b5",
   "metadata": {},
   "outputs": [],
   "source": [
    "f2=frozenset({})"
   ]
  },
  {
   "cell_type": "code",
   "execution_count": 2,
   "id": "d13deecc-e2fe-4f62-a7e5-45cebc1a03ca",
   "metadata": {},
   "outputs": [
    {
     "data": {
      "text/plain": [
       "frozenset"
      ]
     },
     "execution_count": 2,
     "metadata": {},
     "output_type": "execute_result"
    }
   ],
   "source": [
    "type(f2)"
   ]
  },
  {
   "cell_type": "code",
   "execution_count": 6,
   "id": "ab5f03af-3146-4f74-beaf-3f9288be59b1",
   "metadata": {},
   "outputs": [
    {
     "data": {
      "text/plain": [
       "frozenset({1, 2, frozenset({2, 3})})"
      ]
     },
     "execution_count": 6,
     "metadata": {},
     "output_type": "execute_result"
    }
   ],
   "source": [
    "frozenset({1,2,frozenset({2,3})})   # we can have frozenset inside the another set"
   ]
  },
  {
   "cell_type": "code",
   "execution_count": 7,
   "id": "35cc7f3f-1819-4b66-9d82-1fbb4d33fa8e",
   "metadata": {},
   "outputs": [],
   "source": [
    "# set comprehension"
   ]
  },
  {
   "cell_type": "code",
   "execution_count": 8,
   "id": "4daa79ed-69af-43fb-9859-ade4c540840e",
   "metadata": {},
   "outputs": [
    {
     "data": {
      "text/plain": [
       "{36, 49, 64, 81, 100}"
      ]
     },
     "execution_count": 8,
     "metadata": {},
     "output_type": "execute_result"
    }
   ],
   "source": [
    "{i**2 for i in range(1,11) if i>5}  "
   ]
  },
  {
   "cell_type": "markdown",
   "id": "3e9f5c27-6b7a-40b3-afd9-e9193ee7d9c2",
   "metadata": {},
   "source": [
    "# Dictonary"
   ]
  },
  {
   "cell_type": "code",
   "execution_count": 9,
   "id": "e2022b0a-c7f8-45b4-9d58-806beec88aec",
   "metadata": {},
   "outputs": [],
   "source": [
    "dct = {}"
   ]
  },
  {
   "cell_type": "code",
   "execution_count": 10,
   "id": "06077c69-8032-44ec-b546-5535a6baf04c",
   "metadata": {},
   "outputs": [
    {
     "data": {
      "text/plain": [
       "dict"
      ]
     },
     "execution_count": 10,
     "metadata": {},
     "output_type": "execute_result"
    }
   ],
   "source": [
    "type(dct)"
   ]
  },
  {
   "cell_type": "code",
   "execution_count": 11,
   "id": "ebc4f3b6-fa1a-4a77-a8d7-6ab62df981b9",
   "metadata": {},
   "outputs": [],
   "source": [
    "# data is stored in the key value pair form\n",
    "# key never be mutable and duplicate "
   ]
  },
  {
   "cell_type": "code",
   "execution_count": 17,
   "id": "4fdfbc3b-ecd2-4151-9dab-a18df0844069",
   "metadata": {},
   "outputs": [],
   "source": [
    "dct = {1:1,'A':65,'String':\"XYZ\",(1,2,3):[1,2,3],2.5:45, True:22}"
   ]
  },
  {
   "cell_type": "code",
   "execution_count": 18,
   "id": "428aec4a-aa12-4fc4-8591-63a4684a7722",
   "metadata": {},
   "outputs": [
    {
     "data": {
      "text/plain": [
       "{1: 22, 'A': 65, 'String': 'XYZ', (1, 2, 3): [1, 2, 3], 2.5: 45}"
      ]
     },
     "execution_count": 18,
     "metadata": {},
     "output_type": "execute_result"
    }
   ],
   "source": [
    "dct  # here 1 meance true hence it will take the first occurance of key with its value "
   ]
  },
  {
   "cell_type": "code",
   "execution_count": 19,
   "id": "c0d0eec5-2765-4855-95b8-bbbc6b435608",
   "metadata": {},
   "outputs": [],
   "source": [
    "# 2D dictionary"
   ]
  },
  {
   "cell_type": "code",
   "execution_count": 20,
   "id": "92c050e4-7633-4587-81ee-13c6e31d856f",
   "metadata": {},
   "outputs": [],
   "source": [
    "stu={'name':'Mayur',\n",
    "    'age':27,\n",
    "    'gender':'Male',\n",
    "    'Subject':{'Maths':100,\n",
    "              'English':80,\n",
    "              'Marathi':87}}"
   ]
  },
  {
   "cell_type": "code",
   "execution_count": 21,
   "id": "45d5056e-835c-4138-83d8-4c09fa0cd5e7",
   "metadata": {},
   "outputs": [
    {
     "data": {
      "text/plain": [
       "{'name': 'Mayur',\n",
       " 'age': 27,\n",
       " 'gender': 'Male',\n",
       " 'Subject': {'Maths': 100, 'English': 80, 'Marathi': 87}}"
      ]
     },
     "execution_count": 21,
     "metadata": {},
     "output_type": "execute_result"
    }
   ],
   "source": [
    "stu"
   ]
  },
  {
   "cell_type": "code",
   "execution_count": 22,
   "id": "50e0464d-5a3e-4666-bebc-5a601f2a9490",
   "metadata": {},
   "outputs": [
    {
     "data": {
      "text/plain": [
       "{'Maths': 100, 'English': 80, 'Marathi': 87}"
      ]
     },
     "execution_count": 22,
     "metadata": {},
     "output_type": "execute_result"
    }
   ],
   "source": [
    "stu['Subject']"
   ]
  },
  {
   "cell_type": "code",
   "execution_count": 23,
   "id": "7d76dfe8-3c00-4ae9-ba01-726e837e27b1",
   "metadata": {},
   "outputs": [
    {
     "data": {
      "text/plain": [
       "80"
      ]
     },
     "execution_count": 23,
     "metadata": {},
     "output_type": "execute_result"
    }
   ],
   "source": [
    "stu['Subject']['English']"
   ]
  },
  {
   "cell_type": "code",
   "execution_count": 24,
   "id": "028fd939-ec71-44f0-9d69-adeb55ca6d88",
   "metadata": {},
   "outputs": [],
   "source": [
    "## adding kay value pair"
   ]
  },
  {
   "cell_type": "code",
   "execution_count": 2,
   "id": "11224caf-ec6b-44a3-b9b2-686efbcff62d",
   "metadata": {},
   "outputs": [],
   "source": [
    "dct = {'name':'Mayur','age':'27', 'gender':'Male'}"
   ]
  },
  {
   "cell_type": "code",
   "execution_count": 3,
   "id": "bc5ecea8-73ac-4e1d-aa6d-baff892883d7",
   "metadata": {},
   "outputs": [
    {
     "data": {
      "text/plain": [
       "{'name': 'Mayur', 'age': '27', 'gender': 'Male'}"
      ]
     },
     "execution_count": 3,
     "metadata": {},
     "output_type": "execute_result"
    }
   ],
   "source": [
    "dct"
   ]
  },
  {
   "cell_type": "code",
   "execution_count": 4,
   "id": "8fcd3ce9-205c-40d2-96d7-a9ca175e63dd",
   "metadata": {},
   "outputs": [],
   "source": [
    "dct['clg']='PJLGE' # it will append at the end"
   ]
  },
  {
   "cell_type": "code",
   "execution_count": 5,
   "id": "f59e6dd3-b4d3-4c67-b40e-f77f372039f9",
   "metadata": {},
   "outputs": [
    {
     "data": {
      "text/plain": [
       "{'name': 'Mayur', 'age': '27', 'gender': 'Male', 'clg': 'PJLGE'}"
      ]
     },
     "execution_count": 5,
     "metadata": {},
     "output_type": "execute_result"
    }
   ],
   "source": [
    "dct"
   ]
  },
  {
   "cell_type": "code",
   "execution_count": 6,
   "id": "6be89c37-1ed4-4939-8a9a-b3fa24ec44f3",
   "metadata": {},
   "outputs": [],
   "source": [
    "dct['name']='Pankaj'  # key will get updated with new value"
   ]
  },
  {
   "cell_type": "code",
   "execution_count": 7,
   "id": "1d44b3c0-1d98-4eeb-beeb-c52e21fbf52c",
   "metadata": {},
   "outputs": [
    {
     "data": {
      "text/plain": [
       "{'name': 'Pankaj', 'age': '27', 'gender': 'Male', 'clg': 'PJLGE'}"
      ]
     },
     "execution_count": 7,
     "metadata": {},
     "output_type": "execute_result"
    }
   ],
   "source": [
    "dct"
   ]
  },
  {
   "cell_type": "code",
   "execution_count": 8,
   "id": "a8268f6f-b38a-4591-9ef5-de96eda2fda0",
   "metadata": {},
   "outputs": [],
   "source": [
    "# items()"
   ]
  },
  {
   "cell_type": "code",
   "execution_count": 9,
   "id": "8df2e723-4fff-4fda-9322-ce14c7151461",
   "metadata": {},
   "outputs": [
    {
     "data": {
      "text/plain": [
       "dict_items([('name', 'Pankaj'), ('age', '27'), ('gender', 'Male'), ('clg', 'PJLGE')])"
      ]
     },
     "execution_count": 9,
     "metadata": {},
     "output_type": "execute_result"
    }
   ],
   "source": [
    "dct.items()"
   ]
  },
  {
   "cell_type": "code",
   "execution_count": 10,
   "id": "de97097b-6157-42e3-a466-416edc48120a",
   "metadata": {},
   "outputs": [
    {
     "data": {
      "text/plain": [
       "dict_keys(['name', 'age', 'gender', 'clg'])"
      ]
     },
     "execution_count": 10,
     "metadata": {},
     "output_type": "execute_result"
    }
   ],
   "source": [
    "# keys()\n",
    "dct.keys()"
   ]
  },
  {
   "cell_type": "code",
   "execution_count": 11,
   "id": "0e6ea59d-6855-41a4-afcb-74030749fa9f",
   "metadata": {},
   "outputs": [
    {
     "data": {
      "text/plain": [
       "dict_values(['Pankaj', '27', 'Male', 'PJLGE'])"
      ]
     },
     "execution_count": 11,
     "metadata": {},
     "output_type": "execute_result"
    }
   ],
   "source": [
    "# values()\n",
    "dct.values()"
   ]
  },
  {
   "cell_type": "code",
   "execution_count": 12,
   "id": "6075ca95-6825-464a-90e0-32506376fbb3",
   "metadata": {},
   "outputs": [],
   "source": [
    "# Removing key value pair"
   ]
  },
  {
   "cell_type": "code",
   "execution_count": 13,
   "id": "2b6457f0-2aec-4958-8020-33b5dd014bfa",
   "metadata": {},
   "outputs": [],
   "source": [
    "## clear() pop() popitem()"
   ]
  },
  {
   "cell_type": "code",
   "execution_count": 14,
   "id": "f7c181af-5bdb-427a-ba8e-58bfb42cf513",
   "metadata": {},
   "outputs": [
    {
     "data": {
      "text/plain": [
       "{'name': 'Pankaj', 'age': '27', 'gender': 'Male', 'clg': 'PJLGE'}"
      ]
     },
     "execution_count": 14,
     "metadata": {},
     "output_type": "execute_result"
    }
   ],
   "source": [
    "dct"
   ]
  },
  {
   "cell_type": "code",
   "execution_count": 15,
   "id": "f5f8b5ce-822d-4a2a-8c88-f34062a41355",
   "metadata": {},
   "outputs": [
    {
     "data": {
      "text/plain": [
       "'Male'"
      ]
     },
     "execution_count": 15,
     "metadata": {},
     "output_type": "execute_result"
    }
   ],
   "source": [
    "dct.pop('gender')  # gender is get deleted "
   ]
  },
  {
   "cell_type": "code",
   "execution_count": 16,
   "id": "00cff711-1f51-47e9-86a2-23a1b0c15e81",
   "metadata": {},
   "outputs": [
    {
     "data": {
      "text/plain": [
       "{'name': 'Pankaj', 'age': '27', 'clg': 'PJLGE'}"
      ]
     },
     "execution_count": 16,
     "metadata": {},
     "output_type": "execute_result"
    }
   ],
   "source": [
    "dct"
   ]
  },
  {
   "cell_type": "code",
   "execution_count": 17,
   "id": "a6b2b37e-1e99-4063-a1cb-73df43327d34",
   "metadata": {},
   "outputs": [
    {
     "data": {
      "text/plain": [
       "('clg', 'PJLGE')"
      ]
     },
     "execution_count": 17,
     "metadata": {},
     "output_type": "execute_result"
    }
   ],
   "source": [
    "dct.popitem() # by default it delete the last item from the list"
   ]
  },
  {
   "cell_type": "code",
   "execution_count": 18,
   "id": "e339bf9f-cb2d-4d8b-ac3d-02a05d9742b8",
   "metadata": {},
   "outputs": [
    {
     "data": {
      "text/plain": [
       "{'name': 'Pankaj', 'age': '27'}"
      ]
     },
     "execution_count": 18,
     "metadata": {},
     "output_type": "execute_result"
    }
   ],
   "source": [
    "dct"
   ]
  },
  {
   "cell_type": "code",
   "execution_count": 50,
   "id": "d8f53a26-acda-4133-b292-a416a3ce744b",
   "metadata": {},
   "outputs": [],
   "source": [
    "dct.clear() # will delete all items from the list.mae the dist empty"
   ]
  },
  {
   "cell_type": "code",
   "execution_count": 51,
   "id": "a17b266c-e3d3-4e81-85a5-d16ca26351e4",
   "metadata": {},
   "outputs": [
    {
     "data": {
      "text/plain": [
       "{}"
      ]
     },
     "execution_count": 51,
     "metadata": {},
     "output_type": "execute_result"
    }
   ],
   "source": [
    "dct"
   ]
  },
  {
   "cell_type": "code",
   "execution_count": 19,
   "id": "284db2ad-233a-4305-b833-317647c980b3",
   "metadata": {},
   "outputs": [
    {
     "data": {
      "text/plain": [
       "{'name': 'Pankaj', 'age': '27'}"
      ]
     },
     "execution_count": 19,
     "metadata": {},
     "output_type": "execute_result"
    }
   ],
   "source": [
    "dct"
   ]
  },
  {
   "cell_type": "code",
   "execution_count": null,
   "id": "e1dfd5a1-09d7-4c83-9e0e-7f20c4f466af",
   "metadata": {},
   "outputs": [],
   "source": [
    "dct."
   ]
  },
  {
   "cell_type": "code",
   "execution_count": 22,
   "id": "5ab0ea84-de6b-432c-ad7e-6280cf1d095f",
   "metadata": {},
   "outputs": [
    {
     "ename": "KeyError",
     "evalue": "'age'",
     "output_type": "error",
     "traceback": [
      "\u001b[1;31m---------------------------------------------------------------------------\u001b[0m",
      "\u001b[1;31mKeyError\u001b[0m                                  Traceback (most recent call last)",
      "Cell \u001b[1;32mIn[22], line 1\u001b[0m\n\u001b[1;32m----> 1\u001b[0m \u001b[38;5;28;01mdel\u001b[39;00m \u001b[43mdct\u001b[49m\u001b[43m[\u001b[49m\u001b[38;5;124;43m'\u001b[39;49m\u001b[38;5;124;43mage\u001b[39;49m\u001b[38;5;124;43m'\u001b[39;49m\u001b[43m]\u001b[49m  \u001b[38;5;66;03m# this delete the item by using key\u001b[39;00m\n",
      "\u001b[1;31mKeyError\u001b[0m: 'age'"
     ]
    }
   ],
   "source": [
    "del dct['age']  # this delete the item by using key"
   ]
  },
  {
   "cell_type": "code",
   "execution_count": 23,
   "id": "d6fed817-855e-4aee-b0c5-5de9af77b016",
   "metadata": {},
   "outputs": [
    {
     "data": {
      "text/plain": [
       "{'name': 'Pankaj'}"
      ]
     },
     "execution_count": 23,
     "metadata": {},
     "output_type": "execute_result"
    }
   ],
   "source": [
    "dct"
   ]
  },
  {
   "cell_type": "code",
   "execution_count": 24,
   "id": "1bb0319b-73e4-4e67-bf32-7347fdf2bcec",
   "metadata": {},
   "outputs": [],
   "source": [
    "del dct # has deleteed the dictionary"
   ]
  },
  {
   "cell_type": "code",
   "execution_count": 25,
   "id": "b56a7e43-7987-4564-9d14-d2cfd8ac4118",
   "metadata": {},
   "outputs": [
    {
     "ename": "NameError",
     "evalue": "name 'dct' is not defined",
     "output_type": "error",
     "traceback": [
      "\u001b[1;31m---------------------------------------------------------------------------\u001b[0m",
      "\u001b[1;31mNameError\u001b[0m                                 Traceback (most recent call last)",
      "Cell \u001b[1;32mIn[25], line 1\u001b[0m\n\u001b[1;32m----> 1\u001b[0m \u001b[43mdct\u001b[49m\n",
      "\u001b[1;31mNameError\u001b[0m: name 'dct' is not defined"
     ]
    }
   ],
   "source": [
    "dct  "
   ]
  },
  {
   "cell_type": "code",
   "execution_count": 26,
   "id": "3d430b1f-656b-4d2c-83a4-ee32f3f52a3a",
   "metadata": {},
   "outputs": [],
   "source": [
    "# setdefault()"
   ]
  },
  {
   "cell_type": "code",
   "execution_count": 27,
   "id": "a0a35d6f-3d47-4d39-9492-1f9ff0be95e2",
   "metadata": {},
   "outputs": [],
   "source": [
    "emp={'name':'IronMan','age':45,'designation':'MD', 'salary':100000}"
   ]
  },
  {
   "cell_type": "code",
   "execution_count": 28,
   "id": "8d296389-3472-45ba-9548-1b4d9b53a82b",
   "metadata": {},
   "outputs": [
    {
     "data": {
      "text/plain": [
       "{'name': 'IronMan', 'age': 45, 'designation': 'MD', 'salary': 100000}"
      ]
     },
     "execution_count": 28,
     "metadata": {},
     "output_type": "execute_result"
    }
   ],
   "source": [
    "emp"
   ]
  },
  {
   "cell_type": "code",
   "execution_count": 29,
   "id": "f1d9b6ec-e0ef-4aad-bb3a-f933af076354",
   "metadata": {},
   "outputs": [
    {
     "ename": "KeyError",
     "evalue": "'Company'",
     "output_type": "error",
     "traceback": [
      "\u001b[1;31m---------------------------------------------------------------------------\u001b[0m",
      "\u001b[1;31mKeyError\u001b[0m                                  Traceback (most recent call last)",
      "Cell \u001b[1;32mIn[29], line 1\u001b[0m\n\u001b[1;32m----> 1\u001b[0m \u001b[43memp\u001b[49m\u001b[43m[\u001b[49m\u001b[38;5;124;43m'\u001b[39;49m\u001b[38;5;124;43mCompany\u001b[39;49m\u001b[38;5;124;43m'\u001b[39;49m\u001b[43m]\u001b[49m\n",
      "\u001b[1;31mKeyError\u001b[0m: 'Company'"
     ]
    }
   ],
   "source": [
    "emp['Company']"
   ]
  },
  {
   "cell_type": "code",
   "execution_count": 33,
   "id": "a0d6a621-e8a9-4f02-853f-34bffe77069c",
   "metadata": {},
   "outputs": [],
   "source": [
    "emp.setdefault('company')  # this will create the new key if key is not present or give the valure if kay is present"
   ]
  },
  {
   "cell_type": "code",
   "execution_count": 34,
   "id": "bc097456-a25e-4d33-8136-6f1d0e0013eb",
   "metadata": {},
   "outputs": [
    {
     "data": {
      "text/plain": [
       "{'name': 'IronMan',\n",
       " 'age': 45,\n",
       " 'designation': 'MD',\n",
       " 'salary': 100000,\n",
       " 'company': None}"
      ]
     },
     "execution_count": 34,
     "metadata": {},
     "output_type": "execute_result"
    }
   ],
   "source": [
    "emp"
   ]
  },
  {
   "cell_type": "code",
   "execution_count": 35,
   "id": "cf27e6bf-5c64-43fc-bc86-92222ada352f",
   "metadata": {},
   "outputs": [
    {
     "data": {
      "text/plain": [
       "100000"
      ]
     },
     "execution_count": 35,
     "metadata": {},
     "output_type": "execute_result"
    }
   ],
   "source": [
    "emp.setdefault('salary')"
   ]
  },
  {
   "cell_type": "code",
   "execution_count": 36,
   "id": "9fccb14f-cc90-4381-b6a3-b4309f8223e5",
   "metadata": {},
   "outputs": [
    {
     "data": {
      "text/plain": [
       "100000"
      ]
     },
     "execution_count": 36,
     "metadata": {},
     "output_type": "execute_result"
    }
   ],
   "source": [
    "emp.setdefault('salary', 2222222)  # if the kay is present we cannot change the value of the key"
   ]
  },
  {
   "cell_type": "code",
   "execution_count": 37,
   "id": "ca267bb0-b6c5-4aee-acc2-129f7803f86d",
   "metadata": {},
   "outputs": [
    {
     "data": {
      "text/plain": [
       "{'name': 'IronMan',\n",
       " 'age': 45,\n",
       " 'designation': 'MD',\n",
       " 'salary': 100000,\n",
       " 'company': None}"
      ]
     },
     "execution_count": 37,
     "metadata": {},
     "output_type": "execute_result"
    }
   ],
   "source": [
    "emp"
   ]
  },
  {
   "cell_type": "code",
   "execution_count": 40,
   "id": "d5659ba1-b969-4aef-a962-4666030e61e5",
   "metadata": {},
   "outputs": [],
   "source": [
    "emp.setdefault('company','TCS')  # even None value is also not get change"
   ]
  },
  {
   "cell_type": "code",
   "execution_count": 41,
   "id": "91fed740-49ba-4d25-93a5-2752e04369c0",
   "metadata": {},
   "outputs": [
    {
     "data": {
      "text/plain": [
       "{'name': 'IronMan',\n",
       " 'age': 45,\n",
       " 'designation': 'MD',\n",
       " 'salary': 100000,\n",
       " 'company': None}"
      ]
     },
     "execution_count": 41,
     "metadata": {},
     "output_type": "execute_result"
    }
   ],
   "source": [
    "emp"
   ]
  },
  {
   "cell_type": "code",
   "execution_count": 44,
   "id": "4ccdd4a6-dd5d-44b8-b70b-fe6b8d902331",
   "metadata": {},
   "outputs": [],
   "source": [
    "emp['company']='TCS'  # this syntax will update the dictionary and not the setfdefault()"
   ]
  },
  {
   "cell_type": "code",
   "execution_count": 45,
   "id": "ea8da034-b51b-4581-b3a6-e453a8ebe321",
   "metadata": {},
   "outputs": [
    {
     "data": {
      "text/plain": [
       "{'name': 'IronMan',\n",
       " 'age': 45,\n",
       " 'designation': 'MD',\n",
       " 'salary': 100000,\n",
       " 'company': 'TCS'}"
      ]
     },
     "execution_count": 45,
     "metadata": {},
     "output_type": "execute_result"
    }
   ],
   "source": [
    "emp"
   ]
  },
  {
   "cell_type": "code",
   "execution_count": 46,
   "id": "771359aa-2959-406a-b5f2-bbb2ce7ad451",
   "metadata": {},
   "outputs": [],
   "source": [
    "# nested dictionary"
   ]
  },
  {
   "cell_type": "code",
   "execution_count": 49,
   "id": "788dc178-52af-4566-a3b6-96f50e966c8d",
   "metadata": {},
   "outputs": [],
   "source": [
    "stu = {'std1':{'name':'Mayur','clg':'PJ'},\n",
    "       'std2':{'name':'Pankaj','clg':\"LC\"},\n",
    "       'std3':{'name':'Ashlesh','clg':'NA'}}"
   ]
  },
  {
   "cell_type": "code",
   "execution_count": 50,
   "id": "02459573-2f85-4391-9dd1-36602ed1c510",
   "metadata": {},
   "outputs": [
    {
     "data": {
      "text/plain": [
       "{'std1': {'name': 'Mayur', 'clg': 'PJ'},\n",
       " 'std2': {'name': 'Pankaj', 'clg': 'LC'},\n",
       " 'std3': {'name': 'Ashlesh', 'clg': 'NA'}}"
      ]
     },
     "execution_count": 50,
     "metadata": {},
     "output_type": "execute_result"
    }
   ],
   "source": [
    "stu"
   ]
  },
  {
   "cell_type": "code",
   "execution_count": 52,
   "id": "12c1f619-266c-49da-9fc9-63830ad808b8",
   "metadata": {},
   "outputs": [
    {
     "data": {
      "text/plain": [
       "{'name': 'Mayur', 'clg': 'PJ'}"
      ]
     },
     "execution_count": 52,
     "metadata": {},
     "output_type": "execute_result"
    }
   ],
   "source": [
    "stu['std1']"
   ]
  },
  {
   "cell_type": "code",
   "execution_count": 53,
   "id": "685ee0ab-d12f-4176-abd9-9e6476116a35",
   "metadata": {},
   "outputs": [],
   "source": [
    "import pandas as pd"
   ]
  },
  {
   "cell_type": "code",
   "execution_count": 54,
   "id": "0e1ea963-9961-41bc-84a1-997144861a84",
   "metadata": {},
   "outputs": [],
   "source": [
    "df = pd.DataFrame(stu)"
   ]
  },
  {
   "cell_type": "code",
   "execution_count": 56,
   "id": "e01b0232-2360-4941-b24f-ce0a8b624700",
   "metadata": {},
   "outputs": [
    {
     "data": {
      "text/html": [
       "<div>\n",
       "<style scoped>\n",
       "    .dataframe tbody tr th:only-of-type {\n",
       "        vertical-align: middle;\n",
       "    }\n",
       "\n",
       "    .dataframe tbody tr th {\n",
       "        vertical-align: top;\n",
       "    }\n",
       "\n",
       "    .dataframe thead th {\n",
       "        text-align: right;\n",
       "    }\n",
       "</style>\n",
       "<table border=\"1\" class=\"dataframe\">\n",
       "  <thead>\n",
       "    <tr style=\"text-align: right;\">\n",
       "      <th></th>\n",
       "      <th>name</th>\n",
       "      <th>clg</th>\n",
       "    </tr>\n",
       "  </thead>\n",
       "  <tbody>\n",
       "    <tr>\n",
       "      <th>std1</th>\n",
       "      <td>Mayur</td>\n",
       "      <td>PJ</td>\n",
       "    </tr>\n",
       "    <tr>\n",
       "      <th>std2</th>\n",
       "      <td>Pankaj</td>\n",
       "      <td>LC</td>\n",
       "    </tr>\n",
       "    <tr>\n",
       "      <th>std3</th>\n",
       "      <td>Ashlesh</td>\n",
       "      <td>NA</td>\n",
       "    </tr>\n",
       "  </tbody>\n",
       "</table>\n",
       "</div>"
      ],
      "text/plain": [
       "         name clg\n",
       "std1    Mayur  PJ\n",
       "std2   Pankaj  LC\n",
       "std3  Ashlesh  NA"
      ]
     },
     "execution_count": 56,
     "metadata": {},
     "output_type": "execute_result"
    }
   ],
   "source": [
    "df.T"
   ]
  },
  {
   "cell_type": "code",
   "execution_count": 59,
   "id": "462626fd-711a-4d60-8dc5-b3448bebf92a",
   "metadata": {},
   "outputs": [
    {
     "name": "stdout",
     "output_type": "stream",
     "text": [
      "{'Marathi': 90, 'Hindi': 91, 'English': 93, 'Maths': 95, 'Science': 99}\n"
     ]
    }
   ],
   "source": [
    "# form the dictionary from the below list\n",
    "marks = [90,91,93,95,99]\n",
    "subject = ['Marathi', 'Hindi', 'English','Maths','Science']\n",
    "dct={}\n",
    "for i, key in enumerate(subject):\n",
    "    for j in range(len(marks)):\n",
    "        if i == j:  # match teh index if sub and marks\n",
    "            dct[key]=marks[j]   # this will add the key and its value\n",
    "print(dct)"
   ]
  },
  {
   "cell_type": "code",
   "execution_count": null,
   "id": "d40c906a-16a1-4fb5-982b-79c2c41ddb04",
   "metadata": {},
   "outputs": [],
   "source": [
    "# using update"
   ]
  },
  {
   "cell_type": "code",
   "execution_count": 67,
   "id": "65950ae7-f666-458c-91bd-3692220e3d32",
   "metadata": {},
   "outputs": [],
   "source": [
    "dct1={}\n",
    "for i, key in enumerate(subject):\n",
    "    dct1.update({key:marks[i]})  # add 1 by one single valye as a another dict into original dict"
   ]
  },
  {
   "cell_type": "code",
   "execution_count": 68,
   "id": "7f848f25-65c3-4104-8108-caa4bcbb82bc",
   "metadata": {},
   "outputs": [
    {
     "data": {
      "text/plain": [
       "{'Marathi': 90, 'Hindi': 91, 'English': 93, 'Maths': 95, 'Science': 99}"
      ]
     },
     "execution_count": 68,
     "metadata": {},
     "output_type": "execute_result"
    }
   ],
   "source": [
    "dct"
   ]
  },
  {
   "cell_type": "code",
   "execution_count": 70,
   "id": "4d99219e-f3ae-49cb-8eca-c10b020df13c",
   "metadata": {},
   "outputs": [],
   "source": [
    "# Using zip()"
   ]
  },
  {
   "cell_type": "code",
   "execution_count": 71,
   "id": "7b3d6c93-9cb6-4cc8-b97c-3ef1223b2fb5",
   "metadata": {},
   "outputs": [
    {
     "data": {
      "text/plain": [
       "{'Marathi': 90, 'Hindi': 91, 'English': 93, 'Maths': 95, 'Science': 99}"
      ]
     },
     "execution_count": 71,
     "metadata": {},
     "output_type": "execute_result"
    }
   ],
   "source": [
    "dict(zip(subject,marks))"
   ]
  },
  {
   "cell_type": "code",
   "execution_count": 79,
   "id": "1d4ef38a-bb58-41e6-acbc-faf0cbe070ee",
   "metadata": {},
   "outputs": [
    {
     "data": {
      "text/plain": [
       "{'the': 2,\n",
       " 'quantities': 1,\n",
       " 'characters': 1,\n",
       " 'or': 7,\n",
       " 'symbols': 1,\n",
       " 'on': 3,\n",
       " 'which': 2,\n",
       " 'operations': 1,\n",
       " 'are': 1,\n",
       " 'performed': 1,\n",
       " 'by': 1,\n",
       " 'a': 19,\n",
       " 'computer': 1,\n",
       " 'may': 1,\n",
       " 'be': 1,\n",
       " 'stored': 1,\n",
       " 'and': 2,\n",
       " 'transmitted': 1,\n",
       " 'in': 2,\n",
       " 'form': 2,\n",
       " 'of': 1,\n",
       " 'electrical': 1,\n",
       " 'signals': 1,\n",
       " 'recorded': 1,\n",
       " 'magnetic': 1,\n",
       " 'optical': 1,\n",
       " 'mechanical9': 1,\n",
       " 'mechanical': 2,\n",
       " 'recording': 1,\n",
       " 'media': 1}"
      ]
     },
     "execution_count": 79,
     "metadata": {},
     "output_type": "execute_result"
    }
   ],
   "source": [
    "string = '''the quantities, characters, or symbols on which operations are performed by a computer, which may be stored and transmitted in the form \n",
    "of electrical signals and recorded on magnetic, optical, or mechanical9 mechanical recording media.'''\n",
    "word_count ={}\n",
    "for i in string.split():\n",
    "    if i.isalpha():\n",
    "        word_count[i]=string.count(f'{i}')\n",
    "    elif i.isalnum():\n",
    "        word_count[i]=string.count(f'{i}')\n",
    "    else:\n",
    "        i=i[:-1]\n",
    "        word_count[i]=string.count(f'{i}')\n",
    "word_count\n",
    "#len(word_count)"
   ]
  },
  {
   "cell_type": "code",
   "execution_count": 80,
   "id": "c59b3c0a-fb51-4510-8604-6cb1e2f84238",
   "metadata": {},
   "outputs": [
    {
     "data": {
      "text/plain": [
       "30"
      ]
     },
     "execution_count": 80,
     "metadata": {},
     "output_type": "execute_result"
    }
   ],
   "source": [
    "len(word_count)"
   ]
  },
  {
   "cell_type": "code",
   "execution_count": 83,
   "id": "658640dc-3c95-4e02-8819-89285f358e23",
   "metadata": {},
   "outputs": [],
   "source": [
    "from collections import Counter"
   ]
  },
  {
   "cell_type": "code",
   "execution_count": 84,
   "id": "e5cb9829-d76c-451a-9326-e0001e8a59a7",
   "metadata": {},
   "outputs": [
    {
     "data": {
      "text/plain": [
       "Counter({'the': 2,\n",
       "         'or': 2,\n",
       "         'on': 2,\n",
       "         'which': 2,\n",
       "         'and': 2,\n",
       "         'quantities,': 1,\n",
       "         'characters,': 1,\n",
       "         'symbols': 1,\n",
       "         'operations': 1,\n",
       "         'are': 1,\n",
       "         'performed': 1,\n",
       "         'by': 1,\n",
       "         'a': 1,\n",
       "         'computer,': 1,\n",
       "         'may': 1,\n",
       "         'be': 1,\n",
       "         'stored': 1,\n",
       "         'transmitted': 1,\n",
       "         'in': 1,\n",
       "         'form': 1,\n",
       "         'of': 1,\n",
       "         'electrical': 1,\n",
       "         'signals': 1,\n",
       "         'recorded': 1,\n",
       "         'magnetic,': 1,\n",
       "         'optical,': 1,\n",
       "         'mechanical9': 1,\n",
       "         'mechanical': 1,\n",
       "         'recording': 1,\n",
       "         'media.': 1})"
      ]
     },
     "execution_count": 84,
     "metadata": {},
     "output_type": "execute_result"
    }
   ],
   "source": [
    "Counter(string.split())"
   ]
  },
  {
   "cell_type": "markdown",
   "id": "f7165312-d425-4346-a161-9856920b73c6",
   "metadata": {},
   "source": [
    "# sorting the dict using key"
   ]
  },
  {
   "cell_type": "code",
   "execution_count": 88,
   "id": "49489703-56b6-46c5-b79e-2f426eea51d1",
   "metadata": {},
   "outputs": [
    {
     "data": {
      "text/plain": [
       "['English', 'Hindi', 'Marathi', 'Maths', 'Science']"
      ]
     },
     "execution_count": 88,
     "metadata": {},
     "output_type": "execute_result"
    }
   ],
   "source": [
    "Sub = {'Marathi': 90, 'Hindi': 91, 'English': 93, 'Maths': 95, 'Science': 99}\n",
    "sorted(Sub)"
   ]
  },
  {
   "cell_type": "code",
   "execution_count": 90,
   "id": "81663f3b-760f-4527-9248-c461d128d016",
   "metadata": {},
   "outputs": [
    {
     "name": "stdout",
     "output_type": "stream",
     "text": [
      "{'English': 93, 'Hindi': 91, 'Marathi': 90, 'Maths': 95, 'Science': 99}\n"
     ]
    }
   ],
   "source": [
    "sort_dct = sorted(Sub)\n",
    "result={}\n",
    "for key in sort_dct:  # using for loop\n",
    "    result[key] = Sub[key]\n",
    "\n",
    "print(result)"
   ]
  },
  {
   "cell_type": "code",
   "execution_count": 92,
   "id": "7aac3ed9-0919-4ec4-abd8-73508575e53d",
   "metadata": {},
   "outputs": [
    {
     "data": {
      "text/plain": [
       "{'English': 93, 'Hindi': 91, 'Marathi': 90, 'Maths': 95, 'Science': 99}"
      ]
     },
     "execution_count": 92,
     "metadata": {},
     "output_type": "execute_result"
    }
   ],
   "source": [
    "dict(sorted(Sub.items()))  # using item sunction"
   ]
  },
  {
   "cell_type": "code",
   "execution_count": 94,
   "id": "7cecf23b-ab2e-4f57-8a52-d0ba09119a7c",
   "metadata": {},
   "outputs": [
    {
     "data": {
      "text/plain": [
       "dict_items([('Marathi', 90), ('Hindi', 91), ('English', 93), ('Maths', 95), ('Science', 99)])"
      ]
     },
     "execution_count": 94,
     "metadata": {},
     "output_type": "execute_result"
    }
   ],
   "source": [
    "Sub.items()  # gives key value pair in form of tuple"
   ]
  },
  {
   "cell_type": "markdown",
   "id": "ae3941ca-193c-44d2-851e-e377121464e5",
   "metadata": {},
   "source": [
    "## sorting based on values"
   ]
  },
  {
   "cell_type": "code",
   "execution_count": 100,
   "id": "371a45df-6ec2-438d-955c-9ab7d82bb894",
   "metadata": {},
   "outputs": [
    {
     "name": "stdout",
     "output_type": "stream",
     "text": [
      "{86: 'English', 90: 'Science', 93: 'Geo', 95: 'History'}\n"
     ]
    }
   ],
   "source": [
    "subject = {'Math': 90, 'Science': 90, 'Geo': 93, 'History': 95, 'English': 86}\n",
    "temp_dit = {}\n",
    "for key, values in subject.items():  # gives the key value pair\n",
    "    temp_dit[values]=key  # making key to values and values to key\n",
    "\n",
    "output = dict(sorted(temp_dit.items()))   # sort the dict on the basis of new key\n",
    "\n",
    "print(output)"
   ]
  },
  {
   "cell_type": "markdown",
   "id": "92f317b3-7d42-477e-8dd5-8796e4046d9a",
   "metadata": {},
   "source": [
    "## formkey()\n",
    "### this function is used to generate the key if we provide the list of item/elements"
   ]
  },
  {
   "cell_type": "code",
   "execution_count": 104,
   "id": "c0b2a509-5756-41b7-b95f-625784a29f8d",
   "metadata": {},
   "outputs": [
    {
     "data": {
      "text/plain": [
       "{1: None, 2: None, 3: None, 4: None, 5: None}"
      ]
     },
     "execution_count": 104,
     "metadata": {},
     "output_type": "execute_result"
    }
   ],
   "source": [
    "dict.fromkeys([1,2,3,4,5])"
   ]
  },
  {
   "cell_type": "code",
   "execution_count": null,
   "id": "45505053-631c-4a52-9886-faafd1ad2a42",
   "metadata": {},
   "outputs": [],
   "source": []
  },
  {
   "cell_type": "code",
   "execution_count": null,
   "id": "4d4e653d-5b53-470d-bdb0-2b850ba5f5e5",
   "metadata": {},
   "outputs": [],
   "source": []
  }
 ],
 "metadata": {
  "kernelspec": {
   "display_name": "Python 3 (ipykernel)",
   "language": "python",
   "name": "python3"
  },
  "language_info": {
   "codemirror_mode": {
    "name": "ipython",
    "version": 3
   },
   "file_extension": ".py",
   "mimetype": "text/x-python",
   "name": "python",
   "nbconvert_exporter": "python",
   "pygments_lexer": "ipython3",
   "version": "3.12.5"
  }
 },
 "nbformat": 4,
 "nbformat_minor": 5
}
