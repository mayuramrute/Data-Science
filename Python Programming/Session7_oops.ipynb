{
 "cells": [
  {
   "cell_type": "markdown",
   "id": "2973c203-c5d2-4036-9234-804e38af3142",
   "metadata": {},
   "source": [
    "# oops program for ATM machine "
   ]
  },
  {
   "cell_type": "code",
   "execution_count": 7,
   "id": "ab378f51-871f-48be-8ef8-3f6737704ef9",
   "metadata": {},
   "outputs": [],
   "source": [
    "class Atm:\n",
    "    def __init__(self):\n",
    "        self.pin = ''\n",
    "        self.balance = 0\n",
    "        self.menu()\n",
    "\n",
    "    def menu(self):\n",
    "        user_input = input('''\n",
    "        Hi!... how can i help you\n",
    "        1. Press 1 for create Pin\n",
    "        2. Press 2 for change Pin\n",
    "        3. Press 3 for check balance\n",
    "        4. Press 4 for withdraw Money\n",
    "        5. Anything else to exit\n",
    "        ''')\n",
    "        if user_input =='1':\n",
    "            self.create_pin()\n",
    "           \n",
    "        elif user_input == '2':\n",
    "            self.change_pin()\n",
    "        elif user_input == '3':\n",
    "            self.check_balance()\n",
    "        elif user_input == '4':\n",
    "            self.withdraw()\n",
    "        else:\n",
    "            exit()\n",
    "        \n",
    "    def create_pin(self):\n",
    "        user_pin = input(\"Enter yor Pin: \")\n",
    "        self.pin = user_pin\n",
    "        \n",
    "        user_balance = int(input(\"Enter balance: \"))\n",
    "        self.balance = user_balance\n",
    "\n",
    "        print(\"Pin created succssfuly.\")\n",
    "        self.menu()\n",
    "\n",
    "    def change_pin(self):\n",
    "        old_pass = input(\"Old Pass: \")\n",
    "\n",
    "        if old_pass == self.pin:\n",
    "            new_pin = input('Enter new Pin: ')\n",
    "            self.pin = new_pin\n",
    "            print(\"Pin change successfully.\")\n",
    "        else:\n",
    "            print(\"Wrong Pin\")\n",
    "        self.menu()\n",
    "\n",
    "    def check_balance(self):\n",
    "        user_pin = input(\"Enter your Pin. \")\n",
    "        if self.pin == user_pin:\n",
    "            print(\"Your balance is \", self.balance)\n",
    "        else:\n",
    "            print(\"Chal nikal be...\")\n",
    "        self.menu()   \n",
    "    def withdraw(self):\n",
    "        user_pin = input(\"Enter Pin: \")\n",
    "        if self.pin == user_pin:\n",
    "            amount = int(input('Enter amount: '))\n",
    "            \n",
    "            if amount <= self.balance:\n",
    "                self.balance = self.balance - amount\n",
    "                print(\"Withdrawl successful. remaining balance is \".self.balance)\n",
    "            else:\n",
    "                print(\"Garib\")\n",
    "\n",
    "        else:\n",
    "            print(\"Sale chor\")\n",
    "            self.menu()"
   ]
  },
  {
   "cell_type": "code",
   "execution_count": 8,
   "id": "1f8fbb39-4590-4cbb-99bc-9e0fb4786c19",
   "metadata": {},
   "outputs": [
    {
     "name": "stdin",
     "output_type": "stream",
     "text": [
      "\n",
      "        Hi!... how can i help you\n",
      "        1. Press 1 for create Pin\n",
      "        2. Press 2 for change Pin\n",
      "        3. Press 3 for check balance\n",
      "        4. Press 4 for withdraw Money\n",
      "        5. Anything else to exit\n",
      "         1\n",
      "Enter yor Pin:  1122\n",
      "Enter balance:  10000\n"
     ]
    },
    {
     "name": "stdout",
     "output_type": "stream",
     "text": [
      "Pin created succssfuly.\n"
     ]
    },
    {
     "name": "stdin",
     "output_type": "stream",
     "text": [
      "\n",
      "        Hi!... how can i help you\n",
      "        1. Press 1 for create Pin\n",
      "        2. Press 2 for change Pin\n",
      "        3. Press 3 for check balance\n",
      "        4. Press 4 for withdraw Money\n",
      "        5. Anything else to exit\n",
      "         2\n",
      "Old Pass:  1212\n"
     ]
    },
    {
     "name": "stdout",
     "output_type": "stream",
     "text": [
      "Wrong Pin\n"
     ]
    },
    {
     "name": "stdin",
     "output_type": "stream",
     "text": [
      "\n",
      "        Hi!... how can i help you\n",
      "        1. Press 1 for create Pin\n",
      "        2. Press 2 for change Pin\n",
      "        3. Press 3 for check balance\n",
      "        4. Press 4 for withdraw Money\n",
      "        5. Anything else to exit\n",
      "         2\n",
      "Old Pass:  1122\n",
      "Enter new Pin:  1234\n"
     ]
    },
    {
     "name": "stdout",
     "output_type": "stream",
     "text": [
      "Pin change successfully.\n"
     ]
    },
    {
     "name": "stdin",
     "output_type": "stream",
     "text": [
      "\n",
      "        Hi!... how can i help you\n",
      "        1. Press 1 for create Pin\n",
      "        2. Press 2 for change Pin\n",
      "        3. Press 3 for check balance\n",
      "        4. Press 4 for withdraw Money\n",
      "        5. Anything else to exit\n",
      "         3\n",
      "Enter your Pin.  1234\n"
     ]
    },
    {
     "name": "stdout",
     "output_type": "stream",
     "text": [
      "Your balance is  10000\n"
     ]
    },
    {
     "name": "stdin",
     "output_type": "stream",
     "text": [
      "\n",
      "        Hi!... how can i help you\n",
      "        1. Press 1 for create Pin\n",
      "        2. Press 2 for change Pin\n",
      "        3. Press 3 for check balance\n",
      "        4. Press 4 for withdraw Money\n",
      "        5. Anything else to exit\n",
      "         4\n",
      "Enter Pin:  1234\n",
      "Enter amount:  100000\n"
     ]
    },
    {
     "name": "stdout",
     "output_type": "stream",
     "text": [
      "Garib\n"
     ]
    }
   ],
   "source": [
    "atm = Atm()"
   ]
  },
  {
   "cell_type": "markdown",
   "id": "8dbad1f2-8be7-47e6-a6b9-b54df95b18a9",
   "metadata": {},
   "source": [
    "# create our own data type"
   ]
  },
  {
   "cell_type": "code",
   "execution_count": 24,
   "id": "fafdfff0-2a0a-422d-8736-d6f38be08e96",
   "metadata": {},
   "outputs": [],
   "source": [
    "class Fraction:\n",
    "    def __init__(self, x, y):\n",
    "        self.num = x\n",
    "        self.den = y\n",
    "    def __str__(self):\n",
    "        return \"{}/{}\".format(self.num,self.den)\n",
    "\n",
    "    def __add__(self,other):\n",
    "        new_num = self.num*other.den + other.num*self.den\n",
    "        new_den = self.den*other.den\n",
    "\n",
    "        return '{}/{}'.format(new_num,new_den)\n",
    "\n",
    "    def __sub__(self, other):\n",
    "        new_num = self.num*other.den - other.num*self.den\n",
    "        new_den = self.den*other.den\n",
    "\n",
    "        return '{}/{}'.format(new_num,new_den)\n",
    "\n",
    "    def __mul__(self, other):\n",
    "        new_num = self.num * other.num\n",
    "        new_den = self.den*other.den\n",
    "\n",
    "        return '{}/{}'.format(new_num,new_den)\n",
    "        \n",
    "\n",
    "    def __truediv__(self, other):\n",
    "        new_num = self.num * other.den\n",
    "        new_den = self.den * other.num\n",
    "\n",
    "        return \"{}/{}\".format(new_num,new_den)"
   ]
  },
  {
   "cell_type": "code",
   "execution_count": 25,
   "id": "d872148e-fee8-474d-a83c-f1e4ee243191",
   "metadata": {},
   "outputs": [],
   "source": [
    "fr = Fraction(3,4)\n",
    "fr1 = Fraction(1,2)"
   ]
  },
  {
   "cell_type": "code",
   "execution_count": 26,
   "id": "9adbcaa2-011e-4f6b-ab36-9f94c8146ed1",
   "metadata": {},
   "outputs": [
    {
     "name": "stdout",
     "output_type": "stream",
     "text": [
      "10/8\n"
     ]
    }
   ],
   "source": [
    "print(fr +fr1)"
   ]
  },
  {
   "cell_type": "code",
   "execution_count": 27,
   "id": "4f016116-a298-4bca-8a48-6d8c6cb74ab2",
   "metadata": {},
   "outputs": [
    {
     "name": "stdout",
     "output_type": "stream",
     "text": [
      "2/8\n"
     ]
    }
   ],
   "source": [
    "print(fr - fr1)"
   ]
  },
  {
   "cell_type": "code",
   "execution_count": 28,
   "id": "16c037fc-3629-48e8-bb9d-12a180a71cf3",
   "metadata": {},
   "outputs": [
    {
     "name": "stdout",
     "output_type": "stream",
     "text": [
      "3/8\n"
     ]
    }
   ],
   "source": [
    "print(fr * fr1)"
   ]
  },
  {
   "cell_type": "code",
   "execution_count": 29,
   "id": "698e34c3-bfea-4ba2-b9db-9cb9dff7bef8",
   "metadata": {},
   "outputs": [
    {
     "name": "stdout",
     "output_type": "stream",
     "text": [
      "6/4\n"
     ]
    }
   ],
   "source": [
    "print(fr / fr1)"
   ]
  },
  {
   "cell_type": "code",
   "execution_count": 34,
   "id": "2d37c0c6-1a71-4770-a4ce-fae07df7be4d",
   "metadata": {},
   "outputs": [],
   "source": [
    "class fct:\n",
    "    def __init__(self, x,y):\n",
    "        self.num = x\n",
    "        self.den = y\n",
    "    def __str__(self):        # this magic method tells python how the print method will print the format of output\n",
    "        return '{}/{}'.format(self.num,self.den)"
   ]
  },
  {
   "cell_type": "code",
   "execution_count": 35,
   "id": "bfaf6951-ab48-4109-8fce-f37cbfcd2d0a",
   "metadata": {},
   "outputs": [],
   "source": [
    "f = fct(6,7)"
   ]
  },
  {
   "cell_type": "code",
   "execution_count": 36,
   "id": "3912ba20-7b2e-427a-9204-baa7cfa72e88",
   "metadata": {},
   "outputs": [
    {
     "name": "stdout",
     "output_type": "stream",
     "text": [
      "6/7\n"
     ]
    }
   ],
   "source": [
    "print(f)"
   ]
  },
  {
   "cell_type": "code",
   "execution_count": null,
   "id": "6151ab67-db84-4a54-9dcb-ff6fa69afa5b",
   "metadata": {},
   "outputs": [],
   "source": []
  }
 ],
 "metadata": {
  "kernelspec": {
   "display_name": "Python 3 (ipykernel)",
   "language": "python",
   "name": "python3"
  },
  "language_info": {
   "codemirror_mode": {
    "name": "ipython",
    "version": 3
   },
   "file_extension": ".py",
   "mimetype": "text/x-python",
   "name": "python",
   "nbconvert_exporter": "python",
   "pygments_lexer": "ipython3",
   "version": "3.12.5"
  }
 },
 "nbformat": 4,
 "nbformat_minor": 5
}
