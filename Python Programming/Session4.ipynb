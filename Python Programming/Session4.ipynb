{
 "cells": [
  {
   "cell_type": "code",
   "execution_count": 3,
   "id": "698836ac-7ffd-4049-bf69-157c2cb4ab6a",
   "metadata": {},
   "outputs": [
    {
     "name": "stdout",
     "output_type": "stream",
     "text": [
      "[8, 7, 5, 4, 2, 1]\n"
     ]
    }
   ],
   "source": [
    "l = [7,2,5,8,4,1]\n",
    "print(sorted(l , reverse= True))"
   ]
  },
  {
   "cell_type": "code",
   "execution_count": 2,
   "id": "6c1ef43d-692b-4b37-81dc-eae4c9cb1eac",
   "metadata": {},
   "outputs": [
    {
     "name": "stdout",
     "output_type": "stream",
     "text": [
      "[7, 2, 5, 8, 4, 1]\n"
     ]
    }
   ],
   "source": [
    "print(l)"
   ]
  },
  {
   "cell_type": "code",
   "execution_count": 5,
   "id": "5eb5c3b5-2a18-403c-95e2-c51223882ddc",
   "metadata": {},
   "outputs": [
    {
     "name": "stdout",
     "output_type": "stream",
     "text": [
      "[1, 2, 4, 5, 7, 8]\n"
     ]
    }
   ],
   "source": [
    "l.sort()\n",
    "print(l)"
   ]
  },
  {
   "cell_type": "code",
   "execution_count": 6,
   "id": "d3d5673a-6682-4435-be92-d476e40a5aab",
   "metadata": {},
   "outputs": [
    {
     "name": "stdout",
     "output_type": "stream",
     "text": [
      "[8, 7, 5, 4, 2, 1]\n"
     ]
    }
   ],
   "source": [
    "l.reverse()\n",
    "print(l)"
   ]
  },
  {
   "cell_type": "code",
   "execution_count": 9,
   "id": "77f4aa09-4334-428d-961f-9cce9c827888",
   "metadata": {},
   "outputs": [
    {
     "data": {
      "text/plain": [
       "2"
      ]
     },
     "execution_count": 9,
     "metadata": {},
     "output_type": "execute_result"
    }
   ],
   "source": [
    "l = [7,2,5,8,7,7,4,1]\n",
    "l.index(5)"
   ]
  },
  {
   "cell_type": "code",
   "execution_count": 10,
   "id": "d6d50bf5-4134-4297-b9bf-252c3a21d49a",
   "metadata": {},
   "outputs": [
    {
     "data": {
      "text/plain": [
       "3"
      ]
     },
     "execution_count": 10,
     "metadata": {},
     "output_type": "execute_result"
    }
   ],
   "source": [
    "l.count(7)"
   ]
  },
  {
   "cell_type": "code",
   "execution_count": 13,
   "id": "6c7281c0-e86e-4e43-930f-47fa4b1078b2",
   "metadata": {},
   "outputs": [
    {
     "name": "stdout",
     "output_type": "stream",
     "text": [
      "[7, 2, 5, 8, 7, 7, 4, 1]\n"
     ]
    }
   ],
   "source": [
    "l1 = l.copy()\n",
    "print(l1)"
   ]
  },
  {
   "cell_type": "code",
   "execution_count": 17,
   "id": "4245eebc-e74f-4630-8705-9e36180ba4dc",
   "metadata": {},
   "outputs": [
    {
     "name": "stdout",
     "output_type": "stream",
     "text": [
      "1746135904512\n",
      "1746123724032\n"
     ]
    }
   ],
   "source": [
    "print(id(l1))\n",
    "print(id(l))"
   ]
  },
  {
   "cell_type": "code",
   "execution_count": 18,
   "id": "5ac40eed-6bc2-4247-b670-bdff113b65e9",
   "metadata": {},
   "outputs": [],
   "source": [
    "l.reverse()"
   ]
  },
  {
   "cell_type": "code",
   "execution_count": 19,
   "id": "bf78bab4-f5b5-4191-a8cc-3404e20ae978",
   "metadata": {},
   "outputs": [
    {
     "name": "stdout",
     "output_type": "stream",
     "text": [
      "[1, 4, 7, 7, 8, 5, 2, 7]\n"
     ]
    }
   ],
   "source": [
    "print(l)"
   ]
  },
  {
   "cell_type": "code",
   "execution_count": 20,
   "id": "cc9a18ce-51c3-435c-a283-75a2904ffec3",
   "metadata": {},
   "outputs": [
    {
     "name": "stdout",
     "output_type": "stream",
     "text": [
      "[1, 2, 3, 4, 5, 6, 7, 8, 9, 10]\n"
     ]
    }
   ],
   "source": [
    "L = []\n",
    "\n",
    "for i in range(1,11):\n",
    "    L.append(i)\n",
    "print(L)"
   ]
  },
  {
   "cell_type": "code",
   "execution_count": 22,
   "id": "1c014db6-80be-453d-a520-dcd12038bda3",
   "metadata": {},
   "outputs": [
    {
     "name": "stdout",
     "output_type": "stream",
     "text": [
      "[1, 2, 3, 4, 5, 6, 7, 8, 9, 10]\n"
     ]
    }
   ],
   "source": [
    "L = [i for i in range(1,11)]\n",
    "print(L)"
   ]
  },
  {
   "cell_type": "code",
   "execution_count": 25,
   "id": "0ee0ceaa-d9ee-41f8-9672-32db7d7d1d2b",
   "metadata": {},
   "outputs": [
    {
     "name": "stdout",
     "output_type": "stream",
     "text": [
      "[-9, -12, -21, -6]\n"
     ]
    }
   ],
   "source": [
    "# Vector Multiplication\n",
    "\n",
    "v = [3,4,7,2]\n",
    "s = -3\n",
    "\n",
    "v = [i*s for i in v]\n",
    "print(v)"
   ]
  },
  {
   "cell_type": "code",
   "execution_count": 27,
   "id": "eac2c40e-e26f-415f-8f3b-3a63e8238912",
   "metadata": {},
   "outputs": [
    {
     "name": "stdout",
     "output_type": "stream",
     "text": [
      "[1, 4, 9, 16, 25, 36]\n"
     ]
    }
   ],
   "source": [
    "L = [1,2,3,4,5,6]\n",
    "\n",
    "Square_of_L = [i**2 for i in L]\n",
    "\n",
    "print(Square_of_L)"
   ]
  },
  {
   "cell_type": "code",
   "execution_count": 29,
   "id": "352a3867-3c75-4c80-aaed-8e337f0c5387",
   "metadata": {},
   "outputs": [
    {
     "name": "stdout",
     "output_type": "stream",
     "text": [
      "[0, 5, 10, 15, 20, 25, 30, 35, 40, 45, 50]\n"
     ]
    }
   ],
   "source": [
    "L = [i for i in range(51) if i%5==0]\n",
    "print(L)"
   ]
  },
  {
   "cell_type": "code",
   "execution_count": 33,
   "id": "37b52928-c1df-4442-9087-4fe03c60389c",
   "metadata": {},
   "outputs": [
    {
     "name": "stdout",
     "output_type": "stream",
     "text": [
      "apple anana "
     ]
    }
   ],
   "source": [
    "basket = ['apple', \"Gava\", 'cherry', \"anana\"]\n",
    "my_Fruits = ['apple', 'kiwi','Grephs','anana']\n",
    "\n",
    "for fruit in my_Fruits:\n",
    "    if fruit in basket:\n",
    "        if fruit.startswith(\"a\"):\n",
    "           print(fruit, end=\" \")"
   ]
  },
  {
   "cell_type": "markdown",
   "id": "1ac111fd-987b-4122-a649-e9ae68b48c2f",
   "metadata": {},
   "source": [
    "### List Compehension"
   ]
  },
  {
   "cell_type": "code",
   "execution_count": 34,
   "id": "efc52e03-b68e-4737-9721-e39b9142af3c",
   "metadata": {},
   "outputs": [
    {
     "data": {
      "text/plain": [
       "['apple', 'anana']"
      ]
     },
     "execution_count": 34,
     "metadata": {},
     "output_type": "execute_result"
    }
   ],
   "source": [
    "[fruit for fruit in my_Fruits if fruit in basket if fruit.startswith(\"a\")]"
   ]
  },
  {
   "cell_type": "markdown",
   "id": "5678adcd-3573-407c-a7cb-3c8cb51cd75c",
   "metadata": {},
   "source": [
    "#### 2d matrix using list comprehension"
   ]
  },
  {
   "cell_type": "code",
   "execution_count": 37,
   "id": "bfd1bd04-79d9-42ee-9b4f-ec4b92b97fa9",
   "metadata": {},
   "outputs": [
    {
     "data": {
      "text/plain": [
       "[[1, 2, 3], [2, 4, 6], [3, 6, 9]]"
      ]
     },
     "execution_count": 37,
     "metadata": {},
     "output_type": "execute_result"
    }
   ],
   "source": [
    "# for i in range(1,4):\n",
    "#     for j in range(1,4): \n",
    "#         print(i*j)\n",
    "[[i*j for j in range(1,4)] for i in range(1,4) ]"
   ]
  },
  {
   "cell_type": "markdown",
   "id": "4e854aee-abd8-4bcd-8af5-83b7e218ffd3",
   "metadata": {},
   "source": [
    "#### cartesion product"
   ]
  },
  {
   "cell_type": "code",
   "execution_count": 41,
   "id": "0c904910-d0dd-4b15-b478-806b24f3d38e",
   "metadata": {},
   "outputs": [
    {
     "data": {
      "text/plain": [
       "[5, 10, 15, 20, 6, 12, 18, 24, 7, 14, 21, 28, 8, 16, 24, 32]"
      ]
     },
     "execution_count": 41,
     "metadata": {},
     "output_type": "execute_result"
    }
   ],
   "source": [
    "L1 = [1,2,3,4]\n",
    "L2 = [5,6,7,8]\n",
    "#L3 = []\n",
    "# for i in L1:\n",
    "#     for j in L2:\n",
    "#         L3.append(i*j)\n",
    "\n",
    "# print(L3)\n",
    "\n",
    "[i*j for j in L2 for i in L1]"
   ]
  },
  {
   "cell_type": "markdown",
   "id": "b80025b4-4fa9-4b1a-9479-2bf127265e97",
   "metadata": {},
   "source": [
    "## zip() is used to join two items of list index wise"
   ]
  },
  {
   "cell_type": "code",
   "execution_count": 44,
   "id": "5bc81d56-1f5e-4892-95b2-64afa75063e5",
   "metadata": {},
   "outputs": [
    {
     "data": {
      "text/plain": [
       "[(1, -1, 'a'), (2, -2, 'b'), (3, -3, 'c'), (4, -4, 'd'), (5, -5, 'e')]"
      ]
     },
     "execution_count": 44,
     "metadata": {},
     "output_type": "execute_result"
    }
   ],
   "source": [
    "L1 = [1,2,3,4,5]\n",
    "L2 = [-1,-2,-3,-4,-5]\n",
    "L3 = ['a','b','c','d','e']\n",
    "\n",
    "list(zip(L1, L2, L3)) # gives the index wise pairing of two/more list"
   ]
  },
  {
   "cell_type": "code",
   "execution_count": 51,
   "id": "1fac45f9-a6c3-4be9-bbe2-8a09089804c7",
   "metadata": {},
   "outputs": [
    {
     "name": "stdout",
     "output_type": "stream",
     "text": [
      "[(1, -1), (2, -2), (3, -3), (4, -4), (5, -5)]\n"
     ]
    }
   ],
   "source": [
    "#without using zip function\n",
    "\n",
    "result=[]\n",
    "\n",
    "for i in range(min(len(L1),len(L2))): #min function is used to get the min length from any of both  list \n",
    "    result.append((L1[i], L2[i]))\n",
    "\n",
    "print(result)"
   ]
  },
  {
   "cell_type": "code",
   "execution_count": 55,
   "id": "3512d012-f1b5-4480-b2af-e74b6b4f727b",
   "metadata": {},
   "outputs": [
    {
     "name": "stdout",
     "output_type": "stream",
     "text": [
      "[(-1, 'a'), (-2, 'b'), (-3, 'c'), (-4, 'd'), (-5, 'e'), (-6, None), (-7, None), (-8, None)]\n"
     ]
    }
   ],
   "source": [
    "L2 = [-1,-2,-3,-4,-5,-6,-7,-8]\n",
    "L3 = ['a','b','c','d','e']\n",
    "result = []\n",
    "maxlen=max(len(L2),len(L3))\n",
    "\n",
    "for i in range(maxlen):\n",
    "    if i<len(L2) and i< len(L3): \n",
    "       result.append((L2[i], L3[i]))\n",
    "    elif i<len(L2):\n",
    "        result.append((L2[i], None))\n",
    "    elif i<len(L3):\n",
    "        result.append((None, L3[i]))\n",
    "        \n",
    "print(result)\n",
    "\n"
   ]
  },
  {
   "cell_type": "code",
   "execution_count": 58,
   "id": "276bb403-6449-4d1f-bc3c-06bf15a4c7de",
   "metadata": {},
   "outputs": [
    {
     "name": "stdout",
     "output_type": "stream",
     "text": [
      "[1, 2, 3]\n",
      "[1, 2, 3]\n",
      "[1, 2, 3, 4]\n",
      "[1, 2, 3]\n"
     ]
    }
   ],
   "source": [
    "a = [1,2,3]\n",
    "b = a.copy()\n",
    "\n",
    "print(a)\n",
    "print(b)\n",
    "a.append(4)\n",
    "print(a)\n",
    "\n",
    "print(b)"
   ]
  },
  {
   "cell_type": "markdown",
   "id": "89887b4a-3a17-47ca-825f-19d4bdf88b43",
   "metadata": {},
   "source": [
    "### Problem 1: Combine two lists index-wise(columns wise)\n",
    "Write a program to add two lists index-wise. Create a new list that contains the 0th index item from both the list,then the 1st index item,\n",
    "and so on till the last element.any leftover items will get added at the end of the new list."
   ]
  },
  {
   "cell_type": "code",
   "execution_count": 1,
   "id": "0219b977-4c05-46eb-b5fc-4d5e3f517653",
   "metadata": {},
   "outputs": [
    {
     "name": "stdout",
     "output_type": "stream",
     "text": [
      "[('M', 'y'), ('na', 'me'), ('i', 's'), ('Kh', 'an')]\n"
     ]
    }
   ],
   "source": [
    "list1 = [\"M\", \"na\", \"i\", \"Kh\"]\n",
    "list2 = [\"y\", \"me\", \"s\", \"an\"]\n",
    "\n",
    "result = []\n",
    "\n",
    "maxlenth = max(len(list1), len(list2))\n",
    "\n",
    "for i in range(maxlenth):\n",
    "    if i < len(list1) and i< len(list2):\n",
    "        result.append((list1[i], list2[i]))\n",
    "    elif i < len(list1):\n",
    "        result.append((list1[i], None))\n",
    "    elif i< len(list2):\n",
    "        result.append((None, list2[i]))\n",
    "\n",
    "print(result)"
   ]
  },
  {
   "cell_type": "markdown",
   "id": "8b686052-cdf1-473c-9978-2d4dae557a83",
   "metadata": {},
   "source": [
    "### Write a program to add item 7000 after 6000 in the following Python List"
   ]
  },
  {
   "cell_type": "code",
   "execution_count": 11,
   "id": "cdd79c7e-3478-457c-b257-dc917e2daf28",
   "metadata": {},
   "outputs": [
    {
     "name": "stdout",
     "output_type": "stream",
     "text": [
      "[10, 20, [300, 400, [5000, 6000, 7000], 500], 30, 40]\n"
     ]
    }
   ],
   "source": [
    "\n",
    "list1[2][2].append(7000) # YOU CAN USE INDEX if asking for spesific index to insert the value\n",
    "print(list1)"
   ]
  },
  {
   "cell_type": "markdown",
   "id": "e7552d81-a196-4eeb-a9a6-2c374fa3bfe1",
   "metadata": {},
   "source": [
    "### Suppose you are given a list of candy and another list of same size representing no of items of respective candy."
   ]
  },
  {
   "cell_type": "markdown",
   "id": "652987a0-cc52-47cc-88bc-cf88045cf6f5",
   "metadata": {},
   "source": [
    "Jelly Belly - 10\n",
    "Kit Kat - 20\n",
    "Double Bubble - 34\n",
    "Milky Way - 74\n",
    "Three Musketeers - 32"
   ]
  },
  {
   "cell_type": "code",
   "execution_count": 31,
   "id": "087c8f67-6450-41d2-a92b-f2695002edc3",
   "metadata": {},
   "outputs": [
    {
     "name": "stdout",
     "output_type": "stream",
     "text": [
      "Jelly Belly - 10\n",
      "Kit Kat - 20\n",
      "Double Bubble - 34\n",
      "Milky Way - 74\n",
      "Three Musketeers - 32\n"
     ]
    }
   ],
   "source": [
    " \n",
    "\n",
    "#list(zip(candy_list,no_of_items))\n",
    "# total_candy_count = []\n",
    "# for i in range(len(candy_list)):\n",
    "#     total_candy_count.append((candy_list[i], no_of_items[i]))\n",
    "#     print(total_candy_count)\n",
    "#     total_candy_count=[]\n",
    "\n",
    "for candy, count in zip(candy_list, no_of_items):\n",
    "    #print(candy,\"-\", count)\n",
    "    print(f'{candy} - {count}')\n"
   ]
  },
  {
   "cell_type": "markdown",
   "id": "87a69ce7-ad20-49c5-919f-35b3252c96c9",
   "metadata": {},
   "source": [
    "### Running Sum on list\n",
    "Write a program to print a list after performing running sum on it."
   ]
  },
  {
   "cell_type": "code",
   "execution_count": 33,
   "id": "4d3ff522-1586-4928-ac39-27e4b47f6db6",
   "metadata": {},
   "outputs": [
    {
     "name": "stdout",
     "output_type": "stream",
     "text": [
      "[1, 3, 6, 10, 15, 21]\n"
     ]
    }
   ],
   "source": [
    "list1 = [1,2,3,4,5,6]\n",
    "#O/P [1,3,6,10,15,21]\n",
    "\n",
    "cumulative_sum = []\n",
    "current_sum = 0 \n",
    "for num in list1:\n",
    "    current_sum +=num\n",
    "    cumulative_sum.append(current_sum)\n",
    "\n",
    "print(cumulative_sum)"
   ]
  },
  {
   "cell_type": "markdown",
   "id": "6be791c7-fa2e-4113-83d9-7cf8cfd67935",
   "metadata": {},
   "source": [
    "### You are given a list of integers. You are asked to make a list by running through elements of the list by adding all elements greater and itself.\n",
    "##### i.e. Say given list is [2,4,6,10,1] resultant list will be [22,20,10,23].\n"
   ]
  },
  {
   "cell_type": "code",
   "execution_count": 13,
   "id": "55224d68-cb41-4837-a125-bccfb2f9a57e",
   "metadata": {},
   "outputs": [
    {
     "name": "stdout",
     "output_type": "stream",
     "text": [
      "[22, 20, 16, 10, 23]\n"
     ]
    }
   ],
   "source": [
    "list1 = [2,4,6,10,1]\n",
    "add = 0\n",
    "list2 = []\n",
    "for i in range(0,len(list1)):\n",
    "    for j in range(0,len(list1)) :\n",
    "        if list1[i]<list1[j]:\n",
    "            add += list1[j]\n",
    "    add +=list1[i]\n",
    "    list2.append(add)\n",
    "    add = 0\n",
    "     \n",
    "print(list2)"
   ]
  },
  {
   "cell_type": "markdown",
   "id": "fd7936e9-5732-46c0-8682-4b85ccc75718",
   "metadata": {},
   "source": [
    "###  Find list of common unique items from two list. and show in increasing order"
   ]
  },
  {
   "cell_type": "code",
   "execution_count": 51,
   "id": "f1daa674-fdeb-4d22-ad21-3f71b9b2dd9f",
   "metadata": {},
   "outputs": [
    {
     "name": "stdout",
     "output_type": "stream",
     "text": [
      "[34, 67, 89]\n"
     ]
    }
   ],
   "source": [
    "num1 = [23,45,67,78,89,34]\n",
    "num2 = [34,89,55,56,39,67]\n",
    "\n",
    "num3=[commn for commn in num2 if commn in num1]\n",
    "num3.sort()\n",
    "print(num3)"
   ]
  },
  {
   "cell_type": "code",
   "execution_count": 58,
   "id": "5e57fa0a-c1e4-4054-a3d7-87616c436f5c",
   "metadata": {},
   "outputs": [
    {
     "name": "stdout",
     "output_type": "stream",
     "text": [
      "True\n"
     ]
    }
   ],
   "source": [
    "str1 = \"12ac3\"\n",
    "print(str1.isalnum())\n",
    "    "
   ]
  },
  {
   "cell_type": "markdown",
   "id": "cd0c8c38-04a7-4c9f-b763-b707cea761f0",
   "metadata": {},
   "source": [
    "### Sort a list of alphanumeric strings based on product value of numeric character in it. If in any string there is no numeric character take it's\n",
    "### product value as 1.\n",
    "### ['1ac21', '23fg', '456', '098d','1','kls']----->['456', '23fg', '1ac21', '1', 'kls', '098d']\n"
   ]
  },
  {
   "cell_type": "code",
   "execution_count": 6,
   "id": "4c3aa084-45f4-4c59-9401-bbf33d04ebbe",
   "metadata": {},
   "outputs": [
    {
     "data": {
      "text/plain": [
       "[456]"
      ]
     },
     "execution_count": 6,
     "metadata": {},
     "output_type": "execute_result"
    }
   ],
   "source": [
    "lst =['1ac21', '23fg', '456', '098d','1','kls']\n",
    "lst1 = []\n",
    "\n",
    "\n",
    "hasDigit = False\n",
    "for char in lst:\n",
    "    product = 1\n",
    "    for i in char:\n",
    "        if i.isdigit():\n",
    "            product *= int(i)\n",
    "            # hasDigit =True\n",
    "if hasDigit:\n",
    "   lst1.append(product)\n",
    "else:\n",
    "      lst1.append(1)\n",
    "lst1"
   ]
  },
  {
   "cell_type": "code",
   "execution_count": 1,
   "id": "86625d77-f211-403e-acd6-c2c40c251dab",
   "metadata": {},
   "outputs": [
    {
     "name": "stdout",
     "output_type": "stream",
     "text": [
      "['456', '23fg', '1ac21', '1', 'kls', '098d']\n"
     ]
    }
   ],
   "source": [
    "def product_of_digits(s):\n",
    "    product = 1\n",
    "    has_digit = False\n",
    "    for char in  s:\n",
    "        if char.isdigit():\n",
    "            product *= int(char)\n",
    "            has_digit = True\n",
    "    return product if has_digit else 1\n",
    "\n",
    "# Input list\n",
    "input_list = ['1ac21', '23fg', '456', '098d', '1', 'kls']\n",
    "\n",
    "# Sort the list based on the product of digits\n",
    "sorted_list = sorted(input_list, key=product_of_digits, reverse=True)\n",
    "\n",
    "# Print the output\n",
    "print(sorted_list)\n"
   ]
  },
  {
   "cell_type": "markdown",
   "id": "4a4feae3-ea01-4bc9-ac55-e54e7728fd07",
   "metadata": {},
   "source": [
    "### Split String of list on K character"
   ]
  },
  {
   "cell_type": "code",
   "execution_count": 2,
   "id": "a2f8d555-e443-4fe7-be14-c517bf578b11",
   "metadata": {},
   "outputs": [
    {
     "name": "stdout",
     "output_type": "stream",
     "text": [
      "CampusX is a channel for data-science aspirants.\n"
     ]
    }
   ],
   "source": [
    "lst = ['CampusX is a channel', 'for data-science', 'aspirants.']\n",
    "result = []\n",
    "# str1 = \"\"\n",
    "# for words in lst:\n",
    "#     for subwords in range(len(words)):\n",
    "#         print(\" \".join(words[subwords]), end=\"\")\n",
    "\n",
    "#     print(end=\" \")\n",
    "\n",
    "print(' '.join(lst))"
   ]
  },
  {
   "cell_type": "code",
   "execution_count": 4,
   "id": "42458d50-fad1-46bf-adb2-226763294cef",
   "metadata": {},
   "outputs": [
    {
     "name": "stdout",
     "output_type": "stream",
     "text": [
      "['CampusX', 'is', 'a', 'channel', 'for', 'data-science', 'aspirants.']\n"
     ]
    }
   ],
   "source": [
    "ouput = []\n",
    "for word in lst:\n",
    "    words = word.split()\n",
    "    ouput.extend(words)\n",
    "\n",
    "print(ouput)"
   ]
  },
  {
   "cell_type": "markdown",
   "id": "f85defac-fc7b-484f-9da3-e10298e5c603",
   "metadata": {},
   "source": [
    "### Convert Character Matrix to single String using string comprehension.\n",
    "[['c', 'a', 'm', 'p', 'u', 'x'], ['i', 's'], ['b', 'e', 's', 't'], ['c', 'h', 'a', 'n', 'n', 'e', 'l']]---->\n",
    "campux is best channel\n"
   ]
  },
  {
   "cell_type": "code",
   "execution_count": 59,
   "id": "b442a4ed-c1b7-4abd-a5f3-f03918867c6a",
   "metadata": {},
   "outputs": [
    {
     "name": "stdout",
     "output_type": "stream",
     "text": [
      "campux is best channel\n"
     ]
    }
   ],
   "source": [
    "lst=[['c', 'a', 'm', 'p', 'u', 'x'], ['i', 's'], ['b', 'e', 's', 't'], ['c', 'h', 'a', 'n', 'n', 'e', 'l']]\n",
    "final = ' '.join([\"\".join(sublist) for sublist in lst])\n",
    "print(final)\n",
    " \n",
    "#[' '.join(words) for sublist in lst for words in sublist ]"
   ]
  },
  {
   "cell_type": "markdown",
   "id": "d586c114-cc0e-4c5f-9153-294192cb1f1c",
   "metadata": {},
   "source": [
    "### Write a program that can perform union operation on 2 lists"
   ]
  },
  {
   "cell_type": "code",
   "execution_count": 5,
   "id": "3514f2af-ce23-4a2b-b065-2ff274404356",
   "metadata": {},
   "outputs": [
    {
     "name": "stdout",
     "output_type": "stream",
     "text": [
      "[1, 2, 3, 4, 5, 7, 8]\n"
     ]
    }
   ],
   "source": [
    "L1=[1,2,3,4,5,1]\n",
    "L2=[2,3,5,7,8]\n",
    "L3 = []\n",
    "L1.extend(L2)\n",
    "\n",
    "for i in L1:\n",
    "    if i not in L3:\n",
    "        L3.append(i)\n",
    "print(L3)"
   ]
  },
  {
   "cell_type": "markdown",
   "id": "622cd3ab-5eea-4dc8-9e6e-0b7828810425",
   "metadata": {},
   "source": [
    "Write a program that can find the max number of each row of a matrix\n",
    "Example:\n",
    "\n",
    "Input:\n",
    "\n",
    "[[1,2,3],[4,5,6],[7,8,9]]\n",
    "Output:\n",
    "\n",
    "[3,6,9]"
   ]
  },
  {
   "cell_type": "code",
   "execution_count": null,
   "id": "bdb143cf-96eb-4009-9e96-d04f699ec1d1",
   "metadata": {},
   "outputs": [],
   "source": [
    "L1 =[[1,2,3],[4,5,6],[7,8,9]] \n",
    "l2 = []\n",
    "for i in range(3):\n",
    "    mx = 0\n",
    "    for j in range(3):\n",
    "        if L1[i][j]>mx:\n",
    "            "
   ]
  },
  {
   "cell_type": "markdown",
   "id": "c1e3aee2-ba55-4a74-ba38-01e2782bd43c",
   "metadata": {},
   "source": [
    "Write a list comprehension that can transpose a given matrix\n",
    "matrix = [\n",
    "[1,2,3],\n",
    "[4,5,6],\n",
    "[7,8,9]\n",
    "]\n",
    "\n",
    "[1, 4, 7]\n",
    "[2, 5, 8]\n",
    "[3, 6, 9]"
   ]
  },
  {
   "cell_type": "code",
   "execution_count": 28,
   "id": "0b446533-75f4-4f49-bcc9-e11f48510b30",
   "metadata": {},
   "outputs": [
    {
     "data": {
      "text/plain": [
       "[[1, 4, 7], [2, 5, 8], [3, 6, 9]]"
      ]
     },
     "execution_count": 28,
     "metadata": {},
     "output_type": "execute_result"
    }
   ],
   "source": [
    "matrix = [\n",
    "    [1, 2, 3],\n",
    "    [4, 5, 6],\n",
    "    [7, 8, 9]\n",
    "]\n",
    "[[row[i] for row in matrix] for i in range(len(matrix[0]))]\n",
    "#[[row[i] for row in matrix] for i in range(len(matrix[0]))]"
   ]
  },
  {
   "cell_type": "code",
   "execution_count": 27,
   "id": "625cffae-8bb4-4b56-b41a-4b188452fa00",
   "metadata": {},
   "outputs": [
    {
     "name": "stdout",
     "output_type": "stream",
     "text": [
      "[[1, 4, 7], [2, 5, 8], [3, 6, 9]]\n"
     ]
    }
   ],
   "source": [
    "transpose = []\n",
    "for i in range(len(matrix[0])):\n",
    "    newRow=[]\n",
    "    for row in matrix:\n",
    "        newRow.append(row[i])\n",
    "    transpose.append(newRow)\n",
    "print(transpose)"
   ]
  },
  {
   "cell_type": "code",
   "execution_count": 30,
   "id": "c1754316-a0a2-4435-b780-d401b4c24ad9",
   "metadata": {},
   "outputs": [
    {
     "data": {
      "text/plain": [
       "[[1, 4, 7], [2, 5, 8], [3, 6, 9]]"
      ]
     },
     "execution_count": 30,
     "metadata": {},
     "output_type": "execute_result"
    }
   ],
   "source": [
    "transposeMat = [list(row) for row in zip(*matrix)]\n",
    "transposeMat"
   ]
  },
  {
   "cell_type": "code",
   "execution_count": 33,
   "id": "fa178e22-5a14-43b6-8d75-ac7ba38989db",
   "metadata": {},
   "outputs": [
    {
     "name": "stdout",
     "output_type": "stream",
     "text": [
      "[1, 2, 3] [4, 5, 6] [7, 8, 9]\n"
     ]
    }
   ],
   "source": [
    "print(*matrix) # *is used to unfold the [[]] into list "
   ]
  },
  {
   "cell_type": "code",
   "execution_count": null,
   "id": "8fe361f7-142f-47ee-83e2-eabb6d0437d5",
   "metadata": {},
   "outputs": [],
   "source": []
  }
 ],
 "metadata": {
  "kernelspec": {
   "display_name": "Python 3 (ipykernel)",
   "language": "python",
   "name": "python3"
  },
  "language_info": {
   "codemirror_mode": {
    "name": "ipython",
    "version": 3
   },
   "file_extension": ".py",
   "mimetype": "text/x-python",
   "name": "python",
   "nbconvert_exporter": "python",
   "pygments_lexer": "ipython3",
   "version": "3.12.5"
  }
 },
 "nbformat": 4,
 "nbformat_minor": 5
}
