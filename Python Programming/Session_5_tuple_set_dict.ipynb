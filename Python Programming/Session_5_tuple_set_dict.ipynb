{
 "cells": [
  {
   "cell_type": "markdown",
   "id": "cfe7428f-4607-4c4c-bf3a-8b2467a3569f",
   "metadata": {},
   "source": [
    "# Tuple"
   ]
  },
  {
   "cell_type": "code",
   "execution_count": 3,
   "id": "b3826051-c2ec-4756-b017-d0bc7a62742c",
   "metadata": {},
   "outputs": [
    {
     "data": {
      "text/plain": [
       "tuple"
      ]
     },
     "execution_count": 3,
     "metadata": {},
     "output_type": "execute_result"
    }
   ],
   "source": [
    "t1 = ()\n",
    "type(t1)"
   ]
  },
  {
   "cell_type": "code",
   "execution_count": 11,
   "id": "e0e8e5d9-3ab9-42ed-9fe9-fcea8a04a967",
   "metadata": {},
   "outputs": [
    {
     "name": "stdout",
     "output_type": "stream",
     "text": [
      "<class 'str'>\n",
      "Mayur\n"
     ]
    }
   ],
   "source": [
    "t2 = ('Mayur')\n",
    "print(type(t2))\n",
    "print(t2)"
   ]
  },
  {
   "cell_type": "code",
   "execution_count": 5,
   "id": "e60d8b06-ca03-4ee5-899f-fbb94e8697aa",
   "metadata": {},
   "outputs": [
    {
     "data": {
      "text/plain": [
       "tuple"
      ]
     },
     "execution_count": 5,
     "metadata": {},
     "output_type": "execute_result"
    }
   ],
   "source": [
    "t1 = ('Hello',)  # only single element in the tuple act as a string. so create tuple comma seperated value should be give \n",
    "type(t1)\n"
   ]
  },
  {
   "cell_type": "code",
   "execution_count": 11,
   "id": "af18442c-f81b-4c62-a42a-f638873c4301",
   "metadata": {},
   "outputs": [
    {
     "data": {
      "text/plain": [
       "tuple"
      ]
     },
     "execution_count": 11,
     "metadata": {},
     "output_type": "execute_result"
    }
   ],
   "source": [
    "type(t1)"
   ]
  },
  {
   "cell_type": "code",
   "execution_count": 14,
   "id": "6425477e-2230-4210-bb5d-826101aaf8f7",
   "metadata": {},
   "outputs": [
    {
     "name": "stdout",
     "output_type": "stream",
     "text": [
      "(1, 2.5, True, [1, 2, 3])\n"
     ]
    }
   ],
   "source": [
    "t1 = (1,2.5,True, [1,2,3])  # tulpe is similar like List were we can store heteregenous value inside it\n",
    "print(t1)"
   ]
  },
  {
   "cell_type": "code",
   "execution_count": 12,
   "id": "275ba45b-a562-4581-b2e3-4f6b6a17837f",
   "metadata": {},
   "outputs": [
    {
     "name": "stdout",
     "output_type": "stream",
     "text": [
      "Hello\n"
     ]
    },
    {
     "data": {
      "text/plain": [
       "('H', 'e', 'l', 'l', 'o')"
      ]
     },
     "execution_count": 12,
     "metadata": {},
     "output_type": "execute_result"
    }
   ],
   "source": [
    "string = \"Hello\"  \n",
    "print(string)\n",
    "tuple(string)"
   ]
  },
  {
   "cell_type": "markdown",
   "id": "2be9425f-1b8f-4739-8455-1a88cc96b2f6",
   "metadata": {},
   "source": [
    "## Indexing ANd Slicing "
   ]
  },
  {
   "cell_type": "code",
   "execution_count": 31,
   "id": "8154d629-d251-4b79-b50f-553be2473c17",
   "metadata": {},
   "outputs": [
    {
     "name": "stdout",
     "output_type": "stream",
     "text": [
      "(1, 2, 3, 4, 5, 6)\n"
     ]
    }
   ],
   "source": [
    "tpl=(1,2,3,4,5,6)\n",
    "print(tpl)"
   ]
  },
  {
   "cell_type": "code",
   "execution_count": 18,
   "id": "751bd37c-b284-46f8-af8d-5828968cf5b0",
   "metadata": {},
   "outputs": [
    {
     "data": {
      "text/plain": [
       "(1, 2, 3, 4, 5, 6)"
      ]
     },
     "execution_count": 18,
     "metadata": {},
     "output_type": "execute_result"
    }
   ],
   "source": [
    "tpl[0:]"
   ]
  },
  {
   "cell_type": "code",
   "execution_count": 19,
   "id": "b5aeec9a-2799-4824-b967-c8c556ef48df",
   "metadata": {},
   "outputs": [
    {
     "data": {
      "text/plain": [
       "(3, 4, 5, 6)"
      ]
     },
     "execution_count": 19,
     "metadata": {},
     "output_type": "execute_result"
    }
   ],
   "source": [
    "tpl[2:]"
   ]
  },
  {
   "cell_type": "code",
   "execution_count": 20,
   "id": "23c645c6-c1fe-4c6e-b323-f8e5e8f8d931",
   "metadata": {},
   "outputs": [
    {
     "data": {
      "text/plain": [
       "6"
      ]
     },
     "execution_count": 20,
     "metadata": {},
     "output_type": "execute_result"
    }
   ],
   "source": [
    "tpl[-1]"
   ]
  },
  {
   "cell_type": "code",
   "execution_count": 25,
   "id": "36cc3fb0-21bf-4a6c-9490-9ead3b67ada0",
   "metadata": {},
   "outputs": [
    {
     "data": {
      "text/plain": [
       "(3, 4, 5)"
      ]
     },
     "execution_count": 25,
     "metadata": {},
     "output_type": "execute_result"
    }
   ],
   "source": [
    "tpl[-4:-1]"
   ]
  },
  {
   "cell_type": "code",
   "execution_count": 26,
   "id": "2d64ef41-a5fa-42a7-8b11-b7b8ce6cc84e",
   "metadata": {},
   "outputs": [
    {
     "data": {
      "text/plain": [
       "(6, 5, 4, 3, 2, 1)"
      ]
     },
     "execution_count": 26,
     "metadata": {},
     "output_type": "execute_result"
    }
   ],
   "source": [
    "tpl[::-1]"
   ]
  },
  {
   "cell_type": "code",
   "execution_count": 32,
   "id": "4a0bcc16-d14c-4256-87a9-e4ba334a0c47",
   "metadata": {},
   "outputs": [
    {
     "name": "stdout",
     "output_type": "stream",
     "text": [
      "(1, 2, 3, 4, 5, 6)\n"
     ]
    }
   ],
   "source": [
    "print(tpl)"
   ]
  },
  {
   "cell_type": "code",
   "execution_count": 33,
   "id": "56823830-a6c8-4421-b5d1-ef463a64ac11",
   "metadata": {},
   "outputs": [],
   "source": [
    "del tpl"
   ]
  },
  {
   "cell_type": "code",
   "execution_count": 28,
   "id": "fbe0fd68-fb8b-4d9f-8044-0b01a457e5f6",
   "metadata": {},
   "outputs": [
    {
     "ename": "NameError",
     "evalue": "name 'tpl' is not defined",
     "output_type": "error",
     "traceback": [
      "\u001b[1;31m---------------------------------------------------------------------------\u001b[0m",
      "\u001b[1;31mNameError\u001b[0m                                 Traceback (most recent call last)",
      "Cell \u001b[1;32mIn[28], line 1\u001b[0m\n\u001b[1;32m----> 1\u001b[0m \u001b[38;5;28mprint\u001b[39m(\u001b[43mtpl\u001b[49m)\n",
      "\u001b[1;31mNameError\u001b[0m: name 'tpl' is not defined"
     ]
    }
   ],
   "source": [
    "print(tpl)"
   ]
  },
  {
   "cell_type": "code",
   "execution_count": 1,
   "id": "c8c296d5-60de-4930-b63e-a6881e821b85",
   "metadata": {},
   "outputs": [
    {
     "name": "stdout",
     "output_type": "stream",
     "text": [
      "(1.2, 3, 4, 5, 6, 7, 8, 9, 0)\n",
      "(1.2, 3, 4, 5, 1.2, 3, 4, 5)\n"
     ]
    }
   ],
   "source": [
    "t1 = (1.2,3,4,5)\n",
    "t2 = (6,7,8,9,0)\n",
    "print(t1+t2) # add the two tuples adiition operator \n",
    "print(t1*2) # multiply the tuple * times "
   ]
  },
  {
   "cell_type": "markdown",
   "id": "86bd7bf6-04df-4fe6-bf77-abe283baec0a",
   "metadata": {},
   "source": [
    "### len min max sorted sum"
   ]
  },
  {
   "cell_type": "code",
   "execution_count": 5,
   "id": "ec95eb7a-076e-431e-bebe-4dac776a4c0d",
   "metadata": {},
   "outputs": [
    {
     "data": {
      "text/plain": [
       "4"
      ]
     },
     "execution_count": 5,
     "metadata": {},
     "output_type": "execute_result"
    }
   ],
   "source": [
    "len(t1)"
   ]
  },
  {
   "cell_type": "code",
   "execution_count": 6,
   "id": "496ac208-d4ec-49f8-8458-075adba8f70a",
   "metadata": {},
   "outputs": [
    {
     "data": {
      "text/plain": [
       "1.2"
      ]
     },
     "execution_count": 6,
     "metadata": {},
     "output_type": "execute_result"
    }
   ],
   "source": [
    "min(t1)"
   ]
  },
  {
   "cell_type": "code",
   "execution_count": 7,
   "id": "2dae6bc5-e443-41b4-a47f-66d6741816e3",
   "metadata": {},
   "outputs": [
    {
     "data": {
      "text/plain": [
       "5"
      ]
     },
     "execution_count": 7,
     "metadata": {},
     "output_type": "execute_result"
    }
   ],
   "source": [
    "max(t1)"
   ]
  },
  {
   "cell_type": "code",
   "execution_count": 8,
   "id": "37da610f-3795-4bee-8d49-06451a57043e",
   "metadata": {},
   "outputs": [
    {
     "data": {
      "text/plain": [
       "13.2"
      ]
     },
     "execution_count": 8,
     "metadata": {},
     "output_type": "execute_result"
    }
   ],
   "source": [
    "sum(t1) # add all the elements of the array"
   ]
  },
  {
   "cell_type": "code",
   "execution_count": 12,
   "id": "ddaeacef-6d8c-4380-a629-21bd31b7e216",
   "metadata": {},
   "outputs": [
    {
     "data": {
      "text/plain": [
       "[5, 4, 3, 1.2]"
      ]
     },
     "execution_count": 12,
     "metadata": {},
     "output_type": "execute_result"
    }
   ],
   "source": [
    "sorted(t1, reverse=True)"
   ]
  },
  {
   "cell_type": "code",
   "execution_count": 15,
   "id": "d3c4d717-b501-4f19-b5e6-e5cc70d2e83f",
   "metadata": {},
   "outputs": [
    {
     "data": {
      "text/plain": [
       "1"
      ]
     },
     "execution_count": 15,
     "metadata": {},
     "output_type": "execute_result"
    }
   ],
   "source": [
    "t1=(12,77, 54,0,6,65,44)\n",
    "\n",
    "t1.count(44) # count the number of occurencess of item or element\n"
   ]
  },
  {
   "cell_type": "code",
   "execution_count": 17,
   "id": "da8195a7-1085-4ecc-8648-3d2cf97375fc",
   "metadata": {},
   "outputs": [
    {
     "data": {
      "text/plain": [
       "3"
      ]
     },
     "execution_count": 17,
     "metadata": {},
     "output_type": "execute_result"
    }
   ],
   "source": [
    " t1.index(0) # Gives the index of the element "
   ]
  },
  {
   "cell_type": "code",
   "execution_count": 2,
   "id": "6adea3b3-f2db-4cd8-8fd1-c4a6223e7e3e",
   "metadata": {},
   "outputs": [
    {
     "name": "stdout",
     "output_type": "stream",
     "text": [
      "LIST Time Required:  0.018976211547851562\n",
      "Tuple time Required:  0.04929852485656738\n"
     ]
    }
   ],
   "source": [
    "import time\n",
    "\n",
    "L=list(range(100000))\n",
    "T=tuple(range(100000))\n",
    "\n",
    "start = time.time()\n",
    "\n",
    "for i in L:\n",
    "    i*5\n",
    "print(\"LIST Time Required: \", time.time()- start)\n",
    "\n",
    "start = time.time()\n",
    "\n",
    "for i in T:\n",
    "    i*5\n",
    "print(\"Tuple time Required: \", time.time()-start)"
   ]
  },
  {
   "cell_type": "code",
   "execution_count": null,
   "id": "8f524d0c-ee33-4cf0-867e-366f1f688f8d",
   "metadata": {},
   "outputs": [],
   "source": [
    "import time \n",
    "\n",
    "L = list(range(100000000))\n",
    "T = tuple(range(100000000))\n",
    "\n",
    "start = time.time()\n",
    "for i in L:\n",
    "  i*5\n",
    "print('List time',time.time()-start)\n",
    "\n",
    "start = time.time()\n",
    "for i in T:\n",
    "  i*5\n",
    "print('Tuple time',time.time()-start)"
   ]
  },
  {
   "cell_type": "code",
   "execution_count": 1,
   "id": "e747cedb-f7d9-40f3-adcb-1d12be118257",
   "metadata": {},
   "outputs": [
    {
     "name": "stdout",
     "output_type": "stream",
     "text": [
      "List size 8056\n",
      "Tuple size 8040\n"
     ]
    }
   ],
   "source": [
    "import sys\n",
    "\n",
    "L = list(range(1000))\n",
    "T = tuple(range(1000))\n",
    "\n",
    "print('List size',sys.getsizeof(L))\n",
    "print('Tuple size',sys.getsizeof(T))"
   ]
  },
  {
   "cell_type": "code",
   "execution_count": 3,
   "id": "6b125da9-dd28-4cd6-91c3-28002e50054c",
   "metadata": {},
   "outputs": [
    {
     "name": "stdout",
     "output_type": "stream",
     "text": [
      "[1, 2, 4, 3] [1, 2, 4, 3]\n"
     ]
    }
   ],
   "source": [
    "Lst = [1,2,4]\n",
    "l = Lst\n",
    "Lst.append(3)\n",
    "print(Lst, l)\n"
   ]
  },
  {
   "cell_type": "code",
   "execution_count": 6,
   "id": "08112a52-e535-4ce1-b911-c43220658311",
   "metadata": {},
   "outputs": [
    {
     "name": "stdout",
     "output_type": "stream",
     "text": [
      "(1, 2, 3) (1, 2, 3)\n",
      "(1, 2, 3, 4)\n"
     ]
    },
    {
     "data": {
      "text/plain": [
       "(1, 2, 3)"
      ]
     },
     "execution_count": 6,
     "metadata": {},
     "output_type": "execute_result"
    }
   ],
   "source": [
    "t = (1,2,3)\n",
    "t1 =t\n",
    "print(t,t1)\n",
    "print(t + (4,))\n",
    "\n",
    "t1\n"
   ]
  },
  {
   "cell_type": "code",
   "execution_count": 8,
   "id": "c2078f6a-145b-414e-9490-032ba49a9235",
   "metadata": {},
   "outputs": [
    {
     "name": "stdout",
     "output_type": "stream",
     "text": [
      "1 2 3\n"
     ]
    }
   ],
   "source": [
    "# Tuple unpacking\n",
    "\n",
    "a,b,c = (1,2,3)\n",
    "print(a,b,c)"
   ]
  },
  {
   "cell_type": "code",
   "execution_count": 9,
   "id": "54f85db3-2d99-43e1-8ebf-46836a6710fe",
   "metadata": {},
   "outputs": [
    {
     "ename": "ValueError",
     "evalue": "too many values to unpack (expected 2)",
     "output_type": "error",
     "traceback": [
      "\u001b[1;31m---------------------------------------------------------------------------\u001b[0m",
      "\u001b[1;31mValueError\u001b[0m                                Traceback (most recent call last)",
      "Cell \u001b[1;32mIn[9], line 1\u001b[0m\n\u001b[1;32m----> 1\u001b[0m a,c \u001b[38;5;241m=\u001b[39m  (\u001b[38;5;241m1\u001b[39m,\u001b[38;5;241m3\u001b[39m,\u001b[38;5;241m5\u001b[39m)\n",
      "\u001b[1;31mValueError\u001b[0m: too many values to unpack (expected 2)"
     ]
    }
   ],
   "source": [
    "a,c =  (1,3,5)"
   ]
  },
  {
   "cell_type": "code",
   "execution_count": 12,
   "id": "109b4efc-b433-4a9f-b026-3083667d9d15",
   "metadata": {},
   "outputs": [
    {
     "name": "stdout",
     "output_type": "stream",
     "text": [
      "a:  22\n",
      "b:  11\n"
     ]
    }
   ],
   "source": [
    "# swapping \n",
    "a =11\n",
    "b=22\n",
    "\n",
    "a,b = b,a\n",
    "print(\"a: \",a)\n",
    "print(\"b: \",b)"
   ]
  },
  {
   "cell_type": "code",
   "execution_count": 14,
   "id": "f0462205-9657-43ff-a1d9-950e3bdf7ce0",
   "metadata": {},
   "outputs": [],
   "source": [
    "a,b,*c = 1,2,3,5,6,67,8,9 # is used to unpack the tupple "
   ]
  },
  {
   "cell_type": "code",
   "execution_count": 14,
   "id": "8bbe2ce6-fc39-46e8-a49e-a4bf16749247",
   "metadata": {},
   "outputs": [],
   "source": [
    "a,b,*c = 1,2,3,5,6,67,8,9"
   ]
  },
  {
   "cell_type": "code",
   "execution_count": 15,
   "id": "3e7bf125-93d9-45e5-a840-abebe67a51b8",
   "metadata": {},
   "outputs": [
    {
     "name": "stdout",
     "output_type": "stream",
     "text": [
      "[3, 5, 6, 67, 8, 9]\n"
     ]
    }
   ],
   "source": [
    "print(c)"
   ]
  },
  {
   "cell_type": "code",
   "execution_count": 16,
   "id": "046a0519-c624-428b-bc6a-744a239f00ed",
   "metadata": {},
   "outputs": [
    {
     "data": {
      "text/plain": [
       "1"
      ]
     },
     "execution_count": 16,
     "metadata": {},
     "output_type": "execute_result"
    }
   ],
   "source": [
    "a"
   ]
  },
  {
   "cell_type": "code",
   "execution_count": 17,
   "id": "ebc5b198-b732-460a-b13c-4ffe42a3e7d1",
   "metadata": {},
   "outputs": [
    {
     "data": {
      "text/plain": [
       "2"
      ]
     },
     "execution_count": 17,
     "metadata": {},
     "output_type": "execute_result"
    }
   ],
   "source": [
    "b"
   ]
  },
  {
   "cell_type": "code",
   "execution_count": 18,
   "id": "88fcb5a0-3531-4386-99ef-f78ce30ecb98",
   "metadata": {},
   "outputs": [
    {
     "data": {
      "text/plain": [
       "[3, 5, 6, 67, 8, 9]"
      ]
     },
     "execution_count": 18,
     "metadata": {},
     "output_type": "execute_result"
    }
   ],
   "source": [
    "c"
   ]
  },
  {
   "cell_type": "code",
   "execution_count": 24,
   "id": "30a57b78-837c-452c-bf0d-1774639db546",
   "metadata": {},
   "outputs": [
    {
     "data": {
      "text/plain": [
       "[(1, 5), (2, 6), (3, 7), (4, 8)]"
      ]
     },
     "execution_count": 24,
     "metadata": {},
     "output_type": "execute_result"
    }
   ],
   "source": [
    "a = (1,2,3,4)\n",
    "b =(5,6,7,8)\n",
    "c= zip(a,b)\n",
    "tuple (c)"
   ]
  },
  {
   "cell_type": "markdown",
   "id": "5f04a744-6f69-4c95-8792-d0764f4a73a0",
   "metadata": {},
   "source": [
    "# SET"
   ]
  },
  {
   "cell_type": "code",
   "execution_count": 28,
   "id": "2fc17828-aadb-4d2b-9092-06eb95b36308",
   "metadata": {},
   "outputs": [
    {
     "name": "stdout",
     "output_type": "stream",
     "text": [
      "set()\n",
      "<class 'set'>\n"
     ]
    }
   ],
   "source": [
    "s = set()\n",
    "print(s)\n",
    "print(type(s))"
   ]
  },
  {
   "cell_type": "code",
   "execution_count": 30,
   "id": "fb1ae029-56b8-44c0-9b17-acd87374b607",
   "metadata": {},
   "outputs": [
    {
     "data": {
      "text/plain": [
       "{1, 2, 3, 4, 5}"
      ]
     },
     "execution_count": 30,
     "metadata": {},
     "output_type": "execute_result"
    }
   ],
   "source": [
    "s = {1,2,3,4,5,5,5}\n",
    "s"
   ]
  },
  {
   "cell_type": "code",
   "execution_count": 31,
   "id": "b4115189-60cb-4af9-8ae7-fb8b7478e8b0",
   "metadata": {},
   "outputs": [
    {
     "ename": "TypeError",
     "evalue": "unhashable type: 'set'",
     "output_type": "error",
     "traceback": [
      "\u001b[1;31m---------------------------------------------------------------------------\u001b[0m",
      "\u001b[1;31mTypeError\u001b[0m                                 Traceback (most recent call last)",
      "Cell \u001b[1;32mIn[31], line 1\u001b[0m\n\u001b[1;32m----> 1\u001b[0m s2 \u001b[38;5;241m=\u001b[39m {\u001b[38;5;241m1\u001b[39m,\u001b[38;5;241m2\u001b[39m,\u001b[38;5;241m3\u001b[39m,{\u001b[38;5;241m4\u001b[39m,\u001b[38;5;241m5\u001b[39m}}\n",
      "\u001b[1;31mTypeError\u001b[0m: unhashable type: 'set'"
     ]
    }
   ],
   "source": [
    "s2 = {1,2,3,{4,5}}"
   ]
  },
  {
   "cell_type": "code",
   "execution_count": 33,
   "id": "44e1eecb-ceca-4e4f-b000-dab78c2f820f",
   "metadata": {},
   "outputs": [
    {
     "data": {
      "text/plain": [
       "{(1, 2, 3), (4+9j), 1, 2.2, 'Mayur'}"
      ]
     },
     "execution_count": 33,
     "metadata": {},
     "output_type": "execute_result"
    }
   ],
   "source": [
    "s3 = {1,2.2,\"Mayur\",4+9j, (1,2,3), True }\n",
    "s3"
   ]
  },
  {
   "cell_type": "code",
   "execution_count": 1,
   "id": "a794a540-aa42-47af-89a5-53c96741d896",
   "metadata": {},
   "outputs": [
    {
     "name": "stdout",
     "output_type": "stream",
     "text": [
      "True\n",
      "2345815922656\n",
      "2345815923552\n"
     ]
    }
   ],
   "source": [
    "s1={1,2,3} # Since the sets are unorderd \n",
    "s2={3,2,1}\n",
    "print(s1==s2)\n",
    "\n",
    "print(id(s1))\n",
    "print(id(s2))"
   ]
  },
  {
   "cell_type": "markdown",
   "id": "ecd0f977-4c7d-46d4-9b2e-e8669e8d4e9c",
   "metadata": {},
   "source": [
    "### Since the set is unorderd data type(Object) we cannot access the items of indexing and slicing"
   ]
  },
  {
   "cell_type": "markdown",
   "id": "991cb61b-beed-4ed9-acf0-56f831b99a60",
   "metadata": {},
   "source": [
    "### Adding using add() and update()"
   ]
  },
  {
   "cell_type": "code",
   "execution_count": 39,
   "id": "f8107ab6-7881-49c7-a8c5-52dc0e89ecf2",
   "metadata": {},
   "outputs": [
    {
     "name": "stdout",
     "output_type": "stream",
     "text": [
      "{1, 2, 3, 4, 5}\n"
     ]
    }
   ],
   "source": [
    "s = {1,2,3,4}\n",
    "s.add(5) # to add signle element\n",
    "print(s)"
   ]
  },
  {
   "cell_type": "code",
   "execution_count": 40,
   "id": "f1a5f291-7196-4b6c-b1b9-fc2a703a3fe8",
   "metadata": {},
   "outputs": [
    {
     "name": "stdout",
     "output_type": "stream",
     "text": [
      "{1, 2, 3, 4, 5, 33, 11, 22}\n"
     ]
    }
   ],
   "source": [
    "s.update([11,22,33])\n",
    "print(s)"
   ]
  },
  {
   "cell_type": "markdown",
   "id": "32bbd471-acb0-4bc4-becc-1c8d41a89b8b",
   "metadata": {},
   "source": [
    "#### Set funtions"
   ]
  },
  {
   "cell_type": "code",
   "execution_count": 53,
   "id": "d4251f3e-cc87-4996-9146-f79087903c6f",
   "metadata": {},
   "outputs": [
    {
     "data": {
      "text/plain": [
       "1"
      ]
     },
     "execution_count": 53,
     "metadata": {},
     "output_type": "execute_result"
    }
   ],
   "source": [
    "s1 = {3,1,4,5,2,7}\n",
    "min(s1)"
   ]
  },
  {
   "cell_type": "code",
   "execution_count": 42,
   "id": "8a8c592e-609b-48bb-8336-714b87a75153",
   "metadata": {},
   "outputs": [
    {
     "data": {
      "text/plain": [
       "7"
      ]
     },
     "execution_count": 42,
     "metadata": {},
     "output_type": "execute_result"
    }
   ],
   "source": [
    "max(s1)"
   ]
  },
  {
   "cell_type": "code",
   "execution_count": 44,
   "id": "08bd64d2-a16c-4365-954c-06e3ddead4d3",
   "metadata": {},
   "outputs": [
    {
     "data": {
      "text/plain": [
       "6"
      ]
     },
     "execution_count": 44,
     "metadata": {},
     "output_type": "execute_result"
    }
   ],
   "source": [
    "len(s1)"
   ]
  },
  {
   "cell_type": "code",
   "execution_count": 45,
   "id": "2e811cba-c51e-4f5f-8009-d8f89eacfe87",
   "metadata": {},
   "outputs": [
    {
     "data": {
      "text/plain": [
       "22"
      ]
     },
     "execution_count": 45,
     "metadata": {},
     "output_type": "execute_result"
    }
   ],
   "source": [
    "sum(s1)"
   ]
  },
  {
   "cell_type": "code",
   "execution_count": 49,
   "id": "cd8cf9c6-0ac2-4057-82cc-2256226aed07",
   "metadata": {},
   "outputs": [
    {
     "data": {
      "text/plain": [
       "[1, 2, 3, 4, 5, 7]"
      ]
     },
     "execution_count": 49,
     "metadata": {},
     "output_type": "execute_result"
    }
   ],
   "source": [
    "sorted(s1)"
   ]
  },
  {
   "cell_type": "markdown",
   "id": "d56598a5-3c44-4ac0-b085-028e920d6b12",
   "metadata": {},
   "source": [
    "### Deleting Items"
   ]
  },
  {
   "cell_type": "code",
   "execution_count": 57,
   "id": "2ea3b64e-7096-4e25-b501-3d7a50e5c400",
   "metadata": {},
   "outputs": [
    {
     "name": "stdout",
     "output_type": "stream",
     "text": [
      "{2, 3, 4, 5}\n"
     ]
    }
   ],
   "source": [
    "s1.remove(1) \n",
    "print(s1)"
   ]
  },
  {
   "cell_type": "code",
   "execution_count": 63,
   "id": "a00d20cc-7a10-4b07-93f0-91054c71f129",
   "metadata": {},
   "outputs": [
    {
     "name": "stdout",
     "output_type": "stream",
     "text": [
      "{4, 5}\n"
     ]
    }
   ],
   "source": [
    "s1.discard(9) # discard function will not give error if the item is not present in the set and conyinoue to the program flow\n",
    "print(s1)     # while remove function throws an error if the item is not present "
   ]
  },
  {
   "cell_type": "code",
   "execution_count": 64,
   "id": "b60f81eb-4bb0-4d51-b163-32fb0912f66f",
   "metadata": {},
   "outputs": [
    {
     "name": "stdout",
     "output_type": "stream",
     "text": [
      "{5}\n"
     ]
    }
   ],
   "source": [
    "s1.pop() # pop function remove the starting element of the set \n",
    "print(s1)"
   ]
  },
  {
   "cell_type": "code",
   "execution_count": 65,
   "id": "0cc9cb36-6016-42cb-b81a-7860c67fa491",
   "metadata": {},
   "outputs": [
    {
     "name": "stdout",
     "output_type": "stream",
     "text": [
      "set()\n"
     ]
    }
   ],
   "source": [
    "s1.clear() # this function clears all the elements from the set \n",
    "print(s1)"
   ]
  },
  {
   "cell_type": "markdown",
   "id": "120d9a0c-7ac3-4a4c-8721-6a02f94ac9b2",
   "metadata": {},
   "source": [
    "### Set Function union() update()"
   ]
  },
  {
   "cell_type": "code",
   "execution_count": 70,
   "id": "720292ec-bdcb-46db-b54b-9a957f2f331a",
   "metadata": {},
   "outputs": [
    {
     "name": "stdout",
     "output_type": "stream",
     "text": [
      "{1, 2, 3, 4, 5, 6, 7, 8}\n"
     ]
    }
   ],
   "source": [
    "s1={1,2,3,4}\n",
    "s2={5,6,7,8, 2,3}\n",
    "\n",
    "s1 | s2\n",
    "print(s1.union(s2))"
   ]
  },
  {
   "cell_type": "code",
   "execution_count": 72,
   "id": "7759e2cf-8daa-488d-82b8-b08018a7ae83",
   "metadata": {},
   "outputs": [
    {
     "name": "stdout",
     "output_type": "stream",
     "text": [
      "{1, 2, 3, 4, 5, 6, 7, 8}\n"
     ]
    }
   ],
   "source": [
    "s1.update(s2)\n",
    "print(s1)"
   ]
  },
  {
   "cell_type": "code",
   "execution_count": 74,
   "id": "4ecc8429-cf6b-4edd-8afa-e2bb3f5405c6",
   "metadata": {},
   "outputs": [
    {
     "data": {
      "text/plain": [
       "{2, 3, 5, 6, 7, 8}"
      ]
     },
     "execution_count": 74,
     "metadata": {},
     "output_type": "execute_result"
    }
   ],
   "source": [
    "s2"
   ]
  },
  {
   "cell_type": "code",
   "execution_count": 107,
   "id": "e8dc7ec9-56f7-4372-b18f-dad66f60f896",
   "metadata": {},
   "outputs": [
    {
     "name": "stdout",
     "output_type": "stream",
     "text": [
      "{2, 3}\n",
      "None\n"
     ]
    },
    {
     "data": {
      "text/plain": [
       "{2, 3}"
      ]
     },
     "execution_count": 107,
     "metadata": {},
     "output_type": "execute_result"
    }
   ],
   "source": [
    "s1={1,2,3,4}\n",
    "s2={5,6,7,8, 2,3}\n",
    "\n",
    "s1&s2 #common elements\n",
    "\n",
    "print(s1.intersection(s2))  # both  gives the same result\n",
    "print(s2.intersection_update(s1))\n",
    "s2"
   ]
  },
  {
   "cell_type": "code",
   "execution_count": 86,
   "id": "314e1080-12b4-4e62-b004-803afa841ff1",
   "metadata": {},
   "outputs": [
    {
     "name": "stdout",
     "output_type": "stream",
     "text": [
      "{1, 4}\n",
      "{8, 5, 6, 7}\n"
     ]
    },
    {
     "data": {
      "text/plain": [
       "{5, 6, 7, 8}"
      ]
     },
     "execution_count": 86,
     "metadata": {},
     "output_type": "execute_result"
    }
   ],
   "source": [
    "print(s1 - s2)  #the elements which are present in s1 and not in s2\n",
    "print(s2-s1)    # the elements which are present in s2 and not in s1\n"
   ]
  },
  {
   "cell_type": "code",
   "execution_count": 82,
   "id": "90089ebf-7db2-438e-bd67-d765326281b7",
   "metadata": {},
   "outputs": [
    {
     "data": {
      "text/plain": [
       "{1, 4, 5, 6, 7, 8}"
      ]
     },
     "execution_count": 82,
     "metadata": {},
     "output_type": "execute_result"
    }
   ],
   "source": [
    "# Symetric difference\n",
    "s1^s2 ## the elements which are not common from both the sets"
   ]
  },
  {
   "cell_type": "code",
   "execution_count": 83,
   "id": "a1e6c3dd-d4d0-476c-a664-9c603e2b2dba",
   "metadata": {},
   "outputs": [
    {
     "data": {
      "text/plain": [
       "True"
      ]
     },
     "execution_count": 83,
     "metadata": {},
     "output_type": "execute_result"
    }
   ],
   "source": [
    "1 in s1 # membership operator"
   ]
  },
  {
   "cell_type": "code",
   "execution_count": 84,
   "id": "d7b13b93-de89-4406-8cc6-7f5e9be67b32",
   "metadata": {},
   "outputs": [
    {
     "name": "stdout",
     "output_type": "stream",
     "text": [
      "1\n",
      "2\n",
      "3\n",
      "4\n"
     ]
    }
   ],
   "source": [
    "for i in s1:\n",
    "    print(i)"
   ]
  },
  {
   "cell_type": "markdown",
   "id": "76d9f62f-0cb5-4a16-8742-aabf71819c44",
   "metadata": {},
   "source": [
    "#### difference and difference_update"
   ]
  },
  {
   "cell_type": "code",
   "execution_count": 89,
   "id": "f88a2449-8a70-44cb-b1c3-e7f13d26c02a",
   "metadata": {},
   "outputs": [
    {
     "name": "stdout",
     "output_type": "stream",
     "text": [
      "{1, 4}\n"
     ]
    },
    {
     "data": {
      "text/plain": [
       "{1, 4}"
      ]
     },
     "execution_count": 89,
     "metadata": {},
     "output_type": "execute_result"
    }
   ],
   "source": [
    "#s1-s2\n",
    "\n",
    "print(s1.difference(s2))\n",
    "s1.difference_update(s2) # will get the difference and stope in the s1(first set)\n",
    "s1"
   ]
  },
  {
   "cell_type": "code",
   "execution_count": 93,
   "id": "3a2f87e2-5101-4c35-87ea-8254cd61bf16",
   "metadata": {},
   "outputs": [
    {
     "name": "stdout",
     "output_type": "stream",
     "text": [
      "{1, 4, 5, 6, 7, 8}\n",
      "{2, 3, 5, 6, 7, 8}\n"
     ]
    }
   ],
   "source": [
    "# Symetric difference\n",
    "# s1 ^ s2 \n",
    "# the elements which are not common from both the sets\n",
    "\n",
    "s1={1,2,3,4}\n",
    "s2={5,6,7,8,2,3}\n",
    "\n",
    "s1.symmetric_difference(s2)\n",
    "\n",
    "s1.symmetric_difference_update(s2)\n",
    "print(s1)\n",
    "print(s2)"
   ]
  },
  {
   "cell_type": "markdown",
   "id": "08da7b92-da50-49cd-9331-aef4eec23f3a",
   "metadata": {},
   "source": [
    "## issubset() / issuperset() / isdisjoint"
   ]
  },
  {
   "cell_type": "code",
   "execution_count": 94,
   "id": "5cc0e741-4bd1-486e-9a18-6d92a63f8e09",
   "metadata": {},
   "outputs": [
    {
     "data": {
      "text/plain": [
       "False"
      ]
     },
     "execution_count": 94,
     "metadata": {},
     "output_type": "execute_result"
    }
   ],
   "source": [
    "s1 = {1,2,3,4}\n",
    "s2 = {9,8,7,6}\n",
    "s1.issubset(s2)"
   ]
  },
  {
   "cell_type": "code",
   "execution_count": 95,
   "id": "6e414a9e-5971-4d91-9ec5-96e131d8e844",
   "metadata": {},
   "outputs": [
    {
     "data": {
      "text/plain": [
       "True"
      ]
     },
     "execution_count": 95,
     "metadata": {},
     "output_type": "execute_result"
    }
   ],
   "source": [
    "s1.isdisjoint(s2)"
   ]
  },
  {
   "cell_type": "code",
   "execution_count": 96,
   "id": "5061a026-8d56-4670-b0de-c0fb198a4eb6",
   "metadata": {},
   "outputs": [
    {
     "data": {
      "text/plain": [
       "False"
      ]
     },
     "execution_count": 96,
     "metadata": {},
     "output_type": "execute_result"
    }
   ],
   "source": [
    "s1.issuperset(s2)"
   ]
  },
  {
   "cell_type": "code",
   "execution_count": 97,
   "id": "7ce9b47f-57f4-480b-83e8-c70bdd08cabe",
   "metadata": {},
   "outputs": [
    {
     "data": {
      "text/plain": [
       "True"
      ]
     },
     "execution_count": 97,
     "metadata": {},
     "output_type": "execute_result"
    }
   ],
   "source": [
    "s1.issubset(s1)"
   ]
  },
  {
   "cell_type": "code",
   "execution_count": 98,
   "id": "7cf8a143-be81-4158-a49c-5bbbdb6c8dc8",
   "metadata": {},
   "outputs": [
    {
     "data": {
      "text/plain": [
       "True"
      ]
     },
     "execution_count": 98,
     "metadata": {},
     "output_type": "execute_result"
    }
   ],
   "source": [
    "s1.issuperset(s1)"
   ]
  },
  {
   "cell_type": "markdown",
   "id": "5f8c4112-9be0-4502-baf4-2ef29552ec2e",
   "metadata": {},
   "source": [
    "### copy()"
   ]
  },
  {
   "cell_type": "code",
   "execution_count": 100,
   "id": "6ebd2ad1-30a8-4e74-a413-0af86e44a291",
   "metadata": {},
   "outputs": [],
   "source": [
    "s3 = s1.copy()"
   ]
  },
  {
   "cell_type": "code",
   "execution_count": 101,
   "id": "54c9bba2-0f6a-45e7-8d03-77a331550834",
   "metadata": {},
   "outputs": [
    {
     "data": {
      "text/plain": [
       "{1, 2, 3, 4}"
      ]
     },
     "execution_count": 101,
     "metadata": {},
     "output_type": "execute_result"
    }
   ],
   "source": [
    "s3"
   ]
  },
  {
   "cell_type": "code",
   "execution_count": 102,
   "id": "c15adb04-0770-4242-800b-df210aa85b26",
   "metadata": {},
   "outputs": [],
   "source": [
    "s2.add(23)"
   ]
  },
  {
   "cell_type": "code",
   "execution_count": 103,
   "id": "2e96f880-460e-493e-84a0-698f9328478d",
   "metadata": {},
   "outputs": [],
   "source": [
    "s1.add(44)"
   ]
  },
  {
   "cell_type": "code",
   "execution_count": 104,
   "id": "44167955-4c3a-40d0-a266-994f0209a0d5",
   "metadata": {},
   "outputs": [
    {
     "data": {
      "text/plain": [
       "{1, 2, 3, 4}"
      ]
     },
     "execution_count": 104,
     "metadata": {},
     "output_type": "execute_result"
    }
   ],
   "source": [
    "s3"
   ]
  },
  {
   "cell_type": "code",
   "execution_count": 105,
   "id": "c7cd48cd-039e-4836-8b9b-b931b1f71f7a",
   "metadata": {},
   "outputs": [
    {
     "data": {
      "text/plain": [
       "{1, 2, 3, 4, 44}"
      ]
     },
     "execution_count": 105,
     "metadata": {},
     "output_type": "execute_result"
    }
   ],
   "source": [
    "s1"
   ]
  },
  {
   "cell_type": "raw",
   "id": "4706676b-a3a6-4c3b-b3a5-23d673da91e2",
   "metadata": {},
   "source": [
    "## ForzenSet\n",
    "---immutable form of set \n",
    "---we can add another frozen set inside the set as it is immutable\n",
    "---set property: set not allows mutable items in it as list, set, tuple dict \n",
    "--- use frozenset() constructor to define frozenset"
   ]
  },
  {
   "cell_type": "code",
   "execution_count": 114,
   "id": "1d232dc1-dc8c-4e31-9d2e-dc32d910030d",
   "metadata": {},
   "outputs": [
    {
     "data": {
      "text/plain": [
       "frozenset({2, 3, 5, 6, 7, 8})"
      ]
     },
     "execution_count": 114,
     "metadata": {},
     "output_type": "execute_result"
    }
   ],
   "source": [
    "f1 = frozenset([1,2,3,4])\n",
    "f2 = frozenset((5,6,7,8,2,3))\n",
    "f2"
   ]
  },
  {
   "cell_type": "code",
   "execution_count": 113,
   "id": "241a97c9-4f45-45d5-a741-0cd208715ef5",
   "metadata": {},
   "outputs": [
    {
     "data": {
      "text/plain": [
       "frozenset({1, 2, 3, 4, 5, 6, 7, 8})"
      ]
     },
     "execution_count": 113,
     "metadata": {},
     "output_type": "execute_result"
    }
   ],
   "source": [
    "f1|f2"
   ]
  },
  {
   "cell_type": "code",
   "execution_count": 115,
   "id": "6685c8ad-4087-4140-9407-44581fe77f09",
   "metadata": {},
   "outputs": [
    {
     "data": {
      "text/plain": [
       "frozenset({2, 3})"
      ]
     },
     "execution_count": 115,
     "metadata": {},
     "output_type": "execute_result"
    }
   ],
   "source": [
    "f1 & f2"
   ]
  },
  {
   "cell_type": "code",
   "execution_count": 116,
   "id": "f4353a57-c5de-4de2-ba2f-3bea694f17ca",
   "metadata": {},
   "outputs": [
    {
     "data": {
      "text/plain": [
       "frozenset({1, 4, 5, 6, 7, 8})"
      ]
     },
     "execution_count": 116,
     "metadata": {},
     "output_type": "execute_result"
    }
   ],
   "source": [
    "f1^f2"
   ]
  },
  {
   "cell_type": "code",
   "execution_count": 117,
   "id": "527df6e1-f166-442c-8361-ffbd82713dda",
   "metadata": {},
   "outputs": [
    {
     "data": {
      "text/plain": [
       "frozenset({1, 4})"
      ]
     },
     "execution_count": 117,
     "metadata": {},
     "output_type": "execute_result"
    }
   ],
   "source": [
    "f1-f2"
   ]
  },
  {
   "cell_type": "code",
   "execution_count": 118,
   "id": "660d7a33-c04e-41ab-8e2e-83cbbe4bb153",
   "metadata": {},
   "outputs": [
    {
     "data": {
      "text/plain": [
       "frozenset({5, 6, 7, 8})"
      ]
     },
     "execution_count": 118,
     "metadata": {},
     "output_type": "execute_result"
    }
   ],
   "source": [
    "f2-f1"
   ]
  },
  {
   "cell_type": "code",
   "execution_count": 123,
   "id": "c89000e9-d578-48e6-9cfd-1af8e5d9714d",
   "metadata": {},
   "outputs": [
    {
     "data": {
      "text/plain": [
       "frozenset({1, 2, 3, 4, frozenset({2, 3})})"
      ]
     },
     "execution_count": 123,
     "metadata": {},
     "output_type": "execute_result"
    }
   ],
   "source": [
    "f3 = frozenset({1,2,3,4,frozenset([2,3])})\n",
    "f3"
   ]
  },
  {
   "cell_type": "markdown",
   "id": "dd79c9cf-d821-49f9-8d51-99926f104bcd",
   "metadata": {},
   "source": [
    "### SET comprehension"
   ]
  },
  {
   "cell_type": "code",
   "execution_count": 3,
   "id": "774b4615-1b7b-4d38-ba40-d9d49e10b361",
   "metadata": {},
   "outputs": [
    {
     "data": {
      "text/plain": [
       "{36, 49, 64, 81, 100}"
      ]
     },
     "execution_count": 3,
     "metadata": {},
     "output_type": "execute_result"
    }
   ],
   "source": [
    "{i**2 for i in range(1,11) if i>5}\n",
    "\n",
    "# here we squre the elements from range 1 to 10 display the square for the value which is greated than 5 since from 6 "
   ]
  },
  {
   "cell_type": "markdown",
   "id": "e96ab1b5-4a70-44c0-ba3c-8f4feaf20b4f",
   "metadata": {},
   "source": [
    "# DICTIONARY"
   ]
  },
  {
   "cell_type": "code",
   "execution_count": 3,
   "id": "234e98a3-f626-4109-ba19-cd7c14959c93",
   "metadata": {},
   "outputs": [
    {
     "data": {
      "text/plain": [
       "dict"
      ]
     },
     "execution_count": 3,
     "metadata": {},
     "output_type": "execute_result"
    }
   ],
   "source": [
    "d1 = {}\n",
    "type(d1)"
   ]
  },
  {
   "cell_type": "code",
   "execution_count": 5,
   "id": "d43046f8-5b5c-46a7-86c1-3d95a9f95fdd",
   "metadata": {},
   "outputs": [
    {
     "name": "stdout",
     "output_type": "stream",
     "text": [
      "{'Name: ': 'Mayur', 'Age: ': 27, 'Profession: ': 'Data Scientest'}\n"
     ]
    }
   ],
   "source": [
    "d2 = {\"Name: \": \"Mayur\", \"Age: \": 27, \"Profession: \": \"Data Scientest\"}\n",
    "print(d2)"
   ]
  },
  {
   "cell_type": "code",
   "execution_count": 8,
   "id": "fda32eea-cc92-4418-a57d-6ad678b866ad",
   "metadata": {},
   "outputs": [
    {
     "name": "stdout",
     "output_type": "stream",
     "text": [
      "{(1, 2, 3): ['x', 'y', 'z'], 2.5: 5.2, (4+3j): 'csv'}\n"
     ]
    }
   ],
   "source": [
    "d3 = {(1,2,3):['x','y','z'], 2.5:5.2,(4+3j):\"csv\"}\n",
    "print(d3)"
   ]
  },
  {
   "cell_type": "code",
   "execution_count": 5,
   "id": "6bfd5db1-8171-4241-8813-e20db9e56516",
   "metadata": {},
   "outputs": [],
   "source": [
    "d42D = {'name': \"Mayur\",\n",
    "        'college': \"PJLCE\",\n",
    "       'subject':{'math': 100,\n",
    "                 'English': 200,\n",
    "                 'DS': 'Outoff'}}"
   ]
  },
  {
   "cell_type": "code",
   "execution_count": 6,
   "id": "a9227893-be54-4124-8997-f6863abca089",
   "metadata": {},
   "outputs": [
    {
     "name": "stdout",
     "output_type": "stream",
     "text": [
      "{'name': 'Mayur', 'college': 'PJLCE', 'subject': {'math': 100, 'English': 200, 'DS': 'Outoff'}}\n"
     ]
    }
   ],
   "source": [
    "print(d42D)"
   ]
  },
  {
   "cell_type": "markdown",
   "id": "951ad541-29da-4d6e-bfef-8b8fff29ffab",
   "metadata": {},
   "source": [
    "### Accessing Items by using key and get()"
   ]
  },
  {
   "cell_type": "code",
   "execution_count": 1,
   "id": "6425f7cc-a1ac-44d3-b186-e4192f54eede",
   "metadata": {},
   "outputs": [],
   "source": [
    "dct = {'name': 'Mayur', \"age\": 27, 'gender': 'Male'}"
   ]
  },
  {
   "cell_type": "code",
   "execution_count": 2,
   "id": "a83012b7-8c81-4372-a23d-1a08c02f1d4d",
   "metadata": {},
   "outputs": [
    {
     "data": {
      "text/plain": [
       "'Mayur'"
      ]
     },
     "execution_count": 2,
     "metadata": {},
     "output_type": "execute_result"
    }
   ],
   "source": [
    "dct[\"name\"]"
   ]
  },
  {
   "cell_type": "code",
   "execution_count": 3,
   "id": "d45d7b72-f2c0-420d-bcba-a480c61e1a5b",
   "metadata": {},
   "outputs": [
    {
     "data": {
      "text/plain": [
       "'Mayur'"
      ]
     },
     "execution_count": 3,
     "metadata": {},
     "output_type": "execute_result"
    }
   ],
   "source": [
    "dct.get(\"name\")"
   ]
  },
  {
   "cell_type": "code",
   "execution_count": 8,
   "id": "9a0229da-6117-4773-a410-47641d42f9b5",
   "metadata": {},
   "outputs": [],
   "source": [
    "d42D = {'name': \"Mayur\",\n",
    "        'college': \"PJLCE\",\n",
    "       'subject':{'math': 100,\n",
    "                 'English': 200,\n",
    "                 'DS': 'Outoff'}}"
   ]
  },
  {
   "cell_type": "code",
   "execution_count": 12,
   "id": "de870df3-104c-41b3-9607-9d4e39a10e29",
   "metadata": {},
   "outputs": [
    {
     "data": {
      "text/plain": [
       "'Outoff'"
      ]
     },
     "execution_count": 12,
     "metadata": {},
     "output_type": "execute_result"
    }
   ],
   "source": [
    "d42D['subject']['DS']"
   ]
  },
  {
   "cell_type": "markdown",
   "id": "24351114-dc55-4e3e-94a3-eefbf9fbf879",
   "metadata": {},
   "source": [
    "### Adding key Valu Pair"
   ]
  },
  {
   "cell_type": "code",
   "execution_count": 14,
   "id": "ce78b911-ea76-4b2c-80f8-087cb40d26ce",
   "metadata": {},
   "outputs": [
    {
     "data": {
      "text/plain": [
       "{'name': 'Mayur', 'age': 27, 'gender': 'Male'}"
      ]
     },
     "execution_count": 14,
     "metadata": {},
     "output_type": "execute_result"
    }
   ],
   "source": [
    "dct = {'name': 'Mayur', \"age\": 27, 'gender': 'Male'}\n"
   ]
  },
  {
   "cell_type": "code",
   "execution_count": 15,
   "id": "2bdc8bb5-0c03-4566-b8ec-ae0a465601e9",
   "metadata": {},
   "outputs": [],
   "source": [
    "dct['clg']='pjlce'"
   ]
  },
  {
   "cell_type": "code",
   "execution_count": 16,
   "id": "2fd04c5d-fe08-4549-9d04-b640eed5b4ce",
   "metadata": {},
   "outputs": [
    {
     "data": {
      "text/plain": [
       "{'name': 'Mayur', 'age': 27, 'gender': 'Male', 'clg': 'pjlce'}"
      ]
     },
     "execution_count": 16,
     "metadata": {},
     "output_type": "execute_result"
    }
   ],
   "source": [
    "dct"
   ]
  },
  {
   "cell_type": "code",
   "execution_count": 17,
   "id": "08e18399-61e1-48aa-b881-2aefac02cabc",
   "metadata": {},
   "outputs": [],
   "source": [
    "dct['year']=2020"
   ]
  },
  {
   "cell_type": "code",
   "execution_count": 18,
   "id": "610b40e7-cb70-41e2-9e1b-d77ebf8affc1",
   "metadata": {},
   "outputs": [
    {
     "data": {
      "text/plain": [
       "{'name': 'Mayur', 'age': 27, 'gender': 'Male', 'clg': 'pjlce', 'year': 2020}"
      ]
     },
     "execution_count": 18,
     "metadata": {},
     "output_type": "execute_result"
    }
   ],
   "source": [
    "dct"
   ]
  },
  {
   "cell_type": "code",
   "execution_count": 19,
   "id": "f9bee925-aa58-4fc3-9a8a-15420f50b2f0",
   "metadata": {},
   "outputs": [
    {
     "data": {
      "text/plain": [
       "dict_items([('name', 'Mayur'), ('age', 27), ('gender', 'Male'), ('clg', 'pjlce'), ('year', 2020)])"
      ]
     },
     "execution_count": 19,
     "metadata": {},
     "output_type": "execute_result"
    }
   ],
   "source": [
    "dct.items()"
   ]
  },
  {
   "cell_type": "code",
   "execution_count": 22,
   "id": "7142c713-df36-4e76-a247-7838db8d6758",
   "metadata": {},
   "outputs": [
    {
     "data": {
      "text/plain": [
       "dict_keys(['name', 'age', 'gender', 'clg', 'year'])"
      ]
     },
     "execution_count": 22,
     "metadata": {},
     "output_type": "execute_result"
    }
   ],
   "source": [
    "dct.keys()"
   ]
  },
  {
   "cell_type": "markdown",
   "id": "1d429804-9ee0-4a3f-9b47-b09fab3f1b5e",
   "metadata": {},
   "source": [
    "### Removing key value pair\n",
    "#### del clear() pop(key needed) popitem(remove_last by def) "
   ]
  },
  {
   "cell_type": "code",
   "execution_count": 24,
   "id": "a9d067e1-8b23-4af7-aad7-502b016dbd2b",
   "metadata": {},
   "outputs": [
    {
     "data": {
      "text/plain": [
       "{'name': 'Mayur', 'age': 27, 'gender': 'Male', 'clg': 'pjlce', 'year': 2020}"
      ]
     },
     "execution_count": 24,
     "metadata": {},
     "output_type": "execute_result"
    }
   ],
   "source": [
    "dct"
   ]
  },
  {
   "cell_type": "code",
   "execution_count": 26,
   "id": "c0e2c7ee-6460-43af-a79d-d7a618535d85",
   "metadata": {},
   "outputs": [
    {
     "data": {
      "text/plain": [
       "2020"
      ]
     },
     "execution_count": 26,
     "metadata": {},
     "output_type": "execute_result"
    }
   ],
   "source": [
    "dct.pop(\"year\")"
   ]
  },
  {
   "cell_type": "code",
   "execution_count": 27,
   "id": "251501f8-3d9b-4df1-9b39-21577d1d34f7",
   "metadata": {},
   "outputs": [
    {
     "data": {
      "text/plain": [
       "{'name': 'Mayur', 'age': 27, 'gender': 'Male', 'clg': 'pjlce'}"
      ]
     },
     "execution_count": 27,
     "metadata": {},
     "output_type": "execute_result"
    }
   ],
   "source": [
    "dct"
   ]
  },
  {
   "cell_type": "code",
   "execution_count": 28,
   "id": "5ab3bca1-467f-4e21-bbc3-8fd014c240cb",
   "metadata": {},
   "outputs": [
    {
     "data": {
      "text/plain": [
       "('clg', 'pjlce')"
      ]
     },
     "execution_count": 28,
     "metadata": {},
     "output_type": "execute_result"
    }
   ],
   "source": [
    "dct.popitem()"
   ]
  },
  {
   "cell_type": "code",
   "execution_count": 29,
   "id": "93f2dd79-18b1-4db8-9656-cef19f55860d",
   "metadata": {},
   "outputs": [
    {
     "data": {
      "text/plain": [
       "{'name': 'Mayur', 'age': 27, 'gender': 'Male'}"
      ]
     },
     "execution_count": 29,
     "metadata": {},
     "output_type": "execute_result"
    }
   ],
   "source": [
    "dct"
   ]
  },
  {
   "cell_type": "code",
   "execution_count": 30,
   "id": "e9ac160f-1c75-448e-b698-3fdab37deb58",
   "metadata": {},
   "outputs": [],
   "source": [
    "del dct['age']"
   ]
  },
  {
   "cell_type": "code",
   "execution_count": 31,
   "id": "94b464c6-ab3f-4133-bdbc-60773e53d4fe",
   "metadata": {},
   "outputs": [
    {
     "data": {
      "text/plain": [
       "{'name': 'Mayur', 'gender': 'Male'}"
      ]
     },
     "execution_count": 31,
     "metadata": {},
     "output_type": "execute_result"
    }
   ],
   "source": [
    "dct"
   ]
  },
  {
   "cell_type": "code",
   "execution_count": 32,
   "id": "2540509f-d313-4055-9c92-b6bb35698249",
   "metadata": {},
   "outputs": [],
   "source": [
    "dct.clear()"
   ]
  },
  {
   "cell_type": "code",
   "execution_count": 33,
   "id": "2a31544e-da71-46b4-b30d-3d7a572d2954",
   "metadata": {},
   "outputs": [
    {
     "data": {
      "text/plain": [
       "{}"
      ]
     },
     "execution_count": 33,
     "metadata": {},
     "output_type": "execute_result"
    }
   ],
   "source": [
    "dct"
   ]
  },
  {
   "cell_type": "markdown",
   "id": "d51519dd-7d9a-4583-894e-d1cbd594415a",
   "metadata": {},
   "source": [
    "## Setdefault()"
   ]
  },
  {
   "cell_type": "markdown",
   "id": "f26c5225-e5fa-44bf-8214-af802872a402",
   "metadata": {},
   "source": [
    "this function is used to get the value by specifying the key in the funtion. if the specific key is not present in the dictionary\n",
    "it will create the key in the dictionary and assign the value as None. it will not throw error if key is not found"
   ]
  },
  {
   "cell_type": "code",
   "execution_count": 2,
   "id": "6c11354a-bf26-4f86-b68d-cc4a26cf5bf5",
   "metadata": {},
   "outputs": [
    {
     "data": {
      "text/plain": [
       "{'EMP_Name': 'Satish',\n",
       " 'salary': 100000,\n",
       " 'Designation': 'DataScientist',\n",
       " 'age': 55,\n",
       " 'EMP_ID': 10202}"
      ]
     },
     "execution_count": 2,
     "metadata": {},
     "output_type": "execute_result"
    }
   ],
   "source": [
    "empdata = {'EMP_Name': 'Satish','salary':100000, 'Designation':'DataScientist', 'age':55, 'EMP_ID':10202}\n",
    "empdata"
   ]
  },
  {
   "cell_type": "code",
   "execution_count": 3,
   "id": "b9d21a05-2706-4065-b12c-b9b7cb27f34b",
   "metadata": {},
   "outputs": [
    {
     "data": {
      "text/plain": [
       "100000"
      ]
     },
     "execution_count": 3,
     "metadata": {},
     "output_type": "execute_result"
    }
   ],
   "source": [
    "empdata.setdefault('salary')"
   ]
  },
  {
   "cell_type": "code",
   "execution_count": 4,
   "id": "3ae29cfe-8490-4590-906e-3a73f63f6de2",
   "metadata": {},
   "outputs": [],
   "source": [
    "empdata.setdefault('Company') # will create key company as it is not present in the dictionary and assign the None value"
   ]
  },
  {
   "cell_type": "code",
   "execution_count": 5,
   "id": "4f94f15d-f39f-4f9e-a060-ff35afd3f07d",
   "metadata": {},
   "outputs": [
    {
     "data": {
      "text/plain": [
       "{'EMP_Name': 'Satish',\n",
       " 'salary': 100000,\n",
       " 'Designation': 'DataScientist',\n",
       " 'age': 55,\n",
       " 'EMP_ID': 10202,\n",
       " 'Company': None}"
      ]
     },
     "execution_count": 5,
     "metadata": {},
     "output_type": "execute_result"
    }
   ],
   "source": [
    "empdata"
   ]
  },
  {
   "cell_type": "code",
   "execution_count": 6,
   "id": "e34ee5ac-160e-488b-a94e-d3ed27450eb2",
   "metadata": {},
   "outputs": [
    {
     "data": {
      "text/plain": [
       "10202"
      ]
     },
     "execution_count": 6,
     "metadata": {},
     "output_type": "execute_result"
    }
   ],
   "source": [
    "empdata.setdefault('EMP_ID', 11111) # if the key is already present we cannot change its value"
   ]
  },
  {
   "cell_type": "code",
   "execution_count": 7,
   "id": "d515e55e-6baf-4c9b-9aed-2bcaf2e2bce6",
   "metadata": {},
   "outputs": [
    {
     "data": {
      "text/plain": [
       "{'EMP_Name': 'Satish',\n",
       " 'salary': 100000,\n",
       " 'Designation': 'DataScientist',\n",
       " 'age': 55,\n",
       " 'EMP_ID': 10202,\n",
       " 'Company': None}"
      ]
     },
     "execution_count": 7,
     "metadata": {},
     "output_type": "execute_result"
    }
   ],
   "source": [
    "empdata"
   ]
  },
  {
   "cell_type": "code",
   "execution_count": 8,
   "id": "cb348f51-db23-4cb8-8bd6-98f156c9075e",
   "metadata": {},
   "outputs": [],
   "source": [
    "empdata.setdefault('Company', 'TCS')"
   ]
  },
  {
   "cell_type": "code",
   "execution_count": 9,
   "id": "95973a39-bcae-4b1a-9c19-0822c00129dd",
   "metadata": {},
   "outputs": [
    {
     "data": {
      "text/plain": [
       "{'EMP_Name': 'Satish',\n",
       " 'salary': 100000,\n",
       " 'Designation': 'DataScientist',\n",
       " 'age': 55,\n",
       " 'EMP_ID': 10202,\n",
       " 'Company': None}"
      ]
     },
     "execution_count": 9,
     "metadata": {},
     "output_type": "execute_result"
    }
   ],
   "source": [
    "empdata"
   ]
  },
  {
   "cell_type": "markdown",
   "id": "9a230283-7b70-4bf2-8625-66d59b6b7436",
   "metadata": {},
   "source": [
    "### Nested Dictonary"
   ]
  },
  {
   "cell_type": "code",
   "execution_count": 12,
   "id": "d93cf8c2-fdc4-435b-bc8a-a362bec63f4a",
   "metadata": {},
   "outputs": [
    {
     "data": {
      "text/plain": [
       "{'CG001': {'name': 'Ashish', 'age': 32},\n",
       " 'CG002': {'name': 'Jayesh', 'age': 23},\n",
       " 'CG003': {'name': 'Pankaj', 'age': 22}}"
      ]
     },
     "execution_count": 12,
     "metadata": {},
     "output_type": "execute_result"
    }
   ],
   "source": [
    "emp_records = {'CG001':{'name': 'Ashish', 'age':32},\n",
    "              'CG002':{'name': 'Jayesh', 'age':23},\n",
    "              'CG003':{'name': 'Pankaj', 'age':22}}\n",
    "emp_records"
   ]
  },
  {
   "cell_type": "code",
   "execution_count": 15,
   "id": "9c79f0fd-0c2b-4f6a-bc23-317e4852b6a4",
   "metadata": {},
   "outputs": [
    {
     "data": {
      "text/plain": [
       "'Pankaj'"
      ]
     },
     "execution_count": 15,
     "metadata": {},
     "output_type": "execute_result"
    }
   ],
   "source": [
    "emp_records['CG003']['name']"
   ]
  },
  {
   "cell_type": "code",
   "execution_count": 18,
   "id": "360329da-f23f-402c-8329-e2f2bf7dca11",
   "metadata": {},
   "outputs": [],
   "source": [
    "import pandas as pd"
   ]
  },
  {
   "cell_type": "code",
   "execution_count": 20,
   "id": "c55bbdd4-3334-4707-a598-6ac63f04bd60",
   "metadata": {},
   "outputs": [
    {
     "data": {
      "text/html": [
       "<div>\n",
       "<style scoped>\n",
       "    .dataframe tbody tr th:only-of-type {\n",
       "        vertical-align: middle;\n",
       "    }\n",
       "\n",
       "    .dataframe tbody tr th {\n",
       "        vertical-align: top;\n",
       "    }\n",
       "\n",
       "    .dataframe thead th {\n",
       "        text-align: right;\n",
       "    }\n",
       "</style>\n",
       "<table border=\"1\" class=\"dataframe\">\n",
       "  <thead>\n",
       "    <tr style=\"text-align: right;\">\n",
       "      <th></th>\n",
       "      <th>name</th>\n",
       "      <th>age</th>\n",
       "    </tr>\n",
       "  </thead>\n",
       "  <tbody>\n",
       "    <tr>\n",
       "      <th>CG001</th>\n",
       "      <td>Ashish</td>\n",
       "      <td>32</td>\n",
       "    </tr>\n",
       "    <tr>\n",
       "      <th>CG002</th>\n",
       "      <td>Jayesh</td>\n",
       "      <td>23</td>\n",
       "    </tr>\n",
       "    <tr>\n",
       "      <th>CG003</th>\n",
       "      <td>Pankaj</td>\n",
       "      <td>22</td>\n",
       "    </tr>\n",
       "  </tbody>\n",
       "</table>\n",
       "</div>"
      ],
      "text/plain": [
       "         name age\n",
       "CG001  Ashish  32\n",
       "CG002  Jayesh  23\n",
       "CG003  Pankaj  22"
      ]
     },
     "execution_count": 20,
     "metadata": {},
     "output_type": "execute_result"
    }
   ],
   "source": [
    "df = pd.DataFrame(emp_records)\n",
    "df.T"
   ]
  },
  {
   "cell_type": "code",
   "execution_count": 25,
   "id": "24fd56ba-e04f-47ce-b541-675b79af93d6",
   "metadata": {
    "scrolled": true
   },
   "outputs": [
    {
     "name": "stdout",
     "output_type": "stream",
     "text": [
      "{'Marathi': 90, 'Hindi': 91, 'English': 93, 'Maths': 95, 'Science': 99}\n"
     ]
    }
   ],
   "source": [
    "marks = [90,91,93,95,99]\n",
    "subject = ['Marathi', 'Hindi', 'English','Maths','Science']\n",
    "dct = {}\n",
    "for i, key in enumerate(subject):\n",
    "    for j in range(len(marks)):\n",
    "        if i==j:\n",
    "           dct[key] = marks[j]\n",
    "print(dct)"
   ]
  },
  {
   "cell_type": "markdown",
   "id": "6c7d2ae4-2d5e-4049-8512-398fe971f4fb",
   "metadata": {},
   "source": [
    "## Using update()"
   ]
  },
  {
   "cell_type": "code",
   "execution_count": 34,
   "id": "96f4988e-2571-4478-8c6a-845cc04ed44c",
   "metadata": {},
   "outputs": [
    {
     "name": "stdout",
     "output_type": "stream",
     "text": [
      "{'Marathi': 90, 'Hindi': 91, 'English': 93, 'Maths': 95, 'Science': 99}\n"
     ]
    }
   ],
   "source": [
    "dct1 ={}\n",
    "for i, key in enumerate(subject):\n",
    "     dct1.update({key:marks[i]})\n",
    "\n",
    "print(dct1)"
   ]
  },
  {
   "cell_type": "markdown",
   "id": "b875459d-281d-464d-8f71-b921b3bea6ef",
   "metadata": {},
   "source": [
    "## Using zip()"
   ]
  },
  {
   "cell_type": "code",
   "execution_count": 35,
   "id": "179d9a73-6422-4db2-ade0-af5087003636",
   "metadata": {},
   "outputs": [],
   "source": [
    "dct3 = dict(zip(subject, marks))"
   ]
  },
  {
   "cell_type": "code",
   "execution_count": 36,
   "id": "e8e9efa8-5452-4066-b76f-52b21d93ae87",
   "metadata": {},
   "outputs": [
    {
     "data": {
      "text/plain": [
       "{'Marathi': 90, 'Hindi': 91, 'English': 93, 'Maths': 95, 'Science': 99}"
      ]
     },
     "execution_count": 36,
     "metadata": {},
     "output_type": "execute_result"
    }
   ],
   "source": [
    "dct3"
   ]
  },
  {
   "cell_type": "code",
   "execution_count": 3,
   "id": "868f7997-f998-4784-93ae-b739fa0786ff",
   "metadata": {},
   "outputs": [
    {
     "name": "stdout",
     "output_type": "stream",
     "text": [
      "30\n"
     ]
    },
    {
     "data": {
      "text/plain": [
       "{'the': 2,\n",
       " 'quantities': 1,\n",
       " 'characters': 1,\n",
       " 'or': 7,\n",
       " 'symbols': 1,\n",
       " 'on': 3,\n",
       " 'which': 2,\n",
       " 'operations': 1,\n",
       " 'are': 1,\n",
       " 'performed': 1,\n",
       " 'by': 1,\n",
       " 'a': 19,\n",
       " 'computer': 1,\n",
       " 'may': 1,\n",
       " 'be': 1,\n",
       " 'stored': 1,\n",
       " 'and': 2,\n",
       " 'transmitted': 1,\n",
       " 'in': 2,\n",
       " 'form': 2,\n",
       " 'of': 1,\n",
       " 'electrical': 1,\n",
       " 'signals': 1,\n",
       " 'recorded': 1,\n",
       " 'magnetic': 1,\n",
       " 'optical': 1,\n",
       " 'mechanical9': 1,\n",
       " 'mechanical': 2,\n",
       " 'recording': 1,\n",
       " 'media': 1}"
      ]
     },
     "execution_count": 3,
     "metadata": {},
     "output_type": "execute_result"
    }
   ],
   "source": [
    "string = '''the quantities, characters, or symbols on which operations are performed by a computer, which may be stored and transmitted in the form \n",
    "of electrical signals and recorded on magnetic, optical, or mechanical9 mechanical recording media.'''\n",
    "\n",
    "count = {}\n",
    "for i in string.split():\n",
    "    if i.isalpha():\n",
    "        count[i]=string.count(f'{i}')\n",
    "    elif i.isalnum():\n",
    "        count[i]=string.count(f'{i}')\n",
    "    else:\n",
    "        i = i[:-1] # quantities, to remove the (,) after the string slicing is used \n",
    "        count[str(i)]=string.count(f'{i}')\n",
    "print(len(count))\n",
    "count"
   ]
  },
  {
   "cell_type": "code",
   "execution_count": 49,
   "id": "95bfaf36-8c7e-4c8a-beba-dcc10f4a79e4",
   "metadata": {},
   "outputs": [
    {
     "data": {
      "text/plain": [
       "Counter({'the': 2,\n",
       "         'or': 2,\n",
       "         'on': 2,\n",
       "         'which': 2,\n",
       "         'and': 2,\n",
       "         'quantities,': 1,\n",
       "         'characters,': 1,\n",
       "         'symbols': 1,\n",
       "         'operations': 1,\n",
       "         'are': 1,\n",
       "         'performed': 1,\n",
       "         'by': 1,\n",
       "         'a': 1,\n",
       "         'computer,': 1,\n",
       "         'may': 1,\n",
       "         'be': 1,\n",
       "         'stored': 1,\n",
       "         'transmitted': 1,\n",
       "         'in': 1,\n",
       "         'form': 1,\n",
       "         'of': 1,\n",
       "         'electrical': 1,\n",
       "         'signals': 1,\n",
       "         'recorded': 1,\n",
       "         'magnetic,': 1,\n",
       "         'optical,': 1,\n",
       "         'mechanical9': 1,\n",
       "         'mechanical': 1,\n",
       "         'recording': 1,\n",
       "         'media.': 1})"
      ]
     },
     "execution_count": 49,
     "metadata": {},
     "output_type": "execute_result"
    }
   ],
   "source": [
    "from collections import Counter \n",
    "\n",
    "Counter(string.split())"
   ]
  },
  {
   "cell_type": "markdown",
   "id": "3f458b1c-49fa-4b50-b8f4-5b141492c56c",
   "metadata": {},
   "source": [
    "### Sorting the dictonary by using keys"
   ]
  },
  {
   "cell_type": "code",
   "execution_count": 52,
   "id": "40e41cc4-1e82-4978-a867-13a3b1d9ca4c",
   "metadata": {},
   "outputs": [
    {
     "data": {
      "text/plain": [
       "['English', 'Hindi', 'Marathi', 'Maths', 'Science']"
      ]
     },
     "execution_count": 52,
     "metadata": {},
     "output_type": "execute_result"
    }
   ],
   "source": [
    "Sub = {'Marathi': 90, 'Hindi': 91, 'English': 93, 'Maths': 95, 'Science': 99}\n",
    "sort_dct = sorted(Sub)\n",
    "sort_dct"
   ]
  },
  {
   "cell_type": "code",
   "execution_count": 65,
   "id": "f0516d6e-9c0b-4f83-942d-94c8ab178435",
   "metadata": {},
   "outputs": [
    {
     "name": "stdout",
     "output_type": "stream",
     "text": [
      "{'English': 93, 'Hindi': 91, 'Marathi': 90, 'Maths': 95, 'Science': 99}\n"
     ]
    }
   ],
   "source": [
    "Sub = {'Marathi': 90, 'Hindi': 91, 'English': 93, 'Maths': 95, 'Science': 99}\n",
    "sort_dct = sorted(Sub)\n",
    "sort_dct1={}\n",
    "for key in sort_dct:\n",
    "    #sort_dct1.update({keys:Sub[keys]})\n",
    "     sort_dct1[key]=Sub[key]\n",
    "\n",
    "print(sort_dct1)"
   ]
  },
  {
   "cell_type": "code",
   "execution_count": 66,
   "id": "e4f8b1fb-ee67-43db-8e82-e14dfe1cf84f",
   "metadata": {},
   "outputs": [
    {
     "data": {
      "text/plain": [
       "{'English': 93, 'Hindi': 91, 'Marathi': 90, 'Maths': 95, 'Science': 99}"
      ]
     },
     "execution_count": 66,
     "metadata": {},
     "output_type": "execute_result"
    }
   ],
   "source": [
    "sorted_dict = dict(sorted(Sub.items()))\n",
    "sorted_dict"
   ]
  },
  {
   "cell_type": "code",
   "execution_count": 4,
   "id": "399b35fa-dac1-47e8-9ccc-a5d4a8f1413a",
   "metadata": {},
   "outputs": [
    {
     "name": "stdout",
     "output_type": "stream",
     "text": [
      "{83: 'Marathi', 97: 'Hindi', 98: 'English', 95: 'Maths', 99: 'Science'}\n",
      "{83: 'Marathi', 95: 'Maths', 97: 'Hindi', 98: 'English', 99: 'Science'}\n"
     ]
    }
   ],
   "source": [
    "Sub = {'Marathi': 83, 'Hindi': 97, 'English': 98, 'Maths': 95, 'Science': 99}\n",
    "temp_dct={}\n",
    "for key, value in Sub.items():\n",
    "    temp_dct[value] = key # change the keys to value and values to key\n",
    "print(temp_dct)\n",
    "\n",
    "final_dict = dict(sorted(temp_dct.items()))\n",
    "print(final_dict)"
   ]
  },
  {
   "cell_type": "code",
   "execution_count": 3,
   "id": "f0555f12-c958-4573-9dff-d4e23a47cc23",
   "metadata": {},
   "outputs": [
    {
     "data": {
      "text/plain": [
       "{'English': 86, 'Science': 90, 'Math': 90, 'Geo': 93, 'History': 95}"
      ]
     },
     "execution_count": 3,
     "metadata": {},
     "output_type": "execute_result"
    }
   ],
   "source": [
    "subject = {'Math': 90, 'Science': 90, 'Geo': 93, 'History': 95, 'English': 86}\n",
    "\n",
    "values = list(subject.values())\n",
    "keys  = list(subject.keys())\n",
    "for i in range(len(values)):\n",
    "    for j in range(i+1,len(values)):\n",
    "        if values[i]>values[j]:\n",
    "\n",
    "            values[i],values[j]=values[j],values[i]\n",
    "            keys[i],keys[j]=keys[j],keys[i]\n",
    "            \n",
    "dict(zip(keys,values))"
   ]
  },
  {
   "cell_type": "code",
   "execution_count": 12,
   "id": "e351ef54-defd-4c73-a252-413a0ae02319",
   "metadata": {},
   "outputs": [
    {
     "name": "stdout",
     "output_type": "stream",
     "text": [
      "[1, 2, 3, 4, [5, 6, 7], 9]\n",
      "[1, 2, 3, 4, [5, 6, 7], 9]\n",
      "[1, 100, 2, 3, 4, [5, 6, 7], 9]\n",
      "[1, 100, 2, 3, 4, [99, 6, 7], 9]\n",
      "1929377305984\n",
      "1929377305984\n"
     ]
    }
   ],
   "source": [
    "l1=[1,2,3,4,[5,6,7],9]\n",
    "l2 = l1\n",
    "print(l1)\n",
    "print(l2)\n",
    "l1.insert(1,100)\n",
    "print(l1)\n",
    "l1[5][0]=99\n",
    "print(l2)\n",
    "print(id(l1))\n",
    "print(id(l2))"
   ]
  },
  {
   "cell_type": "code",
   "execution_count": 4,
   "id": "b7362928-3464-4e1f-9614-51f57f6ec328",
   "metadata": {},
   "outputs": [
    {
     "name": "stdout",
     "output_type": "stream",
     "text": [
      "{86: 'English', 90: 'Science', 93: 'Geo', 95: 'History'}\n"
     ]
    }
   ],
   "source": [
    "subject = {'Math': 90, 'Science': 90, 'Geo': 93, 'History': 95, 'English': 86}\n",
    "temp_dct = {}\n",
    "output = {}\n",
    "for keys, value in subject.items():\n",
    "    temp_dct[value]=keys\n",
    "\n",
    "output  = dict(sorted(temp_dct.items()))\n",
    "print(output)\n",
    "    "
   ]
  },
  {
   "cell_type": "markdown",
   "id": "0f74f574-4064-457a-8c62-0a0ff2d4635c",
   "metadata": {},
   "source": [
    "### formkey()"
   ]
  },
  {
   "cell_type": "code",
   "execution_count": 3,
   "id": "551c2f0a-ba97-49ce-91d0-9d52f7240a8f",
   "metadata": {},
   "outputs": [
    {
     "data": {
      "text/plain": [
       "{'a': None, 'e': None, 'i': None, 'o': None, 'u': None}"
      ]
     },
     "execution_count": 3,
     "metadata": {},
     "output_type": "execute_result"
    }
   ],
   "source": [
    "dict.fromkeys(['a','e','i','o','u'])"
   ]
  },
  {
   "cell_type": "code",
   "execution_count": null,
   "id": "7d276734-c1f2-442e-acff-575da0bf672c",
   "metadata": {},
   "outputs": [],
   "source": []
  }
 ],
 "metadata": {
  "kernelspec": {
   "display_name": "Python 3 (ipykernel)",
   "language": "python",
   "name": "python3"
  },
  "language_info": {
   "codemirror_mode": {
    "name": "ipython",
    "version": 3
   },
   "file_extension": ".py",
   "mimetype": "text/x-python",
   "name": "python",
   "nbconvert_exporter": "python",
   "pygments_lexer": "ipython3",
   "version": "3.12.5"
  }
 },
 "nbformat": 4,
 "nbformat_minor": 5
}
