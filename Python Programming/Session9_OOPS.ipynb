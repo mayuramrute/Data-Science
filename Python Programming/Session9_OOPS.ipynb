{
 "cells": [
  {
   "cell_type": "markdown",
   "id": "1d0180de-d02f-4bc9-875d-9eaff450ef69",
   "metadata": {},
   "source": [
    "# Inheritance\n",
    "## Class Relationship\n",
    "### Aggregation (Has-a relationship)\n",
    "### Inheritance (is-a relationship)"
   ]
  },
  {
   "cell_type": "code",
   "execution_count": null,
   "id": "3a281f12-fc18-4ec7-9736-456a89f25c4d",
   "metadata": {},
   "outputs": [],
   "source": [
    "# Aggregation"
   ]
  },
  {
   "cell_type": "code",
   "execution_count": 37,
   "id": "c0395a0a-bfc9-4f79-acb9-9032df957406",
   "metadata": {},
   "outputs": [],
   "source": [
    "class Customer:\n",
    "    def __init__(self, name, age, address):\n",
    "        self.name = name\n",
    "        self.age = age\n",
    "        self.address = address  # here we pass the object of Address class as a instance variable to the customer class\n",
    "\n",
    "    def print_address(self):\n",
    "        #print(self.address.__city, self.address.pin,self.address.state)  # with this we cannot use the private members of the class \n",
    "        print(self.address.get_city(), self.address.pin,self.address.state)  # with getter we can access private members\n",
    "        \n",
    "class Address:\n",
    "    def __init__(self,city,pin,state):\n",
    "        self.__city = city              # private member\n",
    "        self.pin = pin\n",
    "        self.state = state\n",
    "        \n",
    "    def get_city(self):\n",
    "        return self.__city\n",
    "    \n",
    "    def set_address(self, city, pin, state):\n",
    "        self.__city = city\n",
    "        self.pin = pin\n",
    "        self.state = state\n",
    "\n",
    "    def get_address(self):\n",
    "        print(self.__city, self.pin, self.state)\n",
    "        \n",
    "address = Address(\"Tumsar\",441912,'Maharashtra')\n",
    "cust = Customer('Mayur',27,address)"
   ]
  },
  {
   "cell_type": "code",
   "execution_count": 38,
   "id": "324b8e7b-0603-40cb-830d-b241b70b8d1a",
   "metadata": {},
   "outputs": [
    {
     "name": "stdout",
     "output_type": "stream",
     "text": [
      "Tumsar 441912 Maharashtra\n"
     ]
    }
   ],
   "source": [
    "cust.print_address()"
   ]
  },
  {
   "cell_type": "code",
   "execution_count": 39,
   "id": "8c46a871-47b3-4b8c-b692-8fe36a59e6be",
   "metadata": {},
   "outputs": [],
   "source": [
    "cust.address.set_address('Pune',100010, 'xyz')"
   ]
  },
  {
   "cell_type": "code",
   "execution_count": 40,
   "id": "8f338ec5-a105-479e-bcb9-468144f4152d",
   "metadata": {},
   "outputs": [
    {
     "name": "stdout",
     "output_type": "stream",
     "text": [
      "Pune 100010 xyz\n"
     ]
    }
   ],
   "source": [
    "cust.address.get_address()"
   ]
  },
  {
   "cell_type": "code",
   "execution_count": 42,
   "id": "64185f54-296b-43cf-8fc5-c35148fba3f3",
   "metadata": {},
   "outputs": [
    {
     "name": "stdout",
     "output_type": "stream",
     "text": [
      "Inside SmartPhone.\n"
     ]
    }
   ],
   "source": [
    "#Inheritance\n",
    "\n",
    "class Phone:\n",
    "    def __init__(self, price ,brand ,camera):\n",
    "        print(\"Inside Phone\")\n",
    "        self.price = price\n",
    "        self.brand = brand\n",
    "        self.camera = camera\n",
    "\n",
    "\n",
    "class SmartPhone:                 \n",
    "    def __init__(self, os, ram):        # if child class dont have constructor if will fetch the parent class constructor else use its own constructor\n",
    "        print(\"Inside SmartPhone.\")\n",
    "        self.os = os\n",
    "        self.ram = ram\n",
    "\n",
    "smrtphn = SmartPhone('Android', 2)"
   ]
  },
  {
   "cell_type": "markdown",
   "id": "f42543ce-9479-404a-a4f7-067940a8f073",
   "metadata": {},
   "source": [
    "# super()"
   ]
  },
  {
   "cell_type": "code",
   "execution_count": 43,
   "id": "961966cf-8ef2-448f-b594-332861f26a91",
   "metadata": {},
   "outputs": [],
   "source": [
    "# to call the parent call methods or varialbles from the child class we use super method"
   ]
  },
  {
   "cell_type": "code",
   "execution_count": 51,
   "id": "9168ebca-abc8-409d-afe8-7a9681c1c8d7",
   "metadata": {},
   "outputs": [
    {
     "name": "stdout",
     "output_type": "stream",
     "text": [
      "Inside phone constructor\n",
      "Buying a smartphone\n",
      "Buying a phone\n"
     ]
    }
   ],
   "source": [
    "class Phone:\n",
    "    def __init__(self, price, brand, camera):\n",
    "        print (\"Inside phone constructor\")\n",
    "        self.__price = price\n",
    "        self.brand = brand\n",
    "        self.camera = camera\n",
    "\n",
    "    def buy(self):\n",
    "        print (\"Buying a phone\")\n",
    "\n",
    "class SmartPhone(Phone):\n",
    "    def buy(self):\n",
    "        print (\"Buying a smartphone\")\n",
    "        # syntax to call parent ka buy method  using super function\n",
    "        super().buy()\n",
    "\n",
    "s=SmartPhone(20000, \"Apple\", 13)\n",
    "s.buy()"
   ]
  },
  {
   "cell_type": "code",
   "execution_count": null,
   "id": "443bc3f6-40f4-4d28-9e65-60bcc67edc7c",
   "metadata": {},
   "outputs": [],
   "source": [
    "# calling parent class constructor"
   ]
  },
  {
   "cell_type": "code",
   "execution_count": 2,
   "id": "196dafa5-6cc5-49d5-b1fd-431b87e9cd7a",
   "metadata": {},
   "outputs": [],
   "source": [
    "class Phone:\n",
    "    def __init__(self, price,camera, brand):\n",
    "        self.price = price\n",
    "        self.camera = camera\n",
    "        self.brand = brand\n",
    "\n",
    "class SmartPhone(Phone):\n",
    "    def __init__(self, price,camera,brand, os, ram):\n",
    "        super().__init__(price,camera,brand) \n",
    "        self.os = os\n",
    "        self.ram = ram\n",
    "        print(\"Inside the smartphone\")\n",
    "\n"
   ]
  },
  {
   "cell_type": "code",
   "execution_count": null,
   "id": "858eb7b5-d648-4a1c-a838-a109be62c429",
   "metadata": {},
   "outputs": [],
   "source": []
  }
 ],
 "metadata": {
  "kernelspec": {
   "display_name": "Python 3 (ipykernel)",
   "language": "python",
   "name": "python3"
  },
  "language_info": {
   "codemirror_mode": {
    "name": "ipython",
    "version": 3
   },
   "file_extension": ".py",
   "mimetype": "text/x-python",
   "name": "python",
   "nbconvert_exporter": "python",
   "pygments_lexer": "ipython3",
   "version": "3.12.5"
  }
 },
 "nbformat": 4,
 "nbformat_minor": 5
}
