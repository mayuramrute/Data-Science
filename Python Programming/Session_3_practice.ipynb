{
 "cells": [
  {
   "cell_type": "code",
   "execution_count": 1,
   "id": "a3f341fb-f1da-4b61-b341-5b8d73dd9c49",
   "metadata": {},
   "outputs": [],
   "source": [
    "# check if string is pallindrom or not"
   ]
  },
  {
   "cell_type": "code",
   "execution_count": 10,
   "id": "a8cb8926-cc83-4ed2-b069-ebe5d8ea4579",
   "metadata": {},
   "outputs": [
    {
     "name": "stdout",
     "output_type": "stream",
     "text": [
      "Pallindrom\n"
     ]
    }
   ],
   "source": [
    "string = 'maam'\n",
    "for i in range(len(string)//2):\n",
    "    if string[i]!=string[len(string)-i-1]:\n",
    "        print('Not Pallindrom')\n",
    "        break\n",
    "else:\n",
    "    print('Pallindrom')"
   ]
  },
  {
   "cell_type": "code",
   "execution_count": 13,
   "id": "babe366e-ac36-46d4-a5fe-00c48cf91eb3",
   "metadata": {},
   "outputs": [
    {
     "name": "stdout",
     "output_type": "stream",
     "text": [
      "5\n"
     ]
    }
   ],
   "source": [
    "# count the number of words in th egiven string\n",
    "str1 = 'My name is Iron Man'\n",
    "def count_words(str1):\n",
    "    print(len(str1.split()))  # funtion convert the string to list and count the number of elements in the list\n",
    "\n",
    "count_words(str1)"
   ]
  },
  {
   "cell_type": "code",
   "execution_count": 24,
   "id": "50b0e4ac-6374-4030-b5e2-41b250cd7b3b",
   "metadata": {},
   "outputs": [
    {
     "name": "stdout",
     "output_type": "stream",
     "text": [
      "['The', 'World', 'Is', 'So', 'Beutiful']\n"
     ]
    }
   ],
   "source": [
    "string2 = \" the world is so beutiful\"\n",
    "lst = string2.split()\n",
    "result=[]\n",
    "for i in lst:\n",
    "    result.append(i[0].upper()+i[1:].lower())\n",
    "print(result)"
   ]
  },
  {
   "cell_type": "code",
   "execution_count": 34,
   "id": "bdbb8ac8-b5c2-4989-8aba-83d7e782c7f8",
   "metadata": {},
   "outputs": [
    {
     "name": "stdin",
     "output_type": "stream",
     "text": [
      "Enter the nunber of rows:  4\n"
     ]
    },
    {
     "name": "stdout",
     "output_type": "stream",
     "text": [
      "\n",
      "* \n",
      "* * \n",
      "* * * \n",
      "* * * * \n",
      "* * * \n",
      "* * \n",
      "* \n"
     ]
    }
   ],
   "source": [
    "n = int(input('Enter the nunber of rows: '))\n",
    "for row in range(2*n):\n",
    "    if row<n:\n",
    "        T_col = row\n",
    "    else:\n",
    "        T_col = 2*n-row\n",
    "    for i in range(T_col):\n",
    "        print('* ', end='')\n",
    "    print()\n",
    "    "
   ]
  },
  {
   "cell_type": "code",
   "execution_count": 27,
   "id": "24ffb55e-97fc-4f36-a34a-ce9b1834c6c0",
   "metadata": {},
   "outputs": [
    {
     "name": "stdout",
     "output_type": "stream",
     "text": [
      "     \n",
      "    * \n",
      "   * * \n",
      "  * * * \n",
      " * * * * \n",
      "* * * * * \n",
      " * * * * \n",
      "  * * * \n",
      "   * * \n",
      "    * \n"
     ]
    }
   ],
   "source": [
    "for row in range(2*n):\n",
    "    if row<n:\n",
    "        T_col = row\n",
    "    else:\n",
    "        T_col = 2*n-row\n",
    "    numSpaces = n-T_col\n",
    "    for s in range(numSpaces):\n",
    "        print(' ',end='')\n",
    "    for col in range(T_col):\n",
    "        print('* ',end='')\n",
    "    print()"
   ]
  },
  {
   "cell_type": "code",
   "execution_count": 39,
   "id": "54a6a63d-3398-4f27-9dd8-6053a3126c6d",
   "metadata": {},
   "outputs": [
    {
     "name": "stdout",
     "output_type": "stream",
     "text": [
      "Addition:  24690\n"
     ]
    }
   ],
   "source": [
    "addition = 0\n",
    "current_term = 0\n",
    "for i in range(n+1):\n",
    "    current_term = current_term*10+2\n",
    "    addition += current_term\n",
    "print('Addition: ', addition)"
   ]
  },
  {
   "cell_type": "code",
   "execution_count": 48,
   "id": "cc3a56cc-590f-4498-8fba-00e12b72b25f",
   "metadata": {},
   "outputs": [
    {
     "name": "stdout",
     "output_type": "stream",
     "text": [
      "<itertools.permutations object at 0x0000019CED84D7B0>\n",
      "1234 1243 1324 1342 1423 1432 2134 2143 2314 2341 2413 2431 3124 3142 3214 3241 3412 3421 4123 4132 4213 4231 4312 4321 "
     ]
    }
   ],
   "source": [
    "# Permutations\n",
    "numbers = [1,2,3,4]\n",
    "import itertools\n",
    "permutations = itertools.permutations(numbers)\n",
    "print(permutations)\n",
    "for i in permutations:\n",
    "    print(''.join(map(str, i)), end=' ')"
   ]
  },
  {
   "cell_type": "code",
   "execution_count": 51,
   "id": "0f10ba2b-d940-4023-a35a-f08f3d58aecb",
   "metadata": {},
   "outputs": [
    {
     "name": "stdout",
     "output_type": "stream",
     "text": [
      "LCM of 24 and 30 is 6 AND HCF is 120\n"
     ]
    }
   ],
   "source": [
    "# LCM and HCF\n",
    "num1 = 24\n",
    "num2 = 30\n",
    "a,b=num1,num2\n",
    "while b != 0:\n",
    "    a, b = b, a%b\n",
    "\n",
    "lcm = a\n",
    "\n",
    "HCF = (num1*num2)//lcm\n",
    "\n",
    "print(f'LCM of {num1} and {num2} is {lcm} AND HCF is {HCF}')"
   ]
  },
  {
   "cell_type": "code",
   "execution_count": 54,
   "id": "b7a620ce-75c7-4b2c-b931-12d4c70618e6",
   "metadata": {},
   "outputs": [
    {
     "name": "stdin",
     "output_type": "stream",
     "text": [
      "Enter the String:  dfgshd hdkfjks\n"
     ]
    },
    {
     "name": "stdout",
     "output_type": "stream",
     "text": [
      "DH\n"
     ]
    }
   ],
   "source": [
    "in_string = input('Enter the String: ')\n",
    "short_form=''\n",
    "for i in in_string.split():\n",
    "    short_form += i[0].upper()\n",
    "\n",
    "print(short_form)"
   ]
  },
  {
   "cell_type": "code",
   "execution_count": 55,
   "id": "d2566ce7-71cd-4378-b0f4-fa45adef1f00",
   "metadata": {},
   "outputs": [],
   "source": [
    "# remove duplicates"
   ]
  },
  {
   "cell_type": "code",
   "execution_count": 56,
   "id": "7f02df38-ab25-4831-bcbb-fbbacf76573a",
   "metadata": {},
   "outputs": [
    {
     "name": "stdout",
     "output_type": "stream",
     "text": [
      "Mayur Amte\n"
     ]
    }
   ],
   "source": [
    "string = 'Mayur Amrute'\n",
    "result = ''\n",
    "for i in string:\n",
    "    if i not in result:\n",
    "        result += i\n",
    "\n",
    "print(result)"
   ]
  },
  {
   "cell_type": "code",
   "execution_count": null,
   "id": "51b6a3b2-0c88-48ef-8f7e-9e574c2b66b6",
   "metadata": {},
   "outputs": [],
   "source": [
    " "
   ]
  }
 ],
 "metadata": {
  "kernelspec": {
   "display_name": "Python 3 (ipykernel)",
   "language": "python",
   "name": "python3"
  },
  "language_info": {
   "codemirror_mode": {
    "name": "ipython",
    "version": 3
   },
   "file_extension": ".py",
   "mimetype": "text/x-python",
   "name": "python",
   "nbconvert_exporter": "python",
   "pygments_lexer": "ipython3",
   "version": "3.12.5"
  }
 },
 "nbformat": 4,
 "nbformat_minor": 5
}
