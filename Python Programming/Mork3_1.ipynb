{
 "cells": [
  {
   "cell_type": "markdown",
   "id": "40678dc2-2ea7-47d8-a3ed-c6d470b42f9e",
   "metadata": {},
   "source": [
    "# pattern"
   ]
  },
  {
   "cell_type": "code",
   "execution_count": 8,
   "id": "704f55d2-3bdf-4258-a24f-a659707f0b1a",
   "metadata": {},
   "outputs": [
    {
     "name": "stdout",
     "output_type": "stream",
     "text": [
      "1\n",
      "121\n",
      "12321\n",
      "1234321\n",
      "123454321\n"
     ]
    }
   ],
   "source": [
    "for i in range(1,6):\n",
    "    for j in range(1,i+1):  # here i is incresing \n",
    "        print(j, end='')\n",
    "\n",
    "    for k in range(i-1,0,-1): # i is decreasing\n",
    "        print(k,end='')\n",
    "\n",
    "    print()\n",
    "    "
   ]
  },
  {
   "cell_type": "code",
   "execution_count": 10,
   "id": "c161ef91-67e8-49eb-9b27-b84cd9d508e1",
   "metadata": {},
   "outputs": [
    {
     "name": "stdout",
     "output_type": "stream",
     "text": [
      "[5, 6, 7, 8, 10, 13]\n"
     ]
    }
   ],
   "source": [
    "test_list = [(5, 6), (5, 7), (5, 8), (6, 10), (7, 13)]\n",
    "result = []\n",
    "temp = []\n",
    "for item in test_list:\n",
    "    if item[0] not in temp:\n",
    "        temp.extend(item)\n",
    "    else:\n",
    "        temp.append(item[1])\n",
    "\n",
    "print(temp)"
   ]
  },
  {
   "cell_type": "code",
   "execution_count": 16,
   "id": "cedd351a-e405-4b00-bc09-b61f0c115ad1",
   "metadata": {},
   "outputs": [
    {
     "data": {
      "text/plain": [
       "[(5, 6, 7, 8), (6, 10), (7, 13)]"
      ]
     },
     "execution_count": 16,
     "metadata": {},
     "output_type": "execute_result"
    }
   ],
   "source": [
    "def foo(test_list):\n",
    "    result=[]\n",
    "    temp=[]\n",
    "    for current in test_list:\n",
    "        if not temp:\n",
    "            temp.extend(current)\n",
    "        elif temp[0]==current[0]:\n",
    "            temp.append(current[1])\n",
    "        else:\n",
    "            result.append(tuple(temp))\n",
    "            temp = list(current)\n",
    "    if temp:\n",
    "        result.append(tuple(temp))\n",
    "    return result\n",
    "\n",
    "foo(test_list)"
   ]
  },
  {
   "cell_type": "raw",
   "id": "439f2dd9-7585-48c9-9a04-297b7f9214fa",
   "metadata": {},
   "source": [
    "(1, 5, 7, 8, 10) -->(5, 40, 91, 136, 80)"
   ]
  },
  {
   "cell_type": "code",
   "execution_count": 19,
   "id": "6984b3e1-802d-4b3c-9204-7f3d73d70d48",
   "metadata": {},
   "outputs": [
    {
     "name": "stdout",
     "output_type": "stream",
     "text": [
      "[5, 40, 91, 136, 80]\n"
     ]
    }
   ],
   "source": [
    "lst = (1, 5, 7, 8, 10)\n",
    "result=[]\n",
    "result.append(lst[0]*lst[1])\n",
    "\n",
    "for i in range(1,len(lst)-1):  \n",
    "    result.append(lst[i-1]*lst[i]+lst[i]*lst[i+1])\n",
    "\n",
    "result.append(lst[-1]*lst[-2])\n",
    "\n",
    "print(result)"
   ]
  },
  {
   "cell_type": "code",
   "execution_count": 20,
   "id": "7332dff4-fc38-4449-86f5-49a6b767a712",
   "metadata": {},
   "outputs": [
    {
     "name": "stdout",
     "output_type": "stream",
     "text": [
      "tuple-1 list-2 set-2\n"
     ]
    }
   ],
   "source": [
    "list1 = [{'hi', 'bye'},{'Geeks', 'forGeeks'},('a', 'b'),['hi', 'bye'],['a', 'b']]\n",
    "c1=c2=c3=0\n",
    "for i in list1:\n",
    "    if type(i)==tuple:\n",
    "        c1 += 1\n",
    "    elif type(i)==list:\n",
    "        c2 += 1\n",
    "    else:\n",
    "        c3 += 1\n",
    "\n",
    "print(f'tuple-{c1} list-{c2} set-{c3}')"
   ]
  },
  {
   "cell_type": "code",
   "execution_count": 21,
   "id": "53fda31f-4b39-4eab-a7e4-6e38a8134e74",
   "metadata": {},
   "outputs": [],
   "source": [
    "# find common elements using set"
   ]
  },
  {
   "cell_type": "code",
   "execution_count": 24,
   "id": "b8d73f43-2098-4973-97bd-4eebe3445320",
   "metadata": {},
   "outputs": [
    {
     "name": "stdout",
     "output_type": "stream",
     "text": [
      "[80, 20]\n"
     ]
    }
   ],
   "source": [
    "ar1 = [1, 5, 10, 20, 40, 80]\n",
    "ar2 = [6, 7, 20, 80, 100]\n",
    "ar3 = [3, 4, 15, 20, 30, 70, 80, 120]\n",
    "s1 = set(ar1)\n",
    "s2 = set(ar2)\n",
    "s3 = set(ar3)\n",
    "print(list(s1&s2&s3))  # using intersetion operation"
   ]
  },
  {
   "cell_type": "code",
   "execution_count": 27,
   "id": "d354b2bd-b28b-417f-812f-62166770b54f",
   "metadata": {},
   "outputs": [
    {
     "data": {
      "text/plain": [
       "{20, 80}"
      ]
     },
     "execution_count": 27,
     "metadata": {},
     "output_type": "execute_result"
    }
   ],
   "source": [
    "s1.intersection(s2,s3)"
   ]
  },
  {
   "cell_type": "code",
   "execution_count": 28,
   "id": "887244ab-1e7a-4a07-8675-e6a2fd7e05f9",
   "metadata": {},
   "outputs": [],
   "source": [
    "# count number of vowels"
   ]
  },
  {
   "cell_type": "code",
   "execution_count": 30,
   "id": "3b39badc-c478-447e-8642-d593921369e7",
   "metadata": {},
   "outputs": [
    {
     "name": "stdout",
     "output_type": "stream",
     "text": [
      "6\n"
     ]
    }
   ],
   "source": [
    "Str1 = \"hands-on data science mentorship progrAm with live classes at affordable fee only on CampusX\"\n",
    "vowel = {'a','e','i','o','u','A','E','I','O','U'}\n",
    "unique = set()\n",
    "count = 0\n",
    "\n",
    "for i in Str1:\n",
    "    if i in vowel:\n",
    "        unique.add(i)\n",
    "print(len(unique))"
   ]
  },
  {
   "cell_type": "code",
   "execution_count": 31,
   "id": "7ea358e7-4143-4bcf-9c72-8eff7fd8ebeb",
   "metadata": {},
   "outputs": [],
   "source": [
    "# check for binary string \n",
    "### string is binary if it contains only two types of digits"
   ]
  },
  {
   "cell_type": "code",
   "execution_count": 35,
   "id": "4ebcf71d-0c55-4568-b79d-bf1a4916db27",
   "metadata": {},
   "outputs": [
    {
     "name": "stdin",
     "output_type": "stream",
     "text": [
      "Enter string:  121212121212\n"
     ]
    },
    {
     "name": "stdout",
     "output_type": "stream",
     "text": [
      "Yes Binary\n"
     ]
    }
   ],
   "source": [
    "string = input('Enter string: ')\n",
    "s = set()\n",
    "if string.isnumeric():\n",
    "    for char in string:\n",
    "        s.add(char)\n",
    "    if len(s)==2:\n",
    "        print('Yes Binary')\n",
    "    else:\n",
    "        print('Not Binary')\n",
    "else:\n",
    "    print('sring contains characters')\n"
   ]
  },
  {
   "cell_type": "code",
   "execution_count": 37,
   "id": "5f0f31be-cfbf-4550-bea1-c217bd0a06c4",
   "metadata": {},
   "outputs": [
    {
     "data": {
      "text/plain": [
       "[9, 10, 5, 4, 9]"
      ]
     },
     "execution_count": 37,
     "metadata": {},
     "output_type": "execute_result"
    }
   ],
   "source": [
    "# Intersection usung list comprehension\n",
    "lst1 = [15, 9, 10, 56, 23, 78, 5, 4, 9]\n",
    "lst2 = [9, 4, 5, 36, 47, 26, 10, 45, 87]\n",
    "[i for i in lst1 if i in lst2]"
   ]
  },
  {
   "cell_type": "code",
   "execution_count": 38,
   "id": "ddf6717e-0b9f-42c5-bba0-be2990ed2b03",
   "metadata": {},
   "outputs": [],
   "source": [
    "# Key with maximun unique values"
   ]
  },
  {
   "cell_type": "code",
   "execution_count": 40,
   "id": "360f8dc2-841b-466c-9336-72496459a29e",
   "metadata": {},
   "outputs": [
    {
     "name": "stdout",
     "output_type": "stream",
     "text": [
      "CampusX\n"
     ]
    }
   ],
   "source": [
    "test_dict = {\"CampusX\" : [5, 7, 9, 4, 0], \"is\" : [6, 7, 4, 3, 3], \"Best\" : [9, 9, 6, 5, 5]}\n",
    "max_count=0\n",
    "max_key = None\n",
    "for key, values in test_dict.items():\n",
    "    if max_count<len(set(values)):\n",
    "        max_count=len(set(values))\n",
    "        max_key=key\n",
    "\n",
    "print(max_key)"
   ]
  },
  {
   "cell_type": "code",
   "execution_count": null,
   "id": "e14f3c90-9101-4419-b584-841d4db7556a",
   "metadata": {},
   "outputs": [],
   "source": [
    "# Replace words from Dictionary. Given String, replace it’s words from lookup dictionary."
   ]
  },
  {
   "cell_type": "code",
   "execution_count": 48,
   "id": "9c4b5458-2783-4bed-97b7-9c643f213ee4",
   "metadata": {},
   "outputs": [
    {
     "data": {
      "text/plain": [
       "'CampusX is the best channel for Data-Science students.'"
      ]
     },
     "execution_count": 48,
     "metadata": {},
     "output_type": "execute_result"
    }
   ],
   "source": [
    "test_str = 'CampusX best for DS students.'\n",
    "repl_dict = {\"best\": \"is the best channel\", \"DS\": \"Data-Science\"}\n",
    "\n",
    "for key, value in repl_dict.items():\n",
    "    test_str=test_str.replace(key, value)  #here the key that is best from dict snd in string is get replace d with the value\n",
    "\n",
    "test_str"
   ]
  },
  {
   "cell_type": "raw",
   "id": "bf602540-7bbb-4f39-b706-c3e31effd994",
   "metadata": {},
   "source": [
    "[{'name': 'DataScience', 'id': 3}, {'name': 'is', 'id': 8}]"
   ]
  },
  {
   "cell_type": "code",
   "execution_count": 50,
   "id": "2a7380bc-4884-41c3-afe7-12d09bcb8027",
   "metadata": {},
   "outputs": [
    {
     "ename": "TypeError",
     "evalue": "list indices must be integers or slices, not tuple",
     "output_type": "error",
     "traceback": [
      "\u001b[1;31m---------------------------------------------------------------------------\u001b[0m",
      "\u001b[1;31mTypeError\u001b[0m                                 Traceback (most recent call last)",
      "Cell \u001b[1;32mIn[50], line 6\u001b[0m\n\u001b[0;32m      4\u001b[0m \u001b[38;5;28;01mfor\u001b[39;00m key \u001b[38;5;129;01min\u001b[39;00m key_list:\n\u001b[0;32m      5\u001b[0m     \u001b[38;5;28;01mfor\u001b[39;00m value \u001b[38;5;129;01min\u001b[39;00m \u001b[38;5;28mrange\u001b[39m(\u001b[38;5;28mlen\u001b[39m(test_list)):\n\u001b[1;32m----> 6\u001b[0m         dct[key]\u001b[38;5;241m=\u001b[39m\u001b[43mtest_list\u001b[49m\u001b[43m[\u001b[49m\u001b[43m:\u001b[49m\u001b[43m,\u001b[49m\u001b[38;5;241;43m2\u001b[39;49m\u001b[43m]\u001b[49m\n\u001b[0;32m      8\u001b[0m \u001b[38;5;28mprint\u001b[39m(dct)\n",
      "\u001b[1;31mTypeError\u001b[0m: list indices must be integers or slices, not tuple"
     ]
    }
   ],
   "source": [
    "test_list = [\"DataScience\", 3, \"is\", 8]\n",
    "key_list = [\"name\", \"id\"]\n",
    "dct={}\n",
    "for key in key_list:\n",
    "    for value in range(len(test_list)):\n",
    "        dct[key]=test_list[:,2]\n",
    "\n",
    "print(dct)\n",
    "        "
   ]
  },
  {
   "cell_type": "code",
   "execution_count": 51,
   "id": "6a20704c-86b8-4fd9-aeb3-524a990ae086",
   "metadata": {},
   "outputs": [
    {
     "name": "stdout",
     "output_type": "stream",
     "text": [
      "[{'name': 'DataScience', 'id': 3}, {'name': 'is', 'id': 8}]\n"
     ]
    }
   ],
   "source": [
    "test_list = [\"DataScience\", 3, \"is\", 8]\n",
    "key_list = [\"name\", \"id\"]\n",
    "dct = []\n",
    "\n",
    "for i in range(0, len(test_list), 2):  # Step through pairs of values\n",
    "    pair = {key_list[0]: test_list[i], key_list[1]: test_list[i + 1]}\n",
    "    dct.append(pair)\n",
    "\n",
    "print(dct)"
   ]
  },
  {
   "cell_type": "code",
   "execution_count": 56,
   "id": "a91c8a3c-2524-4d86-8d68-3e652e3f706f",
   "metadata": {},
   "outputs": [
    {
     "name": "stdout",
     "output_type": "stream",
     "text": [
      "{'akash': 10, 'gaurav': 12, 'anand': 14, 'suraj': 20, 'akhil': 25, 'ashish': 30}\n"
     ]
    }
   ],
   "source": [
    "lst = [(\"akash\", 10), (\"gaurav\", 12), (\"anand\", 14), (\"suraj\", 20), (\"akhil\", 25), (\"ashish\", 30)]\n",
    "\n",
    "print(dict(lst))"
   ]
  },
  {
   "cell_type": "code",
   "execution_count": 54,
   "id": "035be5fb-b05a-4efc-bb59-2246c2a812f3",
   "metadata": {},
   "outputs": [],
   "source": [
    "dct={}\n",
    "for key, value in lst:\n",
    "    dct[key]=value"
   ]
  },
  {
   "cell_type": "code",
   "execution_count": 57,
   "id": "002b29c6-0be9-4b2a-a095-1cf92dc80414",
   "metadata": {},
   "outputs": [
    {
     "name": "stdout",
     "output_type": "stream",
     "text": [
      "{'akash': 10, 'gaurav': 12, 'anand': 14, 'suraj': 20, 'akhil': 25, 'ashish': 30}\n"
     ]
    }
   ],
   "source": [
    "print(dct)"
   ]
  },
  {
   "cell_type": "code",
   "execution_count": 58,
   "id": "5027e4e3-7d6f-4306-8b73-8054c70509e6",
   "metadata": {},
   "outputs": [
    {
     "data": {
      "text/plain": [
       "['a', 'b', 'c']"
      ]
     },
     "execution_count": 58,
     "metadata": {},
     "output_type": "execute_result"
    }
   ],
   "source": [
    "input_dict = {'c': [3], 'b': [12, 10], 'a': [19, 4]}\n",
    "sorted(input_dict)"
   ]
  },
  {
   "cell_type": "code",
   "execution_count": 61,
   "id": "472f4ebd-5753-4c62-9a6f-6f78477bb628",
   "metadata": {},
   "outputs": [],
   "source": [
    "dct = {}\n",
    "for i in sorted(input_dict):   # sorted keys\n",
    "    dct[i] = sorted(input_dict[i])# sorted key and their respected values which will sort by sorted function"
   ]
  },
  {
   "cell_type": "code",
   "execution_count": 62,
   "id": "ffb85286-310c-4176-8729-6b5302976aca",
   "metadata": {},
   "outputs": [
    {
     "data": {
      "text/plain": [
       "{'a': [4, 19], 'b': [10, 12], 'c': [3]}"
      ]
     },
     "execution_count": 62,
     "metadata": {},
     "output_type": "execute_result"
    }
   ],
   "source": [
    "dct"
   ]
  },
  {
   "cell_type": "markdown",
   "id": "71eb7c14-0782-4ff6-ad57-0ecf9b0dfea6",
   "metadata": {},
   "source": [
    "# NUMPY"
   ]
  },
  {
   "cell_type": "code",
   "execution_count": 1,
   "id": "8a0465d0-dd61-41c3-a0be-3465ac0d330d",
   "metadata": {},
   "outputs": [],
   "source": [
    "import numpy as np"
   ]
  },
  {
   "cell_type": "code",
   "execution_count": 2,
   "id": "ceab6271-b008-4fbd-ae45-fe7173dda2d6",
   "metadata": {},
   "outputs": [],
   "source": [
    "# null vector having size 10 5th value 1"
   ]
  },
  {
   "cell_type": "code",
   "execution_count": 5,
   "id": "4da1758e-8bf7-4b5a-a0fe-7e945d2d7d5f",
   "metadata": {},
   "outputs": [],
   "source": [
    "null_v=np.zeros(10)\n",
    "null_v[4]=1"
   ]
  },
  {
   "cell_type": "code",
   "execution_count": 6,
   "id": "18ca8620-02dc-4148-964a-164ed93278a6",
   "metadata": {},
   "outputs": [
    {
     "data": {
      "text/plain": [
       "array([0., 0., 0., 0., 1., 0., 0., 0., 0., 0.])"
      ]
     },
     "execution_count": 6,
     "metadata": {},
     "output_type": "execute_result"
    }
   ],
   "source": [
    "null_v"
   ]
  },
  {
   "cell_type": "code",
   "execution_count": 7,
   "id": "7e54161f-c6ca-429a-ba49-651a79a6fb36",
   "metadata": {},
   "outputs": [],
   "source": [
    "# take user input for two numbers and make array of that size and return the mean "
   ]
  },
  {
   "cell_type": "code",
   "execution_count": 11,
   "id": "2757f2be-77e4-4e4c-b520-da6951f9b5e7",
   "metadata": {},
   "outputs": [
    {
     "name": "stdin",
     "output_type": "stream",
     "text": [
      "ENter 1st num:  2\n",
      "Enter second num:  2\n"
     ]
    },
    {
     "name": "stdout",
     "output_type": "stream",
     "text": [
      "[1 0 1]\n",
      "0.6666666666666666\n"
     ]
    }
   ],
   "source": [
    "a=int(input('ENter 1st num: '))\n",
    "b=int(input('Enter second num: '))\n",
    "arr = np.random.randint((a,b, a*b))\n",
    "print(arr)\n",
    "print(np.mean(arr))"
   ]
  },
  {
   "cell_type": "code",
   "execution_count": null,
   "id": "6cabe2db-6374-4405-9a96-0e20db781896",
   "metadata": {},
   "outputs": [],
   "source": []
  }
 ],
 "metadata": {
  "kernelspec": {
   "display_name": "Python 3 (ipykernel)",
   "language": "python",
   "name": "python3"
  },
  "language_info": {
   "codemirror_mode": {
    "name": "ipython",
    "version": 3
   },
   "file_extension": ".py",
   "mimetype": "text/x-python",
   "name": "python",
   "nbconvert_exporter": "python",
   "pygments_lexer": "ipython3",
   "version": "3.12.5"
  }
 },
 "nbformat": 4,
 "nbformat_minor": 5
}
