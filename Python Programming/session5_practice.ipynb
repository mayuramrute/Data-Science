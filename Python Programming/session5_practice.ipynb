{
 "cells": [
  {
   "cell_type": "markdown",
   "id": "af01688e-e456-48c8-aa09-6ec63844cd73",
   "metadata": {},
   "source": [
    "# Tuple"
   ]
  },
  {
   "cell_type": "code",
   "execution_count": 1,
   "id": "01570a56-a731-4cb3-9a08-8db90b11cc89",
   "metadata": {},
   "outputs": [
    {
     "data": {
      "text/plain": [
       "tuple"
      ]
     },
     "execution_count": 1,
     "metadata": {},
     "output_type": "execute_result"
    }
   ],
   "source": [
    "t1 = ()  # () is a tuple constructor\n",
    "type(t1)"
   ]
  },
  {
   "cell_type": "code",
   "execution_count": 2,
   "id": "29875773-8d36-4f4b-9bc0-d1fba737ee77",
   "metadata": {},
   "outputs": [
    {
     "data": {
      "text/plain": [
       "str"
      ]
     },
     "execution_count": 2,
     "metadata": {},
     "output_type": "execute_result"
    }
   ],
   "source": [
    "t2 = ('Mayur')  # tuple shpuld contains at least two element if the first is string or comma seperated value \n",
    "type(t2)"
   ]
  },
  {
   "cell_type": "code",
   "execution_count": 4,
   "id": "339d296b-fab8-4a1c-9532-5e32dc467c6b",
   "metadata": {},
   "outputs": [
    {
     "data": {
      "text/plain": [
       "tuple"
      ]
     },
     "execution_count": 4,
     "metadata": {},
     "output_type": "execute_result"
    }
   ],
   "source": [
    "t2 = ('Mayur',) # at least one value comma sepertaed \n",
    "type(t2)"
   ]
  },
  {
   "cell_type": "code",
   "execution_count": 6,
   "id": "891d3860-1975-4002-be63-7cb5eece4804",
   "metadata": {},
   "outputs": [
    {
     "name": "stdout",
     "output_type": "stream",
     "text": [
      "([1, 2, 3, 4], 1.5, True)\n"
     ]
    }
   ],
   "source": [
    "t1 = ([1,2,3,4],1.5, True)  # heterogenous data elements\n",
    "print(t1)"
   ]
  },
  {
   "cell_type": "code",
   "execution_count": 7,
   "id": "1e469fc1-e623-4d96-9961-feaace430252",
   "metadata": {},
   "outputs": [
    {
     "name": "stdout",
     "output_type": "stream",
     "text": [
      "('M', 'a', 'y', 'u', 'r')\n"
     ]
    }
   ],
   "source": [
    "string = 'Mayur'\n",
    "print(tuple(string))"
   ]
  },
  {
   "cell_type": "code",
   "execution_count": 8,
   "id": "b1227f02-4f66-475d-a989-473ea10627dd",
   "metadata": {},
   "outputs": [
    {
     "name": "stdout",
     "output_type": "stream",
     "text": [
      "(1, 2, 3, 4, 5, 6)\n"
     ]
    }
   ],
   "source": [
    "# indexing and slicing\n",
    "tpl=(1,2,3,4,5,6)\n",
    "print(tpl)"
   ]
  },
  {
   "cell_type": "code",
   "execution_count": 9,
   "id": "d41e0ddd-f0a7-4ab7-b834-b044e139c52c",
   "metadata": {},
   "outputs": [
    {
     "data": {
      "text/plain": [
       "(1, 2, 3, 4, 5, 6)"
      ]
     },
     "execution_count": 9,
     "metadata": {},
     "output_type": "execute_result"
    }
   ],
   "source": [
    "tpl[0:]"
   ]
  },
  {
   "cell_type": "code",
   "execution_count": 11,
   "id": "8fbc14dc-352d-45a7-9fd7-a9d6ac24ec49",
   "metadata": {},
   "outputs": [
    {
     "data": {
      "text/plain": [
       "(1, 2, 3, 4)"
      ]
     },
     "execution_count": 11,
     "metadata": {},
     "output_type": "execute_result"
    }
   ],
   "source": [
    "tpl[0:4]"
   ]
  },
  {
   "cell_type": "code",
   "execution_count": 15,
   "id": "a865b65d-3f97-48e9-a05d-7059c57ead58",
   "metadata": {},
   "outputs": [
    {
     "name": "stdout",
     "output_type": "stream",
     "text": [
      "(1.2, 3, 4, 5, 6, 7, 8, 9, 0)\n",
      "(1.2, 3, 4, 5, 1.2, 3, 4, 5)\n"
     ]
    }
   ],
   "source": [
    "# addition\n",
    "t1 = (1.2,3,4,5)\n",
    "t2 = (6,7,8,9,0)\n",
    "print(t1+t2) # extends the tuple\n",
    "print(t1*2)"
   ]
  },
  {
   "cell_type": "code",
   "execution_count": 18,
   "id": "805225c6-524d-4b54-9308-7e4421beef45",
   "metadata": {},
   "outputs": [
    {
     "data": {
      "text/plain": [
       "(1, 2, 3, 'Mayur')"
      ]
     },
     "execution_count": 18,
     "metadata": {},
     "output_type": "execute_result"
    }
   ],
   "source": [
    "t1=(1,2,3)\n",
    "t2=('Mayur')\n",
    "# t1+t2  # will not concat\n",
    "t3 = ('Mayur',)\n",
    "t1+t3"
   ]
  },
  {
   "cell_type": "code",
   "execution_count": 19,
   "id": "253ef2fc-0830-4a74-91e2-cf37c1cb8910",
   "metadata": {},
   "outputs": [],
   "source": [
    "a,b,c = (1,2,3)"
   ]
  },
  {
   "cell_type": "code",
   "execution_count": 21,
   "id": "be92b815-a564-419c-91e6-f5e10f7ed2a9",
   "metadata": {},
   "outputs": [
    {
     "data": {
      "text/plain": [
       "(1, 2, 3)"
      ]
     },
     "execution_count": 21,
     "metadata": {},
     "output_type": "execute_result"
    }
   ],
   "source": [
    "a,b,c"
   ]
  },
  {
   "cell_type": "code",
   "execution_count": 22,
   "id": "0edf70c9-92f8-4100-9a79-ddb8f9b180ac",
   "metadata": {},
   "outputs": [
    {
     "data": {
      "text/plain": [
       "(1, 2)"
      ]
     },
     "execution_count": 22,
     "metadata": {},
     "output_type": "execute_result"
    }
   ],
   "source": [
    "a,b"
   ]
  },
  {
   "cell_type": "code",
   "execution_count": 23,
   "id": "793e837d-26da-4ccb-8f15-baadef115637",
   "metadata": {},
   "outputs": [],
   "source": [
    "a,b,*c=1,2,3,4,5,6,7,8,9,8,7,6,5,4,3"
   ]
  },
  {
   "cell_type": "code",
   "execution_count": 24,
   "id": "22d14d9a-92f4-4ca7-a959-0a382af5b91a",
   "metadata": {},
   "outputs": [
    {
     "data": {
      "text/plain": [
       "1"
      ]
     },
     "execution_count": 24,
     "metadata": {},
     "output_type": "execute_result"
    }
   ],
   "source": [
    "a"
   ]
  },
  {
   "cell_type": "code",
   "execution_count": 25,
   "id": "76a90015-39c4-4241-a2f3-93e864e1fc83",
   "metadata": {},
   "outputs": [
    {
     "data": {
      "text/plain": [
       "2"
      ]
     },
     "execution_count": 25,
     "metadata": {},
     "output_type": "execute_result"
    }
   ],
   "source": [
    "b"
   ]
  },
  {
   "cell_type": "code",
   "execution_count": 26,
   "id": "738e39ef-ae2d-43aa-b676-a4bb3f018e4a",
   "metadata": {},
   "outputs": [
    {
     "data": {
      "text/plain": [
       "[3, 4, 5, 6, 7, 8, 9, 8, 7, 6, 5, 4, 3]"
      ]
     },
     "execution_count": 26,
     "metadata": {},
     "output_type": "execute_result"
    }
   ],
   "source": [
    "c"
   ]
  },
  {
   "cell_type": "markdown",
   "id": "1146ec39-b9db-4c40-9cca-a65dde7265f2",
   "metadata": {},
   "source": [
    "# Set"
   ]
  },
  {
   "cell_type": "code",
   "execution_count": 27,
   "id": "c763e424-8dc4-4184-9988-bfe0b19a663a",
   "metadata": {},
   "outputs": [],
   "source": [
    "s =set() # set consturctor"
   ]
  },
  {
   "cell_type": "code",
   "execution_count": 30,
   "id": "8caeca3e-ff83-4261-9a5f-a6ce24658512",
   "metadata": {},
   "outputs": [
    {
     "name": "stdout",
     "output_type": "stream",
     "text": [
      "<class 'set'>\n"
     ]
    }
   ],
   "source": [
    "print(type(s))"
   ]
  },
  {
   "cell_type": "code",
   "execution_count": 31,
   "id": "0a91381f-7677-4a3e-ae11-7e3157accacc",
   "metadata": {},
   "outputs": [
    {
     "data": {
      "text/plain": [
       "set"
      ]
     },
     "execution_count": 31,
     "metadata": {},
     "output_type": "execute_result"
    }
   ],
   "source": [
    "type(s)"
   ]
  },
  {
   "cell_type": "code",
   "execution_count": 32,
   "id": "dace33a4-2678-4b16-99d5-dd5a30a3817a",
   "metadata": {},
   "outputs": [
    {
     "data": {
      "text/plain": [
       "{(1, 2, 3), (4+9j), 1, 2.2, 'Mayur'}"
      ]
     },
     "execution_count": 32,
     "metadata": {},
     "output_type": "execute_result"
    }
   ],
   "source": [
    "s3 = {1,2.2,\"Mayur\",4+9j, (1,2,3), True }\n",
    "s3"
   ]
  },
  {
   "cell_type": "code",
   "execution_count": 33,
   "id": "58a08922-195f-4320-b516-1800c21bfe99",
   "metadata": {},
   "outputs": [],
   "source": [
    "# it is a unordered collection of unique elements"
   ]
  },
  {
   "cell_type": "code",
   "execution_count": 34,
   "id": "50b81da3-0619-4c6f-8974-2cd2eb8eac6b",
   "metadata": {},
   "outputs": [],
   "source": [
    "# add() update()"
   ]
  },
  {
   "cell_type": "code",
   "execution_count": 35,
   "id": "ab68b75c-6eb7-4725-b963-56524e96fb1e",
   "metadata": {},
   "outputs": [],
   "source": [
    "s = {1,2,3}\n",
    "s.add(5) # to add the single element"
   ]
  },
  {
   "cell_type": "code",
   "execution_count": 36,
   "id": "0103ee7b-0cc1-46aa-a2fe-4f99c3bb38b0",
   "metadata": {},
   "outputs": [
    {
     "data": {
      "text/plain": [
       "{1, 2, 3, 5}"
      ]
     },
     "execution_count": 36,
     "metadata": {},
     "output_type": "execute_result"
    }
   ],
   "source": [
    "s"
   ]
  },
  {
   "cell_type": "code",
   "execution_count": 37,
   "id": "6ea4eb4e-650f-4604-b377-b7e959f08017",
   "metadata": {},
   "outputs": [
    {
     "ename": "TypeError",
     "evalue": "unhashable type: 'list'",
     "output_type": "error",
     "traceback": [
      "\u001b[1;31m---------------------------------------------------------------------------\u001b[0m",
      "\u001b[1;31mTypeError\u001b[0m                                 Traceback (most recent call last)",
      "Cell \u001b[1;32mIn[37], line 1\u001b[0m\n\u001b[1;32m----> 1\u001b[0m \u001b[43ms\u001b[49m\u001b[38;5;241;43m.\u001b[39;49m\u001b[43madd\u001b[49m\u001b[43m(\u001b[49m\u001b[43m[\u001b[49m\u001b[38;5;241;43m44\u001b[39;49m\u001b[43m,\u001b[49m\u001b[38;5;241;43m55\u001b[39;49m\u001b[43m,\u001b[49m\u001b[38;5;241;43m66\u001b[39;49m\u001b[43m]\u001b[49m\u001b[43m)\u001b[49m\n",
      "\u001b[1;31mTypeError\u001b[0m: unhashable type: 'list'"
     ]
    }
   ],
   "source": [
    "s.add([44,55,66])"
   ]
  },
  {
   "cell_type": "code",
   "execution_count": 40,
   "id": "77a0f981-c0a6-4597-b244-8e8996529313",
   "metadata": {},
   "outputs": [],
   "source": [
    "s.update([22,33,44])  # toadd multiple elements at a time take only iterable and not a single item"
   ]
  },
  {
   "cell_type": "code",
   "execution_count": 39,
   "id": "93699fe5-e854-4ee8-b594-2538fdfa5806",
   "metadata": {},
   "outputs": [
    {
     "data": {
      "text/plain": [
       "{1, 2, 3, 5, 22, 33, 44}"
      ]
     },
     "execution_count": 39,
     "metadata": {},
     "output_type": "execute_result"
    }
   ],
   "source": [
    "s"
   ]
  },
  {
   "cell_type": "code",
   "execution_count": 41,
   "id": "90d5755f-bec5-44c3-bbd1-0c4daf537d6b",
   "metadata": {},
   "outputs": [
    {
     "ename": "TypeError",
     "evalue": "'int' object is not iterable",
     "output_type": "error",
     "traceback": [
      "\u001b[1;31m---------------------------------------------------------------------------\u001b[0m",
      "\u001b[1;31mTypeError\u001b[0m                                 Traceback (most recent call last)",
      "Cell \u001b[1;32mIn[41], line 1\u001b[0m\n\u001b[1;32m----> 1\u001b[0m \u001b[43ms\u001b[49m\u001b[38;5;241;43m.\u001b[39;49m\u001b[43mupdate\u001b[49m\u001b[43m(\u001b[49m\u001b[38;5;241;43m34\u001b[39;49m\u001b[43m)\u001b[49m\n",
      "\u001b[1;31mTypeError\u001b[0m: 'int' object is not iterable"
     ]
    }
   ],
   "source": [
    "s.update(34) # only iterables are allowed"
   ]
  },
  {
   "cell_type": "code",
   "execution_count": 44,
   "id": "3dd8865b-f33c-47a3-8680-47bcc2cd1e44",
   "metadata": {},
   "outputs": [
    {
     "data": {
      "text/plain": [
       "110"
      ]
     },
     "execution_count": 44,
     "metadata": {},
     "output_type": "execute_result"
    }
   ],
   "source": [
    "# min() max() len() sorted() sum()\n",
    "sum(s)"
   ]
  },
  {
   "cell_type": "code",
   "execution_count": 46,
   "id": "284bdaaf-5431-40b4-a61a-27bb0c415e58",
   "metadata": {},
   "outputs": [
    {
     "data": {
      "text/plain": [
       "7"
      ]
     },
     "execution_count": 46,
     "metadata": {},
     "output_type": "execute_result"
    }
   ],
   "source": [
    "len(s)"
   ]
  },
  {
   "cell_type": "code",
   "execution_count": 47,
   "id": "ed3f0485-d7fb-4e7e-9259-e1d13b851192",
   "metadata": {},
   "outputs": [
    {
     "data": {
      "text/plain": [
       "1"
      ]
     },
     "execution_count": 47,
     "metadata": {},
     "output_type": "execute_result"
    }
   ],
   "source": [
    "min(s)"
   ]
  },
  {
   "cell_type": "code",
   "execution_count": 48,
   "id": "fd76cc48-94e3-4449-bf84-ccdca6d339d3",
   "metadata": {},
   "outputs": [
    {
     "data": {
      "text/plain": [
       "44"
      ]
     },
     "execution_count": 48,
     "metadata": {},
     "output_type": "execute_result"
    }
   ],
   "source": [
    "max(s)"
   ]
  },
  {
   "cell_type": "code",
   "execution_count": 49,
   "id": "6d592abf-786c-4689-85d3-89e7b7e2fbcc",
   "metadata": {},
   "outputs": [],
   "source": [
    "# DELETNG ITEMS"
   ]
  },
  {
   "cell_type": "code",
   "execution_count": 55,
   "id": "552faafc-4ba0-496e-8dfb-d6156c0d3e89",
   "metadata": {},
   "outputs": [
    {
     "data": {
      "text/plain": [
       "{2, 3, 5, 22, 33, 44}"
      ]
     },
     "execution_count": 55,
     "metadata": {},
     "output_type": "execute_result"
    }
   ],
   "source": [
    "s"
   ]
  },
  {
   "cell_type": "code",
   "execution_count": 56,
   "id": "fd8dfef6-ba57-4b17-bb09-90a3560b311c",
   "metadata": {},
   "outputs": [],
   "source": [
    "s.remove(2)   # take element as input and remove from set permamently"
   ]
  },
  {
   "cell_type": "code",
   "execution_count": 57,
   "id": "21fb3c9c-e1cc-44dd-97cf-dc74344738c1",
   "metadata": {},
   "outputs": [
    {
     "data": {
      "text/plain": [
       "{3, 5, 22, 33, 44}"
      ]
     },
     "execution_count": 57,
     "metadata": {},
     "output_type": "execute_result"
    }
   ],
   "source": [
    "s"
   ]
  },
  {
   "cell_type": "code",
   "execution_count": 58,
   "id": "aedea490-efcc-4a5c-a704-55b17e8c76ee",
   "metadata": {},
   "outputs": [
    {
     "ename": "KeyError",
     "evalue": "1",
     "output_type": "error",
     "traceback": [
      "\u001b[1;31m---------------------------------------------------------------------------\u001b[0m",
      "\u001b[1;31mKeyError\u001b[0m                                  Traceback (most recent call last)",
      "Cell \u001b[1;32mIn[58], line 1\u001b[0m\n\u001b[1;32m----> 1\u001b[0m \u001b[43ms\u001b[49m\u001b[38;5;241;43m.\u001b[39;49m\u001b[43mremove\u001b[49m\u001b[43m(\u001b[49m\u001b[38;5;241;43m1\u001b[39;49m\u001b[43m)\u001b[49m\n",
      "\u001b[1;31mKeyError\u001b[0m: 1"
     ]
    }
   ],
   "source": [
    "s.remove(1)"
   ]
  },
  {
   "cell_type": "code",
   "execution_count": 60,
   "id": "22f57b4b-08ab-45f6-a27c-1aedb0b9d7d8",
   "metadata": {},
   "outputs": [],
   "source": [
    "s.discard(1)  # thid will not throw error even if the item is not present in set"
   ]
  },
  {
   "cell_type": "code",
   "execution_count": 62,
   "id": "1862a75e-7293-4189-8faf-9f87a232f9d1",
   "metadata": {},
   "outputs": [
    {
     "data": {
      "text/plain": [
       "{3, 5, 22, 33, 44}"
      ]
     },
     "execution_count": 62,
     "metadata": {},
     "output_type": "execute_result"
    }
   ],
   "source": [
    "s"
   ]
  },
  {
   "cell_type": "code",
   "execution_count": 63,
   "id": "72c5cbae-f06c-4869-93c1-545691c9322d",
   "metadata": {},
   "outputs": [],
   "source": [
    "s.discard(44)"
   ]
  },
  {
   "cell_type": "code",
   "execution_count": 64,
   "id": "6a7df6e2-04a7-4ac1-9363-f2f76aae1daa",
   "metadata": {},
   "outputs": [
    {
     "data": {
      "text/plain": [
       "{3, 5, 22, 33}"
      ]
     },
     "execution_count": 64,
     "metadata": {},
     "output_type": "execute_result"
    }
   ],
   "source": [
    "s"
   ]
  },
  {
   "cell_type": "code",
   "execution_count": 66,
   "id": "f53ef55b-b02f-43fa-802a-30fcc9d1a8a2",
   "metadata": {},
   "outputs": [
    {
     "data": {
      "text/plain": [
       "33"
      ]
     },
     "execution_count": 66,
     "metadata": {},
     "output_type": "execute_result"
    }
   ],
   "source": [
    "s.pop() # remove the any element from the set"
   ]
  },
  {
   "cell_type": "code",
   "execution_count": 68,
   "id": "560b4e63-90dc-4c5f-82b5-c99db5d27aee",
   "metadata": {},
   "outputs": [],
   "source": [
    "s.clear() # clear all the elements from the list"
   ]
  },
  {
   "cell_type": "code",
   "execution_count": 69,
   "id": "ecdfdca3-dfcf-4fcf-9489-f0cbcb8c02e6",
   "metadata": {},
   "outputs": [
    {
     "data": {
      "text/plain": [
       "set()"
      ]
     },
     "execution_count": 69,
     "metadata": {},
     "output_type": "execute_result"
    }
   ],
   "source": [
    "s"
   ]
  },
  {
   "cell_type": "code",
   "execution_count": 70,
   "id": "7d4fa342-1ab7-4fe5-9b06-fedba55422be",
   "metadata": {},
   "outputs": [],
   "source": [
    "# Set functions"
   ]
  },
  {
   "cell_type": "code",
   "execution_count": 71,
   "id": "02986aaa-3b39-4435-bcd7-32b0d497d2c6",
   "metadata": {},
   "outputs": [
    {
     "data": {
      "text/plain": [
       "{1, 2, 3, 4, 5, 6, 7, 8}"
      ]
     },
     "execution_count": 71,
     "metadata": {},
     "output_type": "execute_result"
    }
   ],
   "source": [
    "s1={1,2,3,4}\n",
    "s2={5,6,7,8, 2,3}\n",
    "\n",
    "s1|s2  #cunion all elements from both set but not duplicated"
   ]
  },
  {
   "cell_type": "code",
   "execution_count": 73,
   "id": "80e1b194-0371-45f5-84dd-26c53caf2632",
   "metadata": {},
   "outputs": [
    {
     "data": {
      "text/plain": [
       "{2, 3}"
      ]
     },
     "execution_count": 73,
     "metadata": {},
     "output_type": "execute_result"
    }
   ],
   "source": [
    "s1 & s2  # & is used for intersection of the two set"
   ]
  },
  {
   "cell_type": "code",
   "execution_count": 75,
   "id": "4eb8b75f-de7c-4736-9f40-bb92534d2ead",
   "metadata": {},
   "outputs": [
    {
     "data": {
      "text/plain": [
       "{2, 3}"
      ]
     },
     "execution_count": 75,
     "metadata": {},
     "output_type": "execute_result"
    }
   ],
   "source": [
    "s1.intersection(s2)  # intersection_update willl update the set 1 and save the common in the s1"
   ]
  },
  {
   "cell_type": "code",
   "execution_count": 76,
   "id": "aa3f4a16-23d7-4edb-ac05-82485985858b",
   "metadata": {},
   "outputs": [
    {
     "data": {
      "text/plain": [
       "{1, 4}"
      ]
     },
     "execution_count": 76,
     "metadata": {},
     "output_type": "execute_result"
    }
   ],
   "source": [
    "s1-s2  # elements present in s1 and not in s2"
   ]
  },
  {
   "cell_type": "code",
   "execution_count": 77,
   "id": "abb646bd-e395-4383-8d39-39c56db9b4b2",
   "metadata": {},
   "outputs": [
    {
     "data": {
      "text/plain": [
       "{1, 4}"
      ]
     },
     "execution_count": 77,
     "metadata": {},
     "output_type": "execute_result"
    }
   ],
   "source": [
    "s1.difference(s2)"
   ]
  },
  {
   "cell_type": "code",
   "execution_count": 79,
   "id": "c6524b58-7682-42fa-a0e3-79dde2223734",
   "metadata": {},
   "outputs": [
    {
     "data": {
      "text/plain": [
       "{1, 4, 5, 6, 7, 8}"
      ]
     },
     "execution_count": 79,
     "metadata": {},
     "output_type": "execute_result"
    }
   ],
   "source": [
    "s1.symmetric_difference(s2) # all uncommon elements from both elements "
   ]
  },
  {
   "cell_type": "code",
   "execution_count": 80,
   "id": "70ffafb7-3604-4067-91b2-e28e5d0c651d",
   "metadata": {},
   "outputs": [],
   "source": [
    "# frozenset()"
   ]
  },
  {
   "cell_type": "code",
   "execution_count": 82,
   "id": "ebcf3728-8753-4f46-97ce-424117e83790",
   "metadata": {},
   "outputs": [],
   "source": [
    "s1 = frozenset([1,2,3,4,5])"
   ]
  },
  {
   "cell_type": "code",
   "execution_count": 83,
   "id": "92f74c67-d792-4c5a-b785-da6486f2db45",
   "metadata": {},
   "outputs": [
    {
     "data": {
      "text/plain": [
       "frozenset({1, 2, 3, 4, 5})"
      ]
     },
     "execution_count": 83,
     "metadata": {},
     "output_type": "execute_result"
    }
   ],
   "source": [
    "s1"
   ]
  },
  {
   "cell_type": "code",
   "execution_count": 84,
   "id": "b83a9aa4-1bdf-491e-b81a-e932e6860960",
   "metadata": {},
   "outputs": [
    {
     "data": {
      "text/plain": [
       "set()"
      ]
     },
     "execution_count": 84,
     "metadata": {},
     "output_type": "execute_result"
    }
   ],
   "source": [
    "s"
   ]
  },
  {
   "cell_type": "code",
   "execution_count": 85,
   "id": "f3404914-cce9-4a2b-ad05-d6c2ad28bfe3",
   "metadata": {},
   "outputs": [
    {
     "ename": "TypeError",
     "evalue": "unhashable type: 'set'",
     "output_type": "error",
     "traceback": [
      "\u001b[1;31m---------------------------------------------------------------------------\u001b[0m",
      "\u001b[1;31mTypeError\u001b[0m                                 Traceback (most recent call last)",
      "Cell \u001b[1;32mIn[85], line 1\u001b[0m\n\u001b[1;32m----> 1\u001b[0m \u001b[43ms\u001b[49m\u001b[38;5;241;43m.\u001b[39;49m\u001b[43madd\u001b[49m\u001b[43m(\u001b[49m\u001b[43m{\u001b[49m\u001b[38;5;241;43m1\u001b[39;49m\u001b[43m,\u001b[49m\u001b[38;5;241;43m2\u001b[39;49m\u001b[43m,\u001b[49m\u001b[38;5;241;43m3\u001b[39;49m\u001b[43m}\u001b[49m\u001b[43m)\u001b[49m\n",
      "\u001b[1;31mTypeError\u001b[0m: unhashable type: 'set'"
     ]
    }
   ],
   "source": [
    "s.add({1,2,3})"
   ]
  },
  {
   "cell_type": "code",
   "execution_count": 86,
   "id": "a444c34d-b169-4f7c-b085-ad75b57b01d6",
   "metadata": {},
   "outputs": [
    {
     "ename": "TypeError",
     "evalue": "unhashable type: 'list'",
     "output_type": "error",
     "traceback": [
      "\u001b[1;31m---------------------------------------------------------------------------\u001b[0m",
      "\u001b[1;31mTypeError\u001b[0m                                 Traceback (most recent call last)",
      "Cell \u001b[1;32mIn[86], line 1\u001b[0m\n\u001b[1;32m----> 1\u001b[0m \u001b[43ms\u001b[49m\u001b[38;5;241;43m.\u001b[39;49m\u001b[43madd\u001b[49m\u001b[43m(\u001b[49m\u001b[43m[\u001b[49m\u001b[38;5;241;43m1\u001b[39;49m\u001b[43m,\u001b[49m\u001b[38;5;241;43m2\u001b[39;49m\u001b[43m,\u001b[49m\u001b[38;5;241;43m3\u001b[39;49m\u001b[43m,\u001b[49m\u001b[38;5;241;43m4\u001b[39;49m\u001b[43m]\u001b[49m\u001b[43m)\u001b[49m\n",
      "\u001b[1;31mTypeError\u001b[0m: unhashable type: 'list'"
     ]
    }
   ],
   "source": [
    "s.add([1,2,3,4])"
   ]
  },
  {
   "cell_type": "code",
   "execution_count": 88,
   "id": "f2a5596c-a9c0-45d1-9e29-0cb57693a433",
   "metadata": {},
   "outputs": [],
   "source": [
    "s.add((1,2,3))  # tuple immutable"
   ]
  },
  {
   "cell_type": "code",
   "execution_count": 89,
   "id": "e49fb214-61d5-4b3a-b499-6efa1c1cc32f",
   "metadata": {},
   "outputs": [
    {
     "data": {
      "text/plain": [
       "{(1, 2, 3)}"
      ]
     },
     "execution_count": 89,
     "metadata": {},
     "output_type": "execute_result"
    }
   ],
   "source": [
    "s"
   ]
  },
  {
   "cell_type": "code",
   "execution_count": 92,
   "id": "6b3d0e7f-4c37-4a7e-ad10-43da672a0a48",
   "metadata": {},
   "outputs": [
    {
     "ename": "AttributeError",
     "evalue": "'frozenset' object has no attribute 'add'",
     "output_type": "error",
     "traceback": [
      "\u001b[1;31m---------------------------------------------------------------------------\u001b[0m",
      "\u001b[1;31mAttributeError\u001b[0m                            Traceback (most recent call last)",
      "Cell \u001b[1;32mIn[92], line 1\u001b[0m\n\u001b[1;32m----> 1\u001b[0m \u001b[43ms1\u001b[49m\u001b[38;5;241;43m.\u001b[39;49m\u001b[43madd\u001b[49m(\u001b[38;5;28mfrozenset\u001b[39m([\u001b[38;5;241m1\u001b[39m,\u001b[38;5;241m2\u001b[39m,\u001b[38;5;241m3\u001b[39m]))\n",
      "\u001b[1;31mAttributeError\u001b[0m: 'frozenset' object has no attribute 'add'"
     ]
    }
   ],
   "source": [
    "s1.add(frozenset([1,2,3])) # immutable type of set"
   ]
  },
  {
   "cell_type": "code",
   "execution_count": 93,
   "id": "ea271815-9cdd-445a-baef-d1ceab337922",
   "metadata": {},
   "outputs": [
    {
     "data": {
      "text/plain": [
       "frozenset({1, 2, 3})"
      ]
     },
     "execution_count": 93,
     "metadata": {},
     "output_type": "execute_result"
    }
   ],
   "source": [
    "frozenset({1,2,3})"
   ]
  },
  {
   "cell_type": "code",
   "execution_count": 96,
   "id": "79cdb95e-954e-4280-a465-10b92813d41b",
   "metadata": {},
   "outputs": [
    {
     "ename": "TypeError",
     "evalue": "frozenset expected at most 1 argument, got 4",
     "output_type": "error",
     "traceback": [
      "\u001b[1;31m---------------------------------------------------------------------------\u001b[0m",
      "\u001b[1;31mTypeError\u001b[0m                                 Traceback (most recent call last)",
      "Cell \u001b[1;32mIn[96], line 1\u001b[0m\n\u001b[1;32m----> 1\u001b[0m \u001b[38;5;28mfrozenset\u001b[39m(\u001b[38;5;28;43mfrozenset\u001b[39;49m\u001b[43m(\u001b[49m\u001b[43m[\u001b[49m\u001b[38;5;241;43m124\u001b[39;49m\u001b[43m]\u001b[49m\u001b[43m,\u001b[49m\u001b[38;5;241;43m1\u001b[39;49m\u001b[43m,\u001b[49m\u001b[38;5;241;43m2\u001b[39;49m\u001b[43m,\u001b[49m\u001b[38;5;241;43m3\u001b[39;49m\u001b[43m)\u001b[49m)\n",
      "\u001b[1;31mTypeError\u001b[0m: frozenset expected at most 1 argument, got 4"
     ]
    }
   ],
   "source": [
    "frozenset(frozenset([124],1,2,3))"
   ]
  },
  {
   "cell_type": "code",
   "execution_count": 97,
   "id": "edb01eae-581b-4d42-b43d-480d080e561d",
   "metadata": {},
   "outputs": [
    {
     "data": {
      "text/plain": [
       "{(1, 2, 3)}"
      ]
     },
     "execution_count": 97,
     "metadata": {},
     "output_type": "execute_result"
    }
   ],
   "source": [
    "s"
   ]
  },
  {
   "cell_type": "code",
   "execution_count": 98,
   "id": "2325e0be-ac51-4b34-ab3e-6aada0867216",
   "metadata": {},
   "outputs": [],
   "source": [
    "s.add(frozenset([1,2,3]))"
   ]
  },
  {
   "cell_type": "code",
   "execution_count": 99,
   "id": "c2f94a3e-642f-41af-ae01-22b05d7c5f5c",
   "metadata": {},
   "outputs": [
    {
     "data": {
      "text/plain": [
       "{(1, 2, 3), frozenset({1, 2, 3})}"
      ]
     },
     "execution_count": 99,
     "metadata": {},
     "output_type": "execute_result"
    }
   ],
   "source": [
    "s"
   ]
  },
  {
   "cell_type": "code",
   "execution_count": 101,
   "id": "132c124f-8b2a-45fd-8af9-32409559f309",
   "metadata": {},
   "outputs": [
    {
     "data": {
      "text/plain": [
       "{1, 2, 3, 4, 5, 6, 7, 8, 9, 10}"
      ]
     },
     "execution_count": 101,
     "metadata": {},
     "output_type": "execute_result"
    }
   ],
   "source": [
    "# set comprehension\n",
    "{i for i in range(1,11)}"
   ]
  },
  {
   "cell_type": "code",
   "execution_count": 102,
   "id": "fc8568a4-af01-4526-89f3-e3b8f0d2a05b",
   "metadata": {},
   "outputs": [
    {
     "data": {
      "text/plain": [
       "{1: 1, 2: 4, 3: 9, 4: 16, 5: 25, 6: 36, 7: 49, 8: 64, 9: 81}"
      ]
     },
     "execution_count": 102,
     "metadata": {},
     "output_type": "execute_result"
    }
   ],
   "source": [
    "{i:i**2 for i in range(1,10)}"
   ]
  },
  {
   "cell_type": "markdown",
   "id": "7833ead2-2baa-4182-8609-51de69379bb2",
   "metadata": {},
   "source": [
    "# DICTIONARY"
   ]
  },
  {
   "cell_type": "markdown",
   "id": "64326b6d-08bd-4bb4-9a30-de0c3699fb10",
   "metadata": {},
   "source": [
    "##  dictionary is an unordered collection of key-value pairs. It allows you to store and retrieve values based on a unique key.\n",
    "### Key should be unique and immutable "
   ]
  },
  {
   "cell_type": "code",
   "execution_count": 103,
   "id": "3f52737e-937c-4bf6-ab34-71f1eea8161f",
   "metadata": {},
   "outputs": [],
   "source": [
    "dct={}"
   ]
  },
  {
   "cell_type": "code",
   "execution_count": 104,
   "id": "c2c48a3d-d469-48c7-80f0-d06a0cef6a79",
   "metadata": {},
   "outputs": [
    {
     "data": {
      "text/plain": [
       "dict"
      ]
     },
     "execution_count": 104,
     "metadata": {},
     "output_type": "execute_result"
    }
   ],
   "source": [
    "type(dct)"
   ]
  },
  {
   "cell_type": "code",
   "execution_count": 105,
   "id": "cfbed1fe-2c8a-454a-8222-3f3c8e21ce9f",
   "metadata": {},
   "outputs": [],
   "source": [
    "d1 = {'Name': 'Mayur', 'age':27, 'Profession':'Datascientist'}"
   ]
  },
  {
   "cell_type": "code",
   "execution_count": 106,
   "id": "27fad1e7-0283-40c5-9fc1-841177e3d15c",
   "metadata": {},
   "outputs": [
    {
     "data": {
      "text/plain": [
       "{'Name': 'Mayur', 'age': 27, 'Profession': 'Datascientist'}"
      ]
     },
     "execution_count": 106,
     "metadata": {},
     "output_type": "execute_result"
    }
   ],
   "source": [
    "d1"
   ]
  },
  {
   "cell_type": "code",
   "execution_count": 109,
   "id": "68d57af5-1700-48a3-9da5-86f00a53fc36",
   "metadata": {},
   "outputs": [
    {
     "data": {
      "text/plain": [
       "'Mayur'"
      ]
     },
     "execution_count": 109,
     "metadata": {},
     "output_type": "execute_result"
    }
   ],
   "source": [
    "d1['Name']"
   ]
  },
  {
   "cell_type": "code",
   "execution_count": 110,
   "id": "44af1b63-69fd-4516-a402-2a7ec04ebde7",
   "metadata": {},
   "outputs": [],
   "source": [
    "d2={(1,2,3):'Mayur'}"
   ]
  },
  {
   "cell_type": "code",
   "execution_count": 111,
   "id": "6d856c1e-af86-4788-a440-1e86c566a8db",
   "metadata": {},
   "outputs": [
    {
     "data": {
      "text/plain": [
       "{(1, 2, 3): 'Mayur'}"
      ]
     },
     "execution_count": 111,
     "metadata": {},
     "output_type": "execute_result"
    }
   ],
   "source": [
    "d2"
   ]
  },
  {
   "cell_type": "code",
   "execution_count": 112,
   "id": "7e1315cb-fb51-479a-b168-0e98615d3259",
   "metadata": {},
   "outputs": [],
   "source": [
    "d3 = {'clg1':{'name':'axy'},\n",
    "     'clg2':{'name':'pqr'},\n",
    "     'clg3':{'name':'abc'}}"
   ]
  },
  {
   "cell_type": "code",
   "execution_count": 113,
   "id": "0d73019e-6ea5-42b5-8d25-b4bfde2681b6",
   "metadata": {},
   "outputs": [
    {
     "data": {
      "text/plain": [
       "{'clg1': {'name': 'axy'}, 'clg2': {'name': 'pqr'}, 'clg3': {'name': 'abc'}}"
      ]
     },
     "execution_count": 113,
     "metadata": {},
     "output_type": "execute_result"
    }
   ],
   "source": [
    "d3"
   ]
  },
  {
   "cell_type": "code",
   "execution_count": 114,
   "id": "faac004f-63bc-4ac5-b407-0c5a47783734",
   "metadata": {},
   "outputs": [
    {
     "data": {
      "text/plain": [
       "{'name': 'pqr'}"
      ]
     },
     "execution_count": 114,
     "metadata": {},
     "output_type": "execute_result"
    }
   ],
   "source": [
    "d3['clg2']"
   ]
  },
  {
   "cell_type": "code",
   "execution_count": 119,
   "id": "5ed7db4e-bf79-4127-867d-eef7ffea8121",
   "metadata": {},
   "outputs": [],
   "source": [
    "dct = {'name': 'Mayur', \"age\": 27, 'gender': 'Male'}"
   ]
  },
  {
   "cell_type": "code",
   "execution_count": 120,
   "id": "9bbd5a97-d12d-4984-b9c0-c24c3297f2ab",
   "metadata": {},
   "outputs": [
    {
     "data": {
      "text/plain": [
       "'Mayur'"
      ]
     },
     "execution_count": 120,
     "metadata": {},
     "output_type": "execute_result"
    }
   ],
   "source": [
    "# acceing\n",
    "dct.get(\"name\") # using get method"
   ]
  },
  {
   "cell_type": "code",
   "execution_count": 121,
   "id": "ec7ada5e-8c79-4a76-803f-924e7df7827d",
   "metadata": {},
   "outputs": [
    {
     "data": {
      "text/plain": [
       "'Mayur'"
      ]
     },
     "execution_count": 121,
     "metadata": {},
     "output_type": "execute_result"
    }
   ],
   "source": [
    "dct['name']"
   ]
  },
  {
   "cell_type": "code",
   "execution_count": 122,
   "id": "6dc41470-3b47-4c69-b713-04d90e4a6ccb",
   "metadata": {},
   "outputs": [],
   "source": [
    "d42D = {'name': \"Mayur\",\n",
    "        'college': \"PJLCE\",\n",
    "       'subject':{'math': 100,\n",
    "                 'English': 200,\n",
    "                 'DS': 'Outoff'}}"
   ]
  },
  {
   "cell_type": "code",
   "execution_count": 124,
   "id": "0670baf6-cae8-43ca-8ee9-564de75a94da",
   "metadata": {},
   "outputs": [
    {
     "data": {
      "text/plain": [
       "{'name': 'Mayur',\n",
       " 'college': 'PJLCE',\n",
       " 'subject': {'math': 100, 'English': 200, 'DS': 'Outoff'}}"
      ]
     },
     "execution_count": 124,
     "metadata": {},
     "output_type": "execute_result"
    }
   ],
   "source": [
    "d42D"
   ]
  },
  {
   "cell_type": "code",
   "execution_count": 126,
   "id": "abe6a265-c09b-4a4e-8310-eec3d615280e",
   "metadata": {},
   "outputs": [
    {
     "data": {
      "text/plain": [
       "'Outoff'"
      ]
     },
     "execution_count": 126,
     "metadata": {},
     "output_type": "execute_result"
    }
   ],
   "source": [
    "d42D['subject']['DS']   # key value "
   ]
  },
  {
   "cell_type": "code",
   "execution_count": 127,
   "id": "e069fa69-1357-4860-a7d7-62f63cbd9bdb",
   "metadata": {},
   "outputs": [
    {
     "data": {
      "text/plain": [
       "{'name': 'Mayur', 'age': 27, 'gender': 'Male'}"
      ]
     },
     "execution_count": 127,
     "metadata": {},
     "output_type": "execute_result"
    }
   ],
   "source": [
    "dct"
   ]
  },
  {
   "cell_type": "code",
   "execution_count": 128,
   "id": "925300a4-f6ec-4f69-a1ab-3dbaff426a03",
   "metadata": {},
   "outputs": [],
   "source": [
    "# adding the key value pair"
   ]
  },
  {
   "cell_type": "code",
   "execution_count": 129,
   "id": "d5f00ec2-aca6-49f2-b0cb-f39308ba7893",
   "metadata": {},
   "outputs": [],
   "source": [
    "dct['clg']='PJLCE'"
   ]
  },
  {
   "cell_type": "code",
   "execution_count": 130,
   "id": "4a620902-aea3-437d-9285-ee237d4f3b62",
   "metadata": {},
   "outputs": [
    {
     "data": {
      "text/plain": [
       "{'name': 'Mayur', 'age': 27, 'gender': 'Male', 'clg': 'PJLCE'}"
      ]
     },
     "execution_count": 130,
     "metadata": {},
     "output_type": "execute_result"
    }
   ],
   "source": [
    "dct"
   ]
  },
  {
   "cell_type": "code",
   "execution_count": 131,
   "id": "8e018b45-5794-4e92-8938-449946bd961a",
   "metadata": {},
   "outputs": [
    {
     "data": {
      "text/plain": [
       "'PJLCE'"
      ]
     },
     "execution_count": 131,
     "metadata": {},
     "output_type": "execute_result"
    }
   ],
   "source": [
    "dct['clg']"
   ]
  },
  {
   "cell_type": "code",
   "execution_count": 134,
   "id": "10042dd3-0ace-480d-b475-b4e7ffa69a91",
   "metadata": {},
   "outputs": [
    {
     "data": {
      "text/plain": [
       "dict_items([('name', 'Mayur'), ('age', 27), ('gender', 'Male'), ('clg', 'PJLCE')])"
      ]
     },
     "execution_count": 134,
     "metadata": {},
     "output_type": "execute_result"
    }
   ],
   "source": [
    "dct.items()"
   ]
  },
  {
   "cell_type": "code",
   "execution_count": 135,
   "id": "455d30e5-3418-49be-b2d3-e6c00964bd88",
   "metadata": {},
   "outputs": [
    {
     "data": {
      "text/plain": [
       "dict_keys(['name', 'age', 'gender', 'clg'])"
      ]
     },
     "execution_count": 135,
     "metadata": {},
     "output_type": "execute_result"
    }
   ],
   "source": [
    "dct.keys()"
   ]
  },
  {
   "cell_type": "code",
   "execution_count": 136,
   "id": "2ed85995-bb8d-4c71-b8db-3568e7e3b39f",
   "metadata": {},
   "outputs": [
    {
     "data": {
      "text/plain": [
       "dict_values(['Mayur', 27, 'Male', 'PJLCE'])"
      ]
     },
     "execution_count": 136,
     "metadata": {},
     "output_type": "execute_result"
    }
   ],
   "source": [
    "dct.values()"
   ]
  },
  {
   "cell_type": "code",
   "execution_count": 137,
   "id": "8c179c9c-a1fb-4ac3-925b-ac154d1da3ce",
   "metadata": {},
   "outputs": [
    {
     "data": {
      "text/plain": [
       "{'name': 'Mayur', 'age': 27, 'gender': 'Male', 'clg': 'PJLCE'}"
      ]
     },
     "execution_count": 137,
     "metadata": {},
     "output_type": "execute_result"
    }
   ],
   "source": [
    "# DELETING ITEMS FROM THE LIST\n",
    "dct"
   ]
  },
  {
   "cell_type": "code",
   "execution_count": 139,
   "id": "a18fc7c3-65a0-40f4-afa4-0352bb24a9e7",
   "metadata": {},
   "outputs": [
    {
     "data": {
      "text/plain": [
       "27"
      ]
     },
     "execution_count": 139,
     "metadata": {},
     "output_type": "execute_result"
    }
   ],
   "source": [
    "dct.pop('age')  # delete the age key "
   ]
  },
  {
   "cell_type": "code",
   "execution_count": 140,
   "id": "b9a3b931-42cd-4d1f-8442-fd3d53e56cb8",
   "metadata": {},
   "outputs": [
    {
     "data": {
      "text/plain": [
       "{'name': 'Mayur', 'gender': 'Male', 'clg': 'PJLCE'}"
      ]
     },
     "execution_count": 140,
     "metadata": {},
     "output_type": "execute_result"
    }
   ],
   "source": [
    "dct"
   ]
  },
  {
   "cell_type": "code",
   "execution_count": 141,
   "id": "dd1a85c3-5ec9-410d-9c79-873fd6c2a7cd",
   "metadata": {},
   "outputs": [
    {
     "data": {
      "text/plain": [
       "('clg', 'PJLCE')"
      ]
     },
     "execution_count": 141,
     "metadata": {},
     "output_type": "execute_result"
    }
   ],
   "source": [
    "dct.popitem()  # remove the lst item"
   ]
  },
  {
   "cell_type": "code",
   "execution_count": 143,
   "id": "26b68f6e-0695-4b20-bcda-35108045bb88",
   "metadata": {},
   "outputs": [
    {
     "ename": "TypeError",
     "evalue": "dict.popitem() takes no arguments (1 given)",
     "output_type": "error",
     "traceback": [
      "\u001b[1;31m---------------------------------------------------------------------------\u001b[0m",
      "\u001b[1;31mTypeError\u001b[0m                                 Traceback (most recent call last)",
      "Cell \u001b[1;32mIn[143], line 1\u001b[0m\n\u001b[1;32m----> 1\u001b[0m \u001b[43mdct\u001b[49m\u001b[38;5;241;43m.\u001b[39;49m\u001b[43mpopitem\u001b[49m\u001b[43m(\u001b[49m\u001b[38;5;124;43m'\u001b[39;49m\u001b[38;5;124;43mname\u001b[39;49m\u001b[38;5;124;43m'\u001b[39;49m\u001b[43m)\u001b[49m  \u001b[38;5;66;03m# no argument\u001b[39;00m\n",
      "\u001b[1;31mTypeError\u001b[0m: dict.popitem() takes no arguments (1 given)"
     ]
    }
   ],
   "source": [
    "dct.popitem('name')  # no argument"
   ]
  },
  {
   "cell_type": "code",
   "execution_count": 144,
   "id": "37c1baa6-5e10-4e28-ae4b-0d8ad47b66e0",
   "metadata": {},
   "outputs": [
    {
     "data": {
      "text/plain": [
       "{'name': 'Mayur', 'gender': 'Male'}"
      ]
     },
     "execution_count": 144,
     "metadata": {},
     "output_type": "execute_result"
    }
   ],
   "source": [
    "dct"
   ]
  },
  {
   "cell_type": "code",
   "execution_count": 145,
   "id": "217056ef-f1ee-4a3e-93d4-f1fdc04282d2",
   "metadata": {},
   "outputs": [],
   "source": [
    "del dct['name'] # delete the name key and its value from dct"
   ]
  },
  {
   "cell_type": "code",
   "execution_count": 146,
   "id": "5ad60604-3950-4dec-992d-4214e04e353c",
   "metadata": {},
   "outputs": [
    {
     "data": {
      "text/plain": [
       "{'gender': 'Male'}"
      ]
     },
     "execution_count": 146,
     "metadata": {},
     "output_type": "execute_result"
    }
   ],
   "source": [
    "dct"
   ]
  },
  {
   "cell_type": "code",
   "execution_count": 147,
   "id": "7d42feb4-b11a-44a7-bb29-111e49b88af7",
   "metadata": {},
   "outputs": [],
   "source": [
    "dct.clear()  # will clear all the elements from the list "
   ]
  },
  {
   "cell_type": "code",
   "execution_count": 148,
   "id": "cb6dbb77-5be9-4f52-8d1d-5b165881172a",
   "metadata": {},
   "outputs": [
    {
     "data": {
      "text/plain": [
       "{}"
      ]
     },
     "execution_count": 148,
     "metadata": {},
     "output_type": "execute_result"
    }
   ],
   "source": [
    "dct"
   ]
  },
  {
   "cell_type": "code",
   "execution_count": null,
   "id": "fd61c6f4-7001-4420-b4a3-ec40cded6a14",
   "metadata": {},
   "outputs": [],
   "source": [
    "# setdefault()\n",
    "get the value if key is present if key is not present  will create the key and assign the none value to it"
   ]
  },
  {
   "cell_type": "code",
   "execution_count": 149,
   "id": "bf3b31ac-f467-4029-9d34-b966046d1e1c",
   "metadata": {},
   "outputs": [],
   "source": [
    "dct = {'name': 'Mayur', \"age\": 27, 'gender': 'Male'}"
   ]
  },
  {
   "cell_type": "code",
   "execution_count": 150,
   "id": "0eefacf5-21e1-40a5-9e04-02a2a6cc395e",
   "metadata": {},
   "outputs": [
    {
     "data": {
      "text/plain": [
       "'Mayur'"
      ]
     },
     "execution_count": 150,
     "metadata": {},
     "output_type": "execute_result"
    }
   ],
   "source": [
    "dct.setdefault('name')"
   ]
  },
  {
   "cell_type": "code",
   "execution_count": 151,
   "id": "e3ac83dc-7828-4d6c-8f00-e8d622ff9704",
   "metadata": {},
   "outputs": [],
   "source": [
    "dct.setdefault('company')  # kay added with none value"
   ]
  },
  {
   "cell_type": "code",
   "execution_count": 152,
   "id": "a6882d60-444c-43aa-86ea-c3865e4a34df",
   "metadata": {},
   "outputs": [
    {
     "data": {
      "text/plain": [
       "{'name': 'Mayur', 'age': 27, 'gender': 'Male', 'company': None}"
      ]
     },
     "execution_count": 152,
     "metadata": {},
     "output_type": "execute_result"
    }
   ],
   "source": [
    "dct"
   ]
  },
  {
   "cell_type": "code",
   "execution_count": 155,
   "id": "7fcf44a0-0687-49b9-bc7a-012583cc54bc",
   "metadata": {},
   "outputs": [
    {
     "data": {
      "text/plain": [
       "121212"
      ]
     },
     "execution_count": 155,
     "metadata": {},
     "output_type": "execute_result"
    }
   ],
   "source": [
    "dct.setdefault('emp_id',121212) # will add the key and value to the dct"
   ]
  },
  {
   "cell_type": "code",
   "execution_count": 157,
   "id": "6d6c20b2-4c35-45ad-ac1d-b9404cdeec46",
   "metadata": {},
   "outputs": [
    {
     "data": {
      "text/plain": [
       "{'name': 'Mayur',\n",
       " 'age': 27,\n",
       " 'gender': 'Male',\n",
       " 'company': None,\n",
       " 'emp_id': 121212}"
      ]
     },
     "execution_count": 157,
     "metadata": {},
     "output_type": "execute_result"
    }
   ],
   "source": [
    "dct"
   ]
  },
  {
   "cell_type": "code",
   "execution_count": 160,
   "id": "9b6281b1-57a6-45e2-823b-6f7117aa9455",
   "metadata": {},
   "outputs": [],
   "source": [
    "dct.setdefault('company', 'TCS')  # will not update the exzisted key "
   ]
  },
  {
   "cell_type": "code",
   "execution_count": 159,
   "id": "ee9d1c04-de48-4e65-a512-eeb9f2c410f2",
   "metadata": {},
   "outputs": [
    {
     "data": {
      "text/plain": [
       "{'name': 'Mayur',\n",
       " 'age': 27,\n",
       " 'gender': 'Male',\n",
       " 'company': None,\n",
       " 'emp_id': 121212}"
      ]
     },
     "execution_count": 159,
     "metadata": {},
     "output_type": "execute_result"
    }
   ],
   "source": [
    "dct"
   ]
  },
  {
   "cell_type": "code",
   "execution_count": 166,
   "id": "34aa923c-4cdf-4083-afef-980c76afe9d2",
   "metadata": {},
   "outputs": [
    {
     "name": "stdout",
     "output_type": "stream",
     "text": [
      "{'Marathi': 90, 'Hindi': 91, 'English': 93, 'Maths': 95, 'Science': 99}\n"
     ]
    }
   ],
   "source": [
    "marks = [90,91,93,95,99]\n",
    "subject = ['Marathi', 'Hindi', 'English','Maths','Science']\n",
    "dct ={}\n",
    "for i ,key in enumerate(subject):  # will give index and its value as subject\n",
    "    for j in range(len(marks)): # j from 0 to len(marks)\n",
    "        if i==j: # will check index of subject and value of marks\n",
    "            dct[key]=marks[j]  # will create the key and paire value \n",
    "\n",
    "print(dct)"
   ]
  },
  {
   "cell_type": "code",
   "execution_count": 168,
   "id": "7f44036a-9b4d-4057-b523-b8a56480b1cb",
   "metadata": {},
   "outputs": [
    {
     "name": "stdout",
     "output_type": "stream",
     "text": [
      "{'Marathi': 90, 'Hindi': 91, 'English': 93, 'Maths': 95, 'Science': 99}\n"
     ]
    }
   ],
   "source": [
    "# using update function()\n",
    "dct1 = {}\n",
    "for i, key in enumerate(subject):\n",
    "    dct1.update({key:marks[i]})\n",
    "\n",
    "print(dct1)"
   ]
  },
  {
   "cell_type": "code",
   "execution_count": null,
   "id": "75557122-653b-44d3-bbef-15dbcd49d228",
   "metadata": {},
   "outputs": [],
   "source": [
    "# using zip()"
   ]
  },
  {
   "cell_type": "code",
   "execution_count": 169,
   "id": "6f89f823-a0c9-41bf-bf61-b6d0ac8669ba",
   "metadata": {},
   "outputs": [
    {
     "data": {
      "text/plain": [
       "{'Marathi': 90, 'Hindi': 91, 'English': 93, 'Maths': 95, 'Science': 99}"
      ]
     },
     "execution_count": 169,
     "metadata": {},
     "output_type": "execute_result"
    }
   ],
   "source": [
    "dict(zip(subject,marks))  "
   ]
  },
  {
   "cell_type": "code",
   "execution_count": 173,
   "id": "75eeca32-2e91-4b4f-89cf-4d94056325ce",
   "metadata": {},
   "outputs": [
    {
     "name": "stdout",
     "output_type": "stream",
     "text": [
      "{'the': 2, 'quantities': 1, 'characters': 1, 'or': 7, 'symbols': 1, 'on': 3, 'which': 2, 'operations': 1, 'are': 1, 'performed': 1, 'by': 1, 'a': 19, 'computer': 1, 'may': 1, 'be': 1, 'stored': 1, 'and': 2, 'transmitted': 1, 'in': 2, 'form': 2, 'of': 1, 'electrical': 1, 'signals': 1, 'recorded': 1, 'magnetic': 1, 'optical': 1, 'mechanical9': 1, 'mechanical': 2, 'recording': 1, 'media': 1}\n"
     ]
    }
   ],
   "source": [
    "string = '''the quantities, characters, or symbols on which operations are performed by a computer, which may be stored and transmitted in the form \n",
    "of electrical signals and recorded on magnetic, optical, or mechanical9 mechanical recording media.'''\n",
    "\n",
    "count = {}\n",
    "for i in string.split():\n",
    "    if i.isalpha():\n",
    "        count[i]=string.count(i)\n",
    "    elif i.isalnum():\n",
    "        count[i]=string.count(i)\n",
    "    else:\n",
    "        i = i[:-1]\n",
    "        count[i]=string.count(i)\n",
    "print(count)"
   ]
  },
  {
   "cell_type": "code",
   "execution_count": 177,
   "id": "6c7ddc4f-0c21-497f-ab7d-06e1c19cac5e",
   "metadata": {},
   "outputs": [
    {
     "data": {
      "text/plain": [
       "Counter({'the': 2,\n",
       "         'or': 2,\n",
       "         'on': 2,\n",
       "         'which': 2,\n",
       "         'and': 2,\n",
       "         'quantities,': 1,\n",
       "         'characters,': 1,\n",
       "         'symbols': 1,\n",
       "         'operations': 1,\n",
       "         'are': 1,\n",
       "         'performed': 1,\n",
       "         'by': 1,\n",
       "         'a': 1,\n",
       "         'computer,': 1,\n",
       "         'may': 1,\n",
       "         'be': 1,\n",
       "         'stored': 1,\n",
       "         'transmitted': 1,\n",
       "         'in': 1,\n",
       "         'form': 1,\n",
       "         'of': 1,\n",
       "         'electrical': 1,\n",
       "         'signals': 1,\n",
       "         'recorded': 1,\n",
       "         'magnetic,': 1,\n",
       "         'optical,': 1,\n",
       "         'mechanical9': 1,\n",
       "         'mechanical': 1,\n",
       "         'recording': 1,\n",
       "         'media.': 1})"
      ]
     },
     "execution_count": 177,
     "metadata": {},
     "output_type": "execute_result"
    }
   ],
   "source": [
    "from collections import Counter\n",
    "Counter(string.split())"
   ]
  },
  {
   "cell_type": "code",
   "execution_count": 178,
   "id": "266c00eb-3fcb-4cd0-b121-091646d9c31f",
   "metadata": {},
   "outputs": [],
   "source": [
    "Sub = {'Marathi': 90, 'Hindi': 91, 'English': 93, 'Maths': 95, 'Science': 99}"
   ]
  },
  {
   "cell_type": "code",
   "execution_count": 180,
   "id": "227fefbe-58a6-447f-ae37-a6bc90170fed",
   "metadata": {},
   "outputs": [
    {
     "data": {
      "text/plain": [
       "['English', 'Hindi', 'Marathi', 'Maths', 'Science']"
      ]
     },
     "execution_count": 180,
     "metadata": {},
     "output_type": "execute_result"
    }
   ],
   "source": [
    "sorted(Sub)  # only sort the key want to sort teh key and values"
   ]
  },
  {
   "cell_type": "code",
   "execution_count": 182,
   "id": "2b463c74-5018-419d-860a-57235113772c",
   "metadata": {},
   "outputs": [
    {
     "data": {
      "text/plain": [
       "{'English': 93, 'Hindi': 91, 'Marathi': 90, 'Maths': 95, 'Science': 99}"
      ]
     },
     "execution_count": 182,
     "metadata": {},
     "output_type": "execute_result"
    }
   ],
   "source": [
    "sorted_dct = {}\n",
    "for key in sorted(Sub):\n",
    "    sorted_dct[key]=Sub[key]  # will take the sorted key and its corresponding values from the Sub dict\n",
    "\n",
    "sorted_dct"
   ]
  },
  {
   "cell_type": "code",
   "execution_count": 183,
   "id": "c29eb524-049b-4471-8b7f-48245b40c38d",
   "metadata": {},
   "outputs": [
    {
     "data": {
      "text/plain": [
       "[('English', 93),\n",
       " ('Hindi', 91),\n",
       " ('Marathi', 90),\n",
       " ('Maths', 95),\n",
       " ('Science', 99)]"
      ]
     },
     "execution_count": 183,
     "metadata": {},
     "output_type": "execute_result"
    }
   ],
   "source": [
    "sorted(Sub.items())"
   ]
  },
  {
   "cell_type": "code",
   "execution_count": 184,
   "id": "601f7360-8283-49f6-a92e-2ea082ce0a2c",
   "metadata": {},
   "outputs": [
    {
     "data": {
      "text/plain": [
       "{'English': 93, 'Hindi': 91, 'Marathi': 90, 'Maths': 95, 'Science': 99}"
      ]
     },
     "execution_count": 184,
     "metadata": {},
     "output_type": "execute_result"
    }
   ],
   "source": [
    "dict(sorted(Sub.items()))"
   ]
  },
  {
   "cell_type": "code",
   "execution_count": 185,
   "id": "7124be26-f2b0-42fc-b810-85d956b2a3be",
   "metadata": {},
   "outputs": [],
   "source": [
    "# change the keys to value and values to key"
   ]
  },
  {
   "cell_type": "code",
   "execution_count": 186,
   "id": "6ff04abf-1bba-407b-bf92-f35e74b1ce5b",
   "metadata": {},
   "outputs": [
    {
     "data": {
      "text/plain": [
       "{90: 'Marathi', 91: 'Hindi', 93: 'English', 95: 'Maths', 99: 'Science'}"
      ]
     },
     "execution_count": 186,
     "metadata": {},
     "output_type": "execute_result"
    }
   ],
   "source": [
    "temp_dct = {}\n",
    "for key, values in Sub.items():\n",
    "    temp_dct[values]=key\n",
    "\n",
    "temp_dct"
   ]
  },
  {
   "cell_type": "code",
   "execution_count": 188,
   "id": "9413a836-eec3-4735-8c13-8d20cd908c4e",
   "metadata": {},
   "outputs": [
    {
     "data": {
      "text/plain": [
       "{90: 'Marathi', 91: 'Hindi', 93: 'English', 95: 'Maths', 99: 'Science'}"
      ]
     },
     "execution_count": 188,
     "metadata": {},
     "output_type": "execute_result"
    }
   ],
   "source": [
    "dict(sorted(temp_dct.items()))"
   ]
  },
  {
   "cell_type": "code",
   "execution_count": 189,
   "id": "8a13087a-57ed-4ffe-9b70-ba85a42903e7",
   "metadata": {},
   "outputs": [],
   "source": [
    "temp2 = {}\n",
    "for key in sorted(temp_dct):\n",
    "    temp2[key] = temp_dct[key]"
   ]
  },
  {
   "cell_type": "code",
   "execution_count": 190,
   "id": "9878452d-2292-4d79-8e12-015f594ea58f",
   "metadata": {},
   "outputs": [
    {
     "data": {
      "text/plain": [
       "{90: 'Marathi', 91: 'Hindi', 93: 'English', 95: 'Maths', 99: 'Science'}"
      ]
     },
     "execution_count": 190,
     "metadata": {},
     "output_type": "execute_result"
    }
   ],
   "source": [
    "temp2"
   ]
  },
  {
   "cell_type": "code",
   "execution_count": 191,
   "id": "a894c39c-be1e-446d-8b05-21f73bdaad4f",
   "metadata": {},
   "outputs": [],
   "source": [
    "# fromkeys() this function is used to create the key of dict and assign the none value to all keys"
   ]
  },
  {
   "cell_type": "code",
   "execution_count": 192,
   "id": "57d7bb18-0ab4-4535-b01e-95034bd13d3b",
   "metadata": {},
   "outputs": [],
   "source": [
    "lst = ['a','e','i','o','u']"
   ]
  },
  {
   "cell_type": "code",
   "execution_count": 193,
   "id": "25d2174b-deb9-4988-99e9-7c57e141ea98",
   "metadata": {},
   "outputs": [
    {
     "data": {
      "text/plain": [
       "{'a': None, 'e': None, 'i': None, 'o': None, 'u': None}"
      ]
     },
     "execution_count": 193,
     "metadata": {},
     "output_type": "execute_result"
    }
   ],
   "source": [
    "dict.fromkeys(lst)"
   ]
  },
  {
   "cell_type": "code",
   "execution_count": 194,
   "id": "ce825b3f-f01b-4509-917a-157d36c62b27",
   "metadata": {},
   "outputs": [],
   "source": [
    "# Task"
   ]
  },
  {
   "cell_type": "code",
   "execution_count": 197,
   "id": "7472cbe5-8abb-4540-b8d0-93318ca6a3df",
   "metadata": {},
   "outputs": [
    {
     "name": "stdout",
     "output_type": "stream",
     "text": [
      "1\n",
      "121\n",
      "12321\n",
      "1234321\n",
      "123454321\n"
     ]
    }
   ],
   "source": [
    "for i in range(1,6):\n",
    "    for j in range(1,i+1):\n",
    "        print(j, end='')\n",
    "    for k in range(i-1,0,-1):\n",
    "        print(k,end='')\n",
    "    print()"
   ]
  },
  {
   "cell_type": "code",
   "execution_count": 201,
   "id": "057a34ed-793a-4681-a851-6f631aaf94ed",
   "metadata": {},
   "outputs": [
    {
     "data": {
      "text/plain": [
       "[(5, 6, 7, 8), (6, 10), (7, 13)]"
      ]
     },
     "execution_count": 201,
     "metadata": {},
     "output_type": "execute_result"
    }
   ],
   "source": [
    "test_list = [(5, 6), (5, 7), (5, 8), (6, 10), (7, 13)]\n",
    "\n",
    "def merge_similar_tuple(test_list):\n",
    "    temp=[]\n",
    "    result=[]\n",
    "    sorted_list = sorted(test_list)\n",
    "\n",
    "    for current in sorted_list:\n",
    "        if not temp:\n",
    "            temp.extend(current)\n",
    "        elif current[0]==temp[0]:\n",
    "            temp.append(current[1])\n",
    "        else:\n",
    "            result.append(tuple(temp))\n",
    "            temp = list(current)\n",
    "\n",
    "    if temp:\n",
    "        result.append(tuple(temp))\n",
    "\n",
    "    return result\n",
    "\n",
    "merge_similar_tuple(test_list)"
   ]
  },
  {
   "cell_type": "code",
   "execution_count": 208,
   "id": "ba2eaeb5-aa6a-4616-a8e0-3e2764695f81",
   "metadata": {},
   "outputs": [
    {
     "data": {
      "text/plain": [
       "[5, 40, 91, 136, 80]"
      ]
     },
     "execution_count": 208,
     "metadata": {},
     "output_type": "execute_result"
    }
   ],
   "source": [
    "# addition by multiplying current term with first and current ternm with the next term \n",
    "tpl = (1, 5, 7, 8, 10)\n",
    "result =[]\n",
    "\n",
    "result.append(tpl[0]*tpl[1])\n",
    "\n",
    "for i in range(1,len(tpl)-1):  \n",
    "    result.append(tpl[i-1]*tpl[i] + tpl[i]*tpl[i+1])\n",
    "\n",
    "result.append(tpl[-1]*tpl[-2])\n",
    "result"
   ]
  },
  {
   "cell_type": "code",
   "execution_count": 209,
   "id": "383ed395-610f-4d7c-b922-4de296316ac8",
   "metadata": {},
   "outputs": [
    {
     "data": {
      "text/plain": [
       "False"
      ]
     },
     "execution_count": 209,
     "metadata": {},
     "output_type": "execute_result"
    }
   ],
   "source": [
    "t1 = (1,2,3,0)\n",
    "t2 = (0,1,2,3)\n",
    "\n",
    "t1==t2"
   ]
  },
  {
   "cell_type": "code",
   "execution_count": 210,
   "id": "91ee0b36-63fa-4266-b445-4a43045435e4",
   "metadata": {},
   "outputs": [
    {
     "name": "stdout",
     "output_type": "stream",
     "text": [
      "Number of unique vowels:  6\n"
     ]
    }
   ],
   "source": [
    "# cout the unuique number pf vowels\n",
    "Str1 = \"hands-on data science mentorship progrAm with live classes at affordable fee only on CampusX\"\n",
    "\n",
    "vowels = ['A', 'E', 'I', 'O', 'U', 'a', 'e', 'i', 'o', 'u']\n",
    "unique = set()\n",
    "for i in Str1:\n",
    "    if i in vowels:\n",
    "        unique.add(i)\n",
    "\n",
    "print(f'Number of unique vowels: ', len(unique))"
   ]
  },
  {
   "cell_type": "code",
   "execution_count": 212,
   "id": "91f13348-bff9-4f5e-abc6-09183488a3ef",
   "metadata": {},
   "outputs": [
    {
     "name": "stdin",
     "output_type": "stream",
     "text": [
      "Enter the String to check:  123456\n"
     ]
    },
    {
     "name": "stdout",
     "output_type": "stream",
     "text": [
      "Not Binary\n"
     ]
    }
   ],
   "source": [
    "# check for binary string\n",
    "str1 = input(\"Enter the String to check: \")\n",
    "binary_test = set()\n",
    "for i in str1:\n",
    "    binary_test.add(i)\n",
    "\n",
    "if len(binary_test)==2:\n",
    "    print('It is a binary')\n",
    "\n",
    "else:\n",
    "    print('Not Binary')"
   ]
  },
  {
   "cell_type": "code",
   "execution_count": 214,
   "id": "451848af-1fce-4724-bad9-b4acb13d5fb5",
   "metadata": {},
   "outputs": [
    {
     "name": "stdout",
     "output_type": "stream",
     "text": [
      "union of above sublist is :{1, 2, 3, 4, 5, 6, 7, 9}\n"
     ]
    }
   ],
   "source": [
    "lst = [[1, 2, 2, 4, 3, 6],\n",
    " [5, 1, 3, 4],\n",
    " [9, 5, 7, 1],\n",
    " [2, 4, 1, 3]]\n",
    "\n",
    "union = set()\n",
    "for i in lst:\n",
    "    for j in i:\n",
    "        union.add(j)\n",
    "\n",
    "print(f'union of above sublist is :{union}')"
   ]
  },
  {
   "cell_type": "code",
   "execution_count": 216,
   "id": "d1b50928-9706-46a2-8311-458f70bee196",
   "metadata": {},
   "outputs": [
    {
     "data": {
      "text/plain": [
       "[9, 10, 5, 4, 9]"
      ]
     },
     "execution_count": 216,
     "metadata": {},
     "output_type": "execute_result"
    }
   ],
   "source": [
    "lst1 = [15, 9, 10, 56, 23, 78, 5, 4, 9]\n",
    "lst2 = [9, 4, 5, 36, 47, 26, 10, 45, 87]\n",
    "[i for i in lst1 if i in lst2]  # list comprehensions"
   ]
  },
  {
   "cell_type": "code",
   "execution_count": 2,
   "id": "a75175c2-f25d-4dd0-a186-925d4ac6bb91",
   "metadata": {},
   "outputs": [
    {
     "name": "stdout",
     "output_type": "stream",
     "text": [
      "CampusX\n"
     ]
    }
   ],
   "source": [
    "# key with maximum unique value\n",
    "test_dict = {\"CampusX\" : [5, 7, 9, 4, 0], \"is\" : [6, 7, 4, 3, 3], \"Best\" : [9, 9, 6, 5, 5]}\n",
    "max_len = 0\n",
    "max_key = None\n",
    "for key, value in test_dict.items():\n",
    "    length = len(set(value))\n",
    "    if length > max_len:\n",
    "        max_len = length\n",
    "        max_key = key\n",
    "\n",
    "print(max_key)"
   ]
  },
  {
   "cell_type": "code",
   "execution_count": 5,
   "id": "72cafc15-9a0e-4976-9b84-36e810f0ed90",
   "metadata": {},
   "outputs": [
    {
     "name": "stdout",
     "output_type": "stream",
     "text": [
      "CampusX is the best channel for Data-Science students.\n"
     ]
    }
   ],
   "source": [
    "# Replace words from Dictionary. Given String, replace it’s words from lookup dictionary\n",
    "test_str = 'CampusX best for DS students.'\n",
    "repl_dict = {\"best\": \"is the best channel\", \"DS\": \"Data-Science\"}\n",
    "\n",
    "for  key , value in repl_dict.items():\n",
    "    test_str = test_str.replace(key, value)\n",
    "\n",
    "print(test_str)\n",
    "    "
   ]
  },
  {
   "cell_type": "code",
   "execution_count": 7,
   "id": "3a4a3791-9186-4f71-acf2-7d2ab32ff5d7",
   "metadata": {},
   "outputs": [
    {
     "name": "stdout",
     "output_type": "stream",
     "text": [
      "[{'name': 'DataScience', 'id': 3}, {'name': 'is', 'id': 8}]\n"
     ]
    }
   ],
   "source": [
    "test_list = [\"DataScience\", 3, \"is\", 8]\n",
    "key_list = [\"name\", \"id\"]\n",
    "output = []\n",
    "for i in range(0, len(test_list),len(key_list)):\n",
    "    item_dct = dict(zip(key_list,test_list[i:i+len(key_list)]))\n",
    "\n",
    "    output.append(item_dct)\n",
    "\n",
    "print(output)"
   ]
  },
  {
   "cell_type": "code",
   "execution_count": 9,
   "id": "bc7378a2-7935-40d6-b683-37df4c574f49",
   "metadata": {},
   "outputs": [
    {
     "name": "stdout",
     "output_type": "stream",
     "text": [
      "{'akash': 10, 'gaurav': 12, 'anand': 14, 'suraj': 20, 'akhil': 25, 'ashish': 30}\n"
     ]
    }
   ],
   "source": [
    "# list of tuple to dict\n",
    "lst = [(\"akash\", 10), (\"gaurav\", 12), (\"anand\", 14), (\"suraj\", 20), (\"akhil\", 25), (\"ashish\", 30)]\n",
    "print(dict(lst))"
   ]
  },
  {
   "cell_type": "code",
   "execution_count": 12,
   "id": "7e546fda-4ac2-4554-9af4-f0866c86ebf5",
   "metadata": {},
   "outputs": [
    {
     "name": "stdout",
     "output_type": "stream",
     "text": [
      "{'a': [4, 19], 'b': [10, 12], 'c': [3]}\n"
     ]
    }
   ],
   "source": [
    "# short the dictionary key and values\n",
    "input_dict = {'c': [3], 'b': [12, 10], 'a': [19, 4]}\n",
    "sorted_keys = sorted(input_dict)\n",
    "result = {}\n",
    "for key in sorted_dct:\n",
    "    result[key] = sorted(input_dict[key])\n",
    "\n",
    "print(result)"
   ]
  },
  {
   "cell_type": "code",
   "execution_count": null,
   "id": "764f80e9-49f9-4011-9fa1-23ab53ee5c4c",
   "metadata": {},
   "outputs": [],
   "source": []
  }
 ],
 "metadata": {
  "kernelspec": {
   "display_name": "Python 3 (ipykernel)",
   "language": "python",
   "name": "python3"
  },
  "language_info": {
   "codemirror_mode": {
    "name": "ipython",
    "version": 3
   },
   "file_extension": ".py",
   "mimetype": "text/x-python",
   "name": "python",
   "nbconvert_exporter": "python",
   "pygments_lexer": "ipython3",
   "version": "3.12.5"
  }
 },
 "nbformat": 4,
 "nbformat_minor": 5
}
