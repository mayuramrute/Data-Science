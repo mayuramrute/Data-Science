{
 "cells": [
  {
   "cell_type": "markdown",
   "id": "afd0eaea-2873-4311-a549-613d048d17db",
   "metadata": {},
   "source": [
    "# Column Transformer "
   ]
  },
  {
   "cell_type": "raw",
   "id": "ada2aefd-e34c-45f9-ae63-6df685169738",
   "metadata": {},
   "source": [
    "A ColumnTransformer in machine learning is a utility in the sklearn library that allows you to apply different transformations to different subsets of columns in a dataset. It is particularly useful when you have mixed data types (e.g., numerical, categorical, or text features) and need to preprocess them separately. The ColumnTransformer makes it easier to handle such data by allowing you to specify which transformations should be applied to which columns.\n",
    "\n",
    "Here's a breakdown of how it works:\n",
    "Key Features:\n",
    "1. Different Transformations for Different Columns: You can apply different preprocessing steps for different columns (e.g., normalization for numerical data, encoding for categorical data).\n",
    "\n",
    "2. Efficient Handling of Multiple Column Types: Useful when your dataset has columns of mixed types (numeric, categorical, etc.).\n",
    "\n",
    "3. Works Well with Pipelines: It integrates seamlessly with Pipeline objects in sklearn, allowing for more complex workflows."
   ]
  },
  {
   "cell_type": "code",
   "execution_count": null,
   "id": "53be3989-4133-45c2-ae5a-7830ee996ec8",
   "metadata": {},
   "outputs": [],
   "source": [
    "from sklearn.compose import ColumnTransformer\n",
    "from sklearn.preprocessing import StandardScaler, OneHotEncoder\n",
    "from sklearn.impute import SimpleImputer\n",
    "from sklearn.pipeline import Pipeline\n",
    "\n",
    "# Sample dataset with numerical and categorical columns\n",
    "numerical_features = ['age', 'income']\n",
    "categorical_features = ['gender', 'city']\n",
    "\n",
    "# Define transformations\n",
    "preprocessor = ColumnTransformer(\n",
    "    transformers=[\n",
    "        ('num', StandardScaler(), numerical_features),  # Apply StandardScaler to numerical features\n",
    "        ('cat', OneHotEncoder(), categorical_features)   # Apply OneHotEncoder to categorical features\n",
    "    ])\n",
    "\n",
    "# Example with a machine learning pipeline (e.g., a random forest classifier)\n",
    "model_pipeline = Pipeline(steps=[\n",
    "    ('preprocessor', preprocessor),  # Preprocessing step\n",
    "    ('classifier', RandomForestClassifier())  # Your classifier here\n",
    "])\n",
    "\n",
    "# Fit and transform the data\n",
    "X_transformed = preprocessor.fit_transform(X)  # X is your input data\n"
   ]
  },
  {
   "cell_type": "raw",
   "id": "ed975163-26cb-450e-87b9-97755d31a0fd",
   "metadata": {},
   "source": [
    "Common Use Case:\n",
    "If you have a dataset with both numerical and categorical columns, and you want to scale the numerical features and one-hot encode the categorical ones, the ColumnTransformer makes it straightforward to apply different transformations to different parts of your data."
   ]
  },
  {
   "cell_type": "markdown",
   "id": "64ea028d-0efe-4f14-985e-1b5b2cd38b50",
   "metadata": {},
   "source": [
    "# ONE HOT ENCODING "
   ]
  },
  {
   "cell_type": "raw",
   "id": "02ab7775-6ebe-4f93-b8f7-84c391e7c246",
   "metadata": {},
   "source": [
    "One-Hot Encoding is a technique used to convert categorical variables into a numerical format, allowing machine learning algorithms to better process them. Categorical variables represent types or groups (like colors, countries, or categories) that need to be transformed into numbers for models to handle them, since most machine learning models work with numerical data.\n",
    "\n",
    "One-hot encoding creates a new binary column (0 or 1) for each category/level in the original categorical variable. If an observation (row) belongs to a certain category, the corresponding column is marked with 1; otherwise, it's marked with 0."
   ]
  }
 ],
 "metadata": {
  "kernelspec": {
   "display_name": "Python 3 (ipykernel)",
   "language": "python",
   "name": "python3"
  },
  "language_info": {
   "codemirror_mode": {
    "name": "ipython",
    "version": 3
   },
   "file_extension": ".py",
   "mimetype": "text/x-python",
   "name": "python",
   "nbconvert_exporter": "python",
   "pygments_lexer": "ipython3",
   "version": "3.12.5"
  }
 },
 "nbformat": 4,
 "nbformat_minor": 5
}
