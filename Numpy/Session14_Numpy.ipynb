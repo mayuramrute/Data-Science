{
 "cells": [
  {
   "cell_type": "markdown",
   "id": "e846710e-2b02-4b9a-9545-8c3140ee4c59",
   "metadata": {},
   "source": [
    "# Numpy Array Vs python List"
   ]
  },
  {
   "cell_type": "markdown",
   "id": "5a5b494f-eadb-4101-8e5c-3dd56ad7c879",
   "metadata": {},
   "source": [
    "# Speed "
   ]
  },
  {
   "cell_type": "code",
   "execution_count": 1,
   "id": "46b312c4-2eb8-4e32-b5e2-ddb2a3bb1650",
   "metadata": {},
   "outputs": [
    {
     "name": "stdout",
     "output_type": "stream",
     "text": [
      "5.36198353767395\n"
     ]
    }
   ],
   "source": [
    "import time\n",
    "\n",
    "a = [i for i in range(10000000)]\n",
    "b = [i for i in range(10000000, 20000000)]\n",
    "\n",
    "c= []\n",
    "\n",
    "start = time.time()\n",
    "for i in range(len(a)):\n",
    "    c.append(a[i]+b[i])\n",
    "print(time.time()-start)"
   ]
  },
  {
   "cell_type": "code",
   "execution_count": 2,
   "id": "39a587af-637c-4975-8087-ee4a6b04db9e",
   "metadata": {},
   "outputs": [
    {
     "name": "stdout",
     "output_type": "stream",
     "text": [
      "0.44252848625183105\n"
     ]
    }
   ],
   "source": [
    "import numpy as np\n",
    "\n",
    "a = np.arange(10000000)\n",
    "b = np.arange(10000000, 20000000)\n",
    "\n",
    "start = time.time()\n",
    "\n",
    "c=a+b\n",
    "\n",
    "print(time.time()-start)"
   ]
  },
  {
   "cell_type": "code",
   "execution_count": 11,
   "id": "d17af77e-c6a5-4991-9fe9-e95162615295",
   "metadata": {},
   "outputs": [
    {
     "data": {
      "text/plain": [
       "[1, 2, 3, 4, 5, 6, 6, 7, 8, 9]"
      ]
     },
     "execution_count": 11,
     "metadata": {},
     "output_type": "execute_result"
    }
   ],
   "source": [
    "a = [1,2,3,4,5]\n",
    "b = [6,6,7,8,9]\n",
    "c = a+b # this concatinate the two list\n",
    "c"
   ]
  },
  {
   "cell_type": "code",
   "execution_count": 15,
   "id": "aa2954fa-6cbf-458f-bf6e-979f41638663",
   "metadata": {},
   "outputs": [
    {
     "data": {
      "text/plain": [
       "array([ 7,  9, 11, 13, 15])"
      ]
     },
     "execution_count": 15,
     "metadata": {},
     "output_type": "execute_result"
    }
   ],
   "source": [
    "a=np.arange(1,6)\n",
    "b=np.arange(6,11)\n",
    "c=a+b # np will add the two list element by elements in c variable as a list \n",
    "c"
   ]
  },
  {
   "cell_type": "code",
   "execution_count": 18,
   "id": "421d0594-f19c-4296-8ce5-7ed95d1aafa7",
   "metadata": {},
   "outputs": [],
   "source": [
    "# SAPCE occupied in memory"
   ]
  },
  {
   "cell_type": "code",
   "execution_count": 20,
   "id": "a0793da1-f832-4573-8faa-d58a82b7586a",
   "metadata": {},
   "outputs": [
    {
     "data": {
      "text/plain": [
       "89095160"
      ]
     },
     "execution_count": 20,
     "metadata": {},
     "output_type": "execute_result"
    }
   ],
   "source": [
    "import sys\n",
    "a = [i for i in range(10000000)]\n",
    "\n",
    "sys.getsizeof(a)"
   ]
  },
  {
   "cell_type": "code",
   "execution_count": 23,
   "id": "395b8b40-d770-466b-8237-fc29df75618f",
   "metadata": {},
   "outputs": [
    {
     "data": {
      "text/plain": [
       "40000112"
      ]
     },
     "execution_count": 23,
     "metadata": {},
     "output_type": "execute_result"
    }
   ],
   "source": [
    "a = np.arange(10000000, dtype=np.int32)\n",
    "sys.getsizeof(a)"
   ]
  },
  {
   "cell_type": "markdown",
   "id": "a0b6e429-c9a8-473f-a152-edc99f596978",
   "metadata": {},
   "source": [
    "# Fancy Indexing"
   ]
  },
  {
   "cell_type": "code",
   "execution_count": 5,
   "id": "7af9ed09-6a28-45a5-8ef1-7c3e3b88f7e7",
   "metadata": {},
   "outputs": [
    {
     "data": {
      "text/plain": [
       "array([[ 0,  1,  2,  3],\n",
       "       [ 4,  5,  6,  7],\n",
       "       [ 8,  9, 10, 11],\n",
       "       [12, 13, 14, 15],\n",
       "       [16, 17, 18, 19],\n",
       "       [20, 21, 22, 23]])"
      ]
     },
     "execution_count": 5,
     "metadata": {},
     "output_type": "execute_result"
    }
   ],
   "source": [
    "a = np.arange(24).reshape(6,4)\n",
    "a"
   ]
  },
  {
   "cell_type": "code",
   "execution_count": 27,
   "id": "22ce167e-9254-4adb-8f6a-a098278cbd72",
   "metadata": {},
   "outputs": [
    {
     "name": "stdout",
     "output_type": "stream",
     "text": [
      "5\n"
     ]
    }
   ],
   "source": [
    "# normal inexing\n",
    "print(a[1,1])"
   ]
  },
  {
   "cell_type": "code",
   "execution_count": 28,
   "id": "06b8692b-8ab0-44ea-b07b-f271695e723c",
   "metadata": {},
   "outputs": [
    {
     "name": "stdout",
     "output_type": "stream",
     "text": [
      "[[ 0  1  2]\n",
      " [ 4  5  6]\n",
      " [ 8  9 10]]\n"
     ]
    }
   ],
   "source": [
    "print(a[0:3,0:3])"
   ]
  },
  {
   "cell_type": "code",
   "execution_count": 29,
   "id": "e2bc7180-a38d-4b60-8383-c1889685f7c6",
   "metadata": {},
   "outputs": [
    {
     "name": "stdout",
     "output_type": "stream",
     "text": [
      "[[13 14 15]\n",
      " [17 18 19]\n",
      " [21 22 23]]\n"
     ]
    }
   ],
   "source": [
    "print(a[-3:,-3:])"
   ]
  },
  {
   "cell_type": "markdown",
   "id": "1cad4ffe-f46e-48c8-b1d3-4ac1622becdc",
   "metadata": {},
   "source": [
    "Fancy Indexing"
   ]
  },
  {
   "cell_type": "code",
   "execution_count": 30,
   "id": "dddb6cab-0f25-4449-8c4b-f7cb20e85ed7",
   "metadata": {},
   "outputs": [],
   "source": [
    "# fancy indexing is used when drawning the desired data is not opossible with the normanl indexing as their is no sequence \n",
    "# and rule follows"
   ]
  },
  {
   "cell_type": "code",
   "execution_count": 31,
   "id": "783ec072-67d0-42e4-a01c-18db9e4dd89f",
   "metadata": {},
   "outputs": [
    {
     "data": {
      "text/plain": [
       "array([[ 0,  1,  2,  3],\n",
       "       [ 4,  5,  6,  7],\n",
       "       [ 8,  9, 10, 11],\n",
       "       [12, 13, 14, 15],\n",
       "       [16, 17, 18, 19],\n",
       "       [20, 21, 22, 23]])"
      ]
     },
     "execution_count": 31,
     "metadata": {},
     "output_type": "execute_result"
    }
   ],
   "source": [
    "# draw the col num 0 2 3 including all rows "
   ]
  },
  {
   "cell_type": "code",
   "execution_count": 34,
   "id": "d2a22253-5b3d-44a3-9095-555542ba5fd7",
   "metadata": {},
   "outputs": [
    {
     "data": {
      "text/plain": [
       "array([[ 0,  2,  3],\n",
       "       [ 4,  6,  7],\n",
       "       [ 8, 10, 11],\n",
       "       [12, 14, 15],\n",
       "       [16, 18, 19],\n",
       "       [20, 22, 23]])"
      ]
     },
     "execution_count": 34,
     "metadata": {},
     "output_type": "execute_result"
    }
   ],
   "source": [
    "a[:,[0,2,3]] # fancy indexing "
   ]
  },
  {
   "cell_type": "code",
   "execution_count": 7,
   "id": "aa45c143-f0e7-4f72-99a5-c38096ccfad9",
   "metadata": {},
   "outputs": [
    {
     "data": {
      "text/plain": [
       "array([[ 2,  3],\n",
       "       [10, 11],\n",
       "       [14, 15],\n",
       "       [22, 23]])"
      ]
     },
     "execution_count": 7,
     "metadata": {},
     "output_type": "execute_result"
    }
   ],
   "source": [
    "a[[0,2,3,5],2:4] #fancy indexing  we can use only square bracket in fancy indexing "
   ]
  },
  {
   "cell_type": "markdown",
   "id": "b6c6c7e3-f6dd-40f3-99ad-d7e4e0407622",
   "metadata": {},
   "source": [
    "## Boolean Indexing here use bitwise operators to give conditions"
   ]
  },
  {
   "cell_type": "code",
   "execution_count": 49,
   "id": "b38861f1-7543-4435-aa55-2ab9d4802e88",
   "metadata": {},
   "outputs": [
    {
     "data": {
      "text/plain": [
       "array([[85, 12, 71, 42],\n",
       "       [18, 32, 21, 88],\n",
       "       [61, 44, 97, 37],\n",
       "       [93, 54, 89, 46],\n",
       "       [44, 46, 20, 12],\n",
       "       [64, 56, 43, 87]], dtype=int32)"
      ]
     },
     "execution_count": 49,
     "metadata": {},
     "output_type": "execute_result"
    }
   ],
   "source": [
    "ran = np.random.randint(10, 100, 24).reshape(6,4)\n",
    "ran"
   ]
  },
  {
   "cell_type": "code",
   "execution_count": 53,
   "id": "3a3457b2-5e44-43cf-98ba-95f3fff5d6fe",
   "metadata": {},
   "outputs": [
    {
     "data": {
      "text/plain": [
       "array([[ True, False,  True,  True],\n",
       "       [False,  True,  True,  True],\n",
       "       [ True,  True,  True,  True],\n",
       "       [ True,  True,  True,  True],\n",
       "       [ True,  True, False, False],\n",
       "       [ True,  True,  True,  True]])"
      ]
     },
     "execution_count": 53,
     "metadata": {},
     "output_type": "execute_result"
    }
   ],
   "source": [
    "ran>20   # this gives the boolean form of array matrix where true for all  > 20 and false for less than 20"
   ]
  },
  {
   "cell_type": "code",
   "execution_count": 55,
   "id": "712e99cc-9a07-4e01-8dc1-e8066cb10fab",
   "metadata": {},
   "outputs": [
    {
     "data": {
      "text/plain": [
       "array([85, 71, 42, 32, 21, 88, 61, 44, 97, 37, 93, 54, 89, 46, 44, 46, 64,\n",
       "       56, 43, 87], dtype=int32)"
      ]
     },
     "execution_count": 55,
     "metadata": {},
     "output_type": "execute_result"
    }
   ],
   "source": [
    "ran[ran>20] # this operation gives the list of all elemens in array > than 20"
   ]
  },
  {
   "cell_type": "code",
   "execution_count": 57,
   "id": "cdf14ab2-0694-494e-a08a-41d755447d5d",
   "metadata": {},
   "outputs": [
    {
     "data": {
      "text/plain": [
       "array([12, 42, 18, 32, 88, 44, 54, 46, 44, 46, 20, 12, 64, 56],\n",
       "      dtype=int32)"
      ]
     },
     "execution_count": 57,
     "metadata": {},
     "output_type": "execute_result"
    }
   ],
   "source": [
    "# find out even numbers\n",
    "# ran %2==0\n",
    "ran[ran%2==0]"
   ]
  },
  {
   "cell_type": "code",
   "execution_count": 67,
   "id": "6831dde2-89ad-4c91-bce5-321162f45db0",
   "metadata": {},
   "outputs": [
    {
     "data": {
      "text/plain": [
       "array([88, 54, 64, 56], dtype=int32)"
      ]
     },
     "execution_count": 67,
     "metadata": {},
     "output_type": "execute_result"
    }
   ],
   "source": [
    "# find all the numbers greater than 50 and even\n",
    "# (ran>50) & (ran%2==0)\n",
    "ran[(ran>50)&(ran%2==0)]"
   ]
  },
  {
   "cell_type": "code",
   "execution_count": 71,
   "id": "e2ba784f-25ec-484f-80cc-ab2b2fe19c9e",
   "metadata": {},
   "outputs": [
    {
     "data": {
      "text/plain": [
       "array([85, 12, 71, 18, 32, 88, 61, 44, 97, 37, 93, 54, 89, 46, 44, 46, 20,\n",
       "       12, 64, 43, 87], dtype=int32)"
      ]
     },
     "execution_count": 71,
     "metadata": {},
     "output_type": "execute_result"
    }
   ],
   "source": [
    "# find all the elements which are not divisible by 7\n",
    "# ran%7==0, ~(ran%7==0), ran%7!=0\n",
    "ran[~(ran%7==0)]"
   ]
  },
  {
   "cell_type": "markdown",
   "id": "6a4ef76e-1966-4e25-a58d-6ecfb9288e71",
   "metadata": {},
   "source": [
    "# Brodcasting\n",
    "brodcasting term referes how the numpy array treat the different shape of array during arithmatic operations."
   ]
  },
  {
   "cell_type": "code",
   "execution_count": 76,
   "id": "08cff163-7651-42e9-b373-cf636b75d31f",
   "metadata": {},
   "outputs": [
    {
     "data": {
      "text/plain": [
       "array([[ 6,  8, 10],\n",
       "       [12, 14, 16]])"
      ]
     },
     "execution_count": 76,
     "metadata": {},
     "output_type": "execute_result"
    }
   ],
   "source": [
    "a = np.arange(6).reshape(2,3)\n",
    "b = np.arange(6, 12).reshape(2,3)\n",
    "\n",
    "a,b\n",
    "a+b"
   ]
  },
  {
   "cell_type": "code",
   "execution_count": 77,
   "id": "2182152e-1aaa-492b-a92d-8270f3251f03",
   "metadata": {},
   "outputs": [],
   "source": [
    "c = np.array([1,2,3])"
   ]
  },
  {
   "cell_type": "code",
   "execution_count": 78,
   "id": "29dc211d-8857-4f49-8a82-7dbd5a7e1070",
   "metadata": {},
   "outputs": [
    {
     "data": {
      "text/plain": [
       "array([[1, 3, 5],\n",
       "       [4, 6, 8]])"
      ]
     },
     "execution_count": 78,
     "metadata": {},
     "output_type": "execute_result"
    }
   ],
   "source": [
    "a+c # although the size of the array c is different tha the array "
   ]
  },
  {
   "cell_type": "code",
   "execution_count": 79,
   "id": "70590602-6e9f-4518-b656-d197c3e3940d",
   "metadata": {},
   "outputs": [],
   "source": [
    "# (3,1) and (3,3) will broadcast the (3,1) to (3,3) and perform the arithmatic operations\n",
    "# only the i is get bradcast to the ots maximun value \n",
    "# other dimention will not get broadcast and through the error\n",
    "# eg (2,4) and (3,4) will through the error "
   ]
  },
  {
   "cell_type": "code",
   "execution_count": 80,
   "id": "94d0a05f-3bef-4c59-a445-9e9387c0a777",
   "metadata": {},
   "outputs": [
    {
     "data": {
      "text/plain": [
       "(array([[ 0,  1,  2,  3],\n",
       "        [ 4,  5,  6,  7],\n",
       "        [ 8,  9, 10, 11]]),\n",
       " array([[0, 1, 2],\n",
       "        [3, 4, 5]]))"
      ]
     },
     "execution_count": 80,
     "metadata": {},
     "output_type": "execute_result"
    }
   ],
   "source": [
    "p = np.arange(12).reshape(3,4)\n",
    "q = np.arange(6).reshape(2,3)\n",
    "p,q"
   ]
  },
  {
   "cell_type": "code",
   "execution_count": 81,
   "id": "606441de-26a6-4d2c-bad9-b5cde7143c6c",
   "metadata": {},
   "outputs": [
    {
     "ename": "ValueError",
     "evalue": "operands could not be broadcast together with shapes (3,4) (2,3) ",
     "output_type": "error",
     "traceback": [
      "\u001b[1;31m---------------------------------------------------------------------------\u001b[0m",
      "\u001b[1;31mValueError\u001b[0m                                Traceback (most recent call last)",
      "Cell \u001b[1;32mIn[81], line 1\u001b[0m\n\u001b[1;32m----> 1\u001b[0m \u001b[43mp\u001b[49m\u001b[38;5;241;43m+\u001b[39;49m\u001b[43mq\u001b[49m\n",
      "\u001b[1;31mValueError\u001b[0m: operands could not be broadcast together with shapes (3,4) (2,3) "
     ]
    }
   ],
   "source": [
    "p+q # this cannot be broadcast and through below error"
   ]
  },
  {
   "cell_type": "code",
   "execution_count": 84,
   "id": "3a9d3d14-f8f7-4425-ab80-7d6136eefc20",
   "metadata": {},
   "outputs": [
    {
     "name": "stdout",
     "output_type": "stream",
     "text": [
      "[[0 1 2]] [[0]\n",
      " [1]\n",
      " [2]]\n",
      "[[0 1 2]\n",
      " [1 2 3]\n",
      " [2 3 4]]\n"
     ]
    }
   ],
   "source": [
    "a = np.arange(3).reshape(1,3)\n",
    "b= np.arange(3).reshape(3,1)\n",
    "\n",
    "print(a,b)\n",
    "\n",
    "print(a+b)"
   ]
  },
  {
   "cell_type": "code",
   "execution_count": 88,
   "id": "78092ea2-f0de-497d-a927-4279b4a8775b",
   "metadata": {},
   "outputs": [
    {
     "name": "stdout",
     "output_type": "stream",
     "text": [
      "[[ 0  1  2  3]\n",
      " [ 4  5  6  7]\n",
      " [ 8  9 10 11]] [[ 0  1  2]\n",
      " [ 3  4  5]\n",
      " [ 6  7  8]\n",
      " [ 9 10 11]]\n"
     ]
    },
    {
     "ename": "ValueError",
     "evalue": "operands could not be broadcast together with shapes (3,4) (4,3) ",
     "output_type": "error",
     "traceback": [
      "\u001b[1;31m---------------------------------------------------------------------------\u001b[0m",
      "\u001b[1;31mValueError\u001b[0m                                Traceback (most recent call last)",
      "Cell \u001b[1;32mIn[88], line 5\u001b[0m\n\u001b[0;32m      2\u001b[0m e \u001b[38;5;241m=\u001b[39m np\u001b[38;5;241m.\u001b[39marange(\u001b[38;5;241m12\u001b[39m)\u001b[38;5;241m.\u001b[39mreshape(\u001b[38;5;241m4\u001b[39m,\u001b[38;5;241m3\u001b[39m)\n\u001b[0;32m      4\u001b[0m \u001b[38;5;28mprint\u001b[39m(d,e)\n\u001b[1;32m----> 5\u001b[0m \u001b[38;5;28mprint\u001b[39m(\u001b[43md\u001b[49m\u001b[38;5;241;43m+\u001b[39;49m\u001b[43me\u001b[49m)\n",
      "\u001b[1;31mValueError\u001b[0m: operands could not be broadcast together with shapes (3,4) (4,3) "
     ]
    }
   ],
   "source": [
    "d = np.arange(12).reshape(3,4)\n",
    "e = np.arange(12).reshape(4,3)\n",
    "\n",
    "print(d,e)\n",
    "print(d+e)  # broadcasting is not possible as 1 is not present in the dimentions"
   ]
  },
  {
   "cell_type": "markdown",
   "id": "73b8d404-e678-4a66-a6ab-7c731aeabf41",
   "metadata": {},
   "source": [
    "# Working with mathematical formulas"
   ]
  },
  {
   "cell_type": "code",
   "execution_count": 89,
   "id": "6d63b720-98ab-4e29-b7bb-667fc15e77ca",
   "metadata": {},
   "outputs": [],
   "source": [
    "# we can use any mathematical formula with the numpy array for the calculation\n",
    "# define the formula in function and we can use with any numpy arrary"
   ]
  },
  {
   "cell_type": "code",
   "execution_count": 91,
   "id": "6f572cf6-38df-4610-9bdd-759b5dfdcb18",
   "metadata": {},
   "outputs": [],
   "source": [
    "# sigmoid \n",
    "# mean squared error\n",
    "# binary cross entropy"
   ]
  },
  {
   "cell_type": "code",
   "execution_count": 92,
   "id": "c21d3bf4-6fb0-4ace-abb2-ef88ac820065",
   "metadata": {},
   "outputs": [
    {
     "data": {
      "text/plain": [
       "array([0.5       , 0.73105858, 0.88079708, 0.95257413, 0.98201379,\n",
       "       0.99330715, 0.99752738, 0.99908895, 0.99966465, 0.99987661])"
      ]
     },
     "execution_count": 92,
     "metadata": {},
     "output_type": "execute_result"
    }
   ],
   "source": [
    "# sigmoid function gives the values for the given input between 0 and 1\n",
    "\n",
    "def sigmoid(array):\n",
    "     return 1/(1+np.exp(-(array)))\n",
    "\n",
    "array = np.arange(10)\n",
    "sigmoid(array)"
   ]
  },
  {
   "cell_type": "code",
   "execution_count": 100,
   "id": "fbe17dbe-e23c-4ad1-abd2-df26250f91bc",
   "metadata": {},
   "outputs": [],
   "source": [
    "# mean squared error gives the mean error  between the actual value and the predicted value of the point\n",
    "def mean_root_square(actual,predicted):\n",
    "    return np.mean((actual - predicted)**2)"
   ]
  },
  {
   "cell_type": "code",
   "execution_count": 101,
   "id": "0a008d7c-8e02-49aa-abfb-7041e9f480ae",
   "metadata": {},
   "outputs": [
    {
     "data": {
      "text/plain": [
       "(array([20, 46, 42, 31, 13, 13, 26, 34,  8, 44, 13,  8, 26, 30,  4,  4, 27,\n",
       "        23,  5, 16, 40,  5, 22, 29, 42], dtype=int32),\n",
       " array([ 9,  3, 38, 41,  2, 39, 48, 22, 29, 40, 17, 30,  9, 49, 40, 34, 18,\n",
       "        40, 34,  3,  9, 40, 39, 14, 42], dtype=int32))"
      ]
     },
     "execution_count": 101,
     "metadata": {},
     "output_type": "execute_result"
    }
   ],
   "source": [
    "actual = np.random.randint(1,50, 25)\n",
    "predicted = np.random.randint(1,50,25)\n",
    "actual,predicted"
   ]
  },
  {
   "cell_type": "code",
   "execution_count": 105,
   "id": "282bde49-d44b-4022-b2a3-8681499c7050",
   "metadata": {},
   "outputs": [
    {
     "name": "stdout",
     "output_type": "stream",
     "text": [
      "455.76\n"
     ]
    }
   ],
   "source": [
    "mean = mean_root_square(actual,predicted)\n",
    "print(mean)"
   ]
  },
  {
   "cell_type": "markdown",
   "id": "984dc999-65cc-4dfe-8456-a18ae20914ea",
   "metadata": {},
   "source": [
    "##### Binary cross entropy"
   ]
  },
  {
   "cell_type": "code",
   "execution_count": 107,
   "id": "d43f585c-9512-438b-8891-b2ddaebd1458",
   "metadata": {},
   "outputs": [],
   "source": [
    "# code here"
   ]
  },
  {
   "cell_type": "markdown",
   "id": "284fd9ed-3edb-4a20-8b96-07f71019a3fe",
   "metadata": {},
   "source": [
    "# Working with missing values"
   ]
  },
  {
   "cell_type": "code",
   "execution_count": 7,
   "id": "099de682-38d6-4b96-8a07-da73cacd6f97",
   "metadata": {},
   "outputs": [
    {
     "data": {
      "text/plain": [
       "array([ 1.,  2.,  3.,  4., nan,  6.,  7.])"
      ]
     },
     "execution_count": 7,
     "metadata": {},
     "output_type": "execute_result"
    }
   ],
   "source": [
    "import numpy as np\n",
    "a = np.array([1,2,3,4,np.nan,6,7])\n",
    "a"
   ]
  },
  {
   "cell_type": "code",
   "execution_count": 8,
   "id": "8c962074-333b-40a6-bdb0-633563a59b2e",
   "metadata": {},
   "outputs": [
    {
     "data": {
      "text/plain": [
       "array([False, False, False, False,  True, False, False])"
      ]
     },
     "execution_count": 8,
     "metadata": {},
     "output_type": "execute_result"
    }
   ],
   "source": [
    "# isnan() \n",
    "\n",
    "np.isnan(a)"
   ]
  },
  {
   "cell_type": "code",
   "execution_count": 12,
   "id": "c6debd64-44d1-4376-b7e3-011bcd7aede5",
   "metadata": {},
   "outputs": [
    {
     "data": {
      "text/plain": [
       "array([1., 2., 3., 4., 6., 7.])"
      ]
     },
     "execution_count": 12,
     "metadata": {},
     "output_type": "execute_result"
    }
   ],
   "source": [
    "a[~np.isnan(a)] # will give all the values accept the missing value"
   ]
  },
  {
   "cell_type": "markdown",
   "id": "229fd804-56fa-4ffa-8e0d-6229630fafd8",
   "metadata": {},
   "source": [
    "# Plotting Graphs"
   ]
  },
  {
   "cell_type": "code",
   "execution_count": 3,
   "id": "6a595cb0-0b6a-4892-8dd4-07ac98115104",
   "metadata": {},
   "outputs": [
    {
     "data": {
      "text/plain": [
       "[<matplotlib.lines.Line2D at 0x2058f32f1d0>]"
      ]
     },
     "execution_count": 3,
     "metadata": {},
     "output_type": "execute_result"
    },
    {
     "data": {
      "image/png": "[encoded data removed]",
      "text/plain": [
       "<Figure size 640x480 with 1 Axes>"
      ]
     },
     "metadata": {},
     "output_type": "display_data"
    }
   ],
   "source": [
    "# x=y its astright line passing through orign having 45 d angle\n",
    "import numpy as np\n",
    "import matplotlib.pyplot as plt\n",
    "\n",
    "x = np.linspace(1,10, 100)\n",
    "y = x\n",
    "\n",
    "plt.plot(x,y)\n"
   ]
  },
  {
   "cell_type": "code",
   "execution_count": 7,
   "id": "5ff3dde8-8849-4a75-8c72-85e14f3db299",
   "metadata": {},
   "outputs": [
    {
     "data": {
      "text/plain": [
       "[<matplotlib.lines.Line2D at 0x2059041bc20>]"
      ]
     },
     "execution_count": 7,
     "metadata": {},
     "output_type": "execute_result"
    },
    {
     "data": {
      "image/png": "[encoded data removed]",
      "text/plain": [
       "<Figure size 640x480 with 1 Axes>"
      ]
     },
     "metadata": {},
     "output_type": "display_data"
    }
   ],
   "source": [
    "# y = y**2 parabola\n",
    "\n",
    "x = np.linspace(-10,10, 100)\n",
    "\n",
    "y = x**2\n",
    "\n",
    "plt.plot(x,y)"
   ]
  },
  {
   "cell_type": "code",
   "execution_count": 13,
   "id": "e9642bf0-26e8-44bc-9c9b-9e3d5278794d",
   "metadata": {},
   "outputs": [
    {
     "data": {
      "text/plain": [
       "[<matplotlib.lines.Line2D at 0x205929c7290>]"
      ]
     },
     "execution_count": 13,
     "metadata": {},
     "output_type": "execute_result"
    },
    {
     "data": {
      "image/png": "[encoded data removed]",
      "text/plain": [
       "<Figure size 640x480 with 1 Axes>"
      ]
     },
     "metadata": {},
     "output_type": "display_data"
    }
   ],
   "source": [
    "x = np.linspace(-10,10,100)\n",
    "y=np.sin(x)\n",
    "\n",
    "plt.plot(x,y)"
   ]
  },
  {
   "cell_type": "code",
   "execution_count": 19,
   "id": "5f597607-8514-4441-a778-13af43f271bd",
   "metadata": {},
   "outputs": [
    {
     "name": "stderr",
     "output_type": "stream",
     "text": [
      "C:\\Users\\Mayur\\AppData\\Local\\Temp\\ipykernel_17336\\2195106469.py:3: RuntimeWarning: invalid value encountered in log\n",
      "  y = x * np.log(x)\n"
     ]
    },
    {
     "data": {
      "text/plain": [
       "[<matplotlib.lines.Line2D at 0x20592d37f50>]"
      ]
     },
     "execution_count": 19,
     "metadata": {},
     "output_type": "execute_result"
    },
    {
     "data": {
      "image/png": "[encoded data removed]",
      "text/plain": [
       "<Figure size 640x480 with 1 Axes>"
      ]
     },
     "metadata": {},
     "output_type": "display_data"
    }
   ],
   "source": [
    "import math\n",
    "x = np.linspace(-10,10,100)\n",
    "y = x * np.log(x)\n",
    "\n",
    "plt.plot(x,y)"
   ]
  },
  {
   "cell_type": "code",
   "execution_count": 23,
   "id": "83725975-4578-4524-ba1c-a45b20d8ff39",
   "metadata": {},
   "outputs": [
    {
     "data": {
      "text/plain": [
       "[<matplotlib.lines.Line2D at 0x20594751ee0>]"
      ]
     },
     "execution_count": 23,
     "metadata": {},
     "output_type": "execute_result"
    },
    {
     "data": {
      "image/png": "[encoded data removed]",
      "text/plain": [
       "<Figure size 640x480 with 1 Axes>"
      ]
     },
     "metadata": {},
     "output_type": "display_data"
    }
   ],
   "source": [
    "x=np.linspace(-10,10,50)\n",
    "y = 1/(1+np.exp(-x))\n",
    "plt.plot(x,y)"
   ]
  },
  {
   "cell_type": "code",
   "execution_count": null,
   "id": "c2e02735-4e8d-48c2-bdb0-67602fc7df01",
   "metadata": {},
   "outputs": [],
   "source": []
  }
 ],
 "metadata": {
  "kernelspec": {
   "display_name": "Python 3 (ipykernel)",
   "language": "python",
   "name": "python3"
  },
  "language_info": {
   "codemirror_mode": {
    "name": "ipython",
    "version": 3
   },
   "file_extension": ".py",
   "mimetype": "text/x-python",
   "name": "python",
   "nbconvert_exporter": "python",
   "pygments_lexer": "ipython3",
   "version": "3.12.5"
  }
 },
 "nbformat": 4,
 "nbformat_minor": 5
}
