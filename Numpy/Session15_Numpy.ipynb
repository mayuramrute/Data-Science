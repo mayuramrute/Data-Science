{
 "cells": [
  {
   "cell_type": "markdown",
   "id": "517b510f-b9ae-4f30-a6e8-f1fe0960942b",
   "metadata": {},
   "source": [
    "# np.sort"
   ]
  },
  {
   "cell_type": "code",
   "execution_count": 3,
   "id": "8c96d20f-ee35-440b-af59-8401fe3dee33",
   "metadata": {},
   "outputs": [],
   "source": [
    "import numpy as np\n",
    "a = np.random.randint(1,100,15)\n",
    "b = np.random.randint(1,100,24).reshape(6,4)"
   ]
  },
  {
   "cell_type": "code",
   "execution_count": 4,
   "id": "0143a90f-9c32-4f84-a4d4-0003abdc067f",
   "metadata": {},
   "outputs": [
    {
     "data": {
      "text/plain": [
       "(array([ 4, 41,  2, 79, 27,  4, 88,  4, 28, 56,  9, 66, 98, 97, 54],\n",
       "       dtype=int32),\n",
       " array([[78, 99, 76, 15],\n",
       "        [64, 27, 95,  5],\n",
       "        [49,  6,  5, 79],\n",
       "        [31, 63, 47, 80],\n",
       "        [59, 87, 19,  3],\n",
       "        [96, 40, 92, 30]], dtype=int32))"
      ]
     },
     "execution_count": 4,
     "metadata": {},
     "output_type": "execute_result"
    }
   ],
   "source": [
    "a,b"
   ]
  },
  {
   "cell_type": "code",
   "execution_count": 5,
   "id": "d0dbf4c9-2031-4e33-857c-37df9ed2c202",
   "metadata": {},
   "outputs": [
    {
     "data": {
      "text/plain": [
       "array([ 2,  4,  4,  4,  9, 27, 28, 41, 54, 56, 66, 79, 88, 97, 98],\n",
       "      dtype=int32)"
      ]
     },
     "execution_count": 5,
     "metadata": {},
     "output_type": "execute_result"
    }
   ],
   "source": [
    "np.sort(a)"
   ]
  },
  {
   "cell_type": "code",
   "execution_count": 8,
   "id": "8185d560-abff-4f57-8666-154ca2488df3",
   "metadata": {},
   "outputs": [
    {
     "data": {
      "text/plain": [
       "array([[31,  6,  5,  3],\n",
       "       [49, 27, 19,  5],\n",
       "       [59, 40, 47, 15],\n",
       "       [64, 63, 76, 30],\n",
       "       [78, 87, 92, 79],\n",
       "       [96, 99, 95, 80]], dtype=int32)"
      ]
     },
     "execution_count": 8,
     "metadata": {},
     "output_type": "execute_result"
    }
   ],
   "source": [
    "np.sort(b, axis=0) # 0 colwise 1 row wise"
   ]
  },
  {
   "cell_type": "markdown",
   "id": "d5c009c8-d772-4ac4-9530-1b94d7e7ffe6",
   "metadata": {},
   "source": [
    "# np.append()\n",
    "#### this function appends the new element indexwise to the array"
   ]
  },
  {
   "cell_type": "code",
   "execution_count": 10,
   "id": "a4b7d02f-ba46-43a5-886b-b78275190ed9",
   "metadata": {},
   "outputs": [
    {
     "data": {
      "text/plain": [
       "array([  4,  41,   2,  79,  27,   4,  88,   4,  28,  56,   9,  66,  98,\n",
       "        97,  54, 100])"
      ]
     },
     "execution_count": 10,
     "metadata": {},
     "output_type": "execute_result"
    }
   ],
   "source": [
    "np.append(a,100)"
   ]
  },
  {
   "cell_type": "code",
   "execution_count": 11,
   "id": "b0af02a8-002d-461f-ad73-25e641fdb30a",
   "metadata": {},
   "outputs": [
    {
     "data": {
      "text/plain": [
       "array([ 41, 200])"
      ]
     },
     "execution_count": 11,
     "metadata": {},
     "output_type": "execute_result"
    }
   ],
   "source": [
    "np.append(a[1],200)"
   ]
  },
  {
   "cell_type": "code",
   "execution_count": 12,
   "id": "bee1a75d-a128-43d0-9736-2e537f9c6edf",
   "metadata": {},
   "outputs": [
    {
     "data": {
      "text/plain": [
       "array([ 4, 41,  2, 79, 27,  4, 88,  4, 28, 56,  9, 66, 98, 97, 54],\n",
       "      dtype=int32)"
      ]
     },
     "execution_count": 12,
     "metadata": {},
     "output_type": "execute_result"
    }
   ],
   "source": [
    "a"
   ]
  },
  {
   "cell_type": "code",
   "execution_count": 19,
   "id": "d271489e-f56d-4fbf-9423-e8fb35d7814a",
   "metadata": {},
   "outputs": [
    {
     "data": {
      "text/plain": [
       "array([[78., 99., 76., 15.,  1.],\n",
       "       [64., 27., 95.,  5.,  1.],\n",
       "       [49.,  6.,  5., 79.,  1.],\n",
       "       [31., 63., 47., 80.,  1.],\n",
       "       [59., 87., 19.,  3.,  1.],\n",
       "       [96., 40., 92., 30.,  1.]])"
      ]
     },
     "execution_count": 19,
     "metadata": {},
     "output_type": "execute_result"
    }
   ],
   "source": [
    "np.append(b,np.ones((b.shape[0],1)), axis=1)"
   ]
  },
  {
   "cell_type": "code",
   "execution_count": 27,
   "id": "219c6b1b-cce6-4d11-82cf-6029aa39b247",
   "metadata": {},
   "outputs": [
    {
     "data": {
      "text/plain": [
       "array([[78.        , 99.        , 76.        , 15.        ,  0.83631317],\n",
       "       [64.        , 27.        , 95.        ,  5.        ,  0.37061805],\n",
       "       [49.        ,  6.        ,  5.        , 79.        ,  0.51315756],\n",
       "       [31.        , 63.        , 47.        , 80.        ,  0.80367055],\n",
       "       [59.        , 87.        , 19.        ,  3.        ,  0.16622143],\n",
       "       [96.        , 40.        , 92.        , 30.        ,  0.57423753]])"
      ]
     },
     "execution_count": 27,
     "metadata": {},
     "output_type": "execute_result"
    }
   ],
   "source": [
    "np.append(b, np.random.random((b.shape[0],1)),axis=1)\n",
    "#np.append(b,np.random.random((b.shape[0],1)),axis=1)"
   ]
  },
  {
   "cell_type": "markdown",
   "id": "b6c088dc-a707-445e-a302-1e83deffa6cb",
   "metadata": {},
   "source": [
    "# np.concatenate()\n",
    "#### this method used to concatinate two or more than two arrays"
   ]
  },
  {
   "cell_type": "code",
   "execution_count": 3,
   "id": "f879a1fa-d369-4264-97c2-cd469b0da7bd",
   "metadata": {},
   "outputs": [],
   "source": [
    "import numpy as np\n",
    "x = np.arange(1,7).reshape(3,2)\n",
    "y = np.arange(7,13).reshape(3,2)"
   ]
  },
  {
   "cell_type": "code",
   "execution_count": 7,
   "id": "50fe689b-cb64-415a-8c0e-e21f6b4c67b4",
   "metadata": {},
   "outputs": [
    {
     "data": {
      "text/plain": [
       "array([[ 1,  2,  7,  8],\n",
       "       [ 3,  4,  9, 10],\n",
       "       [ 5,  6, 11, 12]])"
      ]
     },
     "execution_count": 7,
     "metadata": {},
     "output_type": "execute_result"
    }
   ],
   "source": [
    "np.concatenate((x,y), axis = 1)"
   ]
  },
  {
   "cell_type": "markdown",
   "id": "ba2cc7f5-7f4d-45bc-885d-dd19d8298b8f",
   "metadata": {},
   "source": [
    "# np.unique()\n",
    "#### this method gives unique elements from the array "
   ]
  },
  {
   "cell_type": "code",
   "execution_count": 8,
   "id": "e7730951-6a7d-4935-9bdb-eee22c249a8f",
   "metadata": {},
   "outputs": [
    {
     "data": {
      "text/plain": [
       "array([1, 2, 3, 4, 5, 6, 7, 8])"
      ]
     },
     "execution_count": 8,
     "metadata": {},
     "output_type": "execute_result"
    }
   ],
   "source": [
    "e = np.array([1,2,3,3,4,4,5,5,6,6,7,7,8])\n",
    "np.unique(e)"
   ]
  },
  {
   "cell_type": "markdown",
   "id": "95c8c98d-8eb0-40e8-aea8-c680d9394b8f",
   "metadata": {},
   "source": [
    "# np.expand_dims()\n",
    "#### this method gives the expanded dimention of the array if array is 1d will give 2d as below this is useful in ML and DL algorithim to expand data DIM"
   ]
  },
  {
   "cell_type": "code",
   "execution_count": 14,
   "id": "25dfb3a6-84f8-4bd1-a9ae-9822d61308da",
   "metadata": {},
   "outputs": [
    {
     "data": {
      "text/plain": [
       "(13,)"
      ]
     },
     "execution_count": 14,
     "metadata": {},
     "output_type": "execute_result"
    }
   ],
   "source": [
    "np.shape(e) # this is 1D array "
   ]
  },
  {
   "cell_type": "code",
   "execution_count": 18,
   "id": "f3589b6c-e8ca-4ec3-8b89-24507bc100df",
   "metadata": {},
   "outputs": [
    {
     "data": {
      "text/plain": [
       "array([[1, 2, 3, 3, 4, 4, 5, 5, 6, 6, 7, 7, 8]])"
      ]
     },
     "execution_count": 18,
     "metadata": {},
     "output_type": "execute_result"
    }
   ],
   "source": [
    "np.expand_dims(e,axis=0)"
   ]
  },
  {
   "cell_type": "code",
   "execution_count": 24,
   "id": "8771eff1-b9e6-4276-b8f4-28a74fdbaf5b",
   "metadata": {},
   "outputs": [
    {
     "data": {
      "text/plain": [
       "(1, 13)"
      ]
     },
     "execution_count": 24,
     "metadata": {},
     "output_type": "execute_result"
    }
   ],
   "source": [
    "np.shape(np.expand_dims(e,axis=0)) # will add other dimention t the array \n"
   ]
  },
  {
   "cell_type": "code",
   "execution_count": 25,
   "id": "5583907c-060c-4ed5-9964-11f71dd2420d",
   "metadata": {},
   "outputs": [
    {
     "data": {
      "text/plain": [
       "(13, 1)"
      ]
     },
     "execution_count": 25,
     "metadata": {},
     "output_type": "execute_result"
    }
   ],
   "source": [
    "np.shape(np.expand_dims(e,axis=1)) #"
   ]
  },
  {
   "cell_type": "markdown",
   "id": "123b50e1-f9d6-450e-a867-3bfe87575c16",
   "metadata": {},
   "source": [
    "# np.where()\n",
    "#### this method return the index of the element if condition is satisfied"
   ]
  },
  {
   "cell_type": "code",
   "execution_count": 27,
   "id": "d1c4200e-6977-487b-8dff-489cbc3f63a5",
   "metadata": {},
   "outputs": [
    {
     "data": {
      "text/plain": [
       "array([18,  6, 13, 17, 11, 19, 16,  6,  8, 11], dtype=int32)"
      ]
     },
     "execution_count": 27,
     "metadata": {},
     "output_type": "execute_result"
    }
   ],
   "source": [
    "arr = np.random.randint(1,20,10)\n",
    "arr"
   ]
  },
  {
   "cell_type": "code",
   "execution_count": 30,
   "id": "2214644f-8b2b-4b65-ab88-445f492d8350",
   "metadata": {},
   "outputs": [
    {
     "data": {
      "text/plain": [
       "(array([0, 3, 5, 6]),)"
      ]
     },
     "execution_count": 30,
     "metadata": {},
     "output_type": "execute_result"
    }
   ],
   "source": [
    "np.where(arr>15)"
   ]
  },
  {
   "cell_type": "code",
   "execution_count": 31,
   "id": "03653d80-3e9d-42ad-90ef-7448c0b100bb",
   "metadata": {},
   "outputs": [
    {
     "data": {
      "text/plain": [
       "array([18, 17, 19, 16], dtype=int32)"
      ]
     },
     "execution_count": 31,
     "metadata": {},
     "output_type": "execute_result"
    }
   ],
   "source": [
    "arr[np.where(arr>15)]"
   ]
  },
  {
   "cell_type": "markdown",
   "id": "02f12e1b-d8c1-40be-8ec8-3febcad46ce0",
   "metadata": {},
   "source": [
    "# np.argmax()\n",
    "#### this method returns index of the maximum arguments axis wise"
   ]
  },
  {
   "cell_type": "code",
   "execution_count": 34,
   "id": "5d21e44b-8f01-4308-bcf1-4466f7957dee",
   "metadata": {},
   "outputs": [
    {
     "data": {
      "text/plain": [
       "array([[68, 39, 78, 26],\n",
       "       [ 7, 40, 52, 49],\n",
       "       [42, 23, 83, 93],\n",
       "       [97, 11, 60, 73],\n",
       "       [62,  4, 79, 81],\n",
       "       [52, 97,  6, 59]], dtype=int32)"
      ]
     },
     "execution_count": 34,
     "metadata": {},
     "output_type": "execute_result"
    }
   ],
   "source": [
    "b = np.random.randint(1,100,24).reshape(6,4)\n",
    "b"
   ]
  },
  {
   "cell_type": "code",
   "execution_count": 40,
   "id": "fe3d7361-31f0-4a74-b9d5-5527213c13ff",
   "metadata": {},
   "outputs": [
    {
     "data": {
      "text/plain": [
       "array([2, 2, 3, 0, 3, 1])"
      ]
     },
     "execution_count": 40,
     "metadata": {},
     "output_type": "execute_result"
    }
   ],
   "source": [
    "np.argmax(b, axis=1) # gives the row index of the max argument"
   ]
  },
  {
   "cell_type": "markdown",
   "id": "cce6439a-2959-4f9d-b713-4b828956c9dd",
   "metadata": {},
   "source": [
    "# argmin()"
   ]
  },
  {
   "cell_type": "code",
   "execution_count": 42,
   "id": "6e297a63-23a4-466d-abb0-f18785240111",
   "metadata": {},
   "outputs": [
    {
     "data": {
      "text/plain": [
       "np.int64(17)"
      ]
     },
     "execution_count": 42,
     "metadata": {},
     "output_type": "execute_result"
    }
   ],
   "source": [
    "np.argmin(b) # in this type method will condnside 1d array and gibe the index of the element as 4 is the smallest elements"
   ]
  },
  {
   "cell_type": "code",
   "execution_count": 44,
   "id": "045bd82b-3a6e-4d30-99a4-d0dcbbf0f841",
   "metadata": {},
   "outputs": [
    {
     "data": {
      "text/plain": [
       "array([1, 4, 5, 0])"
      ]
     },
     "execution_count": 44,
     "metadata": {},
     "output_type": "execute_result"
    }
   ],
   "source": [
    "np.argmin(b, axis=0)"
   ]
  },
  {
   "cell_type": "markdown",
   "id": "861837b6-70e7-4465-a94b-548de79c38bd",
   "metadata": {},
   "source": [
    "# cumsum() / cumprod()\n",
    "#### this method givs the cimulative sum of array as by adding the previous sum to the currect item and product give the product of all by multiplying previous product"
   ]
  },
  {
   "cell_type": "code",
   "execution_count": 47,
   "id": "9bb16387-6e83-48ad-a2f3-6a21154cef81",
   "metadata": {},
   "outputs": [
    {
     "data": {
      "text/plain": [
       "array([31, 89, 80, 83, 32, 20, 15, 75, 86, 72, 80, 54, 39, 94, 36],\n",
       "      dtype=int32)"
      ]
     },
     "execution_count": 47,
     "metadata": {},
     "output_type": "execute_result"
    }
   ],
   "source": [
    "a = np.random.randint(1,100,15)\n",
    "a"
   ]
  },
  {
   "cell_type": "code",
   "execution_count": 48,
   "id": "e3270fb9-f9a7-48d2-a02a-c93a958a3624",
   "metadata": {},
   "outputs": [
    {
     "data": {
      "text/plain": [
       "array([ 31, 120, 200, 283, 315, 335, 350, 425, 511, 583, 663, 717, 756,\n",
       "       850, 886])"
      ]
     },
     "execution_count": 48,
     "metadata": {},
     "output_type": "execute_result"
    }
   ],
   "source": [
    "np.cumsum(a)"
   ]
  },
  {
   "cell_type": "code",
   "execution_count": 49,
   "id": "9c5f65f5-a74a-4df0-933b-fc0b84d5af58",
   "metadata": {},
   "outputs": [
    {
     "data": {
      "text/plain": [
       "array([                  31,                 2759,               220720,\n",
       "                   18319760,            586232320,          11724646400,\n",
       "               175869696000,       13190227200000,     1134359539200000,\n",
       "          81673886822400000,  6533910945792000000,  2343053672286519296,\n",
       "        -854627149373505536, -6547975746271313920,  4080546092456869888])"
      ]
     },
     "execution_count": 49,
     "metadata": {},
     "output_type": "execute_result"
    }
   ],
   "source": [
    "np.cumprod(a)"
   ]
  },
  {
   "cell_type": "markdown",
   "id": "6f6c17ea-bdba-44ca-8606-2d64e2baeaa9",
   "metadata": {},
   "source": [
    "# np.percentile()\n",
    "#### this method used to calculate the nth percentile of the element from the array axis wise "
   ]
  },
  {
   "cell_type": "code",
   "execution_count": 53,
   "id": "0681c3c5-e05e-479d-930b-622760da6c5e",
   "metadata": {},
   "outputs": [
    {
     "name": "stdout",
     "output_type": "stream",
     "text": [
      "83.60000000000001\n"
     ]
    }
   ],
   "source": [
    "a\n",
    "print(np.percentile(a,80)) # meance 83% are having less percentile than the current item in the array"
   ]
  },
  {
   "cell_type": "markdown",
   "id": "9a9a87da-f364-48b0-9d6c-14d89b7b6197",
   "metadata": {},
   "source": [
    "# np.histogram()\n",
    "#### this function gives the frequency of data distribution in the graphical form, using bin size "
   ]
  },
  {
   "cell_type": "code",
   "execution_count": 55,
   "id": "8e33597a-641f-49f4-b923-91249afd6f4e",
   "metadata": {},
   "outputs": [
    {
     "data": {
      "text/plain": [
       "(array([0, 1, 1, 4, 0, 1, 0, 2, 5, 1]),\n",
       " array([  0,  10,  20,  30,  40,  50,  60,  70,  80,  90, 100]))"
      ]
     },
     "execution_count": 55,
     "metadata": {},
     "output_type": "execute_result"
    }
   ],
   "source": [
    "np.histogram(a,[0,10,20,30,40,50,60,70,80,90,100])    # size of bins to find data disrtibution"
   ]
  },
  {
   "cell_type": "markdown",
   "id": "dc5a2773-e84b-461c-bf5a-a5a9ba76fb4a",
   "metadata": {},
   "source": [
    "# corrcoef()\n",
    "#### this method return the correlation between the quantites \n"
   ]
  },
  {
   "cell_type": "code",
   "execution_count": 56,
   "id": "6ae13207-3444-49a2-9d0b-6c5163931aae",
   "metadata": {},
   "outputs": [],
   "source": [
    "salary = np.array([20000,40000,25000,35000,60000])\n",
    "experience = np.array([1,3,2,4,2])"
   ]
  },
  {
   "cell_type": "code",
   "execution_count": 57,
   "id": "2ff3b0b5-5086-456e-a0a8-44d3f1da9840",
   "metadata": {},
   "outputs": [
    {
     "data": {
      "text/plain": [
       "array([[1.        , 0.25344572],\n",
       "       [0.25344572, 1.        ]])"
      ]
     },
     "execution_count": 57,
     "metadata": {},
     "output_type": "execute_result"
    }
   ],
   "source": [
    "np.corrcoef(salary,experience)"
   ]
  },
  {
   "cell_type": "markdown",
   "id": "e6119fe4-8dc9-4b34-92dd-086b4d517c39",
   "metadata": {},
   "source": [
    "# np.isin() \n",
    "#### method i used to check the iteam of one arrya present in the other array "
   ]
  },
  {
   "cell_type": "code",
   "execution_count": 64,
   "id": "b4592946-6716-45cc-972e-6128a03d5085",
   "metadata": {},
   "outputs": [
    {
     "name": "stdout",
     "output_type": "stream",
     "text": [
      "[31 89 80 83 32 20 15 75 86 72 80 54 39 94 36]\n"
     ]
    }
   ],
   "source": [
    "print(a)\n",
    "items = [10,22,32,46,86,36]"
   ]
  },
  {
   "cell_type": "code",
   "execution_count": 65,
   "id": "c05e92b6-1b53-4763-a48d-78c133bb8962",
   "metadata": {},
   "outputs": [
    {
     "data": {
      "text/plain": [
       "array([False, False, False, False,  True, False, False, False,  True,\n",
       "       False, False, False, False, False,  True])"
      ]
     },
     "execution_count": 65,
     "metadata": {},
     "output_type": "execute_result"
    }
   ],
   "source": [
    "np.isin(a,items)"
   ]
  },
  {
   "cell_type": "markdown",
   "id": "daebaefe-fc28-47ff-9818-0055f77058df",
   "metadata": {},
   "source": [
    "# np.flip() \n",
    "#### this method reverse the array element you can specify the axis also to fip axis wise"
   ]
  },
  {
   "cell_type": "code",
   "execution_count": 68,
   "id": "43741f13-ded3-419a-9535-4964943cb679",
   "metadata": {},
   "outputs": [
    {
     "data": {
      "text/plain": [
       "(array([31, 89, 80, 83, 32, 20, 15, 75, 86, 72, 80, 54, 39, 94, 36],\n",
       "       dtype=int32),\n",
       " array([[68, 39, 78, 26],\n",
       "        [ 7, 40, 52, 49],\n",
       "        [42, 23, 83, 93],\n",
       "        [97, 11, 60, 73],\n",
       "        [62,  4, 79, 81],\n",
       "        [52, 97,  6, 59]], dtype=int32))"
      ]
     },
     "execution_count": 68,
     "metadata": {},
     "output_type": "execute_result"
    }
   ],
   "source": [
    "a,b"
   ]
  },
  {
   "cell_type": "code",
   "execution_count": 69,
   "id": "2f0d19e5-9f43-4f07-a3d3-3739e3939480",
   "metadata": {},
   "outputs": [
    {
     "data": {
      "text/plain": [
       "array([36, 94, 39, 54, 80, 72, 86, 75, 15, 20, 32, 83, 80, 89, 31],\n",
       "      dtype=int32)"
      ]
     },
     "execution_count": 69,
     "metadata": {},
     "output_type": "execute_result"
    }
   ],
   "source": [
    "np.flip(a) # reverse the array"
   ]
  },
  {
   "cell_type": "code",
   "execution_count": 70,
   "id": "f12097aa-6c0b-4ca7-8bbc-7f0bbf56e40b",
   "metadata": {},
   "outputs": [
    {
     "data": {
      "text/plain": [
       "array([[59,  6, 97, 52],\n",
       "       [81, 79,  4, 62],\n",
       "       [73, 60, 11, 97],\n",
       "       [93, 83, 23, 42],\n",
       "       [49, 52, 40,  7],\n",
       "       [26, 78, 39, 68]], dtype=int32)"
      ]
     },
     "execution_count": 70,
     "metadata": {},
     "output_type": "execute_result"
    }
   ],
   "source": [
    "np.flip(b) # reverse by both row and col wise"
   ]
  },
  {
   "cell_type": "code",
   "execution_count": 71,
   "id": "93be9700-4f16-4d1e-8c9f-3c8fd07da55e",
   "metadata": {},
   "outputs": [
    {
     "data": {
      "text/plain": [
       "array([[26, 78, 39, 68],\n",
       "       [49, 52, 40,  7],\n",
       "       [93, 83, 23, 42],\n",
       "       [73, 60, 11, 97],\n",
       "       [81, 79,  4, 62],\n",
       "       [59,  6, 97, 52]], dtype=int32)"
      ]
     },
     "execution_count": 71,
     "metadata": {},
     "output_type": "execute_result"
    }
   ],
   "source": [
    "np.flip(b, axis=1) # row_wise"
   ]
  },
  {
   "cell_type": "markdown",
   "id": "a6e694a9-3975-448c-8abf-1253aeeeeffd",
   "metadata": {},
   "source": [
    "# np.put\n",
    "#### this method replace the elements in the old array using index position"
   ]
  },
  {
   "cell_type": "code",
   "execution_count": 72,
   "id": "f7497540-1390-41ee-9d30-2e4bdba7bc3d",
   "metadata": {},
   "outputs": [
    {
     "data": {
      "text/plain": [
       "array([31, 89, 80, 83, 32, 20, 15, 75, 86, 72, 80, 54, 39, 94, 36],\n",
       "      dtype=int32)"
      ]
     },
     "execution_count": 72,
     "metadata": {},
     "output_type": "execute_result"
    }
   ],
   "source": [
    "a"
   ]
  },
  {
   "cell_type": "code",
   "execution_count": 73,
   "id": "fe91deff-2280-4d96-8951-4c9bed9c377b",
   "metadata": {},
   "outputs": [],
   "source": [
    "np.put(a, [0,1],[100,200]) # this method makes the actual changes in the array (array_name, list of index, values by which replace)"
   ]
  },
  {
   "cell_type": "code",
   "execution_count": 74,
   "id": "60e2aed8-d372-43b4-9ee3-3792d236a25c",
   "metadata": {},
   "outputs": [
    {
     "data": {
      "text/plain": [
       "array([100, 200,  80,  83,  32,  20,  15,  75,  86,  72,  80,  54,  39,\n",
       "        94,  36], dtype=int32)"
      ]
     },
     "execution_count": 74,
     "metadata": {},
     "output_type": "execute_result"
    }
   ],
   "source": [
    "a"
   ]
  },
  {
   "cell_type": "markdown",
   "id": "c56f45cf-0d73-4e68-b4c3-e279d6e25fce",
   "metadata": {},
   "source": [
    "# np.delete\n",
    "#### this method delete the array elements by specifying the index of elements. we can pass the list of indices "
   ]
  },
  {
   "cell_type": "code",
   "execution_count": 75,
   "id": "5bdd76d7-8dcf-4b23-be47-0f737a965d74",
   "metadata": {},
   "outputs": [
    {
     "data": {
      "text/plain": [
       "array([83, 32, 20, 15, 75, 86, 72, 80, 54, 39, 94, 36], dtype=int32)"
      ]
     },
     "execution_count": 75,
     "metadata": {},
     "output_type": "execute_result"
    }
   ],
   "source": [
    "np.delete(a,[0,1,2]) # this is temp operation and not change actual array"
   ]
  },
  {
   "cell_type": "code",
   "execution_count": 76,
   "id": "696f661c-9bed-4ae6-9a72-58951ce9ac49",
   "metadata": {},
   "outputs": [
    {
     "data": {
      "text/plain": [
       "array([100, 200,  80,  83,  32,  20,  15,  75,  86,  72,  80,  54,  39,\n",
       "        94,  36], dtype=int32)"
      ]
     },
     "execution_count": 76,
     "metadata": {},
     "output_type": "execute_result"
    }
   ],
   "source": [
    "a"
   ]
  },
  {
   "cell_type": "markdown",
   "id": "0bd030c2-fd36-4180-b4f0-b792eb6a3090",
   "metadata": {},
   "source": [
    "# Set function"
   ]
  },
  {
   "cell_type": "raw",
   "id": "f40c2dc6-800e-4785-b246-83903ed9808d",
   "metadata": {},
   "source": [
    "# np.union1d\n",
    "# np.intersect1d\n",
    "# np.setdiff1d\n",
    "# np.setxor1d\n",
    "# np.in1d"
   ]
  },
  {
   "cell_type": "code",
   "execution_count": 2,
   "id": "2e9abb45-7708-4d1a-9989-3bf6d4cd9ca7",
   "metadata": {},
   "outputs": [],
   "source": [
    "import numpy as np\n",
    "p=np.array([1,2,3,4,5])\n",
    "q=np.array([4,5,6,7,8])"
   ]
  },
  {
   "cell_type": "code",
   "execution_count": 3,
   "id": "abc14bec-b869-401b-a288-6bf4dceaacbe",
   "metadata": {},
   "outputs": [
    {
     "data": {
      "text/plain": [
       "array([1, 2, 3, 4, 5, 6, 7, 8])"
      ]
     },
     "execution_count": 3,
     "metadata": {},
     "output_type": "execute_result"
    }
   ],
   "source": [
    "np.union1d(p,q)"
   ]
  },
  {
   "cell_type": "code",
   "execution_count": 4,
   "id": "3e1bbb61-6857-43aa-bf0d-6bd6b0396081",
   "metadata": {},
   "outputs": [
    {
     "data": {
      "text/plain": [
       "array([4, 5])"
      ]
     },
     "execution_count": 4,
     "metadata": {},
     "output_type": "execute_result"
    }
   ],
   "source": [
    "np.intersect1d(p,q)"
   ]
  },
  {
   "cell_type": "code",
   "execution_count": 5,
   "id": "f7ec8122-bf39-451e-b6c8-421bc774db35",
   "metadata": {},
   "outputs": [
    {
     "data": {
      "text/plain": [
       "array([6, 7, 8])"
      ]
     },
     "execution_count": 5,
     "metadata": {},
     "output_type": "execute_result"
    }
   ],
   "source": [
    "np.setdiff1d(q,p)"
   ]
  },
  {
   "cell_type": "code",
   "execution_count": 6,
   "id": "cedd0541-81cb-41be-a9ac-63712a72f590",
   "metadata": {},
   "outputs": [
    {
     "data": {
      "text/plain": [
       "array([1, 2, 3, 6, 7, 8])"
      ]
     },
     "execution_count": 6,
     "metadata": {},
     "output_type": "execute_result"
    }
   ],
   "source": [
    "np.setxor1d(p,q) # the uncommon elements xor "
   ]
  },
  {
   "cell_type": "code",
   "execution_count": 7,
   "id": "703c1b69-93f8-4700-b1cc-ded17ab4b75b",
   "metadata": {},
   "outputs": [
    {
     "name": "stderr",
     "output_type": "stream",
     "text": [
      "C:\\Users\\Mayur\\AppData\\Local\\Temp\\ipykernel_15032\\2907374133.py:1: DeprecationWarning: `in1d` is deprecated. Use `np.isin` instead.\n",
      "  np.in1d(p,q)\n"
     ]
    },
    {
     "data": {
      "text/plain": [
       "array([False, False, False,  True,  True])"
      ]
     },
     "execution_count": 7,
     "metadata": {},
     "output_type": "execute_result"
    }
   ],
   "source": [
    "np.in1d(p,q) # same as is in method who check if the "
   ]
  },
  {
   "cell_type": "code",
   "execution_count": null,
   "id": "36080103-c13e-4d8d-b398-c76b1d960161",
   "metadata": {},
   "outputs": [],
   "source": []
  }
 ],
 "metadata": {
  "kernelspec": {
   "display_name": "Python 3 (ipykernel)",
   "language": "python",
   "name": "python3"
  },
  "language_info": {
   "codemirror_mode": {
    "name": "ipython",
    "version": 3
   },
   "file_extension": ".py",
   "mimetype": "text/x-python",
   "name": "python",
   "nbconvert_exporter": "python",
   "pygments_lexer": "ipython3",
   "version": "3.12.5"
  }
 },
 "nbformat": 4,
 "nbformat_minor": 5
}
