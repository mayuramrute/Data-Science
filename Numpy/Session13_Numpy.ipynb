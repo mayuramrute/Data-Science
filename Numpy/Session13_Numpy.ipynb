{
 "cells": [
  {
   "cell_type": "markdown",
   "id": "a6fa52c1-f649-4389-a56b-0ad40d46b059",
   "metadata": {},
   "source": [
    "# creating numpy"
   ]
  },
  {
   "cell_type": "code",
   "execution_count": 3,
   "id": "55f9962b-8075-4d19-9cda-0fe5433eb3a4",
   "metadata": {},
   "outputs": [],
   "source": [
    "import numpy as np"
   ]
  },
  {
   "cell_type": "code",
   "execution_count": 3,
   "id": "84cf701a-2cb1-4d9a-81d6-959a32e719c3",
   "metadata": {},
   "outputs": [],
   "source": [
    "# array\n",
    "a = np.array([0,9,8,7,6,5])"
   ]
  },
  {
   "cell_type": "code",
   "execution_count": 4,
   "id": "86c752c6-ca77-4d8e-8d39-37116a40d790",
   "metadata": {},
   "outputs": [
    {
     "data": {
      "text/plain": [
       "array([0, 9, 8, 7, 6, 5])"
      ]
     },
     "execution_count": 4,
     "metadata": {},
     "output_type": "execute_result"
    }
   ],
   "source": [
    "a"
   ]
  },
  {
   "cell_type": "code",
   "execution_count": 5,
   "id": "0b3f504f-aea2-466d-952e-3dc51367c4db",
   "metadata": {},
   "outputs": [],
   "source": [
    "a=np.array((1,2,3,4))"
   ]
  },
  {
   "cell_type": "code",
   "execution_count": 6,
   "id": "f37faa7b-1c5c-4e51-8068-7ffdddb17846",
   "metadata": {},
   "outputs": [
    {
     "data": {
      "text/plain": [
       "array([1, 2, 3, 4])"
      ]
     },
     "execution_count": 6,
     "metadata": {},
     "output_type": "execute_result"
    }
   ],
   "source": [
    "a"
   ]
  },
  {
   "cell_type": "code",
   "execution_count": 7,
   "id": "f901caa6-2fb7-4781-9722-c0216d11fa66",
   "metadata": {},
   "outputs": [],
   "source": [
    "a = np.array({1,2,3,4,5}) # will create list having set as an element of type object"
   ]
  },
  {
   "cell_type": "code",
   "execution_count": 8,
   "id": "05d0fe90-179f-4984-9549-e0293d82b86f",
   "metadata": {},
   "outputs": [
    {
     "data": {
      "text/plain": [
       "array({1, 2, 3, 4, 5}, dtype=object)"
      ]
     },
     "execution_count": 8,
     "metadata": {},
     "output_type": "execute_result"
    }
   ],
   "source": [
    "a"
   ]
  },
  {
   "cell_type": "code",
   "execution_count": 9,
   "id": "c60289ef-c449-41a6-8096-5ecffba4f320",
   "metadata": {},
   "outputs": [],
   "source": [
    "a = np.array({'mayur':\"Lalit\"})"
   ]
  },
  {
   "cell_type": "code",
   "execution_count": 10,
   "id": "8493e9ae-0fa2-467d-9579-52b1ac668917",
   "metadata": {},
   "outputs": [
    {
     "data": {
      "text/plain": [
       "array({'mayur': 'Lalit'}, dtype=object)"
      ]
     },
     "execution_count": 10,
     "metadata": {},
     "output_type": "execute_result"
    }
   ],
   "source": [
    "a"
   ]
  },
  {
   "cell_type": "code",
   "execution_count": 11,
   "id": "fe55b5e2-2d57-442e-8a19-2eba2eaaaaa7",
   "metadata": {},
   "outputs": [
    {
     "data": {
      "text/plain": [
       "array([ 1,  2,  3,  4,  5,  6,  7,  8,  9, 10])"
      ]
     },
     "execution_count": 11,
     "metadata": {},
     "output_type": "execute_result"
    }
   ],
   "source": [
    "# arange()\n",
    "np.arange(1,11)"
   ]
  },
  {
   "cell_type": "code",
   "execution_count": 12,
   "id": "82e2fae6-bade-4a98-a5f6-dca07599cea1",
   "metadata": {},
   "outputs": [
    {
     "data": {
      "text/plain": [
       "array([[ 1,  2,  3,  4,  5],\n",
       "       [ 6,  7,  8,  9, 10]])"
      ]
     },
     "execution_count": 12,
     "metadata": {},
     "output_type": "execute_result"
    }
   ],
   "source": [
    "# resahpe()\n",
    "# this function is used to change the dimention of the array \n",
    "np.arange(1,11).reshape(2,5)"
   ]
  },
  {
   "cell_type": "code",
   "execution_count": 13,
   "id": "b40ca298-2e7f-4c28-bbc9-aaf84c2d3eeb",
   "metadata": {},
   "outputs": [
    {
     "data": {
      "text/plain": [
       "array([[[1, 2],\n",
       "        [3, 4]],\n",
       "\n",
       "       [[5, 6],\n",
       "        [7, 8]]])"
      ]
     },
     "execution_count": 13,
     "metadata": {},
     "output_type": "execute_result"
    }
   ],
   "source": [
    "np.arange(1,9).reshape(2,2,2)"
   ]
  },
  {
   "cell_type": "code",
   "execution_count": 3,
   "id": "932b0b17-a8aa-4619-8e9f-453bec028856",
   "metadata": {},
   "outputs": [
    {
     "data": {
      "text/plain": [
       "array([[1., 1., 1.],\n",
       "       [1., 1., 1.],\n",
       "       [1., 1., 1.]])"
      ]
     },
     "execution_count": 3,
     "metadata": {},
     "output_type": "execute_result"
    }
   ],
   "source": [
    "# ones()\n",
    "# this method gives matrix (2D) array of 1 \n",
    "o = np.ones((3,3))\n",
    "o"
   ]
  },
  {
   "cell_type": "code",
   "execution_count": 21,
   "id": "bdd466c4-901b-4955-8f7a-486865b82071",
   "metadata": {},
   "outputs": [
    {
     "data": {
      "text/plain": [
       "array([[1, 1, 1],\n",
       "       [1, 1, 1],\n",
       "       [1, 1, 1]])"
      ]
     },
     "execution_count": 21,
     "metadata": {},
     "output_type": "execute_result"
    }
   ],
   "source": [
    "np.ones((3,3), dtype=int)"
   ]
  },
  {
   "cell_type": "code",
   "execution_count": 22,
   "id": "5b8574a8-ae16-49c8-8f81-fe765aa77b39",
   "metadata": {},
   "outputs": [
    {
     "data": {
      "text/plain": [
       "array([[0., 0., 0.],\n",
       "       [0., 0., 0.],\n",
       "       [0., 0., 0.]])"
      ]
     },
     "execution_count": 22,
     "metadata": {},
     "output_type": "execute_result"
    }
   ],
   "source": [
    "# Zeros\n",
    "# this method gives 2D array/ matrix of Zeros\n",
    "\n",
    "np.zeros((3,3))"
   ]
  },
  {
   "cell_type": "code",
   "execution_count": 23,
   "id": "b5952e7c-c973-488e-9847-b70a7a0c6371",
   "metadata": {},
   "outputs": [
    {
     "data": {
      "text/plain": [
       "array([[0.01416029, 0.9589404 , 0.80469751, 0.64681636],\n",
       "       [0.73190386, 0.77261975, 0.0263169 , 0.70828542],\n",
       "       [0.69935484, 0.56724166, 0.56790973, 0.16708272]])"
      ]
     },
     "execution_count": 23,
     "metadata": {},
     "output_type": "execute_result"
    }
   ],
   "source": [
    "# randome\n",
    "# this function gives the matrix of ramdom elements range from 0 to 1\n",
    "\n",
    "np.random.random((3,4))"
   ]
  },
  {
   "cell_type": "code",
   "execution_count": 27,
   "id": "dfbe2b02-605a-4366-96dc-8392d64dd531",
   "metadata": {},
   "outputs": [
    {
     "data": {
      "text/plain": [
       "array([ 1. ,  1.9,  2.8,  3.7,  4.6,  5.5,  6.4,  7.3,  8.2,  9.1, 10. ])"
      ]
     },
     "execution_count": 27,
     "metadata": {},
     "output_type": "execute_result"
    }
   ],
   "source": [
    "# Linspace()\n",
    "# this function gives the array of linerly spaced elements meance the having the same differnce in all elements\n",
    "\n",
    "np.linspace(1,10,11)"
   ]
  },
  {
   "cell_type": "code",
   "execution_count": 33,
   "id": "052bfda6-f35d-48ee-800f-26d96ca61934",
   "metadata": {},
   "outputs": [
    {
     "data": {
      "text/plain": [
       "array([[1, 0, 0, 0, 0],\n",
       "       [0, 1, 0, 0, 0],\n",
       "       [0, 0, 1, 0, 0],\n",
       "       [0, 0, 0, 1, 0],\n",
       "       [0, 0, 0, 0, 1]])"
      ]
     },
     "execution_count": 33,
     "metadata": {},
     "output_type": "execute_result"
    }
   ],
   "source": [
    "# identity()\n",
    "# this function gives the identity matrix \n",
    "\n",
    "np.identity(5, dtype=int)"
   ]
  },
  {
   "cell_type": "markdown",
   "id": "7aca1c70-d259-43e0-bf72-70845cbbe398",
   "metadata": {},
   "source": [
    "# Array Attributes"
   ]
  },
  {
   "cell_type": "code",
   "execution_count": 4,
   "id": "17f8eb73-7bc8-4a7c-9468-dfef60fc3d40",
   "metadata": {},
   "outputs": [],
   "source": [
    "# ndim\n",
    "# this attribute gives the dimention of an array\n",
    "\n",
    "a =np.array([1,2,3,4,5,6], dtype=float)\n",
    "a2=np.arange(1,13).reshape(6,2)\n",
    "a3=np.arange(1,13).reshape(2,3,2)"
   ]
  },
  {
   "cell_type": "code",
   "execution_count": 5,
   "id": "de88d99a-bb39-4898-ac78-b7857f62c786",
   "metadata": {},
   "outputs": [
    {
     "name": "stdout",
     "output_type": "stream",
     "text": [
      "2\n",
      "3\n"
     ]
    }
   ],
   "source": [
    "print(a2.ndim)\n",
    "print(a3.ndim)"
   ]
  },
  {
   "cell_type": "code",
   "execution_count": 45,
   "id": "0d9281da-f8d8-4f34-95ec-5aacb40a83cb",
   "metadata": {},
   "outputs": [
    {
     "data": {
      "text/plain": [
       "(6,)"
      ]
     },
     "execution_count": 45,
     "metadata": {},
     "output_type": "execute_result"
    }
   ],
   "source": [
    "# shape\n",
    "# this attrib=te gives the dimention of the matix\n",
    "a.shape #gives the row and column of the arraya"
   ]
  },
  {
   "cell_type": "code",
   "execution_count": 46,
   "id": "eab4450c-f207-4827-919c-b20ee0d8e22d",
   "metadata": {},
   "outputs": [
    {
     "data": {
      "text/plain": [
       "(6, 2)"
      ]
     },
     "execution_count": 46,
     "metadata": {},
     "output_type": "execute_result"
    }
   ],
   "source": [
    "a2.shape"
   ]
  },
  {
   "cell_type": "code",
   "execution_count": 47,
   "id": "23debc57-4521-4491-93ed-730f5f1dadbb",
   "metadata": {},
   "outputs": [
    {
     "data": {
      "text/plain": [
       "(2, 3, 2)"
      ]
     },
     "execution_count": 47,
     "metadata": {},
     "output_type": "execute_result"
    }
   ],
   "source": [
    "a3.shape"
   ]
  },
  {
   "cell_type": "code",
   "execution_count": 48,
   "id": "4b8e3ece-3741-428a-bbf4-24093551567b",
   "metadata": {},
   "outputs": [
    {
     "data": {
      "text/plain": [
       "6"
      ]
     },
     "execution_count": 48,
     "metadata": {},
     "output_type": "execute_result"
    }
   ],
   "source": [
    "# size \n",
    "# this attribute give the total number of elements in the array\n",
    "a.size"
   ]
  },
  {
   "cell_type": "code",
   "execution_count": 49,
   "id": "fded0338-ad91-43e8-9b1a-b01cf4b50b3d",
   "metadata": {},
   "outputs": [
    {
     "data": {
      "text/plain": [
       "12"
      ]
     },
     "execution_count": 49,
     "metadata": {},
     "output_type": "execute_result"
    }
   ],
   "source": [
    "a2.size"
   ]
  },
  {
   "cell_type": "code",
   "execution_count": 50,
   "id": "63211b20-f927-496d-b77d-a2a23016b58b",
   "metadata": {},
   "outputs": [
    {
     "data": {
      "text/plain": [
       "12"
      ]
     },
     "execution_count": 50,
     "metadata": {},
     "output_type": "execute_result"
    }
   ],
   "source": [
    "a3.size"
   ]
  },
  {
   "cell_type": "code",
   "execution_count": 55,
   "id": "5d3c713e-56f9-4ba7-b775-5526f9f3759c",
   "metadata": {},
   "outputs": [
    {
     "name": "stdout",
     "output_type": "stream",
     "text": [
      "8\n"
     ]
    }
   ],
   "source": [
    "# itemsize\n",
    "# this give the size of the meomory occupied by the eavh item of the array\n",
    "\n",
    "print(a.itemsize)"
   ]
  },
  {
   "cell_type": "code",
   "execution_count": 56,
   "id": "fd48646c-1076-4c9b-a864-3c2b754ebbaa",
   "metadata": {},
   "outputs": [
    {
     "data": {
      "text/plain": [
       "8"
      ]
     },
     "execution_count": 56,
     "metadata": {},
     "output_type": "execute_result"
    }
   ],
   "source": [
    "a2.itemsize"
   ]
  },
  {
   "cell_type": "code",
   "execution_count": 57,
   "id": "603fd036-38c3-440c-bf80-26d4430a8907",
   "metadata": {},
   "outputs": [
    {
     "data": {
      "text/plain": [
       "dtype('float64')"
      ]
     },
     "execution_count": 57,
     "metadata": {},
     "output_type": "execute_result"
    }
   ],
   "source": [
    "a.dtype"
   ]
  },
  {
   "cell_type": "code",
   "execution_count": 63,
   "id": "6dfeb06a-9590-49f2-80df-1e09b5b8b8d8",
   "metadata": {},
   "outputs": [
    {
     "data": {
      "text/plain": [
       "array([1, 2, 3, 4, 5, 6], dtype=int32)"
      ]
     },
     "execution_count": 63,
     "metadata": {},
     "output_type": "execute_result"
    }
   ],
   "source": [
    "# astype\n",
    "# this function is used to change the data type of the col for eg if we have age column having  size of 8 but normaly age is in between 1 to 120 \n",
    "# it can fit in 4byte as well. so in large data set if we use this function hepls in reducing data size\n",
    "\n",
    "s = a.astype(np.int32)\n",
    "s"
   ]
  },
  {
   "cell_type": "code",
   "execution_count": 64,
   "id": "64fd3dd5-765b-415a-a5ff-b95966f50bb5",
   "metadata": {},
   "outputs": [
    {
     "data": {
      "text/plain": [
       "dtype('int32')"
      ]
     },
     "execution_count": 64,
     "metadata": {},
     "output_type": "execute_result"
    }
   ],
   "source": [
    "s.dtype"
   ]
  },
  {
   "cell_type": "code",
   "execution_count": 65,
   "id": "f674561b-fb26-412a-9df8-ce11292da395",
   "metadata": {},
   "outputs": [
    {
     "data": {
      "text/plain": [
       "4"
      ]
     },
     "execution_count": 65,
     "metadata": {},
     "output_type": "execute_result"
    }
   ],
   "source": [
    "s.itemsize"
   ]
  },
  {
   "cell_type": "markdown",
   "id": "13f5eb50-0ba0-4933-86d3-e38bd7ab576c",
   "metadata": {},
   "source": [
    "# Arithmatic Operations"
   ]
  },
  {
   "cell_type": "code",
   "execution_count": 3,
   "id": "0a374851-7bc1-4ec4-bd2b-2953146cd425",
   "metadata": {},
   "outputs": [],
   "source": [
    "import numpy as np\n",
    "a1 = np.array([1,2,3,4])\n",
    "a4 = np.array([5,6,7,8])\n",
    "a2 = np.arange(1,13).reshape(3,4)\n",
    "a3 = np.ones((3,3), dtype=int) "
   ]
  },
  {
   "cell_type": "code",
   "execution_count": 16,
   "id": "ac96c155-ba08-4e07-b45f-f19904e92d49",
   "metadata": {},
   "outputs": [
    {
     "name": "stdout",
     "output_type": "stream",
     "text": [
      "[1 2 3 4] \n",
      " [[ 1  2  3  4]\n",
      " [ 5  6  7  8]\n",
      " [ 9 10 11 12]]\n"
     ]
    },
    {
     "data": {
      "text/plain": [
       "array([[ 2,  4,  6,  8],\n",
       "       [ 6,  8, 10, 12],\n",
       "       [10, 12, 14, 16]])"
      ]
     },
     "execution_count": 16,
     "metadata": {},
     "output_type": "execute_result"
    }
   ],
   "source": [
    "print(a1,'\\n',a2)\n",
    "a1 + a2  # vector opeation "
   ]
  },
  {
   "cell_type": "code",
   "execution_count": 17,
   "id": "ee3f205c-2e5a-4717-a517-03cf19bdbdf8",
   "metadata": {},
   "outputs": [
    {
     "data": {
      "text/plain": [
       "array([[  1,   4,   9,  16],\n",
       "       [ 25,  36,  49,  64],\n",
       "       [ 81, 100, 121, 144]])"
      ]
     },
     "execution_count": 17,
     "metadata": {},
     "output_type": "execute_result"
    }
   ],
   "source": [
    "a2 * a2"
   ]
  },
  {
   "cell_type": "code",
   "execution_count": 18,
   "id": "3367579e-1bfc-4a6e-9617-24ff01da5825",
   "metadata": {},
   "outputs": [
    {
     "data": {
      "text/plain": [
       "array([[1.        , 1.        , 1.        , 1.        ],\n",
       "       [5.        , 3.        , 2.33333333, 2.        ],\n",
       "       [9.        , 5.        , 3.66666667, 3.        ]])"
      ]
     },
     "execution_count": 18,
     "metadata": {},
     "output_type": "execute_result"
    }
   ],
   "source": [
    "a2/a1"
   ]
  },
  {
   "cell_type": "code",
   "execution_count": 19,
   "id": "972d772b-9106-4a4d-a0f1-66b8dc325f6e",
   "metadata": {},
   "outputs": [
    {
     "data": {
      "text/plain": [
       "array([[0, 0, 0, 0],\n",
       "       [4, 4, 4, 4],\n",
       "       [8, 8, 8, 8]])"
      ]
     },
     "execution_count": 19,
     "metadata": {},
     "output_type": "execute_result"
    }
   ],
   "source": [
    "a2-a1"
   ]
  },
  {
   "cell_type": "code",
   "execution_count": 20,
   "id": "9b74489c-d81b-4705-9e8f-13f18b354aa4",
   "metadata": {},
   "outputs": [
    {
     "data": {
      "text/plain": [
       "array([[ 0,  1,  2,  3],\n",
       "       [ 4,  5,  6,  7],\n",
       "       [ 8,  9, 10, 11]])"
      ]
     },
     "execution_count": 20,
     "metadata": {},
     "output_type": "execute_result"
    }
   ],
   "source": [
    "a2-1 # scaler "
   ]
  },
  {
   "cell_type": "markdown",
   "id": "dc8c50b0-bdf1-4471-a645-5e2ac5fb2764",
   "metadata": {},
   "source": [
    "# Array Function\n",
    "### min max sum prod \n",
    "#### if you want to calculate the row wise, add parameter axis=1 for row by default it is 0"
   ]
  },
  {
   "cell_type": "code",
   "execution_count": 5,
   "id": "6fe1deff-41f6-4106-b05c-c4fbdffa4aca",
   "metadata": {},
   "outputs": [
    {
     "data": {
      "text/plain": [
       "array([[ 1,  2,  3,  4],\n",
       "       [ 5,  6,  7,  8],\n",
       "       [ 9, 10, 11, 12]])"
      ]
     },
     "execution_count": 5,
     "metadata": {},
     "output_type": "execute_result"
    }
   ],
   "source": [
    "a2"
   ]
  },
  {
   "cell_type": "code",
   "execution_count": 10,
   "id": "b282616c-1afb-4af1-a73d-ab41c126d34e",
   "metadata": {},
   "outputs": [
    {
     "name": "stdout",
     "output_type": "stream",
     "text": [
      "1\n"
     ]
    }
   ],
   "source": [
    "print(np.min(a1))"
   ]
  },
  {
   "cell_type": "code",
   "execution_count": 8,
   "id": "cc5ed0d6-a48a-408b-9961-c9d443e27f14",
   "metadata": {},
   "outputs": [
    {
     "name": "stdout",
     "output_type": "stream",
     "text": [
      "[1 5 9]\n"
     ]
    }
   ],
   "source": [
    "print(np.min(a2, axis=1))"
   ]
  },
  {
   "cell_type": "code",
   "execution_count": 9,
   "id": "a369b70e-08ed-414d-a055-e299f869370a",
   "metadata": {},
   "outputs": [
    {
     "name": "stdout",
     "output_type": "stream",
     "text": [
      "[1 2 3 4]\n"
     ]
    }
   ],
   "source": [
    "print(np.min(a2, axis=0))"
   ]
  },
  {
   "cell_type": "code",
   "execution_count": 26,
   "id": "ca679e6c-e67c-49ba-9512-1d3457f4004f",
   "metadata": {},
   "outputs": [
    {
     "name": "stdout",
     "output_type": "stream",
     "text": [
      "4\n"
     ]
    }
   ],
   "source": [
    "print(np.max(a1))"
   ]
  },
  {
   "cell_type": "code",
   "execution_count": 11,
   "id": "b30818ad-8110-48a0-9d14-3d3bb84f8947",
   "metadata": {},
   "outputs": [
    {
     "name": "stdout",
     "output_type": "stream",
     "text": [
      "[   24  1680 11880]\n"
     ]
    }
   ],
   "source": [
    "print(np.prod(a2, axis=1))"
   ]
  },
  {
   "cell_type": "code",
   "execution_count": 30,
   "id": "50d6c382-4c1e-42ad-aba8-63b87f006a65",
   "metadata": {},
   "outputs": [
    {
     "name": "stdout",
     "output_type": "stream",
     "text": [
      "12\n"
     ]
    }
   ],
   "source": [
    "print(np.sum(a3))"
   ]
  },
  {
   "cell_type": "markdown",
   "id": "f725960c-9d4b-4579-89fd-c7c052244349",
   "metadata": {},
   "source": [
    "### mean median std var"
   ]
  },
  {
   "cell_type": "code",
   "execution_count": 33,
   "id": "6cbb6a4c-f517-4dc1-8732-6ea0efda9000",
   "metadata": {},
   "outputs": [
    {
     "name": "stdout",
     "output_type": "stream",
     "text": [
      "2.5\n"
     ]
    }
   ],
   "source": [
    "print(np.mean(a1))"
   ]
  },
  {
   "cell_type": "code",
   "execution_count": 34,
   "id": "d77fd14d-9a2e-4793-bc7d-23c356622a22",
   "metadata": {},
   "outputs": [
    {
     "name": "stdout",
     "output_type": "stream",
     "text": [
      "6.5\n"
     ]
    }
   ],
   "source": [
    "print(np.mean(a2))"
   ]
  },
  {
   "cell_type": "code",
   "execution_count": 36,
   "id": "de6882ad-543c-441d-a5e5-af497c2126df",
   "metadata": {},
   "outputs": [
    {
     "name": "stdout",
     "output_type": "stream",
     "text": [
      "6.5\n"
     ]
    }
   ],
   "source": [
    "print(np.median(a2))"
   ]
  },
  {
   "cell_type": "code",
   "execution_count": 37,
   "id": "5a0c8e5c-354c-4510-bc9a-3ea041720d75",
   "metadata": {},
   "outputs": [
    {
     "data": {
      "text/plain": [
       "np.float64(11.916666666666666)"
      ]
     },
     "execution_count": 37,
     "metadata": {},
     "output_type": "execute_result"
    }
   ],
   "source": [
    "np.var(a2)  # variance"
   ]
  },
  {
   "cell_type": "code",
   "execution_count": 38,
   "id": "8a45de70-7084-4244-948d-ab027dccfc07",
   "metadata": {},
   "outputs": [
    {
     "name": "stdout",
     "output_type": "stream",
     "text": [
      "3.452052529534663\n"
     ]
    }
   ],
   "source": [
    "print(np.std(a2))"
   ]
  },
  {
   "cell_type": "markdown",
   "id": "a20b64ed-67fc-46f3-b995-0a8464edd7ae",
   "metadata": {},
   "source": [
    "## Log exp"
   ]
  },
  {
   "cell_type": "code",
   "execution_count": 40,
   "id": "24a9e3ca-fec3-41c8-9c6c-700443435e61",
   "metadata": {},
   "outputs": [
    {
     "data": {
      "text/plain": [
       "array([0.        , 0.69314718, 1.09861229, 1.38629436])"
      ]
     },
     "execution_count": 40,
     "metadata": {},
     "output_type": "execute_result"
    }
   ],
   "source": [
    "np.log(a1)"
   ]
  },
  {
   "cell_type": "code",
   "execution_count": 41,
   "id": "367f504e-05a9-413d-825a-2f0090c0fd79",
   "metadata": {},
   "outputs": [
    {
     "data": {
      "text/plain": [
       "array([[0.        , 0.69314718, 1.09861229, 1.38629436],\n",
       "       [1.60943791, 1.79175947, 1.94591015, 2.07944154],\n",
       "       [2.19722458, 2.30258509, 2.39789527, 2.48490665]])"
      ]
     },
     "execution_count": 41,
     "metadata": {},
     "output_type": "execute_result"
    }
   ],
   "source": [
    "np.log(a2)"
   ]
  },
  {
   "cell_type": "code",
   "execution_count": 42,
   "id": "a34219f9-0214-4644-8b1e-8a9e8625f14d",
   "metadata": {},
   "outputs": [
    {
     "data": {
      "text/plain": [
       "array([ 2.71828183,  7.3890561 , 20.08553692, 54.59815003])"
      ]
     },
     "execution_count": 42,
     "metadata": {},
     "output_type": "execute_result"
    }
   ],
   "source": [
    "np.exp(a1)"
   ]
  },
  {
   "cell_type": "code",
   "execution_count": 43,
   "id": "9b7ca19b-1451-41ad-b025-34f686445310",
   "metadata": {},
   "outputs": [
    {
     "data": {
      "text/plain": [
       "array([[2.71828183e+00, 7.38905610e+00, 2.00855369e+01, 5.45981500e+01],\n",
       "       [1.48413159e+02, 4.03428793e+02, 1.09663316e+03, 2.98095799e+03],\n",
       "       [8.10308393e+03, 2.20264658e+04, 5.98741417e+04, 1.62754791e+05]])"
      ]
     },
     "execution_count": 43,
     "metadata": {},
     "output_type": "execute_result"
    }
   ],
   "source": [
    "np.exp(a2)"
   ]
  },
  {
   "cell_type": "code",
   "execution_count": 15,
   "id": "f4beaf18-3014-467b-a745-3aed0dc97dcb",
   "metadata": {},
   "outputs": [
    {
     "data": {
      "text/plain": [
       "array([[0.66112735, 0.64394184, 0.09672201],\n",
       "       [0.43409287, 0.20141561, 0.93539223],\n",
       "       [0.88457781, 0.2206706 , 0.25117556]])"
      ]
     },
     "execution_count": 15,
     "metadata": {},
     "output_type": "execute_result"
    }
   ],
   "source": [
    "ran = np.random.random((3,3))\n",
    "ran"
   ]
  },
  {
   "cell_type": "markdown",
   "id": "d0119c22-4cc1-426d-b889-696e62cd0900",
   "metadata": {},
   "source": [
    "## floor round ceil"
   ]
  },
  {
   "cell_type": "code",
   "execution_count": 17,
   "id": "5cb4efc9-4c9e-470b-9c98-3e2ecde421c2",
   "metadata": {},
   "outputs": [
    {
     "data": {
      "text/plain": [
       "array([[0., 0., 0.],\n",
       "       [0., 0., 0.],\n",
       "       [0., 0., 0.]])"
      ]
     },
     "execution_count": 17,
     "metadata": {},
     "output_type": "execute_result"
    }
   ],
   "source": [
    "# floor function roung off the floting point value and give the value before the decimal point only\n",
    "np.floor(ran)"
   ]
  },
  {
   "cell_type": "code",
   "execution_count": 16,
   "id": "9e658d8d-eda0-4b29-9444-97f9ebbe0bfb",
   "metadata": {},
   "outputs": [
    {
     "name": "stdout",
     "output_type": "stream",
     "text": [
      "6.0\n"
     ]
    },
    {
     "data": {
      "text/plain": [
       "array([[1., 1., 1.],\n",
       "       [1., 1., 1.],\n",
       "       [1., 1., 1.]])"
      ]
     },
     "execution_count": 16,
     "metadata": {},
     "output_type": "execute_result"
    }
   ],
   "source": [
    "# ceil() functiont gives next value leavig the decimal points \n",
    "print(np.ceil(5.2))\n",
    "np.ceil(ran)"
   ]
  },
  {
   "cell_type": "code",
   "execution_count": 20,
   "id": "ce00b435-64aa-4298-9b4e-71b5786ee6f7",
   "metadata": {},
   "outputs": [
    {
     "name": "stdout",
     "output_type": "stream",
     "text": [
      "6.0\n"
     ]
    },
    {
     "data": {
      "text/plain": [
       "array([[1., 1., 0.],\n",
       "       [0., 0., 1.],\n",
       "       [1., 0., 0.]])"
      ]
     },
     "execution_count": 20,
     "metadata": {},
     "output_type": "execute_result"
    }
   ],
   "source": [
    "# the round() give the next value if it is more than .5 and give before value if less than .5 \n",
    "print(np.round(5.7))\n",
    "np.round(ran)"
   ]
  },
  {
   "cell_type": "code",
   "execution_count": 55,
   "id": "75bf5bed-9178-4bab-8f8d-ba7323954aca",
   "metadata": {},
   "outputs": [
    {
     "data": {
      "text/plain": [
       "array([[1.56990791, 1.53278782, 1.15028206],\n",
       "       [1.56990791, 1.53278782, 1.15028206],\n",
       "       [1.56990791, 1.53278782, 1.15028206]])"
      ]
     },
     "execution_count": 55,
     "metadata": {},
     "output_type": "execute_result"
    }
   ],
   "source": [
    "np.dot(a3, ran) # dot product is possible if the rows and col are of same size of both matrix"
   ]
  },
  {
   "cell_type": "markdown",
   "id": "95b9b7c4-d9fd-4064-9fc5-49b9d29a0f1c",
   "metadata": {},
   "source": [
    "# Indexing and  Slicing "
   ]
  },
  {
   "cell_type": "code",
   "execution_count": 21,
   "id": "4008aae0-bbe2-41d1-af11-406e8cf2b0ae",
   "metadata": {},
   "outputs": [],
   "source": [
    "a1 = np.arange(10)\n",
    "a2 = np.arange(12).reshape(3,4)\n",
    "a3 = np.arange(8).reshape(2,2,2)"
   ]
  },
  {
   "cell_type": "code",
   "execution_count": 23,
   "id": "9d422f95-2a58-400c-983d-72a25c8bba8e",
   "metadata": {},
   "outputs": [
    {
     "data": {
      "text/plain": [
       "array([0, 1, 2, 3, 4, 5, 6, 7, 8, 9])"
      ]
     },
     "execution_count": 23,
     "metadata": {},
     "output_type": "execute_result"
    }
   ],
   "source": [
    "a1"
   ]
  },
  {
   "cell_type": "code",
   "execution_count": 29,
   "id": "c132e680-81bf-44bf-ab90-e3424058a89e",
   "metadata": {},
   "outputs": [
    {
     "name": "stdout",
     "output_type": "stream",
     "text": [
      "9\n"
     ]
    }
   ],
   "source": [
    "print(a1[-1]) # works same as like list in python "
   ]
  },
  {
   "cell_type": "code",
   "execution_count": 30,
   "id": "b559f828-d07e-4d28-9a4e-fa1ce1534633",
   "metadata": {},
   "outputs": [
    {
     "data": {
      "text/plain": [
       "array([[ 0,  1,  2,  3],\n",
       "       [ 4,  5,  6,  7],\n",
       "       [ 8,  9, 10, 11]])"
      ]
     },
     "execution_count": 30,
     "metadata": {},
     "output_type": "execute_result"
    }
   ],
   "source": [
    "a2"
   ]
  },
  {
   "cell_type": "code",
   "execution_count": 36,
   "id": "f84700d2-9739-440e-8b91-f44c7fd607be",
   "metadata": {},
   "outputs": [
    {
     "name": "stdout",
     "output_type": "stream",
     "text": [
      "11\n",
      "11\n"
     ]
    }
   ],
   "source": [
    "print(a2[2][-1]) # works same as the list in python \n",
    "print(a2[2,-1]) # in single list "
   ]
  },
  {
   "cell_type": "code",
   "execution_count": 39,
   "id": "dc058830-74c3-443f-8874-adc45a3b7590",
   "metadata": {},
   "outputs": [
    {
     "data": {
      "text/plain": [
       "array([[[0, 1],\n",
       "        [2, 3]],\n",
       "\n",
       "       [[4, 5],\n",
       "        [6, 7]]])"
      ]
     },
     "execution_count": 39,
     "metadata": {},
     "output_type": "execute_result"
    }
   ],
   "source": [
    "a3"
   ]
  },
  {
   "cell_type": "code",
   "execution_count": 38,
   "id": "30fad6a3-f587-49dc-9d7f-130a95b7bf28",
   "metadata": {},
   "outputs": [
    {
     "name": "stdout",
     "output_type": "stream",
     "text": [
      "4\n"
     ]
    }
   ],
   "source": [
    "print(a3[1,0,0])"
   ]
  },
  {
   "cell_type": "code",
   "execution_count": 40,
   "id": "c167cb18-832d-4b08-88a3-5713ffa436e9",
   "metadata": {},
   "outputs": [
    {
     "name": "stdout",
     "output_type": "stream",
     "text": [
      "7\n"
     ]
    }
   ],
   "source": [
    "print(a3[-1,-1,-1])"
   ]
  },
  {
   "cell_type": "code",
   "execution_count": 42,
   "id": "f0f54baa-6183-4653-9bd3-58b26aada38d",
   "metadata": {},
   "outputs": [
    {
     "name": "stdout",
     "output_type": "stream",
     "text": [
      "[0 1 2]\n"
     ]
    }
   ],
   "source": [
    "# Slicing \n",
    "print(a1[0:3])"
   ]
  },
  {
   "cell_type": "code",
   "execution_count": 43,
   "id": "10c5da36-1782-4966-b87c-c166c8c34cdf",
   "metadata": {},
   "outputs": [
    {
     "data": {
      "text/plain": [
       "array([[ 0,  1,  2,  3],\n",
       "       [ 4,  5,  6,  7],\n",
       "       [ 8,  9, 10, 11]])"
      ]
     },
     "execution_count": 43,
     "metadata": {},
     "output_type": "execute_result"
    }
   ],
   "source": [
    "a2"
   ]
  },
  {
   "cell_type": "code",
   "execution_count": 48,
   "id": "d5f64935-2c78-4bb2-8a07-079da8bc4ab1",
   "metadata": {},
   "outputs": [
    {
     "name": "stdout",
     "output_type": "stream",
     "text": [
      "[[ 0  2]\n",
      " [ 4  6]\n",
      " [ 8 10]]\n"
     ]
    }
   ],
   "source": [
    "print(a2[:,::2]) # here [start:end:steps, start:end:steps] the first parameter is for row and the second is for cols"
   ]
  },
  {
   "cell_type": "code",
   "execution_count": 53,
   "id": "ed93935c-4494-4fa4-8512-57a3e932cfce",
   "metadata": {},
   "outputs": [
    {
     "name": "stdout",
     "output_type": "stream",
     "text": [
      "[[ 1  3]\n",
      " [ 9 11]]\n"
     ]
    }
   ],
   "source": [
    "print(a2[::2, 1::2])"
   ]
  },
  {
   "cell_type": "code",
   "execution_count": 58,
   "id": "5e7795d0-0986-4bd9-a7df-fe003bb43842",
   "metadata": {},
   "outputs": [
    {
     "name": "stdout",
     "output_type": "stream",
     "text": [
      "[[1 2 3]\n",
      " [5 6 7]]\n"
     ]
    }
   ],
   "source": [
    "print(a2[:2,1:])"
   ]
  },
  {
   "cell_type": "code",
   "execution_count": 55,
   "id": "1e2928ea-cca8-4eef-a7d1-f2d0d12a4b9b",
   "metadata": {},
   "outputs": [
    {
     "name": "stdout",
     "output_type": "stream",
     "text": [
      "[[4 7]]\n"
     ]
    }
   ],
   "source": [
    "print(a2[1:2,0::3])"
   ]
  },
  {
   "cell_type": "code",
   "execution_count": 52,
   "id": "2c5e069a-d071-49bb-935c-084e544ecef0",
   "metadata": {},
   "outputs": [
    {
     "data": {
      "text/plain": [
       "array([[[0, 1],\n",
       "        [2, 3]],\n",
       "\n",
       "       [[4, 5],\n",
       "        [6, 7]]])"
      ]
     },
     "execution_count": 52,
     "metadata": {},
     "output_type": "execute_result"
    }
   ],
   "source": [
    "a3"
   ]
  },
  {
   "cell_type": "code",
   "execution_count": 61,
   "id": "58658c12-52e6-4d8d-bb34-4c9438dd2e1b",
   "metadata": {},
   "outputs": [
    {
     "data": {
      "text/plain": [
       "array([[[ 0,  1,  2],\n",
       "        [ 3,  4,  5],\n",
       "        [ 6,  7,  8]],\n",
       "\n",
       "       [[ 9, 10, 11],\n",
       "        [12, 13, 14],\n",
       "        [15, 16, 17]],\n",
       "\n",
       "       [[18, 19, 20],\n",
       "        [21, 22, 23],\n",
       "        [24, 25, 26]]])"
      ]
     },
     "execution_count": 61,
     "metadata": {},
     "output_type": "execute_result"
    }
   ],
   "source": [
    "a4 = np.arange(27).reshape(3,3,3)\n",
    "a4"
   ]
  },
  {
   "cell_type": "code",
   "execution_count": 63,
   "id": "f9637994-d5cb-45cf-a681-1a06f15e4e1c",
   "metadata": {},
   "outputs": [
    {
     "name": "stdout",
     "output_type": "stream",
     "text": [
      "[[ 9 10 11]\n",
      " [12 13 14]\n",
      " [15 16 17]]\n"
     ]
    }
   ],
   "source": [
    "print(a4[1])"
   ]
  },
  {
   "cell_type": "code",
   "execution_count": 64,
   "id": "22160e42-75dd-4501-b901-d7e4fb6e8519",
   "metadata": {},
   "outputs": [
    {
     "data": {
      "text/plain": [
       "array([[[ 0,  1,  2],\n",
       "        [ 3,  4,  5],\n",
       "        [ 6,  7,  8]],\n",
       "\n",
       "       [[18, 19, 20],\n",
       "        [21, 22, 23],\n",
       "        [24, 25, 26]]])"
      ]
     },
     "execution_count": 64,
     "metadata": {},
     "output_type": "execute_result"
    }
   ],
   "source": [
    "a4[0::2]"
   ]
  },
  {
   "cell_type": "code",
   "execution_count": 70,
   "id": "849ff17b-f957-47b3-9fb1-bf0ee516a719",
   "metadata": {},
   "outputs": [
    {
     "name": "stdout",
     "output_type": "stream",
     "text": [
      "[3 4 5]\n"
     ]
    }
   ],
   "source": [
    "a4[0][1]\n",
    "print(a4[0,1])"
   ]
  },
  {
   "cell_type": "code",
   "execution_count": 76,
   "id": "8176eab3-c8ba-4d8f-969b-ce4d0668f075",
   "metadata": {},
   "outputs": [
    {
     "name": "stdout",
     "output_type": "stream",
     "text": [
      "[[10]\n",
      " [13]\n",
      " [16]]\n"
     ]
    },
    {
     "data": {
      "text/plain": [
       "array([10, 13, 16])"
      ]
     },
     "execution_count": 76,
     "metadata": {},
     "output_type": "execute_result"
    }
   ],
   "source": [
    "print(a4[1][::, 1:2])\n",
    "a4[1,:,1]  # [element ::, rows::, cols::]"
   ]
  },
  {
   "cell_type": "code",
   "execution_count": 77,
   "id": "2082f485-1510-4031-8cac-9b3543684c75",
   "metadata": {},
   "outputs": [
    {
     "data": {
      "text/plain": [
       "array([[22, 23],\n",
       "       [25, 26]])"
      ]
     },
     "execution_count": 77,
     "metadata": {},
     "output_type": "execute_result"
    }
   ],
   "source": [
    "a4[2,1:,1:]"
   ]
  },
  {
   "cell_type": "code",
   "execution_count": 81,
   "id": "3cb4caaa-2070-4bed-9552-53380a70c4c8",
   "metadata": {},
   "outputs": [
    {
     "data": {
      "text/plain": [
       "array([[ 0,  2],\n",
       "       [18, 20]])"
      ]
     },
     "execution_count": 81,
     "metadata": {},
     "output_type": "execute_result"
    }
   ],
   "source": [
    "a4[::2,0,::2]  #[select the items in 3d list, number of rows which are required, number of column required]\n",
    "               #[select all having step count 2, number of row which is 0 , column all having step 2]"
   ]
  },
  {
   "cell_type": "markdown",
   "id": "9f47686a-2d53-47b2-a8f0-f7c9f6a6ebd9",
   "metadata": {},
   "source": [
    "# Iteration\n",
    "## nditer()\n",
    "#### this function iterate through all the items in the array"
   ]
  },
  {
   "cell_type": "code",
   "execution_count": 92,
   "id": "9d77a169-ee65-4223-a97e-7b58da3d2be5",
   "metadata": {},
   "outputs": [
    {
     "name": "stdout",
     "output_type": "stream",
     "text": [
      "0\n",
      "1\n",
      "2\n",
      "3\n",
      "4\n",
      "5\n",
      "6\n",
      "7\n",
      "8\n",
      "9\n"
     ]
    }
   ],
   "source": [
    "for i in a1:\n",
    "    print(i)"
   ]
  },
  {
   "cell_type": "code",
   "execution_count": 87,
   "id": "4603796a-92a1-4b1f-b943-3c8a94870569",
   "metadata": {},
   "outputs": [
    {
     "name": "stdout",
     "output_type": "stream",
     "text": [
      "[0 1 2 3]\n",
      "[4 5 6 7]\n",
      "[ 8  9 10 11]\n"
     ]
    }
   ],
   "source": [
    "for i in a2:\n",
    "    print(i)"
   ]
  },
  {
   "cell_type": "code",
   "execution_count": 88,
   "id": "c3af983b-4095-44e7-b991-1f611c9ef813",
   "metadata": {},
   "outputs": [
    {
     "name": "stdout",
     "output_type": "stream",
     "text": [
      "[[0 1]\n",
      " [2 3]]\n",
      "[[4 5]\n",
      " [6 7]]\n"
     ]
    }
   ],
   "source": [
    "for i in a3:\n",
    "    print(i)"
   ]
  },
  {
   "cell_type": "code",
   "execution_count": 86,
   "id": "271958ca-b47c-4782-a93d-f9b6ffd96b01",
   "metadata": {},
   "outputs": [
    {
     "data": {
      "text/plain": [
       "array([[ 0,  1,  2,  3],\n",
       "       [ 4,  5,  6,  7],\n",
       "       [ 8,  9, 10, 11]])"
      ]
     },
     "execution_count": 86,
     "metadata": {},
     "output_type": "execute_result"
    }
   ],
   "source": [
    "a2"
   ]
  },
  {
   "cell_type": "code",
   "execution_count": 89,
   "id": "a3914f56-a17f-41e7-a6b6-4c04264f84a5",
   "metadata": {},
   "outputs": [
    {
     "name": "stdout",
     "output_type": "stream",
     "text": [
      "0\n",
      "1\n",
      "2\n",
      "3\n",
      "4\n",
      "5\n",
      "6\n",
      "7\n",
      "8\n",
      "9\n",
      "10\n",
      "11\n"
     ]
    }
   ],
   "source": [
    "for i in np.nditer(a2):\n",
    "    print(i)"
   ]
  },
  {
   "cell_type": "code",
   "execution_count": 91,
   "id": "c843cb7d-1ddc-4bac-883a-76d8a89cd162",
   "metadata": {},
   "outputs": [
    {
     "name": "stdout",
     "output_type": "stream",
     "text": [
      "0\n",
      "1\n",
      "2\n",
      "3\n",
      "4\n",
      "5\n",
      "6\n",
      "7\n"
     ]
    }
   ],
   "source": [
    "for i in np.nditer(a3):\n",
    "    print(i)"
   ]
  },
  {
   "cell_type": "markdown",
   "id": "4ec2d5fd-78ab-44a4-88da-708c9e29fbf5",
   "metadata": {},
   "source": [
    "# Reshaping\n",
    "### this include reshape(), transpose() and ravel() function"
   ]
  },
  {
   "cell_type": "code",
   "execution_count": 93,
   "id": "9420c91d-4f83-4e27-9f39-9ef3dee94bbb",
   "metadata": {},
   "outputs": [
    {
     "data": {
      "text/plain": [
       "array([[ 0,  1,  2,  3],\n",
       "       [ 4,  5,  6,  7],\n",
       "       [ 8,  9, 10, 11]])"
      ]
     },
     "execution_count": 93,
     "metadata": {},
     "output_type": "execute_result"
    }
   ],
   "source": [
    "# transpose()\n",
    "# this function os used to transpose the matrix i.e row to col and col to rows\n",
    "a2"
   ]
  },
  {
   "cell_type": "code",
   "execution_count": 94,
   "id": "3030bfe6-2b7f-4fac-b6e7-de77b35e9006",
   "metadata": {},
   "outputs": [
    {
     "data": {
      "text/plain": [
       "array([[ 0,  4,  8],\n",
       "       [ 1,  5,  9],\n",
       "       [ 2,  6, 10],\n",
       "       [ 3,  7, 11]])"
      ]
     },
     "execution_count": 94,
     "metadata": {},
     "output_type": "execute_result"
    }
   ],
   "source": [
    "a2.transpose()"
   ]
  },
  {
   "cell_type": "code",
   "execution_count": 95,
   "id": "f7057aaa-d5ef-4e15-bacc-bc44eb6e995b",
   "metadata": {},
   "outputs": [
    {
     "data": {
      "text/plain": [
       "array([ 0,  1,  2,  3,  4,  5,  6,  7,  8,  9, 10, 11])"
      ]
     },
     "execution_count": 95,
     "metadata": {},
     "output_type": "execute_result"
    }
   ],
   "source": [
    "# ravel\n",
    "# this fuction retun the array list of all elements in all types of array\n",
    "\n",
    "a2.ravel()"
   ]
  },
  {
   "cell_type": "code",
   "execution_count": 96,
   "id": "94102f44-e570-41ea-a298-c3ba80cb21a0",
   "metadata": {},
   "outputs": [
    {
     "data": {
      "text/plain": [
       "array([0, 1, 2, 3, 4, 5, 6, 7])"
      ]
     },
     "execution_count": 96,
     "metadata": {},
     "output_type": "execute_result"
    }
   ],
   "source": [
    "a3.ravel()"
   ]
  },
  {
   "cell_type": "code",
   "execution_count": 97,
   "id": "76c84e25-ad6f-45e4-8ed2-af67f4e182cb",
   "metadata": {},
   "outputs": [
    {
     "data": {
      "text/plain": [
       "array([ 0,  1,  2,  3,  4,  5,  6,  7,  8,  9, 10, 11, 12, 13, 14, 15, 16,\n",
       "       17, 18, 19, 20, 21, 22, 23, 24, 25, 26])"
      ]
     },
     "execution_count": 97,
     "metadata": {},
     "output_type": "execute_result"
    }
   ],
   "source": [
    "a4.ravel()"
   ]
  },
  {
   "cell_type": "markdown",
   "id": "01530b28-a57f-4251-807c-62266076e52c",
   "metadata": {},
   "source": [
    "# Stacking\n",
    "#### used to join the two or more than to arrays in two different ways i.e vertical and horizontal"
   ]
  },
  {
   "cell_type": "code",
   "execution_count": 102,
   "id": "15d21f7a-bf11-4412-95df-8776280a4788",
   "metadata": {},
   "outputs": [
    {
     "data": {
      "text/plain": [
       "(array([[ 0,  1,  2,  3],\n",
       "        [ 4,  5,  6,  7],\n",
       "        [ 8,  9, 10, 11]]),\n",
       " array([[12, 13, 14, 15],\n",
       "        [16, 17, 18, 19],\n",
       "        [20, 21, 22, 23]]))"
      ]
     },
     "execution_count": 102,
     "metadata": {},
     "output_type": "execute_result"
    }
   ],
   "source": [
    "s1 = np.arange(12).reshape(3,4)\n",
    "s2 = np.arange(12,24).reshape(3,4)\n",
    "s1,s2"
   ]
  },
  {
   "cell_type": "code",
   "execution_count": 103,
   "id": "6bd01c87-4de0-43ea-94cb-bd40961620d3",
   "metadata": {},
   "outputs": [
    {
     "data": {
      "text/plain": [
       "array([[ 0,  1,  2,  3, 12, 13, 14, 15],\n",
       "       [ 4,  5,  6,  7, 16, 17, 18, 19],\n",
       "       [ 8,  9, 10, 11, 20, 21, 22, 23]])"
      ]
     },
     "execution_count": 103,
     "metadata": {},
     "output_type": "execute_result"
    }
   ],
   "source": [
    "# this function join the more than two arrays horizontally\n",
    "np.hstack((s1,s2)) "
   ]
  },
  {
   "cell_type": "code",
   "execution_count": 108,
   "id": "f12ddfab-8d72-4a10-beb8-87a574f31dbd",
   "metadata": {},
   "outputs": [
    {
     "data": {
      "text/plain": [
       "array([[ 0,  1,  2,  3],\n",
       "       [ 4,  5,  6,  7],\n",
       "       [ 8,  9, 10, 11],\n",
       "       [12, 13, 14, 15],\n",
       "       [16, 17, 18, 19],\n",
       "       [20, 21, 22, 23]])"
      ]
     },
     "execution_count": 108,
     "metadata": {},
     "output_type": "execute_result"
    }
   ],
   "source": [
    "# this function joins the array one above another \n",
    "s3 = np.vstack([s1,s2])\n",
    "s3"
   ]
  },
  {
   "cell_type": "markdown",
   "id": "a6ac12ec-c110-4d70-877e-44ce629f0c59",
   "metadata": {},
   "source": [
    "# Splitting\n",
    "### this function is the opposite of stacking i.e it split the arrayinto equal parts "
   ]
  },
  {
   "cell_type": "code",
   "execution_count": 109,
   "id": "14b2cf71-d364-4267-aedc-bdd503bf2342",
   "metadata": {},
   "outputs": [
    {
     "data": {
      "text/plain": [
       "[array([[ 0,  1],\n",
       "        [ 4,  5],\n",
       "        [ 8,  9],\n",
       "        [12, 13],\n",
       "        [16, 17],\n",
       "        [20, 21]]),\n",
       " array([[ 2,  3],\n",
       "        [ 6,  7],\n",
       "        [10, 11],\n",
       "        [14, 15],\n",
       "        [18, 19],\n",
       "        [22, 23]])]"
      ]
     },
     "execution_count": 109,
     "metadata": {},
     "output_type": "execute_result"
    }
   ],
   "source": [
    "np.hsplit(s3,2)"
   ]
  },
  {
   "cell_type": "code",
   "execution_count": 112,
   "id": "b24ed6d2-076f-4782-b841-f00da0ddb03f",
   "metadata": {},
   "outputs": [
    {
     "data": {
      "text/plain": [
       "[array([[0, 1, 2, 3],\n",
       "        [4, 5, 6, 7]]),\n",
       " array([[ 8,  9, 10, 11],\n",
       "        [12, 13, 14, 15]]),\n",
       " array([[16, 17, 18, 19],\n",
       "        [20, 21, 22, 23]])]"
      ]
     },
     "execution_count": 112,
     "metadata": {},
     "output_type": "execute_result"
    }
   ],
   "source": [
    "np.vsplit(s3, 3)"
   ]
  },
  {
   "cell_type": "code",
   "execution_count": null,
   "id": "c3fb4c85-a7b5-415a-83a4-c5e78d348bff",
   "metadata": {},
   "outputs": [],
   "source": []
  }
 ],
 "metadata": {
  "kernelspec": {
   "display_name": "Python 3 (ipykernel)",
   "language": "python",
   "name": "python3"
  },
  "language_info": {
   "codemirror_mode": {
    "name": "ipython",
    "version": 3
   },
   "file_extension": ".py",
   "mimetype": "text/x-python",
   "name": "python",
   "nbconvert_exporter": "python",
   "pygments_lexer": "ipython3",
   "version": "3.12.5"
  }
 },
 "nbformat": 4,
 "nbformat_minor": 5
}
